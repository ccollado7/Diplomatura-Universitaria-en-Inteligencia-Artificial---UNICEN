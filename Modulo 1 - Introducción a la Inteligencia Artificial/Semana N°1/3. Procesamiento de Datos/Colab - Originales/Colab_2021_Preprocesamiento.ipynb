{
  "nbformat": 4,
  "nbformat_minor": 0,
  "metadata": {
    "colab": {
      "name": "Colab 2021 - Preprocesamiento - Perspectiva Practica.ipynb",
      "provenance": [],
      "collapsed_sections": [
        "y0IfxgTwqhor",
        "IlSICMaUrRUH",
        "EmXdC9QGxzj_"
      ]
    },
    "kernelspec": {
      "name": "python3",
      "display_name": "Python 3"
    }
  },
  "cells": [
    {
      "cell_type": "markdown",
      "metadata": {
        "id": "y0IfxgTwqhor"
      },
      "source": [
        "# Acceso a conjunto de datos"
      ]
    },
    {
      "cell_type": "code",
      "metadata": {
        "id": "XJynR2q7aQHs"
      },
      "source": [
        "#hay que instalar ciertas versiones de biblioteca para que funcione pandas_profiling\n",
        "! pip install https://github.com/pandas-profiling/pandas-profiling/archive/master.zip\n",
        "#despues de correr esta celda apretar boton restart runtime si asi se indica"
      ],
      "execution_count": null,
      "outputs": []
    },
    {
      "cell_type": "code",
      "metadata": {
        "id": "fm5_C2nx5Mca"
      },
      "source": [
        "# soporte para cargar dataset de https://www.openml.org/\n",
        "!pip install openml\n",
        "import openml\n",
        "\n"
      ],
      "execution_count": null,
      "outputs": []
    },
    {
      "cell_type": "markdown",
      "metadata": {
        "id": "X2S9vbF95u0w"
      },
      "source": [
        "**Listar datasets de OpenML**"
      ]
    },
    {
      "cell_type": "code",
      "metadata": {
        "id": "KW2jVdSo5P56",
        "colab": {
          "base_uri": "https://localhost:8080/"
        },
        "outputId": "14db9cd5-a95d-4680-9ca4-9a0676f4ca8d"
      },
      "source": [
        "datasets_df = openml.datasets.list_datasets(output_format='dataframe')\n",
        "print(datasets_df.head(n=10))"
      ],
      "execution_count": null,
      "outputs": [
        {
          "output_type": "stream",
          "text": [
            "    did             name  ...  NumberOfNumericFeatures NumberOfSymbolicFeatures\n",
            "2     2           anneal  ...                      6.0                     33.0\n",
            "3     3         kr-vs-kp  ...                      0.0                     37.0\n",
            "4     4            labor  ...                      8.0                      9.0\n",
            "5     5       arrhythmia  ...                    206.0                     74.0\n",
            "6     6           letter  ...                     16.0                      1.0\n",
            "7     7        audiology  ...                      0.0                     70.0\n",
            "8     8  liver-disorders  ...                      6.0                      0.0\n",
            "9     9            autos  ...                     15.0                     11.0\n",
            "10   10            lymph  ...                      3.0                     16.0\n",
            "11   11    balance-scale  ...                      4.0                      1.0\n",
            "\n",
            "[10 rows x 16 columns]\n"
          ],
          "name": "stdout"
        }
      ]
    },
    {
      "cell_type": "markdown",
      "metadata": {
        "id": "z63vZ4i-6Cau"
      },
      "source": [
        "# **Descargar un dataset**"
      ]
    },
    {
      "cell_type": "code",
      "metadata": {
        "id": "6CGy1HR56HTr",
        "colab": {
          "base_uri": "https://localhost:8080/"
        },
        "outputId": "601813ce-6785-4f12-bfc7-632010a3b73b"
      },
      "source": [
        "# Iris dataset https://www.openml.org/d/61\n",
        "dataset = openml.datasets.get_dataset(61)\n",
        "\n",
        "\n",
        "# Print a summary\n",
        "print(f\"This is dataset '{dataset.name}', the target feature is \"\n",
        "      f\"'{dataset.default_target_attribute}'\")\n",
        "print(f\"URL: {dataset.url}\")\n",
        "print(dataset.description[:500])"
      ],
      "execution_count": null,
      "outputs": [
        {
          "output_type": "stream",
          "text": [
            "This is dataset 'iris', the target feature is 'class'\n",
            "URL: https://www.openml.org/data/v1/download/61/iris.arff\n",
            "**Author**: R.A. Fisher  \n",
            "**Source**: [UCI](https://archive.ics.uci.edu/ml/datasets/Iris) - 1936 - Donated by Michael Marshall  \n",
            "**Please cite**: [UCI Citation Policy](https://archive.ics.uci.edu/ml/citation_policy.html)  \n",
            "\n",
            "**Iris Plants Database**  \n",
            "This is perhaps the best known database to be found in the pattern recognition literature.  Fisher's paper is a classic in the field and is referenced frequently to this day.  (See Duda & Hart, for example.)  The data set contains 3 classes of 50 in\n"
          ],
          "name": "stdout"
        }
      ]
    },
    {
      "cell_type": "markdown",
      "metadata": {
        "id": "vMG3jl1C6xFA"
      },
      "source": [
        "**Obtener datos del dataset**"
      ]
    },
    {
      "cell_type": "code",
      "metadata": {
        "id": "6lYxan4R66ed"
      },
      "source": [
        "# X - An array/dataframe where each row represents one example with\n",
        "# the corresponding feature values.\n",
        "# y - the classes for each example\n",
        "# categorical_indicator - an array that indicates which feature is categorical\n",
        "# attribute_names - the names of the features for the examples (X) and\n",
        "# target feature (y)\n",
        "X, y, categorical_indicator, attribute_names = dataset.get_data(\n",
        "    dataset_format='dataframe',\n",
        "    target=dataset.default_target_attribute\n",
        ")\n",
        "\n"
      ],
      "execution_count": null,
      "outputs": []
    },
    {
      "cell_type": "code",
      "metadata": {
        "id": "UEWNr1CV2AWX",
        "colab": {
          "base_uri": "https://localhost:8080/"
        },
        "outputId": "26f60232-67d9-4e5e-9893-b4e50521522b"
      },
      "source": [
        "attribute_names"
      ],
      "execution_count": null,
      "outputs": [
        {
          "output_type": "execute_result",
          "data": {
            "text/plain": [
              "['sepallength', 'sepalwidth', 'petallength', 'petalwidth']"
            ]
          },
          "metadata": {
            "tags": []
          },
          "execution_count": 6
        }
      ]
    },
    {
      "cell_type": "code",
      "metadata": {
        "id": "LfAyL_y7sxtH"
      },
      "source": [
        "X"
      ],
      "execution_count": null,
      "outputs": []
    },
    {
      "cell_type": "code",
      "metadata": {
        "id": "kUJn50SztA7l",
        "colab": {
          "base_uri": "https://localhost:8080/"
        },
        "outputId": "68bfc006-3a28-45a1-baf3-39dd39bbe814"
      },
      "source": [
        "y"
      ],
      "execution_count": null,
      "outputs": [
        {
          "output_type": "execute_result",
          "data": {
            "text/plain": [
              "0         Iris-setosa\n",
              "1         Iris-setosa\n",
              "2         Iris-setosa\n",
              "3         Iris-setosa\n",
              "4         Iris-setosa\n",
              "            ...      \n",
              "145    Iris-virginica\n",
              "146    Iris-virginica\n",
              "147    Iris-virginica\n",
              "148    Iris-virginica\n",
              "149    Iris-virginica\n",
              "Name: class, Length: 150, dtype: category\n",
              "Categories (3, object): ['Iris-setosa' < 'Iris-versicolor' < 'Iris-virginica']"
            ]
          },
          "metadata": {
            "tags": []
          },
          "execution_count": 10
        }
      ]
    },
    {
      "cell_type": "code",
      "metadata": {
        "id": "doy_4M6ttIua",
        "colab": {
          "base_uri": "https://localhost:8080/",
          "height": 402
        },
        "outputId": "e13d0231-d32a-4f57-bc1c-ce5fbcd1845b"
      },
      "source": [
        "import pandas as pd\n",
        "\n",
        "combined_data = pd.concat([X, y], axis=1)\n",
        "combined_data"
      ],
      "execution_count": null,
      "outputs": [
        {
          "output_type": "execute_result",
          "data": {
            "text/html": [
              "<div>\n",
              "<style scoped>\n",
              "    .dataframe tbody tr th:only-of-type {\n",
              "        vertical-align: middle;\n",
              "    }\n",
              "\n",
              "    .dataframe tbody tr th {\n",
              "        vertical-align: top;\n",
              "    }\n",
              "\n",
              "    .dataframe thead th {\n",
              "        text-align: right;\n",
              "    }\n",
              "</style>\n",
              "<table border=\"1\" class=\"dataframe\">\n",
              "  <thead>\n",
              "    <tr style=\"text-align: right;\">\n",
              "      <th></th>\n",
              "      <th>sepallength</th>\n",
              "      <th>sepalwidth</th>\n",
              "      <th>petallength</th>\n",
              "      <th>petalwidth</th>\n",
              "      <th>class</th>\n",
              "    </tr>\n",
              "  </thead>\n",
              "  <tbody>\n",
              "    <tr>\n",
              "      <th>0</th>\n",
              "      <td>5.1</td>\n",
              "      <td>3.5</td>\n",
              "      <td>1.4</td>\n",
              "      <td>0.2</td>\n",
              "      <td>Iris-setosa</td>\n",
              "    </tr>\n",
              "    <tr>\n",
              "      <th>1</th>\n",
              "      <td>4.9</td>\n",
              "      <td>3.0</td>\n",
              "      <td>1.4</td>\n",
              "      <td>0.2</td>\n",
              "      <td>Iris-setosa</td>\n",
              "    </tr>\n",
              "    <tr>\n",
              "      <th>2</th>\n",
              "      <td>4.7</td>\n",
              "      <td>3.2</td>\n",
              "      <td>1.3</td>\n",
              "      <td>0.2</td>\n",
              "      <td>Iris-setosa</td>\n",
              "    </tr>\n",
              "    <tr>\n",
              "      <th>3</th>\n",
              "      <td>4.6</td>\n",
              "      <td>3.1</td>\n",
              "      <td>1.5</td>\n",
              "      <td>0.2</td>\n",
              "      <td>Iris-setosa</td>\n",
              "    </tr>\n",
              "    <tr>\n",
              "      <th>4</th>\n",
              "      <td>5.0</td>\n",
              "      <td>3.6</td>\n",
              "      <td>1.4</td>\n",
              "      <td>0.2</td>\n",
              "      <td>Iris-setosa</td>\n",
              "    </tr>\n",
              "    <tr>\n",
              "      <th>...</th>\n",
              "      <td>...</td>\n",
              "      <td>...</td>\n",
              "      <td>...</td>\n",
              "      <td>...</td>\n",
              "      <td>...</td>\n",
              "    </tr>\n",
              "    <tr>\n",
              "      <th>145</th>\n",
              "      <td>6.7</td>\n",
              "      <td>3.0</td>\n",
              "      <td>5.2</td>\n",
              "      <td>2.3</td>\n",
              "      <td>Iris-virginica</td>\n",
              "    </tr>\n",
              "    <tr>\n",
              "      <th>146</th>\n",
              "      <td>6.3</td>\n",
              "      <td>2.5</td>\n",
              "      <td>5.0</td>\n",
              "      <td>1.9</td>\n",
              "      <td>Iris-virginica</td>\n",
              "    </tr>\n",
              "    <tr>\n",
              "      <th>147</th>\n",
              "      <td>6.5</td>\n",
              "      <td>3.0</td>\n",
              "      <td>5.2</td>\n",
              "      <td>2.0</td>\n",
              "      <td>Iris-virginica</td>\n",
              "    </tr>\n",
              "    <tr>\n",
              "      <th>148</th>\n",
              "      <td>6.2</td>\n",
              "      <td>3.4</td>\n",
              "      <td>5.4</td>\n",
              "      <td>2.3</td>\n",
              "      <td>Iris-virginica</td>\n",
              "    </tr>\n",
              "    <tr>\n",
              "      <th>149</th>\n",
              "      <td>5.9</td>\n",
              "      <td>3.0</td>\n",
              "      <td>5.1</td>\n",
              "      <td>1.8</td>\n",
              "      <td>Iris-virginica</td>\n",
              "    </tr>\n",
              "  </tbody>\n",
              "</table>\n",
              "<p>150 rows × 5 columns</p>\n",
              "</div>"
            ],
            "text/plain": [
              "     sepallength  sepalwidth  petallength  petalwidth           class\n",
              "0            5.1         3.5          1.4         0.2     Iris-setosa\n",
              "1            4.9         3.0          1.4         0.2     Iris-setosa\n",
              "2            4.7         3.2          1.3         0.2     Iris-setosa\n",
              "3            4.6         3.1          1.5         0.2     Iris-setosa\n",
              "4            5.0         3.6          1.4         0.2     Iris-setosa\n",
              "..           ...         ...          ...         ...             ...\n",
              "145          6.7         3.0          5.2         2.3  Iris-virginica\n",
              "146          6.3         2.5          5.0         1.9  Iris-virginica\n",
              "147          6.5         3.0          5.2         2.0  Iris-virginica\n",
              "148          6.2         3.4          5.4         2.3  Iris-virginica\n",
              "149          5.9         3.0          5.1         1.8  Iris-virginica\n",
              "\n",
              "[150 rows x 5 columns]"
            ]
          },
          "metadata": {
            "tags": []
          },
          "execution_count": 7
        }
      ]
    },
    {
      "cell_type": "markdown",
      "metadata": {
        "id": "IlSICMaUrRUH"
      },
      "source": [
        "# Análisis exploratorio de datos"
      ]
    },
    {
      "cell_type": "markdown",
      "metadata": {
        "id": "C6nTV0v7zzVX"
      },
      "source": [
        "**Estadísticas del conjunto de datos (Dataframe)**\n",
        "Genera estadísticas descriptivas que resumen la tendencia central, la dispersión y la forma de la distribución de un conjunto de datos, excluyendo los valores de NaN."
      ]
    },
    {
      "cell_type": "code",
      "metadata": {
        "id": "OhH3dJqTyRo4",
        "colab": {
          "base_uri": "https://localhost:8080/",
          "height": 284
        },
        "outputId": "8d3a764e-6251-4dfa-c22c-ec690dd6c363"
      },
      "source": [
        "import pandas as pd\n",
        "\n",
        "combined_data = pd.concat([X, y], axis=1)\n",
        "combined_data.describe()"
      ],
      "execution_count": null,
      "outputs": [
        {
          "output_type": "execute_result",
          "data": {
            "text/html": [
              "<div>\n",
              "<style scoped>\n",
              "    .dataframe tbody tr th:only-of-type {\n",
              "        vertical-align: middle;\n",
              "    }\n",
              "\n",
              "    .dataframe tbody tr th {\n",
              "        vertical-align: top;\n",
              "    }\n",
              "\n",
              "    .dataframe thead th {\n",
              "        text-align: right;\n",
              "    }\n",
              "</style>\n",
              "<table border=\"1\" class=\"dataframe\">\n",
              "  <thead>\n",
              "    <tr style=\"text-align: right;\">\n",
              "      <th></th>\n",
              "      <th>sepallength</th>\n",
              "      <th>sepalwidth</th>\n",
              "      <th>petallength</th>\n",
              "      <th>petalwidth</th>\n",
              "    </tr>\n",
              "  </thead>\n",
              "  <tbody>\n",
              "    <tr>\n",
              "      <th>count</th>\n",
              "      <td>150.000000</td>\n",
              "      <td>150.000000</td>\n",
              "      <td>150.000000</td>\n",
              "      <td>150.000000</td>\n",
              "    </tr>\n",
              "    <tr>\n",
              "      <th>mean</th>\n",
              "      <td>5.843333</td>\n",
              "      <td>3.054000</td>\n",
              "      <td>3.758667</td>\n",
              "      <td>1.198667</td>\n",
              "    </tr>\n",
              "    <tr>\n",
              "      <th>std</th>\n",
              "      <td>0.828066</td>\n",
              "      <td>0.433594</td>\n",
              "      <td>1.764420</td>\n",
              "      <td>0.763161</td>\n",
              "    </tr>\n",
              "    <tr>\n",
              "      <th>min</th>\n",
              "      <td>4.300000</td>\n",
              "      <td>2.000000</td>\n",
              "      <td>1.000000</td>\n",
              "      <td>0.100000</td>\n",
              "    </tr>\n",
              "    <tr>\n",
              "      <th>25%</th>\n",
              "      <td>5.100000</td>\n",
              "      <td>2.800000</td>\n",
              "      <td>1.600000</td>\n",
              "      <td>0.300000</td>\n",
              "    </tr>\n",
              "    <tr>\n",
              "      <th>50%</th>\n",
              "      <td>5.800000</td>\n",
              "      <td>3.000000</td>\n",
              "      <td>4.350000</td>\n",
              "      <td>1.300000</td>\n",
              "    </tr>\n",
              "    <tr>\n",
              "      <th>75%</th>\n",
              "      <td>6.400000</td>\n",
              "      <td>3.300000</td>\n",
              "      <td>5.100000</td>\n",
              "      <td>1.800000</td>\n",
              "    </tr>\n",
              "    <tr>\n",
              "      <th>max</th>\n",
              "      <td>7.900000</td>\n",
              "      <td>4.400000</td>\n",
              "      <td>6.900000</td>\n",
              "      <td>2.500000</td>\n",
              "    </tr>\n",
              "  </tbody>\n",
              "</table>\n",
              "</div>"
            ],
            "text/plain": [
              "       sepallength  sepalwidth  petallength  petalwidth\n",
              "count   150.000000  150.000000   150.000000  150.000000\n",
              "mean      5.843333    3.054000     3.758667    1.198667\n",
              "std       0.828066    0.433594     1.764420    0.763161\n",
              "min       4.300000    2.000000     1.000000    0.100000\n",
              "25%       5.100000    2.800000     1.600000    0.300000\n",
              "50%       5.800000    3.000000     4.350000    1.300000\n",
              "75%       6.400000    3.300000     5.100000    1.800000\n",
              "max       7.900000    4.400000     6.900000    2.500000"
            ]
          },
          "metadata": {
            "tags": []
          },
          "execution_count": 8
        }
      ]
    },
    {
      "cell_type": "markdown",
      "metadata": {
        "id": "cfLIk_mTts_F"
      },
      "source": [
        "**Visualizar el conjunto de datos**"
      ]
    },
    {
      "cell_type": "code",
      "metadata": {
        "id": "SBij9n3i7mTq",
        "colab": {
          "base_uri": "https://localhost:8080/",
          "height": 726
        },
        "outputId": "07251619-f285-4f66-df9c-8abe31e6715d"
      },
      "source": [
        "import pandas as pd\n",
        "import seaborn as sns\n",
        "import matplotlib.pyplot as plt\n",
        "sns.set_style(\"darkgrid\")\n",
        "\n",
        "\n",
        "def hide_current_axis(*args, **kwds):\n",
        "    plt.gca().set_visible(False)\n",
        "    \n",
        "\n",
        "\n",
        "# We combine all the data so that we can map the different\n",
        "# examples to different colors according to the classes.\n",
        "combined_data = pd.concat([X, y], axis=1)\n",
        "iris_plot = sns.pairplot(combined_data, hue=\"class\")\n",
        "iris_plot.map_upper(hide_current_axis)\n",
        "plt.show()"
      ],
      "execution_count": null,
      "outputs": [
        {
          "output_type": "display_data",
          "data": {
            "image/png": "[encoded data removed]",
            "text/plain": [
              "<Figure size 823.25x720 with 20 Axes>"
            ]
          },
          "metadata": {
            "tags": []
          }
        }
      ]
    },
    {
      "cell_type": "markdown",
      "metadata": {
        "id": "Z30M89Yv3THP"
      },
      "source": [
        "**Informe del conjunto de datos** Pandas profiling es un modulo que permite hacer facilmente un análisis exploratorio de los datos mediante estadísticas y representaciones gráficas con unas pocas líneas de código"
      ]
    },
    {
      "cell_type": "code",
      "metadata": {
        "id": "FA_isihR3TX0"
      },
      "source": [
        "from pandas_profiling import ProfileReport\n",
        "\n",
        "\n",
        "combined_data = pd.concat([X, y], axis=1)\n",
        "\n",
        "#print(combined_data)\n",
        "#combined_data.describe()\n",
        "\n",
        "#%matplotlib inline\n",
        "profile = ProfileReport(combined_data)\n",
        "profile\n",
        "\n",
        "\n",
        "#pandas_profiling.ProfileReport(combined_data)"
      ],
      "execution_count": null,
      "outputs": []
    },
    {
      "cell_type": "markdown",
      "metadata": {
        "id": "EmXdC9QGxzj_"
      },
      "source": [
        "# Tareas de pre-procesamiento"
      ]
    },
    {
      "cell_type": "markdown",
      "metadata": {
        "id": "FbbZE7sg4Fp5"
      },
      "source": [
        "**Tratamiento de valores faltantes**"
      ]
    },
    {
      "cell_type": "code",
      "metadata": {
        "id": "KDRX76azE8TK"
      },
      "source": [
        "import pandas as pd\n",
        "\n",
        "combined_data = pd.concat([X, y], axis=1)\n",
        "\n",
        "combined_data"
      ],
      "execution_count": null,
      "outputs": []
    },
    {
      "cell_type": "markdown",
      "metadata": {
        "id": "Wn7HmkUW3FLA"
      },
      "source": [
        "Generamos valores faltantes al azar"
      ]
    },
    {
      "cell_type": "code",
      "metadata": {
        "id": "E1WmpaSYKYTe"
      },
      "source": [
        "import random\n",
        "import numpy as np\n",
        "\n",
        "combined_data = pd.concat([X, y], axis=1)\n",
        "\n",
        "\n",
        "random.seed( 42 )\n",
        "\n",
        "cant_nan=100\n",
        "for r in range(0,cant_nan):\n",
        "      combined_data.iat[random.randint(0, len(combined_data)-1) , random.randint(0, len(combined_data.columns)-2)] = np.nan\n",
        "\n",
        "combined_data"
      ],
      "execution_count": null,
      "outputs": []
    },
    {
      "cell_type": "markdown",
      "metadata": {
        "id": "R-mP2LoC2y3B"
      },
      "source": [
        "**Tratamiento de valores faltantes (Pandas)**"
      ]
    },
    {
      "cell_type": "code",
      "metadata": {
        "id": "L4ospCYxXxaT"
      },
      "source": [
        "combined_data_pandas=combined_data.fillna(combined_data.mean()) \n",
        "combined_data_pandas\n"
      ],
      "execution_count": null,
      "outputs": []
    },
    {
      "cell_type": "markdown",
      "metadata": {
        "id": "GGU6haoJ2_wO"
      },
      "source": [
        "**Tratamiento de valores faltantes(Scikit-Learn)**"
      ]
    },
    {
      "cell_type": "code",
      "metadata": {
        "id": "SUur5GWvp9V0"
      },
      "source": [
        "from sklearn.impute import SimpleImputer \n",
        "\n",
        "#combined_data = pd.concat([X, y], axis=1)\n",
        "#print(combined_data.head())\n",
        "\n",
        "dfdrop=combined_data.drop('class',axis=1)\n",
        "print(dfdrop.head())\n",
        "\n",
        "imputer = SimpleImputer(missing_values=np.nan, strategy='mean')\n",
        "\n",
        "imputer = imputer.fit(dfdrop) \n",
        "imputed_data = pd.DataFrame(imputer.transform(dfdrop)) \n",
        "\n",
        "print(imputed_data.head())\n",
        "imputed_data.columns=X.columns\n",
        "combined_data_sci = pd.concat([imputed_data, y], axis=1)\n",
        "\n",
        "print(combined_data_sci)\n",
        "\n",
        "\n",
        "\n"
      ],
      "execution_count": null,
      "outputs": []
    },
    {
      "cell_type": "markdown",
      "metadata": {
        "id": "EzPvhgh5Pdzz"
      },
      "source": [
        "**Manejo de texto y atributos categóricos (Scikit-Learn)**"
      ]
    },
    {
      "cell_type": "markdown",
      "metadata": {
        "id": "_VAxbdnusfik"
      },
      "source": [
        "**Agregamos atributos categéricos con valores al azar**"
      ]
    },
    {
      "cell_type": "code",
      "metadata": {
        "id": "8UJzG91CU4S7"
      },
      "source": [
        "combined_data = pd.concat([X, y], axis=1)\n",
        "\n",
        "combined_data['size'] = np.random.choice(['small','medium', 'large'], combined_data.shape[0])\n",
        "combined_data['color'] = np.random.choice(['red','green', 'blue'], combined_data.shape[0])\n",
        "\n",
        "combined_data"
      ],
      "execution_count": null,
      "outputs": []
    },
    {
      "cell_type": "markdown",
      "metadata": {
        "id": "m6zCGUiBiJp_"
      },
      "source": [
        "**Atributos categóricos ordinales**"
      ]
    },
    {
      "cell_type": "code",
      "metadata": {
        "id": "kYYf06RThujo",
        "colab": {
          "base_uri": "https://localhost:8080/",
          "height": 402
        },
        "outputId": "b2793e63-7ca1-4126-e3ab-36193201ba23"
      },
      "source": [
        "size_mapping = {\n",
        "  'large': 3,\n",
        "  'medium': 2,\n",
        "  'small': 1}\n",
        "combined_data['size'] = combined_data['size'].map(size_mapping)\n",
        "combined_data\n"
      ],
      "execution_count": null,
      "outputs": [
        {
          "output_type": "execute_result",
          "data": {
            "text/html": [
              "<div>\n",
              "<style scoped>\n",
              "    .dataframe tbody tr th:only-of-type {\n",
              "        vertical-align: middle;\n",
              "    }\n",
              "\n",
              "    .dataframe tbody tr th {\n",
              "        vertical-align: top;\n",
              "    }\n",
              "\n",
              "    .dataframe thead th {\n",
              "        text-align: right;\n",
              "    }\n",
              "</style>\n",
              "<table border=\"1\" class=\"dataframe\">\n",
              "  <thead>\n",
              "    <tr style=\"text-align: right;\">\n",
              "      <th></th>\n",
              "      <th>sepallength</th>\n",
              "      <th>sepalwidth</th>\n",
              "      <th>petallength</th>\n",
              "      <th>petalwidth</th>\n",
              "      <th>class</th>\n",
              "      <th>size</th>\n",
              "      <th>color</th>\n",
              "    </tr>\n",
              "  </thead>\n",
              "  <tbody>\n",
              "    <tr>\n",
              "      <th>0</th>\n",
              "      <td>5.1</td>\n",
              "      <td>3.5</td>\n",
              "      <td>1.4</td>\n",
              "      <td>0.2</td>\n",
              "      <td>Iris-setosa</td>\n",
              "      <td>1</td>\n",
              "      <td>red</td>\n",
              "    </tr>\n",
              "    <tr>\n",
              "      <th>1</th>\n",
              "      <td>4.9</td>\n",
              "      <td>3.0</td>\n",
              "      <td>1.4</td>\n",
              "      <td>0.2</td>\n",
              "      <td>Iris-setosa</td>\n",
              "      <td>1</td>\n",
              "      <td>red</td>\n",
              "    </tr>\n",
              "    <tr>\n",
              "      <th>2</th>\n",
              "      <td>4.7</td>\n",
              "      <td>3.2</td>\n",
              "      <td>1.3</td>\n",
              "      <td>0.2</td>\n",
              "      <td>Iris-setosa</td>\n",
              "      <td>1</td>\n",
              "      <td>red</td>\n",
              "    </tr>\n",
              "    <tr>\n",
              "      <th>3</th>\n",
              "      <td>4.6</td>\n",
              "      <td>3.1</td>\n",
              "      <td>1.5</td>\n",
              "      <td>0.2</td>\n",
              "      <td>Iris-setosa</td>\n",
              "      <td>3</td>\n",
              "      <td>green</td>\n",
              "    </tr>\n",
              "    <tr>\n",
              "      <th>4</th>\n",
              "      <td>5.0</td>\n",
              "      <td>3.6</td>\n",
              "      <td>1.4</td>\n",
              "      <td>0.2</td>\n",
              "      <td>Iris-setosa</td>\n",
              "      <td>2</td>\n",
              "      <td>red</td>\n",
              "    </tr>\n",
              "    <tr>\n",
              "      <th>...</th>\n",
              "      <td>...</td>\n",
              "      <td>...</td>\n",
              "      <td>...</td>\n",
              "      <td>...</td>\n",
              "      <td>...</td>\n",
              "      <td>...</td>\n",
              "      <td>...</td>\n",
              "    </tr>\n",
              "    <tr>\n",
              "      <th>145</th>\n",
              "      <td>6.7</td>\n",
              "      <td>3.0</td>\n",
              "      <td>5.2</td>\n",
              "      <td>2.3</td>\n",
              "      <td>Iris-virginica</td>\n",
              "      <td>1</td>\n",
              "      <td>green</td>\n",
              "    </tr>\n",
              "    <tr>\n",
              "      <th>146</th>\n",
              "      <td>6.3</td>\n",
              "      <td>2.5</td>\n",
              "      <td>5.0</td>\n",
              "      <td>1.9</td>\n",
              "      <td>Iris-virginica</td>\n",
              "      <td>2</td>\n",
              "      <td>green</td>\n",
              "    </tr>\n",
              "    <tr>\n",
              "      <th>147</th>\n",
              "      <td>6.5</td>\n",
              "      <td>3.0</td>\n",
              "      <td>5.2</td>\n",
              "      <td>2.0</td>\n",
              "      <td>Iris-virginica</td>\n",
              "      <td>1</td>\n",
              "      <td>red</td>\n",
              "    </tr>\n",
              "    <tr>\n",
              "      <th>148</th>\n",
              "      <td>6.2</td>\n",
              "      <td>3.4</td>\n",
              "      <td>5.4</td>\n",
              "      <td>2.3</td>\n",
              "      <td>Iris-virginica</td>\n",
              "      <td>1</td>\n",
              "      <td>green</td>\n",
              "    </tr>\n",
              "    <tr>\n",
              "      <th>149</th>\n",
              "      <td>5.9</td>\n",
              "      <td>3.0</td>\n",
              "      <td>5.1</td>\n",
              "      <td>1.8</td>\n",
              "      <td>Iris-virginica</td>\n",
              "      <td>2</td>\n",
              "      <td>red</td>\n",
              "    </tr>\n",
              "  </tbody>\n",
              "</table>\n",
              "<p>150 rows × 7 columns</p>\n",
              "</div>"
            ],
            "text/plain": [
              "     sepallength  sepalwidth  petallength  ...           class size  color\n",
              "0            5.1         3.5          1.4  ...     Iris-setosa    1    red\n",
              "1            4.9         3.0          1.4  ...     Iris-setosa    1    red\n",
              "2            4.7         3.2          1.3  ...     Iris-setosa    1    red\n",
              "3            4.6         3.1          1.5  ...     Iris-setosa    3  green\n",
              "4            5.0         3.6          1.4  ...     Iris-setosa    2    red\n",
              "..           ...         ...          ...  ...             ...  ...    ...\n",
              "145          6.7         3.0          5.2  ...  Iris-virginica    1  green\n",
              "146          6.3         2.5          5.0  ...  Iris-virginica    2  green\n",
              "147          6.5         3.0          5.2  ...  Iris-virginica    1    red\n",
              "148          6.2         3.4          5.4  ...  Iris-virginica    1  green\n",
              "149          5.9         3.0          5.1  ...  Iris-virginica    2    red\n",
              "\n",
              "[150 rows x 7 columns]"
            ]
          },
          "metadata": {
            "tags": []
          },
          "execution_count": 30
        }
      ]
    },
    {
      "cell_type": "markdown",
      "metadata": {
        "id": "PUSeGYwH6W6J"
      },
      "source": [
        "**Atributos nominales: one hot encoding (Pandas)**"
      ]
    },
    {
      "cell_type": "code",
      "metadata": {
        "id": "03tdaNKg6bGd"
      },
      "source": [
        "combined_data_pan=pd.get_dummies(combined_data, prefix=['col'],columns=['color'])\n",
        "combined_data_pan"
      ],
      "execution_count": null,
      "outputs": []
    },
    {
      "cell_type": "markdown",
      "metadata": {
        "id": "TDGhgfhy1cvt"
      },
      "source": [
        "**Atributos nominales: one hot encoding(Scikit-Learn)**"
      ]
    },
    {
      "cell_type": "code",
      "metadata": {
        "id": "XnwNkK94iQHw"
      },
      "source": [
        "from sklearn.preprocessing import OneHotEncoder\n",
        "from sklearn.compose import ColumnTransformer\n",
        "columnTransformer = ColumnTransformer([('encoder', OneHotEncoder(), [6])], remainder='passthrough')\n",
        "dataset = pd.DataFrame (columnTransformer.fit_transform(combined_data))\n",
        "dataset.columns= pd.Index(['col_blue', 'col_green','col_red']).append(combined_data.columns.drop('color'))\n",
        "print(combined_data)\n",
        "dataset"
      ],
      "execution_count": null,
      "outputs": []
    },
    {
      "cell_type": "markdown",
      "metadata": {
        "id": "6oTRQKb3iNrj"
      },
      "source": [
        "**Codificación de etiquetas de clase**"
      ]
    },
    {
      "cell_type": "code",
      "metadata": {
        "id": "fjoLrWC-P0j-"
      },
      "source": [
        "from sklearn.preprocessing import LabelEncoder\n",
        "encoder = LabelEncoder()\n",
        "class_cat = combined_data[\"class\"]\n",
        "class_cat_encoded = encoder.fit_transform(class_cat)\n",
        "\n",
        "combined_data[\"class\"]=class_cat_encoded\n",
        "print(class_cat_encoded)\n",
        "print(encoder.classes_)\n",
        "\n",
        "combined_data"
      ],
      "execution_count": null,
      "outputs": []
    },
    {
      "cell_type": "markdown",
      "metadata": {
        "id": "aEJlk7LzQUNg"
      },
      "source": [
        "**Transformación de datos: normalización min-max (Scikit-Learn)**"
      ]
    },
    {
      "cell_type": "code",
      "metadata": {
        "id": "JtlM2F8fQssP"
      },
      "source": [
        "from sklearn.preprocessing import MinMaxScaler\n",
        "from sklearn.compose import ColumnTransformer\n",
        "columnTransformer = ColumnTransformer([('num', MinMaxScaler(), [1])], remainder='passthrough')\n",
        "dataset = pd.DataFrame(columnTransformer.fit_transform(combined_data))\n",
        "dataset.columns=combined_data.columns\n",
        "dataset"
      ],
      "execution_count": null,
      "outputs": []
    },
    {
      "cell_type": "markdown",
      "metadata": {
        "id": "mXN8m8J2e6mQ"
      },
      "source": [
        "**Transformación de datos de multiples atributos(Scikit-Learn)**"
      ]
    },
    {
      "cell_type": "code",
      "metadata": {
        "id": "UsvSWzR7e9rf"
      },
      "source": [
        "from sklearn.preprocessing import MinMaxScaler\n",
        "from sklearn.preprocessing import OneHotEncoder\n",
        "from sklearn.compose import ColumnTransformer\n",
        "\n",
        "\n",
        "t = [('cat', OneHotEncoder(), [6]), ('num', MinMaxScaler(), [0,1,2,3])]\n",
        "\n",
        "columnTransformer = ColumnTransformer(transformers=t, remainder='passthrough')\n",
        "dataset = pd.DataFrame(columnTransformer.fit_transform(combined_data))\n",
        "\n",
        "dataset"
      ],
      "execution_count": null,
      "outputs": []
    },
    {
      "cell_type": "markdown",
      "metadata": {
        "id": "Fxe4orWXmYac"
      },
      "source": [
        "**Transformación  de datos de multiples atributos en pipeline(Scikit-Learn)**"
      ]
    },
    {
      "cell_type": "code",
      "metadata": {
        "id": "jfWe5a8RmUqF"
      },
      "source": [
        "from sklearn.impute import SimpleImputer \n",
        "from sklearn.preprocessing import MinMaxScaler\n",
        "from sklearn.preprocessing import OneHotEncoder\n",
        "from sklearn.compose import ColumnTransformer\n",
        "from sklearn.pipeline import Pipeline\n",
        "\n",
        "# We create the preprocessing pipelines for both numeric and categorical data.\n",
        "numeric_features = ['sepallength',\t'sepalwidth',\t'petallength',\t'petalwidth']\n",
        "numeric_transformer = Pipeline(steps=[\n",
        "    ('imputer', SimpleImputer(strategy='mean')),\n",
        "    ('scaler', MinMaxScaler())])\n",
        "\n",
        "categorical_features = ['color']\n",
        "categorical_transformer = Pipeline(steps=[\n",
        "    ('imputer', SimpleImputer(strategy='constant', fill_value='missing')),\n",
        "    ('onehot', OneHotEncoder())])\n",
        "\n",
        "preprocessor = ColumnTransformer(\n",
        "    transformers=[\n",
        "        ('num', numeric_transformer, numeric_features),\n",
        "        ('cat', categorical_transformer, categorical_features)],remainder='passthrough')\n",
        "\n",
        "dataset = pd.DataFrame(preprocessor.fit_transform(combined_data))\n",
        "dataset\n",
        "\n"
      ],
      "execution_count": null,
      "outputs": []
    },
    {
      "cell_type": "markdown",
      "metadata": {
        "id": "mZSF_cxQTpsv"
      },
      "source": [
        "**Reducción de datos**"
      ]
    },
    {
      "cell_type": "code",
      "metadata": {
        "id": "Bc2A6y5PTp5b"
      },
      "source": [
        "from sklearn.model_selection import train_test_split\n",
        "\n",
        "per=0.1\n",
        "_, reduced_ds = train_test_split(combined_data, test_size=int(per * len(combined_data)), random_state=42, stratify=combined_data['class'])\n",
        "print (len(combined_data))\n",
        "print (len(reduced_ds))\n",
        "reduced_ds\n"
      ],
      "execution_count": null,
      "outputs": []
    }
  ]
}