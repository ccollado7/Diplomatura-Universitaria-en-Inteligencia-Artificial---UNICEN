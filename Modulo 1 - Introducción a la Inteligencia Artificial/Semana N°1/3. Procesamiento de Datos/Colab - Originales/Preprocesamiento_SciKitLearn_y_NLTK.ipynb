{
  "nbformat": 4,
  "nbformat_minor": 0,
  "metadata": {
    "colab": {
      "name": "Perspectiva Práctica - Preprocesamiento NL con SciKitLearn y NLTK.ipynb",
      "provenance": [],
      "collapsed_sections": []
    },
    "kernelspec": {
      "name": "python3",
      "display_name": "Python 3"
    }
  },
  "cells": [
    {
      "cell_type": "markdown",
      "metadata": {
        "id": "vPpOGj7OKfiZ"
      },
      "source": [
        "# Preprocesamiento con CountVectorizer\n",
        "El CountVectorizer convierte una colección de documentos de texto a una matriz de recuento de tokens."
      ]
    },
    {
      "cell_type": "markdown",
      "metadata": {
        "id": "DK1g-btZKc_g"
      },
      "source": [
        "## Tokenización y representación sin otro tipo de preprocesamiento"
      ]
    },
    {
      "cell_type": "code",
      "metadata": {
        "id": "StgiXDyIKRjo",
        "colab": {
          "base_uri": "https://localhost:8080/",
          "height": 649
        },
        "outputId": "f2720107-7036-422e-d49d-10daf9a4eba2"
      },
      "source": [
        "from sklearn.feature_extraction.text import CountVectorizer\n",
        "\n",
        "# Creamos el conjunto de documentos que queremos analizar\n",
        "corpus = ['This is the first fictitious document.', \n",
        "          'This document is the second Document documented.', \n",
        "          'And this is the third one.',\n",
        "          'Is this the first document?']\n",
        "\n",
        "#Inicializamos y aplicamos el CountVectorizer\n",
        "vectorizer = CountVectorizer()\n",
        "X = vectorizer.fit_transform(corpus)\n",
        "features  = vectorizer.get_feature_names()\n",
        "\n",
        "# Mostramos los resultados\n",
        "print(vectorizer.get_feature_names())\n",
        "print(X.toarray())\n",
        "print(X)\n",
        "\n",
        "# Convertimos a un DataFrame (no recomendable)\n",
        "import pandas as pd\n",
        "df = pd.DataFrame(X.toarray())\n",
        "df.columns = vectorizer.get_feature_names()\n",
        "df"
      ],
      "execution_count": null,
      "outputs": [
        {
          "output_type": "stream",
          "text": [
            "['and', 'document', 'documented', 'fictitious', 'first', 'is', 'one', 'second', 'the', 'third', 'this']\n",
            "[[0 1 0 1 1 1 0 0 1 0 1]\n",
            " [0 2 1 0 0 1 0 1 1 0 1]\n",
            " [1 0 0 0 0 1 1 0 1 1 1]\n",
            " [0 1 0 0 1 1 0 0 1 0 1]]\n",
            "  (0, 10)\t1\n",
            "  (0, 5)\t1\n",
            "  (0, 8)\t1\n",
            "  (0, 4)\t1\n",
            "  (0, 3)\t1\n",
            "  (0, 1)\t1\n",
            "  (1, 10)\t1\n",
            "  (1, 5)\t1\n",
            "  (1, 8)\t1\n",
            "  (1, 1)\t2\n",
            "  (1, 7)\t1\n",
            "  (1, 2)\t1\n",
            "  (2, 10)\t1\n",
            "  (2, 5)\t1\n",
            "  (2, 8)\t1\n",
            "  (2, 0)\t1\n",
            "  (2, 9)\t1\n",
            "  (2, 6)\t1\n",
            "  (3, 10)\t1\n",
            "  (3, 5)\t1\n",
            "  (3, 8)\t1\n",
            "  (3, 4)\t1\n",
            "  (3, 1)\t1\n"
          ],
          "name": "stdout"
        },
        {
          "output_type": "execute_result",
          "data": {
            "text/html": [
              "<div>\n",
              "<style scoped>\n",
              "    .dataframe tbody tr th:only-of-type {\n",
              "        vertical-align: middle;\n",
              "    }\n",
              "\n",
              "    .dataframe tbody tr th {\n",
              "        vertical-align: top;\n",
              "    }\n",
              "\n",
              "    .dataframe thead th {\n",
              "        text-align: right;\n",
              "    }\n",
              "</style>\n",
              "<table border=\"1\" class=\"dataframe\">\n",
              "  <thead>\n",
              "    <tr style=\"text-align: right;\">\n",
              "      <th></th>\n",
              "      <th>and</th>\n",
              "      <th>document</th>\n",
              "      <th>documented</th>\n",
              "      <th>fictitious</th>\n",
              "      <th>first</th>\n",
              "      <th>is</th>\n",
              "      <th>one</th>\n",
              "      <th>second</th>\n",
              "      <th>the</th>\n",
              "      <th>third</th>\n",
              "      <th>this</th>\n",
              "    </tr>\n",
              "  </thead>\n",
              "  <tbody>\n",
              "    <tr>\n",
              "      <th>0</th>\n",
              "      <td>0</td>\n",
              "      <td>1</td>\n",
              "      <td>0</td>\n",
              "      <td>1</td>\n",
              "      <td>1</td>\n",
              "      <td>1</td>\n",
              "      <td>0</td>\n",
              "      <td>0</td>\n",
              "      <td>1</td>\n",
              "      <td>0</td>\n",
              "      <td>1</td>\n",
              "    </tr>\n",
              "    <tr>\n",
              "      <th>1</th>\n",
              "      <td>0</td>\n",
              "      <td>2</td>\n",
              "      <td>1</td>\n",
              "      <td>0</td>\n",
              "      <td>0</td>\n",
              "      <td>1</td>\n",
              "      <td>0</td>\n",
              "      <td>1</td>\n",
              "      <td>1</td>\n",
              "      <td>0</td>\n",
              "      <td>1</td>\n",
              "    </tr>\n",
              "    <tr>\n",
              "      <th>2</th>\n",
              "      <td>1</td>\n",
              "      <td>0</td>\n",
              "      <td>0</td>\n",
              "      <td>0</td>\n",
              "      <td>0</td>\n",
              "      <td>1</td>\n",
              "      <td>1</td>\n",
              "      <td>0</td>\n",
              "      <td>1</td>\n",
              "      <td>1</td>\n",
              "      <td>1</td>\n",
              "    </tr>\n",
              "    <tr>\n",
              "      <th>3</th>\n",
              "      <td>0</td>\n",
              "      <td>1</td>\n",
              "      <td>0</td>\n",
              "      <td>0</td>\n",
              "      <td>1</td>\n",
              "      <td>1</td>\n",
              "      <td>0</td>\n",
              "      <td>0</td>\n",
              "      <td>1</td>\n",
              "      <td>0</td>\n",
              "      <td>1</td>\n",
              "    </tr>\n",
              "  </tbody>\n",
              "</table>\n",
              "</div>"
            ],
            "text/plain": [
              "   and  document  documented  fictitious  first  ...  one  second  the  third  this\n",
              "0    0         1           0           1      1  ...    0       0    1      0     1\n",
              "1    0         2           1           0      0  ...    0       1    1      0     1\n",
              "2    1         0           0           0      0  ...    1       0    1      1     1\n",
              "3    0         1           0           0      1  ...    0       0    1      0     1\n",
              "\n",
              "[4 rows x 11 columns]"
            ]
          },
          "metadata": {
            "tags": []
          },
          "execution_count": 3
        }
      ]
    },
    {
      "cell_type": "markdown",
      "metadata": {
        "id": "Za5kLIeseJRo"
      },
      "source": [
        "**Visualización de la frecuencia de los tokens**"
      ]
    },
    {
      "cell_type": "code",
      "metadata": {
        "id": "OLSRnuIgdb0L",
        "colab": {
          "base_uri": "https://localhost:8080/",
          "height": 537
        },
        "outputId": "76364b57-693d-4b2a-d6e2-dd5193b21376"
      },
      "source": [
        "from yellowbrick.text import FreqDistVisualizer\n",
        "visualizer = FreqDistVisualizer(features=features, n=min(50,len(features)),orient='h')\n",
        "visualizer.fit(X)"
      ],
      "execution_count": null,
      "outputs": [
        {
          "output_type": "stream",
          "text": [
            "/usr/local/lib/python3.7/dist-packages/sklearn/utils/deprecation.py:144: FutureWarning: The sklearn.metrics.classification module is  deprecated in version 0.22 and will be removed in version 0.24. The corresponding classes / functions should instead be imported from sklearn.metrics. Anything that cannot be imported from sklearn.metrics is now part of the private API.\n",
            "  warnings.warn(message, FutureWarning)\n",
            "/usr/local/lib/python3.7/dist-packages/sklearn/base.py:197: FutureWarning: From version 0.24, get_params will raise an AttributeError if a parameter cannot be retrieved as an instance attribute. Previously it would return None.\n",
            "  FutureWarning)\n"
          ],
          "name": "stderr"
        },
        {
          "output_type": "execute_result",
          "data": {
            "text/plain": [
              "FrequencyVisualizer(ax=<matplotlib.axes._subplots.AxesSubplot object at 0x7fed5f68a290>,\n",
              "                    color=None,\n",
              "                    features=['and', 'document', 'documented', 'fictitious',\n",
              "                              'first', 'is', 'one', 'second', 'the', 'third',\n",
              "                              'this'],\n",
              "                    n=None, orient='h')"
            ]
          },
          "metadata": {
            "tags": []
          },
          "execution_count": 4
        },
        {
          "output_type": "display_data",
          "data": {
            "image/png": "[encoded data removed]",
            "text/plain": [
              "<Figure size 576x396 with 1 Axes>"
            ]
          },
          "metadata": {
            "tags": []
          }
        }
      ]
    },
    {
      "cell_type": "markdown",
      "metadata": {
        "id": "ZkoUvjxTMDEY"
      },
      "source": [
        "## Tokenización con remoción de stopwords"
      ]
    },
    {
      "cell_type": "code",
      "metadata": {
        "id": "Y-2xeATDMJ_M",
        "colab": {
          "base_uri": "https://localhost:8080/"
        },
        "outputId": "08b29b9d-4246-4b0c-84bd-798cb7af9b1e"
      },
      "source": [
        "from sklearn.feature_extraction.text import CountVectorizer\n",
        "\n",
        "# Creamos el conjunto de documentos que queremos analizar\n",
        "corpus = ['This is the first fictitious document.', \n",
        "          'This document is the second Document documented.', \n",
        "          'And this is the third one.',\n",
        "          'Is this the first document?']\n",
        "\n",
        "#Inicializamos y aplicamos el CountVectorizer\n",
        "vectorizer = CountVectorizer(stop_words=\"english\") # Tambien es posible pasar una lista propia [\"is\",\"the\"]\n",
        "print(vectorizer.get_stop_words())\n",
        "\n",
        "X = vectorizer.fit_transform(corpus)\n",
        "features  = vectorizer.get_feature_names()\n",
        "\n",
        "\n",
        "# Mostramos los resultados\n",
        "print(vectorizer.get_feature_names())\n",
        "print(X.toarray())"
      ],
      "execution_count": null,
      "outputs": [
        {
          "output_type": "stream",
          "text": [
            "frozenset({'further', 'yourself', 'will', 'over', 'yet', 'top', 'meanwhile', 'namely', 'neither', 'another', 'thence', 'being', 'less', 'whereafter', 'due', 'find', 'two', 'almost', 'any', 'give', 'even', 'latterly', 'from', 'ourselves', 'has', 'he', 'thick', 'alone', 'that', 'four', 'part', 'during', 'via', 'once', 'keep', 'however', 'can', 'nowhere', 'whole', 'each', 'cannot', 'fill', 'becomes', 'first', 'toward', 'together', 'itself', 'though', 'something', 'nothing', 'go', 'these', 'ours', 'while', 'system', 'thin', 'back', 'under', 'not', 'interest', 'might', 'noone', 'what', 'wherever', 'hereafter', 'for', 'nevertheless', 'call', 'thru', 'and', 'done', 'thereafter', 'empty', 'many', 'seemed', 'put', 'is', 'mill', 'those', 'perhaps', 'never', 'had', 'whenever', 'also', 'own', 'anyhow', 'whoever', 'fifty', 'yours', 'was', 'get', 'if', 'where', 'i', 'hers', 'at', 'until', 'a', 'amoungst', 'on', 'you', 'except', 'amongst', 'an', 'eleven', 'made', 'such', 'front', 'besides', 'five', 'beyond', 'indeed', 'our', 'either', 'by', 'etc', 'up', 'thereby', 'off', 'fifteen', 'should', 'been', 'herself', 'of', 'please', 'in', 'myself', 'else', 'after', 'ever', 'through', 'since', 'must', 'rather', 'who', 'beside', 'her', 'whether', 'we', 'herein', 'out', 'may', 'nine', 'six', 'co', 'formerly', 'former', 'there', 'why', 'yourselves', 'most', 'seem', 'into', 'above', 'couldnt', 'us', 'moreover', 'they', 'de', 'inc', 'latter', 'than', 'whereas', 'per', 'hasnt', 'down', 'their', 'again', 'bottom', 'both', 'were', 'thus', 'along', 'anywhere', 'because', 'next', 'twelve', 'ltd', 'themselves', 'three', 'beforehand', 'every', 'cant', 'have', 'around', 'found', 'few', 'still', 'would', 'eg', 'no', 'whence', 'do', 'she', 'but', 'his', 'someone', 'fire', 'others', 'full', 'show', 'whom', 'none', 'other', 'them', 'nor', 'are', 'whither', 'describe', 'against', 'between', 'take', 'ten', 'behind', 'hereby', 'therein', 'third', 'seems', 'see', 'anyone', 'then', 'whereupon', 'towards', 'everywhere', 'ie', 'wherein', 'sixty', 'everything', 'very', 'him', 'more', 'often', 'too', 'my', 'hundred', 'himself', 'or', 'it', 'twenty', 'everyone', 'amount', 'bill', 'how', 'became', 'much', 'least', 'thereupon', 'hereupon', 'several', 'am', 'so', 'with', 'last', 'mostly', 'name', 'side', 'could', 'this', 'sincere', 'which', 'sometime', 'otherwise', 'about', 'same', 'somehow', 'one', 'mine', 'onto', 'whatever', 'elsewhere', 'as', 'some', 'nobody', 'somewhere', 'cry', 'anyway', 'whereby', 'become', 'con', 'sometimes', 'move', 'to', 'already', 'among', 'well', 'serious', 'across', 'all', 'hence', 'forty', 'its', 'only', 're', 'although', 'anything', 'seeming', 'enough', 'always', 'un', 'upon', 'detail', 'now', 'eight', 'whose', 'here', 'before', 'afterwards', 'me', 'therefore', 'when', 'throughout', 'without', 'the', 'be', 'becoming', 'your', 'within', 'below'})\n",
            "['document', 'documented', 'fictitious', 'second']\n",
            "[[1 0 1 0]\n",
            " [2 1 0 1]\n",
            " [0 0 0 0]\n",
            " [1 0 0 0]]\n"
          ],
          "name": "stdout"
        }
      ]
    },
    {
      "cell_type": "markdown",
      "metadata": {
        "id": "Q4tcRGpLf_Eu"
      },
      "source": [
        "**Visualización de la frecuencia de los tokens**"
      ]
    },
    {
      "cell_type": "code",
      "metadata": {
        "id": "6hPrDKqJf_ZT"
      },
      "source": [
        "from yellowbrick.text import FreqDistVisualizer\n",
        "visualizer = FreqDistVisualizer(features=features, n=min(50,len(features)),orient='h')\n",
        "visualizer.fit(X)\n",
        "visualizer.poof()\n"
      ],
      "execution_count": null,
      "outputs": []
    },
    {
      "cell_type": "markdown",
      "metadata": {
        "id": "xEknmoNQdedm"
      },
      "source": [
        "## Tokenización con remoción de stopwords agregando stopwords adicionales a los provistos por SciKit Learn"
      ]
    },
    {
      "cell_type": "code",
      "metadata": {
        "id": "HKV-pZPVdS6h",
        "colab": {
          "base_uri": "https://localhost:8080/"
        },
        "outputId": "445465c1-ed3c-423b-ec12-d6ab8ecd7090"
      },
      "source": [
        "from sklearn.feature_extraction.text import CountVectorizer\n",
        "from sklearn.feature_extraction import text\n",
        "\n",
        "# Creamos el conjunto de documentos que queremos analizar\n",
        "corpus = ['This is the first fictitious document.', \n",
        "          'This document is the second Document documented.', \n",
        "          'And this is the third one.',\n",
        "          'Is this the first document?']\n",
        "\n",
        "\n",
        "# Agregamos stopwords a la lista predefinida en Scikit Learn \n",
        "stop_words = text.ENGLISH_STOP_WORDS.union(['second'])\n",
        "\n",
        "#Inicializamos y aplicamos el CountVectorizer\n",
        "vectorizer = CountVectorizer(stop_words=stop_words)\n",
        "\n",
        "print(vectorizer.get_stop_words())\n",
        "\n",
        "X = vectorizer.fit_transform(corpus)\n",
        "features  = vectorizer.get_feature_names()\n",
        "\n",
        "\n",
        "# Mostramos los resultados\n",
        "print(vectorizer.get_feature_names())\n",
        "print(X.toarray())"
      ],
      "execution_count": null,
      "outputs": [
        {
          "output_type": "stream",
          "text": [
            "frozenset({'ltd', 'further', 'yourself', 'themselves', 'will', 'over', 'three', 'yet', 'top', 'beforehand', 'meanwhile', 'every', 'namely', 'neither', 'cant', 'have', 'another', 'around', 'found', 'few', 'thence', 'still', 'being', 'less', 'whereafter', 'would', 'due', 'find', 'two', 'eg', 'no', 'almost', 'any', 'whence', 'do', 'give', 'even', 'latterly', 'from', 'ourselves', 'she', 'but', 'has', 'his', 'he', 'someone', 'thick', 'alone', 'fire', 'that', 'four', 'part', 'others', 'during', 'via', 'once', 'keep', 'full', 'show', 'however', 'whom', 'can', 'none', 'nowhere', 'other', 'whole', 'them', 'each', 'nor', 'cannot', 'fill', 'are', 'whither', 'becomes', 'first', 'describe', 'toward', 'together', 'against', 'itself', 'between', 'take', 'ten', 'behind', 'though', 'something', 'hereby', 'therein', 'nothing', 'third', 'seems', 'go', 'see', 'these', 'ours', 'anyone', 'while', 'then', 'system', 'whereupon', 'towards', 'everywhere', 'ie', 'thin', 'wherein', 'sixty', 'everything', 'back', 'under', 'not', 'interest', 'very', 'him', 'more', 'might', 'noone', 'what', 'wherever', 'often', 'hereafter', 'for', 'nevertheless', 'too', 'call', 'thru', 'my', 'hundred', 'himself', 'or', 'and', 'it', 'twenty', 'done', 'everyone', 'thereafter', 'amount', 'empty', 'many', 'bill', 'how', 'seemed', 'became', 'put', 'is', 'much', 'least', 'thereupon', 'hereupon', 'several', 'mill', 'those', 'am', 'perhaps', 'never', 'so', 'had', 'whenever', 'with', 'also', 'own', 'last', 'anyhow', 'whoever', 'mostly', 'fifty', 'name', 'yours', 'was', 'get', 'if', 'where', 'i', 'hers', 'side', 'could', 'this', 'at', 'until', 'a', 'sincere', 'amoungst', 'on', 'you', 'except', 'amongst', 'an', 'which', 'eleven', 'made', 'sometime', 'otherwise', 'such', 'about', 'same', 'front', 'somehow', 'besides', 'one', 'mine', 'five', 'beyond', 'indeed', 'our', 'either', 'onto', 'whatever', 'elsewhere', 'as', 'by', 'etc', 'some', 'up', 'thereby', 'nobody', 'off', 'fifteen', 'should', 'somewhere', 'cry', 'been', 'herself', 'of', 'please', 'anyway', 'in', 'myself', 'else', 'whereby', 'become', 'con', 'sometimes', 'move', 'after', 'ever', 'through', 'to', 'already', 'since', 'must', 'among', 'rather', 'who', 'well', 'beside', 'serious', 'across', 'her', 'whether', 'we', 'herein', 'out', 'may', 'nine', 'six', 'all', 'hence', 'forty', 'its', 'co', 'formerly', 'former', 'there', 'only', 're', 'why', 'although', 'anything', 'seeming', 'enough', 'yourselves', 'always', 'un', 'upon', 'detail', 'most', 'now', 'eight', 'whose', 'here', 'before', 'seem', 'into', 'above', 'couldnt', 'us', 'afterwards', 'moreover', 'me', 'they', 'de', 'therefore', 'inc', 'latter', 'than', 'whereas', 'per', 'hasnt', 'down', 'their', 'when', 'again', 'bottom', 'throughout', 'both', 'without', 'were', 'the', 'thus', 'along', 'second', 'be', 'anywhere', 'becoming', 'your', 'because', 'within', 'next', 'below', 'twelve'})\n",
            "['document', 'documented', 'fictitious']\n",
            "[[1 0 1]\n",
            " [2 1 0]\n",
            " [0 0 0]\n",
            " [1 0 0]]\n"
          ],
          "name": "stdout"
        }
      ]
    },
    {
      "cell_type": "markdown",
      "metadata": {
        "id": "cSmuakfbgk9P"
      },
      "source": [
        "**Visualización de la frecuencia de los tokens**"
      ]
    },
    {
      "cell_type": "code",
      "metadata": {
        "id": "pMrJA4gkgqw4"
      },
      "source": [
        "from yellowbrick.text import FreqDistVisualizer\n",
        "visualizer = FreqDistVisualizer(features=features, n=min(50,len(features)),orient='h')\n",
        "visualizer.fit(X)"
      ],
      "execution_count": null,
      "outputs": []
    },
    {
      "cell_type": "markdown",
      "metadata": {
        "id": "PDmKtwvHOa-7"
      },
      "source": [
        "## Tokenización con remoción de stopwords y n-grams\n",
        "\n"
      ]
    },
    {
      "cell_type": "code",
      "metadata": {
        "id": "ygNtY3itOhoz",
        "colab": {
          "base_uri": "https://localhost:8080/"
        },
        "outputId": "ecfba451-498b-43b7-e7af-155b2ecdcc64"
      },
      "source": [
        "from sklearn.feature_extraction.text import CountVectorizer\n",
        "\n",
        "# Creamos el conjunto de documentos que queremos analizar\n",
        "corpus = ['This is the first fictitious document.', \n",
        "          'This document is the second Document documented.', \n",
        "          'And this is the third one.',\n",
        "          'Is this the first document?']\n",
        "\n",
        "#Inicializamos y aplicamos el CountVectorizer\n",
        "vectorizer = CountVectorizer(stop_words='english', analyzer='word', ngram_range=(1, 3))\n",
        "X = vectorizer.fit_transform(corpus)\n",
        "features  = vectorizer.get_feature_names()\n",
        "\n",
        "\n",
        "# Mostramos los resultados\n",
        "print(vectorizer.get_feature_names())\n",
        "print(X.toarray())"
      ],
      "execution_count": null,
      "outputs": [
        {
          "output_type": "stream",
          "text": [
            "['document', 'document documented', 'document second', 'document second document', 'documented', 'fictitious', 'fictitious document', 'second', 'second document', 'second document documented']\n",
            "[[1 0 0 0 0 1 1 0 0 0]\n",
            " [2 1 1 1 1 0 0 1 1 1]\n",
            " [0 0 0 0 0 0 0 0 0 0]\n",
            " [1 0 0 0 0 0 0 0 0 0]]\n"
          ],
          "name": "stdout"
        }
      ]
    },
    {
      "cell_type": "code",
      "metadata": {
        "id": "088_9chGkQ7V"
      },
      "source": [
        "from yellowbrick.text import FreqDistVisualizer\n",
        "visualizer = FreqDistVisualizer(features=features, n=min(50,len(features)),orient='h')\n",
        "visualizer.fit(X)"
      ],
      "execution_count": null,
      "outputs": []
    },
    {
      "cell_type": "markdown",
      "metadata": {
        "id": "-h4plAeoQ9Bm"
      },
      "source": [
        "## Tokenización con remoción de stopwords + stemming con NLTK"
      ]
    },
    {
      "cell_type": "code",
      "metadata": {
        "id": "1MRLaK8yRFz3",
        "colab": {
          "base_uri": "https://localhost:8080/"
        },
        "outputId": "22e93ab5-9072-4679-82fe-f77d40583b2f"
      },
      "source": [
        "from sklearn.feature_extraction.text import CountVectorizer\n",
        "from nltk.stem import PorterStemmer\n",
        "\n",
        "# Creamos el conjunto de documentos que queremos analizar\n",
        "corpus = ['This is the first fictitious document.', \n",
        "          'This document is the second Document documented.', \n",
        "          'And this is the third one.',\n",
        "          'Is this the first document?']\n",
        "# Creamos el stemmer\n",
        "stemmer = PorterStemmer()\n",
        "# Construimos un analyzer con el preprocesamiento que si provee CountVectorizer\n",
        "analyzer = CountVectorizer(stop_words='english').build_analyzer()\n",
        "\n",
        "# Definimos una función que suma el stemming al preprocesamiento que provee el analyzer\n",
        "def stemmed_words(doc):\n",
        "    return (stemmer.stem(w) for w in analyzer(doc))\n",
        "\n",
        "#Inicializamos y aplicamos el CountVectorizer utilizando la función como analyzer\n",
        "vectorizer = CountVectorizer(analyzer=stemmed_words, ngram_range=(1,2))\n",
        "X = vectorizer.fit_transform(corpus)\n",
        "features  = vectorizer.get_feature_names()\n",
        "\n",
        "\n",
        "# Mostramos los resultados\n",
        "print(vectorizer.get_feature_names())\n",
        "print(X.toarray())"
      ],
      "execution_count": null,
      "outputs": [
        {
          "output_type": "stream",
          "text": [
            "['document', 'fictiti', 'second']\n",
            "[[1 1 0]\n",
            " [3 0 1]\n",
            " [0 0 0]\n",
            " [1 0 0]]\n"
          ],
          "name": "stdout"
        }
      ]
    },
    {
      "cell_type": "code",
      "metadata": {
        "id": "vWVgE1ISktP2"
      },
      "source": [
        "from yellowbrick.text import FreqDistVisualizer\n",
        "visualizer = FreqDistVisualizer(features=features, n=min(50,len(features)),orient='h')\n",
        "visualizer.fit(X)"
      ],
      "execution_count": null,
      "outputs": []
    },
    {
      "cell_type": "markdown",
      "metadata": {
        "id": "8fftj9GQ8ghi"
      },
      "source": [
        "##Tokenización con remoción de stopwords y n-grams + stemming con NLTK"
      ]
    },
    {
      "cell_type": "code",
      "metadata": {
        "id": "JsOgbSFW8xIE",
        "colab": {
          "base_uri": "https://localhost:8080/"
        },
        "outputId": "442034d8-ad3a-4ced-ea9e-1e310a67bfb6"
      },
      "source": [
        "from sklearn.feature_extraction.text import CountVectorizer\n",
        "from sklearn.feature_extraction import text\n",
        "from nltk.stem import PorterStemmer\n",
        "\n",
        "# Creamos el conjunto de documentos que queremos analizar\n",
        "corpus = ['This is the first fictitious document.', \n",
        "          'This document is the second Document documented.', \n",
        "          'And this is the third one.',\n",
        "          'Is this the first document?']\n",
        "\n",
        "# Creamos el stemmer\n",
        "stemmer = PorterStemmer()\n",
        "\n",
        "# Construimos un TOKENIZER con la tokenización que provee CountVectorizer\n",
        "tokenizer = CountVectorizer().build_tokenizer()\n",
        "\n",
        "# Obtenemos las stopwords que provee SciKit Learn\n",
        "stop_words = text.ENGLISH_STOP_WORDS\n",
        "\n",
        "# Definimos una función que aplica el stemming luego de tokenizar y remover stopwords\n",
        "def stem_tokenizer(doc):\n",
        "    # Aplica la tokenización\n",
        "    tokens = tokenizer(doc)\n",
        "    # Retorna la lista de tokens luego de aplicar stemming si no es un stopword\n",
        "    return list(stemmer.stem(w) for w in tokens if w not in stop_words)\n",
        "\n",
        "#Inicializamos y aplicamos el CountVectorizer utilizando la función como analyzer\n",
        "vectorizer = CountVectorizer(tokenizer=stem_tokenizer, analyzer='word', ngram_range=(1,2))\n",
        "X = vectorizer.fit_transform(corpus)\n",
        "\n",
        "# Mostramos los resultados\n",
        "print(vectorizer.get_feature_names())\n",
        "print(X.toarray())\n"
      ],
      "execution_count": null,
      "outputs": [
        {
          "output_type": "stream",
          "text": [
            "['document', 'document document', 'document second', 'fictiti', 'fictiti document', 'second', 'second document']\n",
            "[[1 0 0 1 1 0 0]\n",
            " [3 1 1 0 0 1 1]\n",
            " [0 0 0 0 0 0 0]\n",
            " [1 0 0 0 0 0 0]]\n"
          ],
          "name": "stdout"
        }
      ]
    },
    {
      "cell_type": "markdown",
      "metadata": {
        "id": "84_UsGjXEypU"
      },
      "source": [
        "##Tokenización con remoción de stopwords y n-grams + stemming con NLTK y control de frecuencia mínima"
      ]
    },
    {
      "cell_type": "code",
      "metadata": {
        "id": "W9hG56OAFQjN",
        "colab": {
          "base_uri": "https://localhost:8080/"
        },
        "outputId": "796a0531-a391-4787-9bc0-cde63005f48e"
      },
      "source": [
        "from sklearn.feature_extraction.text import CountVectorizer\n",
        "from sklearn.feature_extraction import text\n",
        "from nltk.stem import PorterStemmer\n",
        "\n",
        "# Creamos el conjunto de documentos que queremos analizar\n",
        "corpus = ['This is the first fictitious document on Artificial Intelligence.', \n",
        "          'This document is the second Document documented.', \n",
        "          'And this is the third one. The title is Artificial Intelligence, a modern approach.',\n",
        "          'Is this the first document?']\n",
        "\n",
        "# Creamos el stemmer\n",
        "stemmer = PorterStemmer()\n",
        "\n",
        "# Construimos un TOKENIZER con la tokenización que provee CountVectorizer\n",
        "tokenizer = CountVectorizer().build_tokenizer()\n",
        "\n",
        "# Obtenemos las stopwords que provee SciKit Learn\n",
        "stop_words = text.ENGLISH_STOP_WORDS\n",
        "\n",
        "# Definimos una función que aplica el stemming luego de tokenizar y remover stopwords\n",
        "def  stem_tokenizer(doc):\n",
        "    # Aplica la tokenización\n",
        "    tokens = tokenizer(doc)\n",
        "    # Retorna la lista de tokens luego de aplicar stemming si no es un stopword\n",
        "    return list(stemmer.stem(w) for w in tokens if w not in stop_words)\n",
        "\n",
        "#Inicializamos y aplicamos el CountVectorizer utilizando la función como analyzer\n",
        "vectorizer = CountVectorizer(tokenizer=stem_tokenizer, ngram_range=(1,2), min_df=2) # puede usarse también un porcentaje .5\n",
        "X = vectorizer.fit_transform(corpus)\n",
        "\n",
        "# Mostramos los resultados\n",
        "print(vectorizer.get_feature_names())\n",
        "print(X.toarray())\n"
      ],
      "execution_count": null,
      "outputs": [
        {
          "output_type": "stream",
          "text": [
            "['artifici', 'artifici intellig', 'document', 'intellig']\n",
            "[[1 1 1 1]\n",
            " [0 0 3 0]\n",
            " [1 1 0 1]\n",
            " [0 0 1 0]]\n"
          ],
          "name": "stdout"
        }
      ]
    },
    {
      "cell_type": "markdown",
      "metadata": {
        "id": "GuRWH5IcT1xI"
      },
      "source": [
        "##TF-IDF transformer sobre resultado de la tokenización\n",
        "Transforma una matriz de recuento de tokens a una representación normalizada TF-IDF."
      ]
    },
    {
      "cell_type": "code",
      "metadata": {
        "id": "pVQ30BU4TzaU",
        "colab": {
          "base_uri": "https://localhost:8080/"
        },
        "outputId": "c40adc00-bb1c-46c9-ead9-edf000ddc84e"
      },
      "source": [
        "from sklearn.feature_extraction.text import TfidfTransformer\n",
        "tfidf_transformer = TfidfTransformer()\n",
        "\n",
        "# Aplicamos Tf-Idf sobre la matrix de tokens\n",
        "X_tfidf = tfidf_transformer.fit_transform(X)\n",
        "X_tfidf.toarray()"
      ],
      "execution_count": null,
      "outputs": [
        {
          "output_type": "execute_result",
          "data": {
            "text/plain": [
              "array([[0.52303503, 0.52303503, 0.42344193, 0.52303503],\n",
              "       [0.        , 0.        , 1.        , 0.        ],\n",
              "       [0.57735027, 0.57735027, 0.        , 0.57735027],\n",
              "       [0.        , 0.        , 1.        , 0.        ]])"
            ]
          },
          "metadata": {
            "tags": []
          },
          "execution_count": 17
        }
      ]
    },
    {
      "cell_type": "markdown",
      "metadata": {
        "id": "sxKzQZ6DjbZI"
      },
      "source": [
        "##Ejemplo en español"
      ]
    },
    {
      "cell_type": "code",
      "metadata": {
        "id": "rEaesR7Nje84",
        "colab": {
          "base_uri": "https://localhost:8080/"
        },
        "outputId": "c874d7bf-f9dd-4552-fccd-92a3506feb46"
      },
      "source": [
        "from sklearn.feature_extraction.text import CountVectorizer\n",
        "from nltk.stem import SnowballStemmer\n",
        "\n",
        "# Creamos el conjunto de documentos que queremos analizar\n",
        "corpus = ['Este es el primer documento ficticio.', \n",
        "          'Este es el segundo documento que documenté. ¿Hay un documentador que documente?', \n",
        "          'Y este es el tercero mío. Tengo un método, muy metódico.',\n",
        "          'Es este el primer documento?']\n",
        "\n",
        "# Creamos el stemmer para español\n",
        "stemmer = SnowballStemmer('spanish')\n",
        "\n",
        "# Obtenemos stopwords para español\n",
        "import nltk\n",
        "nltk.download('stopwords')\n",
        "stop_words = nltk.corpus.stopwords.words('spanish')\n",
        "print(stop_words)\n",
        "\n",
        "# Construimos un TOKENIZER con la tokenización que provee CountVectorizer\n",
        "tokenizer = CountVectorizer().build_tokenizer()\n",
        "\n",
        "# Definimos una función que aplica el stemming luego de tokenizar y remover stopwords\n",
        "def  stem_tokenizer(doc):\n",
        "    # Aplica la tokenización\n",
        "    tokens = tokenizer(doc)\n",
        "    # Retorna la lista de tokens luego de aplicar stemming si no es un stopword\n",
        "    return list(stemmer.stem(w) for w in tokens if w not in stop_words)\n",
        "\n",
        "#Inicializamos y aplicamos el CountVectorizer utilizando la función como analyzer\n",
        "vectorizer = CountVectorizer(tokenizer=stem_tokenizer, ngram_range=(1,2))\n",
        "X = vectorizer.fit_transform(corpus)\n",
        "features  = vectorizer.get_feature_names()\n",
        "\n",
        "\n",
        "# Mostramos los resultados\n",
        "print(vectorizer.get_feature_names())\n",
        "print(X.toarray())"
      ],
      "execution_count": null,
      "outputs": [
        {
          "output_type": "stream",
          "text": [
            "[nltk_data] Downloading package stopwords to /root/nltk_data...\n",
            "[nltk_data]   Unzipping corpora/stopwords.zip.\n",
            "['de', 'la', 'que', 'el', 'en', 'y', 'a', 'los', 'del', 'se', 'las', 'por', 'un', 'para', 'con', 'no', 'una', 'su', 'al', 'lo', 'como', 'más', 'pero', 'sus', 'le', 'ya', 'o', 'este', 'sí', 'porque', 'esta', 'entre', 'cuando', 'muy', 'sin', 'sobre', 'también', 'me', 'hasta', 'hay', 'donde', 'quien', 'desde', 'todo', 'nos', 'durante', 'todos', 'uno', 'les', 'ni', 'contra', 'otros', 'ese', 'eso', 'ante', 'ellos', 'e', 'esto', 'mí', 'antes', 'algunos', 'qué', 'unos', 'yo', 'otro', 'otras', 'otra', 'él', 'tanto', 'esa', 'estos', 'mucho', 'quienes', 'nada', 'muchos', 'cual', 'poco', 'ella', 'estar', 'estas', 'algunas', 'algo', 'nosotros', 'mi', 'mis', 'tú', 'te', 'ti', 'tu', 'tus', 'ellas', 'nosotras', 'vosotros', 'vosotras', 'os', 'mío', 'mía', 'míos', 'mías', 'tuyo', 'tuya', 'tuyos', 'tuyas', 'suyo', 'suya', 'suyos', 'suyas', 'nuestro', 'nuestra', 'nuestros', 'nuestras', 'vuestro', 'vuestra', 'vuestros', 'vuestras', 'esos', 'esas', 'estoy', 'estás', 'está', 'estamos', 'estáis', 'están', 'esté', 'estés', 'estemos', 'estéis', 'estén', 'estaré', 'estarás', 'estará', 'estaremos', 'estaréis', 'estarán', 'estaría', 'estarías', 'estaríamos', 'estaríais', 'estarían', 'estaba', 'estabas', 'estábamos', 'estabais', 'estaban', 'estuve', 'estuviste', 'estuvo', 'estuvimos', 'estuvisteis', 'estuvieron', 'estuviera', 'estuvieras', 'estuviéramos', 'estuvierais', 'estuvieran', 'estuviese', 'estuvieses', 'estuviésemos', 'estuvieseis', 'estuviesen', 'estando', 'estado', 'estada', 'estados', 'estadas', 'estad', 'he', 'has', 'ha', 'hemos', 'habéis', 'han', 'haya', 'hayas', 'hayamos', 'hayáis', 'hayan', 'habré', 'habrás', 'habrá', 'habremos', 'habréis', 'habrán', 'habría', 'habrías', 'habríamos', 'habríais', 'habrían', 'había', 'habías', 'habíamos', 'habíais', 'habían', 'hube', 'hubiste', 'hubo', 'hubimos', 'hubisteis', 'hubieron', 'hubiera', 'hubieras', 'hubiéramos', 'hubierais', 'hubieran', 'hubiese', 'hubieses', 'hubiésemos', 'hubieseis', 'hubiesen', 'habiendo', 'habido', 'habida', 'habidos', 'habidas', 'soy', 'eres', 'es', 'somos', 'sois', 'son', 'sea', 'seas', 'seamos', 'seáis', 'sean', 'seré', 'serás', 'será', 'seremos', 'seréis', 'serán', 'sería', 'serías', 'seríamos', 'seríais', 'serían', 'era', 'eras', 'éramos', 'erais', 'eran', 'fui', 'fuiste', 'fue', 'fuimos', 'fuisteis', 'fueron', 'fuera', 'fueras', 'fuéramos', 'fuerais', 'fueran', 'fuese', 'fueses', 'fuésemos', 'fueseis', 'fuesen', 'sintiendo', 'sentido', 'sentida', 'sentidos', 'sentidas', 'siente', 'sentid', 'tengo', 'tienes', 'tiene', 'tenemos', 'tenéis', 'tienen', 'tenga', 'tengas', 'tengamos', 'tengáis', 'tengan', 'tendré', 'tendrás', 'tendrá', 'tendremos', 'tendréis', 'tendrán', 'tendría', 'tendrías', 'tendríamos', 'tendríais', 'tendrían', 'tenía', 'tenías', 'teníamos', 'teníais', 'tenían', 'tuve', 'tuviste', 'tuvo', 'tuvimos', 'tuvisteis', 'tuvieron', 'tuviera', 'tuvieras', 'tuviéramos', 'tuvierais', 'tuvieran', 'tuviese', 'tuvieses', 'tuviésemos', 'tuvieseis', 'tuviesen', 'teniendo', 'tenido', 'tenida', 'tenidos', 'tenidas', 'tened']\n",
            "['document', 'document document', 'document fictici', 'fictici', 'metod', 'metod metod', 'prim', 'prim document', 'segund', 'segund document', 'tercer', 'tercer metod']\n",
            "[[1 0 1 1 0 0 1 1 0 0 0 0]\n",
            " [4 3 0 0 0 0 0 0 1 1 0 0]\n",
            " [0 0 0 0 2 1 0 0 0 0 1 1]\n",
            " [1 0 0 0 0 0 1 1 0 0 0 0]]\n"
          ],
          "name": "stdout"
        }
      ]
    },
    {
      "cell_type": "code",
      "metadata": {
        "id": "v3Ki-WDQlE9E"
      },
      "source": [
        "from yellowbrick.text import FreqDistVisualizer\n",
        "visualizer = FreqDistVisualizer(features=features, n=min(50,len(features)),orient='h')\n",
        "visualizer.fit(X)"
      ],
      "execution_count": null,
      "outputs": []
    },
    {
      "cell_type": "markdown",
      "metadata": {
        "id": "w48I3koyhvYv"
      },
      "source": [
        "# Preprocesamiento con TfidfVectorizer\n",
        "El TfidfVectorizer convierte una colección de documentos a una matriz TF-IDF.\n",
        "Es equivalente a aplicar CountVectorizer seguido de TfidfTransformer."
      ]
    },
    {
      "cell_type": "code",
      "metadata": {
        "id": "p3jPG62th_sO",
        "colab": {
          "base_uri": "https://localhost:8080/"
        },
        "outputId": "e04164e8-0f1e-4233-fd10-abdce198b71d"
      },
      "source": [
        "from sklearn.feature_extraction.text import TfidfVectorizer\n",
        "from nltk.stem import PorterStemmer\n",
        "\n",
        "# Creamos el conjunto de documentos que queremos analizar\n",
        "corpus = ['This is the first fictitious document.', \n",
        "          'This document is the second Document documented.', \n",
        "          'And this is the third one.',\n",
        "          'Is this the first document?']\n",
        "# Creamos el stemmer\n",
        "stemmer = PorterStemmer()\n",
        "# Construimos un analyzer con el preprocesamiento que si provee CountVectorizer\n",
        "analyzer = TfidfVectorizer(stop_words='english').build_analyzer()\n",
        "\n",
        "# Definimos una función que suma el stemming al preprocesamiento que provee el analyzer\n",
        "def stemmed_words(doc):\n",
        "    return (stemmer.stem(w) for w in analyzer(doc))\n",
        "\n",
        "#Inicializamos y aplicamos el CountVectorizer utilizando la función como analyzer\n",
        "vectorizer = TfidfVectorizer(analyzer=stemmed_words)\n",
        "X = vectorizer.fit_transform(corpus)\n",
        "\n",
        "# Mostramos los resultados\n",
        "print(vectorizer.get_feature_names())\n",
        "print(X.toarray())"
      ],
      "execution_count": null,
      "outputs": [
        {
          "output_type": "stream",
          "text": [
            "['document', 'fictiti', 'second']\n",
            "[[0.53802897 0.84292635 0.        ]\n",
            " [0.88640595 0.         0.46290873]\n",
            " [0.         0.         0.        ]\n",
            " [1.         0.         0.        ]]\n"
          ],
          "name": "stdout"
        }
      ]
    }
  ]
}