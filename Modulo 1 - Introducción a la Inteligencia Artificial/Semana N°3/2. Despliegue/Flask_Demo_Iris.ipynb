{
  "nbformat": 4,
  "nbformat_minor": 0,
  "metadata": {
    "colab": {
      "name": "Flask Demo - Iris.ipynb",
      "provenance": []
    },
    "kernelspec": {
      "name": "python3",
      "display_name": "Python 3"
    }
  },
  "cells": [
    {
      "cell_type": "code",
      "metadata": {
        "id": "LwRtxMWJG0Ao"
      },
      "source": [
        "!pip install flask-ngrok"
      ],
      "execution_count": null,
      "outputs": []
    },
    {
      "cell_type": "code",
      "metadata": {
        "id": "JyPF58NpJ2Ol"
      },
      "source": [
        "from google.colab import drive\n",
        "drive.mount('/content/gdrive')"
      ],
      "execution_count": null,
      "outputs": []
    },
    {
      "cell_type": "markdown",
      "metadata": {
        "id": "r3GdH8Xi9cBq"
      },
      "source": [
        "Usar curl o Postman (app o extension chrome) para POST\n",
        "\n",
        "*   Entrenar \n",
        "curl -X GET http://10a02b8a.ngrok.io/train\n",
        "\n",
        "*   Borrar el modelo\n",
        "curl -X GET http://10a02b8a.ngrok.io/wipe\n",
        "*   Predecir\n",
        "\n",
        "curl -i -X POST -H 'Content-Type: application/json' -d '  [ {\"sepal.length\" : 5.1, \"sepal.width\" : 3.5,\"petal.length\" : 1.4,\"petal.width\" : 0.2}, {\"sepal.length\" : 5.1, \"sepal.width\" : 3.5,\"petal.length\" : 1.4,\"petal.width\" : 0.2} ]' http://10a02b8a.ngrok.io/predict \n",
        "\n",
        "{\"prediction\":[\"Setosa\",\"Setosa\"]}\n",
        "\n",
        "\n",
        "\n",
        "Descarga de curl:\n",
        "windows:\n",
        "https://curl.haxx.se/windows/\n",
        "\n",
        "linux incluido (o se instala con administrador de paquetes)"
      ]
    },
    {
      "cell_type": "code",
      "metadata": {
        "id": "u9Y18DLYG22M"
      },
      "source": [
        "from flask_ngrok import run_with_ngrok\n",
        "from flask import Flask, request, jsonify\n",
        "import sys\n",
        "import os\n",
        "import shutil\n",
        "import time\n",
        "import traceback\n",
        "\n",
        "import pandas as pd\n",
        "from sklearn.externals import joblib\n",
        "\n",
        "\n",
        "\n",
        "app = Flask(__name__)\n",
        "run_with_ngrok(app)   #starts ngrok when the app is run\n",
        "\n",
        "# inputs\n",
        "training_data = '/content/gdrive/My Drive/Colab Notebooks/data/iris.csv'\n",
        "features = [\"sepal.length\",\"sepal.width\",\"petal.length\",\"petal.width\"]\n",
        "target_class = [\"variety\"]\n",
        "\n",
        "model_directory = '/content/gdrive/My Drive/Colab Notebooks/model'\n",
        "model_file_name = '%s/model.pkl' % model_directory\n",
        "\n",
        "clf= None\n",
        "\n",
        "\n",
        "@app.route('/predict', methods=['POST'])\n",
        "def predict():\n",
        "    if clf:\n",
        "        try:\n",
        "            json_ = request.json\n",
        "\n",
        "            query = pd.DataFrame(json_)\n",
        "            print(query)\n",
        "            \n",
        "            prediction = list(clf.predict(query))\n",
        "\n",
        "            print(prediction)\n",
        "            return jsonify({\"prediction\": list(prediction)})\n",
        "\n",
        "        except Exception as e:\n",
        "\n",
        "            return jsonify({'error': str(e), 'trace': traceback.format_exc()})\n",
        "    else:\n",
        "        print('train first')\n",
        "        return 'no model here'\n",
        "\n",
        "\n",
        "@app.route('/train', methods=['GET'])\n",
        "def train():\n",
        "    # using random forest as an example\n",
        "    # can do the training separately and just update the pickles\n",
        "    from sklearn.ensemble import RandomForestClassifier as rf\n",
        "\n",
        "    df = pd.read_csv(training_data)\n",
        "    x = df[features]\n",
        "    y = df[target_class]\n",
        "\n",
        "    print(x)\n",
        "    print(y)\n",
        "\n",
        "    global clf\n",
        "    clf = rf()\n",
        "    start = time.time()\n",
        "    clf.fit(x, y)\n",
        "\n",
        "    joblib.dump(clf, model_file_name)\n",
        "\n",
        "    message1 = 'Trained in %.5f seconds' % (time.time() - start)\n",
        "    message2 = 'Model training score: %s' % clf.score(x, y)\n",
        "    return_message = 'Success. \\n{0}. \\n{1}.'.format(message1, message2) \n",
        "    return return_message\n",
        "\n",
        "\n",
        "@app.route('/wipe', methods=['GET'])\n",
        "def wipe():\n",
        "    try:\n",
        "        shutil.rmtree(model_directory)\n",
        "        os.makedirs(model_directory)\n",
        "        return 'Model wiped'\n",
        "\n",
        "    except Exception as e:\n",
        "        print(str(e))\n",
        "        return 'Could not remove and recreate the model directory'\n",
        "\n",
        "\n",
        "\n",
        "@app.route(\"/\")\n",
        "def home():\n",
        "    return \"<h1>Running Flask on Google Colab!</h1>\"\n",
        "\n",
        "try:\n",
        "        clf = joblib.load(model_file_name)\n",
        "        print('model loaded')\n",
        "        \n",
        "except Exception as e:\n",
        "        print('No model here')\n",
        "        print('Train first')\n",
        "        print(str(e))\n",
        "        clf = None\n",
        "\n",
        "app.run()"
      ],
      "execution_count": null,
      "outputs": []
    },
    {
      "cell_type": "code",
      "metadata": {
        "id": "YGIwpPjhJ03w"
      },
      "source": [
        ""
      ],
      "execution_count": null,
      "outputs": []
    }
  ]
}