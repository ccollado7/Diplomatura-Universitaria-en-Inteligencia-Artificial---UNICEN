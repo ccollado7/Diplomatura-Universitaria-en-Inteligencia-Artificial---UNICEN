{
  "nbformat": 4,
  "nbformat_minor": 0,
  "metadata": {
    "colab": {
      "name": "DUIA NLP (2) - Pre-procesamiento Léxico.ipynb",
      "provenance": [],
      "collapsed_sections": [
        "pBJLCktdNe8z",
        "UZSZ17V_6M0M",
        "ms1g3sO1uG-z",
        "CFmYBoSruG8f",
        "kHZrOFRlxXkg"
      ]
    },
    "kernelspec": {
      "display_name": "Python 3",
      "language": "python",
      "name": "python3"
    },
    "language_info": {
      "codemirror_mode": {
        "name": "ipython",
        "version": 3
      },
      "file_extension": ".py",
      "mimetype": "text/x-python",
      "name": "python",
      "nbconvert_exporter": "python",
      "pygments_lexer": "ipython3",
      "version": "3.7.6"
    }
  },
  "cells": [
    {
      "cell_type": "markdown",
      "metadata": {
        "id": "KGEqmEh9MyoR"
      },
      "source": [
        "# Procesamiento de Lenguaje Natural - **Pre-procesamiento & Análisis Léxico**\n",
        "\n",
        "Esta notebook presenta ejemplos de los diferentes aspectos relacionados con el pre-procesamiento y análisis léxico vistos en clase.\n"
      ]
    },
    {
      "cell_type": "markdown",
      "metadata": {
        "id": "JzceYoAM5bg-"
      },
      "source": [
        "En caso de que los ejemplos lo requieran, los ejecutaremos tomando como base el comienzo de \"Harry Potter y la Piedra Filosofal\"."
      ]
    },
    {
      "cell_type": "code",
      "metadata": {
        "id": "VyYSYfoy5Ykh"
      },
      "source": [
        "text = \"Mr. and Mrs. Dursley, of number four, Privet Drive, were proud to say that they were perfectly normal, thank you very much. They were the last people you'd expect to be involved in anything strange or mysterious, because they just didn't hold with such nonsense. \\\n",
        "        Mr. Dursley was the director of a firm called Grunnings, which made drills. He was a big, beefy man with hardly any neck, although he did have a very large mustache. Mrs. Dursley was thin and blonde and had nearly twice the usual amount of neck, which came in very useful as she spent so much of her time craning over garden fences, spying on the neighbors. The Dursleys had a small son called Dudley and in their opinion there was no finer boy anywhere.\"\n",
        "\n",
        "text_list = [\"Mr. and Mrs. Dursley, of number four, Privet Drive, were proud to say that they were perfectly normal, thank you very much.\",\n",
        "                    \"They were the last people you'd expect to be involved in anything strange or mysterious, because they just didn't hold with such nonsense.\",\n",
        "                    \"Mr. Dursley was the director of a firm called Grunnings, which made drills.\"\n",
        "                    \"He was a big, beefy man with hardly any neck, although he did have a very large mustache.\"\n",
        "                    \"Mrs. Dursley was thin and blonde and had nearly twice the usual amount of neck, which came in very useful as she spent so much of her time craning over garden fences, spying on the neighbors.\",\n",
        "                    \"The Dursleys had a small son called Dudley and in their opinion there was no finer boy anywhere.\"]\n",
        "\n",
        "text_short = \"Mr. and Mrs. Dursley, of number four, Privet Drive, were proud to say that they were perfectly normal, thank you very much\""
      ],
      "execution_count": null,
      "outputs": []
    },
    {
      "cell_type": "markdown",
      "metadata": {
        "id": "QIHpJypYM-3i"
      },
      "source": [
        "## Pre-procesamiento\n",
        "\n",
        "Es el proceso que consiste en limpiar y estandarizar el texto de forma que pueda ser consumido por otros sistemas. La idea es remover \"todo aquello que sobre\" y obtener el texto \"limpio\".\n",
        "\n",
        "Vamos a ver cómo:\n",
        "\n",
        "* Eliminar tags html.\n",
        "* Case conversion.\n",
        "* Eliminar caracteres especiales.\n",
        "* Eliminar términos innecesarios.\n",
        "* Segmentación y tokenización de texto\n",
        "* Expandir contracciones.\n",
        "* Corregir spelling.\n",
        "* Normalización de inflecciones."
      ]
    },
    {
      "cell_type": "markdown",
      "metadata": {
        "id": "e7SRAtutNIyx"
      },
      "source": [
        "### Eliminar tags html\n",
        "\n",
        "* El texto no estructurado puede tener mucho ruido, especialmente si el texto fue scrappeado de la Web.\n",
        "\n",
        "* Típicamente, los tags HTML, JavaScript y IFrame no agregan valor al análisis del texto.\n",
        "\n",
        "* El objetivo es extraer contenido textual significativo a partir de los datos extraídos de la Web."
      ]
    },
    {
      "cell_type": "markdown",
      "metadata": {
        "id": "1NB-xoqiy2FO"
      },
      "source": [
        "¿Qué vamos a hacer?\n",
        "\n",
        "Vamos a traernos el contenido de la página de Wikipedia dedicada a ```Harry Potter```. "
      ]
    },
    {
      "cell_type": "code",
      "metadata": {
        "id": "VG9WawsqwoCD"
      },
      "source": [
        "import requests\n",
        "data = requests.get('https://en.wikipedia.org/wiki/Harry_Potter') \n",
        "content = data.content # obtenemos el contenido de la página\n",
        "print(content)"
      ],
      "execution_count": null,
      "outputs": []
    },
    {
      "cell_type": "markdown",
      "metadata": {
        "id": "Sd3-UDU5wtpZ"
      },
      "source": [
        "En este caso vamos a aprovechar ``BeautifulSoup`` que ya permite eliminar los tags, pero también podríamos haberlo realizado utilizando expresiones regulares, como veremos más adelante. \n",
        "\n",
        "\n",
        "Notar que respeta los saltos de línea y no elimina el código javascript que aparece en la página."
      ]
    },
    {
      "cell_type": "code",
      "metadata": {
        "id": "TAA3BxDywtLk"
      },
      "source": [
        "from bs4 import BeautifulSoup\n",
        "\n",
        "soup = BeautifulSoup(content,\"html.parser\")\n",
        "textw = soup.get_text()\n",
        "print(textw)"
      ],
      "execution_count": null,
      "outputs": []
    },
    {
      "cell_type": "markdown",
      "metadata": {
        "id": "9xlafjESwu2d"
      },
      "source": [
        "**Ojo!** En este caso se elimina todo lo que esté relacionado al html recuperado, pero puede que por necesidades de nuestra aplicación esto no sea suficiente y tengamos que realizar un procesamiento más \"inteligente\" del html debiendo acceder a sus elementos por clase y navegando el árbol."
      ]
    },
    {
      "cell_type": "markdown",
      "metadata": {
        "id": "pBJLCktdNe8z"
      },
      "source": [
        "### Case conversion\n",
        "\n",
        "En la mayoría de los casos el matching entre términos suele ser léxico, por ejemplo, \"Casa\" y \"casa\" serían detectados como palabras diferentes. Esto tiene como consecuencia, por un lado, la creación innecesaria de un vocabulario/diccionario (el conjunto total de palabras) más amplio, y por otro la imposibilidad de encontrar otras estructuras similares. Es por esto que es impotante que las palabras (o tokens como vamos a ver más adelante) estén escritas de la misma forma. \n",
        "\n",
        "Para ello se suele convertir todas las palabras a algún case particular.\n",
        "* lower case\n",
        "* Upper case\n",
        "* Title Case"
      ]
    },
    {
      "cell_type": "code",
      "metadata": {
        "id": "4Zfy-b7Ayt0E"
      },
      "source": [
        "# lowercase\n",
        "text_ = 'The quick brown fox jumped over The Big Dog'\n",
        "text_.lower()"
      ],
      "execution_count": null,
      "outputs": []
    },
    {
      "cell_type": "code",
      "metadata": {
        "id": "W7qrg6Kyyts0"
      },
      "source": [
        "# uppercase\n",
        "text_.upper()"
      ],
      "execution_count": null,
      "outputs": []
    },
    {
      "cell_type": "code",
      "metadata": {
        "id": "Tjw9zbxDyszm"
      },
      "source": [
        "# title case\n",
        "text_.title()"
      ],
      "execution_count": null,
      "outputs": []
    },
    {
      "cell_type": "markdown",
      "metadata": {
        "id": "pWvQjSxTNh5U"
      },
      "source": [
        "### Eliminar caracteres especiales\n",
        "\n",
        "De forma similar a cuando eliminanos los tags de html, también podemos eliminar otros símbolos que y caracteres que agregan ruido a los textos. Dos elementos que suelen eliminarse con frecuencia son los dígitos y los caracteres no alfanuméricos.\n",
        "\n",
        "**Ojo!** Qué eliminar depende de la tarea a realizar!! "
      ]
    },
    {
      "cell_type": "markdown",
      "metadata": {
        "id": "S5zip4nWNKsP"
      },
      "source": [
        "#### Expresiones Regulares\n",
        "\n",
        "Una expresión regular (o regex) es un String que define un patrón de búsqueda.\n",
        "\n",
        "Cuatro tareas principales:\n",
        "* **Encontrar** una cadena en un texto más largo.\n",
        "* **Validar** que un String se adecua a un formato específico.\n",
        "* **Reemplazar** o **insertar** texto.\n",
        "* **Dividir** Strings.\n",
        "\n",
        "Además de poder encontrar secuencias definidas ad-hoc, existen algunas expresiones que permiten encontrar determinados conjuntos de caracteres. También existe un conjunto de caracteres especiales que no pueden ser utilizados de forma directa en las regex, debiendo ser escapeados. "
      ]
    },
    {
      "cell_type": "markdown",
      "metadata": {
        "id": "Vvni5S1n0FtJ"
      },
      "source": [
        "Python nos provee diversas funciones para reconocer y operar expresiones regulares:\n",
        "\n",
        "* ``match``. Intenta hacer matching entre la regex y el String desde el comienzo del String. Retorna un objeto match si lo encuentra, None si falla.\n",
        "\n",
        "* ``findall``. Retorna una lista de todas las instancias de la regex en el String, ordenados de izquierda a derecha.\n",
        "\n",
        "* ``search``. Similar a match(), pero busca en todo el String.\n",
        "\n",
        "* ``split``. Divide el String de acuerdo a las ocurrencias de la regex.\n",
        "\n",
        "* ``sub``. Reemplaza las coincidencias de la expresión regular por la expresión dada.\n"
      ]
    },
    {
      "cell_type": "code",
      "metadata": {
        "id": "84mitXDb0cvI"
      },
      "source": [
        "import re"
      ],
      "execution_count": null,
      "outputs": []
    },
    {
      "cell_type": "code",
      "metadata": {
        "id": "TthfqP1cQO7l"
      },
      "source": [
        "re.findall('cool','NLP is cool')"
      ],
      "execution_count": null,
      "outputs": []
    },
    {
      "cell_type": "code",
      "metadata": {
        "id": "p84lLEMFQO7m"
      },
      "source": [
        "re.findall('cool','NLP is the coolest'),re.findall('cool','She bought a watercooler'),re.findall('cool','NLP is supercool')"
      ],
      "execution_count": null,
      "outputs": []
    },
    {
      "cell_type": "code",
      "metadata": {
        "id": "seJ-r1rtQO7m"
      },
      "source": [
        "re.findall('a','The program is great'),re.findall('a','THE PROGRAM IS GREAT')"
      ],
      "execution_count": null,
      "outputs": []
    },
    {
      "cell_type": "code",
      "metadata": {
        "id": "HdCnvRWfQO7n"
      },
      "source": [
        "re.findall('3','Uso Python 3.7')"
      ],
      "execution_count": null,
      "outputs": []
    },
    {
      "cell_type": "code",
      "metadata": {
        "id": "ISBW_6jbQO7o"
      },
      "source": [
        "re.findall('\\s','NLP is cool')"
      ],
      "execution_count": null,
      "outputs": []
    },
    {
      "cell_type": "code",
      "metadata": {
        "id": "B3Nj5Ip7QO7o"
      },
      "source": [
        "re.findall('\\d','Tengo 2 perros y 1 gato')"
      ],
      "execution_count": null,
      "outputs": []
    },
    {
      "cell_type": "code",
      "metadata": {
        "id": "THKjhd19QO7p"
      },
      "source": [
        "re.findall('\\d','El precio del libro es 412.10')"
      ],
      "execution_count": null,
      "outputs": []
    },
    {
      "cell_type": "code",
      "metadata": {
        "id": "Gy7fgtYWQO7p"
      },
      "source": [
        "re.findall('\\D','El precio del libro es 412.10')"
      ],
      "execution_count": null,
      "outputs": []
    },
    {
      "cell_type": "code",
      "metadata": {
        "id": "sH5hpZqYQO7q"
      },
      "source": [
        "re.findall('\\w','a@B$1.^5! _')"
      ],
      "execution_count": null,
      "outputs": []
    },
    {
      "cell_type": "code",
      "metadata": {
        "id": "z_qzc0XHQO7q"
      },
      "source": [
        "re.findall('\\W','a@B$1.^5! _')"
      ],
      "execution_count": null,
      "outputs": []
    },
    {
      "cell_type": "code",
      "metadata": {
        "id": "p3or3y9xQO7r"
      },
      "source": [
        "re.findall('[aeiou]','manzana')"
      ],
      "execution_count": null,
      "outputs": []
    },
    {
      "cell_type": "code",
      "metadata": {
        "id": "jlf9oUOrQO7s"
      },
      "source": [
        "re.findall('[0123456789]','El precio del libro es 412.10'),re.findall('[0-9]','El precio del libro es 412.10')"
      ],
      "execution_count": null,
      "outputs": []
    },
    {
      "cell_type": "code",
      "metadata": {
        "id": "q8mcS9TNQO7s"
      },
      "source": [
        "re.findall('hello','hello!'),re.findall('^hello','hello!'),re.findall('hello$','hello!')"
      ],
      "execution_count": null,
      "outputs": []
    },
    {
      "cell_type": "code",
      "metadata": {
        "id": "RVu9wXPqQO7t"
      },
      "source": [
        "re.findall('hello','She said hello'),re.findall('^hello','She said hello'),re.findall('hello$','She said hello')"
      ],
      "execution_count": null,
      "outputs": []
    },
    {
      "cell_type": "code",
      "metadata": {
        "id": "e0FYaAp2QO7t"
      },
      "source": [
        "re.findall('Mr. Stark','Mr. Stark')"
      ],
      "execution_count": null,
      "outputs": []
    },
    {
      "cell_type": "code",
      "metadata": {
        "id": "paUjoVTPQO7t"
      },
      "source": [
        "re.findall('Mr. Stark','MrX Stark'),re.findall('Mr. Stark','Mr5 Stark')"
      ],
      "execution_count": null,
      "outputs": []
    },
    {
      "cell_type": "code",
      "metadata": {
        "id": "GFLA2SOhQO7u"
      },
      "source": [
        "re.findall('Mr\\. Stark','Mr. Stark'),re.findall('Mr\\. Stark','MrX Stark'),re.findall('Mr\\. Stark','Mr5 Stark')"
      ],
      "execution_count": null,
      "outputs": []
    },
    {
      "cell_type": "code",
      "metadata": {
        "id": "V9-SmP6WQO7u"
      },
      "source": [
        "re.findall('\\d\\d',\"We are in 2021.\"),re.findall('\\d{2}',\"We are in 2021.\")"
      ],
      "execution_count": null,
      "outputs": []
    },
    {
      "cell_type": "code",
      "metadata": {
        "id": "sLyRDtL0QO7v"
      },
      "source": [
        "re.findall('sounds?','It soundss cool'),re.findall('sounds+','It soundss cool'),re.findall('sounds*','It soundss cool')"
      ],
      "execution_count": null,
      "outputs": []
    },
    {
      "cell_type": "code",
      "metadata": {
        "id": "Sdm-SmrDQO7v"
      },
      "source": [
        "re.findall('sounds?','It sound cool'),re.findall('sounds+','It sound cool'),re.findall('sounds*','It sound cool')"
      ],
      "execution_count": null,
      "outputs": []
    },
    {
      "cell_type": "code",
      "metadata": {
        "id": "Vl4CB7_KQO7v"
      },
      "source": [
        "re.findall('([\\w\\.]+)@((?:[\\w]+\\.)+)([a-zA-Z]{2,4})','probando.lala@hotmail.com')"
      ],
      "execution_count": null,
      "outputs": []
    },
    {
      "cell_type": "code",
      "metadata": {
        "id": "SQu_1QVJQO7w"
      },
      "source": [
        "re.findall('(([\\w\\.]+)@((?:[\\w]+\\.)+)([a-zA-Z]{2,4}))','probando.lala@hotmail.com')"
      ],
      "execution_count": null,
      "outputs": []
    },
    {
      "cell_type": "markdown",
      "metadata": {
        "id": "GiuF4JjCQO7w"
      },
      "source": [
        "Veamos las opciones de matching en Python."
      ]
    },
    {
      "cell_type": "code",
      "metadata": {
        "id": "y_ZogkRq0X7U"
      },
      "source": [
        "regex = '[A-Z]\\w+' # una mayúscula seguida de 1 o más letras, dígitos o _\n",
        "\n",
        "to_match = \"hello World from DUIA\"\n",
        "\n",
        "# match\n",
        "print('match: ',re.match(regex,to_match))\n",
        "\n",
        "# findall\n",
        "print('findall: ',re.findall(regex,to_match))\n",
        "\n",
        "# search\n",
        "print('search: ',re.search(regex,to_match))\n",
        "\n",
        "# split\n",
        "print('split: ',re.split(regex,to_match))\n",
        "\n",
        "# replace\n",
        "print('replace: ',re.sub(regex,'REP',to_match))"
      ],
      "execution_count": null,
      "outputs": []
    },
    {
      "cell_type": "markdown",
      "metadata": {
        "id": "1qi5HHw2zZKo"
      },
      "source": [
        "Usando expresiones regulares, vamos a eliminar todo aquello que no sean letras y, opcionalmente, números."
      ]
    },
    {
      "cell_type": "code",
      "metadata": {
        "id": "HAJBZDE7zcFn"
      },
      "source": [
        "def remove_special_characters(text, remove_digits=False):\n",
        "    pattern = r'[^a-zA-Z0-9\\s]' if not remove_digits else r'[^a-zA-Z\\s]'\n",
        "    text = re.sub(pattern, '', text)\n",
        "    return text\n",
        "\n",
        "textSC = \"Well this was fun! What do you think? 123#@!\"\n",
        "\n",
        "print(remove_special_characters(textSC,remove_digits=True))\n",
        "\n",
        "print(remove_special_characters(textSC,remove_digits=False))"
      ],
      "execution_count": null,
      "outputs": []
    },
    {
      "cell_type": "markdown",
      "metadata": {
        "id": "Ny2FEp0xzkTE"
      },
      "source": [
        "Volviendo a la eliminación de tags html, ahora lo vamos a realizar utilizando expresiones regulares. \n",
        "\n",
        "Basándonos en la extracción que hace ``BeautifulSoup`` que ya usamos previamente le agregamos un poquito más de comportamiento para eliminar los scripts de código y los documentos embebidos. Luego, eliminamos los múltiples saltos de línea consecutivos."
      ]
    },
    {
      "cell_type": "code",
      "metadata": {
        "id": "aurrrEbOzjsV"
      },
      "source": [
        "def strip_html_tags(text):\n",
        "    soup = BeautifulSoup(text, \"html.parser\")\n",
        "    [s.extract() for s in soup(['iframe', 'script'])] # eliminamos los elementos de tipo iframe y script, si quisieramos recuperarlos y no solo borrarlos, deberíamos utilizar decompose\n",
        "    stripped_text = soup.get_text()\n",
        "    stripped_text = re.sub(r'[\\r|\\n|\\r\\n]+', '\\n', stripped_text) # reemplazamos secuencias de saltos de línea por uno solo\n",
        "    return stripped_text"
      ],
      "execution_count": null,
      "outputs": []
    },
    {
      "cell_type": "code",
      "metadata": {
        "id": "bARvz7vQ3LOF"
      },
      "source": [
        "clean_content = strip_html_tags(content)\n",
        "print(clean_content)"
      ],
      "execution_count": null,
      "outputs": []
    },
    {
      "cell_type": "markdown",
      "metadata": {
        "id": "fHlHIrBmQO7z"
      },
      "source": [
        "#### Normalización Unicode\n",
        "\n",
        "Dijimos que hay dos tipos de normalizaciones, canónica y de compatibilidad.\n",
        "\n",
        "**Equivalencia canónica**\n",
        "\n",
        "|  Equivalencia || Razón |\n",
        "| --- | --- | --- |\n",
        "| Ç   |  C◌̧ | Secuencias de chars combinados |\n",
        "| 가   | ᄀ ᅡ | Caracteres koreanos múltiples |\n",
        "\n",
        "Ambas formas son la misma. Cuando se las renderiza son lo indistinguibles."
      ]
    },
    {
      "cell_type": "code",
      "metadata": {
        "id": "a0bIV_NsQO70"
      },
      "source": [
        "print(\"\\u00C7\", \"\\u0043\"+\"\\u0327\")"
      ],
      "execution_count": null,
      "outputs": []
    },
    {
      "cell_type": "markdown",
      "metadata": {
        "id": "128VefIwQO71"
      },
      "source": [
        "Si los imprimimos por separado, veremos que no son lo mismo."
      ]
    },
    {
      "cell_type": "code",
      "metadata": {
        "id": "XsSpJcWyQO71"
      },
      "source": [
        "print(\"\\u00C7\", \"\\u0043\", \"\\u0327\")"
      ],
      "execution_count": null,
      "outputs": []
    },
    {
      "cell_type": "markdown",
      "metadata": {
        "id": "YO5KNldlQO72"
      },
      "source": [
        "**Equivalencia de compatibilidad**\n",
        "\n",
        "|  Equivalencia || Razón |\n",
        "| --- | --- | --- |\n",
        "| ℌ | H | Fuentes distintas |\n",
        "| \\[NBSP\\] | \\[SPACE\\] | Secuencias de salto de línea |\n",
        "| ① | 1 | Variante con círculo |\n",
        "| x² | x2 | Superíndice |\n",
        "| xⱼ | xj | Subíndice |\n",
        "| ½ | 1/2 | Fracciones |\n",
        "\n",
        "Se refiere principalmente a diferencias de formato. Hay una diferencia cuando se renderizan los chars: `ℌ` and `H`, or `½` and `1 ⁄ 2`.\n",
        "\n",
        "Si queremos comparar si estas formas que vemos \"parecidas\" o \"iguales\" son efectivamente iguales, veremos que no:"
      ]
    },
    {
      "cell_type": "code",
      "metadata": {
        "id": "nw1ZRKcpQO73"
      },
      "source": [
        "\"Ç\" == \"Ç\""
      ],
      "execution_count": null,
      "outputs": []
    },
    {
      "cell_type": "code",
      "metadata": {
        "id": "86jpFBBLQO73"
      },
      "source": [
        "\"ℌ\" == \"H\""
      ],
      "execution_count": null,
      "outputs": []
    },
    {
      "cell_type": "markdown",
      "metadata": {
        "id": "_qjB-BxLQO73"
      },
      "source": [
        "Hay cuatro formas de normalización:\n",
        "\n",
        "| Nombre | Abreviación | Descripción | Example |\n",
        "| --- | --- | --- | --- |\n",
        "| Form D | NFD | Descomposición *canónica*  | `Ç` → `C ̧` |\n",
        "| Form C | NFC | Descomposición *canónica* + composición *canónica* | `Ç` → `C ̧` → `Ç` |\n",
        "| Form KD | NFKD | Descomposición de *compatibilidad* | `ℌ ̧` → `H ̧` |\n",
        "| Form KC | NFKC | Descomposición de *compatibilidad* + composición *canónica* | `ℌ ̧` → `H ̧` → `Ḩ` |"
      ]
    },
    {
      "cell_type": "markdown",
      "metadata": {
        "id": "AvAtZNKEQO74"
      },
      "source": [
        "Vamos a ver cada forma con un ejemplo.\n",
        "\n",
        "Tenemos una c cedilla que puede ser representada de dos formas:\n",
        "\n",
        "* Como único char llamado *C mayúscula latina con cedilla* (``\\u00C7``).\n",
        "* Como dos chars llamados *C mayúscula latina* (``\\u0043``) + *cedilla combinada* (``\\u0327``)."
      ]
    },
    {
      "cell_type": "code",
      "metadata": {
        "id": "SFT73rnbQO74"
      },
      "source": [
        "c_with_cedilla = \"\\u00C7\"  # Latin capital C with cedilla (single character)\n",
        "c_with_cedilla"
      ],
      "execution_count": null,
      "outputs": []
    },
    {
      "cell_type": "code",
      "metadata": {
        "id": "Gb1Wm6rmQO75"
      },
      "source": [
        "c_plus_cedilla = \"\\u0043\\u0327\"  # \\u0043 = Latin capital C, \\u0327 = 'combining cedilla' (two characters)\n",
        "c_plus_cedilla"
      ],
      "execution_count": null,
      "outputs": []
    },
    {
      "cell_type": "code",
      "metadata": {
        "id": "HNx93752QO75"
      },
      "source": [
        "c_with_cedilla == c_plus_cedilla"
      ],
      "execution_count": null,
      "outputs": []
    },
    {
      "cell_type": "markdown",
      "metadata": {
        "id": "aEPYA4-7QO75"
      },
      "source": [
        "Si aplicamos **NFD** sobre la C con cedilla (``\\u00C7``), *descomponemos* el char en sus componentes, que en este caso son la *C mayúscula latina* (``\\u0043``) y *cedilla combinada* (``\\u0327``). \n",
        "\n",
        "Esto significa que si comparamos el char normalizado con **NFD** con la C cedilla que resulta de la combinación de dos chars, retornará ``true``."
      ]
    },
    {
      "cell_type": "code",
      "metadata": {
        "id": "3WvN7j3vQO76"
      },
      "source": [
        "import unicodedata"
      ],
      "execution_count": null,
      "outputs": []
    },
    {
      "cell_type": "code",
      "metadata": {
        "id": "UcPKs8L8QO76"
      },
      "source": [
        "unicodedata.normalize('NFD', c_with_cedilla) == c_plus_cedilla"
      ],
      "execution_count": null,
      "outputs": []
    },
    {
      "cell_type": "markdown",
      "metadata": {
        "id": "8ivcGxhIQO77"
      },
      "source": [
        "Sin embargo, si aplicamos **NFC** sobre la C con cedilla (``\\u00C7``), *descomponemos* el char en sus componentes, que en este caso son la *C mayúscula latina* (``\\u0043``) y *cedilla combinada* (``\\u0327``), para luego *componerlos* nuevamente a ``\\u00C7``, lo que significa que no va a matchear."
      ]
    },
    {
      "cell_type": "code",
      "metadata": {
        "id": "gtjf0RbIQO77"
      },
      "source": [
        "unicodedata.normalize('NFC', c_with_cedilla) == c_plus_cedilla"
      ],
      "execution_count": null,
      "outputs": []
    },
    {
      "cell_type": "markdown",
      "metadata": {
        "id": "TdoCKDZcQO77"
      },
      "source": [
        "Si por el contrario, usamos **NFC** sobre la C cedilla combinada, primero serán *descompuestos* (lo cual no tendrá ningún efecto dado que ya se encuentra descompuesto), y luego *compuesto* en la versión `\\u00C7` de un único char."
      ]
    },
    {
      "cell_type": "code",
      "metadata": {
        "id": "bE-eLvKIQO78"
      },
      "source": [
        "c_with_cedilla == unicodedata.normalize('NFC', c_plus_cedilla)"
      ],
      "execution_count": null,
      "outputs": []
    },
    {
      "cell_type": "markdown",
      "metadata": {
        "id": "V6DQXZD4QO78"
      },
      "source": [
        "La normación **NFK** no descompone los chars en sus sub-componentes, sino, que en sus versiones más \"normales\".\n",
        "\n",
        "Por ejemplo, si tenenos la h \"fancy\" *ℌ* `\\u210B`, no podemos de componerla en múltiples chars, con lo que ni *NFD* ni *NFC* tendrán ningún efecto. Sin embargo, si aplicamos **NFKD**, veremos que se transforma en una *H* \"sencilla\" (`\\u0048`)."
      ]
    },
    {
      "cell_type": "code",
      "metadata": {
        "id": "LJheuPMjQO79"
      },
      "source": [
        "unicodedata.normalize('NFKD', 'ℌ')"
      ],
      "execution_count": null,
      "outputs": []
    },
    {
      "cell_type": "markdown",
      "metadata": {
        "id": "U633p1RyQO79"
      },
      "source": [
        "Qué pasa si se nos ocurre combinar ℌ (`\\u210B`) con la cedilla (`\\u0328`)?"
      ]
    },
    {
      "cell_type": "code",
      "metadata": {
        "id": "MXQw5D20QO79"
      },
      "source": [
        "\"\\u210B\\u0327\""
      ],
      "execution_count": null,
      "outputs": []
    },
    {
      "cell_type": "markdown",
      "metadata": {
        "id": "7O-V2Y3XQO7-"
      },
      "source": [
        "Si aplicamos **NFKD** nos va a dar la H mayúscula y una cedilla."
      ]
    },
    {
      "cell_type": "code",
      "metadata": {
        "id": "hMvCPfJbQO7-"
      },
      "source": [
        "unicodedata.normalize('NFKD', \"\\u210B\\u0327\").encode('utf-8')"
      ],
      "execution_count": null,
      "outputs": []
    },
    {
      "cell_type": "markdown",
      "metadata": {
        "id": "IBzEDdIkQO7-"
      },
      "source": [
        "Pero, si aplicamos **NFKC**, primero se aplica la descomposición de compatibilidad, a dos chars separados, antes de componerlos canónicamente."
      ]
    },
    {
      "cell_type": "code",
      "metadata": {
        "id": "9lFFnr5NQO7-"
      },
      "source": [
        "unicodedata.normalize('NFKC', \"\\u210B\\u0327\").encode('utf-8')"
      ],
      "execution_count": null,
      "outputs": []
    },
    {
      "cell_type": "markdown",
      "metadata": {
        "id": "IsSpFSggQO7_"
      },
      "source": [
        "Debido a que la diferencia entre estos dos métodos es una composición canónica, no se observan diferencias cuando los chars son mostrados."
      ]
    },
    {
      "cell_type": "code",
      "metadata": {
        "id": "II18o7GTQO7_"
      },
      "source": [
        "unicodedata.normalize('NFKC', \"\\u210B\\u0327\"), unicodedata.normalize('NFKD', \"\\u210B\\u0327\"), "
      ],
      "execution_count": null,
      "outputs": []
    },
    {
      "cell_type": "markdown",
      "metadata": {
        "id": "yAoA3TO5No90"
      },
      "source": [
        "#### Normalización - Acentos\n",
        "\n",
        "Un caso especial de la eliminación de caracteres especiales, es la eliminación de acentos. Si los acentos no aportan información, lo mejor es eliminarlos. Por ejemplo, en el caso en el que estemos trabajando con idioma inglés, que no los incluyen.\n",
        "\n",
        "El segundo parámetro del encode y decode determina la estrategia de manejo de errores:\n",
        "* ```strict```. Por defecto. Lanza excepción si no es posible la conversión.\n",
        "* ```ignore```. Ignoramos los errores y se intenta dejar el texto lo más legible posible.\n",
        "* ```replace```. Se reemplazan los caracteres que generaron los errores por \"?\".\n"
      ]
    },
    {
      "cell_type": "code",
      "metadata": {
        "id": "YEyp9tAW4KpG"
      },
      "source": [
        "title = u\"Klüft skräms inför på fédéral électoral große\"\n",
        "print (title.encode('ascii','ignore')) # de esta forma se pierden muchos caracteres\n",
        "print (title.encode('ascii','replace'))"
      ],
      "execution_count": null,
      "outputs": []
    },
    {
      "cell_type": "code",
      "metadata": {
        "id": "Ws4bLmB44YEJ"
      },
      "source": [
        "print (title.encode('utf-8','ignore'))"
      ],
      "execution_count": null,
      "outputs": []
    },
    {
      "cell_type": "code",
      "metadata": {
        "id": "aBRO2n8G4gK4"
      },
      "source": [
        "print (unicodedata.normalize('NFKD', title).encode('ascii', 'ignore').decode('utf-8', 'ignore'))"
      ],
      "execution_count": null,
      "outputs": []
    },
    {
      "cell_type": "code",
      "metadata": {
        "id": "YHsdOgkUz79Q"
      },
      "source": [
        "def remove_accented_chars(text):\n",
        "    text = unicodedata.normalize('NFKD', text).encode('ascii', 'ignore').decode('utf-8', 'ignore')\n",
        "    text = text.encode(\"utf-8\",'ignore')\n",
        "    return text\n",
        "\n",
        "remove_accented_chars('Sómě Áccěntěd těxt')"
      ],
      "execution_count": null,
      "outputs": []
    },
    {
      "cell_type": "markdown",
      "metadata": {
        "id": "i-RbHEB9Nvsg"
      },
      "source": [
        "### Segmentación - Tokenización\n",
        "\n",
        "Un párrafo de texto, o un documento tienen diversos componentes, incluyendo oraciones, las cuales pueden ser divididas en frases y palabras.\n",
        "\n",
        "En este sentido, la tokenización es el proceso de separar el texto en partes más pequeñas y significativas, denominadas \"tokens\". Los tokens son independientes y son los componentes mínimos que tienen una sintaxis (y una semántica) determinada.\n",
        "\n",
        "Las formas más comunes de tokenización incluyen la tokenización de oraciones (texto --> oraciones) y palabras (oraciones --> palabras)."
      ]
    },
    {
      "cell_type": "markdown",
      "metadata": {
        "id": "UC5lLSo048Au"
      },
      "source": [
        "![image.png](data:image/png;base64,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)"
      ]
    },
    {
      "cell_type": "markdown",
      "metadata": {
        "id": "QWZGJxFwt2m8"
      },
      "source": [
        "#### Tokenización de oraciones\n",
        "\n",
        "En este caso, vamos a dividir un párrafo o texto en oraciones que conformaran los tokens de primer nivel del texto.\n"
      ]
    },
    {
      "cell_type": "markdown",
      "metadata": {
        "id": "xDp8Mv223VJA"
      },
      "source": [
        "##### NLTK\n",
        "\n",
        "Provee diversas alternativas. Vamos a concentrarnos en dos:\n",
        "* ``Sent_tokenize``. Incluye al resto de las alternativas.\n",
        "* ``RegExp``. Se basa en la definición de una expresión regular. Puede generar complicaciones dependiendo del idioma que se este queriendo tokenizar."
      ]
    },
    {
      "cell_type": "code",
      "metadata": {
        "id": "0D-fyL_t76HJ"
      },
      "source": [
        "import nltk\n",
        "\n",
        "import numpy as np\n",
        "nltk.download('punkt') # necesitamos descargar el tokenizer que va a ser usado internamente"
      ],
      "execution_count": null,
      "outputs": []
    },
    {
      "cell_type": "code",
      "metadata": {
        "id": "T-TNnHcB3Vhs"
      },
      "source": [
        "default_st = nltk.sent_tokenize\n",
        "\n",
        "hp_sentences = default_st(text=text)\n",
        "print('Total sentences in sample_text:', len(hp_sentences))\n",
        "print('Sample text sentences :-')\n",
        "print(np.array(hp_sentences))"
      ],
      "execution_count": null,
      "outputs": []
    },
    {
      "cell_type": "markdown",
      "metadata": {
        "id": "RNMCabyR3V7N"
      },
      "source": [
        "Ahora definiendo una expresión regular...\n",
        "\n",
        "La expresión a utilizar trata de encontrar secuencias de letras (tanto mayúsculas como minúsculas) que esten seguidas por puntos. Utilizar este tokenizer implica utilizar un enfoque más ad-hoc. Tiene sentido si, por algún motivo, se quiere modificar la definición \"standard\" de lo que el lenguaje considera una oración. \n",
        "\n",
        "Nótese también que la expresión regular a utilizar depende del idioma que se quiere tokenizar, dado que no todos los idiomas tienen las mismas reglas que el inglés. Por ejemplo, el chino o el árabe."
      ]
    },
    {
      "cell_type": "code",
      "metadata": {
        "id": "qItXH-Ks3WXe"
      },
      "source": [
        "SENTENCE_TOKENS_PATTERN = r'(?<!\\w\\.\\w.)(?<![A-Z][a-z]\\.)(?<![A-Z]\\.)(?<=\\.|\\?|\\!)\\s' \n",
        "# (?<!  ) hace referencia a un negative lookbehind, es decir que lo que sigue a ?<! no esté antecedido por la expresión o grupo que sigue ej. (?<!a)b matchea bed y no cab \n",
        "# (?<= ) hace referencia a un positive lookbehing, es decir, que lo que sugue a ?<! esté antecedido por la expresión o grupo que sigue ej. (?<!a)b matchea cab y no bed\n",
        "\n",
        "regex_st = nltk.tokenize.RegexpTokenizer(pattern=SENTENCE_TOKENS_PATTERN,gaps=True)\n",
        "\n",
        "hp_sentences = regex_st.tokenize(text)\n",
        "\n",
        "print('Total sentences in sample_text:', len(hp_sentences))\n",
        "print('Sample text sentences :-')\n",
        "print(np.array(hp_sentences))\n"
      ],
      "execution_count": null,
      "outputs": []
    },
    {
      "cell_type": "markdown",
      "metadata": {
        "id": "Aitl2ugt3exr"
      },
      "source": [
        "##### spaCy\n",
        "\n",
        "Es una biblioteca muy completa, pero no es la mejor desde un punto de vista de consistencia entre versiones. Los cambios de funcionalidad vienen acompañados de cambios a la interfaz de la API, por ejemplo, en cómo se llaman los modelos, como se crean los elementos, cuales son las partes constitutivas de los elementos, ...\n",
        "\n",
        "Hay que leer bien la documentación y tener cuidado al actualizar!!"
      ]
    },
    {
      "cell_type": "code",
      "metadata": {
        "id": "36SGFoPl3iSE"
      },
      "source": [
        "pip install spacy"
      ],
      "execution_count": null,
      "outputs": []
    },
    {
      "cell_type": "code",
      "metadata": {
        "id": "b2TQBW4L7Qb4"
      },
      "source": [
        "import spacy\n",
        "import numpy as np"
      ],
      "execution_count": null,
      "outputs": []
    },
    {
      "cell_type": "code",
      "metadata": {
        "id": "sIxcnhv93irM"
      },
      "source": [
        "# recuerden que puede ser necesario tener que descargar el modelo previamente.\n",
        "# spacy.cli.download(\"en_core_web_sm\")\n",
        "nlp = spacy.load('en_core_web_sm') # se pueden cargar distintos modelos define qué es lo que va incluido en el pipeline de pre-procesamiento. En este caso, carga: pipeline\": [\"tagger\", \"parser\", \"ner\"]\n",
        "\n",
        "hp_doc = nlp(text)\n",
        "hp_sentences = list(hp_doc.sents)\n",
        "\n",
        "print('Total sentences in sample_text:', len(hp_sentences))\n",
        "print('Sample text sentences :')\n",
        "print(np.array(hp_sentences))"
      ],
      "execution_count": null,
      "outputs": []
    },
    {
      "cell_type": "markdown",
      "metadata": {
        "id": "W62ihwT53lKx"
      },
      "source": [
        "##### Stanford CoreNLP\n",
        "\n",
        "Otra opción más... Al igual que el de ```NLTK```, este word tokenizer también está basado en el Tree Bank Corpus. Al igual que ```spaCy```, también define un pipeline completo de pre-procesamientos y demás que se aplicarán al texto."
      ]
    },
    {
      "cell_type": "code",
      "metadata": {
        "id": "ISSQPcFM3p6x"
      },
      "source": [
        "pip install stanza"
      ],
      "execution_count": null,
      "outputs": []
    },
    {
      "cell_type": "code",
      "metadata": {
        "id": "TarLImpu-Efo"
      },
      "source": [
        "import stanza\n",
        "stanza.download('en') # hay que descargar los modelos para el lenguaje que querramos analizar"
      ],
      "execution_count": null,
      "outputs": []
    },
    {
      "cell_type": "code",
      "metadata": {
        "id": "Y1_7XXUf3lj8"
      },
      "source": [
        "nlp = stanza.Pipeline('en') # se setea el pipeline por defecto para el idioma inglés. Por defecto: tokenize, pos tagger, lemmatization, ner y parsing sintáctico\n",
        "\n",
        "stanford_hp_doc = nlp(text) # doc contiene todas las anotaciones\n",
        "\n",
        "for _,sentence in enumerate(stanford_hp_doc.sentences): \n",
        "    sent = ' '.join(word.text for word in sentence.words) # acceder al contenido de las oraciones no es trivial, hay que acceder a las palabras y concatenarlas\n",
        "    print(sent) # si imprimiésemos directamente sent, obtendríamos las palabras con cada uno de las etiquetas que le puso el pipeline"
      ],
      "execution_count": null,
      "outputs": []
    },
    {
      "cell_type": "markdown",
      "metadata": {
        "id": "8kJgmhLnt6_Y"
      },
      "source": [
        "#### Tokenización de palabras\n",
        "\n",
        "Así como el sentence tokenizer quería dividir un texto en oraciones, el word tokenizer tiene que como objetivo dividir una oración en palabras.\n",
        "\n",
        "La tokenización de palabras es importante en muchos procesos, especialmente en la limpieza y normalización de textos donde las operaciones como la derivación y la lematización se aplican a cada palabra individual en función de sus respectivos stems y lemas.\n"
      ]
    },
    {
      "cell_type": "markdown",
      "metadata": {
        "id": "_8ANhj5j3ygL"
      },
      "source": [
        "##### NLTK\n",
        "\n",
        "Provee varias alternativas:\n",
        "\n",
        "* ``word_tokenizer`` (usa el TreeBankWordTokenizer de fondo)\n",
        "* ``TreeBankWordTokenizer``. Utiliza expresiones regulares y asume que ya se realizó el tokenizado de oraciones. Sigue algunas reglas:\n",
        "  * Separa los puntos al final de las operaciones.\n",
        "  * Separa las comas y comillas simples seguidas por espacios.\n",
        "  * Se separa la mayoría de los signos de puntuación.\n",
        "  * Separa palabras y sus contracciones.\n",
        "\n",
        "* ``TokTokTokenizer``. Asume que se le da una oración por línea, con lo que solo el punto final es tokenizado. Si se necesita borrar algo más, se pueden agregar expresiones regulares. Funciona bien para diversos idiomas (English, Persian, Russian, Czech, French, German, Vietnamese)\n",
        "\n",
        "* ``Regexp``. "
      ]
    },
    {
      "cell_type": "markdown",
      "metadata": {
        "id": "8c63uG2YbcNv"
      },
      "source": [
        "![image.png](data:image/png;base64,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)"
      ]
    },
    {
      "cell_type": "code",
      "metadata": {
        "id": "I2MTbZlH5XJq"
      },
      "source": [
        "default_wt = nltk.word_tokenize # word_tokenizer por default\n",
        "words = default_wt(text) # le damos el texto completo\n",
        "np.array(words)"
      ],
      "execution_count": null,
      "outputs": []
    },
    {
      "cell_type": "code",
      "metadata": {
        "id": "4NmK8xaU5YJD"
      },
      "source": [
        "from nltk.tokenize.toktok import ToktokTokenizer\n",
        "\n",
        "words_toktok = ToktokTokenizer().tokenize(text)\n",
        "np.array(words_toktok)"
      ],
      "execution_count": null,
      "outputs": []
    },
    {
      "cell_type": "code",
      "metadata": {
        "id": "kmxUePP35ZUS"
      },
      "source": [
        "TOKEN_PATTERN = r'\\w+'\n",
        "\n",
        "regex_wt = nltk.RegexpTokenizer(pattern=TOKEN_PATTERN,gaps=False) # con False encuentra los tokens y con True los separadores de los tokens\n",
        "words_reg = regex_wt.tokenize(text)\n",
        "np.array(words_reg)"
      ],
      "execution_count": null,
      "outputs": []
    },
    {
      "cell_type": "markdown",
      "metadata": {
        "id": "jK64HVCD5Xqa"
      },
      "source": [
        "##### spaCy\n",
        "\n",
        "Recordemos que ya tenemos definido y ejecutado el pipeline  ```nlp``` de ```spaCy```, con lo que en este caso solo tenemos que acceder a los elementos.\n",
        "\n",
        "\n",
        "* El texto es dividido considerando los caracteres blancos.\n",
        "* Por cada substring, de izquierda a derecha, se hacen dos controles:\n",
        "\n",
        "  1. Coincide el String con una regla de excepción? Por ejemplo:\n",
        "    * “don’t” no contiene un blanco, pero debe ser separado en “do” y “n’t”.\n",
        "    * “U.K.” no debe separarse.\n",
        "\n",
        "  2. Puede extraerse un prefijo, sufijo o infijo? \n",
        "     * Por ejemplo, signos de puntuación (comas, puntos, comillas, hyphens).\n",
        "\n",
        "* Si hay una coincidencia se aplica la regla y se comienza con los Strings separados.\n",
        "\n",
        "Esto le permite a spaCy dividir estructuras complejas como estructuras anidadas o combinaciones multiples signos de puntuación.\n"
      ]
    },
    {
      "cell_type": "code",
      "metadata": {
        "id": "IIvS9ckv3y2Z"
      },
      "source": [
        "tokens = [ token.text for token in hp_doc ]\n",
        "print(tokens)"
      ],
      "execution_count": null,
      "outputs": []
    },
    {
      "cell_type": "markdown",
      "metadata": {
        "id": "nordtV593zT2"
      },
      "source": [
        "##### Stanford CoreNLP\n",
        "\n",
        "Como en ```spaCy```, ya tenemos ejecutado el pipeline con lo que en este caso solo tenemos que acceder a los elementos."
      ]
    },
    {
      "cell_type": "code",
      "metadata": {
        "id": "M9LF0W773z2-"
      },
      "source": [
        "for _, sentence in enumerate(stanford_hp_doc.sentences): \n",
        "    words = [word.text for word in sentence.words]\n",
        "    print(words)"
      ],
      "execution_count": null,
      "outputs": []
    },
    {
      "cell_type": "markdown",
      "metadata": {
        "id": "D4iiVQdat_i0"
      },
      "source": [
        "#### Expansión de contracciones\n",
        "\n",
        "Las contracciones son versiones acortadas de las palabras o sílabas, en las cuales se eliminaron letras o sonidos específicos. Por lo general son omitidas en la escritura formal, pero abundan en la informal como las redes sociales.\n",
        "\n",
        "Existen varias formas de contracciones y están vinculadas al tipo de verbos auxiliares, negaciones, ….\n",
        "\n",
        "Representan un problema porque:\n",
        "* Hacen que se incluyan tokens adicionales en el diccionario.\n",
        "* Pueden generar problemas cuando se está intentando realizar una tokenización.\n",
        "* Generan excepciones al tokenizar y estandarizar.\n",
        "\n",
        "\n",
        "Idealmente, se debe contar con el mapeo entre las contracciones y su correspondiente expansión. Se puede hacer directamente con expresiones regulares, pero resulta lento para textos de gran tamaño.\n",
        "\n",
        "\n",
        "\n",
        "\n",
        "\n"
      ]
    },
    {
      "cell_type": "markdown",
      "metadata": {
        "id": "fijejUF95vRk"
      },
      "source": [
        "##### Expresiones regulares\n",
        "\n",
        "La forma más básica de realizar la expansión es utilizando un mapa de contracciones que mapee la contracción a su forma expandida. Luego, el diccionario es utilizado como parte de una expresión regular para matchear y reemplazar."
      ]
    },
    {
      "cell_type": "code",
      "metadata": {
        "id": "LSi9Jvsr5wS0"
      },
      "source": [
        "CONTRACTION_MAP = { # nuestro mapa de contracciones\n",
        "\"ain't\": \"is not\",\n",
        "\"aren't\": \"are not\",\n",
        "\"can't\": \"cannot\",\n",
        "\"can't've\": \"cannot have\",\n",
        "\"'cause\": \"because\",\n",
        "\"could've\": \"could have\",\n",
        "\"couldn't\": \"could not\",\n",
        "\"couldn't've\": \"could not have\",\n",
        "\"didn't\": \"did not\",\n",
        "\"doesn't\": \"does not\",\n",
        "\"don't\": \"do not\",\n",
        "\"hadn't\": \"had not\",\n",
        "\"hadn't've\": \"had not have\",\n",
        "\"hasn't\": \"has not\",\n",
        "\"haven't\": \"have not\",\n",
        "\"he'd\": \"he would\",\n",
        "\"he'd've\": \"he would have\",\n",
        "\"he'll\": \"he will\",\n",
        "\"he'll've\": \"he he will have\",\n",
        "\"he's\": \"he is\", # notar que he's también podría ser he has, pero se opta por el uso más común\n",
        "\"how'd\": \"how did\",\n",
        "\"how'd'y\": \"how do you\",\n",
        "\"how'll\": \"how will\",\n",
        "\"how's\": \"how is\",\n",
        "\"I'd\": \"I would\", # esta también podría haber sido I had\n",
        "\"I'd've\": \"I would have\",\n",
        "\"I'll\": \"I will\",\n",
        "\"I'll've\": \"I will have\",\n",
        "\"I'm\": \"I am\",\n",
        "\"I've\": \"I have\",\n",
        "\"i'd\": \"i would\",\n",
        "\"i'd've\": \"i would have\",\n",
        "\"i'll\": \"i will\",\n",
        "\"i'll've\": \"i will have\",\n",
        "\"i'm\": \"i am\",\n",
        "\"i've\": \"i have\",\n",
        "\"isn't\": \"is not\",\n",
        "\"it'd\": \"it would\",\n",
        "\"it'd've\": \"it would have\",\n",
        "\"it'll\": \"it will\",\n",
        "\"it'll've\": \"it will have\",\n",
        "\"it's\": \"it is\",\n",
        "\"let's\": \"let us\",\n",
        "\"ma'am\": \"madam\",\n",
        "\"mayn't\": \"may not\",\n",
        "\"might've\": \"might have\",\n",
        "\"mightn't\": \"might not\",\n",
        "\"mightn't've\": \"might not have\",\n",
        "\"must've\": \"must have\",\n",
        "\"mustn't\": \"must not\",\n",
        "\"mustn't've\": \"must not have\",\n",
        "\"needn't\": \"need not\",\n",
        "\"needn't've\": \"need not have\",\n",
        "\"o'clock\": \"of the clock\",\n",
        "\"oughtn't\": \"ought not\",\n",
        "\"oughtn't've\": \"ought not have\",\n",
        "\"shan't\": \"shall not\",\n",
        "\"sha'n't\": \"shall not\",\n",
        "\"shan't've\": \"shall not have\",\n",
        "\"she'd\": \"she would\",\n",
        "\"she'd've\": \"she would have\",\n",
        "\"she'll\": \"she will\",\n",
        "\"she'll've\": \"she will have\",\n",
        "\"she's\": \"she is\",\n",
        "\"should've\": \"should have\",\n",
        "\"shouldn't\": \"should not\",\n",
        "\"shouldn't've\": \"should not have\",\n",
        "\"so've\": \"so have\",\n",
        "\"so's\": \"so as\",\n",
        "\"that'd\": \"that would\",\n",
        "\"that'd've\": \"that would have\",\n",
        "\"that's\": \"that is\",\n",
        "\"there'd\": \"there would\",\n",
        "\"there'd've\": \"there would have\",\n",
        "\"there's\": \"there is\",\n",
        "\"they'd\": \"they would\",\n",
        "\"they'd've\": \"they would have\",\n",
        "\"they'll\": \"they will\",\n",
        "\"they'll've\": \"they will have\",\n",
        "\"they're\": \"they are\",\n",
        "\"they've\": \"they have\",\n",
        "\"to've\": \"to have\",\n",
        "\"wasn't\": \"was not\",\n",
        "\"we'd\": \"we would\",\n",
        "\"we'd've\": \"we would have\",\n",
        "\"we'll\": \"we will\",\n",
        "\"we'll've\": \"we will have\",\n",
        "\"we're\": \"we are\",\n",
        "\"we've\": \"we have\",\n",
        "\"weren't\": \"were not\",\n",
        "\"what'll\": \"what will\",\n",
        "\"what'll've\": \"what will have\",\n",
        "\"what're\": \"what are\",\n",
        "\"what's\": \"what is\",\n",
        "\"what've\": \"what have\",\n",
        "\"when's\": \"when is\",\n",
        "\"when've\": \"when have\",\n",
        "\"where'd\": \"where did\",\n",
        "\"where's\": \"where is\",\n",
        "\"where've\": \"where have\",\n",
        "\"who'll\": \"who will\",\n",
        "\"who'll've\": \"who will have\",\n",
        "\"who's\": \"who is\",\n",
        "\"who've\": \"who have\",\n",
        "\"why's\": \"why is\",\n",
        "\"why've\": \"why have\",\n",
        "\"will've\": \"will have\",\n",
        "\"won't\": \"will not\",\n",
        "\"won't've\": \"will not have\",\n",
        "\"would've\": \"would have\",\n",
        "\"wouldn't\": \"would not\",\n",
        "\"wouldn't've\": \"would not have\",\n",
        "\"y'all\": \"you all\",\n",
        "\"y'all'd\": \"you all would\",\n",
        "\"y'all'd've\": \"you all would have\",\n",
        "\"y'all're\": \"you all are\",\n",
        "\"y'all've\": \"you all have\",\n",
        "\"you'd\": \"you would\",\n",
        "\"you'd've\": \"you would have\",\n",
        "\"you'll\": \"you will\",\n",
        "\"you'll've\": \"you will have\",\n",
        "\"you're\": \"you are\",\n",
        "\"you've\": \"you have\"\n",
        "}"
      ],
      "execution_count": null,
      "outputs": []
    },
    {
      "cell_type": "code",
      "metadata": {
        "id": "SjHuNOVs52jh"
      },
      "source": [
        "def expand_contractions(sentence, contraction_mapping): # definimos una función que haga los reemplazos que corresponda\n",
        "    \n",
        "    contractions_pattern = re.compile('({})'.format('|'.join(contraction_mapping.keys())), # las {} en la primera parte indican lo que hay que reemplzar por el parámetro\n",
        "                                      flags=re.IGNORECASE|re.DOTALL) # dotall fuerza a que el punto matchee con cualquier caracter incluyendo el salto de línea\n",
        "    def expand_match(contraction):\n",
        "        match = contraction.group(0)\n",
        "        first_char = match[0]\n",
        "        expanded_contraction = contraction_mapping.get(match)\\\n",
        "                                   if contraction_mapping.get(match)\\\n",
        "                                     else contraction_mapping.get(match.lower())                       \n",
        "        expanded_contraction = first_char + expanded_contraction[1:]\n",
        "        return expanded_contraction\n",
        "        \n",
        "    expanded_sentence = contractions_pattern.sub(expand_match, sentence)\n",
        "    return expanded_sentence"
      ],
      "execution_count": null,
      "outputs": []
    },
    {
      "cell_type": "code",
      "metadata": {
        "id": "gJ6xmXa054Ap"
      },
      "source": [
        "text_to_expand = \"Oh no he didn't. I can't and I won't. I'll know what I'm gonna do.\"\n",
        "\n",
        "print(expand_contractions(text_to_expand,CONTRACTION_MAP))"
      ],
      "execution_count": null,
      "outputs": []
    },
    {
      "cell_type": "markdown",
      "metadata": {
        "id": "BOfqbd1v55dE"
      },
      "source": [
        "##### spaCy\n",
        "\n",
        "En este caso, es posible agregar excepciones al tokenizer, como se muestra en el siguiente fragmento de código. Sin embargo, si se observa la salida, las contracciones más comunes ya se encuentran incluidas en el tokenizer. La diferencia con el caso anterior es que la expansión no se hace sobre la parte conjugada sino sobre el lemma. Es por eso que al ejecutar vemos que \"I'm\" pasa a \"I be\" en lugar de a \"I am\".\n",
        "\n",
        "**Nota.** Acá también se pude observar un caso de incompatibilidad respecto a versiones más viejas de ``spaCy``. Mientras que en versiones viejas en las excepciones se podían especificar todos los tags (como ``LEMMA`` y ``TAG``), en las versiones más nuevas solo se permite ``ORTH`` y ``NORM``."
      ]
    },
    {
      "cell_type": "code",
      "metadata": {
        "id": "ltJpo1f857F1"
      },
      "source": [
        "import spacy\n",
        "from spacy.symbols import ORTH, LEMMA, NORM, TAG\n",
        "\n",
        "nlp = spacy.load('en_core_web_sm')  \n",
        "\n",
        "# nlp.tokenizer.add_special_case( 'I\\'m', [{ORTH: 'I', LEMMA: 'I'},{ORTH: '\\'m', LEMMA: 'be', NORM: 'am', TAG: 'VERB'}])\n",
        "nlp.tokenizer.add_special_case( 'I\\'m', [{ORTH: 'I'},{ORTH: '\\'m', NORM: 'am'}])\n",
        "\n",
        "doc1 = nlp(text_to_expand)\n",
        "for _, sentence in enumerate(doc1.sents): \n",
        "    print(sentence)\n",
        "\n",
        "for t in doc1:\n",
        "    print(t.text, t.lemma_)"
      ],
      "execution_count": null,
      "outputs": []
    },
    {
      "cell_type": "markdown",
      "metadata": {
        "id": "GqZEUWzRitti"
      },
      "source": [
        "#### Paquetes especiales para las contracciones\n",
        "\n",
        "Existen algunos paquetes que pueden ser utilizados que o bien traer el mapa de contracciones incorporado, o aplican modelos para definir las expansiones."
      ]
    },
    {
      "cell_type": "markdown",
      "metadata": {
        "id": "KoOhiOxnkWwt"
      },
      "source": [
        "##### Contractions\n",
        "\n",
        "Resuelve contracciones utilizando un diccionario, al que le agrega vocabulario del \"slang\". Por ejemplo:\n",
        "```\n",
        "ima    -> I am going to\n",
        "yall  -> you all\n",
        "gotta  -> got to\n",
        "```\n",
        "\n",
        "En el caso de ambigüedades, expande considerando el caso más común."
      ]
    },
    {
      "cell_type": "code",
      "metadata": {
        "id": "JZq95cfAkhYY"
      },
      "source": [
        "pip install contractions"
      ],
      "execution_count": null,
      "outputs": []
    },
    {
      "cell_type": "code",
      "metadata": {
        "id": "CfonqlNykgyK"
      },
      "source": [
        "import contractions\n",
        "\n",
        "print(contractions.fix(\"you're happy now\"))\n",
        "\n",
        "print(contractions.fix(\"yall're happy now\", slang=False)) # default: true\n",
        "\n",
        "print(contractions.fix(\"yall're happy now\")) # sin el indicador de slang, yall no la reconoce"
      ],
      "execution_count": null,
      "outputs": []
    },
    {
      "cell_type": "code",
      "metadata": {
        "id": "27aKoiSZkqEl"
      },
      "source": [
        "contractions.add('mychange', 'my change') # también es posible agregar contracciones propias"
      ],
      "execution_count": null,
      "outputs": []
    },
    {
      "cell_type": "markdown",
      "metadata": {
        "id": "D5SpBP2Wi-OB"
      },
      "source": [
        "##### [PyContractions](https://pypi.org/project/pycontractions/)\n",
        "\n",
        "A diferencia de la utilización de mapas, esta propone la expansión contextual, es decir, utilizar el contexto para determinar cuál es la expansión adecuada. Por ejemplo, dado que\n",
        "\n",
        "```\n",
        "I'd -> I would\n",
        "I'd -> I had\n",
        "```\n",
        "Cuáles serían las expansiones correctas en la siguiente oración?\n",
        "```\n",
        "I’d like to know how I’d done that!\n",
        "```\n",
        "\n",
        "Para la expansión, utiliza un enfoque de tres pasos:\n",
        "\n",
        "1. Contracciones simples que solo matchean con una única regla son expandidas.\n",
        "2. Para aquellas contracciones que matchean con más de una regla:\n",
        "\n",
        "    a. Se reemplaza la contracción por todas las posibles reglas.\n",
        "\n",
        "    b. Cada nuevo texto es pasado por un corrector gramatical y se calcula una distancia entre los nuevos textos y el original.\n",
        "3. Se ordenan las hipótesis considerando la cantidad de errores (menor a manyor) y la distancia entre el texto original y las hipótesis (menor a mayor distancia). Se selecciona la primera del ranking.\n",
        "\n",
        "La distancia es medida considerando \"Word Mover’s Distance (WMD)\", la cual mide la distancia entre dos documentos como la mínima distancia que los embeddings de cada uno de ellos debe moverse para alcanzar los embeddings del otro documento. Debido a que la diferencia entre cada una de las hipótesis de reemplzado, la hipótesis más cercana a la del texto original será aquella con la menor distancia entre los embeddings correspondientes a la contracción y la hipótesis. \n",
        "\n",
        "Aunque el modelo entrenado con Google News tiene buenos resultados, puede cometer errores. Por ejemplo: ``We ain't all the same`` es expandido a ``We have not all the same``. Esto sucede debido a las frecuencias de aparición de las diferentes secuencias en Google.\n",
        "\n",
        "\n",
        "Antes de poder instalar ``pycontractions`` debemos instalar sus dependencias, incluyendo Java 8. Sin Java 8 no es posible instalar correctamente ``language-check``. En teoría, ``language-check`` debería ser capaz de instalar solito Java, en caso de que eso no suceda, hay que hacerlo de forma manual. También requiere que descarguemos un modelo de embeddings (puede tardar la descarga)."
      ]
    },
    {
      "cell_type": "code",
      "metadata": {
        "id": "X6sKCSTsmi1M"
      },
      "source": [
        "!sudo apt install openjdk-8-jdk\n",
        "!sudo update-alternatives --set java /usr/lib/jvm/java-8-openjdk-amd64/jre/bin/java"
      ],
      "execution_count": null,
      "outputs": []
    },
    {
      "cell_type": "code",
      "metadata": {
        "id": "c1yxri0xoxlF"
      },
      "source": [
        "!pip install language-check"
      ],
      "execution_count": null,
      "outputs": []
    },
    {
      "cell_type": "code",
      "metadata": {
        "id": "r1clIzNSjDCy"
      },
      "source": [
        "!pip install pycontractions"
      ],
      "execution_count": null,
      "outputs": []
    },
    {
      "cell_type": "code",
      "metadata": {
        "id": "jp-24C9hp8Wv"
      },
      "source": [
        "import functools\n",
        "import pathlib\n",
        "import shutil\n",
        "import requests\n",
        "from tqdm.auto import tqdm as tqdmauto\n",
        "import requests\n",
        "import os\n",
        "\n",
        "def download_file(url, filename):    \n",
        "    r = requests.get(url, stream=True, allow_redirects=True)\n",
        "    if r.status_code != 200:\n",
        "        r.raise_for_status()  # Will only raise for 4xx codes, so...\n",
        "        raise RuntimeError(f\"Request to {url} returned status code {r.status_code}\")\n",
        "    file_size = int(r.headers.get('Content-Length', 0))\n",
        "\n",
        "    path = pathlib.Path(filename).expanduser().resolve()\n",
        "    path.parent.mkdir(parents=True, exist_ok=True)\n",
        "\n",
        "    desc = \"(Unknown total file size)\" if file_size == 0 else \"\"\n",
        "    r.raw.read = functools.partial(r.raw.read, decode_content=True)  # Decompress if needed\n",
        "    with tqdmauto.wrapattr(r.raw, \"read\", total=file_size, desc=desc) as r_raw:\n",
        "        with path.open(\"wb\") as f:\n",
        "            shutil.copyfileobj(r_raw, f)\n",
        "\n",
        "    return path"
      ],
      "execution_count": null,
      "outputs": []
    },
    {
      "cell_type": "code",
      "metadata": {
        "id": "OiBy0DJFpr3T"
      },
      "source": [
        "import gzip\n",
        "import shutil\n",
        "\n",
        "datapath = \"GoogleNews-vectors-negative300.bin\"\n",
        "\n",
        "if not os.path.exists(datapath):\n",
        "    print(\"File does not exist\")\n",
        "  \n",
        "    if not os.path.exists(datapath+\".gz\"):\n",
        "        print(\"Downloading file...\") \n",
        "        url = \"https://s3.amazonaws.com/dl4j-distribution/GoogleNews-vectors-negative300.bin.gz\"\n",
        "        os.makedirs(\"data\", exist_ok=True)\n",
        "        download_file(url, datapath+\".gz\")\n",
        "  \n",
        "    print(\"Extracting data...\")\n",
        "\n",
        "    with gzip.open(datapath+\".gz\",\"rb\") as f_in:\n",
        "        with open(datapath,\"wb\") as f_o:\n",
        "            shutil.copyfileobj(f_in,f_o)"
      ],
      "execution_count": null,
      "outputs": []
    },
    {
      "cell_type": "code",
      "metadata": {
        "id": "76YU2mEKpBMv"
      },
      "source": [
        "from pycontractions import Contractions\n",
        "\n",
        "cont = Contractions('GoogleNews-vectors-negative300.bin') # cargamos el modelo"
      ],
      "execution_count": null,
      "outputs": []
    },
    {
      "cell_type": "markdown",
      "metadata": {
        "id": "4lbjm-z2rhp2"
      },
      "source": [
        "Puede tardar... presenta dos opciones una opción \"rápida\" y menos precisa, o la opción precisa. \n",
        "\n",
        "Como se puede ver en el ejemplo, una de las diferencias es la expansión del ``'d``."
      ]
    },
    {
      "cell_type": "code",
      "metadata": {
        "id": "xbfw4Lm8rPub"
      },
      "source": [
        "list(cont.expand_texts([\"I'd like to know how I'd done that!\",\n",
        "                            \"We're going to the zoo and I don't think I'll be home for dinner.\",\n",
        "                            \"Theyre going to the zoo and she'll be home for dinner.\"]))"
      ],
      "execution_count": null,
      "outputs": []
    },
    {
      "cell_type": "code",
      "metadata": {
        "id": "6lGAo2verpg0"
      },
      "source": [
        "list(cont.expand_texts([\"I'd like to know how I'd done that!\",\n",
        "                            \"We're going to the zoo and I don't think I'll be home for dinner.\",\n",
        "                            \"Theyre going to the zoo and she'll be home for dinner.\"],precise=True))"
      ],
      "execution_count": null,
      "outputs": []
    },
    {
      "cell_type": "code",
      "metadata": {
        "id": "H23y8oZ9s-xL"
      },
      "source": [
        "print(list(cont.expand_texts([\"We ain't all the same\"])))\n",
        "list(cont.expand_texts([\"We ain't all the same\"],precise=True))"
      ],
      "execution_count": null,
      "outputs": []
    },
    {
      "cell_type": "markdown",
      "metadata": {
        "id": "LGvvHyMtpYDN"
      },
      "source": [
        "También permite agregar contracciones al texto:"
      ]
    },
    {
      "cell_type": "code",
      "metadata": {
        "id": "rBjPfa95pXhD"
      },
      "source": [
        "list(cont.contract_texts([\"I would like to know how I had done that!\",\n",
        "                              \"We are not driving to the zoo, it will take too long.\",\n",
        "                              \"I have already tried that and i could not figure it out\"]))"
      ],
      "execution_count": null,
      "outputs": []
    },
    {
      "cell_type": "markdown",
      "metadata": {
        "id": "9mcb8U9juHDR"
      },
      "source": [
        "### Eliminar Stopwords\n",
        "\n",
        "Las stopwords son aquellas palabras que tienen poco o ningún significado, y, por lo tanto, son usualmente eliminadas del texto. \n",
        "\n",
        "**Ojo!** No siempre es conveniente eliminar las stopwords!! Puede ser que por características de la tarea a realizar sea mejor dejarlas. Por ejemplo, las negaciones pueden ser útiles en diversas aplicaciones, como por ejemplo, sentiment analysis o traducción."
      ]
    },
    {
      "cell_type": "markdown",
      "metadata": {
        "id": "Rs8obCsayS0t"
      },
      "source": [
        "![image.png](data:image/png;base64,iVBORw0KGgoAAAANSUhEUgAABJEAAAFACAYAAAAMFO2fAAAgAElEQVR4Aey9P4skTbKvmZ9hz5copVIq6hMMlFykWkpB82qjNJQyUpfYYkNxoIURW024deGFUQ93W3gZKEq5yzAjDAs7LewZWOblHObevYsvHhnububh5vEn/0VmPg1NZkaEu5ub/SIr7EkLj4XjHx7AA3gAD+ABPIAH8AAewAN4AA/gATyAB/AAHujxwKJnP7vxAB7AA3gAD+ABPIAH8AAewAN4AA/gATyAB/CAAyIhAjyAB/AAHsADeAAP4AE8gAfwAB7AA3gAD+CBXg8AkXpdxAF4AA/gATyAB/AAHsADeAAP4AE8gAfwAB7AA0AkNIAH8AAewAN4AA/gATyAB/AAHsADeAAP4AE80OuBBiL9t7//d/e//fzAf3yABtAAGkADaAANHFQDn/+87r1Y4QDn/uNPf3J/+ukn/uMDNIAG0AAaQANo4KAa+Pf/+l/VpRgQiWThoMkCsBJYiwbQABpAA1IDQCR1XWZ+ACIB0ICIaAANoAE0gAaOoQEgEtAIaIQG0AAaQANoYDYaACKZ3EjtACKROBwjcWBMdIcG0AAaQANAJBKH2SQO8pdo3lOZgAbQABq4TA0AkRQrMj8AkbiIJ5FDA2gADaABNHAMDQCRgEhAJDSABtAAGkADs9EAEMnkRmoHEInE4RiJA2OiOzSABtAAGgAikTjMJnGg6uAyqw6IO3FHA2hAagCIpFiR+QGIxEU8iRwaQANoAA2ggWNoAIgERAIioQE0gAbQABqYjQaASCY3UjuASCQOx0gcGBPdoQE0gAbQABCJxGE2iYP8JZr3VCagATSABi5TA0AkxYrMD0AkLuJJ5NAAGkADaAANHEMDQCQgEhAJDaABNIAG0MBsNABEMrmR2gFEInE4RuJwyWP+7U2cgj9+dn/9CQ1esh6YO/q/ZA0AkUgcZpM4UHVwmVUHxJ24owE0IDUARBKJauUtEIkE5pITmIPP/fln9894Pr65vwGQ3MFjgM/xORqYjQaASEAkINKMNfAvb3+MlyxD3/zlz7+LMf2Xn//V/SE2/Jt7+beUrNb2yYRuV+8PPd6u7KafpBl8gS8OoQEgUvzSrr4BIgGR5pzE//X3P7t//PghwIuX8w/3zx9v7u+/f95TFc/v3T/iWfPD/f15dxr5688/2p532289hnI+zrm335cTyN/LEqk64OqLS92e3flzM46cX+7X2r5d2+H7O/R4+5gDfR5Wv5ftbyDSjAHCIS7WGWPeSSEQad7x4fwhPmhg9xoAIsUsuPoGiHTZF/CzTZaef+/+EXhLVcE5NNhFPPcFAp7d39s5/eP3u7BzaB9yPhtnFscfApGGxuXHm/vbDuFbXadyfrkeavuG+m/McYceb4xtHFvXEf45hn+ASECkWLVCMrT7ZGhbnwKR5heTbWNKe2KKBuoaACJVM++4E4hE4nCMxKE6prrlK0q18uaHK0KRybesnBsIkPNp3Vhai6kPIk2Iyy6ruGzNyPkBkWw/8V2Hb+anASASEAmINGMNaIj0R/fbkbZyC1k9WSWZxz9oYH4aACJVcm6xC4g0v4vqy050UrVOlOmPn3VVy/Pv3d/f8jKl+u1Xl+1TCVmiV7vgrQqRJsalBKsmwz3rXJXzyyGS1Ybtl31OEP+5xB+INDIpJ+GYX8JxzjHZJ0SqAabfimu8P7w9uH/5t391f/j1b+kK5tc/ut+26yv9y8+/c7/98x/dX+Lev7k/iHWZQnxq4/3Lv/2X1P7X/+J+8/Pv3G/e/uj+8mvs1Llf/+b+8JbWewr9+tdogzzeNzXa/ObPaS5+DanfSPvF3OQYvOfcRwOH0QAQSXzvVd4CkUgm5pJMNHYokFFZv+enn5x6yplz7p8/P6e1flTVTAkwSfDgMqAi90koIbdXTiqXj/fs/vbzm/unuCZqWv/wFVTCZglXWlCWFuH2LTZrQY2/TcyyO7NT+b62b1xcplSJ/bW5bU467If751sGE6O/5PxkvPy5be+T+mlszMdUt+S1MYxh/+H+IfU2xBapyQauPbu//j7TRU0TP43TUVp/a3Nu/NVrMNiv5sZ34Ky+A6OWLiMuQCQgEpVIM9bAHCDSX35Yi3t7kPQ795KDm/YPnVzgewN6Kot8K4j0R/cHo0/fdd6v71tCr/B3Vr3++FelcwWRJBxrGo2v+AIuHAYu4OfL8DMQSX17mR+ASJdxoX4qSZJM7F0HxuSxkoDAM5af00LbMmEv9qPbatAh90koIbebp5QnLOqpa3pOhXb5QtfK9sLxLodeuV/yz7bdCrxVIJKeg55fV1vZePn8epJkCT+6sy/duijHk/HyfrD3yTn9800uKi5H9Ws7Faqw2kOU/5p52eP9Scb1x1t1za9uv11oKq1s3md+ln785w8J5PzRfTHMNcTnrs7xyS58AkSaMUAgYbqMhKkW5zlApM4fu8EbNIwZXInU23/Wr3yCXVPFtNGNBEXO6SfT6X16wL/8WQOnWnzYxzmKBnavASCS/k6yPgGRSAR2kQjspo8sWc+S4tIYEgSoxFgm7MWEWSb7OZSR+ySUkNutM8pvFwm6BDMCcskE31cYpbWDpA9kpZKvQpEgQIzRA2U0SMntFmNLW+UcfpI21auQQoxUXMS8w37zVdmQ2xo+C5v7wM1AiBR6Hv+ax0FqJLNTabJvpKxf6RfhT1tHPzm9T4/3z5+NJ/T1aonvS1O7+C5Vgo7wBRAJiKQqNEiIdp8QbeNTDZH0H5LiJwFR/LhVcPOzXRmUV/Z4sPKb9raxTuWRuP1LwxkNbqq2yEqkZmLp1rXmVjV5/eWc87fYBb9KW+V2dYtc1kbb6X8F3cwv9Mlr8i++wBeH1gAQqfjt3tkIRCIpmk9SJBPw7PY0IynRibJIvFXCLrbHfvRYwyqRSlrJAIs/wwT8kjBFjaHskxBL2pVBCAVEZJuSXXKb7NO305+jvRJUKIikjy9VyeQaMuMS/S/tC+8zXwpY8qf8qXDCxxqS1Xym98nY+LB5sPLXxr7MDr9T3P6l56b7rNqSxdzDw3Q743Pn9kypF2mr3K6qm7IKNW3nRpeb+QV/85rrls+H1wQQCYgUk/FDJwqM15+czgIiZWAqBzBDwc0YiCT79DqpASFLR3o8DZ70HDTssvpje79e8RE+2oUGgEgdXlTcAEQ6/EUziYrl8x3CCpWw7w8iyeS+OcHeAoiw5hi267kmMKC3N33+eHN/94DjObQd+6r79GPlgKEZ/9gQScUshzM/uT9J+yRgUnAtbyfnrvep2Kn+DP8EAKbszGGePV4N+DTfCdV+rZjL8bQtOsZ67nwHWf5k+6G1AUQCIgGRZqyBWUCkbD0hbVN2a5mqbtLgRkMdDW40JNL7fFKq2+p+Q9LqK5Z+8/av7uVHtiB3m35JMKUgUgbJQn+8AkTQwHE0AEQqMqPORiASScOhkwZ7PJ0Qb1XxohLy/UAknaRnazIF4BBf/SLK/qly2ULK7RmZIFLf2jd+QeehoCpoW/t1M1ZWbeMhioQ0x6hEUuN3vqqyDTKmcn45LLH3KYikKpsyYKV84X0q+9TgRu/LbFGazPY1Oqn1G2I5XEdKnxkks8/BMA6v+OgwGgAizRggkMAcJ4GZk99rwGaInRq+aDhT2ydvEfO3esmxajbpPjXs0fsyW9TtbHqfH1u3zfv9nXv5kZ62ll2txI9AJM4nqWPez1cPQKT4tVV9A0Q6zIUyCckQP2dgI0/sI5BJfSkQIBPlrRJ2mcyXkv1upYpaB0nZ+ez+/pbdS184IyVE+lO+BlHheL2OUvJHWWdyPgJ6ZNBGL74sIc0O46J8k9md2VOcdtwo4yLnJ7f7/u19Sju51pQt0hd5n8KfHRCU2bKVJsfrCIiU6aumPfZNWs+o/H0zzu9AJCCSAgQkVvNKrGrAZkisNHzRcKa277gQSVc3+XlqWxNE8tVH3TWa/ub+8Of/4n77b3LNp9TG90cl0rx0PkTLHHM5MQMixWyr+gaINO6CdxcXzfRh+1wl9sUKEFmJIwFBtoZSX8Ku9o8AAT7ZVIDBn14ZLIgJaQZfmkO9/f5R9dp2DZFa/zz7yqUf6bHs+Zmcg484bu5feyztbzmABif6OL2vq2c9XlxzybSvtVf5tW8MOUc5Xh4Le5+aU+7Lqi2yzxHaUZorzc/qd5qOgEhSI7zvnqfz8AkQCYgERJqxBoBIm8TZhEiqgkmDIqsNEOlyYATg6TRjDUSSCaH9Hog0jwvpuV7gH9wulbzrRap1Upw/Ij1LylXCnoOFLgjSEEcm81lb1a8/r7L9EpRkx9pj5CCioMln/3S2Nw2UZOWVHLfzXs4nGyuzMX1TZP4sxMVapFnBmWyx56qeMlu0vwo+ifOU88vjYe9Tds4ZIlX9IuenY6vPl5/bRcNrfmRfVZ9Rb/hpl34CIs0YIJAAnWYCtMu4AZF6INLbH9N1k9MVTHqdJQ2YqETi3NrleUpfu9UTEEl8rVXeApFICHaZEGzfV6nqwlfu+Dg9u7/mIKXRdg4OfnL5IsbuLSXRf/39zxrGdECHTMxl33K7H9g/XauiHwVeMihjgYFaG5/Eyv27gEg/lW7N83PL7C3dYieeWNbE3VdO5XfuDbZxE1/d/q2Ne2Gfgj4yLjJevp2972Qgkox5HhdLR3lcR8WhomlAytFu+9r+u3WecQUiAZGoRJqxBjREqmQTcpdYKFpX45zh7WxZJdJf/vy7Rs//4m9l+1U6BYgE6Ngt6MCf+/MnEEl/d1mfgEjzvLA+14Rh0LyyxNjSrt4ub3PL4YE+svRJw6AyeFCVHaVOxLZmUfBsHnGh8Pxx9QpiZRBNPu0tgzSxv97EXs5HV6ts4qH3b6aRQ6QCmBPzLb/Ngc6Ac00Bk3Kv3eovaX8+pr3vZCDSJB1lcBCIBPzp/Z4YcH7uoQ8g0owBAknK/pKUU/EtEGmjAQ3DNBBS6zdZ1y3OuQCYfOypROLcOpXvgEu0E4hU+SITu4BIx7lwHgRT9nDBfjLjFkCLkK35VoGVGpD48cP9U1TN7AUi/dT3pLU0DWV3Bg3SUeLdKCggQUoJImUVTs0wBYjk9Tg0LnmV0ggt98E65aumXzm/M4RIE3Wk/DhKL3wnnsz35Ijzaq5zAiIBkahEmrEGgEj9EMkvrv3bP//R/UVco/3l1z+63/7b75zyn6jQAiIBkS4RzpzKnIFI4sus8haIRMI01+TC2+VvPfuHBz5Kwx4Avbm//36z8HTa1QUfm/bpCPcjVCzpip99QSR/C16+lpG3/W/Pzz23prXtBOjys9jM+3lkVYWELAZE6tyu1vWl1Ek9LmPt656DoX8RuWbum9sa8+Pl/M4TIk3RERAp1wmf5Tk8l/dApBkDhFO54MdOEnI0gAbQABrYlQaASDL9st8DkUgs5pJMTLUjgiK1Tg5xnepP2qEdNIAGDqUBIBIQiUokNIAG0AAaQAOz0QAQyQZHcg8QiWThUMkC46A1NIAG0AAakBoAIpE4zCZx2NWv2PRDRQQaQANo4HQ1AESSqMh+D0Tigl5e0PMePaABNIAG0MChNABEAiIBkdAAGkADaAANzEYDQCQbHMk9QCSShUMlC4yD1tAAGkADaEBqAIhE4jCbxIHKgdOtHCB2xA4NoIFdaQCIJFGR/R6IxAW9vKDnPXpAA2gADaCBQ2kAiAREAiKhATSABtAAGpiNBoBINjiSe4BIJAuHShYYB62hATSABtCA1AAQicRhNonDrn7Fph8qItAAGkADp6sBIJJERfZ7IBIX9PKCnvfoAQ2gATSABg6lASASEAmIhAbQABpAA2hgNhoAItngSO4BIpEsHCpZYBy0hgbQABpAA1IDQCQSh9kkDlQOnG7lALEjdmgADexKA0AkiYrs90AkLujlBT3v0QMaQANoAA0cSgNFiPT//M//cP/t7/+d//gADaABNIAG0AAaOKgG/s///L9tcsKe6IH/9R//4TxI4j8+QANoAA2gATSABg6pgf/57/8er0f8m4X6xAc8gAfwAB7AA3gAD+ABPIAH8AAewAN4AA/gATxQ8AAQqeAUNuEBPIAH8AAewAN4AA/gATyAB/AAHsADeAAPaA8AkbQ/+IQH8AAewAN4AA/gATyAB/AAHsADeAAP4AE8UPBAA5H8mkj/+9//D/7jAzSABtAAGkADaOCgGmBNpMLVWWHT//ef/+n+889/5j8+QANoAA2gATSABg6qgf/3739XVyYNRPr3//EP9/rjF/7jAzSABtAAGkADaOCgGvjTr/+XujDhQ9kD/+vXX92vb2/8xwdoAA2gATSABtDAQTXwP378UBcnQCSShYMmC8BKYC0aQANoAA1IDQCR1HWZ+QGIBEADIqIBNIAG0AAaOIYGgEhAI6ARGkADaAANoIHZaACIZHIjtQOIROJwjMSBMdEdGkADaAANAJFIHGaTOMhfonlPZQIaQANo4DI1AERSrMj8AETiIp5EDg2gATSABtDAMTQARAIiAZHQABpAA2gADcxGA0AkkxupHUAkEodjJA6Mie7QABpAA2gAiETiMJvEgaqDy6w6IO7EHQ2gAakBIJJiReYHIBIX8SRyaAANoAE0gAaOoQEgEhAJiIQG0AAaQANoYDYaACKZ3EjtACKROBwjcWBMdIcG0AAaQANAJBKH2SQO8pdo3lOZgAbQABq4TA0AkRQrMj8AkbiIJ5FDA2gADaABNHAMDVwIRFq7T8/37urm2i0Wi/T/5tpdPXx0n75XLtS/f3RXbZu7b5XjDgGjemz5+u2ju7sR81ss3N3zjOyf6qOeeXcSzW/3KcYPX+YDyaJd1+5DTXNT/VRst3afvMaL+w6t5znZcui5M17nPJ2FJonLHOMCRDK5kdoxd4i0XunrEXX9Ja/FCu9vn17dMS6KO2O+rNrriaX7/Hqiicrrk7ttffz4MmAOcc4Lt1i9zCMObwPs5hhihQbQABo4mAbOHCL5pDUDR4WLFX9h42HS11JSMxZglPrY1baaLRFQyIu2a/fh2+VBpE8PrQ9ujJjuKh5j+4kxOgxE+vrtvgWg90eHSHOyZY5JMzYBc9BA0gAQSbEi8wMQ6QBgIQKVy4FIEf4tn9w7CdnBErIOwMT3+B4NoIEZa+CMIdLafRBVOZuKo7WqSvn6/Yv7ICFTCTrUwM1YiLDH4yM4WdwfsMolXfTPJgGK8ToMqBk170NDpOcAUGcAkWZky6iY7fGcxY4Zfn8Qb/U38lgaBSKZ3EjtmDtEMpPiUwIzp2TrLpKNWLV0wtBsF36gD5J3NIAG0EBVA2cLkRJU6YcJvkoillnntz9FKLFwR7+drZLgxPnm9lfaHCtB2Oe4wQ+zjFXUWb8md+GjrzMCN3OyZRe+pQ8AEBrYnwaASIoVmR+ASFQimaBuYvITqpAG3fY2cYxd20x/BzgPiHU1mUaDaPASNXCeECkm68PBT4APi0WW4J8ERBJVVxcOkWad2EVdZhrbE+ibE7iZky2z1sietMCc9wc88O3ufQtEMrmR2gFEOkDicmmVSMACYAEaQANoAA0M0MAZQqSJQCXAohu/jpC47S1s94tUlxbW/m4s2r3oX7Tb3053V1js++75y8D1mcRcC2s9Nfb22f/jF9esVyNu/fMgzbQhJLlbzNsnXaPGHDQHv6h4uH1rsybS1c29jmWw3b/mfRZi0bvouuwvvg96EGtT3dxvFm8fAJFKmqjOI44rErk4jrCh1UdJw2PGTDBo4a6exXnS2iH3N2ONtaVZHH5EHEvzZ9ssbkkCrohzEk2O0iQQSbEi88PZQ6R4a9XKrd9e3Xq1TFXjy5Ve6Pr11a2fVu52KY5p/u4t3e3qya2ri2KHtuJv5nK1aWNBpGjbwplVO1ZbcXH+/uJtFuMulu7x6aV3LaJR7QbY+v7y5B4z3916H78YC5znfb6+dNv3+v0AEFD4+hIrBZgzGkMDaGBfGjg/iJTDgW0v3mv9xYWL5QVA930xcY+3GnWP39xaV1jHpmPLthCp3n5RWiPK+3OLeb/+mDBmZ94yOetfPP3qoQDlZJ8PYQHqUizGVA15KFjqY7Pt7iHcNlnus3cReCseucZHgJvxY8r45Rr94u4CzAy2DrZlYhzzufN5VLIO6JHfJbyfix6ASCY3UjsuCSI9dp705sFSmxx4EBP+9lRey7DHww/77/bjyng6Ww5Rgi3ytQqRXt3nyrgLc1HrCe2qtmZwruC/21UBask+VzX/s7bSvhI4+gUOoAE0cEwN7AYifZePlr92d7KS59BJXUxay4n66ItkCRtUJZJOmD+pR7avN5U28Y9xlmyLPnPA8VU8TW2R35om2mkwJRL7wW1+cekWPl9VkkCLXCOqW22yxbx/TBzTnHfWn4JFGZSo+KWBdk21UKis8dVEohomb2toOvlTnwMqpo0mutqUFTwyFh66fX0WkGugLV7nqc9Mf639ab+Of++YIh5So3L+H9T50G9LauuflJi06G1RoGvE/Eef60Zc6Qe4ggYOqwEgkmJF5ofREOnVV5sEYLJ0j1aViQQh+3hfhSsiKRCgwv+dvo0VOq9uHW1/cY/hWmuZVxy9uqZiJ+xfCPDUziusAbTwFUCxzzfnK3M0mMpgiLCtDKfe3K+VeaZx5bz8uAFa+e3dKqBJ7Sq2qv4ULMrg0upF394h+myuoZrKrWCvr+wSFWF5231oij51fPAH/kADaGDPGtgeIsmEMv6hNm79OkCSlhLjcuI8OhkQ85PgZsg46RgNDeL2UK2R+SXuX2RzMGxR1T15km21Edu7oMhO+k3bxBzSMXre8hayMWPKdjIGcnupPx/rIbYscj+3c0lgI4uDmGvUU4SXhvaFv+vrbgWQlSVtsf/MpyVb2m1p7gX7hT0m9K2MmXzT2hOPXTgJloJ/htoyOo6V+Yexec20hM+o1pq5BoBIJjdSO0ZBpDzpb6/XTACyz4vPCEoyMJOPKW02KnPeI6zoAqLwC206Jhsv2mHckibHX2RtxT7Th7F/u20JFCV7szmJMae2U7b29Of9l2yx57AowDnfNgGqbB55nPlMsosG0AAaODkNbA2RUjIZft1qXw1Asu+ELiaruxpfJdsjk7GYWOvEP9powAvTR6Yt4yuRem0wxxrgg6nztsY0tvfOoUmUUuWUAhSiT7VdJldxHgUII4+TFVYV3aVzxdBDpa3XRGyfg8LMlqCfmn/ivsljJr8uHj66D/E2vrKv4ngFzdf2hbm8/kjjmfEy/JD6GKBd+gCwoIGjawCIpFiR+WEMREoJfXatZsCZAGD28mrBlTyJGAA5BtlnjBd9UvFBPGaHECmBGQOuiHlL6DO13a9T+2vikSq9FLgSfartMobR78Y85bG8P7kEctC5R1yJKxo4Ww0AkfoSBgEbVBVMsd3a+UWKP/nFgR/E7VD5E98inFi4xU27iHV2+08x8TVtGQ+RxgKJoj3RB8PmPXnM4rwrc452baBBHFcCk2KfGWSIcdLQp+uLgbYU+0tt++BIhC1yHtlcpW3x+A642c2Yqf+UlFhzSMfmkCnZUqpgkvMpxrEyf9mW95m28dvRQQmatDUJRDK5kdpxSRBJwpT+5PXVvb++uLVfLFouxq1AkFhbqHa7VQQhdiWOaZvRNoKp2riFxGtquzJEGjh/WVEkYZuASGPn3x8/cUtjwQ+0xz9oAA2ggeNr4HwhUidxti9YqxfzPbDBr3eTPxVsszB2Sqw7ty/JqhJxC6A/bvNEMOOWJtOWSiJebFM5fmByOX7eW4zZMwcLXIS4RoAh4Uuxz0wjReiTHdP4a2CVTLG/1LarG6kh+T4HMSWb5K18+fG7GlPE1OtY+jfTUYxB57xMfUyKYzZOiDmvZU3gF/xyChoAIilWZH4AIqWL6NLTxbp/UyUIMipscmhhgKAymEn2NAlOse1weKOTpKnt3lzZ1tSfWUnU+iJWQAGRzraiQGst03F+TvAZHaABNPD25raGSHJdGvkHu79qZ08X88VEfYuxKrAhVkZ0QNDm0fJpgepyJUv3MfcSFOjFmZsLf9OWlIh3qjmKbdLxfYl7KeGYNu8txizOIYGQvjkUAUaxz0wng7U00JY4ptRDaivPn/r7HApldrdgpTjvDHrVx5F6LI+ZxvCLcxvwU61NlfeT5l9r73WYxsr7KM+/pF224Ss0MH8NAJFMbqR2jIFIEiTI732zimSfSUIRrhQS1yHVLrJSRl2LLd3tavOI+rRY9QSIFG2QbS0wk82hOM/h8EYn9lPbWbYOhGhqXSRxW1r0i7GelNdPcf6Zj/apM/om0UUDaAAN7E0D20Mkn5TO6elsYu2UsSCrgSPh9rJQ4RATf71gckpo/dOkPrpP3wsJ9GAI4Z8GVq5oUnMwbBm/sHYCOh3oFOZtvE6f9/QxJahM/kj9DYYPslLG9KVIsAbHbyAIiWOWIVLfPMYmvylWOXQZaK+hgWhHnE+ATXJewo9VALRlHPtsZD+3baGBk9MAEEmxIvPDKIjkL6RP+OlsFuyKVTL+6W0r/3S28IQwASuKMGMgRImwZPcQaTHqdrYEkca1syBS6o9KJKEVEs69JZwaiuJz/IEGTl0Du4FIM7tIj5UyAxcg3iTFKbFWYEUkyiWAoY7N/JCSeDu5jgm5aNtUKIVf1AaBj5SId+wp2j9kkeZSn6VtGhb4+Vjz7o+L0X9xDsaxwo/Bt3HcQb4U8xkMkQbaUuxvYNvCvML8rNcUhxwi7WbM5Nd7dxcW1jbOuV3Yksb76L5O8IflJ7YLzePXkwMu56hfIJLJjdSO0RBpLglyEeoUEooIcKxqlwRCamAlgSYJgoa1Natpem2zK3H61zYq2za1naxCSzCuPEYpqYnjcjsbgGUu3yHYgRbRwNE1cJYQ6TUm67p6qHaxnZLcrE0RYCTgZFePiERdLawtthsJt7cz2SMAQNEWnwBW+jTaFPtXCWRpjqVteQIqbFHzNubUO+am0u2qhWoJ5A3pz9tm2Gz4RWkk6qgfAkZ/SlCl5ibAXSIlj0MAACAASURBVOaXCEc66wXlvh33OdpU6HfrMaNvNudLGis7f1ofpP1CzwP2pXgYccx8nI4f5yva4S80MB8NAJEUKzI/AJGGVBMJWKIW1haPr5dwJEtMIkDJ2pbBjAZhVtsEtcTtYWrc8rymtrNs7e/Pz6dsi9WnglBDYaGau/ah6o/jjp40Eg/0iQbQQNDAeUIktXD1AAAgEuJhlTwClFggSPaZQYNaQh0SmZjkSyhhgo+KPVYbsb0Ewso2VsYJyXxl3vK2tOFj2hCprz/vyzSPTAdi/hJMBf83r3EuWdswV/kq+ivNTdraWWhdtO3oL44xwPfx2E0ymObeBTfKHkvDJpxMQCfZK+yTmm1tGmpL0Xe1OGZzVvFjH1U1aOAkNQBEMrmR2gFEEoDIujUsggx/27WsRNK3eRVv6RLVRp22Aq6Uq6ASfOm0Ff2WxjXhzg7apUqkAfNX6yHZvlN9StATfZ+1lcfwHjCEBtAAGjhJDZwtRGoqUMItNovyukVfv3/RT1a7qSfbEjZEyOP7fv4ibq9Zu08P104uXOnfy7ayOmbhx1TrKen2qp2ADWq7mexXAEwG2u6+pTWd5O10eVK/3bx1Nc7QMSXw0POW/fkYV+KQgxLTl+LX+DEQSflTa8I/yS5UUm100YVSyq/NGlvJjo1O+9cd6gCUHvunjpmAUDaPOF6u919cqg7M2rRJvrZlRByBBCcJCTpaJY7EUWgAiKRYkfkBiPTmUrXPwt0+vbj3mIy8uvVq2bkWy4GH1d4/7e02LCvQvHZBSK3t4zL8zS7AK7UY+NI9vqR1nPwi4GHcEmBKY45oJ+BTdf6riv9ySFfpM/xKbd4KGGPEL/rRV/jkJJNo4sc5fMkaOGOI5JPwtftQADo54PGf/eLYxXVWTNggqjHUhUZ74XDjn9CW4EEOY3xSrcGCvODYvPdQRCVbpi2iCmRwm9Y/ArR1/FKoKFEAbMq8JfAqti/EwZz3Zg4laCfnouFSC2eqfbbHRChSBh8qNk0CJOLQmdu1u3u4by9oS/1peCjtT+/9E/ta20TC1bWjO8fQh9bhhDGF31IVUrBJzj8DsrJd65uxthTj6P0Q41SAV0P8xDH6ewZ/4I8jawCIZHIjtQOI5BMYWfHTvY5aLP0T2hIQ6oIZUc3U+bu9dI+rVft3uwuRfn2tjb1y62olTm3chVuYt9hNaFcFPmXYFq4Z/Outgktt0ljtsz2mNv+4z1rviuT0kpNT5o7+0cD8NXDmECkk01/ch4d7d5UDk5vr9slqIQkuvIrkt5vAb5JwBYPU091EUp3DHX+R/t3bdZ3BpGBTqgyKkMC0pTKO2SbNtak8kr7xcxCVSXH8mFhsOW9/e5KHaEPHHDSH7tPtrjpVXmnOteqmON8IJ0rQR/QV/bLZ1p2brzaTsMPuz1ct3d1klWyNTr+4r76PbKy+z7KqzF8ManAT7B0+ZqoYMuYQfdYda6ot1Th6f4gxu+foeJ/1+ZT9+BQN7FcDQCTFiswPQKRwkb0BIaGCpwEgy6V7jJVJArzkFTVtBUhTASSrh5Yrt361F8eOCc7ri/u8WsbqIX/rWoQuEZQUAJQ5rq4wiuNklSpdeyvtBgAfX3n1uNSVW7eND1KVlLJlQJ/VSqToGyCS8msWZ/aFc5xXtIAG5qaBy4BIIxNvEoT9Jgj4F/+iATSABtCApQEgksmN1I6ThUgkyty6gwbQABpAA2jgpDUARAIwja5usS782U5SiAbQABpAA9tqAIikWJH5AYjEL9Nz+2Uae9AkGkADaOAyNABEAiIBkdAAGkADaAANzEYDQCSTG6kdQKTLuFAnISPOaAANoAE0MDcNAJFIHGaTOGz76zXtqYBAA2gADZy+BoBIihWZH4BIJBVzSyqwB02iATSABi5DA0AkIBIQCQ2gATSABtDAbDQARDK5kdoBRLqMC3USMuKMBtAAGkADc9MAEInEYTaJAxUEp19BQAyJIRpAA9tqAIikWJH5AYhEUjG3pAJ70CQaQANo4DI0AEQCIgGR0AAaQANoAA3MRgNAJJMbqR1ApMu4UCchI85oAA2gATQwNw0AkUgcZpM4bPvrNe2pgEADaAANnL4GgEiKFZkfgEgkFXNLKrAHTaIBNIAGLkMDQCQgEhAJDaABNIAG0MBsNABEMrmR2gFEuowLdRIy4owG0AAaQANz0wAQicRhNokDFQSnX0FADIkhGkAD22oAiKRYkfkBiERSMbekAnvQJBpAA2jgMjQARAIiAZHQABpAA2gADcxGA0AkkxupHUCky7hQJyEjzmgADaABNDA3DQCRSBxmkzhs++s17amAQANoAA2cvgaASIoVmR+ASCQVc0sqsAdNogE0gAYuQwNnCZE+PSzcYjHy/81H9zUApe8f3VXb/u6buCC3tod2P9bu08NH9yl+Fm2Pve3bfeuTa/fh+5HtmpMtx44L4wMx0QAaQANKA0AkkxupHacBkV7d5+XC3S6X7nG1cp9fXtz729AL7Fe3fnpyj6tl036xenEHTU5eVu1109J9fh1qc89xr0/utr2+fHzpOXawnwb0s4+5TLVvH7ZM8euUNlPnfLbtXtxjq+fbp9fDnp9n69MB5zNzR2sz0AAQKcCmLSHS12/3LXi6ByL1JURAJJUwUTlxZKjZp1f2o1c0cFANAJEUKzI/nBJEkj/sDU0235+W+gdBINL0xGkf4GZqErMPW6YAoSltps75bNsBkQ4Kts9WR4CzU9TReUOkhy+7vfCtVCJ9fb5uL3aASL1QBIi0W12S4OJPNIAGzkgDQCSTG6kdpwaRfDVSA5OWTwOqkTYVTBI+UYm0RaK1D3AzNaHdhy1TgNCUNlPnTLvpABTf4Ts0MEsNAJHGXHgDkXaTqAGRduPHMdrlWHyOBtDAiWgAiKRYkfnh5CCSvzWtqf4ecHtYSPCXK/e4bJcnoBJpeiKxD3AzNbHbhy1BL4uFG3yb4JQ2U+dMu+naxXf4Dg3MUgNApDEX1UCk3SRhQKTd+HGMdjkWn6MBNHAiGgAimdxI7Tg9iPTq1qsNEOq7pS3cynb79NKsqdRUJAGRpicS+wA3UxO7fdgyBQhNaTN1zrSbrl18h+/QwCw1AEQqXVRbsKi0PQKR7kLecVHu2M7f6uYX3w63vi3c4uZeL3T9fe0+Pd+7qxtxTPPL3bW78ot2VxfFDm2FLTf3mzbRTnth7a/fPrq7bNwrb9+39YTka0tbvn/ZoS2bNXe+Fvpc3Fy7u+cvaVF1pYcv7q5dM2sTy7X7IGO38DGx2rbr/EyKZzbu9y+dcZXNhf29dql5siZR7y2Y+GvCdwC6QlfTNABEUqzI/HCKEOnXABCqt7SFW9l8xVJ4v3C129neX57cY7hdrv27fbv0C3n3LfbrF+9eudtQ7eTbLldu7RfSDrYu7Mqp99eXceP2gYvXYE+2HtRi6W5XTxu7zIQqtBXXgGPmMtmHpdvstrRl134t+awvFm9vbuv4luYxIY5ey40mo82ZJuP2SiVWn54naa9/TaTRPizFim2zhAinuI4PNpe+r6dtAyKVksMIfRYugiB/XGl7hDPij7YCD7LdvbvrPDlOrKEUF+fu9iXXBVA2Rfs9dLHb3T3Uns6Wga3WfjnmOCixjS2/aMhWsGUhF0GP868nK2nNKstHIg6xTwlz0nvpl817A8xNjmca6+45PSmwM65f80tosrN/gp9Ieus6wj/4Bw3sXwNAJJMbqR0nCZHeQtKZJcEySQwJcQOa+iCSr27KgYv+O3+7sp4I5wGQPlb+HfVPk9t8LtvaN+6iBMrC3Eq3Xb2s4pPbpB35+/LtWtvMZRsflpKPbWx5643naL9Kbcn3tVi87cCOVS2eZU39+ib0Xrj+fXwKT/fL2vfMpUmcaxBpsvbC+bxwperCSeeIjBHvgUdoYLYa2A1E+u4rWMIf4mt3N6lyZXcXpp8CqJm6sLZIzBWwsbb/+MUlSFGAEaKdvxi4ipUva/cp+iqBAw9JdMXR2qWnv3k/d8eIc15o//vqoiv1h6gLPFLbRVZZk8Glgf5M/Y23JflR+slrY+2++gqtMJeBtjQJn/B/DsOUfzp9ipi046bY/dITE9F2dDxFWz9uqCZr4NbafYjnWnvOZfuT/zMIGuHY7s41Emp8iQbQwK41AERSrMj8MBoivfpqnXCttnSPvVU6JUAwdltKikOS2XdLW7qVzVcRpfalSqTQl7+20rAoAyOFW+FSW+0LX9V0G641mtcsYfcVKuLJcf6Wu/eY6Ly6d1/ZFNrn45rJfkrGPSRpqk5knyrJX7l13LeJxzZzSW3H+7D0q37qbw5+rejVjMVu4tvAv6aCKFTD+eosATxzbTTgSpyfT69RV+8q/v6YTJOVucQYmRBpG+2ltuH8DuNNPkcybYf+eK1oGZ/NFrScs263h0giQZe/lij4cuDkNSbRHSgw8GJfzEnNw9o+BiIZ1SEJnnQBUbhAT8dkIEhUQyl7g9+F3YtF1lbsu3ou37Zmjhv6l687ssUEkbH/bB7Shux9tH+07zXM6fOt9F8cswD8euP5Q45b0IOIWSeezdxTe2lTGJfXgd8DmY7wG35DA4fRABDJ5EZqxyiIJJJMea1WrmrZZbKSIFBMMkMyW6rUidAoJMmpfQciiTnFvrNkKiWyob92bsGGUkWQ70P0XU/YAyDIfBb7z8YV/UrfJzu7gCgkIemYrM84lnErkxizNpfRPsx83di5I1tMwBn7z3wg5ij9GnxXfLXaqO3T47tYlGOZIFu2X42b6WmUJgttfXvDd0lXmT0ivumYzO+xsjCrRFJzGelDMW4xbuwHmKCBWWhga4gUgU341SW8Ggn7IS7CTZuCbeq1ACNEkq7AgbV9BETaKqk3AEqcb8Xn8ZgMIg2BHa8CavTZH8fZxpZKW6+fOMZASDhsjqXkKMGY2i100Z4euzvaN+Ip/b0ozlHYVdwvqpWK+0tzZVsnPkAk1kFCA0fRABBJsSLzwxiIlBLXUOnQvhZBjpGETrpwTxAoQoqYYOYJqUh0o12pfQ6RUmJrJ7+/Gklu9EccpzvneExW9RHHrbT1yW9sLytO4twN4FPzsQEB4jgVe+Ix1lwM4LFJ4u1qkzzJj+NsY0ul7U79asRiV/GNes9jGuOodTtk3OjfLI4SepoQLY5bOO9yG/PPZtuyNobMxYxlPjafZwEM8nOdz92/GZfmEyBSBlWaRNKCRdb2ERBJQaneBGXt/GLQn/yC19mCzh/iAtsDgUERWAxsK8FNFZQM7K/Hlj5QFaFQ1RYBReJ4/tawdiHt6D9xXCceCdbUbIr2VKqONoBiSDy9PX3j9u0fGIfOfGu+YB+QCQ2ggcNoAIhkciO142QhUqw2yqoXBHhJCbgFkazt3Qv7mHhHODGwbTFxTm2Tjd0xfTJRTKQNcFFOPl6bhZ3XfsFrte6ThADJnhyyqT575lJtK+JSXI8oJvm7sWX/fm3jVYxFmsPe7NgmFsW2unJuNxBpiPa8H0sQaUsfRj2Vzyula44FMKGBo2ngvCHS1CoMCxZZ23cIkUpPSJOl55v3snqqDyi0F/0RpMi2CTbUIIlPnCIoqYKbbWxJbbvzzX45jZVkhVu9DDASq4ViW99neOJd+TY+CXOq8K/o243fx8fTt0u+KI+b9pfjluJarmQ6TCJIwo2f0QAamKIBIJJiReaH04VIBmARCWlKhFNCqkFH2j4+2S8lvoWEtZiwp7bDr1VExUkRXKSxS0+Z644jIVKyp+qH4ly28WGyOSX129iS2nbna10DDvdrslHYXYzFAewoxiKNW41jtFlqYDcQabz2vC9Ldqdtk2IJFDgaFCieJ8SDeBga2BoiWU+HKie/h7mgjsDgxCBStLsDOu7dh2+bxbU3X8gSBPUBhdbnEYBNaCshUrXaZje2DP+jMxwiNSDMPy0tX5Q6+lovAr5JfNJ8qno2INK0ePp49Y2b9gORDvOdMiURpg2xQQPTNABEMrmR2jEGIsnbXeTf2ARrRHJtXDBOSzAMUFFKhmNyLeCAqFrSECklqtWkW1YExVu2BrYt2SiSZunH+nsxn9hn93a2WDEVr0s8PFm629XKfX55dX5x5c04EiDsZi7jfVjSy25sqftSAqVhfjV1W4xFmsPe7Nh5HLeHSNO0B0QytbXT79DSucY2fH98DWwPkXzlB09nS5U6JcgSAY79tKxY6eOf3vbgn85WqI4pwoo+oNBexEcbJERKFStlGJESgGjfLiqRirYMnIdRaTQuWVu7T8/+iYLX7QVZuijRsCjZpLcnvzTjFuIS/TU6nr7vvnHT/nLcUlypRMpitRP90Oe48w1/4a9xGgAiKVZkfhgFkXxSM5Ons20u/rtwKSaycg0hEyJ121tJRfe2sgQKqvAkQoYJ0MZKImOfGiJFG5unzPmnsxUWI945fNjGh6UEZn5+tTTRbC/GYuAcRsZX2bHzOG4HkaZrz2ug5K/StpJe2KZ0YWmK7VQCzVQDu4FIM0vMYgXIyVQiDUv6E5gog6AqMCiAjtcfw8b1CVD0aRUiDexvS1t2nZB99RVK4Zc/Nb8+WLNJjFJcQmXUMD+kdjKevs80bhlepf1ApHHJ6a61Q3/4Hw3sXgNAJJMbqR2jIdJRLkRtUBGT12atopR46uqo1F5XIlnbu4lphFM7XhNJ29Mdt5ggFsHFsLlEf6lFlYe1LT+Za2DbA6+JtDu/9sRki1gUY+vPr2KfmR1FiDQwFsW2+x+3rD0/r3TeJiA7cC5H+T7KYoENABo0MFkDQKQSAIuVMlnlkLW973avSrtNAtIHBfxFugAT2WLgEUYoAKIv7CMEstqWKqiib4bYtxlvG1uSjQHG6DlMS9aE3ypQMdqt/JDmXQN00e7Yf2pXhjz1eAKRdhF3+ph2vuA3/HZ8DQCRFCsyP5w6REoJ98qtY3IsblFqLu7thDQltnkbmSiWklxrTSbZTjxdTUEbub02ru4rQociZCjbGNvkfsjsiX6IkKw7dgRpVtt4q1+3bRkUlI6bm1/LNka/FmOxj/hmdkStywo3Me6EOKZzSVe4xblKEKg0sJ32LG0kvU04R0jqJyf1Mt68z847dLVzXQGRIigRF84W9LG2bw2RBoCOWL3jb73KKleEXUVoIfaPbqvmlo3b47ttbLGhzQBfZXaVAZGIt1lplWBQx29hDBGXVDU0wEbRrtt3Gjf1Ke1N+4s+lsAxgi3ZnveAAjSABuarASCSyY3UjpOHSPJWtVANrG5l80mADZFk4pyqIHTiEAGLSpx15UaxrQAMfl2iz6+iX7mvY284zrBbtE0VV8axMumJ4GGzTpJlzzZzKbZVa0plfpD2hfdifsX+xP79+zXEwngVtqRYaG3YVVFGzKw+g3/8a4xl5s++tmJ/x3eiIqhsc4JFuq0xj6K9Be2JcVW8pa1jzxE5Nu93nvgDl4zvA7Q2WmtApAAD5KuALiqJt7b7thEKFEBLrV07bqxm8WvoPH9xX6M9a/fpoW/tHnG7WdbePx0s3qrVXKR17VNjP1TGHggkVH9iLuNt8WtDpUTn6/cv7i4ujN2dh50UJuiyuLnP1pvS/lXxFreVbRZY1Itv27fB2fHwFWX98Uz2anuCL9J+IFLwCa+2/vENvjktDQCRFCsyP5w+RBLVFy1EUsl8c1FfT3JTxcPC3a5e3HtMBF7derVM6x4WElnV9im19U+pug1Qq3nNkn1V1eHH9WsYpcTk/fXFPS7DWotZW5Fcy7latniIpuZh+MlqP34uyQ+dsQs+LCWku7Nle7+W7IvbjFj4/WoOO4hvHNPr04JIatyle3xJ62KNjmOm56THLghScxXtOvEvai/BKQWR1FxGniPxHE7nlPIf+0cn+/gPLe1DA0CkCGvERbYFfaztvg+xLzzRISb4Yl8ZCvixExgI7dXrjX9CWwJCse9ov6h+URc//g/Gtbt7uG8vpkrwpQw25PhXCi4JX8Xx5bb92tLM55scb8B7ue5Rxz+biz0/R51spphc3VxnMC5cIC7congbYWor/RjfV+OZ2pb1kvZ3deB9IfyfzynCzuxWzWIcB/iVdplm8Jk+h/AH/hivASCSyY3UjnOASCmh9n9TS7e+1CGSlejGv7XNQtUSjMhkQvTduS5YusdV6WlooX0Z7shxfcWHBEXNRbwJLlIyrvtorzWW/gltCW7lCbv3w+cIrsT1STOv7eeiAV3wgfW6X1vG+dWyUVccdeJkwDsdmzHxFXZUINJWcfTwsqPjoAV5y2gGNkU1kZ7fEO2lMUuaLAFQPUbBhwq02bfn7SMppk+hU2AdsK5HA0CkUhJsQR9re9uHqkxpKoLaJ6z1tEtJxgbmqMqhm2t3F6t5KnBA2hCrdTzg8JU3PZVSsW33iWVXncqd4QlB448d2rLwIMfDLFGdlHw3wK7vX9yHhxwG+T6Np+EJsNfAmqYSSlSF+dh8W4uqsdyGqfFMkAiIlPuUz6M0X/p+Yxvgb+YaACIpVmR+OAuIJBPYYqWLABLF/Zukx1dqPC5F5ZGHR8tV+Sln2YXx+8vK3UoA07SrV4yEZLM07mK53FRFieqkcLy8Bc8CF6oKarl0j7E6pN8Xu57LUB/G+Qnf7tqW6X41EmMT6KXjdxvftt8qRPLHvLr1k9bkJg5SkyXg6sHYi/u8WopKulaLPi7VcTdQdLz2ahBpM9/RPlS2ApFK5xbb0jmKL47ni7OESCRZJNq70UCCOeWKH/y8Gz/jR/yIBtBA0gAQyeRGasdpQKTjXeCSXOD7U9JAvK2ssrB2AkEGRBIQ7zBz74dIh7EDreNnNHBoDQCRZv6LLIlFSiwO7wsg0uF9fsx4MzbxRgNz0AAQSbEi8wMQiaTh0EkD4+1Pc+Yi8BEM9VeiHT4+CSJ1K+v256vDz5O54HM0kGsAiARE4tYOUwNApDkklNgA2EADl6UBIJLJjdQOIBIX9flFPZ9PWBPi9rpFuKUyAKT2NrXNekL5mkbHm/P7U23dsOPZxXmA79HA/jUARDIBwmVdtJOkleINREIXJV2wDV2ggX1qAIikWJH5AYi0/4tkEhF8fEgNpGqksCB2/qqf2nZI29JYqfooLpJduwUvgDBeWagZDZyVBoBIQCQqkUwNAJH2mSjSNyACDaCBkgaASCY3UjuASACOlNjji7PxRWdx7IXbLCr+5NalxdoPnZi/PqmnwN2untz7oW1gvLOCEWdz7l6YLoFIJkDg4r50cc82dIEG0AAaQAP71AAQSbEi8wMQCXBC8oUG0AAaQANo4BgaACIBkahEQgNoAA2gATQwGw0AkUxupHYAkUgcjpE4MCa6QwNoAA2gASASicNsEod9/rJN31ROoAE0gAZOQwNAJMWKzA9AJC7iSeTQABpAA2gADRxDA0AkIBIQCQ2gATSABtDAbDQARDK5kdoBRCJxOEbiwJjoDg2gATSABoBIJA6zSRyoEjiNKgHiRJzQABrYpwaASIoVmR+ASFzEk8ihATSABtAAGjiGBoBIQCQgEhpAA2gADaCB2WgAiGRyI7UDiETicIzEgTHRHRpAA2gADQCRSBxmkzjs85dt+qZyAg2gATRwGhoAIilWZH4AInERTyKHBtAAGkADaOAYGjhPiPTt3i0WC7dYXLsP3ydcNG/bfm9gau0+PXx0n/L+v390V818F+7uW3e+X799dHc33h/p/91zvc1JJFs98+7MIcZ14RYPX+YDz6JdE/Wa66H2eazPZF+Wndv0Kfvn/Xw0SSyIxRE1AEQyuZHacSoQab1K1x7yOqT4frl0t6snt34lKThGUsCY6A4NoAE0gAaGaACIVLpQtpLl0rEH2vb1230Liu7HQaQ4F3kRd+0+fLs8iPTpofXBzUf39UBx64Cs0rgxRkCkQf4q+ZBtQA80cDYaACIpVmR+OEuIJH7senx5dUMuZDmGhAcNoAE0gAbQwGE1AEQqJR6HTOpL4xe2fX2+biuJChCpcHxIxiM4WdxPq8qq9B3GOInXWC1zAFAz1mcz1Fsxpqdi51j/c/zZwIeibonvycUXiGRyI7Xj5CDS6qUHCr2695eVu40gaek+U5HU47PDJg0kafgbDaABNIAGvAaASKUEY4bJ8tYQaU63b5V8vudtAaaVbvc7euI5Q70VfXIqdu5ZS0XfMObJgQri2L31eS4+ASIpVmR+OD+IFC7MX9xjAEm94Cm04ZXEDg2gATSABtDAoTQARColfzNMlqdBpLX7ENZCunCINJfkqGjHDPV20naWzmm2AXnQwMloAIhkciO143wh0pt7f1puqq+XT+79jaTgUEkB46A1NIAG0AAaGKKBC4ZIa/fp+d5dBcjif/W6uXef/ELcA5L6r9+/uLubcIvZZq2dq5t79+HbunyhHm+nahe/LrX3i2bnC4FHW+SaRpv3saom7/uHgEfh1zzx2rTrtOn+Kt2swyT9s7h2d89f6usJfQ9+1b7xi5xfleaXJXajxhw0B7+ouLZlL3HK5tGFMMEvIo771JtlT6/PJtjZ2+cvbrO4+4g4/Pji7lrNbvT6xX14kO0zLX7v7r96qGh1S51249s9fzgGn6CBaRoAIilWZH64CIi0WLm1AZHeX1/c47KFTe3fi9vlyn3uWUup1G6xXLrHp5cysHp9irfYPb4YycXLql1yIL8FL1VVNW1fX9znlbQ5G7ew/3Zl2NX6pTSfqh/y+ZT8yOLm3EZonHdDkkuOMb4n8Cnn1Rlp4EIhkgdAIpkXgMU/LeTuof50t08qmS30U1q4WSbaD2GR7ELb/IlyR4FIdQi1KM3PQ4u4+HdpXmlbhF8KdEwYU/q081Q6/yQ7CR3S+OGJMEXIIPscEyc1lzxxOoLeLHvk/Do+m2hntc+JcZAQSTxJMMQuvvoKOzF+3B7O6ZJWt9JpHls+A0rQwK41AEQyuZHacc4QKT7RzahEWisQ0/37vjDaxQqn8Dei81qAVjl0KSUBQyDSU4JRnb9V/rY9MU5nvzGf/8ZYmQAAIABJREFUSX4Q4zyu5BpUuR9zIEZiDBxBA2gADaCBjQZ2A5G+y0fIX7s7qxrHSmx3vT2Cl/IiymF9HF8dI2311RJX6oKi2z7dVrZwV6oqZ+2++sqm0D6/fSxPdJsqlFC15Ks/BPDI2/74xaVxCwtri741oBFgJu/TbPOLS/7Rc/RVQuHC5uo52B4SqFQ54iGTrqhau/R0OX+R0p3DpDGHzkFVpGRQo+KXZq4j41RKptLcDqg365wa5LORdg7qc+E0tOuJg4BIKQ5Ba0LX4XwLVV3NvH3f6WJYnxPb6bQUX7aFuPCKFnajASCSYkXmh9EQ6fXJPS7Dd+PSHerpZxEIDV3fSECORaGNBEG3qnro1b0/CSiStxX95tU97y8C8FTabVOJ1PwtW67cOi4W/uo+x3i0ccn2R98tFi4fexd+SDaFJ+G9unW4ldD/fc19UQJobKO6Ag2gATRwcRrYHiKJBLL5Y9QmdTpx282F5eAL9Ag7uhAo3arW3laWJ9tqPll7sU/CJ2WXNbZoW4Iovo+U+HYhy8EgkrCzC4psmFW1r/VxOsb265gxZQWK0lvPHLyvh9gyJU5KC37eUQ8H1luu6/BZ+Eb5bGd2inNdjFWKazUOCiJ1zwcZew+DP+S3gYr2cuwU90KffToNPuS1fMsufsEvO9IAEMnkRmrHKIgkAIq8VsvBxD5+YY0gpA9IvHqAISDQolAJI+ZhQjCjKihCF6OqJ+7Pb6FTYxq/whtj/vqWbmdb5P36pEv0vSjNV7S/fQqgR7cb6wc9ZqHy6u3NxZiVbCZZvLhkcR/fC/RpfJdwfnF+nYgGtoZICXyEX7fa19JtJDu6wOwk6nm/MSHuJpfR3op98ZgsOY0JaKWtty22l1UuAxLqBBy6CW4cu1DFIxNqBQbk2kjSFu8vYY9sUx2n0q43Jr6tEZfJY06dQ6OXVJEiIYP0i9retGkBSZxHN065H6IWKpqJx+xSb9Je+d7wWbRhgp3SZ6O0VIuDgECLXLtZu/J+Ua1UbC9gl/SPfx/j2/3+yOPL54ofc7/yGcg0UANAJMWKzA9jIFKCAtm1mgFUdpngmWOHStLiawEgvQ1fcDuOKcCVCYn6LtgF6DGh2xCIJGxJ/hWQqbhfVCuJ/XEuPfEr+UFCJAWmpB/ifMqQKdlPIowv0AAaQAOXqIELg0gDE8tiEpnamnChvUCOUEQm5EbyrpLQ4ribJC32uWeIFGHC2MS7mBysnV+A/NO3j+5OrU+kk/PJYxZ9muJUhgsp6Y3j7jBOKp41iCf9VYx7msckvcn+5fttfFa00wKSyf5JcRAQqTx/AwLGuQ4f//XHMJ3q2CYdsR1foIHdagCIZHIjteMsIVJtgeu3BFRM+NGCkCJkiWBk4eJC2vHWskoStCOIVLY5QaTy/jTndGtZ2lZuk+ZS9MNW80l9X2LSxJyJPxpAA2hgo4ELg0h9iWd7IVxMllNbWQpefy8qVYrJe3bhXRx3c8xhINKYxDuzvU3eS0/h6vpIQqQtxiz6NPVXhg/J7ujTvUGkpJmqLcW4p7Zd/2W/JMdfcYXeIkxJ820S3aLP0ljj7eyHSNU+5a2FMg4CIsnqppSs99mcdFCCWON1mvnR8i/bqbZBA1trAIikWJH54eQgkqikiRfhzZPBwt+0vnWaEnAZ/ndRV9LEypz4d9OPvXS3zdPIxO1isipnK+iSbC5XMaX9ZSCUgFGCSKnNJD9sNR8SyKhdqRHecwsSGkADF6aBrSGSvJVF/jErJ34HSsSKSbkfuy/xbO2LibaEHamtnGf9vUjqY5/G2jg+8TDtlmv4iD5DsmL2XUmki23S8X2Jf0rmU0xjZY+6OLt2Vw/37sO3zeLaG39Jv24xZnEOKU59c4gQSVZ3FftMc2zmXYmT9stAW+KY0i+pbV1j4eLbvxa0ETQSXuNYUodprKrPYltppwWRBvYpIZKyP7Uvf5ek/WWbk65yiDRNp5kGgj953RoY6HMGP+OPXxwQyeRGascYiCRvYZJ/U8pgY7egIIKbEkRqLroFKFksXBmmeJu2hCftBf77y8rd5gtax+uWAsjaCrokm8u+TvvL8xa+if5LbWQs6+8FTNtqPrvVBkAGf6IBNIAGTlMD20Mkn0SdzNPZ+hLPNoEpJssD21pJZexTJu9ZwlSBE0XgEcYy+7YTaQn/UpJeOT6MZbwm+/xTuPzT2fKnt1mQbPqYfXMow4Xk82izrIAxfZna1WCfTgAHaiaOKeHMwLZGPLQdwvY4ltThwLFiW2mnBZFSXCfFQQDfpE8xD7G/3H8aX0KkGPPFWJ3KsXlv6musHjkeCFfQABBJsSLzwyiI5AHKrJ/OpsHINOAy9kLcL+Ttn1i3jE+eDSBGjb8VdEnzUn3GX6zT/ikQqdymxw9bzaen7zgvjiMxRgNoAA2cswZ2A5EKF4FHTTJMGFNOLDu2FtsPbGv5IibgMnnPktHiuJtjUvJbqDYx+67YbLSJVRrmmkilPkvbsrmpihMNIaaN2Q8vJDzoxFgugL43iDTML2UoNbCtpTdrezHuA8ey9LlNn1YcBCTaHUQaNs90rmmdljTEtu55jk/wybYaACKZ3EjtGA2RjpTg91citYmGXLOo+FSwUlXO7pKUpkIpVCTJBau3gi4JEu0OIm3ph63mszt/n3NyxdzQCRpAA+eugQuDSOK2MAkOsoQ7Qo3saVlpewHkZH10LqKLiXaWbFhJugIwhbHNvitJs9EmJdCFcZo5lqpWStuyuclFpjO/ThvTgkgixur2qNwew2bDLyqelTip42TcDq03S4/G/GIMJthZrgjbMg57gUhGzJWvxDmT6TSPLZ/zc4rPaGI3GgAiKVZkfjg7iKQeLb9waQ2glIxEIFWETOm47sX7MPASF6KW/Q+ALsmu/Kly+4BIby6NJ25TGwoJB8zn1wj08vnUfMy+ru7wCT5BA2jgPDVwcRBJJrzF22BEkr3Ik0i5b1Sljg08VNJRgRMxyS+BEWGXrtoQCXFur9VGbC/5p2xHZZyQoMe5+bV7sgqPSWNWfNrTn/d5modti/alSI7iXLK2Ya7ytc8Wsb/mF7uqaoDvDXvU/IQdpbjL86Zm56g+a3HYC0Qa4KsY24JOpR95z21YaGBvGgAimdxI7ThHiJSve9Sp3hEApASZNslKGRgVAVEGXiKckZVIci2muC6RTAoSKPKLdH9WT3xL+zpzacZO+8u3ppXnota4Ktrk7etvW7bpzQGRZHx5DwRAA2gADeQauDyIJG+f8euiPH9xX9tkwD+x6SqUMjevXUiQqpHCmioJLvjH2d/dhIWOs7YiSVeJtkxEYgKbtfXH1PaZfVeSZrPNLy7N8drdfUtrG339dh/9k4OG1Eb71D8+/dPDdWe9gdwHqf3wMSXYsPvzcUox7tgzFK4NjZM8rn2f5qZ9s1e9FexogOWguI+0c2ifY+KwF4gkta3n2NFF+z2Q60pBX8vHbN8bXMD/6e/NOfsCiKRYkfnhPCGSBBj+eqpbaRNBj1+Eu3mqWrq4f8+e9mYBncVy5dav8mlsr269Smsj5XBFjfn04t5b+PT+4tdUCtd9/vVAECmr2hrlBwHi8nnGJIFKJJ40lQHWqA22ow00gAbe3txFQiSfMH6IsEf+8ffvr93dw30LPQowx4AiYTHGzasHIdnFfiXRjsnAQFAUxoogx+xbzHMULBHtFFRrfVW85SndKhTsU683/gltCdJF22PCPWFMc97e92V4JW3ScKmNV7XP9phanOJ8ZPxrc9uT3op2VKq3muMn2ln12cQ47AkiySc0Si3E9306jbGvrG1m+Z7twCU0MEgDQCSTG6kdZwuRckDyJGGPB0Ya+MTvb3W94p+yluBSTID9k9nUcfk1oAdTL90EwcMps93KrU3oktoV7RFVTqMqkZokbqIftoVIca6Lso9JMLv6wSf4BA2ggTPTwIVCpE2C31TWSJh0c+8+fe+p+mmTAF9FcneTVdjc+MfZf3FffR95slBNtIfBCVkJ5C+aIogx+xZQYBREsvyjq4Q6c2zBjarmurl2d7Haq2JP9Ou9u1IxqYxpzjv5vxSnqybOqcJKzWNAn9WqsDzu4vNB9SbGHTu/0XYO8NnoOOwNInltbMDWJJ0CkbrfbZbW2I6vJmoAiKRYkfnhnCGSvq0tr+7ZwKFNFVCqHmpg0nLZQKB3dUtZBpNeX9zn1TKDSb7dU1ad1NeuHcsnBhGs5LbuEyJN9AMQiWT2zJLZCImZF9pGAwfTwHlCpIkXrirZpg8SIDSABtAAGkADB9cAEMnkRmrHqUAkErwMRpHkHCzJQXtoDw2gATSwHw0AkUgQDp4gAOtSpRS+wBdoAA2gAa0BIJJiReYHINJ+LoxJOPArGkADaAANoIG6BoBIQCQgEhpAA2gADaCB2WgAiGRyI7UDiFS/wCUBwD9oAA2gATSABvajASASicNsEgd+jde/xuMP/IEG0MAlagCIpFiR+QGItJ8LYxIO/IoG0AAaQANooK4BIBIQCYiEBtAAGkADaGA2GgAimdxI7QAi1S9wSQDwDxpAA2gADaCB/WgAiETiMJvE4RJ/cWfOVJqgATSABrQGgEiKFZkfgEj7uTAm4cCvaAANoAE0gAbqGgAiAZGASGgADaABNIAGZqMBIJLJjdQOIFL9ApcEAP+gATSABtAAGtiPBoBIJA6zSRz4NV7/Go8/8AcaQAOXqAEgkmJF5gcg0n4ujEk48CsaQANoAA2ggboGgEhAJCASGkADaAANoIHZaACIZHIjtQOIVL/AJQHAP2gADaABNIAG9qMBIBKJw2wSh0v8xZ05U2mCBtAAGtAaACIpVmR+ACLt58KYhAO/ogE0gAbQABqoawCIBEQCIqEBNIAG0AAamI0GgEgmN1I7gEj1C1wSAPyDBtAAGkADaGA/GgAikTjMJnHg13j9azz+wB9oAA1cogaASIoVmR+ASPu5MCbhwK9oAA2gATSABuoauBCItHafnu/d1c21WywW6f/Ntbt6+Og+fa8kKt8/uqu2zd23ynGHgFE9tnz99tHd3Yj5LRbu7nlG9k/1Uc+8O0nWt/sU44cvpwvJzmUeU+NOu9PVLrEjdltoAIhkciO141Qh0vvri/u8Wrrbpb5euV0u3ePTi3t/q1+4nu6F/atbr57cOp/f65O7ba8zH1/Ode7Ma5Bu0YIb5Kf8HOIzfkMDB9fAmUOktfv0kIEjCZHEew+TvpYuescCjFIfu9pWs0UChziva/fh2+VBpE8P7YXpjRHTXcVjz/2cyzw6kG/PfmO8I8Nu4gtA2lIDQCTFiswPJweRXl/cYwaO1A978drFw6TXg18Q7zN5fX9ZtaBoBUQi2bO1DUSyfYNu8A0amJUGzhgird0HUZWzqThaq4v7r9+/uA8SMpWgQw3cbHmhvMtkNwKHxb37UKusmpHNu5x/7CvG6/q0/XAu8zh3vTE/9Z0az0P8gl+20AAQyeRGasdJQSSRHC8WS3e7enHvr7I65dW9vzxpyOSPOZOk4f1p2VZIFyDSmcxxnxCOvuW5wnv0gAbQwPE1cLYQKUGVfpjwVVbx5Lc/xWR+4Y5+O1vlojzON7e/0uYcE77ghznHaojfz2UeQ+bKMVQOoQE0IDUARFKsyPxwOhDpxT2GKqPlyq0VPOpeCPuqnVihtHqZ1S+vUxMXIFI3zlN9STt8iQbQABo4vgbOEyIJKDQUJoSkfbHIoNNJQCRRdXXhEEkmIrwnMUUDaAANnJ4GgEgmN1I7TgUirVdh7aPhVTgJuizd5x7odArJRJrPcB+cwryw8fiJHDEgBmgADRxDA2cIkSYClQCLbvw6QuK2t7DdL1JdWlj7u7Fo96J/0W5/O91dYbHvu+cvA9dnEnMNv/KJ18bePvt//OJ8JdaVuPXPgzTThlDZtMW8fVI3asxBc/CLiuv1r65u7nUsg+3+Ne+zEIveRddlf/F90EO4aF44b0ezeHscMwOVse0vrqSJQ8xj+rj37tOPbO0x7/fslsrNou8j4iN8AgQ4PQhAzIjZNhoAIilWZH44CYgkbmMbt2j0q/sc1k/Kq5GG9BmrmWwI5Rf4flyG28w2f7Nvlyv3+aW+HlOp3cJaFDzaka4JQpVV9MeA+Wxu9Rtha95naa5+ke9tAd3rq1s/rZxfFD3Ma/Pqb1k0+t+BbcNiUNFQcwth3/4392uIX67BtzdXsqGqnzhvDxL9IuvCZ153PhbxmIWL+vC25tsnxTPEKmnR29toIPZvny/HSFIZEziCBuargfODSDFRN6DP2OS01p+HLwLa6D+g6Uu6BJ++PuuEutvWJ+dZItKxZVuIVG+/KK0R5W3aYt6vPyaM2Zm39EsGMArxuHooQDnZ50Mtjjbw6SZJ9bmlJ+WV++xdBL4Ujx3MY7tx791dWMg8+l5qd2J8cu3zmTV20MDFaACIZHIjteMUINJWFTghgV9k1Tsx4c0Sbbm2UGxbTopVAh//dqXrtsXyqbgeU5qPOFa1z2yNdnSPj5CgOp8MNqixNn0260vJuefQYRUW9e7a4NenmlzpFRcLL/WbtsV5BhvlfCfYNiYG8dhSPIUdi1xjra2hii6fwyT9xPFW7jFW5wU/tbqJx2Taltsn+OzXNwHMChp6fApPCNxCDyG+vJ7FLbjAm/nCm7nEZjcQ6bt8tPy1u5OVPIe+8I+3spUT9W7iL4FE4b1M0lUl0hd3F76Ibz5uKk3iXNebSpuwfyGTal0FkwMOX7ERwVR+a5ppi4AXg9v84tItfAt3Jaqf5BpRV8+iKquZ3xbz/jFxTHPeWX8KFmXwouKXBuA11UJhrr6aSEC+vG2Ms9ZL8qev5FrHarKm6ipqwV8wdLUpoaKMhYduX58F5MptEb6ZMo9djZtsXrtP4vxPPlk4rfWe+Bg+Hn3+0s/FgAe0ob+PTtkfQCTFiswPoyHSq1y4eukeeyputr9QFYlroZKjt3+ZOL+IC3pru0xeI7zpJsURLCwW7vZJLt796t59VU34e53bLMbNwY2vFDLb+aqV2sLaot8urAiQYbFZjDzOMYNLFVuba4Om4iRUWPmKFFEFk7eNYwifd7bJda7yiiO/SLrwYw5oxHxH2ybaDopB1EEG9/x84j7v465Ofn0Lc9RtUyyn68fPO2nv1a3DuSjmp7Qgto/22dubCzDMz9M/+TAsWK/jZPmhpgP29X6Pdc4dfIbPzkMD20OkPIlt//iWqm8OcVGbkuIM3ExNJsX85JyGjJOO0dAgbi9VlvhbvSLAyOZg2KKqeyqQQdovb+fqgiLbBtM24d90jJ731DFluzFz8HobYssih3ztXBIAyeIg5ho1bcamTezE/g5EEvtMAGvBUdF29DxE263GNXQs41bSWDU+JR+zDSCEBi5CA0AkkxupHaMgUp6EttdqKlHdebKTINLtUwAYYy6eQxLvE27RXszFtD8CggwOqLaiTzl3o22EB6Wqlh5QFNvmQMWPq2wS/hHb1fyFralfe559VTbW/lqil8bVgEW2ScfszrbY5+AYJA3lWol9tedCx8dBBxKyiZiYEDa0y8GUaGtVug3RghWvBIqymIhxcx808RL7yzBNaFJoT8aa9/gIDVyeBraGSCnRTr+WNJTcSiz3nAREaLCr8VWiPfKXXiPxjzYa8CKCidxXpi3jK5F6bTDHGuCDqfO2xjS2986h8V+qnFIgQ/Sptkufx3n0Q6RoS0V36VzRcG1IW6+J2F6Cwi3mse9xY/9VnRvxkXHg/UWAA/N7j/hfXPyBSIoVmR/GQKSUYGbXakYyvpuEICXwnQR9UDJqQCiR9BaTYt+3kchHcNAz7+gvARBi2xII6plPta0xn2qbOJ7hY9Gn6fvooww6xL63TIpi/zZEGmvbMJ9ou0Ms9VhBW0v3+al9GqCItdd/qV0cf4J+JCDStgh7RdyUtsV2s230t47nEJvDXIFIIha7Og/oh9v7zlQDQKS+BEUk6aoKpthu3SyM/OnbR3f3IG6Hym9finBi4RY37SLW2ULExYTKtGU8RCoCieKcBkAjf8vV9y+ub96TxyzOuzLnbB5xXAl4in1mc41x0tCnG5uBthT7S21NmNXOJ0KZncxj3+Om/hcSemWxUXBMzqtwXNfvWbxoc3GwAU2c5zkARDK5kdoBRMrWjZEX6jGhlgAjgIOsskm2a98XE+/Y58LFhbQHLkwd+ysBKAEIEjhIti4yuJEDvggAJNgo9pklyHE+0kfZMQXf5OOnz6/NYtPrlyf3KBeNrlTkpPlm41q2xe3DYxB9L/0jb1ULvlL7g/+lb8K2ifoJ4ywqurWOsbbL+ETflG2u6qjYNouJHIv3gBE0cPEaOF+IVK1+GHHh3QMbSk+daiqxwj31zWsXQkSwkR23eSJYWJsns9O0pZKwF9tUjh+YiI+f9xZj9szhsPAli0njr4HVNHEeUg+pbVc32S/GUSuiMir2WVlIvgiv9j1uivek+AzUIRChpEe2oYvT1gAQSbEi88P8IdLwpDuBCJm49lfZjIMQqb/hf291VUcENvHv8WYdmc2TyIzb43pudZMVKmk+w31XhCSToYP0f//70lPjur6VUKNy+55MSitQY3QMoi9ELEP/DaALvhZ2hjYKLG2pn9DnQSFSstmsYPJ+j7YJH8h48P7igUH5O7r/O4J25+ujrSGSXPdE/uHor9rZ00VuMWHeYqxKkm6DoM2j5dMC1RIaJFu6j7mX0KCwQLlpS0rYO1UfxTbp+L4Ev5SMTZv3FmMW55AgSN8cYgWPBIvFPlNsmnkP1tJAW+KYUg+prTx/6u9PASKleU2KDxCJqiI0cLEaACKZ3EjtGAORUpIorzMqFRE7SRpDcr5w1SoIa6yY2GZ2WttlPwESqCqYlFDX/8ZKHwnw0PbfLEa8lMfI9+UFyyPoGVyJlGytJv8WoJrqI9Gu6yMNGGyYs3KfXzaLa2/60O2kFhM0yxKtYvzSMeNikHwZxgvxCL4Nc7H2bxLh1E/XN1ID8r3Qj/BtGKeTYFvHWNtHaD7MtTOm7yP2n8VK9s97QBIaQANCA9tDJH+hP6ens/1IyetYkNXAkXB7WUhgYuKvKz0SmPBPnfJPZytUDw2GEP5pYP4Jd/IWuM0fITUHw5bxC2snoNOBTmHexuv0eU8fU4LK5I/U32BIIW+XMn0pQNLg+CXNVW2JY5YhUrWtEY+yb8QcfLviPAbaPHncLeNjjcv2iwULJaDNtuxcP5PzA4ikWJH5YRRE8hd+B386W89TycTFaDGxtUBCTHgzuCT7K7ZNEKCaUMt+qu/9U878E+/Ek87aCqUcEgRoUVwUuTifBOD6bI19y6qZYp8JwjT+LvlItOuCkgQY4pj+KWMr/3S2QhVWqX/vTzFG7qeoA6ttJx7DYhAg0caXybdx/DCeVZnUjLulfobM2zrG2i79EeZggNOqjmL/KcYxFnIM3gMR0AAaaDWwG4g0swvXWCnTsxaLTkBSUq3ASkz8JURKCbI6NvNDAi4SGvRf9KtHwg8CHxV7ivYbizQr+0t9lrZ152PNuz8uRv/FORjHqjlsbIvjDvKlmE8Rvoj9cayBthT7G9g2jpWNX/RNdsxRxh0+r2J8rPmyHYiEBs5eA0AkkxupHaMh0jEu/mNyWgE+b+IR59HGlOh3nmQ1pM9iQi367FlnaEoCrR6XLoGOVS0U5lqcz3BbAyBRfir2OQAiBZuqr8NsS6ApAxN7tM2MQdBDE5cAgwpVQn5/sC+L4a9vw+Ztaif0e9Db2QbaHPyjAFSml6omONaMO34DupypBs4SIqXKCwl+ssQ6S0QS+MjaFJP0BJzs6hGRRKuFtcX2CuRK9gy5danSZ9H+X1yxf+WT0hxL23K/ClvUvKeOual0u2p/3UuVSEP687YZNht+UWCxCF/y+W4+DwEh8ZjML2m7iLWKRXnMxtYt5rHvcfs1VonP0Plz3NkDBXVOEu+LiDcQSbEi88NJQCTxlKtiFY6/uBYJ7OPTi3tX0KWwiPGAZDyClSwpTtsFQBh0gT8sGU/gRPdvbW8ST2M+1TbR5gBEMj8ZfapEV/j988AFwjftjTGjTR4oCH9lMZheiST6rEDAot+iP1ZuHeatIFGY0yo+ra1UuTNdPwMrsKKdGXS1tkufh3ll/o42q/lq6BOPydoqvcixeA8YQQMXr4HzhEjycehZwl5KSNLaRQvXqSwqJukClFggKAIIf1uarkQaklzHBH9Q9UzFnqL9GsyUQFjZxso4IbmrzFveejV8TG2rhEh9/flYp3noGMi2qs8wD/8a55K1lceE95afC/tzPUhbOvoL7X8Yvu8b17e35iHa7mVc0X8p3tX4xHlXABrHXARQKH1ns+28zwsgksmN1I5TgUi/xidh+Sdqrdw6Axa+8qN0S1hzO1Ux8Q0Jv7XWktifJ8UiGbfXaSrDiiKcyBKpmIxndlfbCpvi7VW+X7G9BDR8gp/6PVy1jwJEFsyJQMNfA+/OtjRfDekk7CjHIMX0tr39MPdpbNf8aJnZHOIsYjJWPzKeKs6h7yzm6hgxrtou20afZ7b3tRX7O7GS/fP+4qGBPM94r0HsJfrjbCFSU4Fykxa3K61b5B9Lr9YhuilUgohEWMKGCHkWC3f1/MV9jQnt2n166FnbSFTHLPyYaj0l3V6OKWGD2m4BBm+TYb9PwtIc9CLe8na6PPlPbabMe9qYw+bg16aqxCGHfRW/xATVgi8x1jqRS77J/fnRhUqqzRoDXSiV2oY1tlLfG50GLWdtt5zHXsdVGhsZH8PHMTbsByChgbPVABBJsSLzw+lAJA1EfKJ6u3px7womvQogEv7eZcmwSGJlwn/bVi/5i/jN08JCe//a7UO1bdbzScnA++uLe4yLZudtBZxqYJhcB+jVrcVj7TuJvpXg+zmJJD5vp23dVGltkhU9XgdoVPqMyU7NJuHreLzYpuwS/veASfohrKuk5rWVbdNjkADURh/KJgXkPOx8aipMbhAVAAAgAElEQVTieuc+Rj9D5m0dY20XMZEVfXllWYqXXvjdny+32ZMG87YlH7AtfWfgC3xxqRo4Y4jkk/C1+1AAOuGPmnz1kCmBoJTA2wAj3SYl+4nvb/wT2hI8yGGMrw7RYEFe9GzeeyiikmYTGBhVKj7JMtu0/hGgLdoe/qDIKqiYsG05bwm8wjjytTRmzxxK0E7ORcOlNrbVPttjRkIktcC5nFPz/trdPdy7jV0ZCGp8q+GhtD+993BKaLM3vkPmscdxB86rGB/fNvo/u8W06TfzA9v0dwX+wB8nrAEgksmN1I6TgkgNLHlxnwVoSX/butc/cV8H1rQJi4c9nb+zoR9xy1IBIlmgI47Z9OuT7UJy9LLKku4wZnr1gKyTVAgIEMaJlTBiX3fMMpQJffjXBshJmND4OsGBbp/tvLaASKq6rBSHpX9CW7IhznUXtk2NQZyvj1WhkknEoQPllH/7Y+LhZcfvov/OvtC/dYy1PbTzr3F+Ofz08U6VWFI7m/dL97hatdenhbax3+wWOzk277vnPD7BJ2eugTOHSG2i+f2L+/Bw765yYHJz3T5ZrZKQVmHDJgFXMEg93a0Cd/wFfmPXdQaTgk2Fp72ZtlTGMdukOTeVR9I3fg7fCuPHpGTLefvbzDxEGzrmoDl0n2531anySnOuw7X2uAgxStBH9BX94rf5J+3puW3skFCkUPHW9vH1W3cei0anX9zX74UxB/gmwRh7HnsZV/il1H81Pr5t9D8QScFk4Ve2F84J/HPyAA2IpFiR+eHkIFK4oH7dwKTbWPHTApjl0t16+PD04tZPGawpVYaEfiLEaCuc/Dgx8S0kxa0dm6ql7Mlq3oZOlVQGkzrjevt9O+MpZXE8PacIVgYAgpKt3lfFp6L58Qb0OcRHHRjWzmWzfQNTVCXLcunCulYKXEiwtgvbJsVAgMeSnsRtlybkEfMvxWRR08+QeVvHWNuFPf3x9E+yWzl53m00JM+XAlyL5xIQqX4+ZN8TMja8ByidoQYuAyKRVJx8UjH3ZDneFlaqpAr6i1DEhkhznyf2AS3QABrYtwaASCY3UjtOFiINvphuk15fbfMkbx0jWSOZRQNDNRBvZSuCs9aPERQVINLg85WYDI0Jx6GVc9AAECkk+LwCmrbQgLmAd+yzUi0WjyE53XdySv9oDA3MXwNAJMWKzA/nD5FINM4h0WAOx9VxWgvKqsoTt7rJijHgEdUzaAANVDQARCKBBx7tQgPitrLNYukiUWtvW9zce27fUkZyK3y2i5jQB+c2GjhJDQCRTG6kdgCRjpucA0fw/0loQNwK13k6YntbYFgbiUW10fRJaLoCNrD/cBoGIpFknGSSMUfgkqqR0gKbegHDvrWmgChzjCs2oUs0cFgNAJEUKzI/AJEOd7FMYoKvT1kDqRrJuj7VT2075bliO+cqGjiMBoBIQCQg0i41UFosfcgC7ru0gb7QNBpAAyesASCSyY3UDiDSYS6USUjw81looLQYebMQuF8QnhifRYyp0OH2swNqAIh0whfa/Dp+2F/H8Tf+RgNoAA3sXwNAJMWKzA9AJBJfEl80gAbQABpAA8fQABAJiMQv9mgADaABNIAGZqMBIJLJjdQOIBKJwzESB8ZEd2gADaABNABEInGYTeLAL/z7/4UfH+NjNIAG5q4BIJJiReYHIBIX8SRyaAANoAE0gAaOoQEgEhAJiIQG0AAaQANoYDYaACKZ3EjtACKROBwjcWBMdIcG0AAaQANAJBKH2SQOc/91HPuo4EADaAAN7F8DQCTFiswPQCQu4knk0AAaQANoAA0cQwNAJCASEAkNoAE0gAbQwGw0AEQyuZHaAUQicThG4sCY6A4NoAE0gAaASCQOs0kc+IV//7/w42N8jAbQwNw1AERSrMj8AETiIp5EDg2gATSABtDAMTRwIRBp7T49f3R3N9fuarFwC/H/6ube3T1/cV+BSYeBSd8/xhjcfRuQzH27T/F6+HIYG4doIdp17T58HzCPIX0OOmbtPj18dJ8GHXtIuxhr7ok59qHRU9EAEMnkRmrH6UKkF/cYr8OW7vPrkRKAl1W6vli9uOJF+OuTu21tfXwRdlrb38QxY97vur8xY8tjo0+OGBdpz2zfv7r16smtc/sOHcdDj5fP1/xs+Mc8fuJ5Q3/l7y38gl8OoIGzh0hfn+8jtJDwqPv+2t09r+cDKc4VEoyESJ8eWuh383FeoO8IEOnrt6DleyDSuZ4fzIvvYDTggEiKFZkfThUivT8tE7xZLNzt0+tRLvjXq/b6Yvnk3q0LbitJt7Zb/fRt33V/feNZ+4FIvVp8f1m1YHEFRCroqOqfwvFFeMtxvTrEb4DHY2vgjCHS2n24EVVHN/fuw7d1BiLWrknMxXFXgKT5JHEROB262mdAxcIxINLzdXvhDUQ6lYoK7BxwLgFN5vOdO5NYAJFMbqR2nCZEenWfl5trs8dVqAQqJOP7TiIjtOmpuInHLZyqRNq3fcfqH4jUm7wnCHoE3R5LFyPGxT/AjWPDDcY/jAbPFiLFCpbFwt1966sw8rcIBeA0Q2Axkwv7QyfEISaDbns7tI+ASCS+h9Yc46G5C9EAEEmxIvPDSUKkCGU8vEm3tR0a0IQqpN5xo71AJBKzTWIGJKknqPin7h/OI/xzLho4T4gUK1gWbnhl0Rd3F+7Rn9PaOxeSNBwaUG09HhCJhJ5zEw2ggb1oAIhkciO14xQhUkww21vIAsxZWGsSjaiA2MuFORCptzJnL34/dtwr40cNL6hEKsUe/wBJSrpg2/np4iwhUqhgWYxcR+druF2o0u7r9y/NAt1yTSW/OLe/Va4IJgTQaipqSu39Qsk9izNPH9ff+uQrrcKtUAu38PbK8b77hcfv3dWNOKYBatfuaohtfq0ecUvgYuHXlzIWK8/9UUjCvn7bLIJ+aB934xf8EqrUNr5rYjUAIo2OWcEXjU1xLGFHCzw7VVpbxbI7X6/tZr4xbuVKvdJcFzcVHVhzZXv5ewS/4JcL0gAQSbEi88PpQaRUeRTXQRp6+1QOc3wV0zJbW8kvdFxbpPv11a2fVu42a7dYLN2t1TYfN8AFa3u7/71g32K5dI9PL+X1l3bdX7Cz+Br8IK4plquN7wbEozS32+XKfX6ZvrZVqc+qv8S8Sm2r9uS+LsSqqIfoG+G3fNH1vO9oZ9J+U/32+uI+r6R+M20U9t+uCtoxx0sJ66z8E/3x5t5fnrrn8AAdleYzVCuAjKQLfIEvttXAGUKkVFE0vAoprNuRr5kUtm9eFYgJVUvytQSfYvK9cHcPYWHk7h8gD14U2BEJw3bj3ru7eKteGFesqRMXaw77yq8dWNHYl607JX3h3/f5o/N0tgx25f0tFu7qoQCnduDjLkDysLDsCw+3fCw3kKsct0kxEzFX9gyFSHuM5d1zeKped74RvhbitfGR0Js1R7YDSdAAGmg1AEQyuZHacXIQKSbhch2ilFxHsCQSzXiRK5PlVVjYuPQ3WvYtkoS4GHKpTdrWub1Njjvw6WypEiP1K38UW5QqWKxx3t7cpP5KPmy2efhm2bVwaZ2qsh/XCnwU+qktUm7YtM38JtkjfT1GS1G/3XlH3ci+pV7eks4fn9IT/7QuFq6pyBN9dPbn/hXHRhuEn2fnn8Y2/+Q2CdC6/iwCs52fC+L7QfgsfuewjSpENFDVwG4g0ndfORK+BK4HrEGk4YxKmLdNJGLC3U12txlHJspXqspm7dQT4PJb4QTgaP4YNJUdoWrJV36I6p+87Y9f3K7GTTav3adYNZWAmwc+uhqqXXQ8goEuCIgVXx7uCJ/4xcrDH74OyBP+yMGU6k/Bogwu5X4SfU7xcUkXyRatZ18ldRV94jXf1dnkmPVoP/XbjcXrj13FcvOUwq+tLemJcOn8VrBT+D4HfMpXecx65lqKCdv2+L1JPAA4M9IAEEmxIvPDaIj06n/5D9/lS/e4ReXIlEQr3rqWJcLWdjWGSJabv/NN5UyofPGVNSIp7dwalxL4xTKvVnp16WlS3jfZLUpiXJWkD9ieJ8K+8uI2XD/kNu66PyP5ib5e6Pgr2xobuxBJwp5bVVH16t59hZc1N8OWJr5i3qP8lQGFUfaIMcdrSUK9TCt+nqJvpRcBkdKYAWKkxeabfd6PoTKs8Z2HLuG8zdbmMseTdvonIMoqpp54iT6TrUPPNTluwT9vb2ouOuYZXKqcI7rdpqppkv5q2mRfFSCo72d8dZG+2h4iiSQyfvk1i1kfJ+GpJ9oTbRJzNBfpjuAkgwqi7WJRSv5/EYt6Z/tF263GLVUEKUCVjSuSieRPe14dUFTrW81JxENsL/XnAcIQW0b7WMw1QooYS78ou7AxHCts7UAksW90zEL/xmuafzdetX1hXukYO5Zj5xv73EJjwT5eC1oztICv8NU5awCIZHIjtWMURMoTwzbh14luSGr38ZpATqfiSFR4mPYo+/uSU70/wQ+9XSZB6ZgMnohxlW3G9thPBsrCWHH/QFgVjx/bXymp6/OzmJO/xe+zvDVQ7DPhY+w/a1uypd02eX7b2CPadqBha1eCNl3NRJvzGPq2om+lFwWRun3Kdh3fNzYZ5481ntoeAFB2XlvxEm336Z/O90CuiUyD0e+7OBfascJ5yWumDfxzkVBo7HmwNURKFRuJkjcwyUgq933h25fUThl/aJ/RF7LqQkAFC468Rmih4cDexx2SoEbbNHiIthlg7FXMW4EJY3tvf42tqdpG+VL0qbbL+cV5aB+X9BDjWNFwPCarRIrzqLT1Y8b2UivS3sL72Lfl80IbNb/oAyOWFZujvdZ8p9rUZzP7qZBBAxenASCSYkXmhzEQKSXF2bWakZCNvZjsPT4mrIUEWibYefVBSGZEYmsln79Wx+hJkmLbDICIcRUUMLbHRLcEGMJcSq+77q8wRtRAJebxmJEJfIh/bG/FMbNrqr9iu8pcvE1Fe4Svp2gpjl2Ksehb6aVX4wkSlReZF9VK0rfGeNHGmfkn2lXyXdRG8oWMz7C2Ped5HIPjwjnLK1qYqoELhUg9a/moSqp0rAko2iQnJvkyGReAQ8EUmRgVk/sDjCttiO/Xzi+S/Mkvbi0X487gQYQKIyBIAzSK/khzXfT0F8fdiY9L1QwDbdlHzGIMSnbJSqx+ELaBR0Niuc18f3EJgPo1sNqFtOWi7T1zUpCLYy8OFhD/8rl+6X4BIpncSO04HYhkJMAioetNEI1kWV38WiBIjJOOf3V+gd61X9xXrc+yHURKIMvfktQuliwreoq2VCpY4pxG9tcZpz8GjW/ieNIPqa1M6pMvUxIW49gDL2LbON6Y+W1pz5ZainMsgRCz7zIYiX4QkKns4zRnBZmK46Vjy331xKvYZ2pj62RzjO2fZJeaQ0erAv5JHU3SSmZ3YawUA47FF2hgjAbOFyJVKyNE4hzu4c5eE/BJ1S/ydr36e5HkF6FJljgUgcQBxm2T9tLT0Lrzk9Urwn890KeTDBX9kfo7LKjL4tD4I/m9ass+YtYDUSKkrGh7fCwHzjfGTepg478I9tQ5FJ7sF9b/KvmabZ3zo0cDHI9mLkEDQCTFiswPJwORhiSl4phi4iv26woPcdEfk0wJQNL+0tOgutc6WVtrXGu7rH5RfxPDE+CMW4t23V8nWe6DGK2fij5Mbbv+yirb4pxLFWcpFjJRidVCsa3vs+avLe2p+DraVfTDxn4bklRgoIBEZf2mORX1/2YAmOJcUl+T4lXsM4vdJP+kOZTnmMaIPpYQaeq51TkX0jgx3hzD7VtoYLQGtoZI8rYl+WWVIMyBL/qLyf1AG2KiLNfCSUm2nF/9/elAJBsA3LsP3zaLa2/mKuHBcOjTSXh6fFwFN2pdpF34uKSLFO+qLXEe0i+pbV0f8qJLzKMHIPRBpGmxTDaPn2/yX7MAd1xcX87Pv9eLk3c00TNvjk9+xhf44hI0AEQyuZHaMQYi6TVX0nd0OaHdbZIVE0IFCZINnb+XWeLYJHpbJrY2qNg8mt4vrr2xY3uI5O1tFuuOi5jnc9WLWg+Z3+j+OglRAgvVBD76Wfohte3EyozpcIg03l9b2hPnmC1SLX1m6UEt6F2Yo9l3srl8zqX95fgkAKOqeIrjpb4mxavYZ/adMMk/ya7yHNMY6Tuj6+Ptz4U0TnPuybjzfjRIwIeXq6ftIZJPAOf0dDbxlKrRICuCgTJEqibZViJc7DNLhIrga2Byv8W4CUos3NWDfzpboWqkaFuCSH23n3USnqI/Un99Po427+12toF+j/MoQ6S+eXT8YsVRbI9zL1QipX1jY7nNfDMdN7b6Jw76pzWKpw62F5mjz0cx9yn+ok0pPmxDF/PXABBJsSLzwyiI5JOjozydTSS/JnDoQha1qHNre3j6UjkJf3PpVjIJQOTTohbuduWfzlaoBrKSYiuhtrZ3klD/5Dj/VDzx9LjWD2oeu+6vY8fABD7aIX04sG1nzCnJ1RB/bWlPnOP5Q6Q+WFMEAHvzT/ou6LMrQqQSUI46G6KVKRqkTVEX0e/4B/9sNLAbiDSzZC9WZEjQMMTGCAYkREqAYzQw8WMW+8wu4ncNagaNO2xeCU5IWDJkYWij/6I/jGMLMSvGttjnEB9nxzTjDbRlHzErzFcmvCkWefXSMJtTexnLYW3T2keybcl/eltToRQSh7HnY48/pG94r/2OP/DHKWsAiGRyI7VjNEQ6RhIwJCENdoljVbWF3y/2KfgS2vrXIghKiWunT9E2Jq3ZgtLmuEPsEf2HpKOpogh/E2WCvOv+OmMP88M2Pgxz3OVr2V8D59LxQZv8DvF1UUub9kkr3SoZUy8HvZ1trv4ZblesHJTniBXPdntZKwCPXZ6P9IWepAbOEiJJcDOqIsSAERFcFCpAei/UjT5VuyKQEKBmL+MOqUARgCFbWDsBiRxohOTN6N/wR39/vt9xfQ7xsTqmhRbRlgr0SJrQUCVtt/wS/DP+NdrV0YPhFwVh7FhGm0fPV/RZWRvLtnu8D0rxYht+RAPnpQEgkmJF5odTgEgxGSwtQtxJCkWSmR8/OfEfUrUix5UVOBV4VbRH9COfoJXNswghdt1fNqa/8I/jVhLzFC/th7S9AE4KY8lEw34/3V9b2VP0dZYcnjREEgtT5+fRkFjt0T9Rg1W7SufsdK3Y+stiPsQ3HMPtbmggauA8IZJ8hPpi4QaBpO9f3J1Y00XdeiPAh12NZCTUoq3qUyb4BkSSMGz34xr2Fu3ypeYalkjbSv41wYHlD7G91J9PElOfti2jfSznG9732SL21/wyOmZhfOM1zT8HVLuLZdF/lfnaNqWkdgikAgIkf+ELfHHpGgAimdxI7Zg/RErJYK0KSCZ5KcnMbjWanNgOSD4jMPDXOhqemJUlhj3Jfhu2RAAiYc6u+yslOmKM4u1EYn/ND3YsB/g6s2sX/hptj5jnuKq2DXSo2mz2nc6F8phpfzE2oxbW1vBzrv4pz1PAzuxcrPq91VXx3Mo0J79veA9IQwPTNXC2EOn1x9p9ko+o948f9wtFq8eP+4Wju+u3XD18cV+zRD4mwh5KNesHpUTnqwJQuwUc+xxX9f0s55z5ri29zgFDaq8XTpa3MHWAkAASdn/exxV78qqXSp8xGbNAXRbncHyam4eQyRavl6tQit68ZvHOAeYYrRi2BJtqt5RZ9nbOg9Gx7JtvqoJa3Nxn62ppHeXxjvPqmzf7Hb5K37f44vx9AURSrMj8MHuIJOBMOXEuXbymZHoxALKoBCCOp0FQTCwXC3f79OLeY1L56tariWsVDYAFi+UqW39Jj6d8suv+4hy1jy1f+CfXhTWniguMZ0/G2qwtlfp+f31xj3Ehce1/FaOOXTLeI/y1jT2mr9N8yrf1tfsNnTXzNPtO81Rxj/5I+8twxQB05niyGimsBZbmV41Xpc8Yy5oPavs6caucj51qvuSjUedW9HGaf5wH+2JVCT5BH2M1cMYQaXOhLYFG71MKbjZPJCsnKTohLvflYUp2gb814NjjuOL2sOJ8Gn8kiNABQj9EBYwCK+0imaXbo6r+6J+rhkutr6t9tseMhEgevnwQlWnaP9fu7uG+fZJLFyJZ4KbTR66VPlgi5hn6SjERMKcYC6/tqbHsme+3+wys5YukbqBg57yKMZFrkGXnT59P2A9gQgNnpwEgksmN1I65Q6QELOyqnNJFa2onYMRWia1IPkt/H5f+CW0Joqgk3hrX2u6T0pdVBmS6fxNv8wR51/2ZybGAER1fLN3jynhKXdOfhmDhOkS/+ifPjUzGpvhrG3tqvg5+q4EQ0T7MPWpG7NN+SBrU24Ov0v7YV7ClnevnAOmkdszxfL8T41Xts7V3qn8Gxs2fHwn2Bh9NPLf8mNHerMJR+ViMw3bgEhro1cDZQ6SQuDYVRw/XnWT3ylcoPfsnkw1LXkuVS4ub603lTKkPkfh3AFNIfmIyXQISG7v2Mm4z/gbcqOqaxieh+kbAlLwCqLW/83j3tuor+F69DvBHaa5XnSoXEa8BfdaqeJR9ISbm3Hy1zS9uSH+leVS1ko1dsiuHogkieX9sG0v/ZLV7dyXg2cbvcr75rXRtHL5/cR8655c/L4yn/vm5Rt0DkUqxZps4xwecG/jrfPwFRFKsyPwwb4iUkmL7dhojaRMJX0yot01s24RaVdssl+4xViYJuDIkSe+z5/XFfV4tM5i0tJ8Ot+v+ehKgzmPSm6opmWwLgJf15auWOk+bW/q5vbj3VyOmWR8deDjWX6K/0fb0+dr3HTVY9oNaxLmpcGuf+Gf2nc6Hw0GkTSxm5Z+euN12qvcKepqilRhPIFLn3BMxYV9Bb/jHhEkXA5FIMM4nwSCWu41lvBWuVDkWkvcIfAyIFI7j9eyqQjjfdnu+4c9+fwKRTG6kdswbInExTkKGBtAAGkADaOBcNQBEIukl6b1wDaTFsa1KuP5qNBLj/sQYH+EjNDBMA0AkxYrMD0AkkpNzTU6YF9pGA2gADcxbA0CkCwcIJDXDkpqz9pO4HXCzOLbwSXub2ua+fwsyieM5n4CyaAANbKkBIJLJjdQOINK8L7BJgIgPGkADaAANnKsGgEhbXuyeNVzANxeTDKZqpO4CoAEg+acboneAGRpAA/vWABBJsSLzAxCJ5ORckxPmhbbRABpAA/PWABAJUAIYQAMbDZQWx24WjR++8Py+k0v6B2CggfPXABDJ5EZqBxBp3hfYJEDEBw2gATSABs5VA0AkAAIQCQ2gATSABtDAbDQARFKsyPwARCI5OdfkhHmhbTSABtDAvDUARCJxmE3iQIXB+VcYEGNijAbQQJ8GgEgmN1I7gEjzvsAmASI+aAANoAE0cK4aACIBkYBIaAANoAE0gAZmowEgkmJF5gcgEsnJuSYnzAttowE0gAbmrQEgEonDbBKHvl+n2U8FAxpAA2jg/DUARDK5kdoBRJr3BTYJEPFBA2gADaCBc9UAEAmIBERCA2gADaABNDAbDQCRFCsyPwCRSE7ONTlhXmgbDaABNDBvDQCRSBxmkzhQYXD+FQbEmBijATTQpwEgksmN1A4g0rwvsEmAiA8aQANoAA2cqwaASEAkIBIaQANoAA2ggdloAIikWJH5AYhEcnKuyQnzQttoAA2ggXlrAIhE4jCbxKHv12n2U8GABtAAGjh/DQCRTG6kdgCR5n2BTQJEfNAAGkADaOBcNQBEAiIBkdAAGkADaAANzEYDQCTFiswPQCSSk3NNTpgX2kYDaAANzFsDQCQSh9kkDlQYnH+FATEmxmgADfRpAIhkciO1A4g07wtsEiDigwbQABpAA+eqASASEAmIhAbQABpAA2hgNhoAIilWZH4AIpGcnGtywrzQNhpAA2hg3hoAIpE4zCZx6Pt1mv1UMKABNIAGzl8DQCSTG6kdQKR5X2CTABEfNIAG0AAaOFcNAJGASEAkNIAG0AAaQAOz0QAQSbEi8wMQieTkXJMT5oW20QAaQAPz1gAQicRhNokDFQbnX2FAjIkxGkADfRoAIpncSO0AIs37ApsEiPigATSABtDAuWoAiAREAiKhATSABtAAGpiNBoBIihWZH4BIJCfnmpwwL7SNBtAAGpi3BoBIJA6zSRz6fp1mPxUMaAANoIHz1wAQyeRGagcQad4X2CRAxAcNoAE0gAbOVQNAJCASEAkNoAE0gAbQwGw0AERSrMj8AEQiOTnX5IR5oW00gAbQwLw1AEQicZhN4kCFwflXGBBjYowG0ECfBoBIJjdSO4BI877AJgEiPmgADaABNHCuGgAiAZGASGgADaABNIAGZqMBIJJiReYHIBLJybkmJ8wLbaMBNIAG5q0BIBKJw2wSh75fp9lPBQMaQANo4Pw1AEQyuZHaAUSa9wU2CRDxQQNoAA2ggXPVABAJiAREQgNoAA2gATQwGw0AkRQrMj8AkUhOzjU5YV5oGw2gATQwbw0AkUgcZpM4UGFw/hUGxJgYowE00KcBIJLJjdQOINK8L7BJgIgPGkADaAANnKsGgEhAJCASGkADaAANoIHZaACIpFiR+QGIRHJyrskJ80LbaAANoIF5awCIROIwm8Sh79dp9lPBgAbQABo4fw0AkUxupHYAkeZ9gU0CRHzQABpAA2jgXDUARAIiAZHQABpAA2gADcxGA0AkxYrMD0AkkpNzTU6YF9pGA2gADcxbA0AkEofZJA5UGJx/hQExJsZoAA30aQCIZHIjtQOINO8LbBIg4oMG0AAaQAPnqgEgEhAJiIQG0AAaQANoYDYaACIpVmR+ACKRnJxrcsK80DYaQANoYN4aACKROMwmcej7dZr9VDCgATSABs5fA0AkkxupHUCkeV9gkwARHzSABtAAGjhXDQCRgEhAJDSABtAAGkADs9EAEEmxIvMDEInk5FyTE+aFttEAGkAD89YAEInEYTaJAxUG519hQIyJMRpAA30aACKZ3EjtACLN+wKbBIj4oAE0gAbQwLlqAIgERCEoXTsAACAASURBVAIioQE0gAbQABqYjQaASIoVmR+ASCQn55qcMC+0jQbQABqYtwaASCQOs0kc+n6dZj8VDGgADaCB89cAEMnkRmoHEGneF9gkQMQHDaABNIAGzlUDQCQgEhAJDaABNIAG0MBsNABEUqzI/ABEIjk51+SEeaFtNIAG0MC8NQBEInGYTeJAhcH5VxgQY2KMBtBAnwaASCY3UjuASPO+wCYBIj5oAA2gATRwrhoAIgGRgEhoAA2gATSABmajASCSYkXmByASycm5JifMC22jATSABuatASASicNsEoe+X6fZTwUDGkADaOD8NQBEMrmR2gFEmvcFNgkQ8UEDaAANoIFz1QAQCYgEREIDaAANoAE0MBsNAJEUKzI/AJFITs41OWFeaBsNoAE0MG8NAJFIHGaTOFBhcP4VBsSYGKMBNNCnASCSyY3UDiDSvC+wSYCIDxpAA2gADZyrBoBIQCQgEhpAA2gADaCB2WgAiKRYkfkBiERycq7JCfNC22gADaCBeWsAiHSgxOHTw8ItFtP+Xz2vZ3Nx3/cLMvvPtcrgi7tr9XtJevz67aO7u9Hn7d3zR3fV+uLu2w7i/X3H/R3oO614rn+7b7/nrt2H7zvwTd9czsl3fXO9oP1AJJMbqR1DIdJ6pb/DxlyL3D69Oi7k530hT3yOEJ/XJ3fbXgc8vpTGf3Xr1ZNbv5X2ndC2l1X7N33pPr8ewO5evx7AhlOP2QHs139TVh2d9+0/xHfWLmzQfRzoHHh7c8cad2xcgEgHujAHIh0goTxQLIvJ89mPfYEQKQIRmYBduw/fdgx9zgmERJ8BkS7ze2I33/NAJMWKzA9AJBLKsRf9HL8jzVRgx/vLqgVM3eT65PwPRAKiF6CUhhxdnfftP8R5sAsbdB9ApDxuQKRjJ/+HTrqOPV/GP9GqssuDSAn83h+mquYczo1Df5+dE4A7h/jvaA5AJJMbqR1DIVJ+4Rc/HzpBLCQj0Rb2kayeiQben5Zt9U43uT45vR/6O6IC507Od2ei55LfNVzp6rxvf6nPXW/bhQ26DyBSHiMg0o4ueif/6nzopOvY82V8INKJaCBCpIcvJxqz3VSFjPpuO/T3GRDpLLUJRFKsyPwARNpRVckZJ3v5RT+f968ZINIWPgYinQRM1nClC5HO5XtGzxOIlMcViHTshPbQSdex58v4J5r0XVol0tp9CGshAZGGa/bQ32dApOGxOaHvXiCSyY3UDiDSFskq4OgkktU8aTmFz0CkLc5LINJJnJcargCRdv29pP17OHg1dh5ApGNfWA9Nur6v3afne3d1c50t0H3trh4+uk+lRWxjgnXvPv1Yu08Pou1N9xadr9+/uLus/yt/3Leehb2n2Nb6vTTm4uba3T1/cV8nxab1k1jE3M+h8U/0R7ZeS9y+cOZCyQPiVJrLIP9V5lnqc6h/Sm2n25NBpP+/va/HkZtnuu3lOHFHg9mCY6NTJwN4BQYmt0OHBibxApxO0Itw8CSGV/EkX/S9wAVe4OLqoiSRrCpW8U/qnr9jwNC0JJJVpw7ZrNMU9fvH9Jnz6UA8rMes2yYdG4ujHv8Zru3tMvGIcShsRDvzQ9vE2gmrdn7+or4q91JyOV2rb6R/6ToHcQv+yGMYi5h/oY9du59oP3UsRrBb67A409r3JF5PsCJM4/DCPkNEElqR++FqItL5PD3en6bbY3hMJ/T943RLmwdbG+7GZJASDNpkmJU9nrJNev+eH6Y7Vf8t3fdQ2dh7xLZVQLLaPByP0939w/R3SGRacWLfHeTDjE/EQyUE8fxhsjdo/jP9p+GRIsuXJvwsP7VNVmy8uLP6ttg07yt0DDyjY1tcRtu0yhW5oDEiv2OcuN3L31lsR3ir2xyMS54ohv7N7A68jT4p3u4U58wW7SNrZ753BLe1ju4Y67bj5/P0nXFzefmAheFxuquNX3/+TH8f7tXYd5ziuBHbtIW54FPY5H2ZqxbG5T/S9sPx3hjr6vdIkSMXkWrXl7gbmNHYWRyDlW2nh+k/Z8IvcTdg12YD4U/fbak8H2tkHVYfGPFhieW2dsd4k3Nt8Zu+2+fvPeu7vMBBiEhPPbluSLrOlJCySUlIaPUxE0BigvVx+pC9HY6EpZTcCIHJauvmiy3qjNr27z/Tz29M1LLaPEgb64kZiWB8IOB/8w2R9xeRhvFjMdD+bcFnf3uYiPSpxEeFLfNvyKbI4cP04SrtbhWRyuUPVj/iPuq3vY32L17nIG6aj8vnUh9bYrSMSzYPhjjAOJTZxP3cC7uLjE1prM18KPn3Rq9BRHJ1I3HhKiJS3CSYf5/mf+dJcnh71Wm6y94OJ5MOITBZcwEz0VmSdpk85XbReJTZRolb3LfGLnM4SBuzZDebWJMI5tV1nL4/BDxUIlJLmqmdSiI/jF/mw5qocptOYZNoyzflC6tv3CaVJGo+eFyY32jEhEpdjj47ZYe4wDEKb2eLccqxEhzc3KcO091gXHIel3i7tLN8p9uxHo+zLYqQIBD6tMBs7Qfhms5/+Oes3O79XXL09v5+urP4Fs6dPFFa1sN9CH/7b8dUwnxoSx3z8qpNs0/U75HiSj5W1q7/589DGbPZD4tzyrbTyahnsadug6pLYXc46u8ubc9OPnS3W7H7cJiqcddtxs/aR6efrmM9RKSnnqRXRaSUvFMCKlccPU7ziocYfCW6sASLBqR3cXXP4/SVrS7iYkW6h5Kex+knrX4K9WeP9exjm17BQq9V99v0kjGevL+fPnD/skRcJbgMp0yIC/woxGkcP8+Xf6Yzs6kXn4vY8y+L9cyHAsaGUDJsE8Nh/lKdV7yElXG0IoYJkRk/pVDZx23GJ10vs0nzJe6jJPrbP3M/DZOCd9+C/Wv83foY5hv7/qETN0/oSP7p+LM+u/Ljs1odOcyB0Aet44Wx6+17Hm44XxjrjLhCRBJakfvh8iISmyQf9Yqj8/ILbpgfaNGFJYM09t3G1T3n6ZH9Os8T+HQPTVzP019a/RTqp1+cmUghkpANtt2qBI9+qfXb9CbUfFIvVx+kN3UFYUFN0hlOVvI7+xzFCVVWJcd9+Hm+/Jl/2Y8YEP7zqpSwIox+eWdiTRYXKdD12sQTP16WcAzfoXmCtKFNhn8XF1g5HbfE6Ty53ou3MxadcZH9Z4l/wlvzlvWDuQ9en3sS133Goq4Yi/GG9xfe30O/rhyNfpKwL5e1+N5alngicVS2P5GI1Gx/hpuyP3w/sGPAS7aR90V5vRyDZeyRfaC5vPKhuVz0aazdgAP1+zQmtfiZY2WNHXQOIpIxgb3qhL8gTpAdKfFSAhGzO93jiyPmCgiqQyRhKrkNbTg2pnb7bYtlDcGh1W8Rp2ij80gau344+DhpUSC2EcuXyvbhF+sOOLPjMD4b4lmy56xEJBMn1rYQSth5Lu6J9hrwPTgr05KwoXi4pd1/B0Qk1p7wf41rjKn2g5XjuLr3WzwpcLobN1a/HSOnjzE/yn1sv34ix68kVGzBLpbda2zy8MR5dz8niEiubiQuXFpEShNPf1KZ7pETXb6iwFsBwu9xH/uI4oGsP7Xbb1ssayZQfMLt1y0m1dFGnbCtiSe7To9KfOePDBTEiNhGLF8qG0QenuzWVzHFNnjCzGzyVmSlREhhxMr2xpTzgSdAwcYYt4Jg2dtmrLOXC8JPiXmsU9spkjmFG8M/lffj3R0XVn/AM61wc3jLfCzz9jLc4+JHwqQft1i2N8YWZvM5S8jQIlwSPS0BgmO/CIJMpJ8fU+TJvvJZxIXuo5WOIQZK5CUhQvitbBfXAo/r96T+T+0r++ZVge32e2LxgpuuW9k2Cy2qn6xxK9qYYch/6FgeFRNCum5HlW/2QZUjH2VZLd6u8Q3fGfG7YMWX/4Di8kZhdlKPMJ4fpu/0KDmtvKIfe0JbLv8DTyAiuZNYkTxdcrLvJc89bXp1sKTOSmrJx1rCFHCIibpelVGz07EttqsT6lp9zvVon5P4kR/xnkLCzZP44Pt8rPlRaFe03YjfKD6x3M72CBGpUHfEmN2zyaYGDtPjnsuXjRSRNrU7ICLF9jxOM18Ez7zzDtdbeMnFFa/ve7iJ+pkNVmz1vfEe1cciNowXuix9juUb+wn3U2DK7Lbamc9F3khhONrqxbGlbtyz6bsVIpLQitwPlxaRYrJZmkzGSa2ayLPJsiUIUN215C60H5MB9YtuuO4eHdtiu0by49ZVwCDaZyZky4Q73rOjiBT9KLRL/sS2W/FriF1KgmWSt8WmWNaLC7PLFBgGcKi26cXdsYXwHq4ztOXwtiayzdyNZWVcLF5HXhRwi/co3kYfC2W3co/H2LI/Oxd9l2NRtNXjVcC9+aiS8my1z9LnU7tLws/HwYQrXTNixfi1CA1BJGL9WQsb0f7FvmVPNP0onbLdjF/9npr9pesCl6x91XaGjb5uPbqlx9wcY2GD+fiXsSKT9QFRvsMHUW6g3RKuc38wecNW8VGbrd8DkU9JNNJ9DiuRnnqy7yQybuIz2/s40aavX399mT6ozY3FIyTV5DSttnATzRWfmFhVksD5EbgW26LfhyluVqsefyljkFYdUJstb9KKPqgEtykRjfbyhDO1ux9+q1+xvR58LmgPW4lU8jVhHASdjTZVOfzPlMSQPWOT7D5oQcOxqVsACWOPU5/N/736vocb71f87wIewQ86Rt7uGQtuh/r7EthFH3r6nrKLY4K/uwUliEiubiQuPI2IdJ5oM9dH2gyWb5bNJth6MmsngykZ4MmVnqTS5zjxzibrenLbaFtMNtkmrh2/vkobkx+HwuQ8+tCNk7eaKLW7H34rniwRsWN3GZtiglTAUWJP9m7EYZQLBYxSrA1xwEzMGnlbaDPiEv2RQkq8HttPuJV4m8RCXl8q+yTcYz40jUURkz36u+ScvVomjEsyeU8rgtR5k+8J47mNeI86Xx0Tgy3h2FK+fk/sq7OQlfO8dj3no2NfVUTivAx1LEffBuVf1kaoR9/ntyX90eUCPt750F446vtCu6O80fWtouaJXlzRt/JI+omVSN2TWzux25BAxISFJ115fbRPkH5z2jJ4LWRY/lZ1VBMstufKPBDwury/gziQbByyja86EG2Ht805j7yYCVnyoyRw2AmufqQv+SVibcYptZvHoh0/0Q7zL4oSzfhc0p5Ud3HFR4ZTKjeEUZXDnnCxsd2SMGna1CiysPjGuJv1JR4O9a9KnXPbWaxSm9G2aG/Cs7+PpbJDHIg2GPZV/BzCbtexybC55A+uzd/JEJGEVuR+uJaI5L3RRfbnMNFdJ8LVhFdNiMX3nPf9GSbjYbJtvaHGKqts46tzRLvhrUbpV389ac4/Jz+KCXVMZJUtVZw8wSa1K+Ng+R/O5fjl/shf4PtEpC02sUQnJswpzqads5iwpc2lfplsBqwqXCjErUVEukyf8rhi4Zhw6+dtKntt7g3htmt/JywZV2n8cIUc774B/GIbqmw8b8XYOufZxO+t3yP7TD6u1K7L/ryKqPcn4+UEum5lmysA6RVbvB5VRwFD6Ycau6OYuXBiFjSLPmxtV8VefHeFcUsdg2/x+0ddj3WE8Y7zoP43ViI99aS9IZHzxYSP0+dfy+bay0B+fRFp2LYV9/xV6JzgcvPePLENCVpKUosJbkw4e3G6lFAR7PePffgkHNq/2HNR0MY51Q0RKW0inbBIIlKRg9Z4E3mZ7zU03L8Kdcb4Now98d7GlWhpVR/vY4k7u/Oy4OcwdruOTX7fTtjiHo0FRCRXNxIXriEiyUl0+H6mCSf9irlsrr30azXBLiTZSwIxMCFWCcOwbevkP3/FcvCPjnKPE5n08Ml18qOYjEc8enHyhIHUbvu4yhMp7oP6O9rq7JVD+MWkhPuzxaaUYBVxFIkb2b2lzeR3NxcKGNVEpGHeFtqM/DTjkvyM9zHcinjHNveKs2ULOxfby7k3jNuu/Z1sTVyd+15I1DNuOvcxH/v7ruK72zbDVNjl2NR5j4xFPq7UrhOGj/zFCVHM4GMw/a3rVvZn15Pfvg2qjgKGqS8v3wliP7tuHza2u4k3tKKXvajCxbvvcTeISFZSd81zlUQuPR50mN59orezGSt0vDoKCdYyaU/JXXfiy/dTojdR9dqWYUxv2rJXW6VE3Uu2Gv2IePAEd5+VSCP46cSp/LkFn0YcMuw9XPn5VHcxHhkXU7khjGLMcoEl4pW1SXZvbPcZrES6bN/3hFEec/53I54xXryPNZYd4WVsT/JjE3aZHS19j2OFv2PfzLBswwYiktCK3A+XFpH4BPr2RBu/Git0vKSVTXjt1SwpGSomsSK5SQnCJtuyOimhuZ/uaHNRNbm2bU92cBGj6EfEgyfj+6z6Kbab+cptd/6OtuaJfBQhzLhviSlLsAZXIu2DQyMXChglbuoEmD2aOe9Nsnef8sQ9K86NsYp+ct42lt2RewlTSnI7ccvsaIxxVi7gyLhK44UrQjj3RUy1YFL6HLiUsC8LWMFWfXRsEr7W7/EFmqW94nXD/+VHCXq0SrWdiUS168lf3wZVhxs/vZqJ9YEhHza2a7Spv6/yz4E3ARf64cf+ruNl6997S30QkQYnuVsnybG8mQCHiXZa3ZDty8LsTgkTT9xaxJG2+qOtrM3N+xCJuoK/6TivwAmTuYZ9mFr2RNr/cbYt+CVfbXzL1218LmlPmxCQuBhWOG20yREJBGZmH9rYbreI1LIptGOT6aNzr+o3Ce/evt8rIrXZY/exxrLKNxFj79olsPPaWs/bfa/cX5t8qbT7luqAiOTqRuLCZUUkNuEtJPUpuWMTbEpI2ITXnpC21R9FCy/JGbFN1BUm1+k4r0oJ849CgrHY1uiHKbq04OQJA43tVnw18a3G7jI2xaTPjanls3UuxdL0rwMTlwsFjFKfyBO478dVKHB95EJTb5/y4mLh0YibydvGsh04xziZuLa1l3BXuFXscGPslmP2zOOEjnPAWwk+Mebe+VCudGxt26ujpbyyzxgDY191/Pevq/azutX1i4hIWhzy4qdtCbxS5zt88HHh8VL1x330VFwin3jZzr/P52V/wzAuhe+9xrohIj31xN1MgENC0pK4swRtYMPo9MhHSPpD27XjFtuYzXrTYhaPlCDXbYv3FgSn5Gt/wu2VTefrNrYngeP4XMYe4kKKd0nQjO2zuMZzI2+7MkUCxU2nD21qd0BEihx0/UwYilVZpo/Ovax/CCF3oO/bgo/ClrUX/RvoY9ti4duUHp/jK5G2YDfe99r7d8Efhvdbrg8iktCK3A+XFZHShNVf4cEnu2GCvU5izWRQTnDThNqbxMv7Y6LZ9CiOZxs7X5gop4S0blu8N0smkv3J1y04ybKpzrqNCbtkk3uuIXb242w8Oeu3KeKYJY7BZpuT4zhs4EIBI98P234ZB2ZTTB5X/wttxjpM0SfgJ4/RzgHejmMubYh2B8HG9HELbgzPnfp79jib85atiO+amPNxNOFHomJfX5Fl7dWCj/TSA/OV7QwPRwBKfXsVPA1+SBty+93rLL7zypcsJinWy8oYXXeD/SuXXBv4yxqM2EROaltDf9TnO3wocaLabra3l8am0rdCH7OOVZ/suiEiPfWk3UmAlwSiIaGJ5amz94sjPAnzxQHLDuucSo4KtsWE1E242cqOQtIaEy2WiIsEPcSXXc9wqgokKSnNyvJ6mXAS7Zrbb8Aq2Lkeh/G5kD1CRNI8C7azeItH3rbYxMqKOkObdIzt+vzv4zbxuBAzzyZ23uKgG1NWLvlYaD/4Hv0e7PuxvMIt1K+PzE7LPzGWaI6wsv2xUOMKt4vVuxd2bpxYu1EUaxmbWDk5LhT8euNlICK5upG4cFkRiU3Ws0nyOqGMCSuNQVLgqK9Ekqtw/DdEWXZY59Qkt2Bbmsj7k/CYgBgJVJzsh8k4m4DzRDHex65nODFBzMaAJ1U+xnZZwqQBq+BHODJ77VVkhRUvrGy3TayshaMbN1aut023zoAFT9w4F1ibGiO/zoZYFHjb1KdiecUV5o/FSwtv3l7GW+Z/L+ax/YpNCddtuPnxSGNGV3/nfSqs3JiFpIfp7+qTWN0036PiEeOUhJrH+IZIetzuON0e1s2OH9RjxBz7UDe7h9rmjybp2EVfg+0nbvf9dBvOhyPn/eqfrCMfR93rJdvPD1NcqRfazgQ2xoX5nrztwC/XBvIhs+Mw3d5XcAjfcVnZ47w/4NxuzYesbEe7ZLeO7ZEe7Qw89nlDm35/pz2RjsvjoH9jmeU7YhYdI+Zkk+LcGveAbThCRHrqyXolkYvJCu079O3H9DPa+zh9/fReDRT81/iWx9mWJEa0Me9tlJKbn79/TB9u1kFOJYaiXK9tXLi5+aj2epK+peQw2WUlYyn5k1jRG5resc6RCUHqbUwc5+XtTsF/OuYJt8ChAz/Lh3SOCVed+FzcnhlLuel57RGfYZtMkUDxoNCHhtsdEZEEj3x8MgHG8VHY3tu/nDoTvwriWxxjFM7Cv419bK9+4vi5CbsLjE0C9wK+uG/hHEQkoRW5Hy4rIvFVJXKiO2+KSr90i+9V9Ys4myynZDBMdtORT/SXvU7SNZr43sVl9jIJE+XY5L/JNi7cHE9qr6fzxCfUJdvDRJqOKVGVWNH+EzIpk35QWc+XZe8KPv+olJ33imnDj9ue/d0Su5jM7GtTwkJubM6TcivBSeXCnjmtODCRrocLJYxasenlbanNkOQV2s7iXOFeF28vzD0R317cdu/vWsjgfdT+O+dsXx26PMdDj8PZZ/0jQOSIbWtWfk8RyRHgsjbjd4seXzRugyKSGrP99jlGwRZtA7/H+juUW8Yk/l3R1y6V72t75k1vvDPhLo2legyBiPTUE/pCArwkFExMiJ2KkfSG3tCWRBKRoDoJVp6oSNHGJjUlxTqp3GAb4f7roxJ3mF+rr+/c1T3aluWzJawFf97dBNEtF4LOJJZZ+M7nPk5fi3Eaxc/2IcZnGJ9L2JPw+fAt8S1gG48keJl9atCmFg5fJDaFlUBFm1g5i0/WyhW3voR5xJfXubXvF3HzuFny7/304dPHNbE0+ti/gxww+bTadwnsLjQ2xX5d8gfXJsIJIpKrG4kLlxaR+KbR5hh0pDe0JZFEJDotCe+c+ErRxmxnflOansiy5J+Pi+Hvkm3rL7oySc7nH7c6+QqJunPk4pP24zZu2i0TinlSTmJZsDs7nqbHmAQYZekNQYagJ9snQUbjV/jcEruL2VRJkoyEdklsNuDwUH9rUcaFEkbsWohD6hulWNMmzRv7VDEuVsxLeB+nu1NY1fLU3NuA2+79XWF2vJ++F/ogcSesUJJJuKon6/vLmJRxbx5/Wvi+rjrJxqtKu8TBe/YjgdHnpIiVCznF68X+Rqt60ncK9R85dmnb87YDxkUbVkzKY+dxXr0T+rBY0bXJB/rhgOGbxb3Q7hr7fMVW+fuLi/DJn7yM8DHjTT5+QER66kl7UyK3JF9iNc3N++lDXJ3AEjsuurgJlp0gLqtugtCykuvm/URCzs/fdhl67IeEm27bAu6/f0yfdfkDtem8iS6UKxyz1UNzsv3oP/YU6spsWX2n6w1xGsPPwzUkyeP47GtPEjRmMXHFKg1GnI++T902tXD4IrFx+hRxocGmeWVWXMF3mA7UX38Zb1as1jfYvxpsbOG0J3zk/tFqwifoJ0U/B7FzxwMaE7eNTR6eOC/HDIhIQityP1xeRKJJ45KsCMHleJzu4moANqnnogtLpGUSkE9EadJvvjHmSI9z0Bt77DLDtoXJMS3xP9FjI3wyvT5CYr2JLpQrHLPVQ7MocGaPIVjJOD1eoW1Zfae2GoSBMfwcXFtid2Gb5qQnrkIjcUWuTAqJoj4O45DhT5wocKGCkU7akoh04T7VEBeN2dL/lkdd4pxuXpX13Lg3OBaF/tob41AuO7Ixj8aOVWTJ+/5WzvJHley+uqzWHBnD6NEnJZ6ycV2sltlbRCI851WmXEgJfW3pH0Ik4d8r2UqcbSLSwn16W5n1HcD5v4wH3/l30bAPSywzvsTxptLuykd/rPN4s8Y8/qCRfKYfOdJ3us01a9yAiBQSBhznX4BfdTLTIDa8av/B8dfPccQYMX4FHICI5OpG4sJmESlLjtonj9aEEucK+A0m98C0gCn4O4EfT8EPW0RCLJ4iFmjzKXkHEekVTLghfMhfsV08ICIhwUZ/BwfAgWfPAYhIQityP0BEekEJBEQkCB4QvV4JByAiPaVwgbafz/ceRCQkFM8+oXBFod7YQUR6O7Hu5QbuBzfAgWfDAYhIrm4kLkBEej6T6WpiAxHplQgIL4hzEK0uxDmISNXxDty7EPee1/gDEQmJw7NJHHYTi7yYQkR6O7H2OIDz4AA48Ow5ABFJaEXuB4hIz2tCXUysICK9iaSqyAEk1q+EAxCRwPMX9N1zwXEHIhISimefUOwmLkFEejuxRr9GrMGBF8sBiEiubiQuQER6QRN5iEivREB4QZy7YPL4tkUEiEhvO/4YA0L8ISIh0XixicZu4hI4AA6AA+AAOPBsOAARSWhF7geISJjMh8k8juACOAAOgAPgwDU5ABEJicOzSRwgCjVuEA7OgrPgADjwijkAEcnVjcQFiEhIGK6ZMKAt8A0cAAfAAXAgcAAi0iueiEOUgSgDDoAD4AA48NI4ABFJaEXuB4hImMyHyTyO4AI4AA6AA+DANTkAEQkiEn7RBwfAAXAAHAAHng0HICK5upG4ABEJCcM1Ewa0Bb6BA+AAOAAOBA5ARELi8GwSh5f2aznsxQoPcAAcAAf25wBEJKEVuR8gImEyHybzOIIL4AA4AA6AA9fkAEQkiEgQkcABcAAcAAfAgWfDAYhIrm4kLkBEQsJwzYQBbYFv4AA4AA6AA4EDEJGQODybxAG/6O//iz4wBabgADjw0jgAEUloRe4HiEiYzIfJPI7gAjgADoAD4MA1OQAR6YlEpK+fDtPhEP5/4M7MUAAAIABJREFUnL4O2CHreD99/o1k6aUlS8/JXsmnMU4+J39gywsdD37/mD7cfBkaExHzFxpz9f0HEcnVjcSFi4hID6d1bnKcvp/f8IQcOEwXTUauje/5frpd59x3D2+Y13/Kvj+eQl5Cx9P0WLm/nSPn6fuR1X28n/7uVnfZp3YbL1fP5XC9nM29uL0FH3sx0fdLjF7+dyxEJDV5vVYSskfCLuuAiHSt2L3WdiSfICK91jg/W79+/5g+f3q/JrDg37ON0xW+MyEiCa3I/QAR6YIJ1LVFjjeUUM+J1bXxhYjUJArKJBcikhYBRj9fDtcLjoGdY9Jb8HE0/qGcxAgiEh6FGpxQ75GwyzogIr3lpGsP3yWfkMTvgSnqaF0Z8zh9vmG/Uh7Av7fMHYhIrm4kLkBEumACdW2RozNhC0nJiz1eG1+ISBCRnrCPSfFgT3HugmNgJ15vwcet463ECCISRKRBEWmPBEEm/RCR9sD0Ldch+YQk/i1z4fq+Q0S6PuatAt/174OIJLQi9wNEpAsmUNcWOToTtq3JzJOXvza+EJEgIr21PnZlf6VA8jqFsq3jpsQIIhJEJIhI4MATcmDPxBMi0vWT5T3j97Lrgoj0suO3b9+BiOTqRuICRCSISFuTmicrDxGpSdS5dnxkkrunEPC290S6dhyfor3LceeC4/yTCm0QkSAgDAoIrQn7z18fp3fiMY/304dvP6af//4zyTr8lUg/f32ZPtyEvUbokZH307ubj9PX6kbcj9PXb7r9w3S4STZ4iU/e5vKoyrtQttp2npQsdbJHXqiuX48zFudfH9lG5XtiIZPbd98ep/O/j1MpLh4mdD7HpRYL2f7h04/p/JvimXDIYzkWN8knfyVSvw9LLPNye3GCc/swc/vzL4pTzqGWcz/njZ3fT+/ixvdk5/vp3acvTX1m4Ya2iXHVtEvGeTPPNviQx6mPo8H2bOxY+6uOwc9vEqv0woGV48T5DLPQB2XZeXwJY0JWJvEh93E7F3MbU3u41ocFRCShFbkfxkWk8/R4f5puxUa3p+mRNtJuSO7/nh+mu+ORfeceptvjafr+cN6UGP99UDYdjtPd/UN5A95z8EXaczgcp9vT/eKTmyiEsutYQ2P+sRGHTe2qpKhllYwXF13Wik0Nhz19EVhvwPfPn2lXnmmchJ1/pv9swMCy83Bs4K624Y8UWm7vqT9ZGB6nu2pfM8rN/C7b1SYEjNQtfTusG2tnfZ5wc31TdZwepv+c76c7No7RODSPYxHbEVuX/vn3gerW4wqNdSuGHS8eKOMq/Qpxz7BxxsNy3Wmskfd5AsZ5WtqVfs8+P5yLY7GsXwuQ0scQfyl2tdyTxoWwUf4yZyyN96reKm/GOUP+lOImMbJiMN72nnyVcUkc0uexsXYh0bjkxL+esMukMkusbj5OH8Qb3izhpFLH4TAtCZ81wf8xfRBJNJtkxfNjbS6+WGUtO+jcoxLMlC03X2ZRJ2Fk1T2KhSz37tsPtXeLYYvJKVlPsjWVt2Ohyn36aMSFCz6jcdOiJK8zxEXZEnnQ6YNRbowTUkDQmL77tIit7f2YeFauk9qw4/TPLO5J4SnhEm27+ei8RVFiu4Vn4z5IG6LNLF6277Lcu29fDI4yLFRcukWk31+UwMfqDrY24mz5uJyzxpDQD3Bs71NjWEFEcnUjcWFMRCIByOgza9+5O5XfzvZ4kslF1oeG3rqkJvmhH4ejVyeJTuGewtF+G9cGHDa1a0zIawIHJcQtItKphIeVsCz1jmNo+BKT9w34/vkz7c6zEsYb4vn3vtIfut5wJvvB7f39dFfg9eHkCawP5XJznTYfZJKrhQCK92jd0jcSa7+XxhKzz6s6TifDT27zTra6MbAx1Ik2fS7jKv26vX+Qb7LT7Wts4tiwjOvueMfrISEl9tW1H7M+ko3roSzFzRHPenwcE5HO9XHhcJgWEY6PTRLfQ5E3o5yh9lQ7AbNwPJ6mO/H2Q82f0bYr7Yb2D7o9jtHY3xCRzIR/bOLbM7GuiUjyuj/hSx09T3pa67ASw9ay88oYhmE1IYxkJp8soSLHvtmWWPeeWMgEOeHtx2QLnnnZevu8TDNWxuoOWTaPjbze7v+lOSHFIiUEGX56/bTVP+LAh1+Kpy3CRoGfJJTKjaV9fAMHedyDT1t8aC2bt9tvOx83qvzgMdyIc7WtGKP28Slgj6PqE+x7oRcbiEhCK3I/jIhIaaIvf/GnXzGlmJBPOHnCTIlOekX3efpLK5tC/7ESFJ2wsM/JJkoAUr30i24Y7/LEgE24j3rF0fprerDHSORTm704bGs3S9wIB5a82Qlgm4g0YzWvxAgrwuhXbSZyZHG5gC9rXMfx/TNdhGcuxhswYHXeKkFH9KcMdy9ha00G2fzAqDthz+6LfYGdq5blgsxi83jde/hWr4OPE6O2cv6F8cc/5hhZfVzaosvU/dLtcz8zYc+IaxKhl/hn4wzjsm4r/5x/N/QKZSMiksSQ8djgtvSvjm/As7kNA+PmstFeiWNzedX2Jfhqcdg6BxFpw0S3d2LM75cJm0rYjUSJVibQI2xUBz2Kka94UMKJeLyLHkFjj+LMj7rwDlhuX7bNHxujOnhZlUx++hJtnn2nV3jTY3W0ior8aXmkzcCCHmELWF4cCzO5fz+lx6WMVVI86aWYbYmF176FncKqPW4Lr4qcHPbhspzIBY21j8RHpFS/8Pq7wo4eXxMxjvWt/YZWv8W6lI+0WkmstlHCFn2BiPJkc15HZoNYeXiYuBCz9C89LnT4MBxf33bZT/W4oeOi/efjyhJTC6M+nFUbe4xPkQPBRhzD2LzlCBHJ1Y3EhW4RiYkycpK9JrUikZATXCl0BJFCJcOxflWWCUbZRJS1GSby/J40QZaJl3feLqvsiXYepl4cNrXr4cAwMO2hctFm5QsrezDEMsIjJSc7Yuj5Imztx/caPOMYb4lnLKtXhqzYxOtOXDhXl7+tZFeLnElYXZL7Eh98UXYpK/kguUJzHXVdcK237jbfohA9J9rKN3Olh77HGst6bFV2nu6ZWE6CL60SOs6Pvc6P2jqrcnRsUx80cPX8io/10Qqcde4ZBIiikKDiJsaAtvalKGqsADI4L23UNihcjfLZSh5+j+IePa6cHp9WYjlhxMt6+OrYqTa8HzTMvqPK0j2yvP6RhuLAuKvKy7K6z3NsFa478VXz1/sMEemJkoBSwq5/LTcTZSvpZcJCqX4r4eRtiParyS5P9uSjVJTgbUkkqKywxXuU6IJYWIlrdRWKwmxLLKz2eaw4vgIrZUNeD4/bkviW7CxdK/PpkpzIfUh4pHY9vNK9+lE+LXAQPosAQftPff6VBN25Di3AOLyXGOrVTErgaFntpGIs6+/zQZY1cFV9TGLaYHu1L+s6DBs245w4QV/we4xPnEP4ez8BDSKS0IrcD70iUpzkiwm2FILiPXyCS/s8hBUthbIiCVVJjjcJjfXqhDWIFGxyzZN/rz5x3hFeoo8FX+I9CgdRf7BRH5123bItPnp1srKWCDe3Gcvy5EPG3bUtlmUJj/ZXfY7YDeAb+VAoS7bGNhp5JsWpRt+DXw4G0VaPu6F881ElhAdbhEvtLsICj7u4lmGo68/5EHGdxQp5fVvduu1+3zKRwXx0aYntuK1sZRrV38qvSoxLuFp+ZWMd6+eziKFjq67L8tInegxS9PfI71Wo0tdX36QPefzkdcmdzEdt/9yG4gi7R9ZtjUVL2WVvvrSadfFT1evwZpwz7PtxFfl4n4xYqxhxEWm8bRnbvfgaba7wGiLSsxORGpKp2WZ9H08aZbKUrViwyjuJb54Y6XZ5sqevLQPSu09r4s1ErrxeOwGpJreWL7SKJLa1FQvtE/c32KzaEMm9umbirNoQ96hrwrfQfstR15P74WO9xQfd7lZOsPoETjkG0R8Rj/y+IBAtvy5Yq4SsMulcbGf+8uDcS/fMfFdCjOyXzK+5njw+539VHIRfqry4puzIxjxVr4mrql/co66J1Ym8bdWOsLFex3acdRtbuch9w9+tY3rLfRCRXN1IXOgTkdhE2kkS5oljTCj4RD2VNSfHbKIZJ8MsAShNSGNyULKJ1V+qixIV2uT4kTbEFfut2L5kyRRvx8TBEx9a2vXK7vc4m0wcWXvX9IX/6l+KqWnT5XjWJyI1xjP6QCsf+jdbzrmc/F/mIzoRDzGViaNcdRHusY71+mN/NESk3F7eRq3u2vVQV8k3XQfv16F8y1HXw3HW15Z5wu2JXhzwMP3Vq1f4mFH4u4yrbpPbE/wp4UL3qDp43+M8NYRJaVsBUy2C8Da4sGtyR9lnfj9493jnAza1oyo/8sOAxlcIx7p+K35GjJrtKNWvr+3D13JfT3hDRMoSquskAzIh4gmjSnREoiVtk3Xw5FUla3OHXogVE2V9rtAOJdn0xip62xJ/K9hSF7fdeHRLt9P8livy9Tlg0WJD6Z6tsVB1uwm65MaSqHXELXvbH4/rRh/0CpKdOCFXw+T+x5VZRW5TOeVf9X7elopPsWzp3tK10F7pni0+qLJZfIyxQ/hZsivYTsfSfepaxnN1XbTP26i0sysXdbv43CIQtdwDEUloRe6HPhEpJSFFISgmHDyZSGXdOUQ2bngT6TQBFYmPSkhaJ7HeG2mknbYv/Tgk2/vbTWUz31hy1i0EbSm7Jr27+sI2Xu7H91I8qwt1oxjIBDx8V4Y3RTmPfbpig0oIzUSbeNR633LvLKzen4wN9fM+Kv3Jr0vurmJbU92tNpfuU9dEIl/oXzPeHbbGMTDEUx9DfGttputlXJVfZtzr90QBfx6LU+y2tx38KNuwvR2vfjUumPgEG62jqreZN62cUfUX7JMY8e8lbXdr2/xRZ83T8Lmfr7Kfa9vSZ4hIL1hEiknyPGAwEUmveMgmd4FY/MhFgyURm1/RXS2ry9EjaB+NPZt4W8vf9cdJ2hPHy2HRYkPhns2xUHVnybVOXB9nsS/fM0vjn8dNipLs+mYf9uREEjyaRaQqZqnOOfEoChQ53mJD7GJZFUtxb+laaLN0zwYfNse3ZFewnY6l+9S1LGbqusCOt1FrZ08u6nbxuUUgarkHIpKrG4kLFxGRoijBJ7hqEl+dF9D3TUpi/AlpmnwXBQcn6ZYT8vAdRxNmWjWwbK69iEm2L8U2TRyWyfNYu2nineER28ofEYn3xsSW+1IXR+byXtls9UArhgVfWkWk6DP351I8K+O0NZ75K70DjnSUexrFeJqcTv1h5q2bjNbuW18TXu2neR+VWOTXScB65Jvou23osjWbA6dK96lr1TFm1FZ6PIm9KMD1sf1xtzKuyi8z7g33xD618G8RpGWfyse8hnojV8v3Xs5H6UP7yjuHU0XejHCmjAvv81Lo42Mf2TrS9uLj3nzlNpf+hoj0gkUkmfTvKCIZSWV6JE0lc1myFxKpx3kD8A+0kXZhAM72FxLxUG0VEseLYVFMfJOvrpBgYFnCY7nGBBzdvou3/Yr5nrhJDJkNm31IONFG6HtxollEKvBmSWg3CDA6PsW2SnwuXUv4uTzbsppqc3xbbCcfSvepaxnP1fVhnBOW27kY6sKxRRjquQciktCK3A9PISLlSUiYqI8c2eS7cyUSn4zfnujtbMaqD1M8SQlJ0ZeYkMmJ/ni7BXxiW9cVkS7iy04iUjE2MaktYKrvcTDeFwNKAu+nO9p4Wc173RVmwk7WH6i8KSaQz4X7mJ/BhvQolipnJNNFIWBT3artEd+034b9MeHdZGvgFQnRdjwDtnRsiW0RV+2XiU0bfqIdGlPjGLgImt+zx/Ha6l1wLd8r2s5iUy5brj+N2TPuJj4hZtZRtZ3ZtpYZ5oyqv2CfxIh9twy3zf3dj6+xH4nxibe1/A0RSYgW10sG3IS9+FgRt08lVWKvHJUUi/1LeB3W36reLFlT17Nkz6qTBI7H6essIPBfaIw3TKl4lHBKSYm2iQlqOrnuwoJ8UXVneNTu2RILo24X75qd6rpRj4/1Vh/25ATzoxLL6I8ZM24Tq3Oe+DEBTfExcS6Vj+3MZTn30j1zOS3WCPuVDabNpXvUNSO+lu3Lua3xbW273I7EMY+BvD6Ks4pJiO/g+ORj6rQT2sOx+NIFiEiubiQu9IlIbKJbEmxi0sEmuDzJKZWtTDitiWmcVLv1WnZb5/IJbhIIBnzZgIPdbm5fxIMlEG5CatpTXmET6zfLbsGw4EsrVzbYFP3q4ZuJ8aUwWPCZVygFMamQWCZ/mD1zOb2aJ+CukurYd1T5rE113UimY3/M2ldlu+tW5Y22Fxw838j31jrUfd22BpzV8Xxe9ls7qjwm4q/uZ/z0cTX8yuxtvUc/2nSavocXIlA8zXrZJvVzzPlYqfxhfWgWc5TfXT6a8Vexj/aqeJplla0M+zbeqDZi26FedV3ZUPbdqyNgrerubDuNH6Gd9biBr26dAtc/E0SkJ5rMy4RIJkzy0azDZK640AmpEJH026Zk/cXER9crEl1KjFQi2JWsGqtlsvpl8tWERbbPiUwwS1gXsZi5oRLk7uR+Qyys9j28d4hbCafStTqGMqbZ/VXbZfnEiRKvE0/N/qP6vfRPvzltaf/rp/fT4ebj9OHbj+ln3Ljd2AfM4XS5jb151ueDtK2Eq4zFEktlu/MWxRS3ZQKm41K1QffzIZwt+9m5Ti5mXFa8wnWGbQc2EJGEVuR+6BOR2BtksklqmnymyXCY4C7X0nkvsU11tE5A6b4kuHj1psQirU6xzun2+cRc+hLb7MZhW7suLiw580SkhL/0pWnDaFOwuZAvPKbd+PKE1uODjnPjZxPjLRgwfqlkmsc5ck0lnfye9Derc07o6TXh+Qq7VOfyXRrvYT5aSf5/2Cqx+bphU+IZ1c1isLnujb7Nyauug9nHk9vNtlY4Va0/L+/iavll9hvlu3kPtZs4vcQ4CV6RJxwr+juOD+u9Dp+lD/kKLHldx0bZz7kV7NF2MB9l3Xnb1Ice6WUKx9N0d683QG9ouxpTjav0z+2TwTc66jbCxtr6fIZ/ue00fuS8m69V63fKcdudvyEidUxs90wIigmTTmTmpCy9Vpwew8j3vJHCyVknXDdfpq8x8aV9c95P78Im178e06/CWdvvp8/h+u8fk3icZv6SkwknbcD9mfZEuqFXaH+Ryfa/j9OciK9fjjTA6UQywzizh5LjZO/PX9b+SzthMXNDJcgDItJwLKz2W0UkEhUDTg1xI9yLnBzlE73a/YKc8PiTBAvFBa+/Zzxj+JEP2n8h2ibBKnxp035fP2NbOe8PGY924NkWH7R/reOFydFlIvKOxLYVg7yf5nGR/EvXk2C3HedtXFQx8vpijPuYgJKNgW+wPohIrm4kLvSKSHwSayYUYrLpixX+W83YZD2bCDsTVdamZVOanPNJe0M7IiHxfbHa5Djx1zCLX7Q9/0rtOhNxkfiZ9fIkwvfFE6BSksjLbsTQ9UUmS334yrKX4lnCaRsGNjclz2PyyxJiP+lj9rB58i0lxSveYnXTfA+LKetLy1zkOO8NtiSSD9N3vYLGSOSjvXPdrM9trnujb7P/ug5mH+fjRltpI/LvtCfSkfY8uldvZDsvYoWITy706Ri7uFp+mVxRvpv3LNyTbQURifGEYzX/zceX5X56VXzgHI17s0DDfLZWNcl289jI64eJ+ndogx4bvOX109/cx1JMSbgW4y75wP1V2Bm8l2P+Wv5hjSvxodZ3MvtIAK74F2zMyvb120vwVfPX+wwR6Ykm6DJhkkIMJREpCQ4DQO2Ykq4lCdEJT7l8Ssb7yh14Mq0TUT0gZJ9zv60E6umwoCRQ4ZEl/y33qDoyHGRsUiyMut3Eta8NEbe1D5Q52Vd/9OFCnOC2FgUbZ7WKxTNeZxCD3KOut8tP3VeNOA/xTAuBkleZL8KHwfjO3OkrS3ZEfrDx1+3n3M4tOHeVJez0+KT91Ncpjvi/BwYQkYRW5H7oFpHURsrlSS6fhOfJybIPUUqYaSJ7FyfaeVlvEkrnU3IhNyHmCbMWI1IZOVk3Ex5j3xKvfJ7MSF+8cq3tejh49S57svCxXNrDk58kjqS4zO3FBEuW9drc6ouMqYxPDd+s7LzfVfJnmGcsUeM4bcOAJd/Hk9qXSybevE2PA4R7nqzy2Od/y37RW17yQWMvViJ126br7rXNWoWl68iFigVbfV+Om5wPMVtjX6mVCdc9GxJny7jSfcpeLp5EwaflnrVNywezTmajVcbNVRhe0T4+jhM2Bi5dbSgRSXxPBOwLRyHGK+ws23QMXN9DmzkGSVQO99SOoQ5tX2s5YxVZ1W4jLiyG/tjEuMLuh4j0RJN+mbDayYhetSMHvffzip90riExdciVvSXNXN0TSE0rNORKKL45dr7iIJTTR8teLwHTyZusi+yXeFp1l+sIOGZY7CIiGSJBayx0+1liyzDbEDdK/CSGFifHMLwUJ8r9g1bCpZUwbYmtsWLIiNO8ws4aN4r4r5y9+Th9jisCWex0nAdFJBI9a7gQ120fxuJrCa2f6dE/A7ulbScu2UqqgNmXuKJpjuMGnLdxUeNj9REeU/zd1u9ynCAiubqRuDAiImUJi+inx+nudFr7bpjg8smjTIztPk5CEC/T8ndlEm0mQCyBFz6s48aR3tCWft2WyTbZVGqzhMPWdh08SISz/JjPnabHmICpuDjiiEgGvLKFR1/m2FYxdHyZk4xRfJfYZCsfMmw6eebiVMKdEtkKjx7qb/GiVR0iHiwJk+cVZsf76Ts9opP5vnBcrhZZY1G0h1Y4pD5B9eq+ykW1TAjYVLf07XbegHztq4Z/pm9Zny0kxBts5eK1h/1yXvVFN641gUViI1bgxDpb7gn9Ud1rxFnyroU7bFzNNudeyhe5Ux0T1r5W3MOp5ftnXT0WcSPbNB4ObzZwJuBZHreO8wq3xCnGnw1tb+Zr/H7Ix4Pgl3eEiGQlg1c4V0/Yl4n18gYhPtC+nxPA+dE08cu6JZzwOlRSd8Pqsfz9/UO9RYvfr5IpvlJgrmt9zbzxZrZ3N++XPWWsNivn5gTwhmFBda2PbPXh2YOF8nU4uR+NhWq/JCIRfhvidjkMyfdLcSJ/29u7m4/T19/pkcfeRJYeeaI3yMlHRgP/a/XabyUkm+jxwvB4V26TivNWnm3wwXxrWXG8sG3Pxi7WX3P/ef9gfXx+5NYSnUZx3sJF5WetL1bGMw8DnP9ngogktCL3w5iItEz454lnXDm0TOAfKTmIE0o2wRUTcnp0wHhj0fE4zYmfk2B4k1B+PrdJrkzi9y5/L0mFeAzieFz2xNBJi5PI523SipIaDtvbzX2hR7keZtEg+bNiSr54cXHFkTUxLJVdMaLEJ7VJXOjD0PRlrnt5zIQeC4qJ07xip+DPWo7q3JVnRZw2xjOLG/lLsXPeGsh8lNipZHcVT7PVaBSf8KiNVde8KpCLT8EWI6FW/aIqBAzXLX1bRN31leaCHyXfZB2ZyKWxGLZ1welxfqSN47jw+Fb0D9bPdPvscxlX5Zcpmrfck2yRq2Ic0YTZl3hov+HrdhZTz/Hxs3R/arPsY7jPeI09w1PYbeLwZ1pWI6oxq9jfFHbmSqTVvk2cWerI+mu0jY97yxgh3pa3qe3Qlwb4Gr9bICLhcYI3mri0CiBI0JZkHTgAh/04oMQVUwAD3vvh/fqxhIjk6kbiwhYRyUoCcC4kOjiCC0/BAZXsOkk0YvMUsUGb4B04oDmAlUhvVHR5MQkNrbaaVy99mb6aKzloRcLH9CsXLYvNVka9/qTrxcQT/e0VCt0QkdD/9h1jISIJrcj9ABEJk3o9qcfnl8wJiEjg70vmL2x/a/yFiISk9nkntd4+KcYz1GG5NN+jCcndvskd8ASeOQcgIuWYgCdbMIGI5OpG4gJEJCQtby1ped3+QkR63fHFeIX4vi4OQESCiPS8RaTON9VZb33aksygLJJhcKDGAYhI4EiNI33XISIJrcj9ABHpdU3IkWC99XhCREIfeOt9AP6/pD4AEQki0rMXkeYE7feP6fOnjxNtzB1WHMVjcdPfvuQFySDwAgd6OQARCZzp5Uz5fohIrm4kLkBEQsLxkhIO2FrjK0QkcKTGEVwHR54PByAiQUR6GSIS4oQ4gQPgADjwJjgAEUloRe4HiEjPZzKNxAaxAAfAAXAAHHhLHICIhKTkTSQlWClQ/uUf+AAfcAAceC4cgIjk6kbiAkQkJCxvKWGBr+A7OAAOgAPPhwMQkSAiQUQCB8ABcAAcAAeeDQcgIgmtyP0AEen5TKaR2CAW4AA4AA6AA2+JAxCRkDg8m8ThufwKDjuwIgMcAAfAgafjAEQkVzcSFyAiIWF5SwkLfAXfwQFwABx4PhyAiAQRCSISOAAOgAPgADjwbDgAEUloRe4HiEjPZzKNxAaxAAfAAXAAHHhLHDBFpP/zf/870SQO/4EBOAAOgAPgADgADlyTA//z3/91hRNcSAj8v//+d6JJHP4DA3AAHAAHwAFwABy4Jgfohyz+78A/4G8gAASAABAAAkAACAABIAAEgAAQAAJAAAgAASBgIQARyUIF54AAEAACQAAIAAEgAASAABAAAkAACAABIAAEBAIQkQQc+AAEgAAQAAJAAAgAASAABIAAEAACQAAIAAEgYCEAEclCBeeAABAAAkAACAABIAAEgAAQAAJAAAgAASAABAQCEJEEHPgABIAAEAACQAAIAAEgAASAABAAAkAACAABIGAhABHJQgXngAAQAAJAAAgAASAABIAAEAACQAAIAAEgAAQEAhCRBBz4AASAABAAAkAACAABIAAEgAAQAAJAAAgAASBgIQARyUIF54AAEAACQAAIAAEgAASAABAAAkAACAABIAAEBAIQkQQc+AAEgAAQAAJAAAgAASAABIAAEAACQAAIAAEgYCEAEclCBeeAABAAAkAACAABIAAEgAAQAAJAAAgAASAABAQCEJEEHPg8OJCQAAAAI0lEQVQABIAAEAACQAAIAAEgAASAABAAAkAACAABIGAh8P8Bx33X2SWXjtIAAAAASUVORK5CYII=)"
      ]
    },
    {
      "cell_type": "markdown",
      "metadata": {
        "id": "2szVY5RCtsnZ"
      },
      "source": [
        "No hay una lista exhaustiva de stopwords, cada biblioteca define alguna, al menos para el inglés. Acá podemos observar las diferencias entre las listas de NLTK y spaCy."
      ]
    },
    {
      "cell_type": "code",
      "metadata": {
        "id": "PArLzxNo6BR_"
      },
      "source": [
        "nltk.download('stopwords') # la primera vez hay que descargarlas\n",
        "\n",
        "nltk_stopwords = nltk.corpus.stopwords.words('english')\n",
        "print(\"NLTK:\",len(nltk_stopwords),nltk_stopwords)\n",
        "\n",
        "spacy_stopwords = spacy.lang.en.stop_words.STOP_WORDS\n",
        "print(\"spaCy:\",len(spacy_stopwords),spacy_stopwords)\n",
        "\n",
        "nltk_not_spacy = [i for i in nltk_stopwords if i not in spacy_stopwords] \n",
        "print(\"nltk_not_spacy:\",len(nltk_not_spacy),nltk_not_spacy)\n",
        "\n",
        "spacy_not_nltk = [i for i in spacy_stopwords if i not in nltk_stopwords] \n",
        "print(\"spacy_not_nltk:\",len(spacy_not_nltk),spacy_not_nltk)"
      ],
      "execution_count": null,
      "outputs": []
    },
    {
      "cell_type": "markdown",
      "metadata": {
        "id": "VKIivoZB6Euv"
      },
      "source": [
        "##### NLTK\n",
        "\n",
        "Una vez obtenida la lista de palabras, hay que recorreras para poder filtrarlas."
      ]
    },
    {
      "cell_type": "code",
      "metadata": {
        "id": "9wk6lW2v6ICm"
      },
      "source": [
        "print(words)\n",
        "new_words = [w for w in words if not w in nltk_stopwords] \n",
        "print(new_words)"
      ],
      "execution_count": null,
      "outputs": []
    },
    {
      "cell_type": "markdown",
      "metadata": {
        "id": "UQETrD216Ifo"
      },
      "source": [
        "Si quisieramos definir un método que tome un texto completo..."
      ]
    },
    {
      "cell_type": "code",
      "metadata": {
        "id": "llf2Y3nr6Khk"
      },
      "source": [
        "def remove_stopwords(text,is_lower_case=False):\n",
        "    tokens = ToktokTokenizer().tokenize(text)\n",
        "\n",
        "    tokens = [token.strip() for token in tokens]\n",
        "    if is_lower_case:\n",
        "        filtered_tokens = [token for token in tokens if token not in nltk_stopwords]\n",
        "    else:\n",
        "        filtered_tokens = [token for token in tokens if token.lower() not in nltk_stopwords]\n",
        "    filtered_text = ' '.join(filtered_tokens)\n",
        "    return filtered_text"
      ],
      "execution_count": null,
      "outputs": []
    },
    {
      "cell_type": "markdown",
      "metadata": {
        "id": "UZSZ17V_6M0M"
      },
      "source": [
        "##### spaCy\n",
        "\n",
        "En este caso, los tokens traen información asociada respecto a si son stopwords o no."
      ]
    },
    {
      "cell_type": "code",
      "metadata": {
        "id": "PdINg26M6Sob"
      },
      "source": [
        "stop = []\n",
        "not_stop = []\n",
        "\n",
        "for token in hp_doc:\n",
        "    if token.is_stop:\n",
        "        stop.append(token)\n",
        "    else:\n",
        "        not_stop.append(token)\n",
        "\n",
        "print(stop)\n",
        "print(not_stop)"
      ],
      "execution_count": null,
      "outputs": []
    },
    {
      "cell_type": "markdown",
      "metadata": {
        "id": "NrGt4ephuHBP"
      },
      "source": [
        "### Corrección de texto\n",
        "\n",
        "Hay dos posibles casos:\n",
        "1. Las palabras tienen typos.\n",
        "2. Las palabras tienen caracteres repetidos que no contribuyen al significado general.\n",
        "\n",
        "El objetivo es standarizar la escritura de las diferentes palabras de forma de no perder información relevante. \n",
        "\n",
        "**Ojo!** Puede que haya tareas en las que eliminar los caracteres repetidos no sea una buena idea. Por ejemplo, pueden ser utilizados para expresar emociones, y, por lo tanto, ser útiles para sentiment analysis.\n",
        "\n",
        "De las cuatro bibliotecas en la cloud que vimos, solo Azure y Amazon Comprehend proveen servicios de spell checker. En el caso de Azure se puede acceder al servicio con el acceso \"gratis\" por un año que dan al inicio de la subscripción. En el caso de Amazon, es preciso crear una cuenta e ingresar una tarjeta de crédito válida."
      ]
    },
    {
      "cell_type": "markdown",
      "metadata": {
        "id": "ms1g3sO1uG-z"
      },
      "source": [
        "#### Caracteres repetidos\n",
        "\n",
        "* Palabras que a menudo contienen varios caracteres repetidos que podrían deberse a deletreos incorrectos, lenguaje de jerga o incluso a personas que desean expresar emociones fuertes.\n",
        "\n",
        "* Combinación de sintaxis y semántica para corregir estas palabras.\n",
        "\n",
        "* **Sintaxis:** identificar los caracteres repetidos en una palabra usando un patrón de expresiones regulares y luego usar una sustitución para eliminar los caracteres uno por uno.\n",
        "  * ``r '(\\ w *) (\\ w) \\ 2 (\\ w *) ’`` identificar caracteres que ocurren dos veces entre otros caracteres en la palabra.\n",
        "  * Eliminar uno de los caracteres repetidos.\n",
        "  * Repetir este proceso hasta que no queden caracteres repetidos.\n",
        "\n",
        "* **Semántica:** la palabra obtenida podría no ser correcta.\n",
        "Usar algún corpus o diccionario para verificar las palabras válidas en cada etapa y terminar el ciclo una vez que se obtiene.\n"
      ]
    },
    {
      "cell_type": "code",
      "metadata": {
        "id": "wIcgxtPjr9Zl"
      },
      "source": [
        "import nltk\n",
        "nltk.download('wordnet')"
      ],
      "execution_count": null,
      "outputs": []
    },
    {
      "cell_type": "code",
      "metadata": {
        "id": "_VCmJkIjqnKZ"
      },
      "source": [
        "from nltk.corpus import wordnet\n",
        "\n",
        "def remove_repeated_characters(tokens):\n",
        "    repeat_pattern = re.compile(r'(\\w*)(\\w)\\2(\\w*)')\n",
        "    match_substitution = r'\\1\\2\\3' # hace referencia a los grupos de subpatrones entre () en la expresión. Cada subpatrón se reemplaza por si mismo, excepto el segundo que no está encerrado entre ()\n",
        "    \n",
        "    def replace(old_word):\n",
        "        if len(wordnet.synsets(old_word)) > 0:\n",
        "             return old_word\n",
        "        new_word = repeat_pattern.sub(match_substitution, old_word)\n",
        "       \n",
        "        return replace(new_word) if new_word != old_word else new_word\n",
        "\n",
        "    for word in tokens:\n",
        "        print(word,replace(word))\n",
        "    \n",
        "    correct_tokens = [replace(word) for word in tokens]\n",
        "    return correct_tokens"
      ],
      "execution_count": null,
      "outputs": []
    },
    {
      "cell_type": "code",
      "metadata": {
        "id": "lRJn0sCQrzcH"
      },
      "source": [
        "result = remove_repeated_characters(['greaaat']) # acepta una lista de palabras a corregir\n",
        "result,wordnet.synsets(result[0])"
      ],
      "execution_count": null,
      "outputs": []
    },
    {
      "cell_type": "code",
      "metadata": {
        "id": "kQt8s_k8QO8m"
      },
      "source": [
        "result = remove_repeated_characters(['finaaaaaalllyyyy']) # acepta una lista de palabras a corregir\n",
        "result,wordnet.synsets(result[0])"
      ],
      "execution_count": null,
      "outputs": []
    },
    {
      "cell_type": "code",
      "metadata": {
        "id": "pvdlaezTQO8n"
      },
      "source": [
        "result = remove_repeated_characters(['finalllyyyy']) # acepta una lista de palabras a corregir\n",
        "result,wordnet.synsets(result[0])"
      ],
      "execution_count": null,
      "outputs": []
    },
    {
      "cell_type": "markdown",
      "metadata": {
        "id": "CFmYBoSruG8f"
      },
      "source": [
        "#### Corrección de spelling\n",
        "\n",
        "* Problema con la ortografía incorrecta que se produce debido a un error humano.\n",
        "* Lo que intentan solucionar los diccionarios predictivos.\n",
        "\n",
        "* El objetivo final es que los tokens tengan la ortografía correcta.\n",
        "\n",
        "* Basado en corpus y frecuencia de palabras.\n",
        "Ej. Corpus de Gutenberg (corpus de 443 millones de palabras), Wiktionary y el Corpus Nacional Británico.\n",
        "\n",
        "\n",
        "Algoritmo de Norvig Director de investigación de Google. Precisión del 80% ~ 90%.\n",
        "Generar un conjunto de palabras candidatas que estén cerca de la palabra a corregir y seleccionar la palabra más probable de este conjunto como la palabra correcta.\n",
        "Edit distance para medir la semejanza (cuántos cambios tengo que hacer en la palabra para obtener la similar?)\n",
        "Usar un corpus de palabras correctamente escritas para identificar cual es la palabra “estadísticamente correcta” en relación a su frecuencia.\n",
        "\n",
        "No es provisto por todas las bibliotecas.\n"
      ]
    },
    {
      "cell_type": "markdown",
      "metadata": {
        "id": "uyr7mxB96ZD6"
      },
      "source": [
        "##### NLTK\n",
        "\n",
        "No lo soporta. Se puede implementr utilizando un corpus para el cálculo de estadísticas de frecuencias de palabras."
      ]
    },
    {
      "cell_type": "code",
      "metadata": {
        "id": "kDlZtnBr6haw"
      },
      "source": [
        "import urllib\n",
        "import collections\n",
        "import re\n",
        "\n",
        "def tokens(text):\n",
        "    return re.findall('[a-z]+', text.lower())\n",
        "\n",
        "url = \"http://norvig.com/big.txt\"\n",
        "filename = \"big.txt\"\n",
        "urllib.request.urlretrieve(url, filename)\n",
        "WORDS = tokens(open('big.txt').read())\n",
        "WORD_COUNTS = collections.Counter(WORDS)\n",
        "# top 10 words in corpus\n",
        "# print(WORD_COUNTS.most_common(10))\n",
        "\n",
        "def correct(word):\n",
        "    \"Find the best spelling correction for this word.\"\n",
        "    # Prefer edit distance 0, then 1, then 2; otherwise default to word itself.\n",
        "    candidates = (known(edits0(word)) or \n",
        "                  known(edits1(word)) or \n",
        "                  known(edits2(word)) or \n",
        "                  [word])\n",
        "    print(word,\":\",candidates)\n",
        "    return max(candidates, key=WORD_COUNTS.get)\n",
        "\n",
        "def known(words):\n",
        "    \"Return the subset of words that are actually in the dictionary.\"\n",
        "    return {w for w in words if w in WORD_COUNTS}\n",
        "\n",
        "def edits0(word): \n",
        "    \"Return all strings that are zero edits away from word (i.e., just word itself).\"\n",
        "    return {word}\n",
        "\n",
        "def edits1(word):\n",
        "    \"All edits that are one edit away from `word`.\"\n",
        "    letters    = 'abcdefghijklmnopqrstuvwxyz'\n",
        "    splits     = [(word[:i], word[i:])    for i in range(len(word) + 1)]\n",
        "    deletes    = [L + R[1:]               for L, R in splits if R]\n",
        "    transposes = [L + R[1] + R[0] + R[2:] for L, R in splits if len(R)>1]\n",
        "    replaces   = [L + c + R[1:]           for L, R in splits if R for c in letters]\n",
        "    inserts    = [L + c + R               for L, R in splits for c in letters]\n",
        "    return set(deletes + transposes + replaces + inserts)\n",
        "\n",
        "def edits2(word):\n",
        "    \"Return all strings that are two edits away from this word.\"\n",
        "    return {e2 for e1 in edits1(word) for e2 in edits1(e1)}\n",
        "\n",
        "def correct_text(text):\n",
        "    \"Correct all the words within a text, returning the corrected text.\"\n",
        "    return re.sub('[a-zA-Z]+', correct_match, text)\n",
        "\n",
        "def correct_match(match):\n",
        "    \"Spell-correct word in match, and preserve proper upper/lower/title case.\"\n",
        "    word = match.group()\n",
        "    return case_of(word)(correct(word.lower()))\n",
        "\n",
        "def case_of(text):\n",
        "    \"Return the case-function appropriate for text: upper, lower, title, or just str.\"\n",
        "    return (str.upper if text.isupper() else\n",
        "            str.lower if text.islower() else\n",
        "            str.title if text.istitle() else\n",
        "            str)\n",
        "\n",
        "text_to_correct = \"AI lov natural languash procesing\"\n",
        "corrected_text = correct_text(text_to_correct)\n",
        "print(text_to_correct,\":\",corrected_text)"
      ],
      "execution_count": null,
      "outputs": []
    },
    {
      "cell_type": "markdown",
      "metadata": {
        "id": "_pPdvpbRkRME"
      },
      "source": [
        "O, también se pueden utilizar paquetes que ya lo traen implementado, como [``pyspellchecker``](https://pypi.org/project/pyspellchecker/), el cual soporta Inglés, Español, Alemán, Francés y Portugués. Permite:\n",
        "* Corregir una palabra o frase. \n",
        "* Encontrar los candidatos a una corrección.\n",
        "* Determinar cuáles dentro de la frase son palabras conocidas (es decir, que están incluidas en el diccionario)\n",
        "* Determinar cuál es la probabilidad de las palabras en el diccionario.\n",
        "* Agregar más palabras al diccionario."
      ]
    },
    {
      "cell_type": "code",
      "metadata": {
        "id": "6C-rLMJUkqJe"
      },
      "source": [
        "pip install pyspellchecker"
      ],
      "execution_count": null,
      "outputs": []
    },
    {
      "cell_type": "code",
      "metadata": {
        "id": "8ctIOE9Zk9DI"
      },
      "source": [
        "from spellchecker import SpellChecker\n",
        "\n",
        "spell = SpellChecker()\n",
        "\n",
        "# find those words that may be misspelled\n",
        "misspelled = spell.unknown(['ai', 'lov', 'natural', 'languash', 'procesing']) # busca corregir solo aquellas palabras que no aparecen en el diccionario\n",
        "\n",
        "for word in misspelled:\n",
        "    print(spell.correction(word))\n",
        "\n",
        "    print(spell.candidates(word))"
      ],
      "execution_count": null,
      "outputs": []
    },
    {
      "cell_type": "markdown",
      "metadata": {
        "id": "INzUZ0yD6lLQ"
      },
      "source": [
        "##### spaCy\n",
        "\n",
        "No lo soporta de forma directa, pero se puede agregar un paquete. Hunspell es el corrector ortográfico que usa Open Office."
      ]
    },
    {
      "cell_type": "code",
      "metadata": {
        "id": "2s05Lfjv6m3x"
      },
      "source": [
        "!pip install python-dev-tools\n",
        "!apt-get install libhunspell-dev # además de los requerimientos de python, para usar esta extensión necesitamos instalar un paquete extra de Linux\n",
        "!pip install spacy_hunspell"
      ],
      "execution_count": null,
      "outputs": []
    },
    {
      "cell_type": "code",
      "metadata": {
        "id": "3MjdeY9eoUOq"
      },
      "source": [
        "import spacy\n",
        "nlp = spacy.load('en_core_web_sm')"
      ],
      "execution_count": null,
      "outputs": []
    },
    {
      "cell_type": "code",
      "metadata": {
        "id": "SeCr-2fE6oj4"
      },
      "source": [
        "from spacy_hunspell import spaCyHunSpell\n",
        "\n",
        "# esto de acá abajo se hace una única vez. Si se intenta agregar al pipeline algo que ya existe, da error.\n",
        "hunspell = spaCyHunSpell(nlp, \"linux\") # acá \"linux\" indica cómo/dónde tiene que buscar los archivos de diccionarios que necesita. Otras opciones son \"mac\" y definir manualmente las direcciones \"('en_US.dic', 'en_US.aff')\"\n",
        "nlp.add_pipe(hunspell)\n",
        "\n",
        "corrected_doc = nlp(text_to_correct)\n",
        "\n",
        "for t in corrected_doc:\n",
        "   print(t.text, t._.hunspell_suggest)\n"
      ],
      "execution_count": null,
      "outputs": []
    },
    {
      "cell_type": "markdown",
      "metadata": {
        "id": "iIy6FnzX6xF8"
      },
      "source": [
        "##### TextBlob\n",
        "\n",
        "Soporta solo inglés."
      ]
    },
    {
      "cell_type": "code",
      "metadata": {
        "id": "LOFwOZHX6zlg"
      },
      "source": [
        "!pip install textblob"
      ],
      "execution_count": null,
      "outputs": []
    },
    {
      "cell_type": "code",
      "metadata": {
        "id": "itmKHCQE6zbC"
      },
      "source": [
        "from textblob import TextBlob\n",
        "\n",
        "corrected_text = TextBlob(text_to_correct).correct()\n",
        "print(corrected_text)"
      ],
      "execution_count": null,
      "outputs": []
    },
    {
      "cell_type": "markdown",
      "metadata": {
        "id": "93HzGW50uNYu"
      },
      "source": [
        "##### Language-check\n",
        "\n",
        "Podemos aprovechar ``language-check`` que la descargamos para ``PyContractions``."
      ]
    },
    {
      "cell_type": "code",
      "metadata": {
        "id": "Nsx-93zlngNB"
      },
      "source": [
        "import language_check\n",
        "\n",
        "tool = language_check.LanguageTool('en-US')\n",
        "matches = tool.check(text_to_correct)\n",
        "len(matches)\n",
        "\n",
        "for match in matches:\n",
        "    print(match) # podríamos imprimir los diferentes componentes por separado"
      ],
      "execution_count": null,
      "outputs": []
    },
    {
      "cell_type": "markdown",
      "metadata": {
        "id": "Sl70KcS3ustQ"
      },
      "source": [
        "También podemos aplicar directamente la corrección:"
      ]
    },
    {
      "cell_type": "code",
      "metadata": {
        "id": "wgwJLDgquwyD"
      },
      "source": [
        "language_check.correct(text_to_correct, matches)"
      ],
      "execution_count": null,
      "outputs": []
    },
    {
      "cell_type": "markdown",
      "metadata": {
        "id": "WBuiA3_EgbYH"
      },
      "source": [
        "#### Normalización de inflexiones\n",
        "\n",
        "En algunos casos puede ser útil la generación de plurales, singulares, números ordinales, convertir los números a palabras...\n",
        "\n"
      ]
    },
    {
      "cell_type": "markdown",
      "metadata": {
        "id": "bLqk4KJ8xYl-"
      },
      "source": [
        "##### TextBlob\n",
        "\n",
        "Como vimos la clase anterior, TextBlob permite encontrar plurales y singulares basados en reglas. Puede fallar!"
      ]
    },
    {
      "cell_type": "code",
      "metadata": {
        "id": "sO_XY9pszrlo"
      },
      "source": [
        "from textblob import TextBlob\n",
        "import nltk\n",
        "nltk.download('punkt')"
      ],
      "execution_count": null,
      "outputs": []
    },
    {
      "cell_type": "code",
      "metadata": {
        "id": "VCp4LaP0xZAP"
      },
      "source": [
        "textp = (\"How very wrong he was.\")\n",
        "text_blob_object = TextBlob(textp)\n",
        "print(text_blob_object.words.pluralize())"
      ],
      "execution_count": null,
      "outputs": []
    },
    {
      "cell_type": "markdown",
      "metadata": {
        "id": "YM5z9p7sx4O1"
      },
      "source": [
        "Si queremos sacar los plurales..."
      ]
    },
    {
      "cell_type": "code",
      "metadata": {
        "id": "u1nNQejJx4wI"
      },
      "source": [
        "textp = (\"Hows veries wrongs they wass.\")\n",
        "text_blob_object = TextBlob(textp)\n",
        "print(text_blob_object.words.singularize())"
      ],
      "execution_count": null,
      "outputs": []
    },
    {
      "cell_type": "markdown",
      "metadata": {
        "id": "kHZrOFRlxXkg"
      },
      "source": [
        "#### [inflect](https://pypi.org/project/inflect/)\n",
        "\n",
        "Este paquete permite eliminar plurales, la singularización de palabras y al manipulación de números para su transformación a palabras. Se basa en el diccionario de Oxford y en las guías de uso del Inglés moderno de Fowler. \n",
        "\n",
        "Originalmente pensado para spelling británico, pero acepta spelling americano, así como también slang. \n",
        "\n",
        "A diferencia de TextBlob incorpora más reglas que la consideración de cómo termina una palabra. Por ejemplo, contempla la formación de plurales de acuerdo al contexto o POS tag. Asimismo, permite la definición de reglas particulares."
      ]
    },
    {
      "cell_type": "code",
      "metadata": {
        "id": "P7xYe8EcvLs2"
      },
      "source": [
        "pip install inflect"
      ],
      "execution_count": null,
      "outputs": []
    },
    {
      "cell_type": "code",
      "metadata": {
        "id": "6ItqMqqVvT-g"
      },
      "source": [
        "import inflect\n",
        "\n",
        "p = inflect.engine()"
      ],
      "execution_count": null,
      "outputs": []
    },
    {
      "cell_type": "code",
      "metadata": {
        "id": "hnphWjpuvese"
      },
      "source": [
        "# Pluralizacióm\n",
        "\n",
        "# UNCONDITIONALLY FORM THE PLURAL\n",
        "\n",
        "print(p.plural(\"cat\"))\n",
        "print(p.plural(\"catcus\"))\n",
        "\n",
        "# Formas plurales de acuerdo a los POS tags\n",
        "\n",
        "print(\n",
        "    p.plural_noun(\"He\"),\n",
        "    p.plural_verb(\"saw\"),\n",
        "    p.plural_adj(\"my\"),\n",
        "    p.plural_noun(\"saw\"),\n",
        ")\n",
        "\n",
        "print(\n",
        "    p.plural_noun(\"He\",1), # fuerza a que no lo cambie\n",
        "    p.plural_verb(\"saw\"),\n",
        "    p.plural_adj(\"my\"),\n",
        "    p.plural_noun(\"saw\"),\n",
        ")\n",
        "\n",
        "print(\n",
        "    p.plural_noun(\"He\"),\n",
        "    p.plural_verb(\"saw\"),\n",
        "    p.plural_adj(\"my\",1), # fuerza a que no lo cambie\n",
        "    p.plural_noun(\"saw\"),\n",
        ")"
      ],
      "execution_count": null,
      "outputs": []
    },
    {
      "cell_type": "code",
      "metadata": {
        "id": "MF3VwO6Uveon"
      },
      "source": [
        "# singularización\n",
        "\n",
        "print(p.singular_noun(\"cats\"))\n",
        "print(p.singular_noun(\"cactuses\"))\n",
        "\n",
        "print(p.singular_noun(\"they\"))\n"
      ],
      "execution_count": null,
      "outputs": []
    },
    {
      "cell_type": "code",
      "metadata": {
        "id": "7G15UUIzvell"
      },
      "source": [
        "# agregar artículos indefinidos\n",
        "\n",
        "print(p.an(\"thing\"))\n",
        "print(p.an(\"idea\"))"
      ],
      "execution_count": null,
      "outputs": []
    },
    {
      "cell_type": "code",
      "metadata": {
        "id": "EakExmabvehM"
      },
      "source": [
        "# convertir números a ordinales\n",
        "print(p.ordinal(1))\n",
        "print(p.ordinal(2))\n",
        "print(p.ordinal(18))\n",
        "print()"
      ],
      "execution_count": null,
      "outputs": []
    },
    {
      "cell_type": "code",
      "metadata": {
        "id": "jO8XuKAQvAgh"
      },
      "source": [
        "# convertir números a letras\n",
        "print(p.number_to_words(1234))\n",
        "\n",
        "# convertir un ordinal\n",
        "print(p.number_to_words(p.ordinal(1234)))\n",
        "print()"
      ],
      "execution_count": null,
      "outputs": []
    },
    {
      "cell_type": "code",
      "metadata": {
        "id": "rqRPKy0gvCWC"
      },
      "source": [
        "# agregando grupos\n",
        "print(p.number_to_words(12345, group=1))\n",
        "\n",
        "print(p.number_to_words(12345, group=2))\n",
        "\n",
        "print(p.number_to_words(12345, group=3))\n",
        "print()"
      ],
      "execution_count": null,
      "outputs": []
    },
    {
      "cell_type": "code",
      "metadata": {
        "id": "gCDsQgEuvFdH"
      },
      "source": [
        "# modificando las conjunciones, por defecto es \"and\"\n",
        "print(p.number_to_words(1234, andword=\"\"))\n",
        "\n",
        "print(p.number_to_words(1234, andword=\", plus\"))"
      ],
      "execution_count": null,
      "outputs": []
    },
    {
      "cell_type": "code",
      "metadata": {
        "id": "F_F-OfGrwF9r"
      },
      "source": [
        "# grupos y definición de palabras específicas\n",
        "print(p.number_to_words(555_1202, group=1, zero=\"oh\"))\n",
        "\n",
        "print(p.number_to_words(555_1202, group=1, one=\"unity\"))\n",
        "\n",
        "print(p.number_to_words(123.456, group=1, decimal=\"comma\"))"
      ],
      "execution_count": null,
      "outputs": []
    },
    {
      "cell_type": "code",
      "metadata": {
        "id": "maMqikm-vaog"
      },
      "source": [
        "# se puede poner un threshold a partir del cual pasar a letra\n",
        "\n",
        "print(p.number_to_words(9, threshold=10)) \n",
        "print(p.number_to_words(10, threshold=10)) \n",
        "print(p.number_to_words(11, threshold=10)) \n",
        "print(p.number_to_words(1000, threshold=10)) "
      ],
      "execution_count": null,
      "outputs": []
    },
    {
      "cell_type": "code",
      "metadata": {
        "id": "7W4Wsf06vZT1"
      },
      "source": [
        "# Provee alternativas clásicas y modernas de los plurales. Por defecto usa las modernas, pero se pueden forzar las clásicas.\n",
        "\n",
        "p.classical()  # todas las modernas\n",
        "\n",
        "p.classical(herd=True)  \n",
        "print(p.plural(\"buffalo\"))\n",
        "\n",
        "p.classical(herd=False)  \n",
        "print(p.plural(\"buffalo\"))"
      ],
      "execution_count": null,
      "outputs": []
    },
    {
      "cell_type": "code",
      "metadata": {
        "id": "FsN2lHvW4ss6"
      },
      "source": [
        "p.classical(persons=True)\n",
        "print(p.plural(\"person\")) \n",
        "p.classical(persons=False)  # \"2 chairpeople\" INSTEAD OF \"2 chairpersons\"\n",
        "print(p.plural(\"person\"))"
      ],
      "execution_count": null,
      "outputs": []
    },
    {
      "cell_type": "code",
      "metadata": {
        "id": "VlOZpdpa4spv"
      },
      "source": [
        "p.classical(ancient=True)\n",
        "print(p.plural(\"formula\")) \n",
        "print(p.plural(\"index\"))\n",
        "\n",
        "p.classical(ancient=False) \n",
        "print(p.plural(\"formula\")) \n",
        "print(p.plural(\"index\")) "
      ],
      "execution_count": null,
      "outputs": []
    },
    {
      "cell_type": "markdown",
      "metadata": {
        "id": "vIsyIw45uG6h"
      },
      "source": [
        "## Análisis Léxico\n",
        "\n",
        "Trata el estudio del lenguaje a nivel de las palabras y su significado léxico. \n",
        "Se basa en una colección de **\"lexemas\"**, los cuales son las unidades básicas con un significado léxico. A su vez, el \"significado léxico\" representa una unidad abstracta basado en la morfología que representa el conjunto de formas que un morfema puede tomar.\n",
        "\n",
        "En otras palabras, el análisis léxico se ocupa de las palabras y sus formas base, además de las funciones que dichas palabras ocupan en una oración.\n",
        "\n",
        "Vamos a ver:\n",
        "\n",
        "* Stemming\n",
        "* Lemmatization\n",
        "\n",
        "Con la excepción de los paquetes especiales que vimos, todas las bibliotecas incluyen al menos una de las dos opciones. \n"
      ]
    },
    {
      "cell_type": "markdown",
      "metadata": {
        "id": "wQ-MFY8Mulvo"
      },
      "source": [
        "### Stemming\n",
        "\n",
        "Stemming ayuda a stardarizar las palabras a su forma base, indendientemente de sus inflexiones. Por ejemplo, sacarle la declinación a los verbos conjugados, o incluso los plurales a los sustantivos.\n",
        "\n",
        "* Los morfemas consisten en unidades que son raíces y afijos.\n",
        "* Los afijos son unidades como prefijos, sufijos, etc., que se agregan a los formas base de las palabras para cambiar su significado o crear una palabra completamente nueva.\n",
        "* El stemming ayuda a estandarizar las palabras en su raíz base, independientemente de sus inflexiones.\n",
        "* Útil para la clasificación, agrupamiento o incluso recuperación de información.\n"
      ]
    },
    {
      "cell_type": "markdown",
      "metadata": {
        "id": "vr3W531wxqhK"
      },
      "source": [
        "![image.png](data:image/png;base64,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)"
      ]
    },
    {
      "cell_type": "markdown",
      "metadata": {
        "id": "WJOSWTQ_x0du"
      },
      "source": [
        "![image.png](data:image/png;base64,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)\n"
      ]
    },
    {
      "cell_type": "markdown",
      "metadata": {
        "id": "OpEtWILOx5wg"
      },
      "source": [
        "Diversas alternativas\n",
        "\n",
        "* Porter. \n",
        "  * Uno de los primeros algoritmos.\n",
        "  * Soporta idioma inglés.\n",
        "  * Busca eliminar las terminaciones comunes de las palabras para que puedan resolverse a una forma común.\n",
        "  * Garantiza la reproducibilidad.\n",
        "  * Poco agresivo.\n",
        "  * Es un buen algoritmo básico, pero no se recomienda usarlo para ninguna aplicación “real”.\n",
        "\n",
        "* Snowball. \n",
        "  * Mejora sobre Porter.\n",
        "  * Es un poco más rápido que Porter.\n",
        "  * Más agresivo que Porter. \n",
        "  * Danish, Dutch, English, Finnish, French, German, Hungarian, Italian, Norwegian, Portuguese, Romanian, Russian, Spanish, Swedish.\n",
        "\n",
        "* Lancaster. \n",
        "  * Algoritmo muy agresivo y rápido.\n",
        "  * A diferencia de Porter y Snowball, las representaciones derivadas no son intuitivas.\n",
        "  * Los stems pueden ser \"confusos\".\n",
        "  * No es recomendable si se quieren stems reconocibles o interpretables.\n",
        "  * En NLTK, se le pueden agregar más reglas.\n",
        "\n"
      ]
    },
    {
      "cell_type": "markdown",
      "metadata": {
        "id": "0O3XSscr69tr"
      },
      "source": [
        "##### NLTK"
      ]
    },
    {
      "cell_type": "code",
      "metadata": {
        "id": "6UqTWn886-LH"
      },
      "source": [
        "import nltk\n",
        "from nltk.stem import PorterStemmer\n",
        "\n",
        "words = text_list[3].split(\" \")\n",
        "\n",
        "print(\"Original:\",words)\n",
        "\n",
        "ps = PorterStemmer()\n",
        "stemmed = ' '.join([ps.stem(word) for word in words])\n",
        "print(\"PorterStemmer:\",stemmed)\n",
        "\n",
        "from nltk.stem import LancasterStemmer\n",
        "\n",
        "ls = LancasterStemmer()\n",
        "stemmed = ' '.join([ls.stem(word) for word in words])\n",
        "print(\"LancasterStemmer:\",stemmed)\n",
        "\n",
        "from nltk.stem import SnowballStemmer\n",
        "\n",
        "ss = SnowballStemmer(u'english')\n",
        "stemmed = ' '.join([ss.stem(word) for word in words])\n",
        "print(\"SnowballStemmer:\",stemmed)"
      ],
      "execution_count": null,
      "outputs": []
    },
    {
      "cell_type": "markdown",
      "metadata": {
        "id": "L4wS4mx77FOx"
      },
      "source": [
        "##### spaCy\n",
        "\n",
        "No soporta stemming dado que consideran que lemmatization es un mejor enfoque para la obtención de las formas raíz de las palabras."
      ]
    },
    {
      "cell_type": "markdown",
      "metadata": {
        "id": "Xg3hrqDHul40"
      },
      "source": [
        "### Lemmatization\n",
        "\n",
        "De forma similar al stemming, remueve los affixes de las palabras para encontrar su forma base. A diferencia de las formas básicas obtenidas con el stemming, los lemmas siempre son palabras válidas (se encuentran en el diccionario).\n",
        "\n",
        "Es un proceso más lento que el de stemming dado que que hay que chequear que el lemma encontrado sea una palabra válida."
      ]
    },
    {
      "cell_type": "markdown",
      "metadata": {
        "id": "fGkA_DBvyDeR"
      },
      "source": [
        "![image.png](data:image/png;base64,iVBORw0KGgoAAAANSUhEUgAABAgAAADhCAYAAABFnYdDAAAgAElEQVR4Ae2d3+s921nf93/kRZtqJibnxKS5Kb1QsKmxEXN6ztZGYzQgBUGQXgilF27aU084itE0JuEclIZTdwIhsWpoCIVAoNLIFr1oI0QpEslF0ItV1ux5nvWsNc+aX/vn7P36wPc7s2dmPetZr7Vm/XjPmjWbwB8EIAABCEAAAhCAAAQgAAEIQAACT09g8/QEAAABCEAAAhCAAAQgAAEIQAACEIBAQCCgEEAAAhCAAAQgAAEIQAACEIAABCCAQEAZgAAEIAABCEAAAhCAAAQgAAEIQCAgEFAIIAABCEAAAhCAAAQgAAEIQAACEEAgoAxAAAIQgAAEIAABCEAAAhCAAAQgEBAIKAQQgAAEIAABCEAAAhCAAAQgAAEIIBBQBiAAAQhAAAIQgAAEIAABCEAAAhCIBPiKAeUAAhCAAAQgAAEIQAACEIAABCAAAQQCygAEIAABCEAAAhCAAAQgAAEIQAACzCCgDEAAAhCAAAQgAAEIQAACEIAABCDAKwaUAQhAAAIQgAAEIAABCEAAAhCAAAQiAdYgoBxAAAIQgAAEIAABCEAAAhCAAAQggEBAGYAABCAAAQhAAAIQgAAEIAABCECAGQSUAQhA4NoEDrvQbDZhs9mE7f7akT9SfIew3+5CD+Hd8V2Ln49UNkgLBCAAAQhAAAIQWEaAVwyWcSMUBCCwlMDdDWCXJuR24Q77bSeybO9aIFiLn7fLSWKGAAQgAAEIQAAC90UAgeC+8gNvIPD4BBAITs7jw65pZ2BsNo5AcLL18xlYi5/nSzGWIAABCEAAAhCAwLoJIBCsO//wHgLrI4BAcHKerWXgvRY/T84QDEAAAhCAAAQgAIEHIYBA8CAZSTIgsBoCCAQnZ9VaBt5r8fPkDMEABG5OoLLWx839uqIDtC1XhE1UEIDAIxNAIHjk3CVtELhHAhM6cYfDPmwbmUZ/XNCwabZhtz9UUrQPW7vw4WEfdlsbvgnb3T5oaOd8szXnNZZL2e0iOBzCfrcNTZHWzaYJTVyAUB3urt9vu1cLjkziQo/yTxd8dPkewq5J10oYd9vsEifhcDU/JcLj9rDfzSsHZdq9cuRxzaPlFwRWRWBwrY9VpeREZ8v7/0RzBIcABCDwrAQQCJ4150k3BG5FYKQTt88G9s6g1hvABjOQ36WvJPQGwHEUbeLvne/ZvpTdEIIuNOik0Rv4x/y6hUBwVT+lUManoVbg6TNyBR2Tt9utLOTYDxsFmF0pvkjUbCGwMgLM1FlZhuEuBCAAgTsngEBw5xmEexB4OAJ2EFd8oy91dDehsU/8wyEc4pN2GTjr43Khkwby7aC/2Zqn787T8+L8fpsGkbnpK9htypkCh5CeCEa/+gsRJk79c1YAydMirPrbZK/89KRJ/xX9tPmRCwGFcFAm0JStVA5ECYizNYzoUIbtY+EIBFZBIN2/Tn2wihTgJAQgAAEI3BMBBIJ7yg18gcAzEDCDuGyMlh2XQV0BRJ+gl0+AzUDWGVDbQbP/9DiFb7JHy+m4N1BfandKhz5dU6Y1ToKQga4zIMg4Fvy8n+b6PO0j8XS2ki9n8nPAH3G/GqcJ6+ZXOwlDxCCHnUTAFgIrIpDuB8r0irINVyEAAQjcLQEEgrvNGhyDwIMSMIM4KxBoJ7c3zT/noE+XbWDzisEmOy5hzUDfPW9mGWTnx8KNna/ZFb8GtlUxZGTgXuHrx2T8H+Huh7evPZxHINBy4Ak96kTyOxM1TNqz4xrO+stgymJh/z4IeOuvbJpiDRVxVesIEb3SNqvGuus92w+1tou5/7P0l8cXrU0i68UkxpFdu06M2u/XgZJVbCEAAQisiQACwZpyC18h8AgEtDNlp7OngXR1YNelXQeQ2YC2MmBUXmPnU/y5wDAWbux8za46ZnYOIXbg93Fhvuz9+36nUxl4g2iXr4nG7KrY4tkx1+W7l/RzOi/13ZaDKWnXQVWfa55OfkHgugTSfZ0Gofk6KYWopWW5f302QG51MZl11L/2+DqOszipEV63a1jbpXb/2+OL1iYx9ZK85ma2iQ11ynXvGGKDAAQuRQCB4FJksQsBCPgEbGdN1yBIA+28Q1zpzLadM9tZTuHLjvHRiXTeFyBMBzAzkMJlhzVl6fw8u0cD3ir9/fT3O51pIGEZdE65fNVh3Uk2+vb1IjHpfE3gMn6mfPB5Js/UfwSCBIW99RIw922+7kYIsZ6or78yMqMo2PMPvraLYZjV1+b4UQyJT/7lNbbxtUlUjNzEmRwH/cpLvlZMbKvG69L1FlA8hwAEnokAAsEz5TZphcA9EDCdtdSJSwPt/sCzJhLYwXEKn2zaxKbz/sAzDUxrMwjOazd+kMBLV/y84fFzjrHzeWTR73Tq4Nh78u/ytSzsNPs4YJCOcnFN9/O6fo7lU/LRZTAr7X2uyTp7ELguAS3PVvAyLuh5554fOmfXSdn2vpvaRVCta9L96K7pYe43f3Ccwuf1TDp+VrvGn6y+Nsfd+NoqUepj26606oqKM5lNyZvMNnWKYGELAQismwACwbrzD+8hsD4CpkOVOlypw5h3JKcmL4VPNm3YdN63f12BIHXoN6HZxq8YOIP0aqfdPhEsOrMxyS5fn0UuhthrjvvX9zPlg59PyUf1zQ6oRtNuxRE684kme7cmoOXZEQDGfBsKq+fsfeIYVCEwq0BTvenXFWPn0/2chx8LN3a+Yrd2/5vj1XpF69u8Tp3CT9kxg8ApWRyCAATWSACBYI25hs8QWDMB01lLfdFKh29yOlOHMtm0gdN5v4NYiz+FO5/dWlzWXysC9Aey2mn1BhMuX7Ft4vbCymXt1lzrJ/54lX5R4Rx+ToszRqydcjvwGUx7lzgdCPT97a5gA4HrE9ByuQm6KKGjG3qO1euDdD/59V6ypjbs/WTWIPDDp/rRP5/irwkEfriFdmv3f+14Sn6sUJwZWzX/bUBEx4IGPyEAgQcggEDwAJlIEiCwKgKVzpoO+EYHrl5qU4fSH8um836HtNYRTOHOZzfZ9H2J6TP+OE+ltDPvsarwjVYT4ymD49v4OZg2zfqKbwNpT0G9gYCeZQcCNyOQ7k+Z7h638bWjyiyjztP6PZPuk6d4dat2/9eO25x2BYLEr15X21lbU+pVGyn7EIAABO6TAALBfeYLXkHgcQnUOmvmeP60yaIwA+dsxJ46ctlhDZrO+x29a9qtxaXOmqdZxwFCuUxAfUBgO6v2KxH2Kdf4ugNHT27kpykHfl4NzK4wYf1yYDnQmTcljt07IdAufNdYgcDuN8FbR6BeH6R6D4HgyHFevZD41eqitthovUOdcie3EW5AAAInEkAgOBEgwSEAgZkEtDNVDGCzJ9zybn6yffyGt3SWy45Y6sj5HcB03u/o1QbDKdw57donhc1ur6tix5kD++wTh5VOrfu0q2Pl8TXH6uJLYi17V/eziziLdzvAp8wUk87ylKTJn0qsZ9mBwJ0QiKvr78K26X+esCzbUwQCv94bS+pl6r9gXl0o03L0KMXr+12pr2v3f+24Tb5bp4750RlQ+2W7ZCNgHwIQgMB6CCAQrCev8BQCj0FAO1N9gaA2QM6ffsWnaCWK1JHrn4vXpvOzOpwm3KXs5mnrBJAmfskgfdqs57NhKOH1GnNOfLYDbrl+aKu2TPrd68/sZ8pVXyixPpSfgmvDOmlPNrs9dyDQu4oDELgrAtkn9bJ1AuyMmnyBvexVJakMZqUq1Zt+8HQ+1Rk2gspA3tQrZ7Vbu/9rx62rbr1Q898GZFZSQYOfEIDAAxBAIHiATCQJEFgVgQmdtfjd796Tsya+i7sP3oL/VgA4a4fzUh3ZNsOOg2D9vvnGLE7Wnd/JVGMnUdmAYWNeG3D4LhcIoiPX87Msx145aBr7DfMihJP24grz+gZP+3psOHAjAtMGorWZArXjMTHp3i/FgylJTQKAUwXdn/Bau/9rxy0CVyAw/ApRJg9am9lmr2IfAhCAwHoIIBCsJ6/wFAIQgAAEIACBByQwNMiX5OpgvxisDoY1g+P660U1gQKBYPSzsZavs6Cs5B1bCEAAAmsigECwptzCVwhAAAIQgAAEHpBAGoxverNk8lduek/zK0+/BZIKC3GmUftFBDkTwiOt7VIdzJtBfI+doBhgmPjli0TGGU7ZDDAEAqHJFgIQWDkBBIKVZyDuQwACEIAABCDwAAT222LAKVPX0za+ZtX7MwNgWacjXxMgFxjkmnz7AGu7GA4ZptpxC3JAIMjWcoivgmX/mrDd8ulUi5J9CEBg/QQQCNafh6QAAhCAAAQgAIFHIHDYh922KYSCuP7KLuz9BVjaVFfXJDFMvDU9No+0tktNCKgdN2zGv24SvyqxDY2sCxNnY7QzPewihUvWebBOsA8BCEDgPgggENxHPuAFBCAAAQhAAAIQgMAdEdDXC4p1HzIXdfYBAkHGhR8QgMBqCSAQrDbrcBwCEIAABCAAAQhA4FIE0gKQta+e1BZ4vJRH2IUABCBweQIIBJdnTAwQgAAEIAABCEAAAmsjYF5POC4eaRLQvQ5yXJOgJiCY69mFAAQgsBICCAQrySjchAAEIAABCEAAAhC4LoE0i6BcoFB+5183uK53xAYBCEDg/AQQCM7PFIsQgAAEIAABCEAAAo9CwFs8sl3gMS4e+SiJJB0QgAAEjgQQCCgJEIAABCAAAQhAAAIQgAAEIAABCAQEAgoBBCAAAQhAAAIQgAAEIAABCEAAAggElAEIQAACEIAABCAAAQhAAAIQgAAEAgIBhQACEIAABCAAAQhAAAIQgAAEIAABBALKAAQgAAEIQAACEIAABCAAAQhAAAIBgYBCAAEIQAACEIAABCAAAQhAAAIQgAACAWUAAhCAAAQgAAEIQAACEIAABCAAgUiArxhQDiAAAQhAAAIQgAAEIAABCEAAAhBAIKAMQAACEIAABCAAAQhAAAIQgAAEIMAMAsoABCAAAQhAAAIQgAAEIAABCEAAArxiQBmAAAQgAAEIQAACEIAABCAAAQhAIBJgDQLKAQQgAAEIQAACEIAABCAAAQhAAAIIBJQBCEAAAhCAAAQgAAEIQAACEIAABJhBQBmAAAQgAAEIQAACEIAABCAAAQhAgFcMKAMQgAAEIAABCEAAAhCAAAQgAAEIRAKsQUA5gAAEIAABCEAAAhCAAAQgAAEIQACBgDIAAQhAAAIQgAAEIAABCEAAAhCAADMIKAMQgAAEIAABCEAAAhCAAAQgAAEI8IoBZQACEIAABCAAAQhAAAIQgAAEIACBSIA1CCgHEIAABCAAAQhAAAIQgAAEIAABCCAQUAYgAAEI3BuBX/n1L4Xv+5FfO8u/aIs/CEAAApcm8M9/9nfOUmdFO/xBAAIQgMDtCDCD4HbsiRkCEICAS+D9v/iZ8MKHPx/e+7GvnPQv2oi2+IMABCBwaQJR1Dy1zorhox3+IAABCEDgdgQQCG7HnpghAAEIuAQQCFwsHIQABO6YAALBHWcOrkEAAhCYQQCBYAYsLoUABCBwDQIIBNegTBwQgMA5CSAQnJMmtiAAAQjcjgACwe3YEzMEIAABlwACgYuFgxCAwB0TQCC448zBNQhAAAIzCCAQzIDFpRCAAASuQQCB4BqUiQMCEDgnAQSCc9LEFgQgAIHbEUAguB17YoYABCDgEkAgcLFwEAIQuGMCCAR3nDm4BgEIQGAGAQSCGbC4FAIQgMA1CCAQXIMycUAAAuckgEBwTprYggAEIHA7AggEt2NPzBCAAARcAggELhYOQgACd0wAgeCOMwfXIAABCMwggEAwAxaXQgACELgGAQSCa1AmDghA4JwEEAjOSRNbEIAABG5HAIHgduyJGQIQgIBLAIHAxcJBCEDgjgkgENxx5uAaBCAAgRkEEAhmwOJSCEAAAtcggEBwDcrEAQEInJMAAsE5aWILAhCAwO0IIBDcjj0xQwACEHAJIBC4WDgIAQjcMQEEgjvOHFyDAAQgMIMAAsEMWFwKAQhA4BoEEAiuQZk4IACBcxJAIDgnTWxBAAIQuB0BBILbsSdmCEAAAi4BBAIXCwchAIE7JoBAcMeZg2sQgAAEZhBAIJgBi0shAAEIXIMAAsE1KBMHBCBwTgIIBOekiS0IQAACtyOAQHA79sQMAQhAwCWAQOBi4SAEIHDHBBAI7jhzcA0CEIDADAIIBDNgcSkEIACBaxBAILgGZeKAAATOSQCB4Jw0sQUBCEDgdgQQCG7HnpghAAEIuAQQCFwsHIQABO6YAALBHWcOrkEAAhCYQQCBYAYsLoUABCBwDQIIBNegTBwQgMA5CSAQnJMmtiAAAQjcjgACwe3YEzMEIAABlwACgYuFgxCAwB0TQCC448zBNQhAAAIzCCAQzIDFpRCAAASuQQCB4BqUiQMCEDgnAQSCc9LEFgQgAIHbEUAguB17YoYABCDgEkAgcLFwEAIQuGMCCAR3nDm4BgEIQGAGAQSCGbC4FAIQgMCpBL78tT8Pr332q4P/3vPyb4QXPvz58N6PfeWkf9FGtDUWX/SJPwhAAAKnEEAgOIUeYSEAAQjcDwEEgvvJCzyBAASegMDP//s/CG/7wOuheemNwX/v+fk/OkkciOJCtDEWT/Ql+sQfBCAAgRqBD/zbz4YoAAz9+0f/4j+dXGfFeivaGYonnov+8AcBCEAAApchgEBwGa5YhQAEIFAlEAfk7/3Zt87SmT5plsHPvoU4UM0lTkAAAkLgm3/x1+F9P/3JVnQ8qc45cVZUFD2jH9Ef/iAAAQhA4DIEEAguwxWrEIAABAYJ3FwkQBwYzB9OQgACOYFbiwSIA3l+8AsCEIDApQggEFyKLHYhAAEIjBC4mUiAODCSM5yGAAQ8ArcSCRAHvNzgGAQgAIHLEEAguAxXrEIAAhCYRODqIgHiwKR84SIIQMAncG2RAHHAzweOQgACELgUAQSCS5HFLgQgAIGJBK4mEiAOTMwRLoMABIYIXEskQBwYygXOQQACELgMAQSCy3DFKgQgAIFZBC4uEiAOzMoPLoYABIYJXFokQBwY5s9ZCEAAApcigEBwKbLYhQAEIDCTwMVEAsSBmTnB5RCAwBQClxIJEAem0OcaCEAAApchgEBwGa5YhQAEILCIwNlFAsSBRflAIAhAYBqBc4sEiAPTuHMVBCAAgUsRQCC4FFnsQgACEFhI4GwiAeLAwhwgGAQgMIfAuUQCxIE51LkWAhCAwGUIIBBchitWIQABCJxE4GSRAHHgJP4EhgAE5hE4VSRAHJjHm6shAAEIXIoAAsGlyGIXAhCAwIkEFosEiAMnkic4BCCwhMBSkQBxYAltwkAAAhC4DAEEgstwxSoEIACBsxCYLRIgDpyFO0YgAIFlBOaKBIgDyzgTCgIQgMClCCAQXIosdiEAAQicicBkkQBx4EzEMQMBCJxCYKpIgDhwCmXCQgACELgMAQSCy3DFKgQgAIGzEhgVCRAHzsobYxCAwGkExkQCxIHT+BIaAhCAwKUIIBBciix2IQABCJyZQFUkQBw4M2nMQQAC5yBQEwkQB85BFxsQgAAELkMAgeAyXLEKAQhA4CIEeiIB4sBFOGMUAhA4D4FSJEAcOA9XrEAAAhC4FAEEgkuRxS4EIACBCxFQkQBx4EKEMQsBCJyTgIgE7/65L4X3/fQnQ/zNHwQgAAEI3CcBBIL7zBe8ggAEIDBIIIoE8R9/EIAABNZAIIoCL37odcSBNWQWPkIAAk9NAIHgqbOfxEMAAhCAAAQgAAEIQAACEIAABI4EEAgoCRCAAAQgAAEIQAACEIAABCAAAQgEBAIKAQQgAAEIQAACEIAABCAAAQhAAAIIBJQBCEAAAhCAAAQgAAEIQAACEIAABAICAYUAAhCAAAQgAAEIQAACEIAABCAAAQQCygAEIAABCEAAAhCAAAQgAAEIQAACAYGAQgABCEAAAhCAAAQgAAEIQAACEIAAAgFlAAIQgAAEIAABCEAAAhCAAAQgAIFIgK8YUA4gAAEIQAACT0zgrf/+v8NHfvWt8Pk/+eYTUyDpEIAABCAAAQhEAggElAMIQAACEIDAExP4Zz/z2+EdL/9eePGV3w3f/2Ovhl9+9Yvhm3/x109MhKRDAAIQgAAEnpcAAsHz5j0phwAEIACBJycQhYB3feg3w3s/9pX233t+/o/CO175/fbY+175rfCpt74e/uZvv/vklEg+BCAAAQhA4HkIIBA8T16TUghAAAIQgEBG4N99/EvhXdvfV4FAhIK4ffEjXwzvfPmz4e0feC38xC+9yayCjBw/IAABCEAAAo9JAIHgMfOVVEEAAhCAAARGCfzgBz8efuijf+gKBFYs+IGf/HT76sGoQS6AAAQgAAEIQGDVBBAIVp19OA8BCEAAAhBYRuArX//L8O6XPzkqDrSzCV76RPjGn/3VsogIBQEIQAACEIDAagggEKwmq3AUAhCAAAQgcD4C8csF7/ypz40KBPFVg7geAX8QgAAEIAABCDw+AQSCx89jUggBCEAAAhDICPzdd78Xmh9/LbznF/54VCB4YftGeP3Nr2Xh+QEBCEAAAhCAwGMSQCB4zHwlVRCAAAQgcGcEvvXt74T/+b/+z138e+2zXw0vvvLpUXEgvl7QfPDj4XNf/tOL+/0X//f/3VmO4Q4EIAABCEDg+QggEDxfnpNiCEAAAhC4AYEf+MB/Di++/Nt38e9dL32i/UqBXYjQ24+fPXznh37nKj7/kx97lU8q3qBcLo/yEPbbXdgvN0BICEAAAhC4QwIIBHeYKbgEAQhMIHDYhWazCZvNJmzP1kPdh21ns9kdJjjxPJfst0fW5+X9PPxiSr/vR35t0hN7b6D+DMfiTIU4y4K/+ydw2G+7+neLQHD/2YWHEIAABGYRQCCYhYuLIQCBuyGAQHDFrEjCyeZ8aswV/b+PqBAIvjIokCAQ3Ec5neLFYde04uxmg0AwhRfXQAACEFgTAQSCNeUWvkIAAokAAkFicem9/ZbBwBkYIxAgEJyhGN2FCQSCu8gGnIAABCBwEQIIBBfBilEIQODiBBAILo5YIpDXC5g8IESWbREIEAiWlZz7C4VAcH95gkcQgAAEzkXgCQWCQzjsd2HbyPS47r3apglNXGyn8tqxNob0kM9V9rADgdMIIBCcxo/QVyeAQIBAcPVCNyHCw2Hv9om2u33odYl0NlFakySuS1Jbm8Sz3TTbsKt1tkJ6nantbh32Ybe1/bUmZH4555ut4/cEDlwCAQhAAAJHAk8mEMRGsN+oSeMm29i4lH8IBCURfkNACBQdunDodehGO2yHQ9jvtqEphbvNgHA3JhAssWk6p+0ihXM6n+pPfCc3ru5tOrWxQ2x72ot8E97F9tLx6oCgMWk4hN2EurStU5tdf5BRJOFZfiIQIBDcW1nXvk03yJd+UNoWawxofdDvS5Vdp6wO9Oy7dYNpT3ZpIdrkTxdvjEzrvr4vG9f2vdHHHwhAAAL3SeCJBALToW22YX+wvfUQQtthTx16VjC/zwKLV/dIwHTo9mm/16Hb2AGmSYeuhu108kynsux82s5h79xSm1Yg2Moq3Z5fTlq0s7oNW7Pi/5GD6WQv9s0ws7uXjlcHBDbNpj41edTP802go54yC4EAgSCVhjvY07pjE0oRN860lK/EeAuTJmHB1G0mSen8JjTZTIRDOEQxWOqNfuWtX5Jp65O2vyaGnXqnOC+vQ8WwPdNihi0EVkxAyjjle8WZuALXn0cg0IbQb8w0r7QzPHKdBmAHAs9OoC8K2A5h+hxWHGiX95UJ25Sv+MTXgUxHsgyr93TZETzBphEIjoPdJmzNVNjMn/IJlfEnhk0MDmGvNk7xrVLOLh2v1olWIKj40h22gwM6MYkVAgECQSoNt9/T+7Ssy3r3cVlvx4f38kClfy4Xb4uHMZLsar1i6siyzo9hs/rOq5NSeB70CGy2j0QAgeCRcvN+0/I8AoE0RpWGMGWRNC55w6ONodfb7aYhqyIeBweZqp2s53aKacibgcFItOm9V5elq5umLcp8G6YcdHW+dOHaBtQOwnpToY/v/01JW0ole89FQO6Z45N27xaxnTrbadP7wesIdhDTNfk9aW3aONP1Tsd1zGYhEFi7mqemg2rTYv2pPTU/zTf1IN8x/lwkXqljajNAcm+yDnzGp7zuCX9HgeCFD3/+Zv9+6KN/OPiZwfd+7DiAf/fPfekmPv7AB14L3/r2d56wZNwmyVPqo5pnQ2H13Eh/SwY6+QwF0564FfDYeTPLwA1fSxHHIbAOAnLfULzXkV9r9fL5BII4EKkI2kOZqA1eeUfawbUZmB+fPpZPNo3qvt1V3+GNTyyr7+6VDa503ptd2PWmNcvU6Cg8FKkTgaA3jdoMqmamrYiBn09DwHTYyvJpGEijVhvEmkvzXSnj5QDVDIx75Tu30P9Vs2kFgrlpMf6cNDCu+tZPRnvk0vHO8mdaWaik5OEP/8qvfym8/xc/c5N/73n5N8I7//VnJgkEb/9XH7+Jjx/7D/vwvb//h4cvB3eTQL2346tA3eJ/E/tH2ifqibtpgD5WD6qNrK5NdYgffux8ij8XHu6GOo5A4CQC0pea3e85KVYCPxuB5xEI4sJpuqiWLHw2sSVsZ7V10+myO9I0VNnT/fgkX6bf5U89tUFsxYS4cJn4YP2LA/tiNkHFXrANfDnLIM5s0DSbgX8s5Tacmdqt7piBUj5zoZ62Z7t5SK8QMPdBthKfnD9uU9kvymJ+WbzbQlz5eh+/NmIX+jtJIJho05b7uWkxA/Wsmuilrzww1bcyXPf70vFqXZHXZZ430nHpv0riXc2xaxL4iV96M7zr3/zBqEDwws98IfzwRz91TdeI64YE0j0rDxSO/Y/jV52kf9J3sF6fp/ZAHpSMb22bkML79Wg67wsIpi/lG+gnhiPPQUDaslaQmjHjVttYW04tMimTlTZyxixjtRrXRds2aa0O07+Xe9Yt3nPiknRVeGwGvzainh53TrXV+SA5C9AAACAASURBVG3ritpM7CLm/GfFTv2rKbHLOWOmdFeG2rrHPkQtZ1/nXq3y1xMJBDF/Kl8x6D5xOFSAtDE0d6R3zJYC77weKwc7MaDcYLEi6A1OUqNnXMgH+tkJ8SSFy2xKRen5URVExKadCVFOTUjXsPcsBKRx7M+YyQgMlDn306O9GTlF42vuF6/oL7JpBALPpqbHS8uIPxq2bY+cT62OpdcasPuXjtdLq42/2x+s25zrOXQ9An/zt98Nb//Aa6PiQHzF4IVXPhPe+MI3ruccMd2cQLu2ij5MsEJB/2GFOJvu93LQlNoD29kf3rc2Uni/Dk7nsz6NOGYfBvkG9Ep2noyAtGVzZ9xqG2vLqWUnZbLoo8RL7CCy18ZX+kwaX3kvxpk+aRHkXvGeG5fEE21W739vPGLT3u2fYmvQb2cGtBN9e0h8cDjH+setLwbjdvKnK0PN0Ozrmn8rO/5kAsExd+LTyfy7uvYmbMziYik3tTHUO1IG3k6FIMGksJrpc2rHHJPLWwGjLdi+TVENs0IuFV5loN/almtsnHKsNz0whliWtpQO9p6LgDSOTmVqQWiZy8u3lOu8Axln+Ry/lR07r8dzeTgrqOlt2cW32OYVBILlvlmYZl/qmZFVuxfHW+NvXLAzkrL6yV7D/s0IvP7m18IL2zdGBYL3/MIfh+bHXwt/993v3cxXIr4lgfhU1RcvyzpW+zK9PkRqD5bVBSl8GeeRTDrv25f+yybwisEty9Idxq1t2bHPn82OjeMCHSQXQoC2scVxTaKUyaKPYvoTWVzxM8i1WcEmTBQD0ivRNszR//z+EB/K9cpsuMI/TVfHw35tZIiHptvsLLVlw5nZzPHLcmmcVvhtorW72sepzugu828BM1uGjL9p9rX1aN37TykQZFl2iCulx/f386k85XvS2hjqHZkKVj6wsWKD7KdC2bdjvRGb6frsbLfGQNYoSmG1g38bKO7rDWjsDoYTP8T/oa2xWcbL7ychkMqL3h5eyqXMGTFL74d2+lxcUNOZ0uqEa81ruc6FiZNsmsZ5blrSfZb7Y1Gc5pu1ZPYrHMwVZsXx2HmYybnGXyNI+U+HXKG4O1/+2p+H1z771av/e/dLr4cXP/LFUYHgnT/1ufBPX/nNq/snTD735T91uXHwNgSGvtqS6rKyD3DqAD3VJ34dnM5nfSFFdGr8aoidRyOgbVlNPEplJytb2saWZV0ASZnMB7J6j/gFObXL9rz4WOvTy/nigcCiuDRdlafrej5Pl6Q62+q182zpoL6SXj1vGWURyw8/D45nU75aM4uYKf8JTMS1lW4RCIqMsw3icEGSwjg0eJZzqVIZLpBiM11v3ZMbJau4pLBWbq42vN64xu5gOPFD/B/aGpvWWfafiEAqL1nZLAho2dcnTqnSHhpYpnBFhazl2g7IT7RpBIJ5abFCnPXHQjjVN2vL7LsczHmdEVTrFB2vrXKWusIIO8m6SZPmazrLXk4gfsWgeemNq//7we1/HRUH2tcLPvz5q/tmebzt/a/yFYO8yFzwl7l3bWeniDHVC3lbXzseg0tfZdlaJKk98d1K5/06elq6imTy8xkIDLZlHQC5xvaptY3N74GETMqk7aNIObTHUoh2T+yauOTe8ct2DCVx2X7GsrjSQ42ajxJX7bxJj6TF7SdYv60t8dumxdhsg3UzSA2j4oruZ7I1be0Eud76U1iWNNm4pXw8QX/nSQSCGYW87ef3FyTUxlBbrHk2pdj17ciZuBWbfiXkVhxSWG0BtibjvhRyW6AHw4kfAzdOGQe/n5iAlJfhAaiU3yQGpHD1xlAq8ShSFeVRy7VtXE60qffg3LTY+8z6Y4vFqb5ZW2bf5WDOmzQt4ix1Rck/GwgUeWOjZ18JRIFAPiXI9vhJRcuh+eDHEQi0tFx+R/sjtm9QRKv1dtHHGAxr6qRU3xeGq8Jlqie1u5UFTef9+sy0Gb6BzBo/noiAtGVFWc4IaNk1/XDvWBZIyqRtB+XY0AM2OSdxpbI7VHTlnkzXLInL9lkk/ixRZkxi01Ve0/0+idGA/VG7xh/JX7sGgXydxVx23F3ITOIYKkO9uNZ54EkEgnTT+Q1Knnna8KW7z5kKlGyay3JDzi/PdrpMCqx/s0qlkKVBCutAA6/vB9sCLeHsMXVkWdo0ODtPRkDKrTOIFxJS3rJpcamcVTuRJtw0geBEm2Yw3YtvMC22sa0JBKf6Jg4UW21ALxSv5kHRiOvxypTCwk1+hoBA0BcFEAhueWeYurt939m+4pV/brnXz9H7v6gXuuRIf6VdHKx9rSmlM64DlRZFK8Mnn3pxtibS+awvpOYn1LN6LTtPRUDKrNvv7Uhoe2r64d6xDJyUSVuW5ZiIAENbiUvKrrWTRdT+kHsr3R9L4rJ9Fom/jEvsDvvThjqJUS3+aFl8GLom+X1cnNpnHV+vTDWc2PWvzV8dN3FPKUPJnVXvPYlAYFbdd56C5TmYCo1tfLyBvdyk5XoFas8pSJ4dvX7kRpD4rF86+K+t0GlUejdcpaKUuOakLaWDvecikO4ZWUxwm1bWCfa1nbI8aTlry+/eVN5551Qq69Qg2sYtHxifZFPvQWk0is+N2hVvy3tHG8jcH1sWTvPNWjL7l45X6jFbd5o4q+KOcZHdIwEEAgSCu7sXbJ1mn7yZ/bjAWu/P1gHdtVkfIy7Eln2mVupUu/VWKE/tiRdtGjDUhEkZZA3PAuulhwOPT0DasrLttinXcm0Ghd4xG0b7DXYgLeXYHssCOT9S2fXL/jGI9CPSNUvisn0ok9bMqxl2L8Vo1G7msPlRWXBVoc1Im7GqY66hMmSvX/H+0wgEaWX+2DjFFdL3cZFM83dcrDCp2vkN4w7steDGT4/Ehb+SOTsoso2ma0eDSYHN45bTUilYe1pYtYE2gyyr0peFeayiXJA28ZPtsxGQcrsJTfxkqOlYysC+3ZZlsMWUwmbXio32O7w7tZmVfVNGtc4/1aY29Juw3aV4e77Fp21lNlf9sReekF5rxu5fOl6pK4xAIHVRj4vkW7HN8s36/mT7CAQIBHdZ5J3vgB/7SZUFTbtE2H5OrAu8+9z93Gz7aemyDyZkUh2Z1+v98158WV/PNyCG2D4bAW3LnPZbWMg1tr+ibWwtnJRZKwZMG+xLtLKVttUv2/Eqz653TCwObBelq2Jvka0Jfnv5UXFh6LCOvXS29YS4PYNn8sczfW/HnkggiOhTgRjs2GafFjlmmRaussEZUd9L5b1qp41GKhm/EnIrDi2sTWj0Ey1WoT8KIjsjXhyjmrDwx8y0HUnx//MRkHLbdRBbYapbxyMOFOM7YPuDmR1QEjo+acqEhey9MXPf2vtPGyTvif1Cm1YgiApA75OoTdjaTwHZpAz6k13YPlmbnV5rwu5fOl6pYxAILPVF+wgECASLCg6BIACB0wloW+aLWXaMkA3QtY21AkByR/v1po2MZ6XPXs6c1JDijxUj5JgOZPXq446ez/s9i+LSdPljjjRbx0935tlCW8N+V/p+WcTdj7H4nfPDcbcZePzEtpc/9pjnzwMcezKB4Jhj8f233mcNo/rdPq30BzJaAdgBihQAz15nSy6R7aAdHZz4N6sU5qziksqiLazllL6BwUwWTrxztjPS5oTm0FMQKASCp0gziYTAfAIIBAgE80sNISAAgbMQkH5vN8OtsWL/0Ixb+3Axe4AYp7GbhyGFQJAWCJ8+y9iKFHE1/jQz+RAOu63OpowPObPhiA6AZ8SlYfwxxzUEgiqjw6Edpx0f5k4QKLI8ymd0tw965AGqhabpn8FMyhACwVluSYxcksATFdZLYsT2KQQQCE6hR9jnIYBAgEDwPKWdlELgzghof3nmjNuYDAlbvD53fLVmH3btANQZyC6ZiRvFCieedrDc7MJue5wlbMe6Lem5cekA+YYCQcc2m1GZpd1bp6RSrjQ95Sxq+e2kcy4zKQcIBJVM4PD9EHiiwno/0PEkJ5Aas2x2S34RvyDw9AQQCBAInv4mAAAEbkUg6y/PmHHb+dtbT6N7fTI99XcEghh20Uzc/muS7dpp5tWFnkAwNy4dUDsD5zbN0rerpKvj0m5OtVW+mhpndRdfP7HRVfc91puB2dTRkBemMgtchSIEgmoWcOJeCGQV3r04hR/PRUAakdp7fc9Fg9RCoEYgCgTNS29c4d+b4T2/8MfBfkKwtv+Ol3/vCv5MS/Pb3v9q+Na3v1PDx3EIQAACywnQX17OjpBPR+Ap1yB4qFymwnuo7FxnYhAI1plveH1tAp/78p+G1z771Yv/+8c/+h/Du3/uS6MCwbt++r+FH/3Ypy/uz9Q0f+qtr187S4gPAhB4FgL0l58lp0nnGQggEJwB4k1NUOHdFD+RQwACELgnAt/4s78KL770iVFxIM4oePHl/xK+/LU/vyf38QUCEIDAZQjQX74MV6w+JAEEgofMVhIFAQhAAALPSOCXX/1ieMcrvz8qEPzQR/8wvPCTr4fv/f0/PCMm0gwBCDwbAQSCZ8tx0nsCAQSCE+ARFAIQgAAEIHAvBOJgPw764+C/tuaAHI8iQhQT+IMABCDwFAQQCJ4im0nkeQggEJyHI1YgAAEIQAACNyXwla//ZXj3y58cFQfa1wte+kSIryPwBwEIQAACEIAABCwBBAJLg30IQAACEIDASgnE9QS+/8deDS++8rvhnT/1uapQ8OJHvhje98pvrTSVuA0BCEAAAhCAwCUJIBBcki62IQABCEAAAlcm8Pk/+Wb4yK++Fd72L18NL7zymfDCz3whEwte2L4RXn/za1f2iuggAAEIQAACEFgDAQSCNeQSPkIAAhCAAARmEvi7734vvPGFb4Qf/uinQvPBj4d3vvxm+/nDt3/gtfA3f/vdmda4HAIQgAAEIACBZyCAQHAXuXwIh7vwAycg8OgEDmHXbMKm2aV77rALzWYTNptN2O4fOP1dOpsdtc0D53I1ad/69nfCq5/+H+HFD73ezi6oXsgJCEAAAhCAAASemgACwY2z/7DfhW3z4AOTqzHeh2070GsCY6CrQV9VRPutIwQ8i0AQQnDTv6ocxFkIQAACEIAABCAAgUsSQCC4JN1R293TzEd/cjnK4VwXIBCci+RD2pFPHJXTBJ5IIAhB7pFteOTJEg9ZfkkUBCAAAQhAAAJPQuC2s8sRCG5azBAIzotfBj/MIDgv10ewJveaUzaeSiAI4bBr2tcpeNXgEco1aYAABCAAgSR+O238XDzyMMG+ijjXxt1df5v+sfQ3NuWDmbvjc18O3cPscgSCm5YJGbTwisF5suE2FeB5fMfKRQlIg+81Uk8mEKSOFLMILlrmMA4BCEAAAlcicMb+n/QXEAhOzjsEgiUI72NseBmBILu5DmG/2+oiYHEhsGa7C3tvnawuXPtka2/CNNv8nfLDPuy2TW6z2fo2Y95018e45V8TbbpOdJk5Jw4ZYLSVST+9GycuvWmMT+4iaXP8WJrWWvmdE/cCBrVos+NzfNDp02dQkDMn+LFuAiOVrZTdgVd9Dod92DbHJ+/T6hDprHTiX1eOJexm04Ttbm8WSjzWafZ8szXnyww4dPVM4VO0W61fjQ1Zi4BZBAYKuxCAAAQgsFIC0uaeof+XjWFWiqPn9hn59Gxz4LwERvqs542sau3iAsGuWxQsdXxlkN70VwwXgWBrxIF2AG2edFnhoBhcxzh6DwhN57/vwya4HeSlcTTbdsFBL554zMY1SSBY6ofDpYy/WiLkxNK4ZzCQqKrbuT4gEFRRPvUJrQNMPWKB6Hmn/mgX9suFgd797T5lkMZ4E7a79JWEXthYYZn4e+c92yP3hdjo1YU2zdIB2lSY2GvZhwAEIAABCNw1AWlzEQj8bDojHz8Cjp6NwDMIBN1ANXsSFp+kxc+MlQP/CFY7rcfPkMkD/oPONpACHmch2Kdr8WmadOLzykGelMX3X9RMsNeXHeT5cZQd/KZ8MlhLbxgqBPP9mJ/WWmmeH/dyBmf0AYGgBvOpj6sYVxsxmwF6eYmGbQW+vA452JlRZUAti11dl81wSve9DObjLCOp70Ksn4ywmptO92b8VGMKE7P4EA6ZeFDWbbYYJDu5fXsN+xCAAAQgAIGFBKRPX5ldOzbb7fgetvTtpS0tZt+pa9Km5WMAOT3LVul3NmN5YJZeF25sFvQsX2ICejMQN2F0FrQkXLfDfCQO+eRz7JvEOPI+hh2nOZy1L5XOaR/K6WjIe/apHxQfHKeRmrre7czhlscb+1S2HOXx5P2mcnxZeDFnVrPwqJT/q84uL5Ix5edlZxBEEcApFLEjKyKBfaqeBIJUuGwi8gy3Z477/fNDN0TywbrYt5HH456XQlDMEtCQer5Ml+9DDOfGowa98/PTasxlu/Pjbh3WVz6yPBXLVQZyQb5d5IMOykrOuW1+PROBdI+55TKi0LJZzCDIjlcaLelIbMoyJ/dj7NQ4A3VjO74W0P8sZwpv/db7wrPZZWu6xrMreT+Bi1zKFgIQgAAEIDCXgLSPzS7Mmk28aOaetJn9di8fHMoDSrMtZ+qp30OzgpfNgp7tS9ZXMD7LA9h+56GSS3U+cexlhQEdsHdx2DFSNK4PMDJufp9C+yOFET3exWHjtH0eScxcbmp/u9Pxpo0j7kcxomo3S1vnxUxO2recMbNa/S64ZPjm+iEQZ24vLBD0b1T1T2/AXXqyL8fczq8UvgGbciNpxkqYOCNhZM2B1jG5fk4cdoBRC1e7MSW+YmCiAkrNnolzcVo1J4od8WlO3MYfd7ATo6gxKKJvfy70YVYcXrwcezwCUu7Ke8ykVOqN4hUlraj1HjNhzK42lnkNHrZSwWfHJWDya0xE9c+LHWer9ejAPVxt5B17HIIABCAAAQjMJaBt0XFgm838nTSbOH/Se5xdl54E502rtKlFu6c+zLClYTq/i1nB29qsYBvOzPDTWdB6frovtn+RHlMMzYKuZVKFj/abyyfnNo6Cqekz6WBe0lb0l7QfZTMrCy8zM218xUMVsR3XbspmGOQD/DyKVE7iQ5qdZoKML0RsyW2qv72xjPBbxikKEreaXV4rEWPHLysQFAUlc0YLiCkIUgjccClzShWo/9uxKZ31uG3GpihJwRnamji8tGSJFd+Lm0yFgHLwItcPxS/njB/Cb1JaMwfNj4VxL2ZgotbdhT5oRVdyVsPsPBsBLZcDZUKvsfdhakS0Aayw0wYlq7dSGfbDj51P8Y8LBIcQF1Hc73dhW0yjG3q44PtdSSSHIQABCEAAAnMI2D6pHb2pjdTO2XZSBsX2mAYx/eb8vLSpeVu/yJbxO49DvPD9HpsFPd8XP01HL5IPLlpxVbe+Le0HVIzUzuvx+EA3LuLcjTtKM3qdOeEdG0rTfG5mlnVvoG8faOZrww35UPe5CyWvuZt06gyCm84u1wIwe+fxBYJYFmLHWRU/GVgft/EdqKTKpULeFx3ycNm0YR1gmMF6lhViN6+47KsWtkylp+1lnN7vPM7pac0cND/EVy+u8piJezEDE7XuLvQBgUAJstMR0Ia+vPcMIS27ViCYUwblvjD3g5ZFa9PEac6PdUA8gcB9F88Kg+3+QJrbNlIUduu39ZF9CEAAAhCAwEICU9pfuSYT2IfiSwPjvO2UNnu43cstV2yJT+5s5s6CXGP9lmND4XIHzC/Pl3Rs2ixoY6636/ER+wPMpH9k09nalrDS//FfKe8PrFO4fNzTc3jigWTPlgeNt+d3NOuxSNH1BQmJYyYnYeeJFG10NT8kvrL/KMdn+pGSNmtvhQLBAJjRpMcpLFEskI5xV7C1lNYya8SwFoJaR7tmVzK7LAS160f8yE6PpTW72PxYGPdiBiZq3V3ow8hNr+bZeR4C2mAP1Btadu19KGXQNH69AXh5zt7/KbxWLxn1dN42aumSVDeUAoE0XrmIGRdOOr5GFRfcOZ4bSDMCQULNHgQgAAEInJ+AtEXuIK2LTttf235aV2SGXPwU8DY05mFf3nZKmzrU7k20JX77jffROc9vCTeUXk3aTF9s/6M6C1qNOzseHzlW9mW8307+SHpb35zztp+hLCXOoXxy3NdD07ipQKDxqgEjEPg+Sx8rlS/x2eNSHjM2vTJi3aiOWVL/L3d/oR9ZnNN/XFYgGFLRpGDZG8k7pmmpAdMLZu9oAVI/F8Zx9kKw0I8BAv201i5eGPdiBp4fC32o3mxeHBx7CgJSp1QV3LYF0wV6UmWcKuLUSMwhlsInmzZ8Ou/bT/eAFQjSfRzfg4tfMUjzn9T6lDTbhlvrP7XADgQgAAEIQOA0AtIW2X5+abHSd2xXljdiQC6IHwdledspbWp/4DnblvjtN97HFHh+S7iB9M72JbbVk2dBl3Dtb4+PHCsHud5vM/BVs6afUkmz9lmUpcTZzyc16+zM5daP1xoVH7w0pUUYU/mS6z0u5TFj0ysj1o3qmCVxVWxtuIV+ZHFO/3FhgcB7vyM6lxKfMqBdNev45KtS0ETViZ/3crrF6TOJcn4sc5zzs+NokyPfOTcFI8sDydTyhkgc8kKQCugl05q5aH5cl4GJ2Owu8qF6sxnD7D4XAb3Hy3vPYNBr7AyCdG/aAboJNbIr97y1aYOk81kdqJd48XvHNIDuaMM4JIpYgUDqS7XADgQgAAEIQOBEAhMGzOk9bdN/lnDdq3Lxc3vbuBr9fh8Oh9QO5m2ntKlFW7/EloQpO+YWh/YbHL9rbarYnZWuLNKRWdD22nLf4+MdK8PVf6e+xnGQnOfHMZxeoywXxLmAWz9emw7xweSdOS3jj5Qeub4oWyaMu+uVkezCmt1UxhVbG652fWb0bD8uLhBE1a9cuVHXAyhvIikE5XFJrsKOCw3m3wBv1aVuCk7K1AS5vL795qeokzYHZsfR9rS7J5B+Yau/75L825aric32I9manFbhWm5nx30KgzLy7vcSHxAIKjCf+bBUqLWBui27+TXSSGTrjUxGORZvOp/qK2vc3M9aP42FieFNuBGBQNNXq2+tO+xDAAIQgAAE5hCQPv3QLDW5Rtuh1IaNtY35eWkf7SBuoS3xaZbfYw85F/oywFsHwUN+avhhPtrN0OtHdrSPvm0XSD5+JtGyP4ZXHzWCxEEPDUaVrs/zWwL55/vxyvVxKyz8MZv0jVJ8KY5pPndxWUY2et0XP0putfhqx9XgWXcuKxA0Tfa+UD5FqAQydnN16R75/mP8jEr2pxlUTgOR304BWRyHY6t1plYIzEyBnrhx5DH0bdKzpDWDZX5ckYGJNd+d64Pe9E7Zyi3z62kIpAo1VfZF4k0dkVUf5nh9FkGyn18j93wuOqSY03nfL8+udyxZbPe0YxPrt6H7INny4y/s8hMCEIAABCAwh4Bpj/x2xmuHpG2s9KdNvzC3KeFsuyfHZtoyfmd9Ak275/fYGGaBL9oHqfg/dl79jTsSv+VjxiAq0GSB+jOz29P99MugOu8Hma8JGJC1a6Pp/sBe/K4wqJSHvh2brmGb4p8tX3Js8qzuY2JOf3hcDGkX+WGTPmP/wgJBfBUg/05l7LRu7TdFrbNyU9YKqlwbv5+6bfS94VZ4aI4LdMkl2da7fsiPGNgLU4tj9CaVwpjfmEcfD21aVDwxN1F7fo4fNb/H0np0pP//nLhPYtCPWo/M8aFSAaotdp6SgDYUtXpFy25/MK+VcZwJ1b7znxDGTwvqbKjeYFzu+b7No4V03jZCxnrYOTOcMn+yerSsZ48CaFmdJPsp/vo16Wr2IAABCEAAArMISJ9eH4DJN++PfWxtP7O2ObVNcbCZXieOC29vs35/3nZKONvPlmPHFfYn28r8jmOWOJLp/rJ2vxi0SrgsPRJwiS9pIH7yzOBa/9j0f8o4/JnZFSHE2LF9Cu1/5Qc1H+0M87jWgjwUTZcv4eYJDZIPcSs2i/zrLpF+Vla+TPomc9IwfjzJD1tmoxMp30+fXW7TPW//CgLBPIe4GgIQgMBZCYxV0nreG8z7A28V9Lp3CVNjJp5LA+TZjNek81kjJMFNA5Er8ilc7kM3I6oVMVMj69s2DfykqYnqFDsQgAAEIACBaQR0wDxvNrEOKjthIWvr4uvF3jfntU3NB1uLbKnfW/MQQGYdyzaPpwWi4fx10hb5YvonGQdlUxt8llkkfQffbxmYe3Hks5XrdlL6kk96rOgk6XFNh3Dtfy5x8NpKedAwRbxHKpKG5Kel5QoE8QIzW2GcUzsdohM8/HhSP7CfJ+KDxJP15eb6YRM3Yx+BYAYsLoUABNZIwKixxXStNjWmAXbbkvZhh/N51PgKVXzCoY8WLBtpgM4tEMQ4jqJF1qBnnz1K6c3FheSfND5Zo5NOswcBCEAAAhA4jUA2YC7F9oHZxG2bm3/ScBPbuH3X2GZ2xUVpc/uDrd4K+GO2Mvtle9u1+xKt3Wbh7Im0P9uXGNSbSTt7ZnCdT+udF4cza1r6Dn7fQuJIC9QPDdR7X2ew+ZKQde7NKw9D8aaBuT9wlzS6/aOJnI5Oy8MaP57kR7/MtrMItk33yeq+aOKWCSe/CoyzfiIQzMLFxRCAwCoJTGi4V5muJU6rIFJrtJYYJQwEIAABCEDAEKDdNTDYhcC6CCAQrCu/8BYCEFhEQJ6qe0rtIoOrDSTKuquOrzZVOA4BCEAAAndFAIHgrrIDZyAwhwACwRxaXAsBCKyXgHRWau8RrDdlMzyXKYDMHpgBjUshAAEIQGAuAWlz3UX75hrjeghA4JoELiMQXDMFxAUBCEBgIgF5t+xZNQKZPfCs6Z9YTLgMAhCAAAROJYBAcCpBwkPgZgQQCG6GnoghAIHrE+heNXjGJxqy9gDqwPWLHTFCAAIQeDYCCATPluOk94EIIBA8UGaSFAhAAAIQgAAEIAABCEAAAhCAwFICCARLyREOAhCAAAQgAAEIQAACEIAABCDwQAQQCB4oM0kKBCAAAQhAAAIQgAAEIAABCEBgKQEEgqXkCAcBCEAAAhCAS2xqkgAACwVJREFUAAQgAAEIQAACEHggAggED5SZJAUCEIAABCAAAQhAAAIQgAAEILCUwEMJBN4nzOSzXpsrrtx9iziXFoCp4c6aJlnZdrMJV8yWqUnlOghAAAIQgAAEIAABCEAAAk9JAIHgAtl+1sH0BfxbYvKsaUIgWJIFhIEABCAAAQhAAAIQgMAKCRzCYYVeP6vLDy8QPGvG3nW6EQjuOntwDgIQgAAEIAABCEAAAucgcNjvwrZh1vA5WF7LBgLBtUgTTyKAQJBYsAcBCEAAAhCAAAQgAIGHJHAIu2YTNrxWvKrcXZ9AcDiE/bYJzeZY2GKBa7b7dtrK3DUIRNGKNtp/TRO2+/oEmKnXD07HP+zDbtsc4+vibZptcKM97I7pbHYhTszZ77ZZujfNNuzcgMcyePQ3j2sT07g78spKajdob3aHEPYmnhjHIYSzpSlGikCQoecHBCAAAQhAAAIQgAAEHo8AAsEa83RdAoEMmGVAb7fNNmy3fYWqNrDV49aGDNjjiLj4m3O9XluuwGcH3r14ozjRi7QTCLbt1BwVMoqw7aC+CBpFlNr1RzEkig7mTwSCrREH2ni2Ibp1tjTFKBEIDHh2IQABCEAAAhCAAAQg8IgEEAjWmKsrEgj2YSsD4+yJe3yyng+G7UDbHdgaoaHRp+nWznFQrBk68/qxODfNLs0YOBzMjIKmfVrvxRsH9cnXOGLf65SdzabwVwfg5YyI4+wLEQ4sJztot/4dOhXhbGmKiVP/eB9J85odCEAAAhCAAAQgAIGHIjB19rEmes5MY3m4V5n9K/3t2uzgMs5sdnY21tIrdWdKunTsIOO3bpuNP9ohTVyjIB/LVWc8Rw8qjIZmVavj7EwisB6BQAaV7XR7J21yvnjHRQunKY3esaNFX+U6x/Xy+kMcfGdP7ruk6HnjZ8iECSeUns+FBbHlzSwIIaUxO6/8cltC2mMg8cxKUzSocSEQCF+2EIAABCAAAQhAAAKPQ0D7zsUA+fjQz+nXz51p3PWnm8rsX+lvV89H1INx+v30qemqXWeHOrNnPOvYJ71qLg8+q1wfp0hdLSWrEQhkMJoNajNMaYaBLXhaOPVgGiDrocxO+WPu9d50/Ak2ZNBsBQS9CfxBewiS5tr5Mi3xd/IlYynxl7MROhOLOIpNm6ZoT44XYo7nLccgAAEIQAACEIAABCCwKgLah7czgKfNVrYzecPQTGPTn7ZhZPav7W+753UckdZzOzK2fhZjjLnpMuOO3rhL/Z8+41nGg5tu/bm+v8Ws6lUVmvtxdiUCQRrU9gqXYSmFxl7TH9jOHVTPvd4TCCbY0BvOFGzvmEnvNIHgEA6Hfdjv4+KI29B0K4n2VDa5ScvBfBffIo41/yUuBIIsN/kBAQhAAAIQgAAEILB+Av1+s6TJH9PIGGbWrFztTxeDeIlq5Hzdx6MB77x3rLtaX3224zD7YDI/Hp8XHmcBZA8sxXcjLKTzQ+Mpn6uaY2cWgZUJBJUboEuyFDRbAPsFeahweezmXj8kEJjBfy8qicdcUxtga1gJ0+dyiFOGjBhgp9/IfrrhzFP92QKB8Vf9kh3xr7hGKyx/6pKEZgsBCEAAAhCAAAQgAIF1EZg7WJ1wvfSdbT9djlVm/6YZBEU/vIUpcfbHEMpaxiEap4SZ039fEiZ6kMKl8Uo6NvYlN00DO4sIrEwgGC6Q9y8QTLgJ7U0uN6Y9lmWzDMALu1phRGWuCfEzitvtLuz2+3CIU5U64SDdcKcIBEXc1r+a/8Y/K+bYoOxDAAIQgAAEIAABCEBgfQQq/fNqQiZc7/WppT+tA/gigsHzEqf/Lr88TDxuRWCQMAN9/8IFO9Af7vPPnPFs13WofcK95wsHphJYiUAwNg0lJjcNfG0B7M8g8K+rA5t7vTeDYIIN7yb2KoPMUe9GTXFlAoCGq5z34tcwZ0xTtClx8YqBIcwuBCAAAQhAAAIQgMD6CXj986FUyfUyEPeuda6R/vSKBYLZM57bjxjErx74wkaz9ReD94hyrE5gNQJBGlRWbh65SYpBZ18gSGJDXOCi/DvH9YM23Js4DdoznxYJBE4FYhNpVivNBATh5/rnCQSGoxumkibrC/sQgAAEIAABCEAAAhB4KALSF5/6pH3C9d6YYKTvrmMnt58+Ic5eniwJk8YDvWGX+N/OBpg44znzKS6m6HwisRdRFogfEwisRyAwMwTieyd7/TrIIRx222C/3WnLhTdYzz8fuNfPDsZveooda2Pu9WNx2pVEB1cn9SqDLFO9G1WObUJ/hc+c06kCgeUyOU2Z//yAAAQgAAEIQAACEIDAIxEYGBS7yZxwvQym7WDfO2btD56fEKe11e6fM0yylY1HNM6x83qh7uj4q/pqtl7KzgiBFQkE7ZySsLXvnNj9Zhd23WqYdnCvhcUejKZ2TcjfrzFTVYprI8M51+u1pR3z9L4fd/zER5FbiwSCEV+bXdhL2m2Eg5WIsWnDRHfnpukI0xdiiuTzEwIQgAAEIAABCEAAAmsjIOuiZTODu0R44wS93goAmug0WM7sjfTdh2cQjM0ENq8EG5/Uz3I8YMdK2bnke3ZYP7FYnxkuD21VQBgbF42dV57sjBFYl0DQpuYQ9ttGB5hxoN1038KUQmsLoHcTCpQ4YyB7hyUucpGmJshlup16/VCc4bAP2yYXJ+L7Mm60owVdZgv0pzD13umxafMqFO+YpnxAIIjXzElTe31lpoaJj10IQAACEIAABCAAAQiskoD24Teh2c2brTx5Vu5I331MIKjOBG679mnWsQ7QY0bMTZeZAb7d6fTvqD6kh77dOO6Yz/G1gRR3O87TcElsyBi1fu11EfZMRFll4bm90ysUCG4PDQ8gAAEIQAACEIAABCAAAQjUCOgDQzvjWfbt00wxMHdW7qkCQYx3MM7jQ1hxT7Zz0yUPcGX2tAgOg3ZqM56NQCH28m1lRoI4z3YSAQSCSZi4CAIQgAAEIAABCEAAAhCAwHQCU2cfq8U5s3LPIRDEiA/7sCtmZ8f13nbu9Oajp/PSdWjt60DeiCOzZzzX/N00YWtmaihPdhYRQCBYhI1AEIAABCAAAQhAAAIQgAAEIACBxyKAQPBY+UlqIAABCEAAAhCAAAQgAAEIQAACiwggECzCRiAIQAACEIAABCAAAQhAAAIQgMBjEUAgeKz8JDUQgAAEIAABCEAAAhCAAAQgAIFFBBAIFmEjEAQgAAEIQAACEIAABCAAAQhA4LEIIBA8Vn6SGghAAAIQgAAEIAABCEAAAhCAwCICCASLsBEIAhCAAAQgAAEIQAACEIAABCDwWAQQCB4rP0kNBCAAAQhAAAIQgAAEIAABCEBgEQEEgkXYCAQBCEAAAhCAAAQgAAEIQAACEHgsAggEj5WfpAYCEIAABCAAAQhAAAIQgAAEILCIAALBImwEggAEIAABCEAAAhCAAAQgAAEIPBYBBILHyk9SAwEIQAACEIAABCAAAQhAAAIQWEQAgWARNgJBAAIQgAAEIAABCEAAAhCAAAQeiwACwWPlJ6mBAAQgAAEIQAACEIAABCAAAQgsIoBAsAgbgSAAAQhAAAIQgAAEIAABCEAAAo9FAIHgsfKT1EAAAhCAAAQgAAEIQAACEIAABBYRQCBYhI1AEIAABCAAAQhAAAIQgAAEIACBxyKAQPBY+UlqIAABCEAAAhCAAAQgAAEIQAACiwggECzCRiAIQAACEIAABCAAAQhAAAIQgMBjEUAgeKz8JDUQgAAEIAABCEAAAhCAAAQgAIFFBP4/FtKao84axPsAAAAASUVORK5CYII=)\n"
      ]
    },
    {
      "cell_type": "markdown",
      "metadata": {
        "id": "Vt1VsO9Q7KIJ"
      },
      "source": [
        "##### NLTK\n",
        "\n",
        "Utiliza WordNet. Para encontrar el lemma correcto requiere proporcionar el part-of-speech."
      ]
    },
    {
      "cell_type": "code",
      "metadata": {
        "id": "EU0_sWie53Hg"
      },
      "source": [
        "import nltk\n",
        "nltk.download('wordnet') "
      ],
      "execution_count": null,
      "outputs": []
    },
    {
      "cell_type": "code",
      "metadata": {
        "id": "rcY8gQWv7JZM"
      },
      "source": [
        "from nltk.stem import WordNetLemmatizer\n",
        "\n",
        "wnl = WordNetLemmatizer()\n",
        "\n",
        "print (wnl.lemmatize('ate', 'n'))\n",
        "print (wnl.lemmatize('ate', 'v'))\n",
        "\n",
        "print (wnl.lemmatize('fancier', 'v')) # la importancia de definir adecuadamente el POS tag\n",
        "print (wnl.lemmatize('fancier', 'a'))"
      ],
      "execution_count": null,
      "outputs": []
    },
    {
      "cell_type": "markdown",
      "metadata": {
        "id": "bPU7iR-A7QMJ"
      },
      "source": [
        "##### spaCy\n",
        "\n",
        "La lemmatization se encuentra incluida en el pipeline de parsing básico. A diferencia de ```NLTK```, al estar incluido en el pipeline general, no es necesario proporcionar información extra."
      ]
    },
    {
      "cell_type": "code",
      "metadata": {
        "id": "5PMJzV_b7NIa"
      },
      "source": [
        "for word in hp_doc:\n",
        "    print(word.text,\"-->\",word.lemma_)"
      ],
      "execution_count": null,
      "outputs": []
    },
    {
      "cell_type": "code",
      "metadata": {
        "id": "RXptBJYdBXRq"
      },
      "source": [
        "def lemmatize_text(text):\n",
        "    nlp = spacy.load(\"en_core_web_sm\")\n",
        "    doc = nlp(text)\n",
        "    lemmatized = ''\n",
        "    for word in doc:\n",
        "        if not word.lemma_.startswith('-') :\n",
        "            lemmatized += word.lemma_ + ' '\n",
        "    \n",
        "    return lemmatized"
      ],
      "execution_count": null,
      "outputs": []
    },
    {
      "cell_type": "markdown",
      "metadata": {
        "id": "XJtMsvZvyNPy"
      },
      "source": [
        "##### stanza"
      ]
    },
    {
      "cell_type": "code",
      "metadata": {
        "id": "-Zug2b-O9a5r"
      },
      "source": [
        "pip install stanza"
      ],
      "execution_count": null,
      "outputs": []
    },
    {
      "cell_type": "code",
      "metadata": {
        "id": "4BYnZOy69eEE"
      },
      "source": [
        "import stanza\n",
        "stanza.download('en')"
      ],
      "execution_count": null,
      "outputs": []
    },
    {
      "cell_type": "code",
      "metadata": {
        "id": "MM-PvxzfyM-N"
      },
      "source": [
        "nlp = stanza.Pipeline('en') # se setea el pipeline por defecto para el idioma inglés. Por defecto: tokenize, pos tagger, lemmatization, ner y parsing sintáctico\n",
        "\n",
        "stanford_hp_doc = nlp(text) # doc contiene todas las anotaciones\n",
        "\n",
        "for _,sentence in enumerate(stanford_hp_doc.sentences): \n",
        "    for word in sentence.words: \n",
        "        print(word.text,\"-->\",word.lemma) "
      ],
      "execution_count": null,
      "outputs": []
    },
    {
      "cell_type": "markdown",
      "metadata": {
        "id": "H-B0JpbS79Od"
      },
      "source": [
        "### Alguien dijo \"pipeline\"?\n",
        "\n",
        "Hasta ahora tenemos todo el pre-procesamiento separado en diversos métodos independientes. Sin embargo, su uso puede resultar tedioso, sobretodo cuando debemos replicar el pre-procesamiento en diferentes etapas (por ejemplo, para aplicarlo a los conjuntos de training y test previo al entrenamiento y clasificación). \n",
        "\n",
        "La solución \"fácil\" sería crear un método que podamos invocar y permita hacer todo el procesamiento junto para luego usar el texto procesado como entrada a otro elemento. \n",
        "En este caso, podríamos tener algo como (no refleja exactamente todo lo que hicimos anteriormente, por ejemplo, no incluye spell checker):"
      ]
    },
    {
      "cell_type": "code",
      "metadata": {
        "id": "KWLHnW-b79rv"
      },
      "source": [
        "def normalize_corpus(corpus, html_stripping=True, contraction_expansion=True,accented_char_removal=True, text_lower_case=True,\n",
        "text_lemmatization=True, special_char_removal=True,stopword_removal=True, remove_digits=True):\n",
        "    normalized_corpus = []\n",
        "    # normalize each document in the corpus\n",
        "    #sentence\n",
        "    for doc in nltk.sent_tokenize(corpus):\n",
        "        # strip HTML\n",
        "        if html_stripping:\n",
        "            doc = strip_html_tags(doc)\n",
        "        # remove accented characters\n",
        "        if accented_char_removal:\n",
        "            doc = str(remove_accented_chars(doc))\n",
        "        # expand contractions\n",
        "        if contraction_expansion:\n",
        "            doc = expand_contractions(doc,CONTRACTION_MAP)\n",
        "        # lowercase the text\n",
        "        if text_lower_case:\n",
        "            doc = doc.lower()\n",
        "        # remove special characters and\\or digits\n",
        "        if special_char_removal:\n",
        "            # insert spaces between special characters to isolate them\n",
        "            special_char_pattern = re.compile(r'([{.(-)!}])')\n",
        "            doc = special_char_pattern.sub(\" \\\\1 \", doc)\n",
        "            doc = remove_special_characters(doc, remove_digits=remove_digits)\n",
        "        # remove extra whitespace\n",
        "        doc = re.sub(' +', ' ', doc)\n",
        "          # remove stopwords\n",
        "        if stopword_removal:\n",
        "            doc = remove_stopwords(doc, is_lower_case=text_lower_case)\n",
        "        # lemmatize text\n",
        "        if text_lemmatization:\n",
        "            doc = lemmatize_text(doc)\n",
        "        normalized_corpus.append(doc)\n",
        "        \n",
        "    return normalized_corpus"
      ],
      "execution_count": null,
      "outputs": []
    },
    {
      "cell_type": "code",
      "metadata": {
        "id": "Im30K8yI8BtQ"
      },
      "source": [
        "print(text)\n",
        "normalize_corpus(text)"
      ],
      "execution_count": null,
      "outputs": []
    },
    {
      "cell_type": "markdown",
      "metadata": {
        "id": "2I6ppAA08F_n"
      },
      "source": [
        "Sin embargo, ahora nos encontramos en el \"problema\" en que tenemos que recordar invocar este método cada vez que querramos procesar el texto para usarlo en algún modelo.\n",
        "\n",
        "Luego, vamos a ver como integrar esto en las estructuras propias de ``sklearn`` para utilizarlo dentro del pipeline de clasificación."
      ]
    },
    {
      "cell_type": "markdown",
      "metadata": {
        "id": "L6biAG-KCyPf"
      },
      "source": [
        "### Bonus: modificando el pipeline de ```spaCy```.\n",
        "\n",
        "Como ya mencionó, ```spaCy``` define un pipeline por defecto que incluye:\n",
        "\n",
        "* ```tokenizer```\n",
        "* ```tagger```\n",
        "* ```parser``` (Análisis Sintáctico)\n",
        "* ```ner``` (Análisis Semántico)\n",
        "\n",
        "Ahora, a ese pipeline, le podríamos agregar un elemento propio que nos imprima información de lo procesado.\n",
        "\n",
        "**Nota**. Acá hay otra variación respecto a versiones más viejas de la biblioteca. Mientras que antes se permitía agregar el componenete pasando directamente el ``callable`` ahora hay que pasar el nombre del componente previamente registrado en el factory.\n",
        "\n",
        "**Nota**. Esta versión \"vieja\" de spacy es la que todavía se instala por default en Colab."
      ]
    },
    {
      "cell_type": "code",
      "metadata": {
        "id": "jZ8AKN3B_thf"
      },
      "source": [
        "import spacy"
      ],
      "execution_count": null,
      "outputs": []
    },
    {
      "cell_type": "code",
      "metadata": {
        "id": "kW7c5zqnQO9C"
      },
      "source": [
        "# componente original que podía ser utilizado de forma directa en versiones anteriores \n",
        "def my_component(doc):\n",
        "    print(\"After tokenization, this doc has {} tokens.\".format(len(doc)))\n",
        "    print(\"The part-of-speech tags are:\", [token.pos_ for token in doc])\n",
        "    if len(doc) < 10:\n",
        "        print(\"This is a pretty short document.\")\n",
        "    return doc"
      ],
      "execution_count": null,
      "outputs": []
    },
    {
      "cell_type": "code",
      "metadata": {
        "id": "lUQHBevTQO9C"
      },
      "source": [
        "nlp = spacy.load(\"en_core_web_sm\")"
      ],
      "execution_count": null,
      "outputs": []
    },
    {
      "cell_type": "code",
      "metadata": {
        "id": "Da-_quRECxlX"
      },
      "source": [
        "# version más vieja de la biblioteca, pasaba el callable\n",
        "nlp.add_pipe(my_component, name=\"print_info\", last=True)"
      ],
      "execution_count": null,
      "outputs": []
    },
    {
      "cell_type": "markdown",
      "metadata": {
        "id": "vrFa5kMqQO9D"
      },
      "source": [
        "**Nota**. Lo que sigue aplica para versiones de spacy > 3.0\n",
        "\n",
        "Para el registro en el factory (la clase ``Language``), hay dos opciones:\n",
        "\n",
        "1. Se lo usa como un decorator. Decorator con o sin parámetros. Para configuraciones statefull o stateless.\n",
        "\n",
        "2. Se lo usa como una función."
      ]
    },
    {
      "cell_type": "code",
      "metadata": {
        "id": "ZHZ1nASUQO9E"
      },
      "source": [
        "from spacy.language import Language"
      ],
      "execution_count": null,
      "outputs": []
    },
    {
      "cell_type": "code",
      "metadata": {
        "id": "Yo7AxFYVQO9E"
      },
      "source": [
        "# decorator del componente tal como lo teníamos definido antes\n",
        "\n",
        "@Language.component(\"print_info\")\n",
        "def my_component(doc):\n",
        "    print(\"After tokenization, this doc has {} tokens.\".format(len(doc)))\n",
        "    print(\"The part-of-speech tags are:\", [token.pos_ for token in doc])\n",
        "    if len(doc) < 10:\n",
        "        print(\"This is a pretty short document.\")\n",
        "    return doc\n",
        "\n",
        "# lo agregamos al pipeline\n",
        "nlp.add_pipe(\"print_info\", last=True)\n",
        "print(nlp.pipe_names) "
      ],
      "execution_count": null,
      "outputs": []
    },
    {
      "cell_type": "code",
      "metadata": {
        "id": "cZJT71WmQO9F"
      },
      "source": [
        "# Usage as a function\n",
        "Language.component(\"print_info2\", func=my_component)\n",
        "\n",
        "nlp.add_pipe(\"print_info2\", last=True)\n",
        "print(nlp.pipe_names) "
      ],
      "execution_count": null,
      "outputs": []
    },
    {
      "cell_type": "code",
      "metadata": {
        "id": "__RHfr6PQO9G"
      },
      "source": [
        "short_text = \"My car is broken\"\n",
        "nlp(short_text)"
      ],
      "execution_count": null,
      "outputs": []
    },
    {
      "cell_type": "markdown",
      "metadata": {
        "id": "_xmtIKx9C0-g"
      },
      "source": [
        "Los componentes también pueden ser metidos dentro de clases lo que permite que se agreguen componentes que mantengan su propio estado.\n",
        "\n",
        "Por otra parte, también podríamos deshabilitar elementos del pipeline:"
      ]
    },
    {
      "cell_type": "code",
      "metadata": {
        "id": "gA_O23j4C1rR"
      },
      "source": [
        "nlp = spacy.load(\"en_core_web_sm\")\n",
        "\n",
        "for word in nlp(text_list[3]):\n",
        "    print(word.text,word.tag_)\n",
        "\n",
        "print()\n",
        "nlp = spacy.load(\"en_core_web_sm\",disable=[\"tagger\"]) # al momento de carga\n",
        "for word in nlp(text_list[3]):\n",
        "    print(word.text,word.tag_)\n",
        "\n",
        "print()\n",
        "nlp = spacy.load(\"en_core_web_sm\")\n",
        "for word in nlp(text_list[3],disable=[\"tagger\"]): # al momento de usarlo\n",
        "    print(word.text,word.tag_)"
      ],
      "execution_count": null,
      "outputs": []
    }
  ]
}