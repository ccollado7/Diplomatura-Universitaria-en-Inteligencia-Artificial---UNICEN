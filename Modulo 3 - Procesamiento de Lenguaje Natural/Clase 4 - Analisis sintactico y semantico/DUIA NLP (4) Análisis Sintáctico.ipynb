{
  "nbformat": 4,
  "nbformat_minor": 0,
  "metadata": {
    "colab": {
      "name": "DUIA NLP (4) - Análisis Sintáctico.ipynb",
      "provenance": [],
      "collapsed_sections": []
    },
    "kernelspec": {
      "name": "python3",
      "display_name": "Python 3"
    }
  },
  "cells": [
    {
      "cell_type": "markdown",
      "metadata": {
        "id": "kgxbPe6dAKgA"
      },
      "source": [
        "# Procesamiento de Lenguaje Natural - **Análisis Sintáctico**\n",
        "\n",
        "Esta notebook presenta ejemplos de los diferentes aspectos relacionados con el análisis sintáctico vistos en clase."
      ]
    },
    {
      "cell_type": "markdown",
      "metadata": {
        "id": "4aQhTZ1JAI8y"
      },
      "source": [
        "En caso de que los ejemplos lo requieran, los ejecutaremos tomando como base el comienzo de \"Harry Potter y la Piedra Filosofal\"."
      ]
    },
    {
      "cell_type": "code",
      "metadata": {
        "id": "7i0kJUSSANcQ"
      },
      "source": [
        "text = \"Mr. and Mrs. Dursley, of number four, Privet Drive, were proud to say that they were perfectly normal, thank you very much. They were the last people you'd expect to be involved in anything strange or mysterious, because they just didn't hold with such nonsense. \\\n",
        "        Mr. Dursley was the director of a firm called Grunnings, which made drills. He was a big, beefy man with hardly any neck, although he did have a very large mustache. Mrs. Dursley was thin and blonde and had nearly twice the usual amount of neck, which came in very useful as she spent so much of her time craning over garden fences, spying on the neighbors. The Dursleys had a small son called Dudley and in their opinion there was no finer boy anywhere.\"\n",
        "\n",
        "text_list = [\"Mr. and Mrs. Dursley, of number four, Privet Drive, were proud to say that they were perfectly normal, thank you very much.\",\n",
        "                    \"They were the last people you'd expect to be involved in anything strange or mysterious, because they just didn't hold with such nonsense.\",\n",
        "                    \"Mr. Dursley was the director of a firm called Grunnings, which made drills.\"\n",
        "                    \"He was a big, beefy man with hardly any neck, although he did have a very large mustache.\"\n",
        "                    \"Mrs. Dursley was thin and blonde and had nearly twice the usual amount of neck, which came in very useful as she spent so much of her time craning over garden fences, spying on the neighbors.\",\n",
        "                    \"The Dursleys had a small son called Dudley and in their opinion there was no finer boy anywhere.\"]\n",
        "\n",
        "text_short = \"Mr. and Mrs. Dursley, of number four, Privet Drive, were proud to say that they were perfectly normal, thank you very much\""
      ],
      "execution_count": null,
      "outputs": []
    },
    {
      "cell_type": "markdown",
      "metadata": {
        "id": "X39iBO--MUGK"
      },
      "source": [
        "* La sintaxis y la estructura de las oraciones generalmente están relacionadas, y existe un conjunto de reglas, convenciones y principios específicos que rigen la forma en que se combinan las palabras.\n",
        "\n",
        "* El conocimiento sobre la estructura y la sintaxis del lenguaje es útil en diversas áreas:\n",
        "Procesamiento de texto, la anotación y el análisis para otras operaciones, como la clasificación o el resumen de texto.\n",
        "\n",
        "* Se realiza luego del pre-procesamiento de texto.\n"
      ]
    },
    {
      "cell_type": "markdown",
      "metadata": {
        "id": "GpFZMszt8KhU"
      },
      "source": [
        "A diferencia del análisis léxico tiene en cuenta:\n",
        "\n",
        "**Orden de las palabras y significado.**\n",
        "* Intenta determiner cómo son las dependencias entre las palabras.\n",
        "* Si se altera el orden de las palabras, puede dificultarse la comprensión de la oración.\n",
        "\n",
        "**Qué pasa con las stopwords?**\n",
        "* Si bien son comunmente eliminadas, para análisis sintáctico son implirantes.\n",
        "* Eliminarlas puede alterar el significado de una oración. Por ejemplo: “no”.\n",
        "\n",
        "**Los POS.**\n",
        "  * Identificar adecuadamente los POS es importante.\n",
        "    * “cuts and bruises” (noun)\n",
        "    * “an apple is cut” (verb)\n"
      ]
    },
    {
      "cell_type": "markdown",
      "metadata": {
        "id": "lHXaeBORAW2n"
      },
      "source": [
        "### Etiquetado de Part-of-Speech\n",
        "\n",
        "* Las part-of-speech (partes del habla o discurso) son categorías léxicas específicas a las que se asignan palabras en función de su contexto sintáctico y su función.\n",
        "* Con el contexto intentamos evitar la ambigüedad. \n",
        "\n",
        "* Son útiles cuando necesitamos usar el mismo texto anotado más tarde en aplicaciones más complejas porque podemos filtrar por tags específicos y usar esa información para realizar análisis específicos.\n",
        "  * Por ejemplo:\n",
        "    * Podemos reducir los sustantivos y determinar cuáles son los más destacados.\n",
        "    * Podemos guardar solo los adjetivos para hacer un análisis de sentimientos rápido.\n",
        "\n",
        "* La mayoría de los taggers se basan en la notación Penn Treebank.\n",
        "\n",
        "* Dos categorías de palabras:\n",
        "  * Cerradas. Tienen una categoría relativamente fija. Son palabras con “funciones claras” que tienen a ser cortas, aparecer frecuentemente y, generalmente, dan estructura al resto.\n",
        "    * Por ejemplo, preposiciones.\n",
        "  * Abiertas. Los conjuntos se modifican periódicamente.\n",
        "    * Por ejemplo, sustantivos y verbos.\n",
        "\n"
      ]
    },
    {
      "cell_type": "markdown",
      "metadata": {
        "id": "aPkZtbKCBL31"
      },
      "source": [
        "#### NLTK"
      ]
    },
    {
      "cell_type": "code",
      "metadata": {
        "id": "2Sx-ilHaMzj2"
      },
      "source": [
        "import nltk"
      ],
      "execution_count": null,
      "outputs": []
    },
    {
      "cell_type": "code",
      "metadata": {
        "id": "TIqFuga5MxMe"
      },
      "source": [
        "nltk.download('punkt') # necesita el tokenizer\n",
        "nltk.download('averaged_perceptron_tagger') # la primera vez tenemos que bajar el recurso..."
      ],
      "execution_count": null,
      "outputs": []
    },
    {
      "cell_type": "code",
      "metadata": {
        "id": "nCS3WbEVTfuD"
      },
      "source": [
        "import pandas as pd"
      ],
      "execution_count": null,
      "outputs": []
    },
    {
      "cell_type": "code",
      "metadata": {
        "id": "MqGh58i5BN3s"
      },
      "source": [
        "nltk_pos_tagged = nltk.pos_tag(nltk.word_tokenize(text))\n",
        "pd.DataFrame(nltk_pos_tagged, columns=['Word', 'POS tag']).T # solo para que se vea más \"bonito\"\n"
      ],
      "execution_count": null,
      "outputs": []
    },
    {
      "cell_type": "markdown",
      "metadata": {
        "id": "qCGSnyQ4BQQn"
      },
      "source": [
        "En la notebook de pre-procesamiento vimos que para poder hacer lematización con NLTK necesitábamos darle la etiqueta POS para que pudiede identificar correctamente cuál es la raíz de la palabra.  \n",
        "\n",
        "Ahora que podemos obtener los POS de las palabras, podemos construir una función para obtener los lemmas utilizando ```NLTK```."
      ]
    },
    {
      "cell_type": "code",
      "metadata": {
        "id": "U8xqbHt0NUaZ"
      },
      "source": [
        "from nltk.corpus import wordnet\n",
        "from nltk.stem import WordNetLemmatizer "
      ],
      "execution_count": null,
      "outputs": []
    },
    {
      "cell_type": "code",
      "metadata": {
        "id": "RhFQSbu1NjZV"
      },
      "source": [
        "nltk.download('wordnet')"
      ],
      "execution_count": null,
      "outputs": []
    },
    {
      "cell_type": "code",
      "metadata": {
        "id": "aLuMsMayBQ8j"
      },
      "source": [
        "from nltk.corpus import wordnet\n",
        "\n",
        "def wordnet_pos(treebank_tag):\n",
        "    if treebank_tag.startswith('J'):\n",
        "        return wordnet.ADJ\n",
        "    elif treebank_tag.startswith('V'):\n",
        "        return wordnet.VERB\n",
        "    elif treebank_tag.startswith('N'):\n",
        "        return wordnet.NOUN\n",
        "    elif treebank_tag.startswith('R'):\n",
        "        return wordnet.ADV\n",
        "    else:\n",
        "        return ''\n",
        "\n",
        "def lemmatize_text(text):\n",
        "    wnl = WordNetLemmatizer()\n",
        "    lemmatized = ''\n",
        "    for word in nltk.word_tokenize(text):\n",
        "      pos = wordnet_pos(nltk.pos_tag([word])[0][1])\n",
        "      if pos != '':  \n",
        "        lemmatized = lemmatized + ' ' + wnl.lemmatize(word,pos)\n",
        "      else:\n",
        "        lemmatized = lemmatized + ' ' + word\n",
        "    return lemmatized\n"
      ],
      "execution_count": null,
      "outputs": []
    },
    {
      "cell_type": "code",
      "metadata": {
        "id": "7-TbvvPaBUPD"
      },
      "source": [
        "lemmatize_text(\"My car is broken.\")"
      ],
      "execution_count": null,
      "outputs": []
    },
    {
      "cell_type": "markdown",
      "metadata": {
        "id": "mXkz23NQBWWR"
      },
      "source": [
        "#### spaCy\n",
        "\n",
        "El etiquetado POS está incluido en el pipeline por defecto. "
      ]
    },
    {
      "cell_type": "code",
      "metadata": {
        "id": "sgcSCd-NN8dh"
      },
      "source": [
        "pip install spacy"
      ],
      "execution_count": null,
      "outputs": []
    },
    {
      "cell_type": "code",
      "metadata": {
        "id": "X1Sr5hauNxvk"
      },
      "source": [
        "import spacy"
      ],
      "execution_count": null,
      "outputs": []
    },
    {
      "cell_type": "code",
      "metadata": {
        "id": "54i_xed0-QJO"
      },
      "source": [
        "spacy.cli.download('en_core_web_sm') # en caso de que lo necesitemos"
      ],
      "execution_count": null,
      "outputs": []
    },
    {
      "cell_type": "code",
      "metadata": {
        "id": "sioN23mxTakJ"
      },
      "source": [
        "nlp = spacy.load(\"en_core_web_sm\") "
      ],
      "execution_count": null,
      "outputs": []
    },
    {
      "cell_type": "code",
      "metadata": {
        "id": "QG8gGxR4Badt"
      },
      "source": [
        "doc = nlp(text) \n",
        "for token in doc:\n",
        "  print(token.text, token.pos_) "
      ],
      "execution_count": null,
      "outputs": []
    },
    {
      "cell_type": "markdown",
      "metadata": {
        "id": "bSuAxXeteOWG"
      },
      "source": [
        "#### Stanza\n",
        "\n",
        "El POS tagging es uno de los componentes por defecto del pipeline."
      ]
    },
    {
      "cell_type": "code",
      "metadata": {
        "id": "3FqkZ-Qrekpo"
      },
      "source": [
        "pip install stanza"
      ],
      "execution_count": null,
      "outputs": []
    },
    {
      "cell_type": "code",
      "metadata": {
        "id": "UZub2RKuekGu"
      },
      "source": [
        "import stanza\n",
        "stanza.download('en') # hay que descargar los modelos para el lenguaje que querramos analizar"
      ],
      "execution_count": null,
      "outputs": []
    },
    {
      "cell_type": "code",
      "metadata": {
        "id": "advvPjwVemGP"
      },
      "source": [
        "nlp_stanza = stanza.Pipeline(lang='en', processors='tokenize,mwt,pos')\n",
        "\n",
        "text_short_stanza_doc = nlp_stanza('Barack Obama was born in Hawaii.')\n",
        "\n",
        "print(*[f'word: {word.text}\\tupos: {word.upos}\\txpos: {word.xpos}\\tfeats: {word.feats if word.feats else \"_\"}' for sent in text_short_stanza_doc.sentences for word in sent.words], sep='\\n')"
      ],
      "execution_count": null,
      "outputs": []
    },
    {
      "cell_type": "markdown",
      "metadata": {
        "id": "lKV_ked6Amls"
      },
      "source": [
        "### Shallow Parsing\n",
        "\n",
        "* El shallow parsing es una técnica de análisis de la estructura de una oración que agrupa los tokens en frases de un nivel superior de abstracción.\n",
        "\n",
        "* El objetivo principal del análisis superficial es obtener frases semánticamente significativas y observar las relaciones entre ellas.\n",
        "\n",
        "* No profundiza en los detalles de la sintaxis interna ni todas las relaciones dentro de cada fragmento, como si hacen otros tipos de parsing.\n"
      ]
    },
    {
      "cell_type": "markdown",
      "metadata": {
        "id": "qvdnIjA1S0lU"
      },
      "source": [
        "![image.png](data:image/png;base64,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)"
      ]
    },
    {
      "cell_type": "markdown",
      "metadata": {
        "id": "V4COAjsGS7w5"
      },
      "source": [
        "![image.png](data:image/png;base64,iVBORw0KGgoAAAANSUhEUgAABQgAAADUCAYAAADQpM6dAAAgAElEQVR4Ae2dwa71vJKWe8DVchHMesoVcAFcAGIGYtizFgMkGgmhlkCiRQs10C36qIGD3vOpzvd+/l0rTlLOSpwn0pa9HLtcfqrKSWpn7f0nv+eAAAQgAAEIQAACEIAABCAAAQhAAAIQgAAEXkvgT167chYOAQhAAAIQgAAEIAABCEAAAhCAAAQgAAEI/J4EIU4AAQhAAAIQgAAEIAABCEAAAhCAAAQgAIEXEyBB+GLjs3QIQAACEIAABCAAAQhAAAIQgAAEIAABCJAgxAcgAAEIQAACEIAABCAAAQhAAAIQgAAEIPBiAiQIX2x8lg4BCEAAAhCAAAQgAAEIQAACEIAABCAAARKE+AAEIAABCEAAAhCAAAQgAAEIQAACEIAABF5MgAThi43P0iEAAQhAAAIQgAAEIAABCEAAAhCAAAQgQIIQH4AABCAAAQhAAAIQgAAEIAABCEAAAhCAwIsJkCB8sfFZOgQgAAEIQAACEIAABCAAAQhAAAIQgAAESBDiAxCAAAQgAAEIQAACEIAABCAAAQhAAAIQeDEBEoQvNj5LhwAEIAABCEAAAhCAAAQgAAEIQAACEIAACUJ8AAIQgAAEIAABCEAAAhCAAAQgAAEIQAACLyZAgvDFxmfpEIAABCAAAQhAAAIQgAAEIAABCEAAAhAgQYgPQAACEIAABCAAAQhAAAIQgAAEIAABCEDgxQRIEL7Y+CwdAhCAAAQgAAEIQAACEIAABCAAAQhAAAIkCPEBCEAAAhCAAAQgAAEIQAACEIAABCAAAQi8mAAJwhcbn6VDAAIQgAAEIAABCEAAAhCAAAQgAAEIQIAEIT4AAQhAAAIQgAAEIAABCEAAAhCAAAQgAIEXEyBB+GLjs3QIQAACEIAABCAAAQhAAAIQgAAEIAABCJAgxAcgAAEIQAACEIAABCAAAQhAAAIQgAAEIPBiAiQIX2x8lg4BCEAAAhCAAAQgAAEIQAACEIAABCAAARKE+AAEIAABCEAAAhCAAAQgAAEIQAACEIAABF5MgAThi43P0iEAAQhAAAIQgAAEIAABCEAAAhCAAAQgQIIQH4AABCAAAQhAAAIQgAAEIAABCEAAAhCAwIsJkCB8sfFZOgQgAAEIQAACEIAABCAAAQhAAAIQgAAESBDiAxCAAAQgAAEIQAACEIAABCAAAQhAAAIQeDEBEoQvNj5LhwAEIAABCEAAAhCAAAQgAAEIQAACEIAACUJ8AAIQgAAEIAABCEAAAhCAAAQgAAEIQAACLyZAgvDFxmfpEIAABCAAAQhAAAIQgAAEIAABCEAAAhAgQYgPQAACEIAABCAAAQhAAAIQgAAEIAABCEDgxQRIEL7Y+CwdAhCAAAQgAAEIQAACEIAABCAAAQhAAAIkCPEBCEAAAhCAAAQgAAEIQAACEIAABCAAAQi8mAAJwhcbn6VDAAIQgAAEIAABCEAAAhCAAAQgAAEIQIAEIT4AAQhAAAIQgAAEIAABCEAAAhCAAAQgAIEXEyBB+GLjs3QIQAACEIAABCAAAQhAAAIQgAAEIAABCAwlCP/X7/4PpCAAgRsTmB2js+XfGC2qQeARBGbG6EzZj4CLkhB4AIGZcTpT9gPQoiIEbk9gdozOln97wCgIgZsTqIzRoQShePyjP/1X/MAAH7ipD1yxZ7EHsAfiA/f1gdl7ALa/r+2xDbaRD8w+8DP8DB+4rw/Mjn/Jx/73tT+2wTaVewAJwpsmfAh0An2PD1RuCpmsPfrQF//FB671gSxuq9qx57X2hDe89/pAVaxncvbqQ398GB+4zgeyuK1sx57X2RPWsN7rA5WxToKQBCG/EVrAByo3hUzW3o2K/lzc8IHrfCCL26p2bHmdLWEN6yM+UBXrmZwjOjEGX8YHrvGBLG4r27HlNbaEM5yP+EBlrJMgXCA5dMSJGLPW5lO5KWSy8Jm1fAZ7rmXPLG6r2vGXtfwFe65nz6pYz+TgM+v5DDZdx6ZZ3Fa24y/r+Au2XM+WlbFOgpAEIW8QLuADlZtCJouLyXoXE2y6jk2zuK1qx1fW8RVsuaYtq2I9k4PfrOk32HUNu2ZxW9mOr6zhK9hxTTtWxjoJwgWSQwT6moG+x66Vm0Ima48+9MUn8YFrfSCL26p27HmtPeEN770+UBXrmZy9+tAfH8YHrvOBLG4r27HndfaENaz3+kBlrJMgJEHIG4QL+EDlppDJ2rtR0Z+LGz5wnQ9kcVvVji2vsyWsYX3EB6piPZNzRCfG4Mv4wDU+kMVtZTu2vMaWcIbzER+ojHUShAskh444EWPW2nwqN4VMFj6zls9gz7XsmcVtVTv+spa/YM/17FkV65kcfGY9n8Gm69g0i9vKdvxlHX/BluvZsjLWSRCSIOQNwgV8oHJTyGRxMVnvYoJN17FpFrdV7fjKOr6CLde0ZVWsZ3LwmzX9BruuYdcsbivb8ZU1fAU7rmnHylgnQbhAcohAXzPQ99i1clPIZO3Rh774JD5wrQ9kcVvVjj2vtSe84b3XB6piPZOzVx/648P4wHU+kMVtZTv2vM6esIb1Xh+ojHUShCQIeYNwAR+o3BQyWXs3KvpzccMHrvOBLG6r2rHldbaENayP+EBVrGdyjujEGHwZH7jGB7K4rWzHltfYEs5wPuIDlbFOgnCB5NARJ2LMWptP5aaQycJn1vIZ7LmWPbO4rWrHX9byF+y5nj2rYj2Tg8+s5zPYdB2bZnFb2Y6/rOMv2HI9W1bGOglCEoS8QbiAD1RuCpksLibrXUyw6To2zeK2qh1fWcdXsOWatqyK9UwOfrOm32DXNeyaxW1lO76yhq9gxzXtWBnrJAgXSA4R6GsG+h67Vm4Kmaw9+tAXn8QHrvWBLG6r2rHntfaEN7z3+kBVrGdy9upDf3wYH7jOB7K4rWzHntfZE9aw3usDlbFOgpAEIW8QLuADlZtCJmvvRkV/Lm74wHU+kMVtVTu2vM6WsIb1ER+oivVMzhGdGIMv4wPX+EAWt5Xt2PIaW8IZzkd8oDLWSRAukBw64kSMWWvzqdwUMln4zFo+gz3XsmcWt1Xt+Mta/oI917NnVaxncvCZ9XwGm65j0yxuK9vxl3X8BVuuZ8vKWCdBSIKQNwgX8IHKTSGTxcVkvYsJNl3HplncVrXjK+v4CrZc05ZVsZ7JwW/W9BvsuoZds7itbMdX1vAV7LimHStjnQThAskhAn3NQN9j18pNIZO1Rx/64pP4wLU+kMVtVTv2vNae8Ib3Xh+oivVMzl596I8P4wPX+UAWt5Xt2PM6e8Ia1nt9oDLWSRCSIOQNwgV8oHJTyGTt3ajoz8UNH7jOB7K4rWrHltfZEtawPuIDVbGeyTmiE2PwZXzgGh/I4rayHVteY0s4w/mID1TGOgnCBZJDR5yIMWttPpWbQiYLn1nLZ7DnWvbM4raqHX9Zy1+w53r2rIr1TA4+s57PYNN1bJrFbWU7/rKOv2DL9WxZGeskCEkQ8gbhAj5QuSlksriYrHcxwabr2DSL26p2fGUdX8GWa9qyKtYzOfjNmn6DXdewaxa3le34yhq+gh3XtGNlrJMgXCA5RKCvGeh77Fq5KWSy9uhDX3wSH7jWB7K4rWrHntfaE97w3usDVbGeydmrD/3xYXzgOh/I4rayHXteZ09Yw3qvD1TGOglCEoS8QbiAD1RuCpmsvRsV/bm44QPX+UAWt1Xt2PI6W8Ia1kd8oCrWMzlHdGIMvowPXOMDWdxWtmPLa2wJZzgf8YHKWCdBuEBy6IgTMWatzadyU8hk4TNr+Qz2XMueWdxWteMva/kL9lzPnlWxnsnBZ9bzGWy6jk2zuK1sx1/W8RdsuZ4tK2OdBCEJQt4gXMAHKjeFTBYXk/UuJth0HZtmcVvVjq+s4yvYck1bVsV6Jge/WdNvsOsads3itrIdX1nDV7DjmnasjHUShAskhwj0NQN9j10rN4VM1h596ItP4gPX+kAWt1Xt2PNae8Ib3nt9oCrWMzl79aE/PowPXOcDWdxWtmPP6+wJa1jv9YHKWCdBSIKQNwgX8IHKTSGTtXejoj8XN3zgOh/I4raqHVteZ0tYw/qID1TFeibniE6MwZfxgWt8IIvbynZseY0t4QznIz5QGeskCBdIDh1xIsastflUbgqZLHxmLZ/BnmvZM4vbqnb8ZS1/wZ7r2bMq1jM5+Mx6PoNN17FpFreV7fjLOv6CLdezZWWskyAkQcgbhAv4QOWmkMniYrLexQSbrmPTLG6r2vGVdXwFW65py6pYz+TgN2v6DXZdw65Z3Fa24ytr+Ap2XNOOlbFOgnCB5BCBvmag77Fr5aaQydqjD33xSXzgWh/I4raqHXtea094w3uvD1TFeiZnrz70x4fxget8IIvbynbseZ09YQ3rvT5QGeskCEkQ8gbhAj5QuSlksvZuVPTn4oYPXOcDWdxWtWPL62wJa1gf8YGqWM/kHNGJMfgyPnCND2RxW9mOLa+xJZzhfMQHKmOdBOECyaEjTsSYtTafyk0hk4XPrOUz2HMte2ZxW9WOv6zlL9hzPXtWxXomB59Zz2ew6To2zeK2sh1/WcdfsOV6tqyMdRKEJAh5g3ABH6jcFDJZXEzWu5hg03VsmsVtVTu+cs5X/vG//Pe//9f/6b//4Ud1eJ7jCb/f8quK9UwOzH/L/Eomb9tD/sV/+G9/2C9VXsn5qXNlcVvZ/lQ26P3dvQv+Of/Kfa4y1kkQLpAcIvDywHsLm8pNIZP1Fpask3h6og9kcVvV/kQmd9JZycE4VM90+6d/9pe/1092/untSnJofSRJ6/fZ8K9Z5dN97+n6j+4hT19n6O9+HG2U+b7hvGbV4Z/zX4nNrOv0LLlPZu+xenYdLutsnQQhCcJlH0TOBtqTxp/dCEbGP4kHur7jJgY7/7TzSAyf6bMaaz1s/+Xf/O8//vyTf/Mfp14LRx7u/8ff/8MfTfRv/+v/nKrPN+ypxKAfs5l/Y43fnNPZzqh/c213nPuOe8gdOR3VyX34qIw3jXNes+pHeWqv/4u//rs/Xm/92qtrnWJJb1JxTfh5T3eU9dlxs67Ts+SeXe+3x3usntXFZZ2tkyAkQbjcQ8jZAHvi+LMbwcj4J3JB5+/fbGCDa2wwEsNn+qxkR/0Wuz1mJ+RGEoSukx6gVmKutTgDrVWfV1vjN9fj/jOj/s213W3uu+4hd+N0Rh/34TNy3jLWec2qH2Wp5ODo8Vd/+7ul36I/yvCqcbOu07PkXsVl1jweF2fncFln6yQISRByg76AD5zdCEbGn924GH9NogjO7+Q8EsNn+qzkV3pToXfMXKPfHGeJsb//h//7R7X0QDVTnwrZSpLEmyDZmnyef/7v/usf16fKP/vz/3L7Nbr+d6//AnfCh7uv/0r97rqHXMlg9lzuwrPnWkG+85pVP8pJ14m9h64XR+dj3PH74NHrNNf/44zdPz0uvP1I3WWdrZMgXCA5dMSJGFMT2HfheHYjGBl/l7Wix1q+iz1r7DkSw2f6rGQnvaEQhyflZj6QjCQI9RUc9VPy4Qm8/StDo288irHWOJP1E9jN0DF8elY5Q+enyrzrHvJUnj293Y9752n79d7Bec2qH2XuCcLeL5N0Lfmz//w3v1Fb7UfnZNyv/rGHx8h1muv/cb5uC3d6bz9Sd1ln6yQISRCy+S7gA2c3gpHxRzYrxtRcQOAIxy0fGInhM3225n/Kef2Nozj0kO8PJaNJriNrHUkQHpH7zTFHHhC+qe/qc4dfzypX5ze6PvaQa67H7sejtnlzP+c1q36U71aCMOR6bGkN+ru8cY7ymrgb5cz1v8YeHquj7LN+LutsnQThAsmhzFForwneJ3A8uxGMjH8CB3R8j89j619tPRLDZ/qswtsTgvFH0Z2LvjYzY60kCH/11xmM3y7T/XhG/e18Y/3sIdfEsvtwsKfM2TuvWfWj/EcThJLv10qtg39cktv8qD0qxpEgrLGLx+pZu7iss3UShCQIpzwMnXVyxu/beM5uBCPjsck+m8ALXlf6wEgMn+lz5VpmzuX/KTiSgd525uu9umHWw41+2r+v5w89qmdrlIw9D0RaQ3wdSHJVj3Vlc2TtmjdkiYN0yfqq/cgDgnTTuJ6Oas/OZXpI59Exlawyfb7Zfia+R8Z+c213mtv3i/Bjb/vGHnLn2ImYb20Ye022Z7lP+tg2jrV2P//WuvOaVT/Kdk+CUHu6H+21VDoc9SnXv/WjzA99TNTjuhOfvQy/1vX4jG9qrGTEzxlZYhhypJ/0d53bevBV2Z6Lz9InjtFvX4zIDflenmUR87pM1dUe9opfGLd9tj6LpfMduXdymcFQpbcfqbuss3UShCQITzvkESdmTG3y5OxGMDIem9XaDJ7wrPSBkRg+06dS12/J0k1cHPp6cejhbwTpQT/aR0vdePvfMow51KZzkqMyjmhr5ftD1FaSQTfM3j9kR6lzow8U4uIJjpCh0tcgff2hwPv16r2HBu/n63e5mtPPZXUfI7mf+lWxyua4Q7uznVG/wxq/rcMd9xCPgzvGTvhi7Ad6oJaefvT2XT8fdtd/m+8dkifbRL83lj0u1W1Hufr+m13/XLbr3esf5/f6lOZQvLg+IStKnVMf16etR1//Z2KffHPreh7yFRtb//FZ5z8l7kKWykwn6a+YyxKFsT6VLs/3Gu/Tq4dtfLz38/ZevZJFzOs6ZWw+cXE95ZfZfZPm057U812Xobof7bm9n13W2ToJQhKEvwT/Xmek/z2SHGc3gpHx2PoetsYO2KHnAyMxfKZPb86ntfkNod+w60bUj+ymubferZt5ydVNqSchs5tG9Ysj6yMd9Bvv0UN9e3pHmzP5JDMSqjMfEHz+Lb2lv+vuD2qxNpWVrFzuHevOb0b9jmu+Wif3uTvtIW7vu8VO6Kb9TXtrmxyM860to12lxn16GI++bpNW3uqfg8HM8ijD0WtbyPc19Pw5zu/1qarrQTv/iG/qHiDW1yv36KYY6nFxuf6PlELfthQ/HxN17xdtKmde/32eahaxni1/iX7im90HKjmb7WEx3sstu3tfZ3Ck7rLO1kkQkiDsbg5HHJMx30tcnN0IRsZj3+/ZF/aw3/KBkRg+02dr/iec95u6Vl+/md66oYuxSuL5oZtP3djqJlqlPveOLPnn/bM+7Y2zEhZ+I6t6m7T086G7yp7+egtH+utH5/3BJ+SoXT+eLFG/aI+y90aP83BdVHd5WcLPx7g9e3NVsvJ571p3tjPqd133lXq5z7XzfnMPuXPshC+Kj/OTztorFOvaP1qeMU6lj9P+7HuUn1NfnWtlveGz85pVP8px5NoWsmU/P3r2jPN7fKryehDzy2/d/+TT4ZtKVvs5jemtRevW9csPydX4kKVSft/Ki2tysItScRWHGPm8SnBJtuaQXWKMlzFWpberHtd333MkK9qj7F2TP8mNeapZSG4cbi+x9L3E16P+6hs6eelsxU9+5XaQ/n4tkCw/77JcN/Vrz+39HOusKEkQkiA87ZB7HZj+9cmOis1gSwZ2q7cbTGFa5QNb8Xv2fJWe35LjDwe95JNumOPIbgxdd91k+6GbSz8fdZcb/XWDGee9HHmI8gcEyfbxXvckYe8hYFR/ydRNtA6N8Tn00BFHbw7vG/XorzLaomwfDKK9V3pfMen1qWLVk33HNmc7o37HNV+p0533EI+HXmw5J+97Rey0vqg5Pz0wh67tOD1098apzWN9dC+KeVYpW14zPh9lNXJtC9meqMn8s13biE+5j5y5dkrP9tA9wxnfdN3k58GiLUd93eW1122XmZ3z9Xl/r1df/0O2617BQnLbI9tL2vu1zKa6v/Kka+jupXwiDt1D+TmvRx+V3n6k7rLO1kkQkiA87ZBHnJgxtYmRsxvByHhsVmszeMKz0gdGYvhMn0pdvyHLE2Z60G91aBNmeohu+/hnv5HUDa2fa+ueWJANjiYIfc6Rh2C3d/sgEEk/9RlNiLbrmvGA4A8Hnx7i/CGyl5ytZNWu+66f3d4z6ndd91V63X0PuWvstL649WAd9vRxW3uUv9Wjce1+FzJXLp3XrPpRfqMJwtFrZbu+LZ+qvh74/Fu+6XNrXOubfn7rXkL8W0a9JJbrd8RmI+NnXP9nsND6/fiUdFRfT+xl92ojTH1P+nS/5rqNyP3Ux2WdrZMgJEH48cHmkyNy7j4JjrMbwch47H0fe2MLbNH6wEgMn+nTzve0z772THfdOMbRSzr5OH/g+fTb4RjjCa3sptNl9vq4fr0kZ8wVpctrE55+E6yb8hizp5zxgOCcPt3IezKk93BYyWoPk2/2Dd+dVX5zbXeY27lm+rjfXb2H3DV2nNvIXhlsfVwvCRL9ovT+I/tjjFul9PXPqh9l5dei3rVN1ydPwEv/T/u/r2/EpzwuR3zD9W2vnWLgx1nfdN1G1qL5/frX4+n69a6PW3b08VnfGdf/GSz22sv30VF79BiN8hlh3ZPfa3NZZ+skCEkQHnow6Dkmbd9LWpzdCEbGY9/v2Rf2sN/ygZEYPtNna/47n/ffSushJNPV+239Jt9Z9h4g2jl0Ex9H74Ze/f2hpNcnxqsceSjxB65Wnss68gAhfUdvgJ2Fz+vtUde6/GjftlA/8Y4je3sjzqs8yyp0u3vpa55Rv/v6Z+rne8Nd95C7xo774h4b7R3nyYV2v9sz71P7Oq9Z9aNs/No2opts+WnfdhkjOnn/T3JD1qdrp/r4EWM+lZ9802WNXotdP7Ft5/bzupcZSYq6DNfJ270+4/rv81axkM5++Bp6de0dcfTY9sb02kb5xFwqe3L2tLmss3UShCQITzvkHuel75xEx9mNYGQ8tptjO7jCtcIHRmL4TJ8KHb8lw2/Ot26UndGnvt5v5IHDbzqzh1d/iGr7tA//6rv1428Jujy/cdU6jtrF5YzeSDu3bF7Xu/d249Zv+CtZZTresd3Zzqjfcc1X6fSUPeSOseO+uMdee8f5/vkpibtHhyf1dV6z6kd5uG0+6aZkll+rsvlcRtYn2mdcD/bMLz18/e6bfg2VzNB5qxSjOHrXXv1izd8yVF/tDb3raW+ukK2yd15trntPh964T3Jd3qd5W7lbLNTfj3Z8+3lEno8Ra/3SUuP8x+9TPvHZo5vP26u7rLN1EoQkCNPg7zkfbfdMZpzdCEbGY/t72h67YBf5wOzjqX6mmzc/ttbhv3n3G3kfd+RG1m86VXd5UfeHiLZPO6evaaTu8lpZMf/e0uV8ugF2ua6rt3tdX+uJQ4kZP6e6P/j0krOuV8jZUzqrdu47f96zxiN977z2mbo9aQ+5Y+y4r+2x095xvn+O7kd79Ll7X+c1q36UgdtGiSp91o/8VfutfrRvj8r39W2NmXE92DO/9PP1qx46t7pF+1YpXnG4PB+na6P/wiD66/qp5JX2Ne/v9eir0tu97rpnOnh/1f1oz7m8T/O240ZYfJr3iDyN0S+Qe3x9rqh/4hN9VLa67P3sss7WSRCSIDztkHsdmP71CY2zG8HIeOxWbzeYwrTKB0Zi+EyfKj2vluMPzEfW37uJPnIj6zexqvc46CYyjrZPO6fO7/nx+VpZfm5P3eV8ugF2mbE+ld7u9TYh4zbwrxf3koeS43ppnj2cWu6u193rznZG/e7rn6Xfk/aQO8aO++IeG+0d5/vn6H60R5+793Ves+pHGbhtKvZYX9+WTjOuB3vml36+fvfNVrettcR5MYzD5cV5L5XI8jegY5wShb1fsGmsHy7L6677lg4x7pNcl6d+MWarHGHxad5W/og8t2fIVpv/OPNPfGL8njW3Osdnl3W2ToKQBOFwEIYDUt4vqXF2IxgZj93vZ3dsgk3CB0Zi+EyfmOdp5ehveDM2va/ktA/hurHd4uI3nar3+vtNZ9vn6M1zb54qWS7n0w2w6+Ccvb2t+82128C/tuPtPt710nx+buW6s51RX5ndp7U9aQ/ROu4WO+6Lnzi35/aO8/1TSd1W3uqfndes+lGGbpv22nZEpq9va/yM68Ge+aWfr99986hufj8xeu1VMtCvn1qDkoT+C7hgObI+131Uh09yXZ76hS5b5QiLT/O28rfk+S+MxG/kPuQTnz26tbq2n13W2ToJQhKEw0HYOiKf75OcOLsRjIzH3vexN7bAFq0PjMTwmT7tfE/4rBtiP3TjN/LjD9iq99bqcr/xT0p0M93Ta6TtSIKzJ9dv6D/dAPtY5+btbV033XG4DXRDHkfvwSbkRB+VZ1iFvCeUvuYZ9ScwqNbxaXuI1n+32HFf3GOfveM8kat9fs9cK/R1XrPqRznp+hBHhW1ClsoRnbx/xfXA5Y3M/8k3Xdaobs7TE44jumhP8+tozx6uUyZzxvXf561k4XKz9US7eMTRu6+Jcyo//Z3qUT4uL3Q4Wrqss3UShCQIhzbX1ll1A6IgyjLnbX8+z01onN0IRsZjw/02XCFOVljDG3x3JIbP9HkiQ/9tefb3BHvr0k2fH71ElCcRR27Q/W8b9m7IpYff9Pf6+EPG2Wvv1gNCj0vbNnoD7OOcq7e39TaJqc/+9eIte1ayanW762dnO6N+13XP1Otpe4hY3C123Bf32MrHKanxaWy75tHkwieZTzvnvGbVjzLZurbtlevrGxlbfT3w+bd8s/0lQ+ubrtvIvYTW68enJFXGxt+C20qCZTJmXP9nsXBe2Xqi/VOC0NcsmTGmV3rfHuMYs0e3GJOVLutsnQQhCcKPDj7ihFkf2vcnlI4yO7sRjIw/qtubxznXp3JYYQ1PZb9Hb7fTjPoeXe7S15Nge2+inWHvpt1vsDXPpzV7kkFye8k/jd96iPI5dSP9ac6tc67TiKxeQtJvgLcYhD7ONdqy0pOqWrvrvGXPSlaZfndrd7Yz6ndb7xX6PG0PCSZ3ih33xdBvpPRxssOnRIzvDaN70YgOT+rjvGbVj/LYurbtlevrGxlbfT3w+c/65l7f9QTWUV93Gb1ftvn6Mr4zrv+zWIysJ9bpbGwHtyEAACAASURBVNrEnq9ZMmNMr9Q9UxytHO8ffbbk+Zis7rLO1i9NEGpzl/EFSuXWDV4LIMZmN9dtfz7/TFCJvTYBsW9/xFVM5cyfLsDO0x3P26n/ZH4lC7fHrPqM9ei3vuGPvYvU6Jy6+Iecka/7jco9289tcVbW6Hhi/TsxOGqfWf3c12bUZ+k9S66/bSYee+fxB+xeAk1x5oeuo7051N4e2T2M9rA4en3at2SyOV0P3dD29sT2RjeTFXu09NIYl90yaM9736jH+lRGW1bqHjEOf7NgZGwlq0y/u7UHq1nl3dY7W58n7iHB5E6x4/4Y+o2UPk71LBHja1W/3t45Mt/T+7S8Znw+ymjr2rZXrq9tZGz19cDnV/2Mb7a6+Z/UaNc24uu6Dut6Lrnt+Pjs9uj98s/XF2Pacsb1v5pF6Dyynuir/SMOcYp2la1+soefj7onByWrlRP9VPrh7UfqLuts/dIEod9wh+I9x+xBaW9me31oyx+Me+zDBm2pzWnrRt/HwD3nfhUbt8es+oy1tBeYbLPdmtvX3HsY3ho/67zrNWuOVi6x/v14bG1yxWf3tRn1K9ZQOYfHgep7ZbfJgd410ecQc90E6p5GfXWT6Ukt/0py9gDrN+1ZH7951ZyaI+bUvPqR7vqlScyf3Zy2+qu/5Gu8ZLbJzR4DPRjFobrGaR/X2F7SMfqqHLGJ9496T25PViWrnvy7tQWfWeXd1jtbH4+Pp+whzqTnB9+IHdfD9duqxzjtS77PaA3aY2KfiX4q1XdL7qrnncOs+lF2I9e2PbJ9faPjKq8HPn+Fb7a6Saau4XFN13XVGWr+LJHoshQrup6HHNVdjubp8fP19c5Hm69d9Yrrv+svPc6wCD1H16P+Pn/v3qnlpzVHMrblG/P25BzRLcZkZcxXUV6aIHSooXzmnO3i5dx+tOf5/PmhuMfeefbqn5I13h/2n9lfwcftMas+ax3xECu9j9yEy0/jGN1PZq2llRt6qWzPzfpMrH8/HmfZ9pNc97UZ9U9z3/GcM/h0Lfuku/aTOLIHa0/8Rd+21A2n38Poc29ej92sj8b516XauXqfP+2rI/pLZrZ+v5lu59Z62nV6n/Zc77PmbQ/dhPf69toqWfXk36mt5VT9+U5rvUIX5/eUPcS53CV2nKPrt1WPcdpH9Mtk34/jnJc6r35bclc97yxm1Y+yG722jcr39Y2OUb+q64HPX+WbvXj1ebzeu7YGB38m8jG9enYt9b4ht1fOuv5XsQidR9ej/r6mHucRe2s+t0NPzhHdYkxW+jrP1r+eINQCFLDZYqPdb641Jtopxx6GtzZn8e1tnGrvMXbH652nbcwuVZzcHrPqVbq2cvTbFz/a81uf/bf8I3vJlrzK82fWdVQPYv3a2Dtqp+px7msz6tX6zpTn9wtnfmngN6mf3kzpXTtlA8ViXEN1UxlHlvzbil1nJrm+94VsL5X80/7q43p16eO/qGllbCVH/Ibax/bW6ed7urRtbkuNPWLPSlatfnf67Gxn1O+01tm6uN8d8bnQ7+o9JOZV6Wv4Zuy4L7p+W/UYF7/g0Fs6vkfGeZXiHG/xbMld9bzzmFU/ys6vVSPXpK15fH1bfdvzFdeDdn75nq/Rz+/xTemW+bhk6pq+dT3WepX4+/TLP+n6KZnu+rf82s+zrv9VLKSvH63+7Wd/Jo29p+3zyd6yX7CN+yq1tTLi8x7dYkxWuqyz9a8lCP2iqUVsbezthS6DQ3v/4dg3nN5Ne3DzhxjZJXsocseLsZR99ldwcXvMqs9ah2Lfj5GLn+viY2NT9vPfrLtuV+lBrH8vDq+ycW8e97UZ9d6ctP3qa7pPiZ+te5oeu9HYbcfGnF62fUY+a/88I+PM2BH9Kvq4jlGvkHsHGTPi3mXeYY2r6xA+qfLIHjKTj+sW9ZnzZbLFJeZXmfV7W7vH6qz6akzdj6I+skbn6/0rfTP0ifLofhDjo3R9K+shX2WlXMly2aofZVGtV6vbt/Vyvzxb/1qCUAaOzKoWkWVpw5jq70e0U/76gJLx2PPg0f42oJd0wRZj3DN7VLe7PWbVq3V2ef6brq29wMf5K9xZMtv7X113W1w1N7F+r9i8yu7uazPqV63jzfN47Fa8ZfFmlm9c+4y4d5lvZMqa33k9faLdPVZn1Z/IZYbOzneGfGSy7xzxAffLs/WvJgj94V4LURIwA3ImQaixSnrFz6d5evPHb9VHM8OS/2kOyemdV7uYSE89HPQScz39Rtr8wUPyP43RvH70/kaBn3dZR9eQMQkeKtXH5/K6dJaeYWPx6zH2MVnd5WjevXZwBtJnS/dMjz3tbo9Z9T367O3rr3RL/9HxSibGsfX14jN2OeqfoVu7plaXo77a40Ssj99YPDHWezZX2+wjm5f2cX/bYqWvMsZRuSdszcv5Oht+k2X4zqzym2tj7jV8FDvOs+OsuHe52O+H/WAyz4/xseNs3S/P1r+aIJQT+FuEerDNHEM3y35k/aJdSR1PHvjYqOu8HtRjTK9sk2W9Pt6mhFAcWSIuzvt6269cRx/x2Zugcn2ividpoDF+9Nbh52OOM2sIecFEa/aHJZ3vvSEm3dyHQk6UktHTP3T2MtM/5t6yg3zUOYcOUercrIe+mGNm6axm1F13JVVH5vAxmX0q7BLz7PXPGKcy1pP5mXy1l4yPcaOl++CI77uOvf5+PnTI1jCyX4W8vSyJ9c83DcF1Vhm2p/xsh6N8tOf5sXVvcnQexs2x3x24uv/MqN9hjeiwrv9i23O2nRHzrUxs9MNGzgUm5/wWfnX83C/P1r+eINQDsR/ZA/KeBGF7o+3y27oeyj8lI/bMKyfXQ2wcvYdt9YlDD8i9RFicj1I6ZsmP0cA6kzTo8QndVEq3T0k69dlaQ8jbYhLr1cOTZI4eW2+X+VdcM5mR0AgdvNzjcz2eLutIPdO5sv2IXnvGeEL/E+uQ6cxlv2j30vtssfhklxg76p+hQ4xTORIn6nf2q4XSMY5sDwr9VPrRY+DnR9ZArP8k1uPp7CvrP2edU6vUFVk/bgh1XVK8ttefkf0PhnU31auwnBP5P6Wuwol1EDsr+sDPSJ1XW5HbkTU54SPjGcMeNMMH3C/P1r+WIPQHJ3+g7b0lJoijibo24Sh58XVTydCPbsrb5FKWgBudNwy9J0Eo3UIPldIrdGzf0Mm4xLxbpTPeShq0a9bnVr47XsUaQp4elEKe2sRB+ip55Aycs9Ymf3Ibyg/ahy4/7+txWRrj61UiUv6jubOHNs3th3T2uVT35Jf6+nnX5Wjd559VP6rb6LiW49YbNM60l1Rr5Z2xSzAd9c9Yc4xT6X7tsS7/83Pq6z4YskZLYj2PrxViPfMD97UZ9Wxe2o/f6Hqshs20F1RfH7DRcRs9iV340KzySSzQ9R0+j51/2nlW3LtceP/gDZOffodP3IeF++XZ+tcShHpQC6dqE1K9h/22T4xtS3/Q1sN8ez4+6wbc+2bJn9F5Q64/gPoa47zK9pCevQcCcfCj18flfqr7g0imV4z35KQYRbuXrpfqZ9fQytt6SBILJYi2EilK7MWhpIyvIeruB5+SUtk5H9/z3ZjHE1qZv0XfvWWscWa5V6cj/V3/Tywl24+ebSrt4nOpvuWfsfZ2XBYno/tRyP1UEuu//8MvW3qM3Cd6PhNjsnM+/pN/zoz10LEtW1+r/tzOx+fzN4W6FodP6Vqla2/me/A+z3t1htUx38pbnR/rI8ae7ANtvM74/GQ+lbrHs6XKSrnIYg864wOVMX+LBKFgbCWlRhJ1nlDTTfcW5PYNo14CbmRen2dvgvBTElNyYxOS0bcSe65HWx9NGrRMsjndCSvW4PJU30r8tevLPrs9sqScz53Jydrd5zL5PtbnqnwQdLmz6r6OWXVPrHzyK/fTXr9qu7RMR/3Tx23dSLivatxR/yDWf5++7ev22OvD1T61d/6t/r62GfWt+TnPjS0+8F0fmBH3LhP7fte+8If/Jx/wWJ1V/zQ/5/BPfOC7PlAZ97dJEOph2I82MTWSqFOiII7sbbHWeeO39xrXzqm+I/O6TH/I78lTXz96SUmX54nT0TX5+KhvJQ30lVxPzkjHXuIl5FWvweWdWWfoF6XbL0vg+dyjiZ+Q7z6npFW0Z6XbIft7m9nYT+2+hln1T/NXnWv/RECWJHNf7XGvtosz3eOfPm4r1sXQj966Rji7j/X2IGL9B+WnxnrmA+47M+rZvLR/94YQ/vAPH5gR9y4z5qHE5/CB+/mAx+qsOna/n92xCTYJH6iM+9skCLU4T65pkZ4c8ESPzgUMLx3M6MOfJxp6CaSReV0HX0Pv4Vx9/fCxvbrL6+nXG9Nr86SBz5/VlWD5lNDwcb35vG1kDXvkueytutsv4+c+oITxnsSM6/2JV+jpc2X+EX33lK7HrPoefc709aS93trqyfI1bp2vsMvWfD0d1OZH1sfbPbF51D+I9fwNQo+/p8a6+4vX3ddm1H0u6tyQ4gP384EZce8ysfn9bI5NsEn4gMfqrHrMRYnf4QP384HKuL9VglDO5skBvT0XDuiJHgGI9ii3zke/ttxKXu2V6/KyB3w3YKtP+9nlZQmudkzv82jSQPwzvV1u9Rr2yHM9oq5kst6Mku7+429gZvw01v1OuujroFlyKuZU4skPyd/6qfrKeOgQpesxqx5zzS7dZkqYtfMpgRuHEj7t+Rl2iflUtvN9+rx3nMdpb22f5opzLsPnb+vE+g8iT4v1sHNbtvat/tzOx+f73Rxik3fbpDrmW3n417v9C/vf2/5tvM74jA/c2wewz7vtUxnzt0sQekJMC423f7YSdVvns6Dx+fRg3fbbK9flqd7K02c/eue9zeX19PO+n+qeNNADsT7rR1+X1Bz60Vo/yfBz1WvYI8/1ULLIk24up61/4ic/68lREkUJK3+bNeZvfaOdb+tz5h8hf0+5NVfF+T36nOm79TVjfwus97bnDLs4vz1r2zvO4/STv37SwWUQ67+9WXh6rGe2d1+bUc/mpf23PgYTmHzDB2bEvcv8xpqYk1jCB8Z8wGN1Vh1bjNkCTnD6hg9Uxv3tEoQC6omaeEhuH/pb8Fvn2/7xeSsBt1euy8sSQG7A0CMrXV6wyPp+avekQabXp/Htueo17JEXuviaYrza/Me/sqn2GJuVSjj5mJCrRGEkq2Ns6xviuucn5FSUoefMskLPURm+B7Rvcvoae/Jm2GVrzp4eavMj6+Pt7tMj/upjo+4yiPX8JuWpsR52bkv3tRn1dj4+574FG9h8wwdmxL3L/MaamJNYwgfGfMBjdVYdW4zZAk5w+oYPVMb9LROEenDzQw/87UN/C37rfNs/PusBOo7eA/leuS4veziP+VSGHlnp8nr6ZePa9tWSBnrzMQ4l79okUqzf7beHn5KB/lVXzaV5/E1Clz1iy9BpRhksZpYz9M5kun39a8a+N8g+vfEz7OJce3NmbXvHeZzu+WcoPr/LyPYg779V37OGkf1qjzzp5r5ArOc3Xc51Rn3LTzif2wY2sLnCB2bEvcu8Yg3MQazgA8d8wGN1Vh3bHLMN3OB2hQ9Uxv0tE4SC6A+5qo889DsY9R8xhs/TeyAfmdfn8Qfk7OHc9fSxvbrLk669PiNtvs5MrxE50ad6DXvkSQc/lDQKvdrS7XeEnxKFSkrE0bKLdpWjPtfqWPHZ9ZhVr9BzVIa4+xGJWf96sb6KnMnzsRV2cXnZnL32veP8zcnW13rye23Eev5PSnq8ou0psR76tqX72ox6Ox+fueHFB+7lAzPi3mVi73vZG3tgD/cBj9VZdZ+POv6HD9zLByrj/rYJQk/saMGeKNPnnlP6w3Uv2dcb4zCzRJP3iURFT5baPIGRPeC7vExOtPu6jyS4Qs5KSYPWN2KNvdL7HuXnbzC1MtznsrcYe3pVt7lPzapX67wlr8c21qak7afxvbGf+m+di3lVbvX18z5OCSg/19a1t/hxNLFJrB9LEMoeT4j11m/is/vOjHrMQ3mvG0LsgT3CB2bEvcuMeSjxOXzgfj7gsTqrjt3vZ3dsgk3CByrj/rYJQi3Wk23+FpcABAwv/SuhWwkEjfPk26f+DvxTEsjn1xgShD+C1jm3CbawnzOOtqz0pF/mCzFW9oojmzv6ZqXrL5/0fp5QUFLKz11ZjzXOLK9cj+Zy7mI78vXi0LHaLs415hgpfZz2mE9JQt8/Pu1HW/O+NUH4lljP7O++NqOezUv7uZtT+a32uk/3FjA+x/gt/GbEvct8C8er18keQHxX+JzH6qx6hZ7I+NXfif9feeAfx3lUxv2tE4TtGzW+8J4Dtf39b5e1/T3ZILm6QW/7xOc2URntXvrDfeiZyYzzKl1Gr+5JkqMJLsldKWnQ2jl781Obrh89fko2ynaS2ePfsmsf4lpdJCuTE+2a89PXY6PfntLXOau+R5+Kvi1bfytwi1879qxdnOmetfk41bMk4Z79aGt+Yr3/BuEqsZ7Zv/W16s/ZvLQfv5kTOz9geY7l2/m5L82ov53vrPW7rWbNgdz19xb3o1l1/Kjej9xW8K3n+yam7ktn67dOEMqo/iaQLzYzuCfU1F8P5JKhh0P9KMHjD9Dq8ymRqHk0zg+Xqfk8ceGySRD+CHS3SS9JJ8Z+ZLb1ducse8iukeRT8sjPh+ze3K6bkkgaG77SytE8rkPUXYbmkj9In5CjUrLkh+ErPV1C3pEy1jizPKLX2TG9/ygthiNyK+3iXEfmjj4xTjrLf+KQrykpqB/V/RhdX8zRlu77YtCe3/vZddsa68wzH98jT/P5eoj1/ObJuc6ob9n+Lef1FrB+aSi/bH8Uy4oB7f+f3hZ2Vm4rb6ee+zps+mzcl2bU4f6DO3tA3//wj+9ymRHzrUxs/K/+cG3nHuC7vo4f9vm38Xrm8+0ThHICf7COxX5yjvaBO8b0yuwhtpU/IjOSQjFP9nAe51W287SfRx642zG9z/6QnenVG5e1Va9hjzzppBu0nl+4HNX9zayerf18O7b9rCRfxiNLZLcy4nP7VeVM7mh7yJ1ZjupS2U8x1R5iPTpHlV1ch9G51S8O+d6Iz8qnRxMLmR7Eev8NwlViPbN7+NqsMpv3be3+jYIt1voFh35B9ImRy/jUj3P9G2K4/OTivjSjDusfrNkDfvocPnEfFjNivpWJvX/982ctn/Yz9wD3iY83+G7rf2c+X5og9IuqHtZGjaUH5njzSosdSRDoptwflFtICto9OkhXJdZ6SSnNEw8B0jWOLBEX51VuMfAEyZmkkrOXzK15t85Xr2GPvNBNbwz6ulxGJGTUN3xHbTHWSyX+em+qhTzNMZK0kQ9k+oQszVPB3/VX/YqjnfOKz7JxG3MjtnDdKuzifF32Vj3GyS/UV+vJ9iX9EiLegt2S++m8+2CFr8UaVH6aV+dG9qs98mI+Yn37Jsu5zqiHLd5eZvH7ifmnew0f93a2rH87zj8xcl+aUf8095vOsQec89M3+cqVa50R863MK9dz17mIf+L/rr7ZxuuZz5cmCL8FVAkC/zn7EF4p61tMVpu3yiYuR/WjnFo5Z2SN6HBmExgdO6LH3ftcbZeMh/Yg1yXrR/tvb0Sc25m93OWofpR1K+eMrKM6aNzs44xuK431h4PeLwFl/96by5lfuN1W4sRafrt3zWbivjSjPlv/p8hnD7jet5/iG9/Uc0bMtzK/ub67zE38E/938cVWjzZez3x+RYKwBchngns1HzizCYyOXY0Z62EfWMkHRuP4aL+VWJ1Zy9bDQcj2bxOIefa3Rd0eMZaSvemID7gvzagf0WnFMewBxOcd/XpGzLcy77juq3Ui/on/q31udL42Xs98JkH4pzj6qOPR776+cmYTGB2L/e9rf2yDbUbj+Gg/fOyHj40+HIiX3jD0o/fnEfw8jInjMz7gvjSjfka3lcayBxCnd/TnGTHfyrzjuq/Wifgn/q/2udH52ng985kEIQnCw1+tG3VY+s3fTM9sAqNjseN8O8IYxkd9YDSOj/Y7qtdq4/Y8HLRvEfb+0ZXbw1np6/P624VKMupve/aSi94/6vHnC+JzlCFL5aev5mse6al5Y+7s69EhOytdjuYdXUPIcwbSZUv3GPfW0n1pRv2tXNt1sweMX6fZA8ZZtX629/OMmG9l7tVpxf7E/7hPE//jrCpipY3XM59JEJIgJEG4gA+c2QRGx1ZsXsi49mIB7/fwHo3jo/3wpR++tOfhQMz8UJKr5ejn45z+YVHv0NeUt5JsMU56Sp76t//oqfd1Z+kW/9ArZHgpGT39Q2cvM/0lb2QNSkg6Z9dDdZ07mrR0PVert5yqP6/G6+h63DdHYsLt0Ovv50OnLIZG4ifksQe85/ovv7niCP98c0n8b8dVtn/JR0f2MO4Bthn3YrByDyBBuEByqOcktB0Lrqdyq9wUMllPZYPe74qFt9o7i9uq9rdybdd95uFAb8C18tw+SuZ9StKprxJ1n5KEIU969pKDcT700Ft6bQIx+vRK/QOWGNsr/+pvf9cb9ktbJC5648Vo9Ojx7Ml8S9sot6P93sJxa53sAewBWz7yjfNH43rPuG+s625zEv/E/918MvTZE8tbfUkQkiD8eLMfTkd57yTLVqBXnMcH7u0D2Ofd9qmI8U8y8K8f/rXn4UC/Bfej99abn49EnUol4tRfP+1v45VEzOwR8pSoC3lqkwy9vfQXf/13f0hCxni1xaG1KenmCUh9RahN+vn5kKPSZWmMr1eJSH1VWrprHh8X9TY5KJ19LtWlvx9+PuS8tXQuM+pv5dqumz3g97/EpfNhD/jefciMmG9luq3fWif+if+7+n4br2c+kyAkQdi9Ub+r86NX/+bjzCYwOhb2ffZwgcsdfGA0jo/2u8Ma76DDnocDT+wpWdfTv7WHEmu9pJeSa370+kh+e2jerK/665ySbp7M6+npbzZmbxF6QvLT3znMzvl4rbenh9o8SZglG7OxK7e3tq/+vDK7PWtjD/j9H36B0WPmMZzFucZl53w8e8C+e6vqeO/J69n8bW3EP/F/V5/vxezRNhKEJAjTm/C7BgB6/fam4egGsGcc3H/LHSYwuYsP7InlI33vss5v6zH6cNC+Dac3a3q6uy2UHOz1iTZP0o3Ik+ytxF/I3ir9zaAsKedr2ZLXnvcEaCbfx/hcWbLB+7+h7kxm1N/AcGSN7AE//g5oj5X7Xe/8pzb2gHP3U85+Vv2T/d5yjvgn/u/q65VxT4KQBOHHB5K7BgF6/XojUbkpZLJg/itzeMDjTj6QxW1V+53W+k1dth4O9JVcf8NN/D8l/tw+n97005r9jcTsLT6Xl/U5wk+JxjiyBF6cV7k3MSlGcYz8bUG3g5gfWdNqY4LfrHI1XkfX477XS9SzB/zwQPaAa++RZsW9yz0aMyuNI/7HEoTE/7XxrxirPEgQkiDkxnoBH6jcFDJZK13gWcv1Fy6Yz2WexW1VO/b7YT9/OBhhm31lOHi6jGjLytlv8WXzqn0kQeiJUX1VcCTRF3M6h61Eqcb4XL0kTch9U+kMZ9TfxPLTWtkD8gSBxyV7wNxrfuujM2K+ldnO+cbPxD/xf1e/b+P1zGcShAskh+7qqOh13c3BmU1gdCz2vM6esIb1Xh8YjeOj/fbqs2r/0YcDPRyPJK7cHlvMrkgQ6uu6egNKc/mPv70oBj1dNdb/hpjWpq9Ff/pbYpKjhKAfkr/1M/J1656OK7c5wxn1ldntWRt7QJ4gYA/43r3LjJhvZe6Jk1X7Ev/E/119u43XM59JEJIg7N7o39X50at/83FmExgdC/s+e7jA5Q4+MBrHR/vdYY130MEfDpSkikSWvs4bCbU9X61xe2ytb2aCUG/7edLN9WrrWnOmq5J9PTlKHCrJ2Pt7gf52YjvXyGdxyfR5U/sIqzN93sTy01rZA/IEgbixB3znnuhMbI+O/RQXbzlH/BP/d/X10Tge6UeCkAQhN9YL+MBIsJ/tc9cNEb2+czMK93txPxvfW+Ox9w97+8NBRWLKuW8xnpUg9DWFPmrzH/8bgWrf0lUJRx8TcpUobL9C3CYItc49P1u6vOV8MJ5VvoXj1jo9XtgD8usge0DOZsvHjpyfFfcu94heq40h/j8nCMPexP+18S/ulQcJwgWSQxGMlNcH412YV24Kmay7rBU93uvn2D63fRa3Ve2w/8F+tYcDvfkYh5J32deBPYk3kiAMf1Ey0L+erLk0j79J6LJ1PsZS5vHeYxN2nFX25nxjG3vAWIIgfIM9YF8cB7e95ay4d7l7dVqxP/FP/N/Vrz1Wz9ZJEJIg5GZ8AR84uxGMjL/rhohe19x8wvnenEdi+Ewf7P/D/qs9HLhP6Df+mZ09ibcnQRjylCRQYjCO9s2raFepuWIc5fi+4wxn1LEFe0D4FXvAeFxeFTdhm5nlVWu58zzcA+xLEIYtuQeYv2dUxj4JwgWSQxF8lPOD766MKzeFTNZd145e7/V7bP/T9lncVrXD+gfrlR4OPOknP/lkY+97JDkg2f62YivD/25h9hbjJ/04V/v1ot6+AWP2gPCLNn5HfYM94Oc1e5TZaL+wzcxyVJeV+3EPcCxBKJ8g/ufFv/hWHiQISRB+fChYeZNfaW2Vm0ImayVerGXuRQq+1/PN4raqHZv+sOlbHw6UtIvjaHJAbw3G8Rd//Xe/3Hv4g4OShfjb/j0k2M4qsQl7QPgWe8D++JwdP2GbmeXsNTxBPvcAxxOE3APM3TcqY58EIQlCbsQX8IHKTSGT9YQLNzrOvfjA9758s7itasf2P2y/0sOB/g6gH9lXjD05qP695IDeMMz+S3H4jrNr3xJsdZGsGJeVmvOf/fl/2eyXjV+t3W05o74ar6PrcT9uvyp/RKbbamu8P2D34lDj/diS18Yde8B9r/FbtnS7z6pv6fCG88Q/9wB39fPKuCdBuEBy6K6Oil7X3WhUbgqZLOx5nT1hDeu9PpDFbVX7ho93IwAAEDFJREFUXn1W7b/Sw4Fs5OuJf1IS/0BEyTc/H76ktta+nrhQck9jlcCLJJ7L0TzteH12GZpLbxIqkRhyQpbeNoyvJPd06cl+Q1vYZ1b5BoYja3RffnqCUOv19bAHPPfeY1bcu9yR+Fi9j8cL8f8zXvz6zT3ATy5XxoPH6tk6CUIShN0b9SsdmrnObyRnN4KR8djpvJ1gCMNZPjASw2f6zNL7aXJXezho/3B45iN6sygOMWjt5uejX1Z+euvPv2qcjff29qvKrV5v+uxcZtTfxPLTWtkD+m8QsQd89/5mRsy3Mj/FxVvOEf/E/119vY3XM59JEJIg/M2N/l0dH73ym48zm8DoWPjn/GEDm2/7wGgcH+337fXdZX4lpOJovyZ7RMeQpXJrvH/VN0uM7ZEX8+mNQV+Xy9DDkJKI6rv11p4Sf3/1t7/z4b/UNUfIirl7pd4UzPQJgZqngn9v/qe2BZtZ5VO5VOvtvlnhg26vLV3ZA37SYg/49b7rJ5l5tS3/fMN54r+fIJTtuQf4NSavjofKyCdBSIJw86Hkagdnvv0bTOWmkMnCLvvtAjOYXeUDWdxWtV+1Dub5bsz413njq8ZHbOJyVD8iQ2NaOWdkHdXhKeOqYj2T8xQO6HluD/GYYw84x/JKX8zitrL9yvUw13d8j/j/DvcKf6+MdRKEJAgP37hXODMyajaiyk0hk4WtamwFRzjO8IEsbqvaZ+iMTGIBH6jzgapYz+RgqzpbwRKW1T6QxW1le7XOyCMO8IE6H6iMdRKEJAhJEC7gA5WbQiaLTbxuE4clLKt9IIvbqvZqfZFHDOADtT5QFeuZHOxVay94wrPSB7K4rWyv1BdZ+D8+UOsDlbFOgnCB5BABVhtgT+RZuSlksp7IBZ2Jjbf4QBa3Ve1v4cg62TOe6gNVsZ7JeSoX9Cam3+ADWdxWtr+BI2tkv3iqD1TGOglCEoS8QbiAD1RuCpmsp26Y6M3F/g0+kMVtVfsbGLJG9oon+0BVrGdynswG3Ynt1X0gi9vK9tUZsj72iSf7QGWskyBcIDn0ZGdG95rNuHJTyGRhqxpbwRGOM3wgi9uq9hk6I5NYwAfqfKAq1jM52KrOVrCEZbUPZHFb2V6tM/KIA3ygzgcqY50EIQlC3iBcwAcqN4VMFpt43SYOS1hW+0AWt1Xt1foijxjAB2p9oCrWMznYq9Ze8IRnpQ9kcVvZXqkvsvB/fKDWBypjnQThAskhAqw2wJ7Is3JTyGQ9kQs6Extv8YEsbqva38KRdbJnPNUHqmI9k/NULuhNTL/BB7K4rWx/A0fWyH7xVB+ojHUShCQIeYNwAR+o3BQyWU/dMNGbi/0bfCCL26r2NzBkjewVT/aBqljP5DyZDboT26v7QBa3le2rM2R97BNP9oHKWCdBuEBy6MnOjO41m3HlppDJwlY1toIjHGf4QBa3Ve0zdEYmsYAP1PlAVaxncrBVna1gCctqH8jitrK9WmfkEQf4QJ0PVMY6CUIShLxBuIAPVG4KmSw28bpNHJawrPaBLG6r2qv1RR4xgA/U+kBVrGdysFetveAJz0ofyOK2sr1SX2Th//hArQ9UxjoJwgWSQwRYbYA9kWflppDJeiIXdCY23uIDWdxWtb+FI+tkz3iqD1TFeibnqVzQm5h+gw9kcVvZ/gaOrJH94qk+UBnrJAhJEPIG4QI+ULkpZLKeumGiNxf7N/hAFrdV7W9gyBrZK57sA1Wxnsl5Mht0J7ZX94EsbivbV2fI+tgnnuwDlbFOgnCB5NCTnRndazbjyk0hk4WtamwFRzjO8IEsbqvaZ+iMTGIBH6jzgapYz+RgqzpbwRKW1T6QxW1le7XOyCMO8IE6H6iMdRKEJAh5g3ABH6jcFDJZbOJ1mzgsYVntA1ncVrVX64s8YgAfqPWBqljP5GCvWnvBE56VPpDFbWV7pb7Iwv/xgVofqIx1EoQLJIcIsNoAeyLPyk0hk/VELuhMbLzFB7K4rWp/C0fWyZ7xVB+oivVMzlO5oDcx/QYfyOK2sv0NHFkj+8VTfaAy1kkQkiDkDcIFfKByU8hkPXXDRG8u9m/wgSxuq9rfwJA1slc82QeqYj2T82Q26E5sr+4DWdxWtq/OkPWxTzzZBypjnQThAsmhJzszutdsxpWbQiYLW9XYCo5wnOEDWdxWtc/QGZnEAj5Q5wNVsZ7JwVZ1toIlLKt9IIvbyvZqnZFHHOADdT5QGeskCEkQ8gbhAj5QuSlkstjE6zZxWMKy2geyuK1qr9YXecQAPlDrA1WxnsnBXrX2gic8K30gi9vK9kp9kYX/4wO1PlAZ6yQIF0gOEWC1AfZEnpWbQibriVzQmdh4iw9kcVvV/haOrJM946k+UBXrmZynckFvYvoNPpDFbWX7GziyRvaLp/pAZayTICRByBuEC/hA5aaQyXrqhoneXOzf4ANZ3Fa1v4Eha2SveLIPVMV6JufJbNCd2F7dB7K4rWxfnSHrY594sg9UxjoJwgWSQ092ZnSv2YwrN4VMFraqsRUc4TjDB7K4rWqfoTMyiQV8oM4HqmI9k4Ot6mwFS1hW+0AWt5Xt1TojjzjAB+p8oDLWSRCSIOQNwgV8oHJTyGSxiddt4rCEZbUPZHFb1V6tL/KIAXyg1geqYj2Tg71q7QVPeFb6QBa3le2V+iIL/8cHan2gMtZJEC6QHCLAagPsiTwrN4VM1hO5oDOx8RYfyOK2qv0tHFkne8ZTfaAq1jM5T+WC3sT0G3wgi9vK9jdwZI3sF0/1gcpYJ0FIgpA3CBfwgcpNIZP11A0TvbnYv8EHsritan8DQ9bIXvFkH6iK9UzOk9mgO7G9ug9kcVvZvjpD1sc+8WQfqIx1EoQLJIee7MzoXrMZV24KmSxsVWMrOMJxhg9kcVvVPkNnZBIL+ECdD1TFeiYHW9XZCpawrPaBLG4r26t1Rh5xgA/U+UBlrJMgJEHIG4QL+EDlppDJYhOv28RhCctqH8jitqq9Wl/kEQP4QK0PVMV6Jgd71doLnvCs9IEsbivbK/VFFv6PD9T6QGWskyBcIDlEgNUG2BN5Vm4KmawnckFnYuMtPpDFbVX7WziyTvaMp/pAVaxncp7KBb2J6Tf4QBa3le1v4Mga2S+e6gOVsU6CkAQhbxAu4AOVm0Im66kbJnpzsX+DD2RxW9X+Boaskb3iyT5QFeuZnCezQXdie3UfyOK2sn11hqyPfeLJPlAZ6yQIF0gOPdmZ0b1mM67cFDJZ2KrGVnCE4wwfyOK2qn2GzsgkFvCBOh+oivVMDraqsxUsYVntA1ncVrZX64w84gAfqPOBylgnQUiCkDcIF/CByk0hk8UmXreJwxKW1T6QxW1Ve7W+yCMG8IFaH6iK9UwO9qq1FzzhWekDWdxWtlfqiyz8Hx+o9YHKWCdBuEByiACrDbAn8qzcFDJZT+SCzsTGW3wgi9uq9rdwZJ3sGU/1gapYz+Q8lQt6E9Nv8IEsbivb38CRNbJfPNUHKmOdBCEJQt4gXMAHKjeFTNZTN0z05mL/Bh/I4raq/Q0MWSN7xZN9oCrWMzlPZoPuxPbqPpDFbWX76gxZH/vEk32gMtZJEC6QHHqyM6N7zWZcuSlksrBVja3gCMcZPpDFbVX7DJ2RSSzgA3U+UBXrmRxsVWcrWMKy2geyuK1sr9YZecQBPlDnA5WxToKQBCFvEC7gA5WbQiaLTbxuE4clLKt9IIvbqvZqfZFHDOADtT5QFeuZHOxVay94wrPSB7K4rWyv1BdZ+D8+UOsDlbFOgnCB5BABVhtgT+RZuSlksp7IBZ2Jjbf4QBa3Ve1v4cg62TOe6gNVsZ7JeSoX9Cam3+ADWdxWtr+BI2tkv3iqD1TGOglCEoS8QbiAD1RuCpmsp26Y6M3F/g0+kMVtVfsbGLJG9oon+0BVrGdynswG3Ynt1X0gi9vK9tUZsj72iSf7QGWsDyUI/+H//r/KOZEFAQgUE5gdo7PlF+NAHAReR2BmjM6U/TpDsWAITCIwM05nyp6EA7EQeBWB2TE6W/6rjMViITCBQGWMDiUIJ6wBkRCAAAQgAAEIQAACEIAABCAAAQhAAAIQgMANCJAgvIERUAECEIAABCAAAQhAAAIQgAAEIAABCEAAAt8iQILwW+SZFwIQgAAEIAABCEAAAhCAAAQgAAEIQAACNyBAgvAGRkAFCEAAAhCAAAQgAAEIQAACEIAABCAAAQh8iwAJwm+RZ14IQAACEIAABCAAAQhAAAIQgAAEIAABCNyAAAnCGxgBFSAAAQhAAAIQgAAEIAABCEAAAhCAAAQg8C0CJAi/RZ55IQABCEAAAhCAAAQgAAEIQAACEIAABCBwAwIkCG9gBFSAAAQgAAEIQAACEIAABCAAAQhAAAIQgMC3CJAg/BZ55oUABCAAAQhAAAIQgAAEIAABCEAAAhCAwA0IkCC8gRFQAQIQgAAEIAABCEAAAhCAAAQgAAEIQAAC3yJAgvBb5JkXAhCAAAQgAAEIQAACEIAABCAAAQhAAAI3IECC8AZGQAUIQAACEIAABCAAAQhAAAIQgAAEIAABCHyLAAnCb5FnXghAAAIQgAAEIAABCEAAAhCAAAQgAAEI3IAACcIbGAEVIAABCEAAAhCAAAQgAAEIQAACEIAABCDwLQIkCL9FnnkhAAEIQAACEIAABCAAAQhAAAIQgAAEIHADAiQIb2AEVIAABCAAAQhAAAIQgAAEIAABCEAAAhCAwLcIkCD8FnnmhQAEIAABCEAAAhCAAAQgAAEIQAACEIDADQiQILyBEVABAhCAAAQgAAEIQAACEIAABCAAAQhAAALfIkCC8FvkmRcCEIAABCAAAQhAAAIQgAAEIAABCEAAAjcgQILwBkZABQhAAAIQgAAEIAABCEAAAhCAAAQgAAEIfIsACcJvkWdeCEAAAhCAAAQgAAEIQAACEIAABCAAAQjcgAAJwhsYARUgAAEIQAACEIAABCAAAQhAAAIQgAAEIPAtAiQIv0WeeSEAAQhAAAIQgAAEIAABCEAAAhCAAAQgcAMCJAhvYARUgAAEIAABCEAAAhCAAAQgAAEIQAACEIDAtwiQIPwWeeaFAAQgAAEIQAACEIAABCAAAQhAAAIQgMANCJAgvIERUAECEIAABCAAAQhAAAIQgAAEIAABCEAAAt8iQILwW+SZFwIQgAAEIAABCEAAAhCAAAQgAAEIQAACNyBAgvAGRkAFCEAAAhCAAAQgAAEIQAACEIAABCAAAQh8iwAJwm+RZ14IQAACEIAABCAAAQhAAAIQgAAEIAABCNyAAAnCGxgBFSAAAQhAAAIQgAAEIAABCEAAAhCAAAQg8C0CJAi/RZ55IQABCEAAAhCAAAQgAAEIQAACEIAABCBwAwIkCG9gBFSAAAQgAAEIQAACEIAABCAAAQhAAAIQgMC3CJAg/BZ55oUABCAAAQhAAAIQgAAEIAABCEAAAhCAwA0IkCC8gRFQAQIQgAAEIAABCEAAAhCAAAQgAAEIQAAC3yJAgvBb5JkXAhCAAAQgAAEIQAACEIAABCAAAQhAAAI3IPD/AfPktmjBx91BAAAAAElFTkSuQmCC)"
      ]
    },
    {
      "cell_type": "markdown",
      "metadata": {
        "id": "5pNuh0KkAxp9"
      },
      "source": [
        "#### NLTK\n",
        "\n",
        "Lo primero que podemos hacer es crear un conjunto de reglas que reconozca los chunks a partir de los POS que los componen:"
      ]
    },
    {
      "cell_type": "code",
      "metadata": {
        "id": "SkvVJxdLVP6J"
      },
      "source": [
        "grammar = '''\n",
        "NP: {<DT>?<JJ>?<NN.*>}\n",
        "ADJP: {<JJ>}\n",
        "ADVP: {<RB.*>}\n",
        "PP: {<IN>}\n",
        "VP: {<MD>?<VB.*>+}\n",
        "'''"
      ],
      "execution_count": null,
      "outputs": []
    },
    {
      "cell_type": "code",
      "metadata": {
        "id": "_KpYQVt6VaJE"
      },
      "source": [
        "tokens = nltk.word_tokenize(text_short)\n",
        "tagged = nltk.pos_tag(tokens)\n",
        "\n",
        "rp = nltk.RegexpParser(grammar)\n",
        "\n",
        "shallow_parsed_sent = rp.parse(tagged)\n",
        "print(shallow_parsed_sent)"
      ],
      "execution_count": null,
      "outputs": []
    },
    {
      "cell_type": "markdown",
      "metadata": {
        "id": "KSxRFrb9WFPS"
      },
      "source": [
        "Ahora, probemos los chunkers que ya vienen en NLTK."
      ]
    },
    {
      "cell_type": "code",
      "metadata": {
        "id": "5Q7tLxTmOXWt"
      },
      "source": [
        "nltk.download('maxent_ne_chunker')\n",
        "nltk.download('words')"
      ],
      "execution_count": null,
      "outputs": []
    },
    {
      "cell_type": "code",
      "metadata": {
        "id": "7h11qhaJA2ym"
      },
      "source": [
        "from nltk.chunk import ne_chunk\n",
        "\n",
        "tokens = nltk.word_tokenize(text_short)\n",
        "tagged = nltk.pos_tag(tokens)\n",
        "\n",
        "entities = ne_chunk(tagged) # además de detectar los chunks, incluye también entidades\n",
        "print(entities)"
      ],
      "execution_count": null,
      "outputs": []
    },
    {
      "cell_type": "markdown",
      "metadata": {
        "id": "fbuomrMBA5sI"
      },
      "source": [
        "#### spaCy\n",
        "\n",
        "Este parser también está incluido en el pipeline por defecto. La particularidad que tiene es que solo detecta noun phrases. Para el resto, es necesario instalar extensiones o implementar reglas."
      ]
    },
    {
      "cell_type": "code",
      "metadata": {
        "id": "MUuWSrd_A6X5"
      },
      "source": [
        "hp_short_doc = nlp(text_short)\n",
        "\n",
        "chunk_text = [chunk.text for chunk in hp_short_doc.noun_chunks]\n",
        "chunk_root = [chunk.root.text for chunk in hp_short_doc.noun_chunks]\n",
        "chunk_root_dep = [chunk.root.dep_ for chunk in hp_short_doc.noun_chunks]\n",
        "chunk_root_head = [chunk.root.head.text for chunk in hp_short_doc.noun_chunks]\n",
        "\n",
        "pd.DataFrame(zip(chunk_text,chunk_root,chunk_root_dep,chunk_root_head),columns=[\"chunk_text\",\"chunk_root\",\"chunk_root_dep\",\"chunk_root_head\"]) # solo para que se vea más ordenado"
      ],
      "execution_count": null,
      "outputs": []
    },
    {
      "cell_type": "markdown",
      "metadata": {
        "id": "0Kg2Wb1KUNMy"
      },
      "source": [
        "Vamos a utilizar otra biblioteca que interactúa con spaCy para extraer los verb phrases. \n",
        "\n",
        "Al tener que definir la expresión regular que describe a los verb phrases, es lo mismo que utilizar la primera alternativa de NLTK. Si lo necesitamos, lo ideal sería encapsularlo en un mini componente para incorporar al pipeline de spaCy, incluso, utilizando NLTK."
      ]
    },
    {
      "cell_type": "code",
      "metadata": {
        "id": "-DK7xeI6WniU"
      },
      "source": [
        "pip install textacy"
      ],
      "execution_count": null,
      "outputs": []
    },
    {
      "cell_type": "markdown",
      "metadata": {
        "id": "EHu9xV-N97ax"
      },
      "source": [
        "*Nota*. Cuando finalice la instalación anterior, reiniciar runtime y volver a ejecutar la celda del principio con los textos de ejemplo."
      ]
    },
    {
      "cell_type": "code",
      "metadata": {
        "id": "4HHIvvK7-crf"
      },
      "source": [
        "import spacy # necesitamos ejecutarlo nuevamente\n",
        "spacy.cli.download('en_core_web_sm')"
      ],
      "execution_count": null,
      "outputs": []
    },
    {
      "cell_type": "code",
      "metadata": {
        "id": "amDR1d-lWu0r"
      },
      "source": [
        "import textacy\n",
        "\n",
        "pattern = r'(<VERB>?<ADV>*<VERB>+)'\n",
        "verb_pattern = [{\"POS\": \"VERB\", \"OP\": \"?\"},{\"POS\": \"ADV\", \"OP\": \"*\"},{\"POS\": \"VERB\", \"OP\": \"+\"}] # es lo mismo que escribir una expresión regular: <VERB>?<ADV>*<VERB>+\n",
        "\n",
        "about_talk_doc = textacy.make_spacy_doc(text_short, lang='en_core_web_sm')\n",
        "\n",
        "verb_phrases = textacy.extract.matches.token_matches(about_talk_doc, verb_pattern)\n",
        "\n",
        "list(verb_phrases)"
      ],
      "execution_count": null,
      "outputs": []
    },
    {
      "cell_type": "markdown",
      "metadata": {
        "id": "OqCjG42LZU1w"
      },
      "source": [
        "## Gramáticas & Parsers\n",
        "\n",
        "* La gramática ayuda a definir la sintaxis y la estructura en el lenguaje.\n",
        "\n",
        "* Principalmente consiste en un conjunto de reglas que se utilizan para determinar cómo posicionar palabras, frases y cláusulas al construir oraciones en un lenguaje natural.\n",
        "\n",
        "* La gramática se puede subdividir en dos clases principales en función de sus representaciones de sintaxis y estructura lingüísticas.\n",
        "\n",
        "* “Parsing” se refiere a la tarea de crear un árbol de parsing para una oración determinada.\n",
        "Resalta la estructura sintáctica de acuerdo a la gramática subyacente.\n",
        "\n",
        "* Los árboles de parsing sirven como una importante etapa intermedia de representación para el análisis semántico. Importante para:\n",
        "  * Responder preguntas.\n",
        "  * Extracción de información.\n",
        "\n",
        "* Problema: Ambigüedad.\n",
        "  * Oraciones gramáticamente correctas pueden dar lugar a parsings sin sentido semántico.\n",
        "  * Los parsers deben poder elegir cuál es el parsing correcto de todos los posibles.\n",
        "  * Requiere conocimiento del contexto.\n",
        "\n"
      ]
    },
    {
      "cell_type": "markdown",
      "metadata": {
        "id": "9vvGnatfZixG"
      },
      "source": [
        "![image.png](data:image/png;base64,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)"
      ]
    },
    {
      "cell_type": "markdown",
      "metadata": {
        "id": "j_aVfFGWZs_G"
      },
      "source": [
        "### Constituency parsing\n",
        "\n",
        "* Analiza la sintaxis y las reglas que rigen la jerarquía y el orden de los diversos componentes en las oraciones.\n",
        "\n",
        "* Se basa en la identificación de grupos de palabras que se comportan como un conjunto, los constituyentes.\n",
        "\n",
        "* Cada palabra generalmente pertenece a una categoría léxica específica en el caso y forma la palabra principal de diferentes frases.\n",
        "\n",
        "* Estas frases se forman en base a reglas llamadas reglas de estructura de frases.\n",
        "\n",
        "* Se basa en las gramáticas libres del contexto.\n",
        "\n",
        "* Un árbol de constituency parsing siempre tiene las palabras de la oración como los nodos terminales.\n",
        "\n",
        "* Cada palabra tiene un nodo padre que contiene su etiqueta POS.\n",
        "En algunas representaciones gráficas puede omitirse.\n",
        "\n",
        "* El resto de los nodos no terminales los representan las estructuras de frases.\n",
        "\n",
        "* Por ejemplo, para la frase \"I saw a fox\":"
      ]
    },
    {
      "cell_type": "markdown",
      "metadata": {
        "id": "3aLe7eWgZ89m"
      },
      "source": [
        "![image.png](data:image/png;base64,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)\n"
      ]
    },
    {
      "cell_type": "markdown",
      "metadata": {
        "id": "qkYxmQqTiDsq"
      },
      "source": [
        "#### NLTK\n",
        "\n"
      ]
    },
    {
      "cell_type": "markdown",
      "metadata": {
        "id": "0qLFeSaYmAxG"
      },
      "source": [
        "La primera opción es crear nuestro propio parser definiendo las reglas de la gramática y luego utilizando un parser sobre dicha gramática. En este caso vamos a utiizar un parser basado en programación dinámica (``ChartParser``) en lugar de un parser simplemente recursivo. Este parser de programación dinámica va almacenando resultados intermedios del parsing y los re-usa cuando es apropiado para evitar re explorar caminos, haciendo el parsing más eficiente. \n",
        "\n",
        "Acá vamos a crear una gramática considerando la frase de los elefantes y pijamas (y de paso vemos la ambigüedad)."
      ]
    },
    {
      "cell_type": "code",
      "metadata": {
        "id": "IVUK3yK3BP0B"
      },
      "source": [
        "import nltk # tenemos que volver a importarlo después de haber reiniciado el runtime"
      ],
      "execution_count": null,
      "outputs": []
    },
    {
      "cell_type": "code",
      "metadata": {
        "id": "i3hoM8aRn3tq"
      },
      "source": [
        "groucho_grammar = nltk.CFG.fromstring(\"\"\"\n",
        "S -> NP VP\n",
        "PP -> P NP\n",
        "NP -> Det N | Det N PP | 'I'\n",
        "VP -> V NP | VP PP\n",
        "Det -> 'an' | 'my'\n",
        "N -> 'elephant' | 'pajamas'\n",
        "V -> 'shot'\n",
        "P -> 'in'\n",
        "\"\"\")"
      ],
      "execution_count": null,
      "outputs": []
    },
    {
      "cell_type": "code",
      "metadata": {
        "id": "Dlsks-9Hr9FK"
      },
      "source": [
        "sent = ['I', 'shot', 'an', 'elephant', 'in', 'my', 'pajamas'] # qué pasaría si le damos una palabra que no está en la gramática?\n",
        "parser = nltk.ChartParser(groucho_grammar)\n",
        "for tree in parser.parse(sent): # acá nos va a imprimir todos árboles que puede generar. Si genera más de uno, la gramática es ambigua\n",
        "    print(tree)"
      ],
      "execution_count": null,
      "outputs": []
    },
    {
      "cell_type": "markdown",
      "metadata": {
        "id": "fbHfuSKUm-Tp"
      },
      "source": [
        "De forma similar, podemos crear una gramática basada en el Penn TreeBank corpus. Hay que tener cuidado con la incorporación de palabras y POS tags, dado que el parsing podría dar error por desconocer palabras. \n",
        "\n",
        "Los parsings recursivos descendentes pueden resultar costoso con las idas y vueltas al elegir reglas que no permiten hacer reducciones. En este contexto, NLTK permite el uso de gramáticas probabilísticas, la que asocia a cada regla una probabilidad. Luego, hay parser basados en programación dinámica y cálculos de probabilidades de generación del árbol de parsing para elegir la siguiente regla a utilizar. "
      ]
    },
    {
      "cell_type": "markdown",
      "metadata": {
        "id": "zlwSDUSinu6R"
      },
      "source": [
        "Si queremos utilizar un parser ya creado, NLTK permite utilizar los recursos Java de Stanford NLP, los cuales es necesario descargar. \n",
        "\n",
        "(A menos que estemos específicamente utilizando NLTK para todo el resto del procesamiento y no querramos utilizar otra biblioteca, no vale la pena tener que descargar e importar recursos Java.)"
      ]
    },
    {
      "cell_type": "code",
      "metadata": {
        "id": "X2lnKkUcko_y"
      },
      "source": [
        "# Descargamos la biblioteca base y la descomprimimos\n",
        "!echo \"Downloading CoreNLP...\"\n",
        "!wget \"http://nlp.stanford.edu/software/stanford-corenlp-4.0.0.zip\" -O corenlp.zip\n",
        "!unzip corenlp.zip\n",
        "!mv ./stanford-corenlp-4.0.0 ./corenlp"
      ],
      "execution_count": null,
      "outputs": []
    },
    {
      "cell_type": "code",
      "metadata": {
        "id": "NU-mR0UkyqEg"
      },
      "source": [
        "# seteamos variables de entorno\n",
        "import os\n",
        "os.environ[\"CORENLP_HOME\"] = \"./corenlp\""
      ],
      "execution_count": null,
      "outputs": []
    },
    {
      "cell_type": "code",
      "metadata": {
        "id": "jd_k2NlFaYdG"
      },
      "source": [
        "from nltk.parse.stanford import StanfordParser\n",
        "\n",
        "# necesitamos setear los paths a los jars que necesita el parser\n",
        "scp = StanfordParser(path_to_jar='./corenlp/stanford-corenlp-4.0.0.jar',path_to_models_jar=\"./corenlp/stanford-corenlp-4.0.0-models.jar\")\n",
        "\n",
        "parse, = scp.raw_parse(text_short)\n",
        "\n",
        "print(parse)\n"
      ],
      "execution_count": null,
      "outputs": []
    },
    {
      "cell_type": "markdown",
      "metadata": {
        "id": "HK1cr3h-unfg"
      },
      "source": [
        "Otra opción para usar con NLTK es importar un parser creado por [Berkley](https://pypi.org/project/benepar/) basado en deep learning disponible para 11 idiomas (a definir por el modelo importado).\n",
        "\n",
        "*Nota*. En el último tiempo hubo cambios grandes en la biblioteca con cambio incluso de pasar de usar Tensor Flow a usar PyTorch. Controlar en la instalación qué necesitan."
      ]
    },
    {
      "cell_type": "code",
      "metadata": {
        "id": "CAGgcx1MtDeU"
      },
      "source": [
        "pip install benepar"
      ],
      "execution_count": null,
      "outputs": []
    },
    {
      "cell_type": "code",
      "metadata": {
        "id": "Og4lx4Xiu-gI"
      },
      "source": [
        "import benepar\n",
        "\n",
        "benepar.download('benepar_en3') # descargamos el modelo que nos interesa, controlar el nombre del modelo!"
      ],
      "execution_count": null,
      "outputs": []
    },
    {
      "cell_type": "code",
      "metadata": {
        "id": "MHSOVv0GvEnk"
      },
      "source": [
        "parser = benepar.Parser(\"benepar_en3\") # la primera vez puede tardar\n",
        "\n",
        "input_sentence = benepar.InputSentence(\n",
        "    words=['\"', 'Fly', 'safely', '.', '\"'],\n",
        ")\n",
        "\n",
        "tree = parser.parse(input_sentence) # qué pasa si le ponemos una palabra en otro idioma?\n",
        "\n",
        "print(tree)"
      ],
      "execution_count": null,
      "outputs": []
    },
    {
      "cell_type": "markdown",
      "metadata": {
        "id": "aqEZm7iyvKoC"
      },
      "source": [
        "#### spaCy\n",
        "\n",
        "No lo soporta por defecto, pero podemos utilizar el mismo benepar que para NLTK agregándolo como un elemento más al pipeline."
      ]
    },
    {
      "cell_type": "code",
      "metadata": {
        "id": "8PLRyBHQtHGG"
      },
      "source": [
        "import spacy\n",
        "# from benepar.spacy_plugin import BeneparComponent # para versiones anteriores\n",
        "from benepar import BeneparComponent, NonConstituentException"
      ],
      "execution_count": null,
      "outputs": []
    },
    {
      "cell_type": "code",
      "metadata": {
        "id": "eFzezlURLyAL"
      },
      "source": [
        "spacy.__version__"
      ],
      "execution_count": null,
      "outputs": []
    },
    {
      "cell_type": "code",
      "metadata": {
        "id": "mJXvat-ktBDm"
      },
      "source": [
        "nlp_b = spacy.load('en_core_web_sm')\n",
        "\n",
        "if spacy.__version__.startswith('2'): # hablamos la clase pasada de diferencias de spacy entre las versiones\n",
        "        nlp.add_pipe(benepar.BeneparComponent(\"benepar_en3\"))\n",
        "    else:\n",
        "        nlp.add_pipe(\"benepar\", config={\"model\": \"benepar_en3\"})\n",
        "\n",
        "doc = nlp_b('I shot an elephant in my pajamas')\n",
        "\n",
        "sent = list(doc.sents)[0]\n",
        "print(sent._.parse_string)"
      ],
      "execution_count": null,
      "outputs": []
    },
    {
      "cell_type": "markdown",
      "metadata": {
        "id": "5K9g2fO5xiD8"
      },
      "source": [
        "#### Stanza\n",
        "\n",
        "No lo soporta en la implementación directa de Python, sino que al igual que para NLTK se debe recurrir a la implementación disponible en Stanford NLP Java, como vimos en una notebook anterior."
      ]
    },
    {
      "cell_type": "code",
      "metadata": {
        "id": "XDA0oztnHz3D"
      },
      "source": [
        "import stanza\n",
        "stanza.install_corenlp()"
      ],
      "execution_count": null,
      "outputs": []
    },
    {
      "cell_type": "code",
      "metadata": {
        "id": "CDCy3ef1ydqW"
      },
      "source": [
        "from stanza.server import CoreNLPClient"
      ],
      "execution_count": null,
      "outputs": []
    },
    {
      "cell_type": "code",
      "metadata": {
        "id": "I2FZHpDryNeR"
      },
      "source": [
        "client = CoreNLPClient(annotators=['parse'], memory='4G', endpoint='http://localhost:9001') # solo necesitamos el parse\n",
        "client.start()"
      ],
      "execution_count": null,
      "outputs": []
    },
    {
      "cell_type": "markdown",
      "metadata": {
        "id": "i36JIy1IF0Og"
      },
      "source": [
        "La inicialización del proceso puede tardar un poquito. Hasta que el proceso no aparezca, no podemos ejecutar la celda siguiente dado que dará error de conexión (si el proceso no está ejecutando, no hay nada a qué conectarse)."
      ]
    },
    {
      "cell_type": "code",
      "metadata": {
        "id": "2EAKQG38FxK6"
      },
      "source": [
        "!ps -o pid,cmd | grep java"
      ],
      "execution_count": null,
      "outputs": []
    },
    {
      "cell_type": "code",
      "metadata": {
        "id": "3DdRM8udyVcv"
      },
      "source": [
        "text = 'I shot an elephant in my pajamas'\n",
        "ann = client.annotate(text)\n",
        "sentence = ann.sentence[0]\n",
        "\n",
        "constituency_parse = sentence.parseTree\n",
        "\n",
        "print(constituency_parse.child[0])"
      ],
      "execution_count": null,
      "outputs": []
    },
    {
      "cell_type": "code",
      "metadata": {
        "id": "FFd-suS7yjsb"
      },
      "source": [
        "client.stop()"
      ],
      "execution_count": null,
      "outputs": []
    },
    {
      "cell_type": "markdown",
      "metadata": {
        "id": "EhJ_PsqiA9TH"
      },
      "source": [
        "### Dependency parsing\n",
        "\n",
        "A diferencia del constituency, no hace uso de las frases constituyentes o de las sub-frases. La sintaxis es expresada en términos de las dependencias directas entre palabras en un grafo. Permiten clasificar los tipos de relaciones o funciones gramaticales, como sujeto, objeto directo, objeto indirecto.\n",
        "\n",
        "* Gramáticas basadas en la dependencia analizan e infieren tanto la estructura como las dependencias semánticas y las relaciones entre los tokens en una oración.\n",
        "\n",
        "* En cualquier oración del idioma, todas las palabras, excepto una, tienen alguna relación o dependencia a otras palabras en la oración.\n",
        "* Relaciones son binarias.\n",
        "* Proveen una indicación de la semántica de la relación.\n",
        "\n",
        "* La palabra que no tiene dependencia se llama raíz de la oración.\n",
        "* El verbo se toma como la raíz de la oración en la mayoría de los casos.\n",
        "* Todas las otras palabras están directa o indirectamente vinculadas al verbo raíz mediante enlaces, que son las dependencias.\n"
      ]
    },
    {
      "cell_type": "markdown",
      "metadata": {
        "id": "Mn45ZJzlIo6t"
      },
      "source": [
        "* Un árbol de dependency parsing es un grafo G = (V, E) donde:\n",
        "  * V: los nodos son las palabras en la oración.\n",
        "  * E: los arcos conectan dos palabras y tienen asociado un tipo, el cual define la relación gramática entre las palabras.\n",
        "\n",
        "\n",
        "* El grafo debe satisfacer tres condiciones.\n",
        "  * Debe haber un único nodo raíz sin arcos entrantes.\n",
        "  * Cada nodo excepto la raíz debe tener un único arco entrante.\n",
        "  * Hay un camino único entre la raíz y cada uno de los nodos."
      ]
    },
    {
      "cell_type": "markdown",
      "metadata": {
        "id": "HCHUgd4AIsj_"
      },
      "source": [
        "Considerando la misma oración de ejemplo que en el caso anterior (I saw a fox):"
      ]
    },
    {
      "cell_type": "markdown",
      "metadata": {
        "id": "BGdZ1_Enap9i"
      },
      "source": [
        "![image.png](data:image/png;base64,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)"
      ]
    },
    {
      "cell_type": "markdown",
      "metadata": {
        "id": "NIYI2CtjdZ1b"
      },
      "source": [
        "#### NLTK\n",
        "\n",
        "Al igual que el parser anterior, NLTK requiere los recursos de Stanford NLP. Sin embargo, a diferencia del parser anterior, este requiere que esté ejecutando el server de Stanford NLP."
      ]
    },
    {
      "cell_type": "code",
      "metadata": {
        "id": "z7e7B63lfFxs"
      },
      "source": [
        "# Import client module\n",
        "from stanza.server import CoreNLPClient"
      ],
      "execution_count": null,
      "outputs": []
    },
    {
      "cell_type": "code",
      "metadata": {
        "id": "yPpNGG0cfJ4F"
      },
      "source": [
        "# definición de anotadores, memoria a asignar y el puerto de conexión\n",
        "client = CoreNLPClient(annotators=['tokenize','ssplit', 'pos', 'lemma', 'ner'], memory='4G', endpoint='http://localhost:9001') # la inicialización puede hacerse de forma directa llamando al java -cp\n",
        "print(client)\n",
        "\n",
        "client.start() "
      ],
      "execution_count": null,
      "outputs": []
    },
    {
      "cell_type": "markdown",
      "metadata": {
        "id": "YmicKWNOg4Tw"
      },
      "source": [
        "La inicialización del proceso puede tardar un poquito. Hasta que el proceso no aparezca, no podemos ejecutar la celda siguiente dado que dará error de conexión (si el proceso no está ejecutando, no hay nada a qué conectarse)."
      ]
    },
    {
      "cell_type": "code",
      "metadata": {
        "id": "PQauRV20gQcZ"
      },
      "source": [
        "!ps -o pid,cmd | grep java"
      ],
      "execution_count": null,
      "outputs": []
    },
    {
      "cell_type": "markdown",
      "metadata": {
        "id": "cY0tN9WMh4_h"
      },
      "source": [
        "El puerto debe coincidir con el puerto especificado más arriba.\n",
        "\n",
        "También se podría invocar directamente utilizando el ``jar`` sin necesidad de levantar el server.\n",
        "\n",
        "*Nota*. Puede fallar la conexión, reintentar."
      ]
    },
    {
      "cell_type": "code",
      "metadata": {
        "id": "vzy2TH7yLjkr"
      },
      "source": [
        "from nltk.parse.corenlp import CoreNLPDependencyParser\n",
        "dep_parser = CoreNLPDependencyParser(url='http://localhost:9001') "
      ],
      "execution_count": null,
      "outputs": []
    },
    {
      "cell_type": "code",
      "metadata": {
        "id": "QruEeWsLfLrW"
      },
      "source": [
        "parse, = dep_parser.raw_parse('The quick brown fox jumps over the lazy dog.')\n",
        "\n",
        "print(parse.to_conll(4))  "
      ],
      "execution_count": null,
      "outputs": []
    },
    {
      "cell_type": "code",
      "metadata": {
        "id": "ESh7Ej9ZfKWT"
      },
      "source": [
        "client.stop() # terminamos la ejecución del proceso java"
      ],
      "execution_count": null,
      "outputs": []
    },
    {
      "cell_type": "markdown",
      "metadata": {
        "id": "YW_usknBA_wY"
      },
      "source": [
        "#### spaCy\n",
        "\n",
        "Como en casi todo lo que hemos probado, no es necesario hacer nada especial dado que ya viene incluido en el pipeline por defecto. "
      ]
    },
    {
      "cell_type": "code",
      "metadata": {
        "id": "hAFRpy8peBrR"
      },
      "source": [
        "nlp = spacy.load(\"en_core_web_sm\") \n",
        "hp_short_doc = nlp(text_short)\n",
        "\n",
        "for token in hp_short_doc:\n",
        "    print(\"{2}({3}-{6}, {0}-{5})\".format(token.text, token.tag_, token.dep_, token.head.text, token.head.tag_, token.i+1, token.head.i+1))"
      ],
      "execution_count": null,
      "outputs": []
    },
    {
      "cell_type": "markdown",
      "metadata": {
        "id": "8tellUkVeFz3"
      },
      "source": [
        "Si quisieramos verlo más bonito, con forma de grafo."
      ]
    },
    {
      "cell_type": "code",
      "metadata": {
        "id": "34fiGg_hA9ot"
      },
      "source": [
        "from spacy import displacy\n",
        "\n",
        "displacy.render(hp_short_doc, jupyter=True, options={'distance': 110,'arrow_stroke': 2,'arrow_width': 8})"
      ],
      "execution_count": null,
      "outputs": []
    },
    {
      "cell_type": "markdown",
      "metadata": {
        "id": "bzoUj95SdF5t"
      },
      "source": [
        "### Stanza\n",
        "\n",
        "Si bien esta biblioteca está asociada a la versión Java de Staford NLP, el dependency parser se encuentra disponible en la versión de Python, con lo que no es necesario invocar a los recursos de Java."
      ]
    },
    {
      "cell_type": "code",
      "metadata": {
        "id": "1fdQKrpzamk4"
      },
      "source": [
        "nlp_stanza = stanza.Pipeline(lang='en', processors='tokenize,mwt,pos,lemma,depparse') # depparse es el que nos obtendrá las dependencias, todos los componentes anteriores son los que requiere depparse para funcionar\n",
        "\n",
        "hp_doc_stanza = nlp_stanza(text_short)\n",
        "\n",
        "print(*[f'id: {word.id}\\tword: {word.text}\\thead id: {word.head}\\thead: {sent.words[word.head-1].text if word.head > 0 else \"root\"}\\tdeprel: {word.deprel}' for sent in hp_doc_stanza.sentences for word in sent.words], sep='\\n')"
      ],
      "execution_count": null,
      "outputs": []
    },
    {
      "cell_type": "markdown",
      "metadata": {
        "id": "Mq_DeIieatnI"
      },
      "source": [
        "### Constituency parsing vs Dependency parsing"
      ]
    },
    {
      "cell_type": "markdown",
      "metadata": {
        "id": "1ql7yJS5awzv"
      },
      "source": [
        "![image.png](data:image/png;base64,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)"
      ]
    },
    {
      "cell_type": "markdown",
      "metadata": {
        "id": "rP7eEkF_azZd"
      },
      "source": [
        "![image.png](data:image/png;base64,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)"
      ]
    },
    {
      "cell_type": "markdown",
      "metadata": {
        "id": "uUyNiFdLa295"
      },
      "source": [
        "Depende de para qué se vayan a utilizar las estructruras detectadas. Ambos parsers se pueden utilizar para la extracción de características para entrenar modelos supervisados.\n",
        "\n",
        "* **Dependency parsing.**\n",
        "  * Útil para tareas como Extracción de Información o Question Answering.\n",
        "  * Sencillo extraer las triplas sujeto-verbo-objetos que son a menudo indicadoras de las relaciones semánticas entre los predicados.\n",
        "  * Para lenguajes que no imponen un orden específico a las palabras en una oración.\n",
        "\n",
        "* **Constituency parsing.**\n",
        "  * Extraer sub-frases de una oración.\n",
        "  * No es que no se puedan realizar las tareas que se describen para Dependency, sino que hay que agregar procesamiento al árbol.\n",
        "  * Chequeo de gramática.\n"
      ]
    }
  ]
}