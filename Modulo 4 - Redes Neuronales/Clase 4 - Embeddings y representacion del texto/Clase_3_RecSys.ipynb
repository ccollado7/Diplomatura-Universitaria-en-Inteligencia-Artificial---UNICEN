{
  "nbformat": 4,
  "nbformat_minor": 0,
  "metadata": {
    "accelerator": "GPU",
    "colab": {
      "name": "Clase-3-RecSys.ipynb",
      "provenance": [],
      "collapsed_sections": []
    },
    "kernelspec": {
      "display_name": "Python 3",
      "name": "python3"
    }
  },
  "cells": [
    {
      "cell_type": "markdown",
      "metadata": {
        "id": "LsH-doG_1Hm5"
      },
      "source": [
        "# Cargar Movilens"
      ]
    },
    {
      "cell_type": "code",
      "metadata": {
        "id": "yUEAS8ZQsjn3"
      },
      "source": [
        "!wget https://files.grouplens.org/datasets/movielens/ml-100k.zip\n",
        "!unzip ml-100k.zip"
      ],
      "execution_count": null,
      "outputs": []
    },
    {
      "cell_type": "code",
      "metadata": {
        "id": "QSK_0QbFuETK"
      },
      "source": [
        "import pandas as pd\n",
        "import numpy as np \n",
        "from tqdm.notebook import tqdm\n",
        "from sklearn.metrics import ndcg_score\n",
        "\n",
        "train = pd.read_csv('ml-100k/u1.base', header=None, sep='\\t')\n",
        "train.columns = ['user', 'movie', 'rating', 'extra']\n",
        "\n",
        "test = pd.read_csv('ml-100k/u1.test', header=None, sep='\\t')\n",
        "test.columns = ['user', 'movie', 'rating', 'extra']\n",
        "\n",
        "train = train[train['user'].isin(set(test['user']))]\n",
        "train = train[train['movie'].isin(set(test['movie']))]\n",
        "test = test[test['user'].isin(set(train['user']))]\n",
        "test = test[test['movie'].isin(set(train['movie']))]"
      ],
      "execution_count": null,
      "outputs": []
    },
    {
      "cell_type": "code",
      "metadata": {
        "id": "aVQf1XngvUB6"
      },
      "source": [
        "max_show = 10\n",
        "train.describe()"
      ],
      "execution_count": null,
      "outputs": []
    },
    {
      "cell_type": "markdown",
      "metadata": {
        "id": "u9T47VNn1Tp3"
      },
      "source": [
        "# Procesar\n",
        "\n",
        "En esta sección se preprocesan los datos para asignarle un indice en base 0 tanto a los usuarios como a las películas."
      ]
    },
    {
      "cell_type": "code",
      "metadata": {
        "id": "w0MdtvFfu4US"
      },
      "source": [
        "print(len(set(train['user'])))\n",
        "print(len(set(test['user'])))\n",
        "\n",
        "print(len(set(train['movie'])))\n",
        "print(len(set(test['movie'])))\n",
        "\n",
        "print(len(set(test['movie'])-set(train['movie'])))\n",
        "print(len(set(test['user'])-set(train['user'])))"
      ],
      "execution_count": null,
      "outputs": []
    },
    {
      "cell_type": "code",
      "metadata": {
        "id": "vqLFhMBJvt25"
      },
      "source": [
        "users = list(set(train['user']))\n",
        "users.sort()\n",
        "u_id = {u: i for i, u in enumerate(users)}\n",
        "\n",
        "movies = list(set(train['movie']))\n",
        "movies.sort()\n",
        "m_id = {m: i for i, m in enumerate(movies)}"
      ],
      "execution_count": null,
      "outputs": []
    },
    {
      "cell_type": "code",
      "metadata": {
        "id": "namxHpQ1w8vy"
      },
      "source": [
        "u_train = [u_id[u] for u in train['user']]\n",
        "u_test = [u_id[u] for u in test['user']]\n",
        "\n",
        "m_train = [m_id[m] for m in train['movie']]\n",
        "m_test = [m_id[m] for m in test['movie']]\n",
        "\n",
        "r_train = train['rating']\n",
        "r_test = test['rating']"
      ],
      "execution_count": null,
      "outputs": []
    },
    {
      "cell_type": "code",
      "metadata": {
        "id": "GFLe1EeGmqzc"
      },
      "source": [
        "def test_matrix(users, movies, u_test, m_test, r_test):\n",
        "    mat = np.zeros((len(users), len(movies)))\n",
        "    for u, m, r in zip(u_test, m_test, r_test):\n",
        "        mat[u, m] = r\n",
        "    return mat "
      ],
      "execution_count": null,
      "outputs": []
    },
    {
      "cell_type": "code",
      "metadata": {
        "id": "qrAZH128mE2m"
      },
      "source": [
        "def predict(model, users, movies, u_train, m_train):\n",
        "    mat = np.zeros((len(users), len(movies)))\n",
        "    for u in tqdm(users):\n",
        "        u_p = np.repeat(np.asarray([u]), len(movies))[:, np.newaxis]\n",
        "        m_p = np.arange(len(movies))[:, np.newaxis]\n",
        "        pred = model.predict([u_p, m_p], batch_size=len(movies))\n",
        "        mat[u_p[:,0], m_p[:, 0]] = pred[:, 0]\n",
        "    print(mat.shape)\n",
        "    for u, m in zip(u_train, m_train):\n",
        "        mat[u, m] = 0\n",
        "    return mat"
      ],
      "execution_count": null,
      "outputs": []
    },
    {
      "cell_type": "markdown",
      "metadata": {
        "id": "rhrxhw1R2JAm"
      },
      "source": [
        "# Modelo Basado en factorización de matrices\n",
        "\n",
        "En estos modelos se asume que existen carácteristicas latentes que relacionan a los usuarios con los items.\n",
        "\n",
        "||Película 1|Película 2|Película 3|Película 4|Película 5|\n",
        "|-|-|-|-|-|-| \n",
        "|Usuario 1|?|4|?|3|?|\n",
        "|Usuario 2|1|2|?|?|?|\n",
        "|Usuario 3|3|?|4|?|3|\n",
        "|Usuario 4|5|4|?|4|?|\n",
        "|Usuario 5|3|?|2|?|5|\n",
        "\n",
        "\n",
        "$Ratings=U \\cdot M^T$\n",
        "\n",
        "Donde $U$ es una matrix de $Usuarios x Factores$ y $M$ es una matriz de $Películas x Factores$\n",
        "\n"
      ]
    },
    {
      "cell_type": "code",
      "metadata": {
        "id": "GJL7JQL11Zmf"
      },
      "source": [
        "from tensorflow.keras.layers import Dense, Concatenate, Flatten, Dot, Input, Embedding\n",
        "from tensorflow.keras.models import Model\n",
        "\n",
        "iu = Input((1,), name='user_i')\n",
        "ue = Flatten()(Embedding(len(set(users)), 50, name='emb_user')(iu))\n",
        "\n",
        "im = Input((1,), name='movie_i')\n",
        "me = Flatten()(Embedding(len(set(movies)),50, name='emb_movie')(im))\n",
        "\n",
        "d = Dot(axes=-1)([ue, me])\n",
        "\n",
        "model = Model([iu, im], d)\n",
        "\n",
        "model.compile(loss='mse', optimizer='nadam', metrics=['mae'])\n",
        "model.summary()"
      ],
      "execution_count": null,
      "outputs": []
    },
    {
      "cell_type": "code",
      "metadata": {
        "id": "lnW2bxM-1C85"
      },
      "source": [
        "from tensorflow.keras.utils import plot_model\n",
        "\n",
        "plot_model(model, show_shapes=True, show_layer_names=True, to_file='model.png')\n",
        "from IPython.display import Image\n",
        "Image(retina=True, filename='model.png')"
      ],
      "execution_count": null,
      "outputs": []
    },
    {
      "cell_type": "code",
      "metadata": {
        "id": "DhQ31eIn1xod"
      },
      "source": [
        "model.fit([np.expand_dims(u_train, axis=-1), np.expand_dims(m_train, axis=-1)], np.expand_dims(train['rating'], axis=-1),\n",
        "          epochs=10, batch_size=128,\n",
        "          validation_data=([np.expand_dims(u_test, axis=-1), np.expand_dims(m_test, axis=-1)], \n",
        "                           np.expand_dims(test['rating'], axis=-1)))"
      ],
      "execution_count": null,
      "outputs": []
    },
    {
      "cell_type": "code",
      "metadata": {
        "id": "vYjEsQpf2J23"
      },
      "source": [
        "r_pred = model.predict([np.expand_dims(u_test, axis=-1), np.expand_dims(m_test, axis=-1)])\n",
        "\n",
        "for t, p in zip(test['rating'][:max_show], r_pred[:max_show, 0]):\n",
        "    print(\"Real: {} Predicho: {}\".format(t, p))"
      ],
      "execution_count": null,
      "outputs": []
    },
    {
      "cell_type": "code",
      "metadata": {
        "id": "P-2e5o912KCw"
      },
      "source": [
        "real = test_matrix(u_id.values(), m_id.values(), u_test, m_test, test['rating'])\n",
        "pred = predict(model, u_id.values(), m_id.values(), u_train, m_train)"
      ],
      "execution_count": null,
      "outputs": []
    },
    {
      "cell_type": "code",
      "metadata": {
        "id": "ghfCjX8Y2i4p"
      },
      "source": [
        "print(ndcg_score(real, pred, k=10))\n",
        "print(ndcg_score(real, pred, k=20))\n",
        "print(ndcg_score(real, pred, k=30))\n",
        "print(ndcg_score(real, pred, k=100))"
      ],
      "execution_count": null,
      "outputs": []
    },
    {
      "cell_type": "markdown",
      "metadata": {
        "id": "bwyY13Hw28uv"
      },
      "source": [
        "#Modelo Factorización + Bias\n",
        "\n",
        "Similar a lo presentado anteriorimente, pero asume que además de las matrices de factores, existen valores de bias del usuario y de las películas. La predicción está dada por:\n",
        "\n",
        "$Rating_{u, i}=U_u \\cdot M_i + Bias_u + Bias_i$"
      ]
    },
    {
      "cell_type": "code",
      "metadata": {
        "id": "zjBX-atp3qDZ"
      },
      "source": [
        "from tensorflow.keras.layers import Input, Embedding, Dot, Add, Flatten, Activation\n",
        "from tensorflow.keras.models import Model\n",
        "from tensorflow.keras.regularizers import l2\n",
        "\n",
        "emb_size = 50\n",
        "\n",
        "iu = Input((1,), name='user_i')\n",
        "ue = Embedding(len(set(users)), emb_size, name='emb_user')(iu)\n",
        "ub = Embedding(len(set(users)), 1, name='bias_user')(iu)\n",
        "\n",
        "im = Input((1,), name='movie_i')\n",
        "me = Embedding(len(set(movies)), emb_size, name='emb_movie')(im)\n",
        "mb = Embedding(len(set(movies)), 1, name='bias_movie')(im)\n",
        "\n",
        "dot = Dot(axes=-1)([ue, me])\n",
        "\n",
        "biases = Add()([dot, ub, mb])\n",
        "\n",
        "out = Flatten()(biases)\n",
        "\n",
        "model = Model([iu, im], out)\n",
        "\n",
        "model.compile(loss='mse', optimizer='nadam', metrics=['mae'])\n",
        "model.summary()"
      ],
      "execution_count": null,
      "outputs": []
    },
    {
      "cell_type": "code",
      "metadata": {
        "id": "n61tbQ_35jnZ"
      },
      "source": [
        "from tensorflow.keras.utils import plot_model\n",
        "\n",
        "plot_model(model, show_shapes=True, show_layer_names=True, to_file='model.png')\n",
        "from IPython.display import Image\n",
        "Image(retina=True, filename='model.png')"
      ],
      "execution_count": null,
      "outputs": []
    },
    {
      "cell_type": "code",
      "metadata": {
        "id": "Pw9lXv2N32XF"
      },
      "source": [
        "model.fit([np.expand_dims(u_train, axis=-1), np.expand_dims(m_train, axis=-1)], np.expand_dims(train['rating'], axis=-1),\n",
        "          epochs=10, batch_size=128,\n",
        "          validation_data=([np.expand_dims(u_test, axis=-1), np.expand_dims(m_test, axis=-1)], \n",
        "                           np.expand_dims(test['rating'], axis=-1)))"
      ],
      "execution_count": null,
      "outputs": []
    },
    {
      "cell_type": "code",
      "metadata": {
        "id": "Hp_I_Mnh32si"
      },
      "source": [
        "r_pred = model.predict([np.expand_dims(u_test, axis=-1), np.expand_dims(m_test, axis=-1)])\n",
        "\n",
        "for t, p in zip(test['rating'][:max_show], r_pred[:max_show, 0]):\n",
        "    print(\"Real: {} Predicho: {}\".format(t, p))"
      ],
      "execution_count": null,
      "outputs": []
    },
    {
      "cell_type": "code",
      "metadata": {
        "id": "p876KF4s323X"
      },
      "source": [
        "real = test_matrix(u_id.values(), m_id.values(), u_test, m_test, test['rating'])\n",
        "pred = predict(model, u_id.values(), m_id.values(), u_train, m_train)"
      ],
      "execution_count": null,
      "outputs": []
    },
    {
      "cell_type": "code",
      "metadata": {
        "id": "Y_61USWg4CTF"
      },
      "source": [
        "print(ndcg_score(real, pred, k=10))\n",
        "print(ndcg_score(real, pred, k=20))\n",
        "print(ndcg_score(real, pred, k=30))\n",
        "print(ndcg_score(real, pred, k=100))"
      ],
      "execution_count": null,
      "outputs": []
    },
    {
      "cell_type": "markdown",
      "metadata": {
        "id": "J6dK7tJi71xU"
      },
      "source": [
        "# Modelo DL\n",
        "\n",
        "También se puede definir algún modelo arbitrario."
      ]
    },
    {
      "cell_type": "code",
      "metadata": {
        "id": "BRXbzmBH75ES"
      },
      "source": [
        "from tensorflow.keras.layers import Dense, Concatenate, Flatten, Dropout\n",
        "from tensorflow.keras.models import Model\n",
        "from tensorflow.keras.regularizers import l2\n",
        "\n",
        "iu = Input((1,), name='user_i')\n",
        "ue = Embedding(len(set(users)), 50, name='emb_user')(iu)\n",
        "\n",
        "im = Input((1,), name='movie_i')\n",
        "me = Embedding(len(set(movies)),50, name='emb_movie')(im)\n",
        "\n",
        "f = Concatenate(axis=-1)([Flatten()(ue), Flatten()(me)])\n",
        "\n",
        "d = Dense(50)(f)\n",
        "d = Dense(50)(d)\n",
        "d = Dense(50)(d)\n",
        "d = Dense(1)(d)\n",
        "\n",
        "model = Model([iu, im], d)\n",
        "\n",
        "model.compile(loss='mse', optimizer='nadam', metrics=['mae'])\n",
        "model.summary()"
      ],
      "execution_count": null,
      "outputs": []
    },
    {
      "cell_type": "code",
      "metadata": {
        "id": "Di8ABgc-78WC"
      },
      "source": [
        "from tensorflow.keras.utils import plot_model\n",
        "\n",
        "plot_model(model, show_shapes=True, show_layer_names=True, to_file='model.png')\n",
        "from IPython.display import Image\n",
        "Image(retina=True, filename='model.png')"
      ],
      "execution_count": null,
      "outputs": []
    },
    {
      "cell_type": "code",
      "metadata": {
        "id": "LXS2XH9K75Wv"
      },
      "source": [
        "model.fit([np.expand_dims(u_train, axis=-1), np.expand_dims(m_train, axis=-1)], np.expand_dims(train['rating'], axis=-1),\n",
        "          epochs=10, batch_size=128,\n",
        "          validation_data=([np.expand_dims(u_test, axis=-1), np.expand_dims(m_test, axis=-1)], \n",
        "                           np.expand_dims(test['rating'], axis=-1)))"
      ],
      "execution_count": null,
      "outputs": []
    },
    {
      "cell_type": "code",
      "metadata": {
        "id": "1Zmppy7l75aD"
      },
      "source": [
        "r_pred = model.predict([np.expand_dims(u_test, axis=-1), np.expand_dims(m_test, axis=-1)])\n",
        "\n",
        "for t, p in zip(test['rating'][:max_show], r_pred[:max_show, 0]):\n",
        "    print(\"Real: {} Predicho: {}\".format(t, p))"
      ],
      "execution_count": null,
      "outputs": []
    },
    {
      "cell_type": "code",
      "metadata": {
        "id": "GdMLRpUi75d9"
      },
      "source": [
        "real = test_matrix(u_id.values(), m_id.values(), u_test, m_test, test['rating'])\n",
        "pred = predict(model, u_id.values(), m_id.values(), u_train, m_train)"
      ],
      "execution_count": null,
      "outputs": []
    },
    {
      "cell_type": "code",
      "metadata": {
        "id": "OtGtcwXz75g1"
      },
      "source": [
        "print(ndcg_score(real, pred, k=10))\n",
        "print(ndcg_score(real, pred, k=20))\n",
        "print(ndcg_score(real, pred, k=30))\n",
        "print(ndcg_score(real, pred, k=100))"
      ],
      "execution_count": null,
      "outputs": []
    },
    {
      "cell_type": "markdown",
      "metadata": {
        "id": "yHhYbLlI1cC8"
      },
      "source": [
        "# Modelo Binario con Bias \n",
        "\n",
        "En este caso es similar, solo que se decide si una película le va a interesar al usuario o no. Poniendo como límite las 3 estrellas."
      ]
    },
    {
      "cell_type": "code",
      "metadata": {
        "id": "uha_wieUcYYw"
      },
      "source": [
        "min_r = min(r_train)\n",
        "max_r = max(r_train)\n",
        "\n",
        "r_train = (r_train - min_r) / (max_r - min_r)\n",
        "r_test = (r_test - min_r) / (max_r - min_r)\n",
        "r_test_full = r_test\n",
        "\n",
        "r_train = np.where(r_train > 0.5, 1, 0)\n",
        "r_test = np.where(r_test > 0.5, 1, 0)"
      ],
      "execution_count": null,
      "outputs": []
    },
    {
      "cell_type": "code",
      "metadata": {
        "id": "bAVJIGEKVzja"
      },
      "source": [
        "from tensorflow.keras.layers import Input, Embedding, Dot, Add, Flatten, Activation\n",
        "from tensorflow.keras.models import Model\n",
        "from tensorflow.keras.regularizers import l2\n",
        "\n",
        "emb_size = 50\n",
        "\n",
        "iu = Input((1,), name='user_i')\n",
        "ue = Embedding(len(set(users)), emb_size, name='emb_user')(iu)\n",
        "ub = Embedding(len(set(users)), 1, name='bias_user')(iu)\n",
        "\n",
        "im = Input((1,), name='movie_i')\n",
        "me = Embedding(len(set(movies)), emb_size, name='emb_movie')(im)\n",
        "mb = Embedding(len(set(movies)), 1, name='bias_movie')(im)\n",
        "\n",
        "dot = Dot(axes=-1)([ue, me])\n",
        "\n",
        "biases = Add()([dot, ub, mb])\n",
        "\n",
        "out = Activation('sigmoid')(Flatten()(biases))\n",
        "\n",
        "model = Model([iu, im], out)\n",
        "\n",
        "model.compile(loss='binary_crossentropy', optimizer='nadam', metrics=['mae'])\n",
        "model.summary()"
      ],
      "execution_count": null,
      "outputs": []
    },
    {
      "cell_type": "code",
      "metadata": {
        "id": "hS1kCBP2ZIsL"
      },
      "source": [
        "from tensorflow.keras.utils import plot_model\n",
        "\n",
        "plot_model(model, show_shapes=True, show_layer_names=True, to_file='model.png')\n",
        "from IPython.display import Image\n",
        "Image(retina=True, filename='model.png')"
      ],
      "execution_count": null,
      "outputs": []
    },
    {
      "cell_type": "code",
      "metadata": {
        "id": "4imqkCDmZG_p"
      },
      "source": [
        "print(u_train[:10])\n",
        "print(m_train[:10])\n",
        "print(r_train[:10])"
      ],
      "execution_count": null,
      "outputs": []
    },
    {
      "cell_type": "code",
      "metadata": {
        "id": "7a1zKPFTXPBm"
      },
      "source": [
        "model.fit([np.expand_dims(u_train, axis=-1), np.expand_dims(m_train, axis=-1)], np.expand_dims(r_train, axis=-1),\n",
        "          epochs=10, batch_size=512,\n",
        "          validation_data=([np.expand_dims(u_test, axis=-1), np.expand_dims(m_test, axis=-1)], np.expand_dims(r_test, axis=-1)))"
      ],
      "execution_count": null,
      "outputs": []
    },
    {
      "cell_type": "code",
      "metadata": {
        "id": "hB6nxfP9aMka"
      },
      "source": [
        "r_pred = model.predict([np.expand_dims(u_test, axis=-1), np.expand_dims(m_test, axis=-1)])\n",
        "\n",
        "for t, p in zip(test['rating'][:max_show], r_pred[:max_show, 0]):\n",
        "    print(\"Real: {} Predicho: {}\".format(t, p* (max_r - min_r) + min_r))"
      ],
      "execution_count": null,
      "outputs": []
    },
    {
      "cell_type": "code",
      "metadata": {
        "id": "uV6EdWcapkoT"
      },
      "source": [
        "real = test_matrix(u_id.values(), m_id.values(), u_test, m_test, r_test_full)\n",
        "pred = predict(model, u_id.values(), m_id.values(), u_train, m_train)"
      ],
      "execution_count": null,
      "outputs": []
    },
    {
      "cell_type": "code",
      "metadata": {
        "id": "IK2H3jTLqUnn"
      },
      "source": [
        "from sklearn.metrics import ndcg_score\n",
        "\n",
        "print(ndcg_score(real, pred, k=10))\n",
        "print(ndcg_score(real, pred, k=20))\n",
        "print(ndcg_score(real, pred, k=30))\n",
        "print(ndcg_score(real, pred, k=100))"
      ],
      "execution_count": null,
      "outputs": []
    },
    {
      "cell_type": "markdown",
      "metadata": {
        "id": "eXkwKaUp1m9W"
      },
      "source": [
        "# Modelo DL"
      ]
    },
    {
      "cell_type": "code",
      "metadata": {
        "id": "aMyTv6RphtHy"
      },
      "source": [
        "from tensorflow.keras.layers import Dense, Concatenate, Flatten, Dropout\n",
        "from tensorflow.keras.models import Model\n",
        "from tensorflow.keras.regularizers import l2\n",
        "\n",
        "iu = Input((1,), name='user_i')\n",
        "ue = Embedding(len(set(users)), 50, name='emb_user')(iu)\n",
        "\n",
        "im = Input((1,), name='movie_i')\n",
        "me = Embedding(len(set(movies)),50, name='emb_movie')(im)\n",
        "\n",
        "f = Concatenate(axis=-1)([Flatten()(ue), Flatten()(me)])\n",
        "\n",
        "d = Dense(50)(f)\n",
        "d = Dense(50)(d)\n",
        "d = Dense(50)(d)\n",
        "d = Dense(1, activation='sigmoid')(d)\n",
        "\n",
        "model = Model([iu, im], d)\n",
        "\n",
        "model.compile(loss='binary_crossentropy', optimizer='nadam', metrics=['mae'])\n",
        "model.summary()"
      ],
      "execution_count": null,
      "outputs": []
    },
    {
      "cell_type": "code",
      "metadata": {
        "id": "8s4syWKWZJzd"
      },
      "source": [
        "from tensorflow.keras.utils import plot_model\n",
        "\n",
        "plot_model(model, show_shapes=True, show_layer_names=True, to_file='model.png')\n",
        "from IPython.display import Image\n",
        "Image(retina=True, filename='model.png')"
      ],
      "execution_count": null,
      "outputs": []
    },
    {
      "cell_type": "code",
      "metadata": {
        "id": "kO2RexUfiWUK"
      },
      "source": [
        "model.fit([np.expand_dims(u_train, axis=-1), np.expand_dims(m_train, axis=-1)], np.expand_dims(r_train, axis=-1),\n",
        "          epochs=10, batch_size=128,\n",
        "          validation_data=([np.expand_dims(u_test, axis=-1), np.expand_dims(m_test, axis=-1)], np.expand_dims(r_test, axis=-1)))"
      ],
      "execution_count": null,
      "outputs": []
    },
    {
      "cell_type": "code",
      "metadata": {
        "id": "0LiNj3m5ieVZ"
      },
      "source": [
        "r_pred = model.predict([np.expand_dims(u_test, axis=-1), np.expand_dims(m_test, axis=-1)])\n",
        "\n",
        "for t, p in zip(test['rating'][:max_show], r_pred[:max_show, 0]):\n",
        "    print(\"Real: {} Predicho: {}\".format(t, p* (max_r - min_r) + min_r))"
      ],
      "execution_count": null,
      "outputs": []
    },
    {
      "cell_type": "code",
      "metadata": {
        "id": "MMqf_88G6vqL"
      },
      "source": [
        "real = test_matrix(u_id.values(), m_id.values(), u_test, m_test, r_test_full)\n",
        "pred = predict(model, u_id.values(), m_id.values(), u_train, m_train)"
      ],
      "execution_count": null,
      "outputs": []
    },
    {
      "cell_type": "code",
      "metadata": {
        "id": "nnjclVAxq7Al"
      },
      "source": [
        "print(ndcg_score(real, pred, k=10))\n",
        "print(ndcg_score(real, pred, k=20))\n",
        "print(ndcg_score(real, pred, k=30))\n",
        "print(ndcg_score(real, pred, k=100))"
      ],
      "execution_count": null,
      "outputs": []
    },
    {
      "cell_type": "markdown",
      "metadata": {
        "id": "9nEXk6el6l52"
      },
      "source": [
        "# Bibliografía extra:\n",
        "\n",
        "* [Factorización de matrices](https://developers.google.com/machine-learning/recommendation/collaborative/matrix)\n",
        "* [Wide & Deep Learning](https://ai.googleblog.com/2016/06/wide-deep-learning-better-together-with.html)\n",
        "* [Wide & Deep Learning for Recommender Systems](https://arxiv.org/abs/1606.07792)\n",
        "* [Deep Matrix Factorization](https://arxiv.org/abs/2010.00380)\n",
        "* [xDeepFM: Combining Explicit and Implicit Feature Interactions for Recommender Systems](https://arxiv.org/abs/1803.05170)\n",
        "* [Nvidia: How to Build a Winning Recommendation System Part 1](https://developer.nvidia.com/blog/how-to-build-a-winning-recommendation-system-part-1/)\n",
        "* [Nvidia: How to Build a Winning Recommendation System Part 2](https://developer.nvidia.com/blog/how-to-build-a-winning-recommendation-system-part-2-deep-learning-for-recommender-systems/)\n",
        "*[Nvidia: How to Build a Winning Recommendation System Part 3](https://developer.nvidia.com/blog/how-to-build-a-winning-deep-learning-powered-recommender-system-part-3/)"
      ]
    }
  ]
}