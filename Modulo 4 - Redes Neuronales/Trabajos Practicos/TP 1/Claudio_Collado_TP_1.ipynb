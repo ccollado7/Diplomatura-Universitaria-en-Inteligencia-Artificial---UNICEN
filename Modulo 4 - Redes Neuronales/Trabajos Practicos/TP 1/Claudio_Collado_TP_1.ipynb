{
  "nbformat": 4,
  "nbformat_minor": 0,
  "metadata": {
    "kernelspec": {
      "display_name": "Python 3",
      "language": "python",
      "name": "python3"
    },
    "language_info": {
      "codemirror_mode": {
        "name": "ipython",
        "version": 3
      },
      "file_extension": ".py",
      "mimetype": "text/x-python",
      "name": "python",
      "nbconvert_exporter": "python",
      "pygments_lexer": "ipython3",
      "version": "3.7.7"
    },
    "colab": {
      "name": "Claudio Collado - TP-1.ipynb",
      "provenance": [],
      "collapsed_sections": []
    },
    "widgets": {
      "application/vnd.jupyter.widget-state+json": {
        "7fcee752c29942e6aaf0e003f9d5c32c": {
          "model_module": "@jupyter-widgets/controls",
          "model_name": "HBoxModel",
          "model_module_version": "1.5.0",
          "state": {
            "_view_name": "HBoxView",
            "_dom_classes": [],
            "_model_name": "HBoxModel",
            "_view_module": "@jupyter-widgets/controls",
            "_model_module_version": "1.5.0",
            "_view_count": null,
            "_view_module_version": "1.5.0",
            "box_style": "",
            "layout": "IPY_MODEL_0256a49a118341c798f394729f3afcfd",
            "_model_module": "@jupyter-widgets/controls",
            "children": [
              "IPY_MODEL_21f20087a424479a9a9a4d0a20c48bac",
              "IPY_MODEL_ec828b4fa8844e90890e97d39810bd42",
              "IPY_MODEL_47973da94a424f5ebad596d8f6898e72"
            ]
          }
        },
        "0256a49a118341c798f394729f3afcfd": {
          "model_module": "@jupyter-widgets/base",
          "model_name": "LayoutModel",
          "model_module_version": "1.2.0",
          "state": {
            "_view_name": "LayoutView",
            "grid_template_rows": null,
            "right": null,
            "justify_content": null,
            "_view_module": "@jupyter-widgets/base",
            "overflow": null,
            "_model_module_version": "1.2.0",
            "_view_count": null,
            "flex_flow": null,
            "width": null,
            "min_width": null,
            "border": null,
            "align_items": null,
            "bottom": null,
            "_model_module": "@jupyter-widgets/base",
            "top": null,
            "grid_column": null,
            "overflow_y": null,
            "overflow_x": null,
            "grid_auto_flow": null,
            "grid_area": null,
            "grid_template_columns": null,
            "flex": null,
            "_model_name": "LayoutModel",
            "justify_items": null,
            "grid_row": null,
            "max_height": null,
            "align_content": null,
            "visibility": null,
            "align_self": null,
            "height": null,
            "min_height": null,
            "padding": null,
            "grid_auto_rows": null,
            "grid_gap": null,
            "max_width": null,
            "order": null,
            "_view_module_version": "1.2.0",
            "grid_template_areas": null,
            "object_position": null,
            "object_fit": null,
            "grid_auto_columns": null,
            "margin": null,
            "display": null,
            "left": null
          }
        },
        "21f20087a424479a9a9a4d0a20c48bac": {
          "model_module": "@jupyter-widgets/controls",
          "model_name": "HTMLModel",
          "model_module_version": "1.5.0",
          "state": {
            "_view_name": "HTMLView",
            "style": "IPY_MODEL_6889aedddd7641e189240dc44e33ae10",
            "_dom_classes": [],
            "description": "",
            "_model_name": "HTMLModel",
            "placeholder": "​",
            "_view_module": "@jupyter-widgets/controls",
            "_model_module_version": "1.5.0",
            "value": "100%",
            "_view_count": null,
            "_view_module_version": "1.5.0",
            "description_tooltip": null,
            "_model_module": "@jupyter-widgets/controls",
            "layout": "IPY_MODEL_1b9b53603bf44a78922c8742100c065a"
          }
        },
        "ec828b4fa8844e90890e97d39810bd42": {
          "model_module": "@jupyter-widgets/controls",
          "model_name": "FloatProgressModel",
          "model_module_version": "1.5.0",
          "state": {
            "_view_name": "ProgressView",
            "style": "IPY_MODEL_b7383d007e04437db1e7ff92e6e19793",
            "_dom_classes": [],
            "description": "",
            "_model_name": "FloatProgressModel",
            "bar_style": "success",
            "max": 200,
            "_view_module": "@jupyter-widgets/controls",
            "_model_module_version": "1.5.0",
            "value": 200,
            "_view_count": null,
            "_view_module_version": "1.5.0",
            "orientation": "horizontal",
            "min": 0,
            "description_tooltip": null,
            "_model_module": "@jupyter-widgets/controls",
            "layout": "IPY_MODEL_da556e7e1e4e4d69a1dee02f5594c44c"
          }
        },
        "47973da94a424f5ebad596d8f6898e72": {
          "model_module": "@jupyter-widgets/controls",
          "model_name": "HTMLModel",
          "model_module_version": "1.5.0",
          "state": {
            "_view_name": "HTMLView",
            "style": "IPY_MODEL_e87d9db7a21c4db197cf4307f05d1766",
            "_dom_classes": [],
            "description": "",
            "_model_name": "HTMLModel",
            "placeholder": "​",
            "_view_module": "@jupyter-widgets/controls",
            "_model_module_version": "1.5.0",
            "value": " 200/200 [01:15&lt;00:00,  2.84it/s]",
            "_view_count": null,
            "_view_module_version": "1.5.0",
            "description_tooltip": null,
            "_model_module": "@jupyter-widgets/controls",
            "layout": "IPY_MODEL_3d2fd2f44b894bb1a87634957f66a022"
          }
        },
        "6889aedddd7641e189240dc44e33ae10": {
          "model_module": "@jupyter-widgets/controls",
          "model_name": "DescriptionStyleModel",
          "model_module_version": "1.5.0",
          "state": {
            "_view_name": "StyleView",
            "_model_name": "DescriptionStyleModel",
            "description_width": "",
            "_view_module": "@jupyter-widgets/base",
            "_model_module_version": "1.5.0",
            "_view_count": null,
            "_view_module_version": "1.2.0",
            "_model_module": "@jupyter-widgets/controls"
          }
        },
        "1b9b53603bf44a78922c8742100c065a": {
          "model_module": "@jupyter-widgets/base",
          "model_name": "LayoutModel",
          "model_module_version": "1.2.0",
          "state": {
            "_view_name": "LayoutView",
            "grid_template_rows": null,
            "right": null,
            "justify_content": null,
            "_view_module": "@jupyter-widgets/base",
            "overflow": null,
            "_model_module_version": "1.2.0",
            "_view_count": null,
            "flex_flow": null,
            "width": null,
            "min_width": null,
            "border": null,
            "align_items": null,
            "bottom": null,
            "_model_module": "@jupyter-widgets/base",
            "top": null,
            "grid_column": null,
            "overflow_y": null,
            "overflow_x": null,
            "grid_auto_flow": null,
            "grid_area": null,
            "grid_template_columns": null,
            "flex": null,
            "_model_name": "LayoutModel",
            "justify_items": null,
            "grid_row": null,
            "max_height": null,
            "align_content": null,
            "visibility": null,
            "align_self": null,
            "height": null,
            "min_height": null,
            "padding": null,
            "grid_auto_rows": null,
            "grid_gap": null,
            "max_width": null,
            "order": null,
            "_view_module_version": "1.2.0",
            "grid_template_areas": null,
            "object_position": null,
            "object_fit": null,
            "grid_auto_columns": null,
            "margin": null,
            "display": null,
            "left": null
          }
        },
        "b7383d007e04437db1e7ff92e6e19793": {
          "model_module": "@jupyter-widgets/controls",
          "model_name": "ProgressStyleModel",
          "model_module_version": "1.5.0",
          "state": {
            "_view_name": "StyleView",
            "_model_name": "ProgressStyleModel",
            "description_width": "",
            "_view_module": "@jupyter-widgets/base",
            "_model_module_version": "1.5.0",
            "_view_count": null,
            "_view_module_version": "1.2.0",
            "bar_color": null,
            "_model_module": "@jupyter-widgets/controls"
          }
        },
        "da556e7e1e4e4d69a1dee02f5594c44c": {
          "model_module": "@jupyter-widgets/base",
          "model_name": "LayoutModel",
          "model_module_version": "1.2.0",
          "state": {
            "_view_name": "LayoutView",
            "grid_template_rows": null,
            "right": null,
            "justify_content": null,
            "_view_module": "@jupyter-widgets/base",
            "overflow": null,
            "_model_module_version": "1.2.0",
            "_view_count": null,
            "flex_flow": null,
            "width": null,
            "min_width": null,
            "border": null,
            "align_items": null,
            "bottom": null,
            "_model_module": "@jupyter-widgets/base",
            "top": null,
            "grid_column": null,
            "overflow_y": null,
            "overflow_x": null,
            "grid_auto_flow": null,
            "grid_area": null,
            "grid_template_columns": null,
            "flex": null,
            "_model_name": "LayoutModel",
            "justify_items": null,
            "grid_row": null,
            "max_height": null,
            "align_content": null,
            "visibility": null,
            "align_self": null,
            "height": null,
            "min_height": null,
            "padding": null,
            "grid_auto_rows": null,
            "grid_gap": null,
            "max_width": null,
            "order": null,
            "_view_module_version": "1.2.0",
            "grid_template_areas": null,
            "object_position": null,
            "object_fit": null,
            "grid_auto_columns": null,
            "margin": null,
            "display": null,
            "left": null
          }
        },
        "e87d9db7a21c4db197cf4307f05d1766": {
          "model_module": "@jupyter-widgets/controls",
          "model_name": "DescriptionStyleModel",
          "model_module_version": "1.5.0",
          "state": {
            "_view_name": "StyleView",
            "_model_name": "DescriptionStyleModel",
            "description_width": "",
            "_view_module": "@jupyter-widgets/base",
            "_model_module_version": "1.5.0",
            "_view_count": null,
            "_view_module_version": "1.2.0",
            "_model_module": "@jupyter-widgets/controls"
          }
        },
        "3d2fd2f44b894bb1a87634957f66a022": {
          "model_module": "@jupyter-widgets/base",
          "model_name": "LayoutModel",
          "model_module_version": "1.2.0",
          "state": {
            "_view_name": "LayoutView",
            "grid_template_rows": null,
            "right": null,
            "justify_content": null,
            "_view_module": "@jupyter-widgets/base",
            "overflow": null,
            "_model_module_version": "1.2.0",
            "_view_count": null,
            "flex_flow": null,
            "width": null,
            "min_width": null,
            "border": null,
            "align_items": null,
            "bottom": null,
            "_model_module": "@jupyter-widgets/base",
            "top": null,
            "grid_column": null,
            "overflow_y": null,
            "overflow_x": null,
            "grid_auto_flow": null,
            "grid_area": null,
            "grid_template_columns": null,
            "flex": null,
            "_model_name": "LayoutModel",
            "justify_items": null,
            "grid_row": null,
            "max_height": null,
            "align_content": null,
            "visibility": null,
            "align_self": null,
            "height": null,
            "min_height": null,
            "padding": null,
            "grid_auto_rows": null,
            "grid_gap": null,
            "max_width": null,
            "order": null,
            "_view_module_version": "1.2.0",
            "grid_template_areas": null,
            "object_position": null,
            "object_fit": null,
            "grid_auto_columns": null,
            "margin": null,
            "display": null,
            "left": null
          }
        },
        "3977a287f68f4eb7a337ca06263ac201": {
          "model_module": "@jupyter-widgets/controls",
          "model_name": "HBoxModel",
          "model_module_version": "1.5.0",
          "state": {
            "_view_name": "HBoxView",
            "_dom_classes": [],
            "_model_name": "HBoxModel",
            "_view_module": "@jupyter-widgets/controls",
            "_model_module_version": "1.5.0",
            "_view_count": null,
            "_view_module_version": "1.5.0",
            "box_style": "",
            "layout": "IPY_MODEL_b6686e78429246a897964d4d90e162e2",
            "_model_module": "@jupyter-widgets/controls",
            "children": [
              "IPY_MODEL_6acdda0480114dd0b6d8799878e8dc45",
              "IPY_MODEL_64edddb3c1224e92b988d884b105c01c",
              "IPY_MODEL_b4be0776f86044c985405e0834600a5b"
            ]
          }
        },
        "b6686e78429246a897964d4d90e162e2": {
          "model_module": "@jupyter-widgets/base",
          "model_name": "LayoutModel",
          "model_module_version": "1.2.0",
          "state": {
            "_view_name": "LayoutView",
            "grid_template_rows": null,
            "right": null,
            "justify_content": null,
            "_view_module": "@jupyter-widgets/base",
            "overflow": null,
            "_model_module_version": "1.2.0",
            "_view_count": null,
            "flex_flow": null,
            "width": null,
            "min_width": null,
            "border": null,
            "align_items": null,
            "bottom": null,
            "_model_module": "@jupyter-widgets/base",
            "top": null,
            "grid_column": null,
            "overflow_y": null,
            "overflow_x": null,
            "grid_auto_flow": null,
            "grid_area": null,
            "grid_template_columns": null,
            "flex": null,
            "_model_name": "LayoutModel",
            "justify_items": null,
            "grid_row": null,
            "max_height": null,
            "align_content": null,
            "visibility": null,
            "align_self": null,
            "height": null,
            "min_height": null,
            "padding": null,
            "grid_auto_rows": null,
            "grid_gap": null,
            "max_width": null,
            "order": null,
            "_view_module_version": "1.2.0",
            "grid_template_areas": null,
            "object_position": null,
            "object_fit": null,
            "grid_auto_columns": null,
            "margin": null,
            "display": null,
            "left": null
          }
        },
        "6acdda0480114dd0b6d8799878e8dc45": {
          "model_module": "@jupyter-widgets/controls",
          "model_name": "HTMLModel",
          "model_module_version": "1.5.0",
          "state": {
            "_view_name": "HTMLView",
            "style": "IPY_MODEL_a0f7676368154036b47c490884f02c2b",
            "_dom_classes": [],
            "description": "",
            "_model_name": "HTMLModel",
            "placeholder": "​",
            "_view_module": "@jupyter-widgets/controls",
            "_model_module_version": "1.5.0",
            "value": "100%",
            "_view_count": null,
            "_view_module_version": "1.5.0",
            "description_tooltip": null,
            "_model_module": "@jupyter-widgets/controls",
            "layout": "IPY_MODEL_d7d9287a3f1d4fcea7c404cc69cba657"
          }
        },
        "64edddb3c1224e92b988d884b105c01c": {
          "model_module": "@jupyter-widgets/controls",
          "model_name": "FloatProgressModel",
          "model_module_version": "1.5.0",
          "state": {
            "_view_name": "ProgressView",
            "style": "IPY_MODEL_bb18b98e25914ec9a307553c469dd76e",
            "_dom_classes": [],
            "description": "",
            "_model_name": "FloatProgressModel",
            "bar_style": "success",
            "max": 200,
            "_view_module": "@jupyter-widgets/controls",
            "_model_module_version": "1.5.0",
            "value": 200,
            "_view_count": null,
            "_view_module_version": "1.5.0",
            "orientation": "horizontal",
            "min": 0,
            "description_tooltip": null,
            "_model_module": "@jupyter-widgets/controls",
            "layout": "IPY_MODEL_15d0a3a3238e4aceb3d8da39a93cdb78"
          }
        },
        "b4be0776f86044c985405e0834600a5b": {
          "model_module": "@jupyter-widgets/controls",
          "model_name": "HTMLModel",
          "model_module_version": "1.5.0",
          "state": {
            "_view_name": "HTMLView",
            "style": "IPY_MODEL_95f3c77b5ca54440945b480e1d7dc492",
            "_dom_classes": [],
            "description": "",
            "_model_name": "HTMLModel",
            "placeholder": "​",
            "_view_module": "@jupyter-widgets/controls",
            "_model_module_version": "1.5.0",
            "value": " 200/200 [01:13&lt;00:00,  2.81it/s]",
            "_view_count": null,
            "_view_module_version": "1.5.0",
            "description_tooltip": null,
            "_model_module": "@jupyter-widgets/controls",
            "layout": "IPY_MODEL_563db41e836f405ca0b224348a98204e"
          }
        },
        "a0f7676368154036b47c490884f02c2b": {
          "model_module": "@jupyter-widgets/controls",
          "model_name": "DescriptionStyleModel",
          "model_module_version": "1.5.0",
          "state": {
            "_view_name": "StyleView",
            "_model_name": "DescriptionStyleModel",
            "description_width": "",
            "_view_module": "@jupyter-widgets/base",
            "_model_module_version": "1.5.0",
            "_view_count": null,
            "_view_module_version": "1.2.0",
            "_model_module": "@jupyter-widgets/controls"
          }
        },
        "d7d9287a3f1d4fcea7c404cc69cba657": {
          "model_module": "@jupyter-widgets/base",
          "model_name": "LayoutModel",
          "model_module_version": "1.2.0",
          "state": {
            "_view_name": "LayoutView",
            "grid_template_rows": null,
            "right": null,
            "justify_content": null,
            "_view_module": "@jupyter-widgets/base",
            "overflow": null,
            "_model_module_version": "1.2.0",
            "_view_count": null,
            "flex_flow": null,
            "width": null,
            "min_width": null,
            "border": null,
            "align_items": null,
            "bottom": null,
            "_model_module": "@jupyter-widgets/base",
            "top": null,
            "grid_column": null,
            "overflow_y": null,
            "overflow_x": null,
            "grid_auto_flow": null,
            "grid_area": null,
            "grid_template_columns": null,
            "flex": null,
            "_model_name": "LayoutModel",
            "justify_items": null,
            "grid_row": null,
            "max_height": null,
            "align_content": null,
            "visibility": null,
            "align_self": null,
            "height": null,
            "min_height": null,
            "padding": null,
            "grid_auto_rows": null,
            "grid_gap": null,
            "max_width": null,
            "order": null,
            "_view_module_version": "1.2.0",
            "grid_template_areas": null,
            "object_position": null,
            "object_fit": null,
            "grid_auto_columns": null,
            "margin": null,
            "display": null,
            "left": null
          }
        },
        "bb18b98e25914ec9a307553c469dd76e": {
          "model_module": "@jupyter-widgets/controls",
          "model_name": "ProgressStyleModel",
          "model_module_version": "1.5.0",
          "state": {
            "_view_name": "StyleView",
            "_model_name": "ProgressStyleModel",
            "description_width": "",
            "_view_module": "@jupyter-widgets/base",
            "_model_module_version": "1.5.0",
            "_view_count": null,
            "_view_module_version": "1.2.0",
            "bar_color": null,
            "_model_module": "@jupyter-widgets/controls"
          }
        },
        "15d0a3a3238e4aceb3d8da39a93cdb78": {
          "model_module": "@jupyter-widgets/base",
          "model_name": "LayoutModel",
          "model_module_version": "1.2.0",
          "state": {
            "_view_name": "LayoutView",
            "grid_template_rows": null,
            "right": null,
            "justify_content": null,
            "_view_module": "@jupyter-widgets/base",
            "overflow": null,
            "_model_module_version": "1.2.0",
            "_view_count": null,
            "flex_flow": null,
            "width": null,
            "min_width": null,
            "border": null,
            "align_items": null,
            "bottom": null,
            "_model_module": "@jupyter-widgets/base",
            "top": null,
            "grid_column": null,
            "overflow_y": null,
            "overflow_x": null,
            "grid_auto_flow": null,
            "grid_area": null,
            "grid_template_columns": null,
            "flex": null,
            "_model_name": "LayoutModel",
            "justify_items": null,
            "grid_row": null,
            "max_height": null,
            "align_content": null,
            "visibility": null,
            "align_self": null,
            "height": null,
            "min_height": null,
            "padding": null,
            "grid_auto_rows": null,
            "grid_gap": null,
            "max_width": null,
            "order": null,
            "_view_module_version": "1.2.0",
            "grid_template_areas": null,
            "object_position": null,
            "object_fit": null,
            "grid_auto_columns": null,
            "margin": null,
            "display": null,
            "left": null
          }
        },
        "95f3c77b5ca54440945b480e1d7dc492": {
          "model_module": "@jupyter-widgets/controls",
          "model_name": "DescriptionStyleModel",
          "model_module_version": "1.5.0",
          "state": {
            "_view_name": "StyleView",
            "_model_name": "DescriptionStyleModel",
            "description_width": "",
            "_view_module": "@jupyter-widgets/base",
            "_model_module_version": "1.5.0",
            "_view_count": null,
            "_view_module_version": "1.2.0",
            "_model_module": "@jupyter-widgets/controls"
          }
        },
        "563db41e836f405ca0b224348a98204e": {
          "model_module": "@jupyter-widgets/base",
          "model_name": "LayoutModel",
          "model_module_version": "1.2.0",
          "state": {
            "_view_name": "LayoutView",
            "grid_template_rows": null,
            "right": null,
            "justify_content": null,
            "_view_module": "@jupyter-widgets/base",
            "overflow": null,
            "_model_module_version": "1.2.0",
            "_view_count": null,
            "flex_flow": null,
            "width": null,
            "min_width": null,
            "border": null,
            "align_items": null,
            "bottom": null,
            "_model_module": "@jupyter-widgets/base",
            "top": null,
            "grid_column": null,
            "overflow_y": null,
            "overflow_x": null,
            "grid_auto_flow": null,
            "grid_area": null,
            "grid_template_columns": null,
            "flex": null,
            "_model_name": "LayoutModel",
            "justify_items": null,
            "grid_row": null,
            "max_height": null,
            "align_content": null,
            "visibility": null,
            "align_self": null,
            "height": null,
            "min_height": null,
            "padding": null,
            "grid_auto_rows": null,
            "grid_gap": null,
            "max_width": null,
            "order": null,
            "_view_module_version": "1.2.0",
            "grid_template_areas": null,
            "object_position": null,
            "object_fit": null,
            "grid_auto_columns": null,
            "margin": null,
            "display": null,
            "left": null
          }
        },
        "0514dc434a9d476b8e9a71709eb2f8f2": {
          "model_module": "@jupyter-widgets/controls",
          "model_name": "HBoxModel",
          "model_module_version": "1.5.0",
          "state": {
            "_view_name": "HBoxView",
            "_dom_classes": [],
            "_model_name": "HBoxModel",
            "_view_module": "@jupyter-widgets/controls",
            "_model_module_version": "1.5.0",
            "_view_count": null,
            "_view_module_version": "1.5.0",
            "box_style": "",
            "layout": "IPY_MODEL_570f26ed15374e80bd9c0f3180d66ee7",
            "_model_module": "@jupyter-widgets/controls",
            "children": [
              "IPY_MODEL_b55140d5f55e43b5b7d241d4f8919031",
              "IPY_MODEL_689b7e785d08478386b4797984c263ab",
              "IPY_MODEL_10ab2efe9b7f4444b74974e89da68e6b"
            ]
          }
        },
        "570f26ed15374e80bd9c0f3180d66ee7": {
          "model_module": "@jupyter-widgets/base",
          "model_name": "LayoutModel",
          "model_module_version": "1.2.0",
          "state": {
            "_view_name": "LayoutView",
            "grid_template_rows": null,
            "right": null,
            "justify_content": null,
            "_view_module": "@jupyter-widgets/base",
            "overflow": null,
            "_model_module_version": "1.2.0",
            "_view_count": null,
            "flex_flow": null,
            "width": null,
            "min_width": null,
            "border": null,
            "align_items": null,
            "bottom": null,
            "_model_module": "@jupyter-widgets/base",
            "top": null,
            "grid_column": null,
            "overflow_y": null,
            "overflow_x": null,
            "grid_auto_flow": null,
            "grid_area": null,
            "grid_template_columns": null,
            "flex": null,
            "_model_name": "LayoutModel",
            "justify_items": null,
            "grid_row": null,
            "max_height": null,
            "align_content": null,
            "visibility": null,
            "align_self": null,
            "height": null,
            "min_height": null,
            "padding": null,
            "grid_auto_rows": null,
            "grid_gap": null,
            "max_width": null,
            "order": null,
            "_view_module_version": "1.2.0",
            "grid_template_areas": null,
            "object_position": null,
            "object_fit": null,
            "grid_auto_columns": null,
            "margin": null,
            "display": null,
            "left": null
          }
        },
        "b55140d5f55e43b5b7d241d4f8919031": {
          "model_module": "@jupyter-widgets/controls",
          "model_name": "HTMLModel",
          "model_module_version": "1.5.0",
          "state": {
            "_view_name": "HTMLView",
            "style": "IPY_MODEL_cc64f317ed0b4db68443ecb8eae308ab",
            "_dom_classes": [],
            "description": "",
            "_model_name": "HTMLModel",
            "placeholder": "​",
            "_view_module": "@jupyter-widgets/controls",
            "_model_module_version": "1.5.0",
            "value": "100%",
            "_view_count": null,
            "_view_module_version": "1.5.0",
            "description_tooltip": null,
            "_model_module": "@jupyter-widgets/controls",
            "layout": "IPY_MODEL_6b318a056cca4221be111a4128af818d"
          }
        },
        "689b7e785d08478386b4797984c263ab": {
          "model_module": "@jupyter-widgets/controls",
          "model_name": "FloatProgressModel",
          "model_module_version": "1.5.0",
          "state": {
            "_view_name": "ProgressView",
            "style": "IPY_MODEL_bb64811d7221458180e22f7f67fa1046",
            "_dom_classes": [],
            "description": "",
            "_model_name": "FloatProgressModel",
            "bar_style": "success",
            "max": 200,
            "_view_module": "@jupyter-widgets/controls",
            "_model_module_version": "1.5.0",
            "value": 200,
            "_view_count": null,
            "_view_module_version": "1.5.0",
            "orientation": "horizontal",
            "min": 0,
            "description_tooltip": null,
            "_model_module": "@jupyter-widgets/controls",
            "layout": "IPY_MODEL_e8f245367d7d4dc9849f532be9de1a7d"
          }
        },
        "10ab2efe9b7f4444b74974e89da68e6b": {
          "model_module": "@jupyter-widgets/controls",
          "model_name": "HTMLModel",
          "model_module_version": "1.5.0",
          "state": {
            "_view_name": "HTMLView",
            "style": "IPY_MODEL_7c1c4039f42f45b4ae37b0c093b49e2b",
            "_dom_classes": [],
            "description": "",
            "_model_name": "HTMLModel",
            "placeholder": "​",
            "_view_module": "@jupyter-widgets/controls",
            "_model_module_version": "1.5.0",
            "value": " 200/200 [01:10&lt;00:00,  2.85it/s]",
            "_view_count": null,
            "_view_module_version": "1.5.0",
            "description_tooltip": null,
            "_model_module": "@jupyter-widgets/controls",
            "layout": "IPY_MODEL_97f93ed4176c4d6a8096c16aab9296e1"
          }
        },
        "cc64f317ed0b4db68443ecb8eae308ab": {
          "model_module": "@jupyter-widgets/controls",
          "model_name": "DescriptionStyleModel",
          "model_module_version": "1.5.0",
          "state": {
            "_view_name": "StyleView",
            "_model_name": "DescriptionStyleModel",
            "description_width": "",
            "_view_module": "@jupyter-widgets/base",
            "_model_module_version": "1.5.0",
            "_view_count": null,
            "_view_module_version": "1.2.0",
            "_model_module": "@jupyter-widgets/controls"
          }
        },
        "6b318a056cca4221be111a4128af818d": {
          "model_module": "@jupyter-widgets/base",
          "model_name": "LayoutModel",
          "model_module_version": "1.2.0",
          "state": {
            "_view_name": "LayoutView",
            "grid_template_rows": null,
            "right": null,
            "justify_content": null,
            "_view_module": "@jupyter-widgets/base",
            "overflow": null,
            "_model_module_version": "1.2.0",
            "_view_count": null,
            "flex_flow": null,
            "width": null,
            "min_width": null,
            "border": null,
            "align_items": null,
            "bottom": null,
            "_model_module": "@jupyter-widgets/base",
            "top": null,
            "grid_column": null,
            "overflow_y": null,
            "overflow_x": null,
            "grid_auto_flow": null,
            "grid_area": null,
            "grid_template_columns": null,
            "flex": null,
            "_model_name": "LayoutModel",
            "justify_items": null,
            "grid_row": null,
            "max_height": null,
            "align_content": null,
            "visibility": null,
            "align_self": null,
            "height": null,
            "min_height": null,
            "padding": null,
            "grid_auto_rows": null,
            "grid_gap": null,
            "max_width": null,
            "order": null,
            "_view_module_version": "1.2.0",
            "grid_template_areas": null,
            "object_position": null,
            "object_fit": null,
            "grid_auto_columns": null,
            "margin": null,
            "display": null,
            "left": null
          }
        },
        "bb64811d7221458180e22f7f67fa1046": {
          "model_module": "@jupyter-widgets/controls",
          "model_name": "ProgressStyleModel",
          "model_module_version": "1.5.0",
          "state": {
            "_view_name": "StyleView",
            "_model_name": "ProgressStyleModel",
            "description_width": "",
            "_view_module": "@jupyter-widgets/base",
            "_model_module_version": "1.5.0",
            "_view_count": null,
            "_view_module_version": "1.2.0",
            "bar_color": null,
            "_model_module": "@jupyter-widgets/controls"
          }
        },
        "e8f245367d7d4dc9849f532be9de1a7d": {
          "model_module": "@jupyter-widgets/base",
          "model_name": "LayoutModel",
          "model_module_version": "1.2.0",
          "state": {
            "_view_name": "LayoutView",
            "grid_template_rows": null,
            "right": null,
            "justify_content": null,
            "_view_module": "@jupyter-widgets/base",
            "overflow": null,
            "_model_module_version": "1.2.0",
            "_view_count": null,
            "flex_flow": null,
            "width": null,
            "min_width": null,
            "border": null,
            "align_items": null,
            "bottom": null,
            "_model_module": "@jupyter-widgets/base",
            "top": null,
            "grid_column": null,
            "overflow_y": null,
            "overflow_x": null,
            "grid_auto_flow": null,
            "grid_area": null,
            "grid_template_columns": null,
            "flex": null,
            "_model_name": "LayoutModel",
            "justify_items": null,
            "grid_row": null,
            "max_height": null,
            "align_content": null,
            "visibility": null,
            "align_self": null,
            "height": null,
            "min_height": null,
            "padding": null,
            "grid_auto_rows": null,
            "grid_gap": null,
            "max_width": null,
            "order": null,
            "_view_module_version": "1.2.0",
            "grid_template_areas": null,
            "object_position": null,
            "object_fit": null,
            "grid_auto_columns": null,
            "margin": null,
            "display": null,
            "left": null
          }
        },
        "7c1c4039f42f45b4ae37b0c093b49e2b": {
          "model_module": "@jupyter-widgets/controls",
          "model_name": "DescriptionStyleModel",
          "model_module_version": "1.5.0",
          "state": {
            "_view_name": "StyleView",
            "_model_name": "DescriptionStyleModel",
            "description_width": "",
            "_view_module": "@jupyter-widgets/base",
            "_model_module_version": "1.5.0",
            "_view_count": null,
            "_view_module_version": "1.2.0",
            "_model_module": "@jupyter-widgets/controls"
          }
        },
        "97f93ed4176c4d6a8096c16aab9296e1": {
          "model_module": "@jupyter-widgets/base",
          "model_name": "LayoutModel",
          "model_module_version": "1.2.0",
          "state": {
            "_view_name": "LayoutView",
            "grid_template_rows": null,
            "right": null,
            "justify_content": null,
            "_view_module": "@jupyter-widgets/base",
            "overflow": null,
            "_model_module_version": "1.2.0",
            "_view_count": null,
            "flex_flow": null,
            "width": null,
            "min_width": null,
            "border": null,
            "align_items": null,
            "bottom": null,
            "_model_module": "@jupyter-widgets/base",
            "top": null,
            "grid_column": null,
            "overflow_y": null,
            "overflow_x": null,
            "grid_auto_flow": null,
            "grid_area": null,
            "grid_template_columns": null,
            "flex": null,
            "_model_name": "LayoutModel",
            "justify_items": null,
            "grid_row": null,
            "max_height": null,
            "align_content": null,
            "visibility": null,
            "align_self": null,
            "height": null,
            "min_height": null,
            "padding": null,
            "grid_auto_rows": null,
            "grid_gap": null,
            "max_width": null,
            "order": null,
            "_view_module_version": "1.2.0",
            "grid_template_areas": null,
            "object_position": null,
            "object_fit": null,
            "grid_auto_columns": null,
            "margin": null,
            "display": null,
            "left": null
          }
        },
        "ab8aaea9e2e641808a3ec87c750ddcc0": {
          "model_module": "@jupyter-widgets/controls",
          "model_name": "HBoxModel",
          "model_module_version": "1.5.0",
          "state": {
            "_view_name": "HBoxView",
            "_dom_classes": [],
            "_model_name": "HBoxModel",
            "_view_module": "@jupyter-widgets/controls",
            "_model_module_version": "1.5.0",
            "_view_count": null,
            "_view_module_version": "1.5.0",
            "box_style": "",
            "layout": "IPY_MODEL_94b26a129dca4a9c9480c982bdbb2742",
            "_model_module": "@jupyter-widgets/controls",
            "children": [
              "IPY_MODEL_4b6ffc04373c4ce99e3db37fe75f2710",
              "IPY_MODEL_d09b42015ac3492994ca71db0ceaa001",
              "IPY_MODEL_9044b70a98514a528605c74dea31034b"
            ]
          }
        },
        "94b26a129dca4a9c9480c982bdbb2742": {
          "model_module": "@jupyter-widgets/base",
          "model_name": "LayoutModel",
          "model_module_version": "1.2.0",
          "state": {
            "_view_name": "LayoutView",
            "grid_template_rows": null,
            "right": null,
            "justify_content": null,
            "_view_module": "@jupyter-widgets/base",
            "overflow": null,
            "_model_module_version": "1.2.0",
            "_view_count": null,
            "flex_flow": null,
            "width": null,
            "min_width": null,
            "border": null,
            "align_items": null,
            "bottom": null,
            "_model_module": "@jupyter-widgets/base",
            "top": null,
            "grid_column": null,
            "overflow_y": null,
            "overflow_x": null,
            "grid_auto_flow": null,
            "grid_area": null,
            "grid_template_columns": null,
            "flex": null,
            "_model_name": "LayoutModel",
            "justify_items": null,
            "grid_row": null,
            "max_height": null,
            "align_content": null,
            "visibility": null,
            "align_self": null,
            "height": null,
            "min_height": null,
            "padding": null,
            "grid_auto_rows": null,
            "grid_gap": null,
            "max_width": null,
            "order": null,
            "_view_module_version": "1.2.0",
            "grid_template_areas": null,
            "object_position": null,
            "object_fit": null,
            "grid_auto_columns": null,
            "margin": null,
            "display": null,
            "left": null
          }
        },
        "4b6ffc04373c4ce99e3db37fe75f2710": {
          "model_module": "@jupyter-widgets/controls",
          "model_name": "HTMLModel",
          "model_module_version": "1.5.0",
          "state": {
            "_view_name": "HTMLView",
            "style": "IPY_MODEL_0ef4ef0b35fb4a76ae32fa045625198c",
            "_dom_classes": [],
            "description": "",
            "_model_name": "HTMLModel",
            "placeholder": "​",
            "_view_module": "@jupyter-widgets/controls",
            "_model_module_version": "1.5.0",
            "value": "100%",
            "_view_count": null,
            "_view_module_version": "1.5.0",
            "description_tooltip": null,
            "_model_module": "@jupyter-widgets/controls",
            "layout": "IPY_MODEL_4f4094e377014ea18f5e329ce076b1c9"
          }
        },
        "d09b42015ac3492994ca71db0ceaa001": {
          "model_module": "@jupyter-widgets/controls",
          "model_name": "FloatProgressModel",
          "model_module_version": "1.5.0",
          "state": {
            "_view_name": "ProgressView",
            "style": "IPY_MODEL_5da5ef081371455bb344a5cdcdf39ef3",
            "_dom_classes": [],
            "description": "",
            "_model_name": "FloatProgressModel",
            "bar_style": "success",
            "max": 200,
            "_view_module": "@jupyter-widgets/controls",
            "_model_module_version": "1.5.0",
            "value": 200,
            "_view_count": null,
            "_view_module_version": "1.5.0",
            "orientation": "horizontal",
            "min": 0,
            "description_tooltip": null,
            "_model_module": "@jupyter-widgets/controls",
            "layout": "IPY_MODEL_4b6d2a5f9e2a4a81bad0d6c9fa4e61ec"
          }
        },
        "9044b70a98514a528605c74dea31034b": {
          "model_module": "@jupyter-widgets/controls",
          "model_name": "HTMLModel",
          "model_module_version": "1.5.0",
          "state": {
            "_view_name": "HTMLView",
            "style": "IPY_MODEL_89d4425ca320423cad28f65f3aed4e6f",
            "_dom_classes": [],
            "description": "",
            "_model_name": "HTMLModel",
            "placeholder": "​",
            "_view_module": "@jupyter-widgets/controls",
            "_model_module_version": "1.5.0",
            "value": " 200/200 [01:09&lt;00:00,  2.90it/s]",
            "_view_count": null,
            "_view_module_version": "1.5.0",
            "description_tooltip": null,
            "_model_module": "@jupyter-widgets/controls",
            "layout": "IPY_MODEL_7bda5a34110f4a5eb4cd2c7542eed9ed"
          }
        },
        "0ef4ef0b35fb4a76ae32fa045625198c": {
          "model_module": "@jupyter-widgets/controls",
          "model_name": "DescriptionStyleModel",
          "model_module_version": "1.5.0",
          "state": {
            "_view_name": "StyleView",
            "_model_name": "DescriptionStyleModel",
            "description_width": "",
            "_view_module": "@jupyter-widgets/base",
            "_model_module_version": "1.5.0",
            "_view_count": null,
            "_view_module_version": "1.2.0",
            "_model_module": "@jupyter-widgets/controls"
          }
        },
        "4f4094e377014ea18f5e329ce076b1c9": {
          "model_module": "@jupyter-widgets/base",
          "model_name": "LayoutModel",
          "model_module_version": "1.2.0",
          "state": {
            "_view_name": "LayoutView",
            "grid_template_rows": null,
            "right": null,
            "justify_content": null,
            "_view_module": "@jupyter-widgets/base",
            "overflow": null,
            "_model_module_version": "1.2.0",
            "_view_count": null,
            "flex_flow": null,
            "width": null,
            "min_width": null,
            "border": null,
            "align_items": null,
            "bottom": null,
            "_model_module": "@jupyter-widgets/base",
            "top": null,
            "grid_column": null,
            "overflow_y": null,
            "overflow_x": null,
            "grid_auto_flow": null,
            "grid_area": null,
            "grid_template_columns": null,
            "flex": null,
            "_model_name": "LayoutModel",
            "justify_items": null,
            "grid_row": null,
            "max_height": null,
            "align_content": null,
            "visibility": null,
            "align_self": null,
            "height": null,
            "min_height": null,
            "padding": null,
            "grid_auto_rows": null,
            "grid_gap": null,
            "max_width": null,
            "order": null,
            "_view_module_version": "1.2.0",
            "grid_template_areas": null,
            "object_position": null,
            "object_fit": null,
            "grid_auto_columns": null,
            "margin": null,
            "display": null,
            "left": null
          }
        },
        "5da5ef081371455bb344a5cdcdf39ef3": {
          "model_module": "@jupyter-widgets/controls",
          "model_name": "ProgressStyleModel",
          "model_module_version": "1.5.0",
          "state": {
            "_view_name": "StyleView",
            "_model_name": "ProgressStyleModel",
            "description_width": "",
            "_view_module": "@jupyter-widgets/base",
            "_model_module_version": "1.5.0",
            "_view_count": null,
            "_view_module_version": "1.2.0",
            "bar_color": null,
            "_model_module": "@jupyter-widgets/controls"
          }
        },
        "4b6d2a5f9e2a4a81bad0d6c9fa4e61ec": {
          "model_module": "@jupyter-widgets/base",
          "model_name": "LayoutModel",
          "model_module_version": "1.2.0",
          "state": {
            "_view_name": "LayoutView",
            "grid_template_rows": null,
            "right": null,
            "justify_content": null,
            "_view_module": "@jupyter-widgets/base",
            "overflow": null,
            "_model_module_version": "1.2.0",
            "_view_count": null,
            "flex_flow": null,
            "width": null,
            "min_width": null,
            "border": null,
            "align_items": null,
            "bottom": null,
            "_model_module": "@jupyter-widgets/base",
            "top": null,
            "grid_column": null,
            "overflow_y": null,
            "overflow_x": null,
            "grid_auto_flow": null,
            "grid_area": null,
            "grid_template_columns": null,
            "flex": null,
            "_model_name": "LayoutModel",
            "justify_items": null,
            "grid_row": null,
            "max_height": null,
            "align_content": null,
            "visibility": null,
            "align_self": null,
            "height": null,
            "min_height": null,
            "padding": null,
            "grid_auto_rows": null,
            "grid_gap": null,
            "max_width": null,
            "order": null,
            "_view_module_version": "1.2.0",
            "grid_template_areas": null,
            "object_position": null,
            "object_fit": null,
            "grid_auto_columns": null,
            "margin": null,
            "display": null,
            "left": null
          }
        },
        "89d4425ca320423cad28f65f3aed4e6f": {
          "model_module": "@jupyter-widgets/controls",
          "model_name": "DescriptionStyleModel",
          "model_module_version": "1.5.0",
          "state": {
            "_view_name": "StyleView",
            "_model_name": "DescriptionStyleModel",
            "description_width": "",
            "_view_module": "@jupyter-widgets/base",
            "_model_module_version": "1.5.0",
            "_view_count": null,
            "_view_module_version": "1.2.0",
            "_model_module": "@jupyter-widgets/controls"
          }
        },
        "7bda5a34110f4a5eb4cd2c7542eed9ed": {
          "model_module": "@jupyter-widgets/base",
          "model_name": "LayoutModel",
          "model_module_version": "1.2.0",
          "state": {
            "_view_name": "LayoutView",
            "grid_template_rows": null,
            "right": null,
            "justify_content": null,
            "_view_module": "@jupyter-widgets/base",
            "overflow": null,
            "_model_module_version": "1.2.0",
            "_view_count": null,
            "flex_flow": null,
            "width": null,
            "min_width": null,
            "border": null,
            "align_items": null,
            "bottom": null,
            "_model_module": "@jupyter-widgets/base",
            "top": null,
            "grid_column": null,
            "overflow_y": null,
            "overflow_x": null,
            "grid_auto_flow": null,
            "grid_area": null,
            "grid_template_columns": null,
            "flex": null,
            "_model_name": "LayoutModel",
            "justify_items": null,
            "grid_row": null,
            "max_height": null,
            "align_content": null,
            "visibility": null,
            "align_self": null,
            "height": null,
            "min_height": null,
            "padding": null,
            "grid_auto_rows": null,
            "grid_gap": null,
            "max_width": null,
            "order": null,
            "_view_module_version": "1.2.0",
            "grid_template_areas": null,
            "object_position": null,
            "object_fit": null,
            "grid_auto_columns": null,
            "margin": null,
            "display": null,
            "left": null
          }
        },
        "2ff65c97689d459d8a7f56d41b4dcf3c": {
          "model_module": "@jupyter-widgets/controls",
          "model_name": "HBoxModel",
          "model_module_version": "1.5.0",
          "state": {
            "_view_name": "HBoxView",
            "_dom_classes": [],
            "_model_name": "HBoxModel",
            "_view_module": "@jupyter-widgets/controls",
            "_model_module_version": "1.5.0",
            "_view_count": null,
            "_view_module_version": "1.5.0",
            "box_style": "",
            "layout": "IPY_MODEL_c6bbab6331184200abfe81db46316c47",
            "_model_module": "@jupyter-widgets/controls",
            "children": [
              "IPY_MODEL_e9a82b9e46674719885f9606032acc15",
              "IPY_MODEL_3f82c20efcf3413b923988ff36519599",
              "IPY_MODEL_d224c8108d3e4eeca55c64fb1699da3d"
            ]
          }
        },
        "c6bbab6331184200abfe81db46316c47": {
          "model_module": "@jupyter-widgets/base",
          "model_name": "LayoutModel",
          "model_module_version": "1.2.0",
          "state": {
            "_view_name": "LayoutView",
            "grid_template_rows": null,
            "right": null,
            "justify_content": null,
            "_view_module": "@jupyter-widgets/base",
            "overflow": null,
            "_model_module_version": "1.2.0",
            "_view_count": null,
            "flex_flow": null,
            "width": null,
            "min_width": null,
            "border": null,
            "align_items": null,
            "bottom": null,
            "_model_module": "@jupyter-widgets/base",
            "top": null,
            "grid_column": null,
            "overflow_y": null,
            "overflow_x": null,
            "grid_auto_flow": null,
            "grid_area": null,
            "grid_template_columns": null,
            "flex": null,
            "_model_name": "LayoutModel",
            "justify_items": null,
            "grid_row": null,
            "max_height": null,
            "align_content": null,
            "visibility": null,
            "align_self": null,
            "height": null,
            "min_height": null,
            "padding": null,
            "grid_auto_rows": null,
            "grid_gap": null,
            "max_width": null,
            "order": null,
            "_view_module_version": "1.2.0",
            "grid_template_areas": null,
            "object_position": null,
            "object_fit": null,
            "grid_auto_columns": null,
            "margin": null,
            "display": null,
            "left": null
          }
        },
        "e9a82b9e46674719885f9606032acc15": {
          "model_module": "@jupyter-widgets/controls",
          "model_name": "HTMLModel",
          "model_module_version": "1.5.0",
          "state": {
            "_view_name": "HTMLView",
            "style": "IPY_MODEL_79195b50429c46668f9927a13a5c6332",
            "_dom_classes": [],
            "description": "",
            "_model_name": "HTMLModel",
            "placeholder": "​",
            "_view_module": "@jupyter-widgets/controls",
            "_model_module_version": "1.5.0",
            "value": "100%",
            "_view_count": null,
            "_view_module_version": "1.5.0",
            "description_tooltip": null,
            "_model_module": "@jupyter-widgets/controls",
            "layout": "IPY_MODEL_f9e9e4cf81d943a98dab14449e43dd57"
          }
        },
        "3f82c20efcf3413b923988ff36519599": {
          "model_module": "@jupyter-widgets/controls",
          "model_name": "FloatProgressModel",
          "model_module_version": "1.5.0",
          "state": {
            "_view_name": "ProgressView",
            "style": "IPY_MODEL_47b3d2065b66438ab63860bc90123fa7",
            "_dom_classes": [],
            "description": "",
            "_model_name": "FloatProgressModel",
            "bar_style": "success",
            "max": 200,
            "_view_module": "@jupyter-widgets/controls",
            "_model_module_version": "1.5.0",
            "value": 200,
            "_view_count": null,
            "_view_module_version": "1.5.0",
            "orientation": "horizontal",
            "min": 0,
            "description_tooltip": null,
            "_model_module": "@jupyter-widgets/controls",
            "layout": "IPY_MODEL_a0db418ad449402c9da38ab1429d2d17"
          }
        },
        "d224c8108d3e4eeca55c64fb1699da3d": {
          "model_module": "@jupyter-widgets/controls",
          "model_name": "HTMLModel",
          "model_module_version": "1.5.0",
          "state": {
            "_view_name": "HTMLView",
            "style": "IPY_MODEL_668c8b78d3204e96a29c9f269939c637",
            "_dom_classes": [],
            "description": "",
            "_model_name": "HTMLModel",
            "placeholder": "​",
            "_view_module": "@jupyter-widgets/controls",
            "_model_module_version": "1.5.0",
            "value": " 200/200 [01:11&lt;00:00,  2.92it/s]",
            "_view_count": null,
            "_view_module_version": "1.5.0",
            "description_tooltip": null,
            "_model_module": "@jupyter-widgets/controls",
            "layout": "IPY_MODEL_069df8f7deaa4b618ff82cd5379eee26"
          }
        },
        "79195b50429c46668f9927a13a5c6332": {
          "model_module": "@jupyter-widgets/controls",
          "model_name": "DescriptionStyleModel",
          "model_module_version": "1.5.0",
          "state": {
            "_view_name": "StyleView",
            "_model_name": "DescriptionStyleModel",
            "description_width": "",
            "_view_module": "@jupyter-widgets/base",
            "_model_module_version": "1.5.0",
            "_view_count": null,
            "_view_module_version": "1.2.0",
            "_model_module": "@jupyter-widgets/controls"
          }
        },
        "f9e9e4cf81d943a98dab14449e43dd57": {
          "model_module": "@jupyter-widgets/base",
          "model_name": "LayoutModel",
          "model_module_version": "1.2.0",
          "state": {
            "_view_name": "LayoutView",
            "grid_template_rows": null,
            "right": null,
            "justify_content": null,
            "_view_module": "@jupyter-widgets/base",
            "overflow": null,
            "_model_module_version": "1.2.0",
            "_view_count": null,
            "flex_flow": null,
            "width": null,
            "min_width": null,
            "border": null,
            "align_items": null,
            "bottom": null,
            "_model_module": "@jupyter-widgets/base",
            "top": null,
            "grid_column": null,
            "overflow_y": null,
            "overflow_x": null,
            "grid_auto_flow": null,
            "grid_area": null,
            "grid_template_columns": null,
            "flex": null,
            "_model_name": "LayoutModel",
            "justify_items": null,
            "grid_row": null,
            "max_height": null,
            "align_content": null,
            "visibility": null,
            "align_self": null,
            "height": null,
            "min_height": null,
            "padding": null,
            "grid_auto_rows": null,
            "grid_gap": null,
            "max_width": null,
            "order": null,
            "_view_module_version": "1.2.0",
            "grid_template_areas": null,
            "object_position": null,
            "object_fit": null,
            "grid_auto_columns": null,
            "margin": null,
            "display": null,
            "left": null
          }
        },
        "47b3d2065b66438ab63860bc90123fa7": {
          "model_module": "@jupyter-widgets/controls",
          "model_name": "ProgressStyleModel",
          "model_module_version": "1.5.0",
          "state": {
            "_view_name": "StyleView",
            "_model_name": "ProgressStyleModel",
            "description_width": "",
            "_view_module": "@jupyter-widgets/base",
            "_model_module_version": "1.5.0",
            "_view_count": null,
            "_view_module_version": "1.2.0",
            "bar_color": null,
            "_model_module": "@jupyter-widgets/controls"
          }
        },
        "a0db418ad449402c9da38ab1429d2d17": {
          "model_module": "@jupyter-widgets/base",
          "model_name": "LayoutModel",
          "model_module_version": "1.2.0",
          "state": {
            "_view_name": "LayoutView",
            "grid_template_rows": null,
            "right": null,
            "justify_content": null,
            "_view_module": "@jupyter-widgets/base",
            "overflow": null,
            "_model_module_version": "1.2.0",
            "_view_count": null,
            "flex_flow": null,
            "width": null,
            "min_width": null,
            "border": null,
            "align_items": null,
            "bottom": null,
            "_model_module": "@jupyter-widgets/base",
            "top": null,
            "grid_column": null,
            "overflow_y": null,
            "overflow_x": null,
            "grid_auto_flow": null,
            "grid_area": null,
            "grid_template_columns": null,
            "flex": null,
            "_model_name": "LayoutModel",
            "justify_items": null,
            "grid_row": null,
            "max_height": null,
            "align_content": null,
            "visibility": null,
            "align_self": null,
            "height": null,
            "min_height": null,
            "padding": null,
            "grid_auto_rows": null,
            "grid_gap": null,
            "max_width": null,
            "order": null,
            "_view_module_version": "1.2.0",
            "grid_template_areas": null,
            "object_position": null,
            "object_fit": null,
            "grid_auto_columns": null,
            "margin": null,
            "display": null,
            "left": null
          }
        },
        "668c8b78d3204e96a29c9f269939c637": {
          "model_module": "@jupyter-widgets/controls",
          "model_name": "DescriptionStyleModel",
          "model_module_version": "1.5.0",
          "state": {
            "_view_name": "StyleView",
            "_model_name": "DescriptionStyleModel",
            "description_width": "",
            "_view_module": "@jupyter-widgets/base",
            "_model_module_version": "1.5.0",
            "_view_count": null,
            "_view_module_version": "1.2.0",
            "_model_module": "@jupyter-widgets/controls"
          }
        },
        "069df8f7deaa4b618ff82cd5379eee26": {
          "model_module": "@jupyter-widgets/base",
          "model_name": "LayoutModel",
          "model_module_version": "1.2.0",
          "state": {
            "_view_name": "LayoutView",
            "grid_template_rows": null,
            "right": null,
            "justify_content": null,
            "_view_module": "@jupyter-widgets/base",
            "overflow": null,
            "_model_module_version": "1.2.0",
            "_view_count": null,
            "flex_flow": null,
            "width": null,
            "min_width": null,
            "border": null,
            "align_items": null,
            "bottom": null,
            "_model_module": "@jupyter-widgets/base",
            "top": null,
            "grid_column": null,
            "overflow_y": null,
            "overflow_x": null,
            "grid_auto_flow": null,
            "grid_area": null,
            "grid_template_columns": null,
            "flex": null,
            "_model_name": "LayoutModel",
            "justify_items": null,
            "grid_row": null,
            "max_height": null,
            "align_content": null,
            "visibility": null,
            "align_self": null,
            "height": null,
            "min_height": null,
            "padding": null,
            "grid_auto_rows": null,
            "grid_gap": null,
            "max_width": null,
            "order": null,
            "_view_module_version": "1.2.0",
            "grid_template_areas": null,
            "object_position": null,
            "object_fit": null,
            "grid_auto_columns": null,
            "margin": null,
            "display": null,
            "left": null
          }
        },
        "c1f67f9783aa4b3fbddcf09a840a3547": {
          "model_module": "@jupyter-widgets/controls",
          "model_name": "HBoxModel",
          "model_module_version": "1.5.0",
          "state": {
            "_view_name": "HBoxView",
            "_dom_classes": [],
            "_model_name": "HBoxModel",
            "_view_module": "@jupyter-widgets/controls",
            "_model_module_version": "1.5.0",
            "_view_count": null,
            "_view_module_version": "1.5.0",
            "box_style": "",
            "layout": "IPY_MODEL_361b932d3f6b49c1a7258f7f997eec30",
            "_model_module": "@jupyter-widgets/controls",
            "children": [
              "IPY_MODEL_f57e1e6262a5422ebee7bb1cc4d7ba85",
              "IPY_MODEL_e5ed500f80f44d63a51ade3dac94023a",
              "IPY_MODEL_357b5b9d7675471b9fd32d0eccdd1e31"
            ]
          }
        },
        "361b932d3f6b49c1a7258f7f997eec30": {
          "model_module": "@jupyter-widgets/base",
          "model_name": "LayoutModel",
          "model_module_version": "1.2.0",
          "state": {
            "_view_name": "LayoutView",
            "grid_template_rows": null,
            "right": null,
            "justify_content": null,
            "_view_module": "@jupyter-widgets/base",
            "overflow": null,
            "_model_module_version": "1.2.0",
            "_view_count": null,
            "flex_flow": null,
            "width": null,
            "min_width": null,
            "border": null,
            "align_items": null,
            "bottom": null,
            "_model_module": "@jupyter-widgets/base",
            "top": null,
            "grid_column": null,
            "overflow_y": null,
            "overflow_x": null,
            "grid_auto_flow": null,
            "grid_area": null,
            "grid_template_columns": null,
            "flex": null,
            "_model_name": "LayoutModel",
            "justify_items": null,
            "grid_row": null,
            "max_height": null,
            "align_content": null,
            "visibility": null,
            "align_self": null,
            "height": null,
            "min_height": null,
            "padding": null,
            "grid_auto_rows": null,
            "grid_gap": null,
            "max_width": null,
            "order": null,
            "_view_module_version": "1.2.0",
            "grid_template_areas": null,
            "object_position": null,
            "object_fit": null,
            "grid_auto_columns": null,
            "margin": null,
            "display": null,
            "left": null
          }
        },
        "f57e1e6262a5422ebee7bb1cc4d7ba85": {
          "model_module": "@jupyter-widgets/controls",
          "model_name": "HTMLModel",
          "model_module_version": "1.5.0",
          "state": {
            "_view_name": "HTMLView",
            "style": "IPY_MODEL_3fc7f6070c804be6ac2fffc48a8aaf81",
            "_dom_classes": [],
            "description": "",
            "_model_name": "HTMLModel",
            "placeholder": "​",
            "_view_module": "@jupyter-widgets/controls",
            "_model_module_version": "1.5.0",
            "value": "100%",
            "_view_count": null,
            "_view_module_version": "1.5.0",
            "description_tooltip": null,
            "_model_module": "@jupyter-widgets/controls",
            "layout": "IPY_MODEL_b2a164854e3d41bab0e890b582c94337"
          }
        },
        "e5ed500f80f44d63a51ade3dac94023a": {
          "model_module": "@jupyter-widgets/controls",
          "model_name": "FloatProgressModel",
          "model_module_version": "1.5.0",
          "state": {
            "_view_name": "ProgressView",
            "style": "IPY_MODEL_d3ee315234944301a3c844bd1b32dfa7",
            "_dom_classes": [],
            "description": "",
            "_model_name": "FloatProgressModel",
            "bar_style": "success",
            "max": 200,
            "_view_module": "@jupyter-widgets/controls",
            "_model_module_version": "1.5.0",
            "value": 200,
            "_view_count": null,
            "_view_module_version": "1.5.0",
            "orientation": "horizontal",
            "min": 0,
            "description_tooltip": null,
            "_model_module": "@jupyter-widgets/controls",
            "layout": "IPY_MODEL_b4a26b10984a4d74905c59f661c48e4e"
          }
        },
        "357b5b9d7675471b9fd32d0eccdd1e31": {
          "model_module": "@jupyter-widgets/controls",
          "model_name": "HTMLModel",
          "model_module_version": "1.5.0",
          "state": {
            "_view_name": "HTMLView",
            "style": "IPY_MODEL_7ee5fd98f91c4decaff4e9cdc42479e5",
            "_dom_classes": [],
            "description": "",
            "_model_name": "HTMLModel",
            "placeholder": "​",
            "_view_module": "@jupyter-widgets/controls",
            "_model_module_version": "1.5.0",
            "value": " 200/200 [01:12&lt;00:00,  2.88it/s]",
            "_view_count": null,
            "_view_module_version": "1.5.0",
            "description_tooltip": null,
            "_model_module": "@jupyter-widgets/controls",
            "layout": "IPY_MODEL_7ea8da02822149da9326ee5a6daa3bfc"
          }
        },
        "3fc7f6070c804be6ac2fffc48a8aaf81": {
          "model_module": "@jupyter-widgets/controls",
          "model_name": "DescriptionStyleModel",
          "model_module_version": "1.5.0",
          "state": {
            "_view_name": "StyleView",
            "_model_name": "DescriptionStyleModel",
            "description_width": "",
            "_view_module": "@jupyter-widgets/base",
            "_model_module_version": "1.5.0",
            "_view_count": null,
            "_view_module_version": "1.2.0",
            "_model_module": "@jupyter-widgets/controls"
          }
        },
        "b2a164854e3d41bab0e890b582c94337": {
          "model_module": "@jupyter-widgets/base",
          "model_name": "LayoutModel",
          "model_module_version": "1.2.0",
          "state": {
            "_view_name": "LayoutView",
            "grid_template_rows": null,
            "right": null,
            "justify_content": null,
            "_view_module": "@jupyter-widgets/base",
            "overflow": null,
            "_model_module_version": "1.2.0",
            "_view_count": null,
            "flex_flow": null,
            "width": null,
            "min_width": null,
            "border": null,
            "align_items": null,
            "bottom": null,
            "_model_module": "@jupyter-widgets/base",
            "top": null,
            "grid_column": null,
            "overflow_y": null,
            "overflow_x": null,
            "grid_auto_flow": null,
            "grid_area": null,
            "grid_template_columns": null,
            "flex": null,
            "_model_name": "LayoutModel",
            "justify_items": null,
            "grid_row": null,
            "max_height": null,
            "align_content": null,
            "visibility": null,
            "align_self": null,
            "height": null,
            "min_height": null,
            "padding": null,
            "grid_auto_rows": null,
            "grid_gap": null,
            "max_width": null,
            "order": null,
            "_view_module_version": "1.2.0",
            "grid_template_areas": null,
            "object_position": null,
            "object_fit": null,
            "grid_auto_columns": null,
            "margin": null,
            "display": null,
            "left": null
          }
        },
        "d3ee315234944301a3c844bd1b32dfa7": {
          "model_module": "@jupyter-widgets/controls",
          "model_name": "ProgressStyleModel",
          "model_module_version": "1.5.0",
          "state": {
            "_view_name": "StyleView",
            "_model_name": "ProgressStyleModel",
            "description_width": "",
            "_view_module": "@jupyter-widgets/base",
            "_model_module_version": "1.5.0",
            "_view_count": null,
            "_view_module_version": "1.2.0",
            "bar_color": null,
            "_model_module": "@jupyter-widgets/controls"
          }
        },
        "b4a26b10984a4d74905c59f661c48e4e": {
          "model_module": "@jupyter-widgets/base",
          "model_name": "LayoutModel",
          "model_module_version": "1.2.0",
          "state": {
            "_view_name": "LayoutView",
            "grid_template_rows": null,
            "right": null,
            "justify_content": null,
            "_view_module": "@jupyter-widgets/base",
            "overflow": null,
            "_model_module_version": "1.2.0",
            "_view_count": null,
            "flex_flow": null,
            "width": null,
            "min_width": null,
            "border": null,
            "align_items": null,
            "bottom": null,
            "_model_module": "@jupyter-widgets/base",
            "top": null,
            "grid_column": null,
            "overflow_y": null,
            "overflow_x": null,
            "grid_auto_flow": null,
            "grid_area": null,
            "grid_template_columns": null,
            "flex": null,
            "_model_name": "LayoutModel",
            "justify_items": null,
            "grid_row": null,
            "max_height": null,
            "align_content": null,
            "visibility": null,
            "align_self": null,
            "height": null,
            "min_height": null,
            "padding": null,
            "grid_auto_rows": null,
            "grid_gap": null,
            "max_width": null,
            "order": null,
            "_view_module_version": "1.2.0",
            "grid_template_areas": null,
            "object_position": null,
            "object_fit": null,
            "grid_auto_columns": null,
            "margin": null,
            "display": null,
            "left": null
          }
        },
        "7ee5fd98f91c4decaff4e9cdc42479e5": {
          "model_module": "@jupyter-widgets/controls",
          "model_name": "DescriptionStyleModel",
          "model_module_version": "1.5.0",
          "state": {
            "_view_name": "StyleView",
            "_model_name": "DescriptionStyleModel",
            "description_width": "",
            "_view_module": "@jupyter-widgets/base",
            "_model_module_version": "1.5.0",
            "_view_count": null,
            "_view_module_version": "1.2.0",
            "_model_module": "@jupyter-widgets/controls"
          }
        },
        "7ea8da02822149da9326ee5a6daa3bfc": {
          "model_module": "@jupyter-widgets/base",
          "model_name": "LayoutModel",
          "model_module_version": "1.2.0",
          "state": {
            "_view_name": "LayoutView",
            "grid_template_rows": null,
            "right": null,
            "justify_content": null,
            "_view_module": "@jupyter-widgets/base",
            "overflow": null,
            "_model_module_version": "1.2.0",
            "_view_count": null,
            "flex_flow": null,
            "width": null,
            "min_width": null,
            "border": null,
            "align_items": null,
            "bottom": null,
            "_model_module": "@jupyter-widgets/base",
            "top": null,
            "grid_column": null,
            "overflow_y": null,
            "overflow_x": null,
            "grid_auto_flow": null,
            "grid_area": null,
            "grid_template_columns": null,
            "flex": null,
            "_model_name": "LayoutModel",
            "justify_items": null,
            "grid_row": null,
            "max_height": null,
            "align_content": null,
            "visibility": null,
            "align_self": null,
            "height": null,
            "min_height": null,
            "padding": null,
            "grid_auto_rows": null,
            "grid_gap": null,
            "max_width": null,
            "order": null,
            "_view_module_version": "1.2.0",
            "grid_template_areas": null,
            "object_position": null,
            "object_fit": null,
            "grid_auto_columns": null,
            "margin": null,
            "display": null,
            "left": null
          }
        },
        "7bd16a739eb24e448c8a4f2e5c7a075d": {
          "model_module": "@jupyter-widgets/controls",
          "model_name": "HBoxModel",
          "model_module_version": "1.5.0",
          "state": {
            "_view_name": "HBoxView",
            "_dom_classes": [],
            "_model_name": "HBoxModel",
            "_view_module": "@jupyter-widgets/controls",
            "_model_module_version": "1.5.0",
            "_view_count": null,
            "_view_module_version": "1.5.0",
            "box_style": "",
            "layout": "IPY_MODEL_0d63fb94e20647c0b06b9d962f8931ce",
            "_model_module": "@jupyter-widgets/controls",
            "children": [
              "IPY_MODEL_62f3e5304dbc4f839d7726efb4698cc9",
              "IPY_MODEL_9a6981ab25f54c889afde1f1b49fab0e",
              "IPY_MODEL_43a44cdabdb844968e3e7ec99646ad52"
            ]
          }
        },
        "0d63fb94e20647c0b06b9d962f8931ce": {
          "model_module": "@jupyter-widgets/base",
          "model_name": "LayoutModel",
          "model_module_version": "1.2.0",
          "state": {
            "_view_name": "LayoutView",
            "grid_template_rows": null,
            "right": null,
            "justify_content": null,
            "_view_module": "@jupyter-widgets/base",
            "overflow": null,
            "_model_module_version": "1.2.0",
            "_view_count": null,
            "flex_flow": null,
            "width": null,
            "min_width": null,
            "border": null,
            "align_items": null,
            "bottom": null,
            "_model_module": "@jupyter-widgets/base",
            "top": null,
            "grid_column": null,
            "overflow_y": null,
            "overflow_x": null,
            "grid_auto_flow": null,
            "grid_area": null,
            "grid_template_columns": null,
            "flex": null,
            "_model_name": "LayoutModel",
            "justify_items": null,
            "grid_row": null,
            "max_height": null,
            "align_content": null,
            "visibility": null,
            "align_self": null,
            "height": null,
            "min_height": null,
            "padding": null,
            "grid_auto_rows": null,
            "grid_gap": null,
            "max_width": null,
            "order": null,
            "_view_module_version": "1.2.0",
            "grid_template_areas": null,
            "object_position": null,
            "object_fit": null,
            "grid_auto_columns": null,
            "margin": null,
            "display": null,
            "left": null
          }
        },
        "62f3e5304dbc4f839d7726efb4698cc9": {
          "model_module": "@jupyter-widgets/controls",
          "model_name": "HTMLModel",
          "model_module_version": "1.5.0",
          "state": {
            "_view_name": "HTMLView",
            "style": "IPY_MODEL_a6efb43aac754193ad6897b5fac8b94f",
            "_dom_classes": [],
            "description": "",
            "_model_name": "HTMLModel",
            "placeholder": "​",
            "_view_module": "@jupyter-widgets/controls",
            "_model_module_version": "1.5.0",
            "value": "100%",
            "_view_count": null,
            "_view_module_version": "1.5.0",
            "description_tooltip": null,
            "_model_module": "@jupyter-widgets/controls",
            "layout": "IPY_MODEL_da4da9fd5f6c46febe80fb323efb9dd7"
          }
        },
        "9a6981ab25f54c889afde1f1b49fab0e": {
          "model_module": "@jupyter-widgets/controls",
          "model_name": "FloatProgressModel",
          "model_module_version": "1.5.0",
          "state": {
            "_view_name": "ProgressView",
            "style": "IPY_MODEL_dad09a0014bf47c282e9f7de4c597770",
            "_dom_classes": [],
            "description": "",
            "_model_name": "FloatProgressModel",
            "bar_style": "success",
            "max": 200,
            "_view_module": "@jupyter-widgets/controls",
            "_model_module_version": "1.5.0",
            "value": 200,
            "_view_count": null,
            "_view_module_version": "1.5.0",
            "orientation": "horizontal",
            "min": 0,
            "description_tooltip": null,
            "_model_module": "@jupyter-widgets/controls",
            "layout": "IPY_MODEL_a5eaefe6c9b5407abd5b2fe9998b55c7"
          }
        },
        "43a44cdabdb844968e3e7ec99646ad52": {
          "model_module": "@jupyter-widgets/controls",
          "model_name": "HTMLModel",
          "model_module_version": "1.5.0",
          "state": {
            "_view_name": "HTMLView",
            "style": "IPY_MODEL_3918c15c5a754288a7d6caf2c04a0f5d",
            "_dom_classes": [],
            "description": "",
            "_model_name": "HTMLModel",
            "placeholder": "​",
            "_view_module": "@jupyter-widgets/controls",
            "_model_module_version": "1.5.0",
            "value": " 200/200 [01:09&lt;00:00,  2.87it/s]",
            "_view_count": null,
            "_view_module_version": "1.5.0",
            "description_tooltip": null,
            "_model_module": "@jupyter-widgets/controls",
            "layout": "IPY_MODEL_bffa8d626ab94a14af1e2dd90cacbd6c"
          }
        },
        "a6efb43aac754193ad6897b5fac8b94f": {
          "model_module": "@jupyter-widgets/controls",
          "model_name": "DescriptionStyleModel",
          "model_module_version": "1.5.0",
          "state": {
            "_view_name": "StyleView",
            "_model_name": "DescriptionStyleModel",
            "description_width": "",
            "_view_module": "@jupyter-widgets/base",
            "_model_module_version": "1.5.0",
            "_view_count": null,
            "_view_module_version": "1.2.0",
            "_model_module": "@jupyter-widgets/controls"
          }
        },
        "da4da9fd5f6c46febe80fb323efb9dd7": {
          "model_module": "@jupyter-widgets/base",
          "model_name": "LayoutModel",
          "model_module_version": "1.2.0",
          "state": {
            "_view_name": "LayoutView",
            "grid_template_rows": null,
            "right": null,
            "justify_content": null,
            "_view_module": "@jupyter-widgets/base",
            "overflow": null,
            "_model_module_version": "1.2.0",
            "_view_count": null,
            "flex_flow": null,
            "width": null,
            "min_width": null,
            "border": null,
            "align_items": null,
            "bottom": null,
            "_model_module": "@jupyter-widgets/base",
            "top": null,
            "grid_column": null,
            "overflow_y": null,
            "overflow_x": null,
            "grid_auto_flow": null,
            "grid_area": null,
            "grid_template_columns": null,
            "flex": null,
            "_model_name": "LayoutModel",
            "justify_items": null,
            "grid_row": null,
            "max_height": null,
            "align_content": null,
            "visibility": null,
            "align_self": null,
            "height": null,
            "min_height": null,
            "padding": null,
            "grid_auto_rows": null,
            "grid_gap": null,
            "max_width": null,
            "order": null,
            "_view_module_version": "1.2.0",
            "grid_template_areas": null,
            "object_position": null,
            "object_fit": null,
            "grid_auto_columns": null,
            "margin": null,
            "display": null,
            "left": null
          }
        },
        "dad09a0014bf47c282e9f7de4c597770": {
          "model_module": "@jupyter-widgets/controls",
          "model_name": "ProgressStyleModel",
          "model_module_version": "1.5.0",
          "state": {
            "_view_name": "StyleView",
            "_model_name": "ProgressStyleModel",
            "description_width": "",
            "_view_module": "@jupyter-widgets/base",
            "_model_module_version": "1.5.0",
            "_view_count": null,
            "_view_module_version": "1.2.0",
            "bar_color": null,
            "_model_module": "@jupyter-widgets/controls"
          }
        },
        "a5eaefe6c9b5407abd5b2fe9998b55c7": {
          "model_module": "@jupyter-widgets/base",
          "model_name": "LayoutModel",
          "model_module_version": "1.2.0",
          "state": {
            "_view_name": "LayoutView",
            "grid_template_rows": null,
            "right": null,
            "justify_content": null,
            "_view_module": "@jupyter-widgets/base",
            "overflow": null,
            "_model_module_version": "1.2.0",
            "_view_count": null,
            "flex_flow": null,
            "width": null,
            "min_width": null,
            "border": null,
            "align_items": null,
            "bottom": null,
            "_model_module": "@jupyter-widgets/base",
            "top": null,
            "grid_column": null,
            "overflow_y": null,
            "overflow_x": null,
            "grid_auto_flow": null,
            "grid_area": null,
            "grid_template_columns": null,
            "flex": null,
            "_model_name": "LayoutModel",
            "justify_items": null,
            "grid_row": null,
            "max_height": null,
            "align_content": null,
            "visibility": null,
            "align_self": null,
            "height": null,
            "min_height": null,
            "padding": null,
            "grid_auto_rows": null,
            "grid_gap": null,
            "max_width": null,
            "order": null,
            "_view_module_version": "1.2.0",
            "grid_template_areas": null,
            "object_position": null,
            "object_fit": null,
            "grid_auto_columns": null,
            "margin": null,
            "display": null,
            "left": null
          }
        },
        "3918c15c5a754288a7d6caf2c04a0f5d": {
          "model_module": "@jupyter-widgets/controls",
          "model_name": "DescriptionStyleModel",
          "model_module_version": "1.5.0",
          "state": {
            "_view_name": "StyleView",
            "_model_name": "DescriptionStyleModel",
            "description_width": "",
            "_view_module": "@jupyter-widgets/base",
            "_model_module_version": "1.5.0",
            "_view_count": null,
            "_view_module_version": "1.2.0",
            "_model_module": "@jupyter-widgets/controls"
          }
        },
        "bffa8d626ab94a14af1e2dd90cacbd6c": {
          "model_module": "@jupyter-widgets/base",
          "model_name": "LayoutModel",
          "model_module_version": "1.2.0",
          "state": {
            "_view_name": "LayoutView",
            "grid_template_rows": null,
            "right": null,
            "justify_content": null,
            "_view_module": "@jupyter-widgets/base",
            "overflow": null,
            "_model_module_version": "1.2.0",
            "_view_count": null,
            "flex_flow": null,
            "width": null,
            "min_width": null,
            "border": null,
            "align_items": null,
            "bottom": null,
            "_model_module": "@jupyter-widgets/base",
            "top": null,
            "grid_column": null,
            "overflow_y": null,
            "overflow_x": null,
            "grid_auto_flow": null,
            "grid_area": null,
            "grid_template_columns": null,
            "flex": null,
            "_model_name": "LayoutModel",
            "justify_items": null,
            "grid_row": null,
            "max_height": null,
            "align_content": null,
            "visibility": null,
            "align_self": null,
            "height": null,
            "min_height": null,
            "padding": null,
            "grid_auto_rows": null,
            "grid_gap": null,
            "max_width": null,
            "order": null,
            "_view_module_version": "1.2.0",
            "grid_template_areas": null,
            "object_position": null,
            "object_fit": null,
            "grid_auto_columns": null,
            "margin": null,
            "display": null,
            "left": null
          }
        },
        "04d0c57ab6144f32aa8114666b3dd3e7": {
          "model_module": "@jupyter-widgets/controls",
          "model_name": "HBoxModel",
          "model_module_version": "1.5.0",
          "state": {
            "_view_name": "HBoxView",
            "_dom_classes": [],
            "_model_name": "HBoxModel",
            "_view_module": "@jupyter-widgets/controls",
            "_model_module_version": "1.5.0",
            "_view_count": null,
            "_view_module_version": "1.5.0",
            "box_style": "",
            "layout": "IPY_MODEL_65d0b865593c4574b22f42f2f53d9738",
            "_model_module": "@jupyter-widgets/controls",
            "children": [
              "IPY_MODEL_fa9496149ab445858a62e003137c1af4",
              "IPY_MODEL_f451f3f8cc2b4be0a5776a45639fadd5",
              "IPY_MODEL_3596d81b7d994ac69e310a1c077ff0d8"
            ]
          }
        },
        "65d0b865593c4574b22f42f2f53d9738": {
          "model_module": "@jupyter-widgets/base",
          "model_name": "LayoutModel",
          "model_module_version": "1.2.0",
          "state": {
            "_view_name": "LayoutView",
            "grid_template_rows": null,
            "right": null,
            "justify_content": null,
            "_view_module": "@jupyter-widgets/base",
            "overflow": null,
            "_model_module_version": "1.2.0",
            "_view_count": null,
            "flex_flow": null,
            "width": null,
            "min_width": null,
            "border": null,
            "align_items": null,
            "bottom": null,
            "_model_module": "@jupyter-widgets/base",
            "top": null,
            "grid_column": null,
            "overflow_y": null,
            "overflow_x": null,
            "grid_auto_flow": null,
            "grid_area": null,
            "grid_template_columns": null,
            "flex": null,
            "_model_name": "LayoutModel",
            "justify_items": null,
            "grid_row": null,
            "max_height": null,
            "align_content": null,
            "visibility": null,
            "align_self": null,
            "height": null,
            "min_height": null,
            "padding": null,
            "grid_auto_rows": null,
            "grid_gap": null,
            "max_width": null,
            "order": null,
            "_view_module_version": "1.2.0",
            "grid_template_areas": null,
            "object_position": null,
            "object_fit": null,
            "grid_auto_columns": null,
            "margin": null,
            "display": null,
            "left": null
          }
        },
        "fa9496149ab445858a62e003137c1af4": {
          "model_module": "@jupyter-widgets/controls",
          "model_name": "HTMLModel",
          "model_module_version": "1.5.0",
          "state": {
            "_view_name": "HTMLView",
            "style": "IPY_MODEL_f944e200695f4631907a2ed0380cc77f",
            "_dom_classes": [],
            "description": "",
            "_model_name": "HTMLModel",
            "placeholder": "​",
            "_view_module": "@jupyter-widgets/controls",
            "_model_module_version": "1.5.0",
            "value": "100%",
            "_view_count": null,
            "_view_module_version": "1.5.0",
            "description_tooltip": null,
            "_model_module": "@jupyter-widgets/controls",
            "layout": "IPY_MODEL_77ca196cf1c9475294ab29346c3a1241"
          }
        },
        "f451f3f8cc2b4be0a5776a45639fadd5": {
          "model_module": "@jupyter-widgets/controls",
          "model_name": "FloatProgressModel",
          "model_module_version": "1.5.0",
          "state": {
            "_view_name": "ProgressView",
            "style": "IPY_MODEL_ab3f919a5f024a549df173b41cd357b2",
            "_dom_classes": [],
            "description": "",
            "_model_name": "FloatProgressModel",
            "bar_style": "success",
            "max": 200,
            "_view_module": "@jupyter-widgets/controls",
            "_model_module_version": "1.5.0",
            "value": 200,
            "_view_count": null,
            "_view_module_version": "1.5.0",
            "orientation": "horizontal",
            "min": 0,
            "description_tooltip": null,
            "_model_module": "@jupyter-widgets/controls",
            "layout": "IPY_MODEL_5e0a12aae44f4c8e9dac158b0b175a2c"
          }
        },
        "3596d81b7d994ac69e310a1c077ff0d8": {
          "model_module": "@jupyter-widgets/controls",
          "model_name": "HTMLModel",
          "model_module_version": "1.5.0",
          "state": {
            "_view_name": "HTMLView",
            "style": "IPY_MODEL_b9cec622085747d5ae67dbc23deec438",
            "_dom_classes": [],
            "description": "",
            "_model_name": "HTMLModel",
            "placeholder": "​",
            "_view_module": "@jupyter-widgets/controls",
            "_model_module_version": "1.5.0",
            "value": " 200/200 [05:25&lt;00:00,  1.61s/it]",
            "_view_count": null,
            "_view_module_version": "1.5.0",
            "description_tooltip": null,
            "_model_module": "@jupyter-widgets/controls",
            "layout": "IPY_MODEL_480ad8fc13934de089f9f81ce9eb01a1"
          }
        },
        "f944e200695f4631907a2ed0380cc77f": {
          "model_module": "@jupyter-widgets/controls",
          "model_name": "DescriptionStyleModel",
          "model_module_version": "1.5.0",
          "state": {
            "_view_name": "StyleView",
            "_model_name": "DescriptionStyleModel",
            "description_width": "",
            "_view_module": "@jupyter-widgets/base",
            "_model_module_version": "1.5.0",
            "_view_count": null,
            "_view_module_version": "1.2.0",
            "_model_module": "@jupyter-widgets/controls"
          }
        },
        "77ca196cf1c9475294ab29346c3a1241": {
          "model_module": "@jupyter-widgets/base",
          "model_name": "LayoutModel",
          "model_module_version": "1.2.0",
          "state": {
            "_view_name": "LayoutView",
            "grid_template_rows": null,
            "right": null,
            "justify_content": null,
            "_view_module": "@jupyter-widgets/base",
            "overflow": null,
            "_model_module_version": "1.2.0",
            "_view_count": null,
            "flex_flow": null,
            "width": null,
            "min_width": null,
            "border": null,
            "align_items": null,
            "bottom": null,
            "_model_module": "@jupyter-widgets/base",
            "top": null,
            "grid_column": null,
            "overflow_y": null,
            "overflow_x": null,
            "grid_auto_flow": null,
            "grid_area": null,
            "grid_template_columns": null,
            "flex": null,
            "_model_name": "LayoutModel",
            "justify_items": null,
            "grid_row": null,
            "max_height": null,
            "align_content": null,
            "visibility": null,
            "align_self": null,
            "height": null,
            "min_height": null,
            "padding": null,
            "grid_auto_rows": null,
            "grid_gap": null,
            "max_width": null,
            "order": null,
            "_view_module_version": "1.2.0",
            "grid_template_areas": null,
            "object_position": null,
            "object_fit": null,
            "grid_auto_columns": null,
            "margin": null,
            "display": null,
            "left": null
          }
        },
        "ab3f919a5f024a549df173b41cd357b2": {
          "model_module": "@jupyter-widgets/controls",
          "model_name": "ProgressStyleModel",
          "model_module_version": "1.5.0",
          "state": {
            "_view_name": "StyleView",
            "_model_name": "ProgressStyleModel",
            "description_width": "",
            "_view_module": "@jupyter-widgets/base",
            "_model_module_version": "1.5.0",
            "_view_count": null,
            "_view_module_version": "1.2.0",
            "bar_color": null,
            "_model_module": "@jupyter-widgets/controls"
          }
        },
        "5e0a12aae44f4c8e9dac158b0b175a2c": {
          "model_module": "@jupyter-widgets/base",
          "model_name": "LayoutModel",
          "model_module_version": "1.2.0",
          "state": {
            "_view_name": "LayoutView",
            "grid_template_rows": null,
            "right": null,
            "justify_content": null,
            "_view_module": "@jupyter-widgets/base",
            "overflow": null,
            "_model_module_version": "1.2.0",
            "_view_count": null,
            "flex_flow": null,
            "width": null,
            "min_width": null,
            "border": null,
            "align_items": null,
            "bottom": null,
            "_model_module": "@jupyter-widgets/base",
            "top": null,
            "grid_column": null,
            "overflow_y": null,
            "overflow_x": null,
            "grid_auto_flow": null,
            "grid_area": null,
            "grid_template_columns": null,
            "flex": null,
            "_model_name": "LayoutModel",
            "justify_items": null,
            "grid_row": null,
            "max_height": null,
            "align_content": null,
            "visibility": null,
            "align_self": null,
            "height": null,
            "min_height": null,
            "padding": null,
            "grid_auto_rows": null,
            "grid_gap": null,
            "max_width": null,
            "order": null,
            "_view_module_version": "1.2.0",
            "grid_template_areas": null,
            "object_position": null,
            "object_fit": null,
            "grid_auto_columns": null,
            "margin": null,
            "display": null,
            "left": null
          }
        },
        "b9cec622085747d5ae67dbc23deec438": {
          "model_module": "@jupyter-widgets/controls",
          "model_name": "DescriptionStyleModel",
          "model_module_version": "1.5.0",
          "state": {
            "_view_name": "StyleView",
            "_model_name": "DescriptionStyleModel",
            "description_width": "",
            "_view_module": "@jupyter-widgets/base",
            "_model_module_version": "1.5.0",
            "_view_count": null,
            "_view_module_version": "1.2.0",
            "_model_module": "@jupyter-widgets/controls"
          }
        },
        "480ad8fc13934de089f9f81ce9eb01a1": {
          "model_module": "@jupyter-widgets/base",
          "model_name": "LayoutModel",
          "model_module_version": "1.2.0",
          "state": {
            "_view_name": "LayoutView",
            "grid_template_rows": null,
            "right": null,
            "justify_content": null,
            "_view_module": "@jupyter-widgets/base",
            "overflow": null,
            "_model_module_version": "1.2.0",
            "_view_count": null,
            "flex_flow": null,
            "width": null,
            "min_width": null,
            "border": null,
            "align_items": null,
            "bottom": null,
            "_model_module": "@jupyter-widgets/base",
            "top": null,
            "grid_column": null,
            "overflow_y": null,
            "overflow_x": null,
            "grid_auto_flow": null,
            "grid_area": null,
            "grid_template_columns": null,
            "flex": null,
            "_model_name": "LayoutModel",
            "justify_items": null,
            "grid_row": null,
            "max_height": null,
            "align_content": null,
            "visibility": null,
            "align_self": null,
            "height": null,
            "min_height": null,
            "padding": null,
            "grid_auto_rows": null,
            "grid_gap": null,
            "max_width": null,
            "order": null,
            "_view_module_version": "1.2.0",
            "grid_template_areas": null,
            "object_position": null,
            "object_fit": null,
            "grid_auto_columns": null,
            "margin": null,
            "display": null,
            "left": null
          }
        }
      }
    }
  },
  "cells": [
    {
      "cell_type": "markdown",
      "metadata": {
        "id": "Z-6U30x8VvHL"
      },
      "source": [
        "# Trabajo práctico 1\n",
        "\n",
        "## Autor: Collado Claudio\n",
        "\n",
        "*El objetivo del trabajo práctico es trabajar con los conceptos de aprendizaje por gradiente, perceptrones multi-capas y reducción de overfitting. Para esto trabajaremos con un conjunto de similar al MNIST, pero con lenguaje de señas en vez de caracteres. El dataset está publicado originalmente en https://www.kaggle.com/datamunge/sign-language-mnist, pero se provee una versión preprocesada ya cargada en arreglos numpy. Las características de dataset son:*\n",
        "\n",
        "| Propiedad | Valor |\n",
        "| --- | --- |\n",
        "| Clases | 25 |\n",
        "| Tamaño de las imagenes | 28 X 28 X 1 |\n",
        "| Instancias de entrenemiento | 27.455 |\n",
        "| Instancias de validación | 7.172 |\n",
        "| Valor mínimo de cada pixel | 0 |\n",
        "| Valor máximo de cada pixel | 255 |"
      ]
    },
    {
      "cell_type": "code",
      "metadata": {
        "id": "coKwNV5lVvHM"
      },
      "source": [
        "#Importo los modulos a utilizar\n",
        "\n",
        "import urllib.request\n",
        "import os\n",
        "import sys\n",
        "import time\n",
        "import numpy as np\n",
        "import pandas as pd\n",
        "import tensorflow as tf\n",
        "from tqdm.notebook import tqdm\n",
        "import random\n",
        "from sklearn.utils import shuffle\n",
        "from tensorflow.keras.utils import to_categorical\n",
        "from sklearn.metrics import confusion_matrix, classification_report\n",
        "import matplotlib.pyplot as plt\n",
        "import matplotlib as mpl\n",
        "import seaborn as sns\n",
        "\n",
        "%matplotlib inline\n",
        "mpl.rcParams['figure.figsize'] = [12.0, 8.0]\n",
        "\n",
        "from tensorflow.keras.layers import Input, Dense, Dropout, BatchNormalization, GaussianNoise, GaussianDropout, LayerNormalization\n",
        "from tensorflow.keras.models import Model \n",
        "from tensorflow.keras.optimizers import SGD \n",
        "from tensorflow.keras.datasets import mnist \n",
        "from tensorflow.keras.regularizers import L2\n",
        "from tensorflow.keras.utils import to_categorical \n",
        "from tensorflow.keras.callbacks import ReduceLROnPlateau, EarlyStopping\n",
        "tf.random.set_seed(1234)"
      ],
      "execution_count": 1,
      "outputs": []
    },
    {
      "cell_type": "code",
      "metadata": {
        "id": "ElZF2HHJVvHQ",
        "colab": {
          "base_uri": "https://localhost:8080/",
          "height": 394
        },
        "outputId": "c21ed60a-57be-4486-fdd4-1477e371cb6e"
      },
      "source": [
        "#Cargando datos\n",
        "def reporthook(count, block_size, total_size):\n",
        "    global start_time\n",
        "    if count == 0:\n",
        "        start_time = time.time()\n",
        "        return\n",
        "    duration = time.time() - start_time\n",
        "    progress_size = int(count * block_size)\n",
        "    speed = int(progress_size / (1024 * duration))\n",
        "    percent = int(count * block_size * 100 / total_size)\n",
        "    sys.stdout.write(\"\\r...%d%%, %d MB, %d KB/s, %d seconds passed\" %\n",
        "                    (percent, progress_size / (1024 * 1024), speed, duration))\n",
        "    sys.stdout.flush()\n",
        "\n",
        "# como vamos a necesitar descargar más archivos posteriormente, definimos una función que lo haga\n",
        "\n",
        "def descargar_archivo(url,datapath):\n",
        "    if not os.path.exists(datapath): # antes de descargar el archivo controlamos que no exista\n",
        "       print(\"File does not exist\")\n",
        "  \n",
        "       print(\"Downloading file...\") \n",
        "       urllib.request.urlretrieve(url, datapath, reporthook)\n",
        "        \n",
        "\n",
        "descargar_archivo('https://users.exa.unicen.edu.ar/~jmrodri/sign_imgs.npz', 'sign_imgs.npz')\n",
        "data = np.load('sign_imgs.npz', allow_pickle=True)\n",
        "x_train, y_train, x_test, y_test = data['x_train'], data['y_train'], data['x_test'], data['y_test']\n",
        "print('100 primeros elementos del conjunto de entrenaimento')\n",
        "f = plt.figure(111)\n",
        "for i in range(10):\n",
        "    for j in range(10):\n",
        "        ax = f.add_subplot(10, 10, i + j*10 + 1)\n",
        "        ax.set_xticklabels('')\n",
        "        ax.set_yticklabels('')\n",
        "        ax.imshow(x_train[i + j*10, :, :, 0], cmap='gray')\n",
        "plt.show()\n",
        "print(y_train[:100])"
      ],
      "execution_count": 2,
      "outputs": [
        {
          "output_type": "stream",
          "name": "stdout",
          "text": [
            "File does not exist\n",
            "Downloading file...\n",
            "...100%, 25 MB, 2424 KB/s, 10 seconds passed100 primeros elementos del conjunto de entrenaimento\n"
          ]
        },
        {
          "output_type": "display_data",
          "data": {
            "image/png": "[encoded data removed]",
            "text/plain": [
              "<Figure size 432x288 with 100 Axes>"
            ]
          },
          "metadata": {
            "needs_background": "light"
          }
        },
        {
          "output_type": "stream",
          "name": "stdout",
          "text": [
            "[ 3  6  2  2 13 16  8 22  3  3 18 10 16 22 20 16 17 13 13 19 18 21 16 23\n",
            "  3 23 24 18 22  1  1 12  2  6  2 12 23  2  3 13 11 15 20  2  4 10  0 19\n",
            "  5  7  0 11  6 21 18 19 21  7  0  0  4 14 15 10  5 19  2 13  7 16 12  8\n",
            " 15 11 21 14 10  6 18 11 16 14 16 18  4  2 16 14 23  0 21 16 10 14 17  1\n",
            " 15 18  4 16]\n"
          ]
        }
      ]
    },
    {
      "cell_type": "markdown",
      "metadata": {
        "id": "_yUIvXaSVvHT"
      },
      "source": [
        "## 1. Ejercicio N°1\n",
        "\n",
        "*Implemente un modelo con softmax y una capa para predecir las señas. Implemente todo el algoritmo de aprendizaje, sin usar keras, utilizando Stochastic Gradient Descent. Evalue diversos parámetros para el lr y momentum.*"
      ]
    },
    {
      "cell_type": "code",
      "metadata": {
        "id": "6SUdrZE0VvHU"
      },
      "source": [
        "# Defino el tamaño de los vectores de entrada\n",
        "# Escalo los valores numericos de pixeles a [0-1]\n",
        "# Paso a categorico el target\n",
        "\n",
        "size = x_train.shape[1]*x_train.shape[2]\n",
        "x_train = x_train.reshape((x_train.shape[0], size)) / 255\n",
        "x_test = x_test.reshape((x_test.shape[0], size)) / 255\n",
        "\n",
        "yc_train, yc_test = to_categorical(y_train), to_categorical(y_test)\n",
        "\n",
        "x_train = x_train.astype(np.float32)\n",
        "x_test = x_test.astype(np.float32)\n",
        "yc_train = yc_train.astype(np.float32)\n",
        "yc_test = yc_test.astype(np.float32)"
      ],
      "execution_count": 3,
      "outputs": []
    },
    {
      "cell_type": "code",
      "metadata": {
        "id": "rEinpPgGcZHh"
      },
      "source": [
        "#Funcion softmax\n",
        "def softmax(z):\n",
        "    exp = tf.exp(z)\n",
        "    return exp / tf.expand_dims(tf.math.reduce_sum(exp, axis=1), axis=-1)\n",
        "\n",
        "#Funcion para realizar la prediccion\n",
        "def predict(x, w, b):\n",
        "    return softmax(tf.matmul(x, w) + b)\n",
        "\n",
        "# Funcion entropia cruzada\n",
        "def categorical_crossentropy(y_true, y_pred):\n",
        "    return tf.math.reduce_mean(-tf.math.reduce_sum(y_true * tf.math.log(tf.clip_by_value(y_pred, 1e-6, 1)), axis=1))\n",
        "\n",
        "#Funcion de perdida\n",
        "def loss_f(y_true, x, w, b):\n",
        "    return categorical_crossentropy(y_true, predict(x, w, b))\n",
        "\n",
        "#Funcion que implementa Stochastic Gradient Descent\n",
        "def SGD(lr_sgd,momentum_sgd,batch_size_sgd,ciclos_sgd,n_clases):\n",
        "  w = tf.random.uniform(shape=[size, n_clases], minval=-1, maxval=1)\n",
        "  b = tf.random.uniform(shape=[n_clases], minval=-1, maxval=1)\n",
        "  ciclos = ciclos_sgd\n",
        "  lr = lr_sgd \n",
        "  momentum = momentum_sgd\n",
        "  mini_batch_size = batch_size_sgd\n",
        "  errors = []\n",
        "  errors_minibatch = []\n",
        "  vw = tf.zeros(shape=[size, 25])\n",
        "  vb = tf.zeros(shape=[25])\n",
        "  for i in tqdm(range(ciclos)):\n",
        "      x_s, y_s = shuffle(x_train, yc_train)\n",
        "      for mini_batch in range(0, x_s.shape[0], mini_batch_size):\n",
        "          with tf.GradientTape() as g:\n",
        "              g.watch([w, b])\n",
        "              loss = loss_f(y_s[mini_batch:mini_batch+mini_batch_size], x_s[mini_batch:mini_batch+mini_batch_size], w, b)\n",
        "              errors_minibatch.append(loss.numpy())\n",
        "          gw, gb = g.gradient(loss, [w, b])\n",
        "          vw = momentum * vw - lr * gw\n",
        "          vb = momentum * vb - lr * gb\n",
        "          w = w + vw\n",
        "          b = b + vb\n",
        "      errors.append(loss_f(yc_train, x_train, w, b).numpy())\n",
        "      \n",
        "  return errors,errors_minibatch,w,b"
      ],
      "execution_count": 4,
      "outputs": []
    },
    {
      "cell_type": "markdown",
      "metadata": {
        "id": "EI8O_cNY09kN"
      },
      "source": [
        "### 1.1 Modelos - Diferentes valores de Learning Rate"
      ]
    },
    {
      "cell_type": "code",
      "metadata": {
        "colab": {
          "base_uri": "https://localhost:8080/",
          "height": 641,
          "referenced_widgets": [
            "7fcee752c29942e6aaf0e003f9d5c32c",
            "0256a49a118341c798f394729f3afcfd",
            "21f20087a424479a9a9a4d0a20c48bac",
            "ec828b4fa8844e90890e97d39810bd42",
            "47973da94a424f5ebad596d8f6898e72",
            "6889aedddd7641e189240dc44e33ae10",
            "1b9b53603bf44a78922c8742100c065a",
            "b7383d007e04437db1e7ff92e6e19793",
            "da556e7e1e4e4d69a1dee02f5594c44c",
            "e87d9db7a21c4db197cf4307f05d1766",
            "3d2fd2f44b894bb1a87634957f66a022",
            "3977a287f68f4eb7a337ca06263ac201",
            "b6686e78429246a897964d4d90e162e2",
            "6acdda0480114dd0b6d8799878e8dc45",
            "64edddb3c1224e92b988d884b105c01c",
            "b4be0776f86044c985405e0834600a5b",
            "a0f7676368154036b47c490884f02c2b",
            "d7d9287a3f1d4fcea7c404cc69cba657",
            "bb18b98e25914ec9a307553c469dd76e",
            "15d0a3a3238e4aceb3d8da39a93cdb78",
            "95f3c77b5ca54440945b480e1d7dc492",
            "563db41e836f405ca0b224348a98204e",
            "0514dc434a9d476b8e9a71709eb2f8f2",
            "570f26ed15374e80bd9c0f3180d66ee7",
            "b55140d5f55e43b5b7d241d4f8919031",
            "689b7e785d08478386b4797984c263ab",
            "10ab2efe9b7f4444b74974e89da68e6b",
            "cc64f317ed0b4db68443ecb8eae308ab",
            "6b318a056cca4221be111a4128af818d",
            "bb64811d7221458180e22f7f67fa1046",
            "e8f245367d7d4dc9849f532be9de1a7d",
            "7c1c4039f42f45b4ae37b0c093b49e2b",
            "97f93ed4176c4d6a8096c16aab9296e1"
          ]
        },
        "id": "LLF8ZObrsk1k",
        "outputId": "7c92b09c-15cc-4afd-9e07-c1112ca0b447"
      },
      "source": [
        "#3 modelos con diferente valor de learning rate\n",
        "a = SGD(0.001,0.5,batch_size_sgd=500,ciclos_sgd=200,n_clases=25)\n",
        "b = SGD(0.01,0.5,batch_size_sgd=500,ciclos_sgd=200,n_clases=25)\n",
        "c = SGD(0.1,0.5,batch_size_sgd=500,ciclos_sgd=200,n_clases=25)\n",
        "\n",
        "#Plot de los errores \n",
        "plt.plot(a[0],label='lr = 0.001')\n",
        "plt.plot(b[0],label='lr = 0.01')\n",
        "plt.plot(c[0],label='lr = 0.1')\n",
        "plt.title('Error a medida que se actualiza w')\n",
        "plt.legend()\n",
        "plt.show()\n",
        "\n",
        "#Plot de los errores del minibatch\n",
        "plt.plot(a[1],label='lr = 0.001')\n",
        "plt.plot(b[1],label='lr = 0.01')\n",
        "plt.plot(c[1],label='lr = 0.1')\n",
        "plt.title('Error del minibatch a medida que se actualiza w')\n",
        "plt.legend()\n",
        "plt.show()"
      ],
      "execution_count": 5,
      "outputs": [
        {
          "output_type": "display_data",
          "data": {
            "application/vnd.jupyter.widget-view+json": {
              "model_id": "7fcee752c29942e6aaf0e003f9d5c32c",
              "version_minor": 0,
              "version_major": 2
            },
            "text/plain": [
              "  0%|          | 0/200 [00:00<?, ?it/s]"
            ]
          },
          "metadata": {}
        },
        {
          "output_type": "display_data",
          "data": {
            "application/vnd.jupyter.widget-view+json": {
              "model_id": "3977a287f68f4eb7a337ca06263ac201",
              "version_minor": 0,
              "version_major": 2
            },
            "text/plain": [
              "  0%|          | 0/200 [00:00<?, ?it/s]"
            ]
          },
          "metadata": {}
        },
        {
          "output_type": "display_data",
          "data": {
            "application/vnd.jupyter.widget-view+json": {
              "model_id": "0514dc434a9d476b8e9a71709eb2f8f2",
              "version_minor": 0,
              "version_major": 2
            },
            "text/plain": [
              "  0%|          | 0/200 [00:00<?, ?it/s]"
            ]
          },
          "metadata": {}
        },
        {
          "output_type": "display_data",
          "data": {
            "image/png": "[encoded data removed]",
            "text/plain": [
              "<Figure size 432x288 with 1 Axes>"
            ]
          },
          "metadata": {
            "needs_background": "light"
          }
        },
        {
          "output_type": "display_data",
          "data": {
            "image/png": "[encoded data removed]",
            "text/plain": [
              "<Figure size 432x288 with 1 Axes>"
            ]
          },
          "metadata": {
            "needs_background": "light"
          }
        }
      ]
    },
    {
      "cell_type": "markdown",
      "metadata": {
        "id": "dh1cTdO0vlj_"
      },
      "source": [
        "Observaciones:\n",
        "\n",
        "*   Como era de esperar a medida que crece la cantidad de ciclos el comportamiento de los errores es monotamente decreciente\n",
        "*   Se observa que a una cantidad fija de ciclos el modelo con menor valor de \n",
        "learning rate tiene valores de errores superior a aquellos modelos con learning rate mayor: Esto se nota marcadamente para lr=0.001\n",
        "*   El comportamiento de los errores para learning rate 0.01 y 0.1 son similares"
      ]
    },
    {
      "cell_type": "markdown",
      "metadata": {
        "id": "CuuVvM9n12zk"
      },
      "source": [
        "### 1.2 Modelos - Diferentes valores de Momentum"
      ]
    },
    {
      "cell_type": "code",
      "metadata": {
        "colab": {
          "base_uri": "https://localhost:8080/",
          "height": 673,
          "referenced_widgets": [
            "ab8aaea9e2e641808a3ec87c750ddcc0",
            "94b26a129dca4a9c9480c982bdbb2742",
            "4b6ffc04373c4ce99e3db37fe75f2710",
            "d09b42015ac3492994ca71db0ceaa001",
            "9044b70a98514a528605c74dea31034b",
            "0ef4ef0b35fb4a76ae32fa045625198c",
            "4f4094e377014ea18f5e329ce076b1c9",
            "5da5ef081371455bb344a5cdcdf39ef3",
            "4b6d2a5f9e2a4a81bad0d6c9fa4e61ec",
            "89d4425ca320423cad28f65f3aed4e6f",
            "7bda5a34110f4a5eb4cd2c7542eed9ed",
            "2ff65c97689d459d8a7f56d41b4dcf3c",
            "c6bbab6331184200abfe81db46316c47",
            "e9a82b9e46674719885f9606032acc15",
            "3f82c20efcf3413b923988ff36519599",
            "d224c8108d3e4eeca55c64fb1699da3d",
            "79195b50429c46668f9927a13a5c6332",
            "f9e9e4cf81d943a98dab14449e43dd57",
            "47b3d2065b66438ab63860bc90123fa7",
            "a0db418ad449402c9da38ab1429d2d17",
            "668c8b78d3204e96a29c9f269939c637",
            "069df8f7deaa4b618ff82cd5379eee26",
            "c1f67f9783aa4b3fbddcf09a840a3547",
            "361b932d3f6b49c1a7258f7f997eec30",
            "f57e1e6262a5422ebee7bb1cc4d7ba85",
            "e5ed500f80f44d63a51ade3dac94023a",
            "357b5b9d7675471b9fd32d0eccdd1e31",
            "3fc7f6070c804be6ac2fffc48a8aaf81",
            "b2a164854e3d41bab0e890b582c94337",
            "d3ee315234944301a3c844bd1b32dfa7",
            "b4a26b10984a4d74905c59f661c48e4e",
            "7ee5fd98f91c4decaff4e9cdc42479e5",
            "7ea8da02822149da9326ee5a6daa3bfc",
            "7bd16a739eb24e448c8a4f2e5c7a075d",
            "0d63fb94e20647c0b06b9d962f8931ce",
            "62f3e5304dbc4f839d7726efb4698cc9",
            "9a6981ab25f54c889afde1f1b49fab0e",
            "43a44cdabdb844968e3e7ec99646ad52",
            "a6efb43aac754193ad6897b5fac8b94f",
            "da4da9fd5f6c46febe80fb323efb9dd7",
            "dad09a0014bf47c282e9f7de4c597770",
            "a5eaefe6c9b5407abd5b2fe9998b55c7",
            "3918c15c5a754288a7d6caf2c04a0f5d",
            "bffa8d626ab94a14af1e2dd90cacbd6c"
          ]
        },
        "id": "sB9MGgPF1ESO",
        "outputId": "6f55405e-448f-46de-bff8-6b7138e62487"
      },
      "source": [
        "a = SGD(0.01,0.5,batch_size_sgd=500,ciclos_sgd=200,n_clases=25)\n",
        "b = SGD(0.01,0.6,batch_size_sgd=500,ciclos_sgd=200,n_clases=25)\n",
        "c = SGD(0.01,0.7,batch_size_sgd=500,ciclos_sgd=200,n_clases=25)\n",
        "d = SGD(0.01,1.1,batch_size_sgd=500,ciclos_sgd=200,n_clases=25)\n",
        "\n",
        "plt.plot(a[0],label= 'momentum = 0.5')\n",
        "plt.plot(b[0],label='momentum = 0.6')\n",
        "plt.plot(c[0],label='momentum = 0.7')\n",
        "plt.plot(d[0],label='momentum = 1.1')\n",
        "plt.title('Error a medida que se actualiza w')\n",
        "plt.legend()\n",
        "plt.show()\n",
        "\n",
        "plt.plot(a[1],label= 'momentum = 0.5')\n",
        "plt.plot(b[1],label='momentum = 0.6')\n",
        "plt.plot(c[1],label='momentum = 0.7')\n",
        "plt.plot(d[1],label='momentum = 1.1')\n",
        "plt.title('Error del minibatch a medida que se actualiza w')\n",
        "plt.legend()\n",
        "plt.show()"
      ],
      "execution_count": 6,
      "outputs": [
        {
          "output_type": "display_data",
          "data": {
            "application/vnd.jupyter.widget-view+json": {
              "model_id": "ab8aaea9e2e641808a3ec87c750ddcc0",
              "version_minor": 0,
              "version_major": 2
            },
            "text/plain": [
              "  0%|          | 0/200 [00:00<?, ?it/s]"
            ]
          },
          "metadata": {}
        },
        {
          "output_type": "display_data",
          "data": {
            "application/vnd.jupyter.widget-view+json": {
              "model_id": "2ff65c97689d459d8a7f56d41b4dcf3c",
              "version_minor": 0,
              "version_major": 2
            },
            "text/plain": [
              "  0%|          | 0/200 [00:00<?, ?it/s]"
            ]
          },
          "metadata": {}
        },
        {
          "output_type": "display_data",
          "data": {
            "application/vnd.jupyter.widget-view+json": {
              "model_id": "c1f67f9783aa4b3fbddcf09a840a3547",
              "version_minor": 0,
              "version_major": 2
            },
            "text/plain": [
              "  0%|          | 0/200 [00:00<?, ?it/s]"
            ]
          },
          "metadata": {}
        },
        {
          "output_type": "display_data",
          "data": {
            "application/vnd.jupyter.widget-view+json": {
              "model_id": "7bd16a739eb24e448c8a4f2e5c7a075d",
              "version_minor": 0,
              "version_major": 2
            },
            "text/plain": [
              "  0%|          | 0/200 [00:00<?, ?it/s]"
            ]
          },
          "metadata": {}
        },
        {
          "output_type": "display_data",
          "data": {
            "image/png": "[encoded data removed]",
            "text/plain": [
              "<Figure size 432x288 with 1 Axes>"
            ]
          },
          "metadata": {
            "needs_background": "light"
          }
        },
        {
          "output_type": "display_data",
          "data": {
            "image/png": "[encoded data removed]",
            "text/plain": [
              "<Figure size 432x288 with 1 Axes>"
            ]
          },
          "metadata": {
            "needs_background": "light"
          }
        }
      ]
    },
    {
      "cell_type": "markdown",
      "metadata": {
        "id": "EVTwhcMQUfAP"
      },
      "source": [
        "Observaciones:\n",
        "\n",
        "*   Como era de esperar a medida que crece la cantidad de ciclos el comportamiento de los errores es monotamente decreciente\n",
        "*   Se observa que a una cantidad fija de ciclos el modelo con mayor valor de \n",
        "momentum tiene valores de errores superior a aquellos modelos con momentum menor: Esto se nota marcadamente para momentum=0.7\n",
        "*   El comportamiento de los errores para momentum 0.6 y 0.7 son similares\n",
        "*   Se incorporo un valor de momentum superior a 1 (valor no utilizado en la practica): En las curvas de error no se observa el comportamiento y en las curva de error del minibatch se observa solamente al inicio\n",
        "\n"
      ]
    },
    {
      "cell_type": "markdown",
      "metadata": {
        "id": "Cif64VPqOFih"
      },
      "source": [
        "### 1.3 Metrica para un modelo especifico\n",
        "\n",
        "Considerando un modelo especifico observo los valores de las metricas sobre el conjunto de test"
      ]
    },
    {
      "cell_type": "code",
      "metadata": {
        "colab": {
          "base_uri": "https://localhost:8080/",
          "height": 48,
          "referenced_widgets": [
            "04d0c57ab6144f32aa8114666b3dd3e7",
            "65d0b865593c4574b22f42f2f53d9738",
            "fa9496149ab445858a62e003137c1af4",
            "f451f3f8cc2b4be0a5776a45639fadd5",
            "3596d81b7d994ac69e310a1c077ff0d8",
            "f944e200695f4631907a2ed0380cc77f",
            "77ca196cf1c9475294ab29346c3a1241",
            "ab3f919a5f024a549df173b41cd357b2",
            "5e0a12aae44f4c8e9dac158b0b175a2c",
            "b9cec622085747d5ae67dbc23deec438",
            "480ad8fc13934de089f9f81ce9eb01a1"
          ]
        },
        "id": "wmX7UKS44lPU",
        "outputId": "05449dbc-e28f-43d3-cb78-af076666a3f2"
      },
      "source": [
        "#Modelo, pesos y bias\n",
        "\n",
        "sgd = SGD(0.001,0.7,batch_size_sgd=50,ciclos_sgd=200,n_clases=25)\n",
        "w = sgd[2]\n",
        "b = sgd[3]"
      ],
      "execution_count": 7,
      "outputs": [
        {
          "output_type": "display_data",
          "data": {
            "application/vnd.jupyter.widget-view+json": {
              "model_id": "04d0c57ab6144f32aa8114666b3dd3e7",
              "version_minor": 0,
              "version_major": 2
            },
            "text/plain": [
              "  0%|          | 0/200 [00:00<?, ?it/s]"
            ]
          },
          "metadata": {}
        }
      ]
    },
    {
      "cell_type": "code",
      "metadata": {
        "colab": {
          "base_uri": "https://localhost:8080/"
        },
        "id": "h1-272MYkTCr",
        "outputId": "db41baa8-aa96-43c5-9936-91e3c99495cf"
      },
      "source": [
        "#Predicciones y metricas\n",
        "\n",
        "y_pred = predict(x_test, w, b).numpy()\n",
        "y_pred = np.argmax(y_pred, axis=1)\n",
        "print(classification_report(y_test, y_pred))"
      ],
      "execution_count": 8,
      "outputs": [
        {
          "output_type": "stream",
          "name": "stdout",
          "text": [
            "              precision    recall  f1-score   support\n",
            "\n",
            "           0       0.73      0.97      0.83       331\n",
            "           1       0.86      0.74      0.80       432\n",
            "           2       0.69      0.93      0.79       310\n",
            "           3       0.71      0.76      0.74       245\n",
            "           4       0.81      0.92      0.86       498\n",
            "           5       0.49      0.70      0.58       247\n",
            "           6       0.74      0.66      0.70       348\n",
            "           7       0.88      0.70      0.78       436\n",
            "           8       0.58      0.48      0.52       288\n",
            "          10       0.53      0.37      0.43       331\n",
            "          11       0.00      0.00      0.00       209\n",
            "          12       0.49      0.49      0.49       394\n",
            "          13       0.40      0.36      0.38       291\n",
            "          14       0.86      0.55      0.67       246\n",
            "          15       0.82      0.90      0.86       347\n",
            "          16       0.48      0.87      0.62       164\n",
            "          17       0.10      0.28      0.15       144\n",
            "          18       0.00      0.00      0.00       246\n",
            "          19       0.39      0.50      0.44       248\n",
            "          20       0.30      0.33      0.31       266\n",
            "          21       0.67      0.44      0.53       346\n",
            "          22       0.32      0.48      0.39       206\n",
            "          23       0.56      0.49      0.52       267\n",
            "          24       0.58      0.62      0.60       332\n",
            "\n",
            "    accuracy                           0.60      7172\n",
            "   macro avg       0.54      0.56      0.54      7172\n",
            "weighted avg       0.59      0.60      0.58      7172\n",
            "\n"
          ]
        },
        {
          "output_type": "stream",
          "name": "stderr",
          "text": [
            "/usr/local/lib/python3.7/dist-packages/sklearn/metrics/_classification.py:1272: UndefinedMetricWarning: Precision and F-score are ill-defined and being set to 0.0 in labels with no predicted samples. Use `zero_division` parameter to control this behavior.\n",
            "  _warn_prf(average, modifier, msg_start, len(result))\n"
          ]
        }
      ]
    },
    {
      "cell_type": "markdown",
      "metadata": {
        "id": "OQEcw-plV1nc"
      },
      "source": [
        "Se observa que para ciertas señas se obtienen buenos resultados (ej: target 1,4 y 7) mientras que para otros lo resultados no son buenos (ej: target 13,17 y 22)"
      ]
    },
    {
      "cell_type": "markdown",
      "metadata": {
        "id": "Gbs1OSPjVvHZ"
      },
      "source": [
        "### 1.4 Considere la matriz de pesos (w de 784, 25). Por cada columna de esta matriz, cambiele la forma *np.reshape* a matrices de 28 por 28 y grafíque la imagen. Piense sobre lo que ve, ¿tiene algun sentido?."
      ]
    },
    {
      "cell_type": "code",
      "metadata": {
        "colab": {
          "base_uri": "https://localhost:8080/"
        },
        "id": "yx1o0BTVmDWi",
        "outputId": "c317f101-4c64-418d-e7e4-1af85ae575d2"
      },
      "source": [
        "#Matriz de pesos\n",
        "\n",
        "w"
      ],
      "execution_count": 57,
      "outputs": [
        {
          "output_type": "execute_result",
          "data": {
            "text/plain": [
              "<tf.Tensor: shape=(784, 25), dtype=float32, numpy=\n",
              "array([[ 0.102184  ,  0.13202626, -0.5018931 , ..., -0.5160911 ,\n",
              "        -0.85490566, -0.075457  ],\n",
              "       [ 0.9665345 ,  0.01474091,  0.28422937, ...,  0.57369906,\n",
              "         0.99711037, -0.5731928 ],\n",
              "       [ 0.9221694 ,  0.50264144,  0.18114957, ...,  0.7186624 ,\n",
              "        -0.69881254, -0.92657876],\n",
              "       ...,\n",
              "       [-0.22474538, -0.13728294,  0.0815826 , ...,  0.09560005,\n",
              "        -0.8914625 , -0.05814631],\n",
              "       [ 0.30071434,  0.50191987,  1.0356807 , ..., -0.44749257,\n",
              "        -0.6337658 , -0.49202567],\n",
              "       [-0.7860097 , -1.0123188 ,  0.70186406, ...,  0.39559206,\n",
              "         0.64659387,  0.08606273]], dtype=float32)>"
            ]
          },
          "metadata": {},
          "execution_count": 57
        }
      ]
    },
    {
      "cell_type": "code",
      "metadata": {
        "colab": {
          "base_uri": "https://localhost:8080/",
          "height": 282
        },
        "id": "ufU5oIaKkbSj",
        "outputId": "0fa75a84-c474-48af-d040-5bb39d986a08"
      },
      "source": [
        "image0 = np.reshape(w[:,0],(28,28))\n",
        "plt.imshow(image0, cmap='gray')"
      ],
      "execution_count": 65,
      "outputs": [
        {
          "output_type": "execute_result",
          "data": {
            "text/plain": [
              "<matplotlib.image.AxesImage at 0x7f859f3f9490>"
            ]
          },
          "metadata": {},
          "execution_count": 65
        },
        {
          "output_type": "display_data",
          "data": {
            "image/png": "[encoded data removed]",
            "text/plain": [
              "<Figure size 432x288 with 1 Axes>"
            ]
          },
          "metadata": {
            "needs_background": "light"
          }
        }
      ]
    },
    {
      "cell_type": "code",
      "metadata": {
        "colab": {
          "base_uri": "https://localhost:8080/",
          "height": 282
        },
        "id": "cpx78f5DnH1T",
        "outputId": "d1702104-60d5-468e-8cf7-d5c65b22b1dc"
      },
      "source": [
        "image1 = np.reshape(w[:,1],(28,28))\n",
        "plt.imshow(image1, cmap='gray')"
      ],
      "execution_count": 66,
      "outputs": [
        {
          "output_type": "execute_result",
          "data": {
            "text/plain": [
              "<matplotlib.image.AxesImage at 0x7f859f38b390>"
            ]
          },
          "metadata": {},
          "execution_count": 66
        },
        {
          "output_type": "display_data",
          "data": {
            "image/png": "[encoded data removed]",
            "text/plain": [
              "<Figure size 432x288 with 1 Axes>"
            ]
          },
          "metadata": {
            "needs_background": "light"
          }
        }
      ]
    },
    {
      "cell_type": "code",
      "metadata": {
        "colab": {
          "base_uri": "https://localhost:8080/",
          "height": 282
        },
        "id": "hjYjZjL6nbP7",
        "outputId": "1455945a-cc00-4017-cc44-605c466b1da8"
      },
      "source": [
        "image2 = np.reshape(w[:,2],(28,28))\n",
        "plt.imshow(image2, cmap='gray')"
      ],
      "execution_count": 67,
      "outputs": [
        {
          "output_type": "execute_result",
          "data": {
            "text/plain": [
              "<matplotlib.image.AxesImage at 0x7f859f312610>"
            ]
          },
          "metadata": {},
          "execution_count": 67
        },
        {
          "output_type": "display_data",
          "data": {
            "image/png": "[encoded data removed]",
            "text/plain": [
              "<Figure size 432x288 with 1 Axes>"
            ]
          },
          "metadata": {
            "needs_background": "light"
          }
        }
      ]
    },
    {
      "cell_type": "markdown",
      "metadata": {
        "id": "ZkLWUWLCnqsg"
      },
      "source": [
        "A lo que observo como resultado de las imagenes no lo encuentro sentido."
      ]
    },
    {
      "cell_type": "markdown",
      "metadata": {
        "id": "xLxj1ow-VvHf"
      },
      "source": [
        "## 2. Ejercicio N°2\n",
        "\n",
        "*Implemente un preceptron multi-capas para realizar las predicciones. Varie la cantidad de capas y parámetros para ver la relación entre error de training y test. Grafíquelos.*"
      ]
    },
    {
      "cell_type": "markdown",
      "metadata": {
        "id": "6t0WlBfoArlP"
      },
      "source": [
        "Modelo N°1\n",
        "\n"
      ]
    },
    {
      "cell_type": "code",
      "metadata": {
        "colab": {
          "base_uri": "https://localhost:8080/"
        },
        "id": "IYtbaJXMA3gl",
        "outputId": "678a5461-7ab1-4c19-b874-15373f4a942e"
      },
      "source": [
        "#Definicion del modelo\n",
        "\n",
        "i1 = Input((x_train.shape[1],))\n",
        "d1 = Dense(64, activation='relu')(i1) #Capa oculta de 64 neuronas\n",
        "d1 = Dense(25, activation='softmax')(d1) #Softmax como activacion final\n",
        "model1 = Model(i1, d1)\n",
        "model1.compile(optimizer='adam', loss='categorical_crossentropy', metrics=['accuracy'])\n",
        "model1.summary()"
      ],
      "execution_count": 10,
      "outputs": [
        {
          "output_type": "stream",
          "name": "stdout",
          "text": [
            "Model: \"model\"\n",
            "_________________________________________________________________\n",
            "Layer (type)                 Output Shape              Param #   \n",
            "=================================================================\n",
            "input_1 (InputLayer)         [(None, 784)]             0         \n",
            "_________________________________________________________________\n",
            "dense (Dense)                (None, 64)                50240     \n",
            "_________________________________________________________________\n",
            "dense_1 (Dense)              (None, 25)                1625      \n",
            "=================================================================\n",
            "Total params: 51,865\n",
            "Trainable params: 51,865\n",
            "Non-trainable params: 0\n",
            "_________________________________________________________________\n"
          ]
        }
      ]
    },
    {
      "cell_type": "code",
      "metadata": {
        "colab": {
          "base_uri": "https://localhost:8080/"
        },
        "id": "rzgf9YLpA3V5",
        "outputId": "30ae9d60-def3-4d85-9aff-7d43a8be5e64"
      },
      "source": [
        "#Entrenamiento del modelo\n",
        "\n",
        "history1 = model1.fit(x_train, yc_train, epochs=20, verbose=1, validation_data=(x_test, yc_test))"
      ],
      "execution_count": 11,
      "outputs": [
        {
          "output_type": "stream",
          "name": "stdout",
          "text": [
            "Epoch 1/20\n",
            "858/858 [==============================] - 2s 2ms/step - loss: 2.6550 - accuracy: 0.2169 - val_loss: 2.2380 - val_accuracy: 0.3074\n",
            "Epoch 2/20\n",
            "858/858 [==============================] - 2s 2ms/step - loss: 1.8695 - accuracy: 0.4274 - val_loss: 1.8597 - val_accuracy: 0.4216\n",
            "Epoch 3/20\n",
            "858/858 [==============================] - 2s 2ms/step - loss: 1.5696 - accuracy: 0.5080 - val_loss: 1.6366 - val_accuracy: 0.4796\n",
            "Epoch 4/20\n",
            "858/858 [==============================] - 2s 2ms/step - loss: 1.4223 - accuracy: 0.5446 - val_loss: 1.5714 - val_accuracy: 0.5074\n",
            "Epoch 5/20\n",
            "858/858 [==============================] - 2s 2ms/step - loss: 1.3182 - accuracy: 0.5746 - val_loss: 1.5051 - val_accuracy: 0.5139\n",
            "Epoch 6/20\n",
            "858/858 [==============================] - 2s 2ms/step - loss: 1.2384 - accuracy: 0.5979 - val_loss: 1.4796 - val_accuracy: 0.5418\n",
            "Epoch 7/20\n",
            "858/858 [==============================] - 2s 2ms/step - loss: 1.1702 - accuracy: 0.6189 - val_loss: 1.4939 - val_accuracy: 0.5155\n",
            "Epoch 8/20\n",
            "858/858 [==============================] - 2s 2ms/step - loss: 1.1115 - accuracy: 0.6373 - val_loss: 1.4277 - val_accuracy: 0.5630\n",
            "Epoch 9/20\n",
            "858/858 [==============================] - 2s 2ms/step - loss: 1.0615 - accuracy: 0.6493 - val_loss: 1.4013 - val_accuracy: 0.5534\n",
            "Epoch 10/20\n",
            "858/858 [==============================] - 2s 2ms/step - loss: 1.0167 - accuracy: 0.6644 - val_loss: 1.4686 - val_accuracy: 0.5325\n",
            "Epoch 11/20\n",
            "858/858 [==============================] - 2s 2ms/step - loss: 0.9769 - accuracy: 0.6762 - val_loss: 1.4784 - val_accuracy: 0.5349\n",
            "Epoch 12/20\n",
            "858/858 [==============================] - 2s 2ms/step - loss: 0.9430 - accuracy: 0.6895 - val_loss: 1.4064 - val_accuracy: 0.5746\n",
            "Epoch 13/20\n",
            "858/858 [==============================] - 2s 2ms/step - loss: 0.9066 - accuracy: 0.7017 - val_loss: 1.3817 - val_accuracy: 0.5721\n",
            "Epoch 14/20\n",
            "858/858 [==============================] - 2s 2ms/step - loss: 0.8755 - accuracy: 0.7122 - val_loss: 1.4023 - val_accuracy: 0.5544\n",
            "Epoch 15/20\n",
            "858/858 [==============================] - 2s 2ms/step - loss: 0.8470 - accuracy: 0.7231 - val_loss: 1.4000 - val_accuracy: 0.5697\n",
            "Epoch 16/20\n",
            "858/858 [==============================] - 2s 2ms/step - loss: 0.8191 - accuracy: 0.7305 - val_loss: 1.4630 - val_accuracy: 0.5489\n",
            "Epoch 17/20\n",
            "858/858 [==============================] - 2s 2ms/step - loss: 0.7918 - accuracy: 0.7394 - val_loss: 1.4324 - val_accuracy: 0.5630\n",
            "Epoch 18/20\n",
            "858/858 [==============================] - 2s 2ms/step - loss: 0.7712 - accuracy: 0.7454 - val_loss: 1.4262 - val_accuracy: 0.5669\n",
            "Epoch 19/20\n",
            "858/858 [==============================] - 2s 2ms/step - loss: 0.7414 - accuracy: 0.7575 - val_loss: 1.4579 - val_accuracy: 0.5541\n",
            "Epoch 20/20\n",
            "858/858 [==============================] - 2s 2ms/step - loss: 0.7194 - accuracy: 0.7628 - val_loss: 1.4114 - val_accuracy: 0.5714\n"
          ]
        }
      ]
    },
    {
      "cell_type": "code",
      "metadata": {
        "colab": {
          "base_uri": "https://localhost:8080/",
          "height": 283
        },
        "id": "1J3boBJ2A3Nh",
        "outputId": "323a84dc-ca63-4b54-f895-71a13c961b04"
      },
      "source": [
        "#Comportamiento de la funcion de costo para train y test\n",
        "\n",
        "plt.plot(range(1, 21), history1.history['loss'], 'r-',label='Training')\n",
        "plt.plot(range(1, 21), history1.history['val_loss'], 'b-', label='Test')\n",
        "plt.legend(framealpha=1, frameon=True)\n",
        "plt.xlabel('Epoch')\n",
        "plt.ylabel('Loss: Categorical CrossEntropy')\n",
        "plt.show()"
      ],
      "execution_count": 12,
      "outputs": [
        {
          "output_type": "display_data",
          "data": {
            "image/png": "[encoded data removed]",
            "text/plain": [
              "<Figure size 432x288 with 1 Axes>"
            ]
          },
          "metadata": {
            "needs_background": "light"
          }
        }
      ]
    },
    {
      "cell_type": "code",
      "metadata": {
        "colab": {
          "base_uri": "https://localhost:8080/",
          "height": 278
        },
        "id": "lpgAPAdXBQtz",
        "outputId": "8869a650-0cf9-4caa-f268-6d15f8c5d0ec"
      },
      "source": [
        "#Comportamiento de la metrica (accuracy) para train y test\n",
        "\n",
        "plt.plot(range(1, 21), history1.history['accuracy'], 'r-',label='Training')\n",
        "plt.plot(range(1, 21), history1.history['val_accuracy'], 'b-', label='Test')\n",
        "plt.legend(framealpha=1, frameon=True)\n",
        "plt.xlabel('Epoch')\n",
        "plt.ylabel('Accuracy')\n",
        "plt.show()"
      ],
      "execution_count": 13,
      "outputs": [
        {
          "output_type": "display_data",
          "data": {
            "image/png": "[encoded data removed]",
            "text/plain": [
              "<Figure size 432x288 with 1 Axes>"
            ]
          },
          "metadata": {
            "needs_background": "light"
          }
        }
      ]
    },
    {
      "cell_type": "markdown",
      "metadata": {
        "id": "V-X6Gr9EAx_I"
      },
      "source": [
        "Modelo N°2"
      ]
    },
    {
      "cell_type": "code",
      "metadata": {
        "colab": {
          "base_uri": "https://localhost:8080/"
        },
        "id": "gAE-_BQvB9oT",
        "outputId": "5271899b-cf02-4489-999c-0c0f3a1b146a"
      },
      "source": [
        "#Definicion del modelo\n",
        "\n",
        "i2 = Input((x_train.shape[1],))\n",
        "d2 = Dense(64, activation='relu')(i2) #Capa oculta de 64 neuronas\n",
        "d2 = Dense(128, activation='relu')(d2) #Capa oculta de 128 neuronas\n",
        "d2 = Dense(25, activation='softmax')(d2) #Softmax como activacion final\n",
        "model2 = Model(i2, d2)\n",
        "model2.compile(optimizer='adam', loss='categorical_crossentropy', metrics=['accuracy'])\n",
        "model2.summary()"
      ],
      "execution_count": 14,
      "outputs": [
        {
          "output_type": "stream",
          "name": "stdout",
          "text": [
            "Model: \"model_1\"\n",
            "_________________________________________________________________\n",
            "Layer (type)                 Output Shape              Param #   \n",
            "=================================================================\n",
            "input_2 (InputLayer)         [(None, 784)]             0         \n",
            "_________________________________________________________________\n",
            "dense_2 (Dense)              (None, 64)                50240     \n",
            "_________________________________________________________________\n",
            "dense_3 (Dense)              (None, 128)               8320      \n",
            "_________________________________________________________________\n",
            "dense_4 (Dense)              (None, 25)                3225      \n",
            "=================================================================\n",
            "Total params: 61,785\n",
            "Trainable params: 61,785\n",
            "Non-trainable params: 0\n",
            "_________________________________________________________________\n"
          ]
        }
      ]
    },
    {
      "cell_type": "code",
      "metadata": {
        "colab": {
          "base_uri": "https://localhost:8080/"
        },
        "id": "D9MLsrYzB9oV",
        "outputId": "375bb089-3b59-45b9-feb9-be4a001e8385"
      },
      "source": [
        "#Entrenamiento del modelo\n",
        "\n",
        "history2 = model2.fit(x_train, yc_train, epochs=20, verbose=1, validation_data=(x_test, yc_test))"
      ],
      "execution_count": 15,
      "outputs": [
        {
          "output_type": "stream",
          "name": "stdout",
          "text": [
            "Epoch 1/20\n",
            "858/858 [==============================] - 2s 2ms/step - loss: 1.9949 - accuracy: 0.3785 - val_loss: 1.4908 - val_accuracy: 0.4941\n",
            "Epoch 2/20\n",
            "858/858 [==============================] - 2s 2ms/step - loss: 1.0385 - accuracy: 0.6630 - val_loss: 1.1635 - val_accuracy: 0.6171\n",
            "Epoch 3/20\n",
            "858/858 [==============================] - 2s 2ms/step - loss: 0.6804 - accuracy: 0.7823 - val_loss: 0.9967 - val_accuracy: 0.6854\n",
            "Epoch 4/20\n",
            "858/858 [==============================] - 2s 2ms/step - loss: 0.4879 - accuracy: 0.8447 - val_loss: 1.0771 - val_accuracy: 0.6736\n",
            "Epoch 5/20\n",
            "858/858 [==============================] - 2s 2ms/step - loss: 0.3600 - accuracy: 0.8848 - val_loss: 1.1803 - val_accuracy: 0.6468\n",
            "Epoch 6/20\n",
            "858/858 [==============================] - 2s 2ms/step - loss: 0.2629 - accuracy: 0.9212 - val_loss: 1.0699 - val_accuracy: 0.7078\n",
            "Epoch 7/20\n",
            "858/858 [==============================] - 2s 2ms/step - loss: 0.1916 - accuracy: 0.9439 - val_loss: 1.0467 - val_accuracy: 0.7287\n",
            "Epoch 8/20\n",
            "858/858 [==============================] - 2s 2ms/step - loss: 0.1513 - accuracy: 0.9593 - val_loss: 1.0277 - val_accuracy: 0.7210\n",
            "Epoch 9/20\n",
            "858/858 [==============================] - 2s 2ms/step - loss: 0.1184 - accuracy: 0.9674 - val_loss: 1.0991 - val_accuracy: 0.7460\n",
            "Epoch 10/20\n",
            "858/858 [==============================] - 2s 2ms/step - loss: 0.0778 - accuracy: 0.9820 - val_loss: 1.1775 - val_accuracy: 0.7475\n",
            "Epoch 11/20\n",
            "858/858 [==============================] - 2s 2ms/step - loss: 0.0783 - accuracy: 0.9802 - val_loss: 1.1586 - val_accuracy: 0.7535\n",
            "Epoch 12/20\n",
            "858/858 [==============================] - 2s 2ms/step - loss: 0.0611 - accuracy: 0.9850 - val_loss: 1.2242 - val_accuracy: 0.7543\n",
            "Epoch 13/20\n",
            "858/858 [==============================] - 2s 2ms/step - loss: 0.0389 - accuracy: 0.9913 - val_loss: 1.2361 - val_accuracy: 0.7684\n",
            "Epoch 14/20\n",
            "858/858 [==============================] - 2s 2ms/step - loss: 0.0619 - accuracy: 0.9821 - val_loss: 1.2008 - val_accuracy: 0.7631\n",
            "Epoch 15/20\n",
            "858/858 [==============================] - 2s 2ms/step - loss: 0.0434 - accuracy: 0.9879 - val_loss: 1.2391 - val_accuracy: 0.7581\n",
            "Epoch 16/20\n",
            "858/858 [==============================] - 2s 2ms/step - loss: 0.0737 - accuracy: 0.9808 - val_loss: 1.2168 - val_accuracy: 0.7764\n",
            "Epoch 17/20\n",
            "858/858 [==============================] - 2s 2ms/step - loss: 0.0074 - accuracy: 0.9998 - val_loss: 1.2681 - val_accuracy: 0.7734\n",
            "Epoch 18/20\n",
            "858/858 [==============================] - 2s 2ms/step - loss: 0.0635 - accuracy: 0.9843 - val_loss: 1.1528 - val_accuracy: 0.7790\n",
            "Epoch 19/20\n",
            "858/858 [==============================] - 2s 2ms/step - loss: 0.0052 - accuracy: 1.0000 - val_loss: 1.2531 - val_accuracy: 0.7860\n",
            "Epoch 20/20\n",
            "858/858 [==============================] - 2s 2ms/step - loss: 0.0601 - accuracy: 0.9840 - val_loss: 1.2366 - val_accuracy: 0.7772\n"
          ]
        }
      ]
    },
    {
      "cell_type": "code",
      "metadata": {
        "colab": {
          "base_uri": "https://localhost:8080/",
          "height": 278
        },
        "id": "nwdy3ykMB9oW",
        "outputId": "8258bf28-ac7c-4259-ca70-97fcc4f041f6"
      },
      "source": [
        "#Comportamiento de la funcion de costo para train y test\n",
        "\n",
        "plt.plot(range(1, 21), history2.history['loss'], 'r-',label='Training')\n",
        "plt.plot(range(1, 21), history2.history['val_loss'], 'b-', label='Test')\n",
        "plt.legend(framealpha=1, frameon=True)\n",
        "plt.xlabel('Epoch')\n",
        "plt.ylabel('Loss: Categorical CrossEntropy')\n",
        "plt.show()"
      ],
      "execution_count": 16,
      "outputs": [
        {
          "output_type": "display_data",
          "data": {
            "image/png": "[encoded data removed]",
            "text/plain": [
              "<Figure size 432x288 with 1 Axes>"
            ]
          },
          "metadata": {
            "needs_background": "light"
          }
        }
      ]
    },
    {
      "cell_type": "code",
      "metadata": {
        "colab": {
          "base_uri": "https://localhost:8080/",
          "height": 278
        },
        "id": "zNg9bApSB9oX",
        "outputId": "8a2b1678-0349-4fc7-e0cb-bd1bb3a80f38"
      },
      "source": [
        "#Comportamiento de la metrica (accuracy) para train y test\n",
        "\n",
        "plt.plot(range(1, 21), history2.history['accuracy'], 'r-',label='Training')\n",
        "plt.plot(range(1, 21), history2.history['val_accuracy'], 'b-', label='Test')\n",
        "plt.legend(framealpha=1, frameon=True)\n",
        "plt.xlabel('Epoch')\n",
        "plt.ylabel('Accuracy')\n",
        "plt.show()"
      ],
      "execution_count": 17,
      "outputs": [
        {
          "output_type": "display_data",
          "data": {
            "image/png": "[encoded data removed]",
            "text/plain": [
              "<Figure size 432x288 with 1 Axes>"
            ]
          },
          "metadata": {
            "needs_background": "light"
          }
        }
      ]
    },
    {
      "cell_type": "markdown",
      "metadata": {
        "id": "fA-oa6NIAxwC"
      },
      "source": [
        "Modelo N°3"
      ]
    },
    {
      "cell_type": "code",
      "metadata": {
        "colab": {
          "base_uri": "https://localhost:8080/"
        },
        "id": "aGSbW6rQMT8D",
        "outputId": "94e22843-ca8f-40e4-e3b6-321f7e1d33e8"
      },
      "source": [
        "#Definicion del modelo\n",
        "\n",
        "i3 = Input((x_train.shape[1],))\n",
        "d3 = Dense(64, activation='relu')(i3) #Capa oculta de 64 neuronas\n",
        "d3 = Dense(128, activation='relu')(d3) #Capa oculta de 128 neuronas\n",
        "d3 = Dense(256, activation='relu')(d3) #Capa oculta de 256 neuronas\n",
        "d3 = Dense(25, activation='softmax')(d3) #Softmax como activacion final\n",
        "model3 = Model(i3, d3)\n",
        "model3.compile(optimizer='adam', loss='categorical_crossentropy', metrics=['accuracy'])\n",
        "model3.summary()"
      ],
      "execution_count": 18,
      "outputs": [
        {
          "output_type": "stream",
          "name": "stdout",
          "text": [
            "Model: \"model_2\"\n",
            "_________________________________________________________________\n",
            "Layer (type)                 Output Shape              Param #   \n",
            "=================================================================\n",
            "input_3 (InputLayer)         [(None, 784)]             0         \n",
            "_________________________________________________________________\n",
            "dense_5 (Dense)              (None, 64)                50240     \n",
            "_________________________________________________________________\n",
            "dense_6 (Dense)              (None, 128)               8320      \n",
            "_________________________________________________________________\n",
            "dense_7 (Dense)              (None, 256)               33024     \n",
            "_________________________________________________________________\n",
            "dense_8 (Dense)              (None, 25)                6425      \n",
            "=================================================================\n",
            "Total params: 98,009\n",
            "Trainable params: 98,009\n",
            "Non-trainable params: 0\n",
            "_________________________________________________________________\n"
          ]
        }
      ]
    },
    {
      "cell_type": "code",
      "metadata": {
        "colab": {
          "base_uri": "https://localhost:8080/"
        },
        "id": "cQj1eVhzMT8G",
        "outputId": "b5ae8e1c-1ff4-47b0-a2d2-538fdbbd2165"
      },
      "source": [
        "#Entrenamiento del modelo\n",
        "\n",
        "history3 = model3.fit(x_train, yc_train, epochs=20, verbose=1, validation_data=(x_test, yc_test))"
      ],
      "execution_count": 19,
      "outputs": [
        {
          "output_type": "stream",
          "name": "stdout",
          "text": [
            "Epoch 1/20\n",
            "858/858 [==============================] - 3s 3ms/step - loss: 1.8820 - accuracy: 0.3865 - val_loss: 1.4624 - val_accuracy: 0.5144\n",
            "Epoch 2/20\n",
            "858/858 [==============================] - 2s 3ms/step - loss: 0.9151 - accuracy: 0.6862 - val_loss: 1.1896 - val_accuracy: 0.6057\n",
            "Epoch 3/20\n",
            "858/858 [==============================] - 2s 3ms/step - loss: 0.5058 - accuracy: 0.8293 - val_loss: 1.0475 - val_accuracy: 0.6788\n",
            "Epoch 4/20\n",
            "858/858 [==============================] - 2s 3ms/step - loss: 0.3098 - accuracy: 0.8975 - val_loss: 1.2111 - val_accuracy: 0.6967\n",
            "Epoch 5/20\n",
            "858/858 [==============================] - 2s 3ms/step - loss: 0.2006 - accuracy: 0.9353 - val_loss: 1.3570 - val_accuracy: 0.6369\n",
            "Epoch 6/20\n",
            "858/858 [==============================] - 2s 3ms/step - loss: 0.1709 - accuracy: 0.9446 - val_loss: 1.2886 - val_accuracy: 0.7119\n",
            "Epoch 7/20\n",
            "858/858 [==============================] - 2s 3ms/step - loss: 0.1089 - accuracy: 0.9648 - val_loss: 1.1651 - val_accuracy: 0.7359\n",
            "Epoch 8/20\n",
            "858/858 [==============================] - 2s 3ms/step - loss: 0.0762 - accuracy: 0.9790 - val_loss: 1.2191 - val_accuracy: 0.7453\n",
            "Epoch 9/20\n",
            "858/858 [==============================] - 2s 3ms/step - loss: 0.1056 - accuracy: 0.9709 - val_loss: 1.3515 - val_accuracy: 0.7246\n",
            "Epoch 10/20\n",
            "858/858 [==============================] - 2s 3ms/step - loss: 0.0643 - accuracy: 0.9806 - val_loss: 1.3243 - val_accuracy: 0.7547\n",
            "Epoch 11/20\n",
            "858/858 [==============================] - 2s 3ms/step - loss: 0.0412 - accuracy: 0.9877 - val_loss: 1.4414 - val_accuracy: 0.7292\n",
            "Epoch 12/20\n",
            "858/858 [==============================] - 2s 3ms/step - loss: 0.0482 - accuracy: 0.9847 - val_loss: 1.3850 - val_accuracy: 0.7503\n",
            "Epoch 13/20\n",
            "858/858 [==============================] - 2s 3ms/step - loss: 0.0890 - accuracy: 0.9766 - val_loss: 1.2062 - val_accuracy: 0.7688\n",
            "Epoch 14/20\n",
            "858/858 [==============================] - 2s 3ms/step - loss: 0.0039 - accuracy: 1.0000 - val_loss: 1.4043 - val_accuracy: 0.7797\n",
            "Epoch 15/20\n",
            "858/858 [==============================] - 2s 3ms/step - loss: 0.0236 - accuracy: 0.9961 - val_loss: 3.6683 - val_accuracy: 0.5547\n",
            "Epoch 16/20\n",
            "858/858 [==============================] - 2s 3ms/step - loss: 0.0909 - accuracy: 0.9781 - val_loss: 1.3260 - val_accuracy: 0.7685\n",
            "Epoch 17/20\n",
            "858/858 [==============================] - 2s 3ms/step - loss: 0.0731 - accuracy: 0.9811 - val_loss: 1.2595 - val_accuracy: 0.7715\n",
            "Epoch 18/20\n",
            "858/858 [==============================] - 2s 3ms/step - loss: 0.0611 - accuracy: 0.9822 - val_loss: 1.3189 - val_accuracy: 0.7637\n",
            "Epoch 19/20\n",
            "858/858 [==============================] - 2s 3ms/step - loss: 0.0037 - accuracy: 0.9996 - val_loss: 1.3580 - val_accuracy: 0.7860\n",
            "Epoch 20/20\n",
            "858/858 [==============================] - 2s 3ms/step - loss: 0.0013 - accuracy: 0.9999 - val_loss: 1.4200 - val_accuracy: 0.7851\n"
          ]
        }
      ]
    },
    {
      "cell_type": "code",
      "metadata": {
        "colab": {
          "base_uri": "https://localhost:8080/",
          "height": 278
        },
        "id": "Zuf1729QMT8H",
        "outputId": "e6d662b2-ea50-4fd2-cf71-ba97f86ad9aa"
      },
      "source": [
        "#Comportamiento de la funcion de costo para train y test\n",
        "\n",
        "plt.plot(range(1, 21), history3.history['loss'], 'r-',label='Training')\n",
        "plt.plot(range(1, 21), history3.history['val_loss'], 'b-', label='Test')\n",
        "plt.legend(framealpha=1, frameon=True)\n",
        "plt.xlabel('Epoch')\n",
        "plt.ylabel('Loss: Categorical CrossEntropy')\n",
        "plt.show()"
      ],
      "execution_count": 20,
      "outputs": [
        {
          "output_type": "display_data",
          "data": {
            "image/png": "[encoded data removed]",
            "text/plain": [
              "<Figure size 432x288 with 1 Axes>"
            ]
          },
          "metadata": {
            "needs_background": "light"
          }
        }
      ]
    },
    {
      "cell_type": "code",
      "metadata": {
        "colab": {
          "base_uri": "https://localhost:8080/",
          "height": 278
        },
        "id": "jk7nMIDmMT8I",
        "outputId": "c3a8c907-ad94-416b-b37d-39c3c332b62f"
      },
      "source": [
        "#Comportamiento de la metrica (accuracy) para train y test\n",
        "\n",
        "plt.plot(range(1, 21), history3.history['accuracy'], 'r-',label='Training')\n",
        "plt.plot(range(1, 21), history3.history['val_accuracy'], 'b-', label='Test')\n",
        "plt.legend(framealpha=1, frameon=True)\n",
        "plt.xlabel('Epoch')\n",
        "plt.ylabel('Accuracy')\n",
        "plt.show()"
      ],
      "execution_count": 21,
      "outputs": [
        {
          "output_type": "display_data",
          "data": {
            "image/png": "[encoded data removed]",
            "text/plain": [
              "<Figure size 432x288 with 1 Axes>"
            ]
          },
          "metadata": {
            "needs_background": "light"
          }
        }
      ]
    },
    {
      "cell_type": "markdown",
      "metadata": {
        "id": "Nd7GFVT6MNDo"
      },
      "source": [
        "Model N°4"
      ]
    },
    {
      "cell_type": "code",
      "metadata": {
        "id": "BF6Tbcp5VvHg",
        "colab": {
          "base_uri": "https://localhost:8080/"
        },
        "outputId": "7d74e6d0-5412-4bbe-d2c4-9ef2f55e3844"
      },
      "source": [
        "#Definicion del modelo\n",
        "\n",
        "i4 = Input((x_train.shape[1],))\n",
        "d4 = Dense(512, activation='relu')(i4) #Capa oculta de 512 neuronas\n",
        "d4 = Dense(256, activation='relu')(d4) #Capa oculta de 256 neuronas\n",
        "d4 = Dense(128, activation='relu')(d4) #Capa oculta de 128 neuronas\n",
        "d4 = Dense(25, activation='softmax')(d4) #Softmax como activacion final\n",
        "model4 = Model(i4, d4)\n",
        "model4.compile(optimizer='adam', loss='categorical_crossentropy', metrics=['accuracy'])\n",
        "model4.summary()"
      ],
      "execution_count": 22,
      "outputs": [
        {
          "output_type": "stream",
          "name": "stdout",
          "text": [
            "Model: \"model_3\"\n",
            "_________________________________________________________________\n",
            "Layer (type)                 Output Shape              Param #   \n",
            "=================================================================\n",
            "input_4 (InputLayer)         [(None, 784)]             0         \n",
            "_________________________________________________________________\n",
            "dense_9 (Dense)              (None, 512)               401920    \n",
            "_________________________________________________________________\n",
            "dense_10 (Dense)             (None, 256)               131328    \n",
            "_________________________________________________________________\n",
            "dense_11 (Dense)             (None, 128)               32896     \n",
            "_________________________________________________________________\n",
            "dense_12 (Dense)             (None, 25)                3225      \n",
            "=================================================================\n",
            "Total params: 569,369\n",
            "Trainable params: 569,369\n",
            "Non-trainable params: 0\n",
            "_________________________________________________________________\n"
          ]
        }
      ]
    },
    {
      "cell_type": "code",
      "metadata": {
        "colab": {
          "base_uri": "https://localhost:8080/"
        },
        "id": "LGBLPxXa_FJJ",
        "outputId": "4e8cface-d27d-4a95-83bd-db8340a40dde"
      },
      "source": [
        "#Entrenamiento del modelo\n",
        "\n",
        "history4 = model4.fit(x_train, yc_train, epochs=20, verbose=1, validation_data=(x_test, yc_test))"
      ],
      "execution_count": 23,
      "outputs": [
        {
          "output_type": "stream",
          "name": "stdout",
          "text": [
            "Epoch 1/20\n",
            "858/858 [==============================] - 6s 6ms/step - loss: 1.7960 - accuracy: 0.4178 - val_loss: 1.4621 - val_accuracy: 0.5301\n",
            "Epoch 2/20\n",
            "858/858 [==============================] - 5s 6ms/step - loss: 0.7583 - accuracy: 0.7383 - val_loss: 1.0557 - val_accuracy: 0.6786\n",
            "Epoch 3/20\n",
            "858/858 [==============================] - 5s 6ms/step - loss: 0.3786 - accuracy: 0.8718 - val_loss: 0.9006 - val_accuracy: 0.7326\n",
            "Epoch 4/20\n",
            "858/858 [==============================] - 5s 6ms/step - loss: 0.2191 - accuracy: 0.9263 - val_loss: 1.1558 - val_accuracy: 0.7253\n",
            "Epoch 5/20\n",
            "858/858 [==============================] - 5s 6ms/step - loss: 0.1490 - accuracy: 0.9497 - val_loss: 1.1404 - val_accuracy: 0.7326\n",
            "Epoch 6/20\n",
            "858/858 [==============================] - 5s 6ms/step - loss: 0.1078 - accuracy: 0.9646 - val_loss: 1.3064 - val_accuracy: 0.7255\n",
            "Epoch 7/20\n",
            "858/858 [==============================] - 5s 6ms/step - loss: 0.0839 - accuracy: 0.9725 - val_loss: 1.2619 - val_accuracy: 0.7815\n",
            "Epoch 8/20\n",
            "858/858 [==============================] - 5s 6ms/step - loss: 0.0980 - accuracy: 0.9694 - val_loss: 1.0589 - val_accuracy: 0.7812\n",
            "Epoch 9/20\n",
            "858/858 [==============================] - 5s 6ms/step - loss: 0.0475 - accuracy: 0.9858 - val_loss: 1.1256 - val_accuracy: 0.8207\n",
            "Epoch 10/20\n",
            "858/858 [==============================] - 5s 6ms/step - loss: 0.0010 - accuracy: 1.0000 - val_loss: 1.1336 - val_accuracy: 0.8243\n",
            "Epoch 11/20\n",
            "858/858 [==============================] - 5s 6ms/step - loss: 5.9221e-04 - accuracy: 1.0000 - val_loss: 1.2069 - val_accuracy: 0.8207\n",
            "Epoch 12/20\n",
            "858/858 [==============================] - 5s 6ms/step - loss: 0.2131 - accuracy: 0.9421 - val_loss: 0.9756 - val_accuracy: 0.7496\n",
            "Epoch 13/20\n",
            "858/858 [==============================] - 5s 6ms/step - loss: 0.0818 - accuracy: 0.9747 - val_loss: 1.1403 - val_accuracy: 0.7800\n",
            "Epoch 14/20\n",
            "858/858 [==============================] - 5s 6ms/step - loss: 0.0254 - accuracy: 0.9934 - val_loss: 1.0382 - val_accuracy: 0.8095\n",
            "Epoch 15/20\n",
            "858/858 [==============================] - 5s 6ms/step - loss: 0.0795 - accuracy: 0.9785 - val_loss: 0.9056 - val_accuracy: 0.8224\n",
            "Epoch 16/20\n",
            "858/858 [==============================] - 5s 6ms/step - loss: 0.0020 - accuracy: 1.0000 - val_loss: 1.0469 - val_accuracy: 0.8173\n",
            "Epoch 17/20\n",
            "858/858 [==============================] - 5s 6ms/step - loss: 0.1006 - accuracy: 0.9710 - val_loss: 0.9817 - val_accuracy: 0.8054\n",
            "Epoch 18/20\n",
            "858/858 [==============================] - 5s 6ms/step - loss: 0.0119 - accuracy: 0.9972 - val_loss: 1.0398 - val_accuracy: 0.8189\n",
            "Epoch 19/20\n",
            "858/858 [==============================] - 5s 6ms/step - loss: 7.1520e-04 - accuracy: 1.0000 - val_loss: 1.0988 - val_accuracy: 0.8182\n",
            "Epoch 20/20\n",
            "858/858 [==============================] - 5s 6ms/step - loss: 0.0547 - accuracy: 0.9856 - val_loss: 1.3038 - val_accuracy: 0.6704\n"
          ]
        }
      ]
    },
    {
      "cell_type": "code",
      "metadata": {
        "colab": {
          "base_uri": "https://localhost:8080/",
          "height": 278
        },
        "id": "74Xln6q2_Fo0",
        "outputId": "ea3f2973-256a-4615-8dcf-336ec6f9d41f"
      },
      "source": [
        "#Comportamiento de la funcion de costo para train y test\n",
        "\n",
        "plt.plot(range(1, 21), history4.history['loss'], 'r-',label='Training')\n",
        "plt.plot(range(1, 21), history4.history['val_loss'], 'b-', label='Test')\n",
        "plt.legend(framealpha=1, frameon=True)\n",
        "plt.xlabel('Epoch')\n",
        "plt.ylabel('Loss: Categorical CrossEntropy')\n",
        "plt.show()"
      ],
      "execution_count": 24,
      "outputs": [
        {
          "output_type": "display_data",
          "data": {
            "image/png": "[encoded data removed]",
            "text/plain": [
              "<Figure size 432x288 with 1 Axes>"
            ]
          },
          "metadata": {
            "needs_background": "light"
          }
        }
      ]
    },
    {
      "cell_type": "code",
      "metadata": {
        "colab": {
          "base_uri": "https://localhost:8080/",
          "height": 278
        },
        "id": "oYZjrm9W_Hyd",
        "outputId": "d299b2dd-f766-4a87-c7d8-306a3b2755de"
      },
      "source": [
        "#Comportamiento de la metrica (accuracy) para train y test\n",
        "\n",
        "plt.plot(range(1, 21), history4.history['accuracy'], 'r-',label='Training')\n",
        "plt.plot(range(1, 21), history4.history['val_accuracy'], 'b-', label='Test')\n",
        "plt.legend(framealpha=1, frameon=True)\n",
        "plt.xlabel('Epoch')\n",
        "plt.ylabel('Accuracy')\n",
        "plt.show()"
      ],
      "execution_count": 25,
      "outputs": [
        {
          "output_type": "display_data",
          "data": {
            "image/png": "[encoded data removed]",
            "text/plain": [
              "<Figure size 432x288 with 1 Axes>"
            ]
          },
          "metadata": {
            "needs_background": "light"
          }
        }
      ]
    },
    {
      "cell_type": "markdown",
      "metadata": {
        "id": "B0yucHafWjdr"
      },
      "source": [
        "Observaciones:\n",
        "\n",
        "\n",
        "\n",
        "*   La incorporacion de otra capa en el Modelo N°2 mejora un poco el accuracy obtenido en test.\n",
        "*   La incorporacion de otra capa en el Modelo N°3 no genera una mejora del accuracy en test, si no que este se comporta oscilante en valores similares a los Modelos N°1 y N°2\n",
        "*   Para el cambio de arquitectura en el Modelo N°4 se observa una gran oscilacion en el comportamiento de la funcio de costo. Los valores de accuracy se observan superiores a los otros modelos, pero con un comportamiento muy oscilante\n",
        "*   En todos los casos se observa que es posible reducir la cantidad de epochs  originalmente elegidas (20) \n",
        "\n",
        "\n",
        "\n",
        "\n",
        "\n",
        "\n"
      ]
    },
    {
      "cell_type": "markdown",
      "metadata": {
        "id": "j4QYZq8FVvHo"
      },
      "source": [
        "## 3. Ejercicio 3\n",
        "\n",
        "*Aplique técnicas de regularización sobre el problema. Compare las relacion entre los errores de training y test. Grafíquelos.*"
      ]
    },
    {
      "cell_type": "markdown",
      "metadata": {
        "id": "4G7abn6Mchej"
      },
      "source": [
        "### 3.1 Regularizacion L2"
      ]
    },
    {
      "cell_type": "markdown",
      "metadata": {
        "id": "39moUikC0oiR"
      },
      "source": [
        "Modelo N°1"
      ]
    },
    {
      "cell_type": "code",
      "metadata": {
        "id": "snPdQTF3VvHp",
        "colab": {
          "base_uri": "https://localhost:8080/"
        },
        "outputId": "e46d1ae1-c025-4a60-cedb-ac0e45075786"
      },
      "source": [
        "#Definicion del modelo\n",
        "#Igual regularizacion para todas las capas ocultas\n",
        "\n",
        "i5 = Input((x_train.shape[1],))\n",
        "d5 = Dense(512, activation='relu', kernel_regularizer=L2(0.0001))(i5)\n",
        "d5 = Dense(256, activation='relu', kernel_regularizer=L2(0.0001))(d5)\n",
        "d5 = Dense(128, activation='relu', kernel_regularizer=L2(0.0001))(d5)\n",
        "d5 = Dense(64, activation='relu', kernel_regularizer=L2(0.0001))(d5)\n",
        "d5 = Dense(25, activation='softmax', kernel_regularizer=L2(0.0001))(d5)\n",
        "model5 = Model(i5, d5)\n",
        "model5.compile(optimizer='adam', loss='categorical_crossentropy', metrics=['accuracy'])\n",
        "model5.summary()\n",
        "history5 = model5.fit(x_train, yc_train, epochs=20, verbose=1, validation_data=(x_test, yc_test))"
      ],
      "execution_count": 26,
      "outputs": [
        {
          "output_type": "stream",
          "name": "stdout",
          "text": [
            "Model: \"model_4\"\n",
            "_________________________________________________________________\n",
            "Layer (type)                 Output Shape              Param #   \n",
            "=================================================================\n",
            "input_5 (InputLayer)         [(None, 784)]             0         \n",
            "_________________________________________________________________\n",
            "dense_13 (Dense)             (None, 512)               401920    \n",
            "_________________________________________________________________\n",
            "dense_14 (Dense)             (None, 256)               131328    \n",
            "_________________________________________________________________\n",
            "dense_15 (Dense)             (None, 128)               32896     \n",
            "_________________________________________________________________\n",
            "dense_16 (Dense)             (None, 64)                8256      \n",
            "_________________________________________________________________\n",
            "dense_17 (Dense)             (None, 25)                1625      \n",
            "=================================================================\n",
            "Total params: 576,025\n",
            "Trainable params: 576,025\n",
            "Non-trainable params: 0\n",
            "_________________________________________________________________\n",
            "Epoch 1/20\n",
            "858/858 [==============================] - 7s 8ms/step - loss: 2.1351 - accuracy: 0.3282 - val_loss: 1.5700 - val_accuracy: 0.4794\n",
            "Epoch 2/20\n",
            "858/858 [==============================] - 7s 8ms/step - loss: 1.0944 - accuracy: 0.6384 - val_loss: 1.3490 - val_accuracy: 0.5830\n",
            "Epoch 3/20\n",
            "858/858 [==============================] - 7s 8ms/step - loss: 0.6426 - accuracy: 0.7927 - val_loss: 1.1080 - val_accuracy: 0.6503\n",
            "Epoch 4/20\n",
            "858/858 [==============================] - 7s 8ms/step - loss: 0.3996 - accuracy: 0.8815 - val_loss: 1.2663 - val_accuracy: 0.6977\n",
            "Epoch 5/20\n",
            "858/858 [==============================] - 7s 8ms/step - loss: 0.3207 - accuracy: 0.9127 - val_loss: 1.2475 - val_accuracy: 0.7041\n",
            "Epoch 6/20\n",
            "858/858 [==============================] - 7s 8ms/step - loss: 0.2509 - accuracy: 0.9403 - val_loss: 1.1200 - val_accuracy: 0.7631\n",
            "Epoch 7/20\n",
            "858/858 [==============================] - 7s 8ms/step - loss: 0.2008 - accuracy: 0.9588 - val_loss: 1.3456 - val_accuracy: 0.6928\n",
            "Epoch 8/20\n",
            "858/858 [==============================] - 7s 8ms/step - loss: 0.1913 - accuracy: 0.9638 - val_loss: 1.1887 - val_accuracy: 0.7447\n",
            "Epoch 9/20\n",
            "858/858 [==============================] - 7s 8ms/step - loss: 0.1837 - accuracy: 0.9696 - val_loss: 1.1530 - val_accuracy: 0.7708\n",
            "Epoch 10/20\n",
            "858/858 [==============================] - 7s 8ms/step - loss: 0.1614 - accuracy: 0.9778 - val_loss: 1.1171 - val_accuracy: 0.8012\n",
            "Epoch 11/20\n",
            "858/858 [==============================] - 7s 8ms/step - loss: 0.1817 - accuracy: 0.9681 - val_loss: 1.2675 - val_accuracy: 0.7037\n",
            "Epoch 12/20\n",
            "858/858 [==============================] - 7s 8ms/step - loss: 0.0937 - accuracy: 0.9983 - val_loss: 1.1648 - val_accuracy: 0.7817\n",
            "Epoch 13/20\n",
            "858/858 [==============================] - 7s 8ms/step - loss: 0.1571 - accuracy: 0.9779 - val_loss: 1.1074 - val_accuracy: 0.8017\n",
            "Epoch 14/20\n",
            "858/858 [==============================] - 7s 8ms/step - loss: 0.1731 - accuracy: 0.9728 - val_loss: 1.0287 - val_accuracy: 0.8020\n",
            "Epoch 15/20\n",
            "858/858 [==============================] - 7s 8ms/step - loss: 0.0845 - accuracy: 0.9998 - val_loss: 1.0802 - val_accuracy: 0.8062\n",
            "Epoch 16/20\n",
            "858/858 [==============================] - 7s 8ms/step - loss: 0.1937 - accuracy: 0.9646 - val_loss: 1.2722 - val_accuracy: 0.7200\n",
            "Epoch 17/20\n",
            "858/858 [==============================] - 7s 8ms/step - loss: 0.1187 - accuracy: 0.9888 - val_loss: 1.0816 - val_accuracy: 0.8008\n",
            "Epoch 18/20\n",
            "858/858 [==============================] - 7s 8ms/step - loss: 0.0771 - accuracy: 1.0000 - val_loss: 1.1312 - val_accuracy: 0.7889\n",
            "Epoch 19/20\n",
            "858/858 [==============================] - 7s 8ms/step - loss: 0.1895 - accuracy: 0.9674 - val_loss: 1.0502 - val_accuracy: 0.8134\n",
            "Epoch 20/20\n",
            "858/858 [==============================] - 7s 8ms/step - loss: 0.0766 - accuracy: 1.0000 - val_loss: 1.1279 - val_accuracy: 0.8037\n"
          ]
        }
      ]
    },
    {
      "cell_type": "code",
      "metadata": {
        "colab": {
          "base_uri": "https://localhost:8080/",
          "height": 278
        },
        "id": "I3H1jI6mxvHv",
        "outputId": "d8614353-ff92-4403-ce8b-7c9c9f26b5d8"
      },
      "source": [
        "#Comportamiento de la funcion de costo para train y test\n",
        "\n",
        "plt.plot(range(1, 21), history5.history['loss'], 'r-',label='Training')\n",
        "plt.plot(range(1, 21), history5.history['val_loss'], 'b-', label='Test')\n",
        "plt.legend(framealpha=1, frameon=True)\n",
        "plt.xlabel('Epoch')\n",
        "plt.ylabel('Loss: Categorical CrossEntropy')\n",
        "plt.show()"
      ],
      "execution_count": 27,
      "outputs": [
        {
          "output_type": "display_data",
          "data": {
            "image/png": "[encoded data removed]",
            "text/plain": [
              "<Figure size 432x288 with 1 Axes>"
            ]
          },
          "metadata": {
            "needs_background": "light"
          }
        }
      ]
    },
    {
      "cell_type": "code",
      "metadata": {
        "colab": {
          "base_uri": "https://localhost:8080/",
          "height": 278
        },
        "id": "SskOuL1Rxu38",
        "outputId": "511cf38c-53bf-423e-b33d-b18c26d7bd78"
      },
      "source": [
        "#Comportamiento de la metrica (accuracy) para train y test\n",
        "\n",
        "plt.plot(range(1, 21), history5.history['accuracy'], 'r-',label='Training')\n",
        "plt.plot(range(1, 21), history5.history['val_accuracy'], 'b-', label='Test')\n",
        "plt.legend(framealpha=1, frameon=True)\n",
        "plt.xlabel('Epoch')\n",
        "plt.ylabel('Accuracy')\n",
        "plt.show()"
      ],
      "execution_count": 28,
      "outputs": [
        {
          "output_type": "display_data",
          "data": {
            "image/png": "[encoded data removed]",
            "text/plain": [
              "<Figure size 432x288 with 1 Axes>"
            ]
          },
          "metadata": {
            "needs_background": "light"
          }
        }
      ]
    },
    {
      "cell_type": "markdown",
      "metadata": {
        "id": "5HKY72Cf0t_c"
      },
      "source": [
        "Modelo N°2"
      ]
    },
    {
      "cell_type": "code",
      "metadata": {
        "colab": {
          "base_uri": "https://localhost:8080/"
        },
        "id": "mCq8rlTs0rey",
        "outputId": "5134ada8-07ea-4537-9206-b7a5a434c0fd"
      },
      "source": [
        "#Definicion del modelo\n",
        "#Igual regularizacion para todas las capas ocultas\n",
        "\n",
        "i6 = Input((x_train.shape[1],))\n",
        "d6 = Dense(512, activation='relu', kernel_regularizer=L2(0.001))(i6)\n",
        "d6 = Dense(256, activation='relu', kernel_regularizer=L2(0.001))(d6)\n",
        "d6 = Dense(128, activation='relu', kernel_regularizer=L2(0.001))(d6)\n",
        "d6 = Dense(64, activation='relu', kernel_regularizer=L2(0.001))(d6)\n",
        "d6 = Dense(25, activation='softmax', kernel_regularizer=L2(0.001))(d6)\n",
        "model6 = Model(i6, d6)\n",
        "model6.compile(optimizer='adam', loss='categorical_crossentropy', metrics=['accuracy'])\n",
        "model6.summary()\n",
        "history6 = model6.fit(x_train, yc_train, epochs=20, verbose=1, validation_data=(x_test, yc_test))"
      ],
      "execution_count": 29,
      "outputs": [
        {
          "output_type": "stream",
          "name": "stdout",
          "text": [
            "Model: \"model_5\"\n",
            "_________________________________________________________________\n",
            "Layer (type)                 Output Shape              Param #   \n",
            "=================================================================\n",
            "input_6 (InputLayer)         [(None, 784)]             0         \n",
            "_________________________________________________________________\n",
            "dense_18 (Dense)             (None, 512)               401920    \n",
            "_________________________________________________________________\n",
            "dense_19 (Dense)             (None, 256)               131328    \n",
            "_________________________________________________________________\n",
            "dense_20 (Dense)             (None, 128)               32896     \n",
            "_________________________________________________________________\n",
            "dense_21 (Dense)             (None, 64)                8256      \n",
            "_________________________________________________________________\n",
            "dense_22 (Dense)             (None, 25)                1625      \n",
            "=================================================================\n",
            "Total params: 576,025\n",
            "Trainable params: 576,025\n",
            "Non-trainable params: 0\n",
            "_________________________________________________________________\n",
            "Epoch 1/20\n",
            "858/858 [==============================] - 7s 8ms/step - loss: 2.4325 - accuracy: 0.3218 - val_loss: 1.8260 - val_accuracy: 0.4610\n",
            "Epoch 2/20\n",
            "858/858 [==============================] - 7s 8ms/step - loss: 1.4179 - accuracy: 0.6033 - val_loss: 1.5462 - val_accuracy: 0.5839\n",
            "Epoch 3/20\n",
            "858/858 [==============================] - 7s 8ms/step - loss: 1.0497 - accuracy: 0.7407 - val_loss: 1.7024 - val_accuracy: 0.5980\n",
            "Epoch 4/20\n",
            "858/858 [==============================] - 7s 8ms/step - loss: 0.8675 - accuracy: 0.8204 - val_loss: 1.4871 - val_accuracy: 0.6535\n",
            "Epoch 5/20\n",
            "858/858 [==============================] - 7s 8ms/step - loss: 0.7695 - accuracy: 0.8632 - val_loss: 1.5748 - val_accuracy: 0.6160\n",
            "Epoch 6/20\n",
            "858/858 [==============================] - 7s 8ms/step - loss: 0.6891 - accuracy: 0.8975 - val_loss: 1.7009 - val_accuracy: 0.6602\n",
            "Epoch 7/20\n",
            "858/858 [==============================] - 7s 8ms/step - loss: 0.6508 - accuracy: 0.9142 - val_loss: 1.4309 - val_accuracy: 0.7231\n",
            "Epoch 8/20\n",
            "858/858 [==============================] - 7s 8ms/step - loss: 0.6220 - accuracy: 0.9274 - val_loss: 1.6517 - val_accuracy: 0.6545\n",
            "Epoch 9/20\n",
            "858/858 [==============================] - 7s 8ms/step - loss: 0.5889 - accuracy: 0.9415 - val_loss: 1.5208 - val_accuracy: 0.7270\n",
            "Epoch 10/20\n",
            "858/858 [==============================] - 7s 8ms/step - loss: 0.5433 - accuracy: 0.9561 - val_loss: 1.4554 - val_accuracy: 0.7418\n",
            "Epoch 11/20\n",
            "858/858 [==============================] - 7s 8ms/step - loss: 0.5727 - accuracy: 0.9458 - val_loss: 1.5458 - val_accuracy: 0.7236\n",
            "Epoch 12/20\n",
            "858/858 [==============================] - 7s 8ms/step - loss: 0.5370 - accuracy: 0.9562 - val_loss: 1.5253 - val_accuracy: 0.7183\n",
            "Epoch 13/20\n",
            "858/858 [==============================] - 7s 8ms/step - loss: 0.5236 - accuracy: 0.9599 - val_loss: 1.3540 - val_accuracy: 0.7414\n",
            "Epoch 14/20\n",
            "858/858 [==============================] - 7s 8ms/step - loss: 0.5232 - accuracy: 0.9577 - val_loss: 1.4001 - val_accuracy: 0.7267\n",
            "Epoch 15/20\n",
            "858/858 [==============================] - 7s 8ms/step - loss: 0.4958 - accuracy: 0.9667 - val_loss: 1.5427 - val_accuracy: 0.6972\n",
            "Epoch 16/20\n",
            "858/858 [==============================] - 7s 8ms/step - loss: 0.5100 - accuracy: 0.9599 - val_loss: 1.4002 - val_accuracy: 0.7195\n",
            "Epoch 17/20\n",
            "858/858 [==============================] - 7s 8ms/step - loss: 0.4989 - accuracy: 0.9632 - val_loss: 1.3116 - val_accuracy: 0.7750\n",
            "Epoch 18/20\n",
            "858/858 [==============================] - 7s 8ms/step - loss: 0.4600 - accuracy: 0.9745 - val_loss: 1.3667 - val_accuracy: 0.7425\n",
            "Epoch 19/20\n",
            "858/858 [==============================] - 7s 8ms/step - loss: 0.4973 - accuracy: 0.9608 - val_loss: 1.3273 - val_accuracy: 0.7423\n",
            "Epoch 20/20\n",
            "858/858 [==============================] - 7s 8ms/step - loss: 0.4607 - accuracy: 0.9713 - val_loss: 1.4734 - val_accuracy: 0.6948\n"
          ]
        }
      ]
    },
    {
      "cell_type": "code",
      "metadata": {
        "colab": {
          "base_uri": "https://localhost:8080/",
          "height": 280
        },
        "id": "I_J3TNcZ0re1",
        "outputId": "148b7dd8-ed1b-407d-ec97-ee7fcc1bed38"
      },
      "source": [
        "#Comportamiento de la funcion de costo para train y test\n",
        "\n",
        "plt.plot(range(1, 21), history6.history['loss'], 'r-',label='Training')\n",
        "plt.plot(range(1, 21), history6.history['val_loss'], 'b-', label='Test')\n",
        "plt.legend(framealpha=1, frameon=True)\n",
        "plt.xlabel('Epoch')\n",
        "plt.ylabel('Loss: Categorical CrossEntropy')\n",
        "plt.show()"
      ],
      "execution_count": 30,
      "outputs": [
        {
          "output_type": "display_data",
          "data": {
            "image/png": "[encoded data removed]",
            "text/plain": [
              "<Figure size 432x288 with 1 Axes>"
            ]
          },
          "metadata": {
            "needs_background": "light"
          }
        }
      ]
    },
    {
      "cell_type": "code",
      "metadata": {
        "colab": {
          "base_uri": "https://localhost:8080/",
          "height": 281
        },
        "id": "nJLT86li0re2",
        "outputId": "b96f13d2-9e08-4831-cc2a-26e0539002e5"
      },
      "source": [
        "#Comportamiento de la metrica (accuracy) para train y test\n",
        "\n",
        "plt.plot(range(1, 21), history6.history['accuracy'], 'r-',label='Training')\n",
        "plt.plot(range(1, 21), history6.history['val_accuracy'], 'b-', label='Test')\n",
        "plt.legend(framealpha=1, frameon=True)\n",
        "plt.xlabel('Epoch')\n",
        "plt.ylabel('Accuracy')\n",
        "plt.show()"
      ],
      "execution_count": 31,
      "outputs": [
        {
          "output_type": "display_data",
          "data": {
            "image/png": "[encoded data removed]",
            "text/plain": [
              "<Figure size 432x288 with 1 Axes>"
            ]
          },
          "metadata": {
            "needs_background": "light"
          }
        }
      ]
    },
    {
      "cell_type": "markdown",
      "metadata": {
        "id": "f_cmXRN52Ajj"
      },
      "source": [
        "Modelo N°3"
      ]
    },
    {
      "cell_type": "code",
      "metadata": {
        "colab": {
          "base_uri": "https://localhost:8080/"
        },
        "id": "jQ8Xg5052GGw",
        "outputId": "bad7f688-b8b9-436e-e33f-314e1f59449e"
      },
      "source": [
        "#Definicion del modelo\n",
        "#Igual regularizacion para todas las capas ocultas\n",
        "\n",
        "i7 = Input((x_train.shape[1],))\n",
        "d7 = Dense(512, activation='relu', kernel_regularizer=L2(0.01))(i7)\n",
        "d7 = Dense(256, activation='relu', kernel_regularizer=L2(0.01))(d7)\n",
        "d7 = Dense(128, activation='relu', kernel_regularizer=L2(0.01))(d7)\n",
        "d7 = Dense(64, activation='relu', kernel_regularizer=L2(0.01))(d7)\n",
        "d7 = Dense(25, activation='softmax', kernel_regularizer=L2(0.01))(d7)\n",
        "model7 = Model(i7, d7)\n",
        "model7.compile(optimizer='adam', loss='categorical_crossentropy', metrics=['accuracy'])\n",
        "model7.summary()\n",
        "history7 = model7.fit(x_train, yc_train, epochs=20, verbose=1, validation_data=(x_test, yc_test))"
      ],
      "execution_count": 32,
      "outputs": [
        {
          "output_type": "stream",
          "name": "stdout",
          "text": [
            "Model: \"model_6\"\n",
            "_________________________________________________________________\n",
            "Layer (type)                 Output Shape              Param #   \n",
            "=================================================================\n",
            "input_7 (InputLayer)         [(None, 784)]             0         \n",
            "_________________________________________________________________\n",
            "dense_23 (Dense)             (None, 512)               401920    \n",
            "_________________________________________________________________\n",
            "dense_24 (Dense)             (None, 256)               131328    \n",
            "_________________________________________________________________\n",
            "dense_25 (Dense)             (None, 128)               32896     \n",
            "_________________________________________________________________\n",
            "dense_26 (Dense)             (None, 64)                8256      \n",
            "_________________________________________________________________\n",
            "dense_27 (Dense)             (None, 25)                1625      \n",
            "=================================================================\n",
            "Total params: 576,025\n",
            "Trainable params: 576,025\n",
            "Non-trainable params: 0\n",
            "_________________________________________________________________\n",
            "Epoch 1/20\n",
            "858/858 [==============================] - 7s 8ms/step - loss: 3.5116 - accuracy: 0.1625 - val_loss: 2.6771 - val_accuracy: 0.1983\n",
            "Epoch 2/20\n",
            "858/858 [==============================] - 7s 8ms/step - loss: 2.5643 - accuracy: 0.2446 - val_loss: 2.6061 - val_accuracy: 0.2129\n",
            "Epoch 3/20\n",
            "858/858 [==============================] - 7s 8ms/step - loss: 2.4699 - accuracy: 0.2679 - val_loss: 2.7918 - val_accuracy: 0.2090\n",
            "Epoch 4/20\n",
            "858/858 [==============================] - 7s 8ms/step - loss: 2.4211 - accuracy: 0.2880 - val_loss: 2.6344 - val_accuracy: 0.2182\n",
            "Epoch 5/20\n",
            "858/858 [==============================] - 7s 8ms/step - loss: 2.3669 - accuracy: 0.3072 - val_loss: 2.5899 - val_accuracy: 0.2333\n",
            "Epoch 6/20\n",
            "858/858 [==============================] - 7s 8ms/step - loss: 2.3342 - accuracy: 0.3227 - val_loss: 2.5663 - val_accuracy: 0.2581\n",
            "Epoch 7/20\n",
            "858/858 [==============================] - 7s 8ms/step - loss: 2.3126 - accuracy: 0.3404 - val_loss: 2.6010 - val_accuracy: 0.2560\n",
            "Epoch 8/20\n",
            "858/858 [==============================] - 7s 8ms/step - loss: 2.2811 - accuracy: 0.3619 - val_loss: 2.5830 - val_accuracy: 0.2672\n",
            "Epoch 9/20\n",
            "858/858 [==============================] - 7s 8ms/step - loss: 2.2744 - accuracy: 0.3774 - val_loss: 2.5880 - val_accuracy: 0.2653\n",
            "Epoch 10/20\n",
            "858/858 [==============================] - 7s 8ms/step - loss: 2.2411 - accuracy: 0.3969 - val_loss: 2.5329 - val_accuracy: 0.2900\n",
            "Epoch 11/20\n",
            "858/858 [==============================] - 7s 8ms/step - loss: 2.2117 - accuracy: 0.4113 - val_loss: 2.5568 - val_accuracy: 0.3160\n",
            "Epoch 12/20\n",
            "858/858 [==============================] - 7s 8ms/step - loss: 2.1833 - accuracy: 0.4259 - val_loss: 2.4612 - val_accuracy: 0.3429\n",
            "Epoch 13/20\n",
            "858/858 [==============================] - 7s 8ms/step - loss: 2.1602 - accuracy: 0.4374 - val_loss: 2.7456 - val_accuracy: 0.3079\n",
            "Epoch 14/20\n",
            "858/858 [==============================] - 7s 8ms/step - loss: 2.1512 - accuracy: 0.4482 - val_loss: 2.5250 - val_accuracy: 0.3466\n",
            "Epoch 15/20\n",
            "858/858 [==============================] - 7s 8ms/step - loss: 2.1263 - accuracy: 0.4604 - val_loss: 2.4609 - val_accuracy: 0.3622\n",
            "Epoch 16/20\n",
            "858/858 [==============================] - 7s 8ms/step - loss: 2.0959 - accuracy: 0.4832 - val_loss: 2.5046 - val_accuracy: 0.3521\n",
            "Epoch 17/20\n",
            "858/858 [==============================] - 7s 8ms/step - loss: 2.0944 - accuracy: 0.4930 - val_loss: 2.4886 - val_accuracy: 0.4044\n",
            "Epoch 18/20\n",
            "858/858 [==============================] - 7s 8ms/step - loss: 2.0813 - accuracy: 0.5057 - val_loss: 2.6595 - val_accuracy: 0.3366\n",
            "Epoch 19/20\n",
            "858/858 [==============================] - 7s 8ms/step - loss: 2.0494 - accuracy: 0.5231 - val_loss: 2.4377 - val_accuracy: 0.4413\n",
            "Epoch 20/20\n",
            "858/858 [==============================] - 7s 8ms/step - loss: 2.0609 - accuracy: 0.5224 - val_loss: 2.5904 - val_accuracy: 0.3970\n"
          ]
        }
      ]
    },
    {
      "cell_type": "code",
      "metadata": {
        "colab": {
          "base_uri": "https://localhost:8080/",
          "height": 278
        },
        "id": "09S-Gz9F2GG1",
        "outputId": "ddc64aad-d851-422b-dacc-72c38f8f73ef"
      },
      "source": [
        "#Comportamiento de la funcion de costo para train y test\n",
        "\n",
        "plt.plot(range(1, 21), history7.history['loss'], 'r-',label='Training')\n",
        "plt.plot(range(1, 21), history7.history['val_loss'], 'b-', label='Test')\n",
        "plt.legend(framealpha=1, frameon=True)\n",
        "plt.xlabel('Epoch')\n",
        "plt.ylabel('Loss: Categorical CrossEntropy')\n",
        "plt.show()"
      ],
      "execution_count": 33,
      "outputs": [
        {
          "output_type": "display_data",
          "data": {
            "image/png": "[encoded data removed]",
            "text/plain": [
              "<Figure size 432x288 with 1 Axes>"
            ]
          },
          "metadata": {
            "needs_background": "light"
          }
        }
      ]
    },
    {
      "cell_type": "code",
      "metadata": {
        "colab": {
          "base_uri": "https://localhost:8080/",
          "height": 278
        },
        "id": "2Il4ucVk2GG3",
        "outputId": "19d9b1ca-94fe-4852-92c6-dade7f52adbf"
      },
      "source": [
        "#Comportamiento de la metrica (accuracy) para train y test\n",
        "\n",
        "plt.plot(range(1, 21), history7.history['accuracy'], 'r-',label='Training')\n",
        "plt.plot(range(1, 21), history7.history['val_accuracy'], 'b-', label='Test')\n",
        "plt.legend(framealpha=1, frameon=True)\n",
        "plt.xlabel('Epoch')\n",
        "plt.ylabel('Accuracy')\n",
        "plt.show()"
      ],
      "execution_count": 34,
      "outputs": [
        {
          "output_type": "display_data",
          "data": {
            "image/png": "[encoded data removed]",
            "text/plain": [
              "<Figure size 432x288 with 1 Axes>"
            ]
          },
          "metadata": {
            "needs_background": "light"
          }
        }
      ]
    },
    {
      "cell_type": "markdown",
      "metadata": {
        "id": "mhWvH4sXYOv2"
      },
      "source": [
        "Observaciones:\n",
        "\n",
        "*   El aumento en el valor de regularizacion genera un aumento en la oscilacion de los valores de accuracy obtenidos en test\n",
        "*  Nuevamente se observa que es posible reducir la cantidad de epochs  originalmente elegidas (20)\n",
        "\n"
      ]
    },
    {
      "cell_type": "markdown",
      "metadata": {
        "id": "VlS28nKfUh9r"
      },
      "source": [
        "### 3.2 Regularizacion por Dropout"
      ]
    },
    {
      "cell_type": "markdown",
      "metadata": {
        "id": "v_IPAptM6YL7"
      },
      "source": [
        "Modelo N°1"
      ]
    },
    {
      "cell_type": "code",
      "metadata": {
        "colab": {
          "base_uri": "https://localhost:8080/"
        },
        "id": "E5JKh3-L0IKO",
        "outputId": "ce6c0406-91ba-4628-e5fc-1ae1879e721d"
      },
      "source": [
        "#Definicion del modelo\n",
        "#Igual Dropout para todas las capas ocultas\n",
        "\n",
        "i8 = Input((x_train.shape[1],))\n",
        "d8 = Dense(512, activation='relu')(i8)\n",
        "d8 = BatchNormalization()(d8)\n",
        "d8 = Dropout(0.5)(d8)\n",
        "d8 = Dense(256, activation='relu')(d8)\n",
        "d8 = BatchNormalization()(d8)\n",
        "d8 = Dropout(0.5)(d8)\n",
        "d8 = Dense(128, activation='relu')(d8)\n",
        "d8 = BatchNormalization()(d8)\n",
        "d8 = Dropout(0.5)(d8)\n",
        "d8 = Dense(25, activation='softmax')(d8)\n",
        "model8 = Model(i8, d8)\n",
        "model8.compile(optimizer='adam', loss='categorical_crossentropy', metrics=['accuracy'])\n",
        "model8.summary()\n",
        "history8 = model8.fit(x_train, yc_train, epochs=20, verbose=1, validation_data=(x_test, yc_test))"
      ],
      "execution_count": 35,
      "outputs": [
        {
          "output_type": "stream",
          "name": "stdout",
          "text": [
            "Model: \"model_7\"\n",
            "_________________________________________________________________\n",
            "Layer (type)                 Output Shape              Param #   \n",
            "=================================================================\n",
            "input_8 (InputLayer)         [(None, 784)]             0         \n",
            "_________________________________________________________________\n",
            "dense_28 (Dense)             (None, 512)               401920    \n",
            "_________________________________________________________________\n",
            "batch_normalization (BatchNo (None, 512)               2048      \n",
            "_________________________________________________________________\n",
            "dropout (Dropout)            (None, 512)               0         \n",
            "_________________________________________________________________\n",
            "dense_29 (Dense)             (None, 256)               131328    \n",
            "_________________________________________________________________\n",
            "batch_normalization_1 (Batch (None, 256)               1024      \n",
            "_________________________________________________________________\n",
            "dropout_1 (Dropout)          (None, 256)               0         \n",
            "_________________________________________________________________\n",
            "dense_30 (Dense)             (None, 128)               32896     \n",
            "_________________________________________________________________\n",
            "batch_normalization_2 (Batch (None, 128)               512       \n",
            "_________________________________________________________________\n",
            "dropout_2 (Dropout)          (None, 128)               0         \n",
            "_________________________________________________________________\n",
            "dense_31 (Dense)             (None, 25)                3225      \n",
            "=================================================================\n",
            "Total params: 572,953\n",
            "Trainable params: 571,161\n",
            "Non-trainable params: 1,792\n",
            "_________________________________________________________________\n",
            "Epoch 1/20\n",
            "858/858 [==============================] - 8s 9ms/step - loss: 2.3949 - accuracy: 0.2894 - val_loss: 4.4699 - val_accuracy: 0.1630\n",
            "Epoch 2/20\n",
            "858/858 [==============================] - 7s 8ms/step - loss: 1.9871 - accuracy: 0.3538 - val_loss: 1.7040 - val_accuracy: 0.4490\n",
            "Epoch 3/20\n",
            "858/858 [==============================] - 7s 9ms/step - loss: 1.9993 - accuracy: 0.3428 - val_loss: 1.9498 - val_accuracy: 0.3585\n",
            "Epoch 4/20\n",
            "858/858 [==============================] - 7s 9ms/step - loss: 2.0463 - accuracy: 0.3233 - val_loss: 2.9229 - val_accuracy: 0.1895\n",
            "Epoch 5/20\n",
            "858/858 [==============================] - 8s 9ms/step - loss: 2.0573 - accuracy: 0.3115 - val_loss: 2.2793 - val_accuracy: 0.2765\n",
            "Epoch 6/20\n",
            "858/858 [==============================] - 8s 9ms/step - loss: 2.0429 - accuracy: 0.3171 - val_loss: 2.1086 - val_accuracy: 0.2964\n",
            "Epoch 7/20\n",
            "858/858 [==============================] - 8s 9ms/step - loss: 1.9993 - accuracy: 0.3284 - val_loss: 1.7395 - val_accuracy: 0.3903\n",
            "Epoch 8/20\n",
            "858/858 [==============================] - 7s 9ms/step - loss: 1.9433 - accuracy: 0.3405 - val_loss: 2.0940 - val_accuracy: 0.3558\n",
            "Epoch 9/20\n",
            "858/858 [==============================] - 7s 9ms/step - loss: 1.9132 - accuracy: 0.3472 - val_loss: 1.9361 - val_accuracy: 0.3491\n",
            "Epoch 10/20\n",
            "858/858 [==============================] - 7s 9ms/step - loss: 1.8951 - accuracy: 0.3564 - val_loss: 2.1488 - val_accuracy: 0.3359\n",
            "Epoch 11/20\n",
            "858/858 [==============================] - 7s 9ms/step - loss: 1.8520 - accuracy: 0.3634 - val_loss: 1.9429 - val_accuracy: 0.3654\n",
            "Epoch 12/20\n",
            "858/858 [==============================] - 7s 9ms/step - loss: 1.8284 - accuracy: 0.3679 - val_loss: 1.8847 - val_accuracy: 0.3752\n",
            "Epoch 13/20\n",
            "858/858 [==============================] - 7s 8ms/step - loss: 1.8035 - accuracy: 0.3807 - val_loss: 1.7603 - val_accuracy: 0.4117\n",
            "Epoch 14/20\n",
            "858/858 [==============================] - 7s 9ms/step - loss: 1.7799 - accuracy: 0.3875 - val_loss: 2.4362 - val_accuracy: 0.2860\n",
            "Epoch 15/20\n",
            "858/858 [==============================] - 8s 9ms/step - loss: 1.7710 - accuracy: 0.3890 - val_loss: 2.5163 - val_accuracy: 0.2796\n",
            "Epoch 16/20\n",
            "858/858 [==============================] - 8s 9ms/step - loss: 1.7559 - accuracy: 0.3964 - val_loss: 2.5551 - val_accuracy: 0.3136\n",
            "Epoch 17/20\n",
            "858/858 [==============================] - 8s 9ms/step - loss: 1.7366 - accuracy: 0.3975 - val_loss: 1.8702 - val_accuracy: 0.3758\n",
            "Epoch 18/20\n",
            "858/858 [==============================] - 7s 9ms/step - loss: 1.7359 - accuracy: 0.3977 - val_loss: 1.9433 - val_accuracy: 0.3702\n",
            "Epoch 19/20\n",
            "858/858 [==============================] - 8s 9ms/step - loss: 1.7024 - accuracy: 0.4047 - val_loss: 2.2726 - val_accuracy: 0.3805\n",
            "Epoch 20/20\n",
            "858/858 [==============================] - 8s 9ms/step - loss: 1.6883 - accuracy: 0.4123 - val_loss: 2.5854 - val_accuracy: 0.2978\n"
          ]
        }
      ]
    },
    {
      "cell_type": "code",
      "metadata": {
        "colab": {
          "base_uri": "https://localhost:8080/",
          "height": 278
        },
        "id": "c3eL3Svb7fxb",
        "outputId": "e7d011f9-9717-47ce-eaa8-dfc8c1218e0a"
      },
      "source": [
        "#Comportamiento de la funcion de costo para train y test\n",
        "\n",
        "plt.plot(range(1, 21), history8.history['loss'], 'r-',label='Training')\n",
        "plt.plot(range(1, 21), history8.history['val_loss'], 'b-', label='Test')\n",
        "plt.legend(framealpha=1, frameon=True)\n",
        "plt.xlabel('Epoch')\n",
        "plt.ylabel('Loss: Categorical CrossEntropy')\n",
        "plt.show()"
      ],
      "execution_count": 36,
      "outputs": [
        {
          "output_type": "display_data",
          "data": {
            "image/png": "[encoded data removed]",
            "text/plain": [
              "<Figure size 432x288 with 1 Axes>"
            ]
          },
          "metadata": {
            "needs_background": "light"
          }
        }
      ]
    },
    {
      "cell_type": "code",
      "metadata": {
        "colab": {
          "base_uri": "https://localhost:8080/",
          "height": 278
        },
        "id": "NBTBiFwM7fye",
        "outputId": "094a9456-7973-4939-b595-bcf3261a3757"
      },
      "source": [
        "#Comportamiento de la metrica (accuracy) para train y test\n",
        "\n",
        "plt.plot(range(1, 21), history8.history['accuracy'], 'r-',label='Training')\n",
        "plt.plot(range(1, 21), history8.history['val_accuracy'], 'b-', label='Test')\n",
        "plt.legend(framealpha=1, frameon=True)\n",
        "plt.xlabel('Epoch')\n",
        "plt.ylabel('Accuracy')\n",
        "plt.show()"
      ],
      "execution_count": 37,
      "outputs": [
        {
          "output_type": "display_data",
          "data": {
            "image/png": "[encoded data removed]",
            "text/plain": [
              "<Figure size 432x288 with 1 Axes>"
            ]
          },
          "metadata": {
            "needs_background": "light"
          }
        }
      ]
    },
    {
      "cell_type": "markdown",
      "metadata": {
        "id": "SC5yu_xJAifl"
      },
      "source": [
        "Modelo N°2"
      ]
    },
    {
      "cell_type": "code",
      "metadata": {
        "colab": {
          "base_uri": "https://localhost:8080/"
        },
        "id": "X4Ma7mDXASBO",
        "outputId": "1bdcacf2-3cf8-40d5-e689-06151303c887"
      },
      "source": [
        "#Definicion del modelo\n",
        "#Igual Dropout para todas las capas ocultas\n",
        "\n",
        "i9 = Input((x_train.shape[1],))\n",
        "d9 = Dense(512, activation='relu')(i9)\n",
        "d9 = BatchNormalization()(d9)\n",
        "d9 = Dropout(0.25)(d9)\n",
        "d9 = Dense(256, activation='relu')(d9)\n",
        "d9 = BatchNormalization()(d9)\n",
        "d9 = Dropout(0.25)(d9)\n",
        "d9 = Dense(128, activation='relu')(d9)\n",
        "d9 = BatchNormalization()(d9)\n",
        "d9 = Dropout(0.25)(d9)\n",
        "d9 = Dense(25, activation='softmax')(d9)\n",
        "model9 = Model(i9, d9)\n",
        "model9.compile(optimizer='adam', loss='categorical_crossentropy', metrics=['accuracy'])\n",
        "model9.summary()\n",
        "history9 = model9.fit(x_train, yc_train, epochs=20, verbose=1, validation_data=(x_test, yc_test))"
      ],
      "execution_count": 38,
      "outputs": [
        {
          "output_type": "stream",
          "name": "stdout",
          "text": [
            "Model: \"model_8\"\n",
            "_________________________________________________________________\n",
            "Layer (type)                 Output Shape              Param #   \n",
            "=================================================================\n",
            "input_9 (InputLayer)         [(None, 784)]             0         \n",
            "_________________________________________________________________\n",
            "dense_32 (Dense)             (None, 512)               401920    \n",
            "_________________________________________________________________\n",
            "batch_normalization_3 (Batch (None, 512)               2048      \n",
            "_________________________________________________________________\n",
            "dropout_3 (Dropout)          (None, 512)               0         \n",
            "_________________________________________________________________\n",
            "dense_33 (Dense)             (None, 256)               131328    \n",
            "_________________________________________________________________\n",
            "batch_normalization_4 (Batch (None, 256)               1024      \n",
            "_________________________________________________________________\n",
            "dropout_4 (Dropout)          (None, 256)               0         \n",
            "_________________________________________________________________\n",
            "dense_34 (Dense)             (None, 128)               32896     \n",
            "_________________________________________________________________\n",
            "batch_normalization_5 (Batch (None, 128)               512       \n",
            "_________________________________________________________________\n",
            "dropout_5 (Dropout)          (None, 128)               0         \n",
            "_________________________________________________________________\n",
            "dense_35 (Dense)             (None, 25)                3225      \n",
            "=================================================================\n",
            "Total params: 572,953\n",
            "Trainable params: 571,161\n",
            "Non-trainable params: 1,792\n",
            "_________________________________________________________________\n",
            "Epoch 1/20\n",
            "858/858 [==============================] - 8s 9ms/step - loss: 1.4823 - accuracy: 0.5365 - val_loss: 3.7816 - val_accuracy: 0.2150\n",
            "Epoch 2/20\n",
            "858/858 [==============================] - 7s 9ms/step - loss: 1.1763 - accuracy: 0.6141 - val_loss: 2.2207 - val_accuracy: 0.3742\n",
            "Epoch 3/20\n",
            "858/858 [==============================] - 7s 8ms/step - loss: 1.0960 - accuracy: 0.6327 - val_loss: 1.3791 - val_accuracy: 0.5805\n",
            "Epoch 4/20\n",
            "858/858 [==============================] - 7s 9ms/step - loss: 0.9584 - accuracy: 0.6811 - val_loss: 1.6160 - val_accuracy: 0.5223\n",
            "Epoch 5/20\n",
            "858/858 [==============================] - 7s 8ms/step - loss: 0.9034 - accuracy: 0.6975 - val_loss: 1.3157 - val_accuracy: 0.6256\n",
            "Epoch 6/20\n",
            "858/858 [==============================] - 7s 8ms/step - loss: 0.8362 - accuracy: 0.7183 - val_loss: 2.8051 - val_accuracy: 0.3155\n",
            "Epoch 7/20\n",
            "858/858 [==============================] - 7s 9ms/step - loss: 1.0229 - accuracy: 0.6547 - val_loss: 2.6891 - val_accuracy: 0.3355\n",
            "Epoch 8/20\n",
            "858/858 [==============================] - 7s 9ms/step - loss: 0.9682 - accuracy: 0.6687 - val_loss: 1.8491 - val_accuracy: 0.4930\n",
            "Epoch 9/20\n",
            "858/858 [==============================] - 7s 9ms/step - loss: 0.8975 - accuracy: 0.6887 - val_loss: 1.9821 - val_accuracy: 0.4904\n",
            "Epoch 10/20\n",
            "858/858 [==============================] - 8s 9ms/step - loss: 0.8617 - accuracy: 0.7070 - val_loss: 2.3744 - val_accuracy: 0.4237\n",
            "Epoch 11/20\n",
            "858/858 [==============================] - 7s 9ms/step - loss: 0.8197 - accuracy: 0.7196 - val_loss: 2.6296 - val_accuracy: 0.3815\n",
            "Epoch 12/20\n",
            "858/858 [==============================] - 7s 8ms/step - loss: 0.7987 - accuracy: 0.7217 - val_loss: 2.6484 - val_accuracy: 0.4350\n",
            "Epoch 13/20\n",
            "858/858 [==============================] - 7s 9ms/step - loss: 0.7800 - accuracy: 0.7301 - val_loss: 2.5411 - val_accuracy: 0.4381\n",
            "Epoch 14/20\n",
            "858/858 [==============================] - 7s 9ms/step - loss: 0.7539 - accuracy: 0.7371 - val_loss: 1.4560 - val_accuracy: 0.6217\n",
            "Epoch 15/20\n",
            "858/858 [==============================] - 7s 9ms/step - loss: 0.7549 - accuracy: 0.7396 - val_loss: 2.7930 - val_accuracy: 0.4265\n",
            "Epoch 16/20\n",
            "858/858 [==============================] - 7s 8ms/step - loss: 0.7174 - accuracy: 0.7528 - val_loss: 2.5960 - val_accuracy: 0.4208\n",
            "Epoch 17/20\n",
            "858/858 [==============================] - 7s 8ms/step - loss: 0.7031 - accuracy: 0.7577 - val_loss: 2.5977 - val_accuracy: 0.4578\n",
            "Epoch 18/20\n",
            "858/858 [==============================] - 7s 8ms/step - loss: 0.6961 - accuracy: 0.7606 - val_loss: 4.3341 - val_accuracy: 0.2797\n",
            "Epoch 19/20\n",
            "858/858 [==============================] - 7s 8ms/step - loss: 0.6738 - accuracy: 0.7662 - val_loss: 2.3003 - val_accuracy: 0.5025\n",
            "Epoch 20/20\n",
            "858/858 [==============================] - 7s 8ms/step - loss: 0.6733 - accuracy: 0.7682 - val_loss: 3.6535 - val_accuracy: 0.3717\n"
          ]
        }
      ]
    },
    {
      "cell_type": "code",
      "metadata": {
        "colab": {
          "base_uri": "https://localhost:8080/",
          "height": 282
        },
        "id": "S1WTaJD9ASDV",
        "outputId": "c66f30a3-c3de-431f-fe97-206c8443c984"
      },
      "source": [
        "#Comportamiento de la funcion de costo para train y test\n",
        "\n",
        "plt.plot(range(1, 21), history9.history['loss'], 'r-',label='Training')\n",
        "plt.plot(range(1, 21), history9.history['val_loss'], 'b-', label='Test')\n",
        "plt.legend(framealpha=1, frameon=True)\n",
        "plt.xlabel('Epoch')\n",
        "plt.ylabel('Loss: Categorical CrossEntropy')\n",
        "plt.show()"
      ],
      "execution_count": 39,
      "outputs": [
        {
          "output_type": "display_data",
          "data": {
            "image/png": "[encoded data removed]",
            "text/plain": [
              "<Figure size 432x288 with 1 Axes>"
            ]
          },
          "metadata": {
            "needs_background": "light"
          }
        }
      ]
    },
    {
      "cell_type": "code",
      "metadata": {
        "colab": {
          "base_uri": "https://localhost:8080/",
          "height": 278
        },
        "id": "y31wT1BDASDb",
        "outputId": "4a10f234-b82e-43f9-de67-d0bb89048c4b"
      },
      "source": [
        "#Comportamiento de la metrica (accuracy) para train y test\n",
        "\n",
        "plt.plot(range(1, 21), history9.history['accuracy'], 'r-',label='Training')\n",
        "plt.plot(range(1, 21), history9.history['val_accuracy'], 'b-', label='Test')\n",
        "plt.legend(framealpha=1, frameon=True)\n",
        "plt.xlabel('Epoch')\n",
        "plt.ylabel('Accuracy')\n",
        "plt.show()"
      ],
      "execution_count": 40,
      "outputs": [
        {
          "output_type": "display_data",
          "data": {
            "image/png": "[encoded data removed]",
            "text/plain": [
              "<Figure size 432x288 with 1 Axes>"
            ]
          },
          "metadata": {
            "needs_background": "light"
          }
        }
      ]
    },
    {
      "cell_type": "markdown",
      "metadata": {
        "id": "nS06NYDeDyWm"
      },
      "source": [
        "Modelo 3"
      ]
    },
    {
      "cell_type": "code",
      "metadata": {
        "colab": {
          "base_uri": "https://localhost:8080/"
        },
        "id": "Z-okL7-2D2yK",
        "outputId": "b96d318b-3814-4bac-a123-02b4cdef99b7"
      },
      "source": [
        "#Definicion del modelo\n",
        "#Igual Dropout para todas las capas ocultas\n",
        "\n",
        "i10 = Input((x_train.shape[1],))\n",
        "d10 = Dense(512, activation='relu')(i10)\n",
        "d10 = BatchNormalization()(d10)\n",
        "d10 = Dropout(0.1)(d10)\n",
        "d10 = Dense(256, activation='relu')(d10)\n",
        "d10 = BatchNormalization()(d10)\n",
        "d10 = Dropout(0.1)(d10)\n",
        "d10 = Dense(128, activation='relu')(d10)\n",
        "d10 = BatchNormalization()(d10)\n",
        "d10 = Dropout(0.1)(d10)\n",
        "d10 = Dense(25, activation='softmax')(d10)\n",
        "model10 = Model(i10, d10)\n",
        "model10.compile(optimizer='adam', loss='categorical_crossentropy', metrics=['accuracy'])\n",
        "model10.summary()\n",
        "history10 = model10.fit(x_train, yc_train, epochs=20, verbose=1, validation_data=(x_test, yc_test))"
      ],
      "execution_count": 41,
      "outputs": [
        {
          "output_type": "stream",
          "name": "stdout",
          "text": [
            "Model: \"model_9\"\n",
            "_________________________________________________________________\n",
            "Layer (type)                 Output Shape              Param #   \n",
            "=================================================================\n",
            "input_10 (InputLayer)        [(None, 784)]             0         \n",
            "_________________________________________________________________\n",
            "dense_36 (Dense)             (None, 512)               401920    \n",
            "_________________________________________________________________\n",
            "batch_normalization_6 (Batch (None, 512)               2048      \n",
            "_________________________________________________________________\n",
            "dropout_6 (Dropout)          (None, 512)               0         \n",
            "_________________________________________________________________\n",
            "dense_37 (Dense)             (None, 256)               131328    \n",
            "_________________________________________________________________\n",
            "batch_normalization_7 (Batch (None, 256)               1024      \n",
            "_________________________________________________________________\n",
            "dropout_7 (Dropout)          (None, 256)               0         \n",
            "_________________________________________________________________\n",
            "dense_38 (Dense)             (None, 128)               32896     \n",
            "_________________________________________________________________\n",
            "batch_normalization_8 (Batch (None, 128)               512       \n",
            "_________________________________________________________________\n",
            "dropout_8 (Dropout)          (None, 128)               0         \n",
            "_________________________________________________________________\n",
            "dense_39 (Dense)             (None, 25)                3225      \n",
            "=================================================================\n",
            "Total params: 572,953\n",
            "Trainable params: 571,161\n",
            "Non-trainable params: 1,792\n",
            "_________________________________________________________________\n",
            "Epoch 1/20\n",
            "858/858 [==============================] - 8s 8ms/step - loss: 1.0267 - accuracy: 0.6828 - val_loss: 13.2053 - val_accuracy: 0.1008\n",
            "Epoch 2/20\n",
            "858/858 [==============================] - 7s 8ms/step - loss: 0.5523 - accuracy: 0.8170 - val_loss: 2.9105 - val_accuracy: 0.3621\n",
            "Epoch 3/20\n",
            "858/858 [==============================] - 7s 8ms/step - loss: 0.4397 - accuracy: 0.8532 - val_loss: 4.2194 - val_accuracy: 0.3659\n",
            "Epoch 4/20\n",
            "858/858 [==============================] - 7s 8ms/step - loss: 0.4622 - accuracy: 0.8466 - val_loss: 1.8512 - val_accuracy: 0.5502\n",
            "Epoch 5/20\n",
            "858/858 [==============================] - 7s 8ms/step - loss: 0.4694 - accuracy: 0.8423 - val_loss: 1.3861 - val_accuracy: 0.6493\n",
            "Epoch 6/20\n",
            "858/858 [==============================] - 7s 8ms/step - loss: 0.3838 - accuracy: 0.8709 - val_loss: 2.7637 - val_accuracy: 0.4412\n",
            "Epoch 7/20\n",
            "858/858 [==============================] - 7s 8ms/step - loss: 0.3463 - accuracy: 0.8851 - val_loss: 2.2198 - val_accuracy: 0.5417\n",
            "Epoch 8/20\n",
            "858/858 [==============================] - 7s 8ms/step - loss: 0.3129 - accuracy: 0.8960 - val_loss: 1.4458 - val_accuracy: 0.6511\n",
            "Epoch 9/20\n",
            "858/858 [==============================] - 7s 8ms/step - loss: 0.2871 - accuracy: 0.9036 - val_loss: 3.9608 - val_accuracy: 0.3689\n",
            "Epoch 10/20\n",
            "858/858 [==============================] - 7s 8ms/step - loss: 0.3662 - accuracy: 0.8766 - val_loss: 2.5202 - val_accuracy: 0.5006\n",
            "Epoch 11/20\n",
            "858/858 [==============================] - 7s 8ms/step - loss: 0.3180 - accuracy: 0.8944 - val_loss: 3.4319 - val_accuracy: 0.4091\n",
            "Epoch 12/20\n",
            "858/858 [==============================] - 7s 8ms/step - loss: 0.2893 - accuracy: 0.9035 - val_loss: 1.9386 - val_accuracy: 0.5763\n",
            "Epoch 13/20\n",
            "858/858 [==============================] - 7s 8ms/step - loss: 0.2901 - accuracy: 0.9037 - val_loss: 2.8610 - val_accuracy: 0.4321\n",
            "Epoch 14/20\n",
            "858/858 [==============================] - 7s 8ms/step - loss: 0.2758 - accuracy: 0.9095 - val_loss: 2.1516 - val_accuracy: 0.5574\n",
            "Epoch 15/20\n",
            "858/858 [==============================] - 7s 8ms/step - loss: 0.3625 - accuracy: 0.8796 - val_loss: 1.9736 - val_accuracy: 0.5923\n",
            "Epoch 16/20\n",
            "858/858 [==============================] - 7s 8ms/step - loss: 0.3324 - accuracy: 0.8894 - val_loss: 2.7965 - val_accuracy: 0.4957\n",
            "Epoch 17/20\n",
            "858/858 [==============================] - 7s 8ms/step - loss: 0.3075 - accuracy: 0.8977 - val_loss: 3.5256 - val_accuracy: 0.3840\n",
            "Epoch 18/20\n",
            "858/858 [==============================] - 7s 8ms/step - loss: 0.2975 - accuracy: 0.9014 - val_loss: 1.8645 - val_accuracy: 0.5862\n",
            "Epoch 19/20\n",
            "858/858 [==============================] - 7s 8ms/step - loss: 0.2803 - accuracy: 0.9061 - val_loss: 2.9460 - val_accuracy: 0.4937\n",
            "Epoch 20/20\n",
            "858/858 [==============================] - 7s 8ms/step - loss: 0.2777 - accuracy: 0.9069 - val_loss: 3.3375 - val_accuracy: 0.3974\n"
          ]
        }
      ]
    },
    {
      "cell_type": "code",
      "metadata": {
        "colab": {
          "base_uri": "https://localhost:8080/",
          "height": 278
        },
        "id": "QFrPuvWcD2yP",
        "outputId": "bd952d3c-429e-4f3d-c266-888b2d9c8dcb"
      },
      "source": [
        "#Comportamiento de la funcion de costo para train y test\n",
        "\n",
        "plt.plot(range(1, 21), history10.history['loss'], 'r-',label='Training')\n",
        "plt.plot(range(1, 21), history10.history['val_loss'], 'b-', label='Test')\n",
        "plt.legend(framealpha=1, frameon=True)\n",
        "plt.xlabel('Epoch')\n",
        "plt.ylabel('Loss: Categorical CrossEntropy')\n",
        "plt.show()"
      ],
      "execution_count": 42,
      "outputs": [
        {
          "output_type": "display_data",
          "data": {
            "image/png": "[encoded data removed]",
            "text/plain": [
              "<Figure size 432x288 with 1 Axes>"
            ]
          },
          "metadata": {
            "needs_background": "light"
          }
        }
      ]
    },
    {
      "cell_type": "code",
      "metadata": {
        "colab": {
          "base_uri": "https://localhost:8080/",
          "height": 278
        },
        "id": "Ru8fXKjiD2yQ",
        "outputId": "595d47aa-d3a5-46a8-c8a0-19471d58309d"
      },
      "source": [
        "#Comportamiento de la metrica (accuracy) para train y test\n",
        "\n",
        "plt.plot(range(1, 21), history10.history['accuracy'], 'r-',label='Training')\n",
        "plt.plot(range(1, 21), history10.history['val_accuracy'], 'b-', label='Test')\n",
        "plt.legend(framealpha=1, frameon=True)\n",
        "plt.xlabel('Epoch')\n",
        "plt.ylabel('Accuracy')\n",
        "plt.show()"
      ],
      "execution_count": 43,
      "outputs": [
        {
          "output_type": "display_data",
          "data": {
            "image/png": "[encoded data removed]",
            "text/plain": [
              "<Figure size 432x288 with 1 Axes>"
            ]
          },
          "metadata": {
            "needs_background": "light"
          }
        }
      ]
    },
    {
      "cell_type": "markdown",
      "metadata": {
        "id": "RQ8F6mDCbdYV"
      },
      "source": [
        "Observaciones:\n",
        "\n",
        "\n",
        "\n",
        "*   Por el uso de Dropout se observa un efecto de aplanado de las curvas de errores y accuracy para train\n",
        "*   Nuevamente se observa un comportamiento muy oscilante para accuracy en test\n",
        "\n"
      ]
    }
  ]
}