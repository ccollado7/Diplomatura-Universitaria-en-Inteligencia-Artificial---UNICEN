{
  "nbformat": 4,
  "nbformat_minor": 0,
  "metadata": {
    "colab": {
      "name": "machine-learning-duia-2021-clase-2.ipynb",
      "provenance": [],
      "collapsed_sections": []
    },
    "kernelspec": {
      "name": "python3",
      "display_name": "Python 3"
    }
  },
  "cells": [
    {
      "cell_type": "markdown",
      "metadata": {
        "id": "RsyZMUTu4QeQ"
      },
      "source": [
        "# Aprendizaje de Máquinas (Machine Learning)\n",
        "## Clase 2: Modelado de problemas de Machine Learning\n",
        "\n",
        "### 1. Configuración del ambiente\n",
        "\n",
        "Antes que empezar a trabajar, vamos a preparar el ambiente.\n",
        "Para ello:\n",
        "* Instalamos todos los paquetes que vamos a necesitar para trabajar. Lo hacemos utilizando el controlador de paquetes de Python ```pip```. Cada vez que usemos ```!```en la consola, le estamos diciendo al notebook que ejecute la instrucción en la consola del sistema, no en la de Python.\n",
        "* Montamos Google Drive para guardar allí los archivos que descarguemos. En la consola nos va a aparecer una solicitud para hacer clic en una URL, loggearnos con nuestra cuenta de Google y colocar un código de autorización en una casilla."
      ]
    },
    {
      "cell_type": "code",
      "metadata": {
        "id": "HyJZLOLw4hcI",
        "colab": {
          "base_uri": "https://localhost:8080/"
        },
        "outputId": "21333051-ff04-4d68-c556-4b27733d8c5d"
      },
      "source": [
        "# instalamos el paquete para descargar archivos\n",
        "!pip install wget\n",
        "\n",
        "# montar la unidad de google drive\n",
        "from google.colab import drive\n",
        "drive.mount('/content/gdrive/')\n",
        "\n",
        "from os import makedirs\n",
        "datasets_folder = '/content/gdrive/My Drive/Colab Notebooks/DUIA/2021/Machine Learning/'\n",
        "makedirs(datasets_folder, exist_ok=True)\n",
        "\n",
        "# importo numpy\n",
        "import numpy as np\n",
        "np.set_printoptions(precision=3, suppress=True) # y hago un truco para imprimir solamente 3 decimales\n",
        "\n",
        "# importo una librería para utilizar valores aleatorios\n",
        "import random\n",
        "random.seed(10)\n",
        "np.random.seed(10)"
      ],
      "execution_count": null,
      "outputs": [
        {
          "output_type": "stream",
          "text": [
            "Collecting wget\n",
            "  Downloading https://files.pythonhosted.org/packages/47/6a/62e288da7bcda82b935ff0c6cfe542970f04e29c756b0e147251b2fb251f/wget-3.2.zip\n",
            "Building wheels for collected packages: wget\n",
            "  Building wheel for wget (setup.py) ... \u001b[?25l\u001b[?25hdone\n",
            "  Created wheel for wget: filename=wget-3.2-cp37-none-any.whl size=9681 sha256=a07eeef4f6dba5811682e5ef6af1201c80fe955db52d7f6b1b553571518f18a2\n",
            "  Stored in directory: /root/.cache/pip/wheels/40/15/30/7d8f7cea2902b4db79e3fea550d7d7b85ecb27ef992b618f3f\n",
            "Successfully built wget\n",
            "Installing collected packages: wget\n",
            "Successfully installed wget-3.2\n",
            "Mounted at /content/gdrive/\n"
          ],
          "name": "stdout"
        }
      ]
    },
    {
      "cell_type": "markdown",
      "metadata": {
        "id": "mnfWXeP45u57"
      },
      "source": [
        "### 2. Acceso a datos de la clase pasada\n",
        "\n",
        "Vamos a trabajar con la partición en datos de entrenamiento, validación y test que preparamos en la clase anterior. Si el archivo no está disponible en Google Drive, volvé al Colab de la Clase 1 y ejecutá todos los bloques de código."
      ]
    },
    {
      "cell_type": "code",
      "metadata": {
        "id": "9UCtVJe65zmb",
        "colab": {
          "base_uri": "https://localhost:8080/"
        },
        "outputId": "24d8fbd6-e006-43e6-a30f-5d43049be0a2"
      },
      "source": [
        "# establecemos la ruta al archivo (si la cambiaron la clase pasada, corregir por\n",
        "# la ruta correcta)\n",
        "dataset_filename = '/content/gdrive/My Drive/Colab Notebooks/DUIA/2021/Machine Learning/housing_dataset_partitioned.pkl'\n",
        "\n",
        "# cargamos los datos preparados\n",
        "import pickle\n",
        "with open(dataset_filename, 'rb') as f:\n",
        "    dataset = pickle.load(f)\n",
        "# verificamos si los datos están bien cargados\n",
        "print('Variables in dataset object: {}'.format(dataset.keys()))"
      ],
      "execution_count": null,
      "outputs": [
        {
          "output_type": "stream",
          "text": [
            "Variables in dataset object: dict_keys(['X_train', 'X_val', 'X_test', 'y_train', 'y_val', 'y_test', 'feature_labels', 'mu', 'sigma'])\n"
          ],
          "name": "stdout"
        }
      ]
    },
    {
      "cell_type": "markdown",
      "metadata": {
        "id": "_Nam-LkaOhrv"
      },
      "source": [
        "### 3. Entrenando nuestro primer modelo\n",
        "\n",
        "Vamos a tomar como primer ejemplo un problema de regresión, utilizando los datos que preparamos en la clase anterior.\n",
        "\n",
        "El problema que plantearemos es el de predecir la mediana de precio de una propiedad (en miles de dólares) en función de sus características. Se trata de un problema de regresión debido a que la variable objetivo $y$ (el precio de la propiedad) es una variable contínua.\n",
        "\n",
        "Para entrenar un modelo necesitamos datos de entrenamiento. En nuestro caso, utilizaremos el conjunto $X_\\text{train}$ y sus anotaciones $y_\\text{train}$, que preparamos la clase pasada. Recordemos que esos datos ya fueron particionados representativamente, estás estandarizados de acuerdo a su media y desvío y fueron corregidos previamente para eliminar potenciales sesgos.\n",
        "\n",
        "El modelo que utilizaremos es un modelo de regresión lineal regularizado, conocido como [Ridge regression](https://en.wikipedia.org/wiki/Tikhonov_regularization). No se preocupen por los detalles, los vamos a ver la próxima clase. Lo que sí tenemos que saber ahora es que este modelo es capaz de resolver un problema de regresión lineal, y que tiene un hiperparámetro que usualmente se llama $\\lambda$, pero que en Sklearn se denota con $\\alpha$, que controla el nivel de regularización. La regularización es una estrategia matemática que se utiliza durante el entrenamiento para evitar el overfitting. Idealmente, su utilización nos permite mejorar la capacidad de generalización del modelo. Sin embargo, a veces puede ocurrir que la utilicemos y que los resultados no mejoren.\n",
        "\n",
        "Haremos un primer entrenamiento del modelo utilizando un parámetro $\\alpha=0$ (lo que equivale a usar un modelo de regresión lineal tradicional, sin regularización). \n",
        "\n"
      ]
    },
    {
      "cell_type": "code",
      "metadata": {
        "id": "ZadPFJ2h6PI8",
        "colab": {
          "base_uri": "https://localhost:8080/"
        },
        "outputId": "a4ea9f6f-ae3b-49bb-89c9-6132fee549d8"
      },
      "source": [
        "from sklearn.linear_model import Ridge\n",
        "\n",
        "# creamos el objeto Ridge, que modela el método de Ridge regression\n",
        "# - alpha: el parámetro de regularización\n",
        "# - fit_intercept: por ahora no nos interesa, dejémoslo en True\n",
        "model = Ridge(alpha=0.0, fit_intercept=True)\n",
        "# lo fitteamos (entrenamos) con nuestros datos de entrenamiento\n",
        "model.fit(dataset['X_train'], dataset['y_train'])"
      ],
      "execution_count": null,
      "outputs": [
        {
          "output_type": "execute_result",
          "data": {
            "text/plain": [
              "Ridge(alpha=0.0, copy_X=True, fit_intercept=True, max_iter=None,\n",
              "      normalize=False, random_state=None, solver='auto', tol=0.001)"
            ]
          },
          "metadata": {
            "tags": []
          },
          "execution_count": 3
        }
      ]
    },
    {
      "cell_type": "markdown",
      "metadata": {
        "id": "LINDaHJEjo5L"
      },
      "source": [
        "Listo! El modelo ya está entrenado. Internamente, la función .fit() ha encontrado la configuración óptima de parámetros para minimizar el error cuadrático medio sobre los datos de entrenamiento. En un modelo de regresión lineal, los parámetros son coeficientes que multiplican a cada feature. La suma de los valores de las features ponderadas por estos coeficientes es lo que determina la predicción final.\n",
        "\n",
        "Podemos visualizar los valores de los coeficientes aprendidos utilizando un gráfico de barras."
      ]
    },
    {
      "cell_type": "code",
      "metadata": {
        "id": "48Wdrv7Nqb7j",
        "colab": {
          "base_uri": "https://localhost:8080/",
          "height": 356
        },
        "outputId": "822a0ca7-5bf7-49c3-8cf5-138c3b4b6a69"
      },
      "source": [
        "# accedemos a los coeficientes del modelo\n",
        "theta = model.coef_\n",
        "# los imprimimos\n",
        "print('Coeficientes: {}'.format(theta))\n",
        "\n",
        "import matplotlib.pyplot as plt\n",
        "plt.title('Coefficients of the Ridge Regression model')\n",
        "plt.bar(np.arange(theta.size), np.squeeze(theta))\n",
        "plt.xlabel('Feature')\n",
        "plt.ylabel('Coefficient value')\n",
        "plt.xticks(np.arange(theta.size), dataset['feature_labels'], rotation=45)\n",
        "plt.grid(True)\n",
        "plt.show()"
      ],
      "execution_count": null,
      "outputs": [
        {
          "output_type": "stream",
          "text": [
            "Coeficientes: [[-1.597  1.113  0.028  0.554 -3.049  3.769 -1.429 -3.426  2.469 -1.962\n",
            "  -2.509]]\n"
          ],
          "name": "stdout"
        },
        {
          "output_type": "display_data",
          "data": {
            "image/png": "[encoded data removed]",
            "text/plain": [
              "<Figure size 432x288 with 1 Axes>"
            ]
          },
          "metadata": {
            "tags": [],
            "needs_background": "light"
          }
        }
      ]
    },
    {
      "cell_type": "markdown",
      "metadata": {
        "id": "S53nZViItESv"
      },
      "source": [
        "Graficar los coeficientes permite de alguna manera \"interpretar\" qué hace el modelo que aprendimos. Pero eso lo veremos en detalle en la clase de regresión. Por lo pronto, observarlos nos permite ver que efectivamente el modelo está aprendiendo algo."
      ]
    },
    {
      "cell_type": "markdown",
      "metadata": {
        "id": "nWX2dSyVkCs8"
      },
      "source": [
        "### 4. Validación\n",
        "\n",
        "De nada nos sirve un modelo entrenado si no chequeamos qué tan efectivo es. Más aún porque no utilizamos regularización y no chequeamos si la necesitamos o no.\n",
        "\n",
        "Lo próximo que haremos, entonces, es chequear **sobre los datos de validación** qué tan bueno es el modelo. No podemos usar los datos de test para esto, dado que, como dijimos antes, estos datos se usarán para explicar la performance del modelo final que elijamos (habiendo encontrado la configuración de $\\alpha$ óptima para nuestros datos de entrenamiento/validación).\n",
        "\n",
        "Para evaluar el modelo, primero necesitamos predecir los valores de variable objetivo, a los que llamaremos $\\hat{y}$, para cada una de las muestras de los datos de validación. Lo hacemos utilizando el método .predict() de nuestro modelo."
      ]
    },
    {
      "cell_type": "code",
      "metadata": {
        "id": "kJbiz67Kklm7",
        "colab": {
          "base_uri": "https://localhost:8080/"
        },
        "outputId": "e35eca38-1070-423c-b495-683cf3de0e69"
      },
      "source": [
        "# usamos las features de los datos de validación para predecir la performance \n",
        "# sobre los datos de validación\n",
        "y_hat_val = model.predict(dataset['X_val'])\n",
        "# imprimimos la salida para las primeras 5 muestras\n",
        "print('y_hat: {}'.format(y_hat_val[0:5]))\n",
        "# e imprimimos la salida esperada\n",
        "print('y: {}'.format(dataset['y_val'][0:5]))"
      ],
      "execution_count": null,
      "outputs": [
        {
          "output_type": "stream",
          "text": [
            "y_hat: [[33.772]\n",
            " [30.687]\n",
            " [16.142]\n",
            " [20.3  ]\n",
            " [10.138]]\n",
            "y: [[31.1]\n",
            " [31.5]\n",
            " [20. ]\n",
            " [50. ]\n",
            " [15. ]]\n"
          ],
          "name": "stdout"
        }
      ]
    },
    {
      "cell_type": "markdown",
      "metadata": {
        "id": "asJRnDFSuBn9"
      },
      "source": [
        "Ahora necesitamos evaluar cuantitativamente qué tan buenas son estas predicciones. Para ello utilizaremos una **métrica de evaluación**. \n",
        "Para evaluar problemas de regresión existen muchas. Nosotros vamos a usar dos:\n",
        "\n",
        "El **error cuadrático medio** (mean square error, MSE) mide las diferencias entre las predicciones del modelo y los valores reales de cada muestra, penalizadas cada una al cuadrado. Se calcula como:\n",
        "$\\text{MSE} = \\frac{1}{N} \\sum_i^N {(y_i - \\hat{y}_i)}^2$, donde $N$ es el número de muestras y $y_i$ y $\\hat{y}_i$ son la predicción esperada y la producida por el modelo, respectivamente, para la muestra $i$-ésima. La ventaja de esta métrica es que penalizará más las diferencias grandes, y será más permisivo con las diferencias menos importantes.\n",
        "\n",
        "De manera similar, el **error absoluto medio** (mean absolute error, MAE) mide las diferencias absolutas entre las predicciones y los valores reales. Se calcula como: $\\text{MAE} = \\frac{1}{N} \\sum_i^N {|(y_i - \\hat{y}_i)|}_1$. Si observamos, la ecuación es similar a la anterior, sólo que reemplazamos los cuadrados por el valor absoluto (${| · |}_1$). Esta métrica asume igual importancia entre errores chicos y grandes.\n",
        "\n",
        "Hagamos la evaluación:"
      ]
    },
    {
      "cell_type": "code",
      "metadata": {
        "id": "YrgsWqS8urMJ",
        "colab": {
          "base_uri": "https://localhost:8080/"
        },
        "outputId": "2ded27f2-19c5-46a3-b48e-c9fea88959a5"
      },
      "source": [
        "def mse(y, y_hat):\n",
        "  '''\n",
        "  Función para calcular el error cuadrático medio\n",
        "  '''\n",
        "  # suma promedio de diferencias al cuadrado\n",
        "  return (1 / y.size) * np.sum((y - y_hat)**2)\n",
        "\n",
        "\n",
        "def mae(y, y_hat):\n",
        "  '''\n",
        "  Función para calcular el error absoluto medio\n",
        "  '''\n",
        "  # suma promedio de diferencias absolutas\n",
        "  return (1 / y.size) * np.sum(np.abs(y - y_hat))\n",
        "\n",
        "\n",
        "# calculamos el MSE y el MAE comparando los datos de validación\n",
        "mse_ = mse(dataset['y_val'], y_hat_val)\n",
        "mae_ = mae(dataset['y_val'], y_hat_val)\n",
        "print('MSE = {}'.format(mse_))\n",
        "print('MAE = {}'.format(mae_))"
      ],
      "execution_count": null,
      "outputs": [
        {
          "output_type": "stream",
          "text": [
            "MSE = 39.43839611558291\n",
            "MAE = 4.074660629209803\n"
          ],
          "name": "stdout"
        }
      ]
    },
    {
      "cell_type": "markdown",
      "metadata": {
        "id": "fpbzuflpxNl1"
      },
      "source": [
        "¿Notamos diferencias importantes entre ambas métricas? Bueno, eso es porque cada métricas tiene sus propias unidades. Si recordamos, nuestra variable objetivo está en miles de dólares. El error cuadrático medio tiene unidades al cuadrado (miles de dólares al cuadrado)(, justamente porque estamos midiendo errores al cuadrado. Por otro lado, el error absoluto medio tiene las mismas unidades que las predicciones que estamos realizando (miles de dólares).\n",
        "\n",
        "A priori podríamos decir que el error es alto o bajo, ¿pero es el mejor modelo posible? ¡No lo sabemos! Al menos no hasta que hagamos model selection y exprimamos lo más posible el modelo que tenemos."
      ]
    },
    {
      "cell_type": "markdown",
      "metadata": {
        "id": "eQjGZVFJypU_"
      },
      "source": [
        "### 5. Model selection\n",
        "\n",
        "La gran mayoría de los modelos de machine learning tienen hiperparámetros. Cuando hablamos de hiperparámetros, hablamos de variables que rigen ya sea al modelo en sí o al proceso de entrenamiento del modelo, y que no se pueden aprender si no que tenemos que setearlas manualmente. \n",
        "\n",
        "Es de esperar que cambios en estos valores produzcan diferentes modelos, con lo cual es necesario que podamos escoger aquel modelo que mejor performa. A este proceso lo conocemos como **model selection**.\n",
        "\n",
        "Existen **diferentes estrategias para hacer model selection**, la mayoría basada en *estrategias greedy* que consisten en *probar diferentes configuraciones, evaluarlas y elegir la más conveniente*. La forma de hacerlo es explotando las particiones de los datos en entrenamiento y validación: elegimos una configuración, entrenamos el modelo en nuestro training set, lo evaluamos en nuestro validation set utilizando una métrica específica, elegimos una nueva configuración, y repetimos hasta agotar todas las opciones que queremos.\n",
        "\n",
        "Hay *dos estrategias* muy comunes para hacer esta búsqueda, ambas diferenciadas por la forma en la que seleccionamos una configuración: **grid search y random search**.\n",
        "\n",
        "*Grid search* es una búsqueda en la que elegimos *a priori* diferentes valores para cada hiperparámetro, y los probamos a todos. Tiene la ventaja de que te permite controlar mejor la búsqueda (dado que si encontrás un rango de valores en los que la performance es más alta, podés repetir la búsqueda en ese rango, con mayor nivel de detalle). Sin embargo, tiene un costo computacional más elevado (porque necesitamos entrenar el modelo montones de veces).\n",
        "\n",
        "*Random search* es una búsqueda alternativa en la que simplemente definimos los rangos en los que queremos explorar, y luego probamos valores aleatorios de cada hiperparámetro dentro de sus rangos predefinidos. Esta búsqueda es más eficiente (porque elegimos probar el número de combinaciones que queramos), pero más difícil de controlar.\n",
        "\n",
        "En este dibujo se entienden más o menos bien: usando grid search con muy pocos valores por hiperparámetro, puede ocurrir que se nos pierda el valor óptimo de performance. Usando random search, podemos tener la suerte de caer justo en los valores que más nos sirven.\n",
        "\n",
        "![Fuente: https://blog.usejournal.com/a-comparison-of-grid-search-and-randomized-search-using-scikit-learn-29823179bc85](https://miro.medium.com/max/2000/1*9W1MrRkHi0YFmBoHi9Y2Ow.png)\n",
        "\n",
        "Vamos a hacer primero una búsqueda del valor para el hiperparámetro $\\alpha$ óptimo utilizando grid search. Para ello, necesitamos escoger:\n",
        "\n",
        "1. **Los valores que queremos probar para cada hiperparámetro:** en nuestro caso, tenemos un único hiperparámetro ($\\alpha$). En general, los regularizadores se evalúan en potencias de 10 (por ejemplo: $10^k$, con $k \\in \\{-5, -4, -3, ..., 0, 1, 2, ... 5\\}$.\n",
        "2. **La métrica de evaluación:** se elige siempre pensando en la aplicación final, y en la métrica que esperamos que optimice nuestro algoritmo. Dado que el entrenamiento de este modelo de regresión en particular se realiza minimizando el error cuadrático medio, lo recomendable sería usar MSE.\n",
        "\n",
        "El siguiente código realiza diferentes pruebas, las tabula y nos muestra los resultados de la búsqueda por grid search:"
      ]
    },
    {
      "cell_type": "code",
      "metadata": {
        "id": "wik_1Rz02XRN",
        "colab": {
          "base_uri": "https://localhost:8080/"
        },
        "outputId": "5b879d2e-57a4-4fd2-9ee6-e50aaee014b3"
      },
      "source": [
        "# definimos el rango de valores a explorar\n",
        "alpha_values_exponents = range(-5,5,1)\n",
        "\n",
        "# inicializamos el arreglo de resultados\n",
        "mse_values = np.zeros(np.asarray(alpha_values_exponents).shape)\n",
        "# y una lista de modelos\n",
        "models = []\n",
        "# probamos cada configuración\n",
        "i=0\n",
        "print('Grid search')\n",
        "print('=================')\n",
        "for k in alpha_values_exponents:\n",
        "  # calculamos alpha\n",
        "  current_alpha_try = 10.0**k\n",
        "  # declaramos el objeto del modelo\n",
        "  model = Ridge(alpha=current_alpha_try, fit_intercept=True)\n",
        "  # entrenamos el modelo con los datos de entrenamiento\n",
        "  model.fit(dataset['X_train'], dataset['y_train'])\n",
        "  models.append(model)\n",
        "  # predecimos con los datos de validación\n",
        "  y_hat_val = model.predict(dataset['X_val'])\n",
        "  # calculamos el MSE\n",
        "  mse_values[i] = mse(dataset['y_val'], y_hat_val)\n",
        "  # imprimimos por pantalla\n",
        "  print('alpha = {} - MSE = {}'.format(current_alpha_try, mse_values[i]))\n",
        "  i = i+1\n",
        "\n",
        "# recuperamos el mejor valor de alpha\n",
        "idx = np.argmin(mse_values)\n",
        "best_mse_on_validation = mse_values[idx]\n",
        "best_alpha = 10**alpha_values_exponents[idx]\n",
        "best_model = models[idx]\n",
        "print('=================')\n",
        "print('Best alpha value: {}'.format(best_alpha))"
      ],
      "execution_count": null,
      "outputs": [
        {
          "output_type": "stream",
          "text": [
            "Grid search\n",
            "=================\n",
            "alpha = 1e-05 - MSE = 39.43839588902205\n",
            "alpha = 0.0001 - MSE = 39.438393850006385\n",
            "alpha = 0.001 - MSE = 39.43837346304556\n",
            "alpha = 0.01 - MSE = 39.43816991279172\n",
            "alpha = 0.1 - MSE = 39.436166114622296\n",
            "alpha = 1.0 - MSE = 39.41908173158365\n",
            "alpha = 10.0 - MSE = 39.413609482747184\n",
            "alpha = 100.0 - MSE = 40.42953903824175\n",
            "alpha = 1000.0 - MSE = 45.04506942899651\n",
            "alpha = 10000.0 - MSE = 55.60639832993125\n",
            "=================\n",
            "Best alpha value: 10\n"
          ],
          "name": "stdout"
        }
      ]
    },
    {
      "cell_type": "markdown",
      "metadata": {
        "id": "EdstwIta5zj_"
      },
      "source": [
        "Gráficamente veremos mejor lo que está pasando:"
      ]
    },
    {
      "cell_type": "code",
      "metadata": {
        "id": "N3VBtg5hvZ8t",
        "colab": {
          "base_uri": "https://localhost:8080/",
          "height": 299
        },
        "outputId": "3c7c4c3f-4603-4457-e35f-a8a5514ce105"
      },
      "source": [
        "import matplotlib.pyplot as plt\n",
        "\n",
        "# mostramos gráficamente los resultados\n",
        "alpha_values_exponents = np.asarray(alpha_values_exponents)\n",
        "plt.semilogx(np.power(np.ones(alpha_values_exponents.shape)*10, alpha_values_exponents), mse_values)\n",
        "plt.title('Grid search for alpha parameter')\n",
        "plt.xlabel('alpha')\n",
        "plt.ylabel('MSE')\n",
        "plt.grid(True)\n",
        "plt.show()"
      ],
      "execution_count": null,
      "outputs": [
        {
          "output_type": "display_data",
          "data": {
            "image/png": "[encoded data removed]",
            "text/plain": [
              "<Figure size 432x288 with 1 Axes>"
            ]
          },
          "metadata": {
            "tags": [],
            "needs_background": "light"
          }
        }
      ]
    },
    {
      "cell_type": "markdown",
      "metadata": {
        "id": "fwcgjADJ57XU"
      },
      "source": [
        "Observando esta gráfica, podemos hacernos algunos planteos extra: ¿necesitamos ajustar un poco más el parámetro? ¿en qué rangos se mueven los mejores valores? ¿cuál es el modelo que mejor ajusta los datos, según los de validación? ¿necesitamos hacer random search? ¿cómo interpretamos el valor óptimo del parámetro?"
      ]
    },
    {
      "cell_type": "markdown",
      "metadata": {
        "id": "xn1Goc-qpFvS"
      },
      "source": [
        "### 6. Test\n",
        "\n",
        "Ahora que escogimos el mejor modelo, lo que sigue es evaluarlo sobre los datos de test. Para ello, vamos a simplemente predecir los resultados a partir de las features de test, y comparar las predicciones obtenidas con los valores reales de variables que tenemos. La evaluación la realizaremos con MSE, que es la métrica que escogimos para trabajar. Incluiremos también los valores de MSE en los datos de validación para comparar."
      ]
    },
    {
      "cell_type": "code",
      "metadata": {
        "id": "UXjQaQ_hpkcZ",
        "colab": {
          "base_uri": "https://localhost:8080/"
        },
        "outputId": "53142350-1962-4105-b107-e08774d6d5ee"
      },
      "source": [
        "# generamos las predicciones sobre los datos de test\n",
        "y_hat_test = best_model.predict(dataset['X_test'])\n",
        "\n",
        "# comparamos las predicciones con los valores esperados usando MSE\n",
        "mse_test = mse(dataset['y_test'], y_hat_test)\n",
        "\n",
        "print('MSE on the validation set: {}'.format(best_mse_on_validation))\n",
        "print('MSE on the test set: {}'.format(mse_test))\n"
      ],
      "execution_count": null,
      "outputs": [
        {
          "output_type": "stream",
          "text": [
            "MSE on the validation set: 39.413609482747184\n",
            "MSE on the test set: 24.26299531766248\n"
          ],
          "name": "stdout"
        }
      ]
    },
    {
      "cell_type": "markdown",
      "metadata": {
        "id": "3e1GpipZ4sQi"
      },
      "source": [
        "En general esperamos que el error en los datos de validación sea menor al de los datos de test. ¿Por qué? Porque a los datos de validación los usamos para diseñar el modelo: escogimos el mejor valor de $\\alpha$ basándonos en la performance sobre esos datos, con lo cual tenemos ya un sesgo hacia sobreestimar la eficacia real del modelo. Los datos de test, por el contrario, operan como un conjunto totalmente, un conjunto de muestras que podríamos encontrarnos en la vida real, con nuestra aplicación deployada."
      ]
    },
    {
      "cell_type": "markdown",
      "metadata": {
        "id": "67eOyQe44PvF"
      },
      "source": [
        "### 7. Control de overfitting/underfitting\n",
        "\n",
        "Algo que siempre debemos hacer cuando trabajamos en machine learning es analizar si nuestros datos tienen o no overfitting/underfitting.\n",
        "\n",
        "Un modelo con overfitting logró \"memorizar\" los datos de entrenamiento (ajustar sus parámetros hasta lograr un error muy bajo), a tal punto que cuando se aplica sobre datos nuevos diferentes a los de entrenamiento falla horriblemente.\n",
        "\n",
        "Un modelo con underfitting es su contraparte: es un modelo con poca capacidad, que no puede aprender nada de los datos de entrenamiento.\n",
        "\n",
        "Para evaluar underfitting/overfitting necesitamos entrenar el modelo y evaluarlo sobre los datos de entrenamiento y de validación. Si el modelo anda demasiado bien sobre los datos de entrenamiento pero falla horriblemente en los de validación, hay overfitting. Si el modelo anda horriblemente en los datos de entrenamiento, hay underfitting.\n",
        "\n",
        "El código a continuación evalúa los múltiples modelos posibles de Ridge Regression que podemos obtener para diferentes valores de $\\alpha$, evaluándolos tanto sobre los datos de entrenamiento como los de validación. Un buen ejercicio es reconocer cuáles tienen overfitting/underfitting y cuáles no."
      ]
    },
    {
      "cell_type": "code",
      "metadata": {
        "id": "Xkd9vLAx-ZfM",
        "colab": {
          "base_uri": "https://localhost:8080/"
        },
        "outputId": "2915f2f9-ba47-4a92-bcf8-4be94956e06b"
      },
      "source": [
        "# probamos cada configuración\n",
        "print('Evaluating overfitting/underfitting')\n",
        "print('=================')\n",
        "for k in alpha_values_exponents:\n",
        "  # calculamos alpha\n",
        "  current_alpha_try = 10.0**k\n",
        "  # declaramos el objeto del modelo\n",
        "  model = Ridge(alpha=current_alpha_try, fit_intercept=True)\n",
        "  # entrenamos el modelo con los datos de entrenamiento\n",
        "  model.fit(dataset['X_train'], dataset['y_train'])\n",
        "  # predecimos con los datos de entrenamiento\n",
        "  y_hat_train = model.predict(dataset['X_train'])\n",
        "  # predecimos con los datos de validación\n",
        "  y_hat_val = model.predict(dataset['X_val'])\n",
        "  # calculamos el MSE en ambos casos\n",
        "  mse_train = mse(dataset['y_train'], y_hat_train)\n",
        "  mse_val = mse(dataset['y_val'], y_hat_val)\n",
        "  # imprimimos por pantalla\n",
        "  print('alpha = {}'.format(current_alpha_try, ))\n",
        "  print('- MSE training = {}'.format(mse_train))\n",
        "  print('- MSE validation = {}'.format(mse_val))"
      ],
      "execution_count": null,
      "outputs": [
        {
          "output_type": "stream",
          "text": [
            "Evaluating overfitting/underfitting\n",
            "=================\n",
            "alpha = 1e-05\n",
            "- MSE training = 29.185323102288663\n",
            "- MSE validation = 39.43839588902205\n",
            "alpha = 0.0001\n",
            "- MSE training = 29.185323102320172\n",
            "- MSE validation = 39.438393850006385\n",
            "alpha = 0.001\n",
            "- MSE training = 29.18532310547061\n",
            "- MSE validation = 39.43837346304556\n",
            "alpha = 0.01\n",
            "- MSE training = 29.185323420297415\n",
            "- MSE validation = 39.43816991279172\n",
            "alpha = 0.1\n",
            "- MSE training = 29.18535468780395\n",
            "- MSE validation = 39.436166114622296\n",
            "alpha = 1.0\n",
            "- MSE training = 29.188280601069046\n",
            "- MSE validation = 39.41908173158365\n",
            "alpha = 10.0\n",
            "- MSE training = 29.364248888397697\n",
            "- MSE validation = 39.413609482747184\n",
            "alpha = 100.0\n",
            "- MSE training = 32.4340227860132\n",
            "- MSE validation = 40.42953903824175\n",
            "alpha = 1000.0\n",
            "- MSE training = 48.966691559711705\n",
            "- MSE validation = 45.04506942899651\n",
            "alpha = 10000.0\n",
            "- MSE training = 74.22427864567969\n",
            "- MSE validation = 55.60639832993125\n"
          ],
          "name": "stdout"
        }
      ]
    },
    {
      "cell_type": "markdown",
      "metadata": {
        "id": "H15trppzBZUu"
      },
      "source": [
        "### 8. Feature selection\n",
        "\n",
        "A menudo la etapa de model selection involucra, además, elegir el conjunto óptimo de features que nos asegura no estar empleando features irrelevantes.\n",
        "\n",
        "Existen numerosas formas de hacerlo. Las más usadas son aquellas que explotan [el uso de algún tipo de regularizador que permite descartar automáticamente las más inútiles](https://en.wikipedia.org/wiki/Lasso_(statistics)). Vamos a ver un ejemplo de este tipo de regularizadores más adelante en esta unidad, y en las clases que siguen.\n",
        "\n",
        "Otra alternativa más sencilla es, nuevamente, seguir un enfoque greedy. El más utilizado es uno conocido como [forward selection](https://towardsdatascience.com/feature-importance-and-forward-feature-selection-752638849962). Podemos entrenar $d$ modelos de una sola de las $d$ features que tenemos disponibles, y evaluar cada uno de ellos en los datos de validación. A partir de su performance en este conjunto, elegimos aquella que mejor anduvo. A continuación, probamos entrenar otros $p-1$ modelos con dos features esta vez, la que ya elegimos como la mejor y otra que utilizaremos de prueba. Nuevamente, evaluamos cada combinación sobre los datos de validación y elegimos el par que mejor funciona. Así, repetimos esta búsqueda hasta tanto agregar nuevas features no mejora la performance. Como resultado, obtendremos un conjunto de menos features en el que a priori descartamos algunas combinaciones que no nos sirven.\n",
        "\n",
        "¿Es óptimo? No. El óptimo es usar backtracking y explorar todas las posibles combinaciones. ¿Podemos hacerlo? Sí, si tenés tiempo y ganas. En la vida real, con un enfoque greedy estamos bien.\n",
        "\n",
        "El siguiente código hace feature selection de nuestro modelo utilizando este enfoque. Por simplicidad, fíjense que usamos un valor fijo de $\\alpha$. Sin embargo, lo ideal sería que para cada combinación de features probemos todos los valores de $\\alpha$, para quedarnos con la combinación más conveniente."
      ]
    },
    {
      "cell_type": "code",
      "metadata": {
        "id": "B9SvEUidDhBe",
        "colab": {
          "base_uri": "https://localhost:8080/"
        },
        "outputId": "2cac976b-d4f9-4a11-a058-07d65bd7076a"
      },
      "source": [
        "import sys\n",
        "\n",
        "model = Ridge(alpha=10, fit_intercept=True)\n",
        "\n",
        "# inicializamos un arreglo vacío de features seleccionadas\n",
        "selected_features = np.zeros(dataset['X_train'].shape[1], dtype=np.bool)\n",
        "# inicializamos dos variables para llevar los MSE\n",
        "previous_best_mse = sys.maxsize\n",
        "current_best_mse = sys.maxsize - 1\n",
        "# y una variable que indique la nueva feature que se va a incorporar\n",
        "new_feature = None\n",
        "# recuperamos los nombres de las features\n",
        "feature_names = np.asarray(list(dataset['feature_labels'].keys()))\n",
        "\n",
        "# si el error en la iteración anterior fue mayor al nuevo error\n",
        "while (previous_best_mse > current_best_mse):\n",
        "\n",
        "  # agregamos la nueva feature al conjunto\n",
        "  if new_feature:\n",
        "    selected_features[new_feature] = True\n",
        "    print('New feature added: {}'.format(feature_names[new_feature]))\n",
        "    print('New set of features: {}'.format(feature_names[selected_features]))\n",
        "    print('MSE: {}'.format(current_best_mse))\n",
        "    print('============================')\n",
        "\n",
        "  # actualizamos los valores de mejor mse\n",
        "  previous_best_mse = current_best_mse\n",
        "\n",
        "  # inicializamos un arreglo para guardar el mse obtenido al probar cada feature\n",
        "  per_feature_mse = np.ones(selected_features.shape) * sys.maxsize\n",
        "\n",
        "  # iteramos por cada feature\n",
        "  for i in range(selected_features.size):\n",
        "\n",
        "    # si la feature no está seleccionada (no nos interesa volver a probar\n",
        "    # features de gusto)\n",
        "    if not (selected_features[i]):\n",
        "\n",
        "      # seleccionamos la feature a probar\n",
        "      features_to_try = selected_features.copy()\n",
        "      features_to_try[i] = True\n",
        "      # entrenamos el modelo\n",
        "      model.fit(dataset['X_train'][:,features_to_try], dataset['y_train'])\n",
        "      # lo evaluamos sobre los datos de validación\n",
        "      y_hat_val = model.predict(dataset['X_val'][:,features_to_try])\n",
        "      # registramos su performance\n",
        "      per_feature_mse[i] = mse(dataset['y_val'], y_hat_val) \n",
        "\n",
        "  # recuperamos el valor más bajo de MSE\n",
        "  new_feature = np.argmin(per_feature_mse)\n",
        "  current_best_mse = per_feature_mse[new_feature]\n",
        "\n",
        "# imprimimos el arreglo de mejores features\n",
        "print('FINAL SET OF FEATURES: {}'.format(feature_names[selected_features]))\n",
        "print('IGNORED FEATURES: {}'.format(feature_names[np.logical_not(selected_features)]))"
      ],
      "execution_count": null,
      "outputs": [
        {
          "output_type": "stream",
          "text": [
            "New feature added: RM\n",
            "New set of features: ['RM']\n",
            "MSE: 51.23110384260224\n",
            "============================\n",
            "New feature added: CHAS\n",
            "New set of features: ['CHAS' 'RM']\n",
            "MSE: 46.75148230543749\n",
            "============================\n",
            "New feature added: AGE\n",
            "New set of features: ['CHAS' 'RM' 'AGE']\n",
            "MSE: 41.32904829035105\n",
            "============================\n",
            "FINAL SET OF FEATURES: ['CHAS' 'RM' 'AGE']\n",
            "IGNORED FEATURES: ['CRIM' 'ZN' 'INDUS' 'NOX' 'DIS' 'RAD' 'TAX' 'PTRATIO']\n"
          ],
          "name": "stdout"
        }
      ]
    },
    {
      "cell_type": "markdown",
      "metadata": {
        "id": "1_F1bAh7sK1u"
      },
      "source": [
        "### 9. Cross-validation\n",
        "\n",
        "Cuando la cantidad de datos es poca o simplemente cuando queremos tener un estimador más robusto de la performance de nuestro método, se recomienda evitar las particiones fijas en training, validation y test y recurrir a una estrategia diferente conocida como validación cruzada o [cross validation](https://en.wikipedia.org/wiki/Cross-validation_(statistics)).\n",
        "\n",
        "Para ilustrar esta estrategia, lo primero que haremos es descargar un nuevo data set, el [Pima Indians Diabetes Dataset](https://github.com/ignaciorlando/duia-ml-datasets/tree/master/PIMADataset). El mismo cuenta con datos y medidas clínicas de distintos pacientes, y una variable objetivo que indica a quiénes se les manifestará diabetes en 5 años. Esta variable toma dos valores: 0 (no se manifestará diabetes) y 1 (se manifestará). Se trata entonces de un problema de clasificación binaria en el que buscamos determinar la clase de un paciente dados sus datos y medidas clínicas."
      ]
    },
    {
      "cell_type": "code",
      "metadata": {
        "id": "PQY0z9KVtmfv",
        "colab": {
          "base_uri": "https://localhost:8080/"
        },
        "outputId": "e1dc0b65-019b-4216-ed74-281b480e66fa"
      },
      "source": [
        "# importamos el paquete para descargar archivos\n",
        "import wget\n",
        "from os import path\n",
        "\n",
        "# establecemos las características del data set\n",
        "pima_diabetes_dataset = dict()\n",
        "pima_diabetes_dataset['url'] = 'https://raw.githubusercontent.com/ignaciorlando/duia-ml-datasets/master/PIMADataset/pima-indians-diabetes.csv'\n",
        "pima_diabetes_dataset['extension'] = '.csv'\n",
        "pima_diabetes_dataset['filename'] = path.join(datasets_folder, 'pima_diabetes_dataset' + pima_diabetes_dataset['extension']) \n",
        "if not path.exists(pima_diabetes_dataset['filename']):  # descargar solamente si no existe\n",
        "  wget.download(pima_diabetes_dataset['url'], pima_diabetes_dataset['filename'])\n",
        "  print('Archivo descargado con éxito')\n",
        "else:\n",
        "  print('El archivo {} ya existe.'.format(pima_diabetes_dataset['filename']))"
      ],
      "execution_count": null,
      "outputs": [
        {
          "output_type": "stream",
          "text": [
            "El archivo /content/gdrive/My Drive/Colab Notebooks/DUIA/2021/Machine Learning/pima_diabetes_dataset.csv ya existe.\n"
          ],
          "name": "stdout"
        }
      ]
    },
    {
      "cell_type": "markdown",
      "metadata": {
        "id": "2j03jwmmvLFQ"
      },
      "source": [
        "Abriremos el archivo como hicimos la clase pasada:"
      ]
    },
    {
      "cell_type": "code",
      "metadata": {
        "id": "4U6Tq-VjvSeJ",
        "colab": {
          "base_uri": "https://localhost:8080/"
        },
        "outputId": "cee4ae22-7179-440f-ce09-f2193d878ba3"
      },
      "source": [
        "# abrimos el archivo de igual forma que antes, solo que indicando que el\n",
        "# delimitador de columnas es la coma\n",
        "raw_dataset = np.genfromtxt(pima_diabetes_dataset['filename'], delimiter=',')\n",
        "# verificamos el tamaño de la matriz que abrimos (filas x columnas)\n",
        "print('Dataset size: {}'.format(raw_dataset.shape))\n",
        "# imprimimos las primeras 5 filas para ver qué tipo de datos tenemos\n",
        "print('First 5 rows:')\n",
        "print(raw_dataset[0:4,:])"
      ],
      "execution_count": null,
      "outputs": [
        {
          "output_type": "stream",
          "text": [
            "Dataset size: (768, 9)\n",
            "First 5 rows:\n",
            "[[  6.    148.     72.     35.      0.     33.6     0.627  50.      1.   ]\n",
            " [  1.     85.     66.     29.      0.     26.6     0.351  31.      0.   ]\n",
            " [  8.    183.     64.      0.      0.     23.3     0.672  32.      1.   ]\n",
            " [  1.     89.     66.     23.     94.     28.1     0.167  21.      0.   ]]\n"
          ],
          "name": "stdout"
        }
      ]
    },
    {
      "cell_type": "markdown",
      "metadata": {
        "id": "12d15g_MvJBj"
      },
      "source": [
        "Las diferentes features involucradas son:\n",
        "\n",
        "- Plasma glucose concentration a 2 hours in an oral glucose tolerance test.\n",
        "- Diastolic blood pressure (mm Hg).\n",
        "- Triceps skinfold thickness (mm).\n",
        "- 2-Hour serum insulin (mu U/ml).\n",
        "- Body mass index (weight in kg/(height in m)^2).\n",
        "- Diabetes pedigree function.\n",
        "- Age (years).\n",
        "- Class variable (0 or 1).\n",
        "\n",
        "En principio no observamos ninguna feature que parezca indicar algún tipo de bias. Por ende, lo siguiente que tenemos que hacer es separar  la clase (variable objetivo) de las demás columnas (las features). Podemos hacer esto como la clase anterior:"
      ]
    },
    {
      "cell_type": "code",
      "metadata": {
        "id": "TGjgvfkavyK0",
        "colab": {
          "base_uri": "https://localhost:8080/"
        },
        "outputId": "8a37e285-d2a3-4ec8-e147-bee78b6fac29"
      },
      "source": [
        "# recuperamos únicamente las columnas que nos interesa mantener como features\n",
        "X = raw_dataset[:,0:8]\n",
        "# y armamos el arreglo de etiquetas\n",
        "y = raw_dataset[:,8]\n",
        "\n",
        "# chequeamos los tamaños de nuestros nuevos conjuntos\n",
        "print('X size: {}'.format(X.shape))\n",
        "print('y size: {}'.format(y.shape))\n",
        "# imprimimos las primeras 5 filas\n",
        "print('First 4 rows from the design matrix:')\n",
        "print(X[0:4,:])\n",
        "print('First 4 labels from the labels array:')\n",
        "print(y[0:4])"
      ],
      "execution_count": null,
      "outputs": [
        {
          "output_type": "stream",
          "text": [
            "X size: (768, 8)\n",
            "y size: (768,)\n",
            "First 4 rows from the design matrix:\n",
            "[[  6.    148.     72.     35.      0.     33.6     0.627  50.   ]\n",
            " [  1.     85.     66.     29.      0.     26.6     0.351  31.   ]\n",
            " [  8.    183.     64.      0.      0.     23.3     0.672  32.   ]\n",
            " [  1.     89.     66.     23.     94.     28.1     0.167  21.   ]]\n",
            "First 4 labels from the labels array:\n",
            "[1. 0. 1. 0.]\n"
          ],
          "name": "stdout"
        }
      ]
    },
    {
      "cell_type": "markdown",
      "metadata": {
        "id": "MqbTy46RxGYl"
      },
      "source": [
        "Si utilizáramos particiones fijas, ahora es el momento de dividir los datos en training, validation y test, y luego estandarizarlos. Utilizando cross-validation, la cosa cambia un poco. Vamos a usar como ejemplo para la evaluación el método de $k$-fold cross-validation, con $k=12$. Este proceso consiste en extraer $k$ particiones disjuntas (o folds) de los datos con $N / k$ muestras cada uno, que utilizaremos como múltiples test sets, y los restantes $N - (N / k)$ datos de cada fold serán divididos en conjuntos de entrenamiento y validación, respectivamente, que utilizaremos para entrenar y ajustar $k$ modelos. En nuestro ejemplo, tendremos 12 folds de test de 64 muestras cada uno, y $768 - 64 = 704$ muestras que tendremos que dividir en training y validation para entrenar y calibrar los modelos que evaluaremos sobre cada fold.\n",
        "\n",
        "![Fuente: http://qingkaikong.blogspot.com/2017/02/machine-learning-9-more-on-artificial.html](https://raw.githubusercontent.com/qingkaikong/blog/master/2017_05_More_on_applying_ANN/figures/figure_1.jpg)\n",
        "\n",
        "Lo primero que haremos entonces será construir los folds. Es importante tener en cuenta que los datos no están estandarizados, y que por ende necesitamos hacerlo antes de entrenar cualquier modelo. Para ello hay que tener en cuenta que los estadísticos que vamos a usar (media y desvío) van a tener que estimarse sobre los training sets de cada fold, y no sobre el conjunto de datos global.\n",
        "\n",
        "El siguiente código ejemplifica la construcción de los folds y la estandarización de los datos:"
      ]
    },
    {
      "cell_type": "code",
      "metadata": {
        "id": "kAlWGWfoxBjP",
        "colab": {
          "base_uri": "https://localhost:8080/"
        },
        "outputId": "0627f3fe-9924-41cc-d96d-c72e06506059"
      },
      "source": [
        "# determinamos la cantidad de folds\n",
        "k = 12\n",
        "# calculamos el tamaño de cada fold\n",
        "fold_size = X.shape[0] // k\n",
        "# y el de los conjuntos de training y validation\n",
        "training_set_size = round((X.shape[0] - k) * 0.9)\n",
        "\n",
        "# generamos una lista con los índices y la aleatorizamos\n",
        "idx = list(range(0,X.shape[0]))\n",
        "random.shuffle(idx)\n",
        "\n",
        "# construimos los folds\n",
        "start = 0             # inicializamos un iterador que marca el comienzo de cada fold\n",
        "k_fold_structure = [] # inicializamos la estructura donde los iremos guardando \n",
        "                      #(una lista de dicts() con cada k-fold)\n",
        "for i in range(0, k):\n",
        "  # \n",
        "  print('Building fold {}/{}'.format(i+1,k))\n",
        "  # tomamos las fold_size muestras que irán para test\n",
        "  X_test = X[idx[start:start+fold_size],:]\n",
        "  y_test = y[idx[start:start+fold_size]]\n",
        "  # recuperamos los índices de todas las demás muestras\n",
        "  if start == 0:\n",
        "    train_val_idx = idx[start+fold_size:]\n",
        "  elif (start + fold_size)==X.shape[0]:\n",
        "    train_val_idx = idx[0:start]\n",
        "  else:\n",
        "    train_val_idx = idx[0:start] + idx[start+fold_size:]\n",
        "  # la permutamos\n",
        "  random.shuffle(train_val_idx)\n",
        "  # tomamos el 90% para training y el restante 10% para validation\n",
        "  X_train = X[train_val_idx[0:training_set_size],:]\n",
        "  y_train = y[train_val_idx[0:training_set_size]]\n",
        "  X_val = X[train_val_idx[training_set_size:],:]\n",
        "  y_val = y[train_val_idx[training_set_size:]]\n",
        "  # calculamos la media y el desvío de los datos de entrenamiento\n",
        "  mu = np.mean(X_train, axis=0)\n",
        "  sigma = np.std(X_train, axis=0)\n",
        "  # estandarizamos los datos de training, validation y test\n",
        "  X_train = (X_train - mu) / sigma\n",
        "  X_val = (X_val - mu) / sigma\n",
        "  X_test = (X_test - mu) / sigma\n",
        "  # creamos el fold\n",
        "  fold = dict()\n",
        "  fold['X_train'] = X_train\n",
        "  fold['y_train'] = y_train\n",
        "  fold['X_val'] = X_val\n",
        "  fold['y_val'] = y_val\n",
        "  fold['X_test'] = X_test\n",
        "  fold['y_test'] = y_test\n",
        "  k_fold_structure.append(fold)\n"
      ],
      "execution_count": null,
      "outputs": [
        {
          "output_type": "stream",
          "text": [
            "Building fold 1/12\n",
            "Building fold 2/12\n",
            "Building fold 3/12\n",
            "Building fold 4/12\n",
            "Building fold 5/12\n",
            "Building fold 6/12\n",
            "Building fold 7/12\n",
            "Building fold 8/12\n",
            "Building fold 9/12\n",
            "Building fold 10/12\n",
            "Building fold 11/12\n",
            "Building fold 12/12\n"
          ],
          "name": "stdout"
        }
      ]
    },
    {
      "cell_type": "markdown",
      "metadata": {
        "id": "YtAv-c8YoaZD"
      },
      "source": [
        "Ahora que tenemos los folds construidos, podemos aplicar $k$-fold cross-validation. El proceso consiste en los siguientes pasos:\n",
        "\n",
        "* Por cada $k$ fold del dataset:\n",
        "1. Entrenar un modelo con una configuración determinada sobre los datos de entrenamiento del fold.\n",
        "2. Evaluar el modelo sobre los datos de validación del fold.\n",
        "3. Repetir (1) y (2) utilizando configuraciones alternativas.\n",
        "4. Seleccionar el modelo con la configuración que mejor haya performado sobre los datos de validación.\n",
        "5. Evaluar el modelo del punto (4) en el fold de test y registrar la performance.\n",
        "* Tras recorrer todos los folds, analizar estadísticamente los resultados obtenidos.\n",
        "\n",
        "Como en todo proceso de evaluación, es necesario contar con una métrica que nos permita chequear la performance del modelo. En este caso, dado que se trata de un problema de clasificación, podemos utilizar una métrica conocida como [Accuracy](https://en.wikipedia.org/wiki/Evaluation_of_binary_classifiers), que se calcula como:\n",
        "\n",
        "${\\mathit  {ACC}}=({\\mathit  {TP}}+{\\mathit  {TN}})/(P+N)$\n",
        "\n",
        "donde $\\mathit  {TP}$ es el número de true positives (valores clasificados como parte de la clase 1 y cuyas etiquetas reales son 1), $\\mathit  {TN}$ es el número de true negatives (valores clasificados como parte de la clase 0 y cuyas etiquetas reales son 0), $\\mathit  {P}$ es la cantidad total de muestras con etiquetas reales 1 y $\\mathit  {N}$ la cantidad total de muestras con etiquetas reales 0. También podemos expresar la ecuación en términos de operaciones de conjuntos:\n",
        "\n",
        "${\\mathit  {ACC}} = |y \\cap \\hat{y}| / |y|$\n",
        "\n",
        "donde $\\cap$ indica la intersección entre los conjuntos $y$ (etiquetas esperadas) y $\\hat{y}$ (etiquetas predichas por el modelo), y $| · |$ denota la cardinalidad (cantidad de elementos) de un conjunto. Esta métrica toma valores entre 0 y 1, siendo 0 cuando la intersección es vacía (la predicción no coincide en absoluto con las etiquetas esperadas) y 1 cuando la intersección es igual a $y$ (el modelo predijo todas las muestras correctamente).\n",
        "\n",
        "Con el siguiente código creamos una función que evalúa accuracy:"
      ]
    },
    {
      "cell_type": "code",
      "metadata": {
        "id": "xvjMfkTY0F2v"
      },
      "source": [
        "def accuracy(y, y_hat):\n",
        "  '''\n",
        "  Implementación de la métrica de Accuracy\n",
        "  '''\n",
        "\n",
        "  # calculamos el número de coincidencias\n",
        "  intersection = np.count_nonzero(y_hat == y)\n",
        "\n",
        "  return intersection / y.size\n"
      ],
      "execution_count": null,
      "outputs": []
    },
    {
      "cell_type": "markdown",
      "metadata": {
        "id": "7sMcouoN0GOL"
      },
      "source": [
        "Lo siguiente que nos falta es determinar qué modelo queremos probar. En este ejemplo emplearemos un clasificador binario conocido como [regresión logística (o logistic regression)](https://en.wikipedia.org/wiki/Logistic_regression), que veremos más adelante en la unidad de clasificación. Por lo pronto, basta con pensarlo como una caja negra que, dada una muestra, determina la probabilidad de que la misma pertenezca a la clase 1. Al igual que el modelo de regresión lineal, incluye un hiperparámetro $C$ que determina la influencia del regularizador en la función objetivo del clasificador durante el entrenamiento. En este caso $C = 1/\\lambda$ (o $1/\\alpha$, si usamos la notación que empleamos anteriormente para regresión lineal), con lo cual podemos interpretarlo como el inverso de la fuerza del regularizador. Así, cuanto más grande más se ignorará el término de regularización y menos se ignorará la función de error del clasificador.\n",
        "\n",
        "El hiperparámetro $C$ requiere un ajuste. De nuevo, utilizaremos valores $10^i$, con $i \\in \\{-5, -4, ..., 0, ..., 4, 5 \\}$. Para obtener el mejor valor posible, lo que haremos será utilizar los datos de validación de cada fold para cuantificar la performance de cada configuración, y seguiremos un proceso de grid search como hicimos anteriormente. Tengamos en cuenta que este proceso se repetirá mientras recorramos cada fold, y no una única vez como al utilizar particiones fijas. Esto incrementará indefectiblemente el costo computacional del entrenamiento.\n",
        "\n",
        "Pasamos, entonces, a aplicar $k$-fold cross-validation sobre nuestros $k=12$ folds, utilizando un modelo de regresión logística y la métrica de evaluación Accuracy."
      ]
    },
    {
      "cell_type": "code",
      "metadata": {
        "id": "mWxi40QtoZ0H",
        "colab": {
          "base_uri": "https://localhost:8080/"
        },
        "outputId": "0644ddbe-2f2b-4e7b-ef58-2702ce7814d4"
      },
      "source": [
        "from sklearn.linear_model import LogisticRegression\n",
        "\n",
        "# inicializamos un arreglo de valores de accuracy\n",
        "per_fold_accuracy = np.zeros(len(k_fold_structure))\n",
        "\n",
        "# inicializamos un arreglo de valores del parámetro C\n",
        "c_values_exponents = np.arange(-5,5,1)\n",
        "c_values = np.power(np.ones(c_values_exponents.shape) * 10, c_values_exponents)\n",
        "c_values_voting = np.zeros(c_values.shape)\n",
        "\n",
        "# vamos a iterar por cada fold\n",
        "for k in range(0,len(k_fold_structure)):\n",
        "\n",
        "  print('====================')\n",
        "  print('Evaluating {}/{} fold'.format(k+1, len(k_fold_structure)))\n",
        "  print('====================')\n",
        "\n",
        "  # recuperamos el k-ésimo fold\n",
        "  fold = k_fold_structure[k]\n",
        "  # inicializamos un arreglo de performances de validación\n",
        "  validation_performance = np.zeros(c_values.shape)\n",
        "\n",
        "  # evaluamos las múltiples configuraciones\n",
        "  i = 0\n",
        "  # iteramos por cada valor de C que queremos probar\n",
        "  for c in c_values:\n",
        "    # inicializamos el modelo con esa configuración\n",
        "    model = LogisticRegression(penalty='l2', C=c, solver='liblinear', fit_intercept=True)\n",
        "    # entrenamos sobre los datos de entrenamiento de este fold\n",
        "    model.fit(fold['X_train'], fold['y_train'])\n",
        "    # clasificamos los datos de validación\n",
        "    y_val_hat = model.predict(fold['X_val'])\n",
        "    # calculamos el accuracy de estos resultados\n",
        "    acc = accuracy(fold['y_val'], y_val_hat)\n",
        "    print('C = {}  ///  Accuracy = {}'.format(c, acc))\n",
        "    # lo registramos en nuestro arreglo de performances de validation\n",
        "    validation_performance[i] = acc\n",
        "    i = i+1\n",
        "\n",
        "  # buscamos el valor más alto de performance de validación\n",
        "  idx = np.argmax(validation_performance)\n",
        "  max_performance = validation_performance[idx]\n",
        "  # y el valor de C asociado\n",
        "  best_c_value = c_values[idx]\n",
        "  # incrementamos el voting para ese valor\n",
        "  c_values_voting[idx]+=1\n",
        "  # lo reportamos por pantalla\n",
        "  print('Best C value: {} (Acc = {})'.format(best_c_value, max_performance))\n",
        "\n",
        "  # evaluamos el modelo óptimo sobre los datos de test\n",
        "  model = LogisticRegression(penalty='l2', C=best_c_value, solver='liblinear', fit_intercept=True)\n",
        "  model.fit(fold['X_train'], fold['y_train'])\n",
        "  y_test_hat = model.predict(fold['X_test'])\n",
        "  # calculamos el accuracy de estos resultados\n",
        "  acc = accuracy(fold['y_test'], y_test_hat)\n",
        "  # y lo registramos en el arreglo de performances\n",
        "  per_fold_accuracy[k] = acc\n",
        "  print('')\n",
        "  print('Acc on the test set = {}'.format(acc))\n",
        "  print('')\n",
        "\n",
        "print('********************************')\n",
        "print('k-fold cross validation finished!')\n",
        "print('********************************')\n",
        "print('C values = 10^k: {}'.format(c_values_exponents))\n",
        "print('Voting for C values: {}'.format(c_values_voting))\n",
        "print('Average performance: Acc = {}'.format(np.mean(per_fold_accuracy)))\n",
        "print('Stdev performance: Acc = {}'.format(np.std(per_fold_accuracy)))\n",
        "\n",
        "l2_model_performance = per_fold_accuracy"
      ],
      "execution_count": null,
      "outputs": [
        {
          "output_type": "stream",
          "text": [
            "====================\n",
            "Evaluating 1/12 fold\n",
            "====================\n",
            "C = 1e-05  ///  Accuracy = 0.6666666666666666\n",
            "C = 0.0001  ///  Accuracy = 0.6666666666666666\n",
            "C = 0.001  ///  Accuracy = 0.7083333333333334\n",
            "C = 0.01  ///  Accuracy = 0.8333333333333334\n",
            "C = 0.1  ///  Accuracy = 0.75\n",
            "C = 1.0  ///  Accuracy = 0.75\n",
            "C = 10.0  ///  Accuracy = 0.75\n",
            "C = 100.0  ///  Accuracy = 0.75\n",
            "C = 1000.0  ///  Accuracy = 0.75\n",
            "C = 10000.0  ///  Accuracy = 0.75\n",
            "Best C value: 0.01 (Acc = 0.8333333333333334)\n",
            "\n",
            "Acc on the test set = 0.859375\n",
            "\n",
            "====================\n",
            "Evaluating 2/12 fold\n",
            "====================\n",
            "C = 1e-05  ///  Accuracy = 0.7083333333333334\n",
            "C = 0.0001  ///  Accuracy = 0.7083333333333334\n",
            "C = 0.001  ///  Accuracy = 0.7083333333333334\n",
            "C = 0.01  ///  Accuracy = 0.6666666666666666\n",
            "C = 0.1  ///  Accuracy = 0.6666666666666666\n",
            "C = 1.0  ///  Accuracy = 0.6666666666666666\n",
            "C = 10.0  ///  Accuracy = 0.6666666666666666\n",
            "C = 100.0  ///  Accuracy = 0.6666666666666666\n",
            "C = 1000.0  ///  Accuracy = 0.6666666666666666\n",
            "C = 10000.0  ///  Accuracy = 0.6666666666666666\n",
            "Best C value: 1e-05 (Acc = 0.7083333333333334)\n",
            "\n",
            "Acc on the test set = 0.8125\n",
            "\n",
            "====================\n",
            "Evaluating 3/12 fold\n",
            "====================\n",
            "C = 1e-05  ///  Accuracy = 0.5833333333333334\n",
            "C = 0.0001  ///  Accuracy = 0.5833333333333334\n",
            "C = 0.001  ///  Accuracy = 0.5833333333333334\n",
            "C = 0.01  ///  Accuracy = 0.5833333333333334\n",
            "C = 0.1  ///  Accuracy = 0.625\n",
            "C = 1.0  ///  Accuracy = 0.625\n",
            "C = 10.0  ///  Accuracy = 0.625\n",
            "C = 100.0  ///  Accuracy = 0.625\n",
            "C = 1000.0  ///  Accuracy = 0.625\n",
            "C = 10000.0  ///  Accuracy = 0.625\n",
            "Best C value: 0.1 (Acc = 0.625)\n",
            "\n",
            "Acc on the test set = 0.828125\n",
            "\n",
            "====================\n",
            "Evaluating 4/12 fold\n",
            "====================\n",
            "C = 1e-05  ///  Accuracy = 0.625\n",
            "C = 0.0001  ///  Accuracy = 0.625\n",
            "C = 0.001  ///  Accuracy = 0.625\n",
            "C = 0.01  ///  Accuracy = 0.5833333333333334\n",
            "C = 0.1  ///  Accuracy = 0.625\n",
            "C = 1.0  ///  Accuracy = 0.625\n",
            "C = 10.0  ///  Accuracy = 0.625\n",
            "C = 100.0  ///  Accuracy = 0.625\n",
            "C = 1000.0  ///  Accuracy = 0.625\n",
            "C = 10000.0  ///  Accuracy = 0.625\n",
            "Best C value: 1e-05 (Acc = 0.625)\n",
            "\n",
            "Acc on the test set = 0.828125\n",
            "\n",
            "====================\n",
            "Evaluating 5/12 fold\n",
            "====================\n",
            "C = 1e-05  ///  Accuracy = 0.7083333333333334\n",
            "C = 0.0001  ///  Accuracy = 0.7083333333333334\n",
            "C = 0.001  ///  Accuracy = 0.7083333333333334\n",
            "C = 0.01  ///  Accuracy = 0.7916666666666666\n",
            "C = 0.1  ///  Accuracy = 0.8333333333333334\n",
            "C = 1.0  ///  Accuracy = 0.8333333333333334\n",
            "C = 10.0  ///  Accuracy = 0.8333333333333334\n",
            "C = 100.0  ///  Accuracy = 0.8333333333333334\n",
            "C = 1000.0  ///  Accuracy = 0.8333333333333334\n",
            "C = 10000.0  ///  Accuracy = 0.8333333333333334\n",
            "Best C value: 0.1 (Acc = 0.8333333333333334)\n",
            "\n",
            "Acc on the test set = 0.84375\n",
            "\n",
            "====================\n",
            "Evaluating 6/12 fold\n",
            "====================\n",
            "C = 1e-05  ///  Accuracy = 0.7083333333333334\n",
            "C = 0.0001  ///  Accuracy = 0.7083333333333334\n",
            "C = 0.001  ///  Accuracy = 0.7083333333333334\n",
            "C = 0.01  ///  Accuracy = 0.7916666666666666\n",
            "C = 0.1  ///  Accuracy = 0.7916666666666666\n",
            "C = 1.0  ///  Accuracy = 0.7916666666666666\n",
            "C = 10.0  ///  Accuracy = 0.8333333333333334\n",
            "C = 100.0  ///  Accuracy = 0.8333333333333334\n",
            "C = 1000.0  ///  Accuracy = 0.8333333333333334\n",
            "C = 10000.0  ///  Accuracy = 0.8333333333333334\n",
            "Best C value: 10.0 (Acc = 0.8333333333333334)\n",
            "\n",
            "Acc on the test set = 0.828125\n",
            "\n",
            "====================\n",
            "Evaluating 7/12 fold\n",
            "====================\n",
            "C = 1e-05  ///  Accuracy = 0.8333333333333334\n",
            "C = 0.0001  ///  Accuracy = 0.8333333333333334\n",
            "C = 0.001  ///  Accuracy = 0.8333333333333334\n",
            "C = 0.01  ///  Accuracy = 0.8333333333333334\n",
            "C = 0.1  ///  Accuracy = 0.8333333333333334\n",
            "C = 1.0  ///  Accuracy = 0.8333333333333334\n",
            "C = 10.0  ///  Accuracy = 0.8333333333333334\n",
            "C = 100.0  ///  Accuracy = 0.8333333333333334\n",
            "C = 1000.0  ///  Accuracy = 0.8333333333333334\n",
            "C = 10000.0  ///  Accuracy = 0.8333333333333334\n",
            "Best C value: 1e-05 (Acc = 0.8333333333333334)\n",
            "\n",
            "Acc on the test set = 0.8125\n",
            "\n",
            "====================\n",
            "Evaluating 8/12 fold\n",
            "====================\n",
            "C = 1e-05  ///  Accuracy = 0.875\n",
            "C = 0.0001  ///  Accuracy = 0.8333333333333334\n",
            "C = 0.001  ///  Accuracy = 0.875\n",
            "C = 0.01  ///  Accuracy = 0.7916666666666666\n",
            "C = 0.1  ///  Accuracy = 0.7916666666666666\n",
            "C = 1.0  ///  Accuracy = 0.75\n",
            "C = 10.0  ///  Accuracy = 0.75\n",
            "C = 100.0  ///  Accuracy = 0.75\n",
            "C = 1000.0  ///  Accuracy = 0.75\n",
            "C = 10000.0  ///  Accuracy = 0.75\n",
            "Best C value: 1e-05 (Acc = 0.875)\n",
            "\n",
            "Acc on the test set = 0.8125\n",
            "\n",
            "====================\n",
            "Evaluating 9/12 fold\n",
            "====================\n",
            "C = 1e-05  ///  Accuracy = 0.7916666666666666\n",
            "C = 0.0001  ///  Accuracy = 0.7916666666666666\n",
            "C = 0.001  ///  Accuracy = 0.7916666666666666\n",
            "C = 0.01  ///  Accuracy = 0.7916666666666666\n",
            "C = 0.1  ///  Accuracy = 0.8333333333333334\n",
            "C = 1.0  ///  Accuracy = 0.8333333333333334\n",
            "C = 10.0  ///  Accuracy = 0.8333333333333334\n",
            "C = 100.0  ///  Accuracy = 0.8333333333333334\n",
            "C = 1000.0  ///  Accuracy = 0.8333333333333334\n",
            "C = 10000.0  ///  Accuracy = 0.8333333333333334\n",
            "Best C value: 0.1 (Acc = 0.8333333333333334)\n",
            "\n",
            "Acc on the test set = 0.84375\n",
            "\n",
            "====================\n",
            "Evaluating 10/12 fold\n",
            "====================\n",
            "C = 1e-05  ///  Accuracy = 0.75\n",
            "C = 0.0001  ///  Accuracy = 0.75\n",
            "C = 0.001  ///  Accuracy = 0.7916666666666666\n",
            "C = 0.01  ///  Accuracy = 0.75\n",
            "C = 0.1  ///  Accuracy = 0.75\n",
            "C = 1.0  ///  Accuracy = 0.75\n",
            "C = 10.0  ///  Accuracy = 0.75\n",
            "C = 100.0  ///  Accuracy = 0.75\n",
            "C = 1000.0  ///  Accuracy = 0.75\n",
            "C = 10000.0  ///  Accuracy = 0.75\n",
            "Best C value: 0.001 (Acc = 0.7916666666666666)\n",
            "\n",
            "Acc on the test set = 0.828125\n",
            "\n",
            "====================\n",
            "Evaluating 11/12 fold\n",
            "====================\n",
            "C = 1e-05  ///  Accuracy = 0.7916666666666666\n",
            "C = 0.0001  ///  Accuracy = 0.7916666666666666\n",
            "C = 0.001  ///  Accuracy = 0.7916666666666666\n",
            "C = 0.01  ///  Accuracy = 0.7083333333333334\n",
            "C = 0.1  ///  Accuracy = 0.7083333333333334\n",
            "C = 1.0  ///  Accuracy = 0.7083333333333334\n",
            "C = 10.0  ///  Accuracy = 0.7083333333333334\n",
            "C = 100.0  ///  Accuracy = 0.7083333333333334\n",
            "C = 1000.0  ///  Accuracy = 0.7083333333333334\n",
            "C = 10000.0  ///  Accuracy = 0.7083333333333334\n",
            "Best C value: 1e-05 (Acc = 0.7916666666666666)\n",
            "\n",
            "Acc on the test set = 0.828125\n",
            "\n",
            "====================\n",
            "Evaluating 12/12 fold\n",
            "====================\n",
            "C = 1e-05  ///  Accuracy = 0.75\n",
            "C = 0.0001  ///  Accuracy = 0.75\n",
            "C = 0.001  ///  Accuracy = 0.7916666666666666\n",
            "C = 0.01  ///  Accuracy = 0.7916666666666666\n",
            "C = 0.1  ///  Accuracy = 0.75\n",
            "C = 1.0  ///  Accuracy = 0.75\n",
            "C = 10.0  ///  Accuracy = 0.75\n",
            "C = 100.0  ///  Accuracy = 0.75\n",
            "C = 1000.0  ///  Accuracy = 0.75\n",
            "C = 10000.0  ///  Accuracy = 0.75\n",
            "Best C value: 0.001 (Acc = 0.7916666666666666)\n",
            "\n",
            "Acc on the test set = 0.828125\n",
            "\n",
            "********************************\n",
            "k-fold cross validation finished!\n",
            "********************************\n",
            "C values = 10^k: [-5 -4 -3 -2 -1  0  1  2  3  4]\n",
            "Voting for C values: [5. 0. 2. 1. 3. 0. 1. 0. 0. 0.]\n",
            "Average performance: Acc = 0.8294270833333334\n",
            "Stdev performance: Acc = 0.013468854730193488\n"
          ],
          "name": "stdout"
        }
      ]
    },
    {
      "cell_type": "markdown",
      "metadata": {
        "id": "jZms63H7zhwk"
      },
      "source": [
        "En este caso decidimos interpretar los datos en función de su media y desvío. La media nos dice en promedio qué performance tuvimos a lo largo de todos los folds. El desvío estándar, por otro lado, nos dice qué tan dispersos están esos valores de accuracy: si el desvío es alto, eso significa que para algunos folds la performance es alta y para otros es baja. Existen diversas causas para que ocurra eso: que los datos no sean representativos, que las clases estén desbalanceadas, que los hiperparámetros estudiados requieran mayor análisis o que el modelo no sea el apropiado. A medida que avancemos en las clases veremos cómo diganosticar estos problemas, y cómo resolverlos (o aliviarlos).\n",
        "\n",
        "Un último punto tiene que ver con cómo deployar un modelo entrenado y evaluado con cross-validation. ¿Qué modelo elegimos? ¿Entrenado en qué fold? ¿Con qué parámetros? En realidad, usualmente lo que se hace es reentrenar el modelo utilizando todo el conjunto de datos existente (no ya los folds, se considera a todo el dataset como una única partición de training). La configuración de hiperparámetros que se elige es la que que hayamos visto como más efectiva en la evaluación por folds, y lo obtenemos registrando el parámetro óptimo seleccionado en cada iteración (como hicimos en el arreglo ```c_values_voting``` en el código anterior) y quedándonos con el que haya sido seleccionado en la mayor cantidad de casos."
      ]
    },
    {
      "cell_type": "markdown",
      "metadata": {
        "id": "QE98x7WZAi0U"
      },
      "source": [
        "### 10. Comparación de modelos\n",
        "\n",
        "Supongamos ahora que queremos evaluar otro modelo alternativo, y estudiar cuál es los dos es mejor para una aplicación en concreto.\n",
        "El modelo que estudiaremos es el de regresión logística nuevamente, pero esta vez cambiaremos la estrategia de regularización: en lugar de usar L2 (que es la misma que se utiliza para ridge regression y que penaliza que los pesos se vayan muy altos), utilizaremos L1 (que tiene como efecto conocido intentar que la mayor cantidad posible de pesos sea igual a 0). Veremos más adelante el detalle de cada regularizador, pero ahora quedémonos con que el modelo entrenado con L1 es distinto al entrenado con L2, y queremos saber cuál es mejor.\n",
        "\n",
        "Para ello, podemos plantear el mismo proceso de k-fold cross-validation que usamos anteriormente. Registraremos la performance en un nuevo arreglo, que utilizaremos para comparar con el arreglo de performance del modelo con L2. El modelo tiene también a $C$ como único hiperparámetro, y su función es idéntica a la del regularizado con L2: determinar el trade-off entre regularización y error de entrenamiento.\n",
        "\n",
        "Ejecutemos esta secuencia para cuantificar la performance del modelo con L1."
      ]
    },
    {
      "cell_type": "code",
      "metadata": {
        "id": "yK4mki1WCcJF",
        "colab": {
          "base_uri": "https://localhost:8080/"
        },
        "outputId": "46e6af5f-fcdf-40a6-8997-033d571d0b9c"
      },
      "source": [
        "from sklearn.linear_model import LogisticRegression\n",
        "\n",
        "# inicializamos un arreglo de valores de accuracy\n",
        "per_fold_accuracy = np.zeros(len(k_fold_structure))\n",
        "\n",
        "# inicializamos un arreglo de valores del parámetro C\n",
        "c_values_exponents = np.arange(-5,5,1)\n",
        "c_values = np.power(np.ones(c_values_exponents.shape) * 10, c_values_exponents)\n",
        "c_values_voting = np.zeros(c_values.shape)\n",
        "\n",
        "# vamos a iterar por cada fold\n",
        "for k in range(0,len(k_fold_structure)):\n",
        "\n",
        "  print('====================')\n",
        "  print('Evaluating {}/{} fold'.format(k+1, len(k_fold_structure)))\n",
        "  print('====================')\n",
        "\n",
        "  # recuperamos el k-ésimo fold\n",
        "  fold = k_fold_structure[k]\n",
        "  # inicializamos un arreglo de performances de validación\n",
        "  validation_performance = np.zeros(c_values.shape)\n",
        "\n",
        "  # evaluamos las múltiples configuraciones\n",
        "  i = 0\n",
        "  # iteramos por cada valor de C que queremos probar\n",
        "  for c in c_values:\n",
        "    # inicializamos el modelo con esa configuración\n",
        "    model = LogisticRegression(penalty='l1', C=c, solver='liblinear', fit_intercept=True)\n",
        "    # entrenamos sobre los datos de entrenamiento de este fold\n",
        "    model.fit(fold['X_train'], fold['y_train'])\n",
        "    # clasificamos los datos de validación\n",
        "    y_val_hat = model.predict(fold['X_val'])\n",
        "    # calculamos el accuracy de estos resultados\n",
        "    acc = accuracy(fold['y_val'], y_val_hat)\n",
        "    print(f'C = {c:2.2e}  ///  Accuracy = {acc:4.3}')\n",
        "    # lo registramos en nuestro arreglo de performances de validation\n",
        "    validation_performance[i] = acc\n",
        "    i = i+1\n",
        "\n",
        "  # buscamos el valor más alto de performance de validación\n",
        "  idx = np.argmax(validation_performance)\n",
        "  max_performance = validation_performance[idx]\n",
        "  # y el valor de C asociado\n",
        "  best_c_value = c_values[idx]\n",
        "  # incrementamos el voting para ese valor\n",
        "  c_values_voting[idx]+=1\n",
        "  # lo reportamos por pantalla\n",
        "  print('Best C value: {} (Acc = {})'.format(best_c_value, max_performance))\n",
        "\n",
        "  # evaluamos el modelo óptimo sobre los datos de test\n",
        "  model = LogisticRegression(penalty='l1', C=best_c_value, solver='liblinear', fit_intercept=True)\n",
        "  model.fit(fold['X_train'], fold['y_train'])\n",
        "  y_test_hat = model.predict(fold['X_test'])\n",
        "  # calculamos el accuracy de estos resultados\n",
        "  acc = accuracy(fold['y_test'], y_test_hat)\n",
        "  # y lo registramos en el arreglo de performances\n",
        "  per_fold_accuracy[k] = acc\n",
        "  print('')\n",
        "  print('Acc on the test set = {}'.format(acc))\n",
        "  print('')\n",
        "  print('')\n",
        "\n",
        "print('********************************')\n",
        "print('k-fold cross validation finished!')\n",
        "print('********************************')\n",
        "print('Voting for C values: {}'.format(c_values_voting))\n",
        "print('Average performance: Acc = {}'.format(np.mean(per_fold_accuracy)))\n",
        "print('Stdev performance: Acc = {}'.format(np.std(per_fold_accuracy)))\n",
        "\n",
        "l1_model_performance = per_fold_accuracy"
      ],
      "execution_count": null,
      "outputs": [
        {
          "output_type": "stream",
          "text": [
            "====================\n",
            "Evaluating 1/12 fold\n",
            "====================\n",
            "C = 1.00e-05  ///  Accuracy = 0.542\n",
            "C = 1.00e-04  ///  Accuracy = 0.542\n",
            "C = 1.00e-03  ///  Accuracy = 0.542\n",
            "C = 1.00e-02  ///  Accuracy = 0.667\n",
            "C = 1.00e-01  ///  Accuracy = 0.708\n",
            "C = 1.00e+00  ///  Accuracy = 0.75\n",
            "C = 1.00e+01  ///  Accuracy = 0.75\n",
            "C = 1.00e+02  ///  Accuracy = 0.75\n",
            "C = 1.00e+03  ///  Accuracy = 0.75\n",
            "C = 1.00e+04  ///  Accuracy = 0.75\n",
            "Best C value: 1.0 (Acc = 0.75)\n",
            "\n",
            "Acc on the test set = 0.828125\n",
            "\n",
            "\n",
            "====================\n",
            "Evaluating 2/12 fold\n",
            "====================\n",
            "C = 1.00e-05  ///  Accuracy = 0.583\n",
            "C = 1.00e-04  ///  Accuracy = 0.583\n",
            "C = 1.00e-03  ///  Accuracy = 0.583\n",
            "C = 1.00e-02  ///  Accuracy = 0.542\n",
            "C = 1.00e-01  ///  Accuracy = 0.667\n",
            "C = 1.00e+00  ///  Accuracy = 0.667\n",
            "C = 1.00e+01  ///  Accuracy = 0.667\n",
            "C = 1.00e+02  ///  Accuracy = 0.667\n",
            "C = 1.00e+03  ///  Accuracy = 0.667\n",
            "C = 1.00e+04  ///  Accuracy = 0.667\n",
            "Best C value: 0.1 (Acc = 0.6666666666666666)\n",
            "\n",
            "Acc on the test set = 0.828125\n",
            "\n",
            "\n",
            "====================\n",
            "Evaluating 3/12 fold\n",
            "====================\n",
            "C = 1.00e-05  ///  Accuracy = 0.625\n",
            "C = 1.00e-04  ///  Accuracy = 0.625\n",
            "C = 1.00e-03  ///  Accuracy = 0.625\n",
            "C = 1.00e-02  ///  Accuracy = 0.583\n",
            "C = 1.00e-01  ///  Accuracy = 0.583\n",
            "C = 1.00e+00  ///  Accuracy = 0.625\n",
            "C = 1.00e+01  ///  Accuracy = 0.625\n",
            "C = 1.00e+02  ///  Accuracy = 0.625\n",
            "C = 1.00e+03  ///  Accuracy = 0.625\n",
            "C = 1.00e+04  ///  Accuracy = 0.625\n",
            "Best C value: 1e-05 (Acc = 0.625)\n",
            "\n",
            "Acc on the test set = 0.640625\n",
            "\n",
            "\n",
            "====================\n",
            "Evaluating 4/12 fold\n",
            "====================\n",
            "C = 1.00e-05  ///  Accuracy = 0.542\n",
            "C = 1.00e-04  ///  Accuracy = 0.542\n",
            "C = 1.00e-03  ///  Accuracy = 0.542\n",
            "C = 1.00e-02  ///  Accuracy = 0.625\n",
            "C = 1.00e-01  ///  Accuracy = 0.583\n",
            "C = 1.00e+00  ///  Accuracy = 0.625\n",
            "C = 1.00e+01  ///  Accuracy = 0.625\n",
            "C = 1.00e+02  ///  Accuracy = 0.625\n",
            "C = 1.00e+03  ///  Accuracy = 0.625\n",
            "C = 1.00e+04  ///  Accuracy = 0.625\n",
            "Best C value: 0.01 (Acc = 0.625)\n",
            "\n",
            "Acc on the test set = 0.796875\n",
            "\n",
            "\n",
            "====================\n",
            "Evaluating 5/12 fold\n",
            "====================\n",
            "C = 1.00e-05  ///  Accuracy = 0.708\n",
            "C = 1.00e-04  ///  Accuracy = 0.708\n",
            "C = 1.00e-03  ///  Accuracy = 0.708\n",
            "C = 1.00e-02  ///  Accuracy = 0.625\n",
            "C = 1.00e-01  ///  Accuracy = 0.792\n",
            "C = 1.00e+00  ///  Accuracy = 0.833\n",
            "C = 1.00e+01  ///  Accuracy = 0.833\n",
            "C = 1.00e+02  ///  Accuracy = 0.833\n",
            "C = 1.00e+03  ///  Accuracy = 0.833\n",
            "C = 1.00e+04  ///  Accuracy = 0.833\n",
            "Best C value: 1.0 (Acc = 0.8333333333333334)\n",
            "\n",
            "Acc on the test set = 0.84375\n",
            "\n",
            "\n",
            "====================\n",
            "Evaluating 6/12 fold\n",
            "====================\n",
            "C = 1.00e-05  ///  Accuracy = 0.667\n",
            "C = 1.00e-04  ///  Accuracy = 0.667\n",
            "C = 1.00e-03  ///  Accuracy = 0.667\n",
            "C = 1.00e-02  ///  Accuracy = 0.792\n",
            "C = 1.00e-01  ///  Accuracy = 0.792\n",
            "C = 1.00e+00  ///  Accuracy = 0.792\n",
            "C = 1.00e+01  ///  Accuracy = 0.833\n",
            "C = 1.00e+02  ///  Accuracy = 0.833\n",
            "C = 1.00e+03  ///  Accuracy = 0.833\n",
            "C = 1.00e+04  ///  Accuracy = 0.833\n",
            "Best C value: 10.0 (Acc = 0.8333333333333334)\n",
            "\n",
            "Acc on the test set = 0.828125\n",
            "\n",
            "\n",
            "====================\n",
            "Evaluating 7/12 fold\n",
            "====================\n",
            "C = 1.00e-05  ///  Accuracy = 0.708\n",
            "C = 1.00e-04  ///  Accuracy = 0.708\n",
            "C = 1.00e-03  ///  Accuracy = 0.708\n",
            "C = 1.00e-02  ///  Accuracy = 0.708\n",
            "C = 1.00e-01  ///  Accuracy = 0.833\n",
            "C = 1.00e+00  ///  Accuracy = 0.833\n",
            "C = 1.00e+01  ///  Accuracy = 0.833\n",
            "C = 1.00e+02  ///  Accuracy = 0.833\n",
            "C = 1.00e+03  ///  Accuracy = 0.833\n",
            "C = 1.00e+04  ///  Accuracy = 0.833\n",
            "Best C value: 0.1 (Acc = 0.8333333333333334)\n",
            "\n",
            "Acc on the test set = 0.828125\n",
            "\n",
            "\n",
            "====================\n",
            "Evaluating 8/12 fold\n",
            "====================\n",
            "C = 1.00e-05  ///  Accuracy = 0.625\n",
            "C = 1.00e-04  ///  Accuracy = 0.625\n",
            "C = 1.00e-03  ///  Accuracy = 0.625\n",
            "C = 1.00e-02  ///  Accuracy = 0.833\n",
            "C = 1.00e-01  ///  Accuracy = 0.833\n",
            "C = 1.00e+00  ///  Accuracy = 0.792\n",
            "C = 1.00e+01  ///  Accuracy = 0.75\n",
            "C = 1.00e+02  ///  Accuracy = 0.75\n",
            "C = 1.00e+03  ///  Accuracy = 0.75\n",
            "C = 1.00e+04  ///  Accuracy = 0.75\n",
            "Best C value: 0.01 (Acc = 0.8333333333333334)\n",
            "\n",
            "Acc on the test set = 0.796875\n",
            "\n",
            "\n",
            "====================\n",
            "Evaluating 9/12 fold\n",
            "====================\n",
            "C = 1.00e-05  ///  Accuracy = 0.583\n",
            "C = 1.00e-04  ///  Accuracy = 0.583\n",
            "C = 1.00e-03  ///  Accuracy = 0.583\n",
            "C = 1.00e-02  ///  Accuracy = 0.792\n",
            "C = 1.00e-01  ///  Accuracy = 0.792\n",
            "C = 1.00e+00  ///  Accuracy = 0.833\n",
            "C = 1.00e+01  ///  Accuracy = 0.833\n",
            "C = 1.00e+02  ///  Accuracy = 0.833\n",
            "C = 1.00e+03  ///  Accuracy = 0.833\n",
            "C = 1.00e+04  ///  Accuracy = 0.833\n",
            "Best C value: 1.0 (Acc = 0.8333333333333334)\n",
            "\n",
            "Acc on the test set = 0.84375\n",
            "\n",
            "\n",
            "====================\n",
            "Evaluating 10/12 fold\n",
            "====================\n",
            "C = 1.00e-05  ///  Accuracy = 0.667\n",
            "C = 1.00e-04  ///  Accuracy = 0.667\n",
            "C = 1.00e-03  ///  Accuracy = 0.667\n",
            "C = 1.00e-02  ///  Accuracy = 0.708\n",
            "C = 1.00e-01  ///  Accuracy = 0.792\n",
            "C = 1.00e+00  ///  Accuracy = 0.75\n",
            "C = 1.00e+01  ///  Accuracy = 0.75\n",
            "C = 1.00e+02  ///  Accuracy = 0.75\n",
            "C = 1.00e+03  ///  Accuracy = 0.75\n",
            "C = 1.00e+04  ///  Accuracy = 0.75\n",
            "Best C value: 0.1 (Acc = 0.7916666666666666)\n",
            "\n",
            "Acc on the test set = 0.828125\n",
            "\n",
            "\n",
            "====================\n",
            "Evaluating 11/12 fold\n",
            "====================\n",
            "C = 1.00e-05  ///  Accuracy = 0.542\n",
            "C = 1.00e-04  ///  Accuracy = 0.542\n",
            "C = 1.00e-03  ///  Accuracy = 0.542\n",
            "C = 1.00e-02  ///  Accuracy = 0.708\n",
            "C = 1.00e-01  ///  Accuracy = 0.708\n",
            "C = 1.00e+00  ///  Accuracy = 0.708\n",
            "C = 1.00e+01  ///  Accuracy = 0.708\n",
            "C = 1.00e+02  ///  Accuracy = 0.708\n",
            "C = 1.00e+03  ///  Accuracy = 0.708\n",
            "C = 1.00e+04  ///  Accuracy = 0.708\n",
            "Best C value: 0.01 (Acc = 0.7083333333333334)\n",
            "\n",
            "Acc on the test set = 0.796875\n",
            "\n",
            "\n",
            "====================\n",
            "Evaluating 12/12 fold\n",
            "====================\n",
            "C = 1.00e-05  ///  Accuracy = 0.667\n",
            "C = 1.00e-04  ///  Accuracy = 0.667\n",
            "C = 1.00e-03  ///  Accuracy = 0.667\n",
            "C = 1.00e-02  ///  Accuracy = 0.792\n",
            "C = 1.00e-01  ///  Accuracy = 0.833\n",
            "C = 1.00e+00  ///  Accuracy = 0.75\n",
            "C = 1.00e+01  ///  Accuracy = 0.75\n",
            "C = 1.00e+02  ///  Accuracy = 0.75\n",
            "C = 1.00e+03  ///  Accuracy = 0.75\n",
            "C = 1.00e+04  ///  Accuracy = 0.75\n",
            "Best C value: 0.1 (Acc = 0.8333333333333334)\n",
            "\n",
            "Acc on the test set = 0.828125\n",
            "\n",
            "\n",
            "********************************\n",
            "k-fold cross validation finished!\n",
            "********************************\n",
            "Voting for C values: [1. 0. 0. 3. 4. 3. 1. 0. 0. 0.]\n",
            "Average performance: Acc = 0.8072916666666666\n",
            "Stdev performance: Acc = 0.052730356071136936\n"
          ],
          "name": "stdout"
        }
      ]
    },
    {
      "cell_type": "markdown",
      "metadata": {
        "id": "zCCdMTH1pVTo"
      },
      "source": [
        "Podemos comparar las medias y desvíos de cada modelo para decidir cuál es el mejor:"
      ]
    },
    {
      "cell_type": "code",
      "metadata": {
        "id": "8qBAFptvpgFp",
        "colab": {
          "base_uri": "https://localhost:8080/"
        },
        "outputId": "cd04e63c-f34b-44fc-d727-a34d56f5f78b"
      },
      "source": [
        "print('Mean +- standard deviation performance of logistic regression classifiers:')\n",
        "print('with L2 regularization: {:05.4f} +- {:05.4f}'.format(np.mean(l2_model_performance),\n",
        "                                                            np.std(l2_model_performance)))\n",
        "print('with L1 regularization: {:05.4f} +- {:05.4f}'.format(np.mean(l1_model_performance),\n",
        "                                                            np.std(l1_model_performance)))"
      ],
      "execution_count": null,
      "outputs": [
        {
          "output_type": "stream",
          "text": [
            "Mean +- standard deviation performance of logistic regression classifiers:\n",
            "with L2 regularization: 0.8294 +- 0.0135\n",
            "with L1 regularization: 0.8073 +- 0.0527\n"
          ],
          "name": "stdout"
        }
      ]
    },
    {
      "cell_type": "markdown",
      "metadata": {
        "id": "9WKiZqJ8pa2L"
      },
      "source": [
        "El accuracy es mejor cuanto más cercano a 1 es, con lo cual podemos decidir qué modelo es el mejor comparando las medias y quedarnos con el que mayor valor tenga. \n",
        "\n",
        "El desvío estándar nos permite validar cuál de los modelos tiene resultados más variables entre folds. Al momento de elegir el mejor entre dos modelos con idéntica media, solemos escoger aquel que menos variabilidad entre folds tuvo.\n",
        "\n",
        "Para terminar, otra forma de comparar modelos es utilizando [boxplots](https://en.wikipedia.org/wiki/Box_plot). En estos gráficos utilizamos una caja por modelo. Cada caja representar la distribución de valores de performance del algoritmo, de forma tal que el borde inferior de la caja representa el cuartil 1, la línea central (naranja) la mediana o cuartil 2 y la línea superior el cuartil 3. Además, se incorporan \"bigotes\" (whiskers) cuyos bordes inferiores / superiores representan el mínimo y máximo valor del conjunto (cuartil 0 y cuartil 4). Finalmente, algunas librerías agregan círculos para representar outliers (valores extremadamente altos o bajos que no se condicen con la distribución general de los datos). El mejor modelo según un boxplot es aquel cuya caja está más arriba (si la métrica de performance es mejor cuando es alta, como en este caso) y con los bigotes y las cajas lo más pequeñas posibles (menos variabilidad en los datos). \n",
        "\n",
        "El siguiente código grafica la performance de cada modelo utilizando boxplots: "
      ]
    },
    {
      "cell_type": "code",
      "metadata": {
        "id": "d5Dna3MVrQ5F",
        "colab": {
          "base_uri": "https://localhost:8080/"
        },
        "outputId": "100890c1-d958-42bc-b09d-c39e0ec6f689"
      },
      "source": [
        "import matplotlib.pyplot as plt\n",
        "\n",
        "plt.boxplot(np.stack((l2_model_performance, l1_model_performance),axis=1),\n",
        "            labels=('L2', 'L1'))\n",
        "plt.xlabel('Models')\n",
        "plt.ylabel('Accuracy')\n",
        "plt.grid(True)\n",
        "plt.show()"
      ],
      "execution_count": null,
      "outputs": [
        {
          "output_type": "display_data",
          "data": {
            "image/png": "[encoded data removed]",
            "text/plain": [
              "<Figure size 432x288 with 1 Axes>"
            ]
          },
          "metadata": {
            "tags": [],
            "needs_background": "light"
          }
        }
      ]
    },
    {
      "cell_type": "markdown",
      "metadata": {
        "id": "hwIjUXEouXVU"
      },
      "source": [
        "Con esto ya tenemos todas las herramientas para, dado un conjunto de datos, poder decidir qué catálogo de soluciones aplicar, cómo entrenar las soluciones usando particiones fijas o cross-validation, cómo ajustar los modelos a partir de datos de validación y cómo determinar cuál es el mejor modelo.\n",
        "\n",
        "Lo que sigue es empezar a ver uno por uno los modelos de machine learning para cada tipo de problema, y sus ventajas y desventajas. Pero eso toca en la próxima clase :)"
      ]
    },
    {
      "cell_type": "markdown",
      "metadata": {
        "id": "xCap945CoVye"
      },
      "source": [
        "### Bonus Track: Algunas instrucciones Python para ser más eficientes\n",
        "\n",
        "Hasta aquí hemos implementado todos los algoritmos manualmente, para poder entender cómo es que funcionan. La buena noticia es que no vamos a necesitar hacer eso permanentemente. Por suerte, Python nos ofrece varias librerías que nos permiten resolver estas mismas cosas más eficientemente.\n",
        "\n",
        "El paquete [model_selection de sklearn](https://scikit-learn.org/stable/model_selection.html) ofrece rutinas para hacer cross-validation, calibrar hiperparámetros, métricas para distintos tipos de problemas y para hacer representaciones visuales. Si tienen un rato, chequeen cómo funcionan!"
      ]
    }
  ]
}