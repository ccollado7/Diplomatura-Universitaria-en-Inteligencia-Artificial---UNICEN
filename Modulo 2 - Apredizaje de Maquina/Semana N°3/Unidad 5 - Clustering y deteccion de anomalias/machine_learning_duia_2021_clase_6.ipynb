{
  "nbformat": 4,
  "nbformat_minor": 0,
  "metadata": {
    "colab": {
      "name": "machine-learning-duia-2021-clase-6.ipynb",
      "provenance": [],
      "collapsed_sections": []
    },
    "kernelspec": {
      "name": "python3",
      "display_name": "Python 3"
    }
  },
  "cells": [
    {
      "cell_type": "markdown",
      "metadata": {
        "id": "iIBc3CbSkKB2"
      },
      "source": [
        "# Aprendizaje de Máquinas (Machine Learning)\n",
        "## Clase 6: Detección de anomalías y clustering\n"
      ]
    },
    {
      "cell_type": "markdown",
      "metadata": {
        "id": "n8dEEHnmkVRF"
      },
      "source": [
        "### 1. Configuración del ambiente\n",
        "\n",
        "Antes que empezar a trabajar, vamos a preparar el ambiente.\n",
        "Para ello:\n",
        "* Montamos Google Drive para guardar allí los archivos que descarguemos. En la consola nos va a aparecer una solicitud para hacer clic en una URL, loggearnos con nuestra cuenta de Google y colocar un código de autorización en una casilla."
      ]
    },
    {
      "cell_type": "code",
      "metadata": {
        "id": "AnM10tYUkG4D",
        "colab": {
          "base_uri": "https://localhost:8080/"
        },
        "outputId": "319ae82a-dd23-4be3-d7f9-063aa6de247b"
      },
      "source": [
        "# montar la unidad de google drive\n",
        "from google.colab import drive\n",
        "drive.mount('/content/gdrive/')\n",
        "\n",
        "# crear las carpetas necesarias\n",
        "from os import makedirs, path\n",
        "datasets_folder = '/content/gdrive/My Drive/Colab Notebooks/DUIA/2021/Machine Learning/'\n",
        "makedirs(datasets_folder, exist_ok=True)\n",
        "\n",
        "# importo numpy\n",
        "import numpy as np\n",
        "\n",
        "# importamos pandas y seaborn\n",
        "import seaborn as sn\n",
        "import pandas as pd\n",
        "\n",
        "# importo una librería para utilizar valores aleatorios\n",
        "import random\n",
        "\n",
        "# importamos pickle para poder ir guardando los distintos modelos\n",
        "import pickle\n",
        "\n",
        "# importo matplotlib\n",
        "import matplotlib.pyplot as plt\n",
        "\n",
        "# instalamos el paquete para descargar archivos\n",
        "!pip install wget"
      ],
      "execution_count": null,
      "outputs": [
        {
          "output_type": "stream",
          "text": [
            "Mounted at /content/gdrive/\n",
            "Collecting wget\n",
            "  Downloading https://files.pythonhosted.org/packages/47/6a/62e288da7bcda82b935ff0c6cfe542970f04e29c756b0e147251b2fb251f/wget-3.2.zip\n",
            "Building wheels for collected packages: wget\n",
            "  Building wheel for wget (setup.py) ... \u001b[?25l\u001b[?25hdone\n",
            "  Created wheel for wget: filename=wget-3.2-cp37-none-any.whl size=9681 sha256=c04b68230dabfcbc6e45853dc23dd894fe40100f569608fa1ebeb582e301740f\n",
            "  Stored in directory: /root/.cache/pip/wheels/40/15/30/7d8f7cea2902b4db79e3fea550d7d7b85ecb27ef992b618f3f\n",
            "Successfully built wget\n",
            "Installing collected packages: wget\n",
            "Successfully installed wget-3.2\n"
          ],
          "name": "stdout"
        }
      ]
    },
    {
      "cell_type": "markdown",
      "metadata": {
        "id": "AFTm4MIBmtP4"
      },
      "source": [
        "### 2. Detección de anomalías\n",
        "\n",
        "Los algoritmos de detección de anomalías nos permiten detectar muestras que son ajenas a una distribución estándar de los datos. En general, este tipo de problemas se divide en dos grupos:\n",
        "\n",
        "* **Anomaly Detection:** tomo un conjunto de datos y alimento un algoritmo para que detecte cuáles de esos puntos corresponden a puntos anómalos, que no respetan la distribución general de los datos. Es un problema que se resuelve con métodos no-supervisados, y que requiere que estudiemos los resultados para identificar qué son esas anomalías. Un ejemplo: dadas las características genéticas de una cierta población de ratones, identificar cuáles de ellos presentan patrones alterados.\n",
        "\n",
        "* **Novelty Detection:** tomo un conjunto de datos que sé que corresponden a una distribución estándar, y descubro una forma de caracterizarlos. Luego, dado un dato nuevo, determino si corresponde a esa distribución o si se trata de una muestra nueva (*novelty*). Son también no-supervisados, aunque eventualmente podríamos alimentar al algoritmo con muestras *contaminadas* (que sabemos que no corresponden a la distribución \"no-anormal\" de los datos). Otro ejemplo: dadas las características genéticas de una población de ratones de una ciudad X, identificar potenciales desvíos en una población sometida a radiación.\n",
        "\n",
        "En las próximas secciones vamos a trabajar el problema de novelty detection, que es el más parecido a lo que pueden encontrarse eventualmente en sus trabajos.\n",
        "\n",
        "![](https://www.researchgate.net/profile/Mustafa_Aljumaily2/publication/321682378/figure/download/fig1/AS:569320483033088@1512747988945/Figure-1-anomaly-detection.png)\n",
        "\n",
        "\n"
      ]
    },
    {
      "cell_type": "markdown",
      "metadata": {
        "id": "1r2_Z78rmyex"
      },
      "source": [
        "#### 2.1. Preparamos los datos\n",
        "\n",
        "Vamos a trabajar el [Lymphography Data Set](https://archive.ics.uci.edu/ml/datasets/Lymphography), que fue ajustado por esta gente para trabajar problemas de [detección de anomalías](http://odds.cs.stonybrook.edu/lympho/). Los datos describen características de una serie de tumores, algunos de los cuales corresponden a hallazgos normales, metástasis, fibrosis o linfomas malignos.\n",
        "\n",
        "Originalmente concebido para trabajar problemas de clasificación multiclase, hay 2 de las clases que tienen muy poca frecuencia, con lo cual nosotros intentaremos detectarlas como si se tratara de una única clase anómala.\n",
        "\n",
        "Lo primero que haremos será descargar los datos y mostrar sus estadísticas, como hacemos normalmente."
      ]
    },
    {
      "cell_type": "code",
      "metadata": {
        "id": "AU9-EcAPX_ty",
        "colab": {
          "base_uri": "https://localhost:8080/"
        },
        "outputId": "3328ca70-f118-4739-888d-95108c5542a4"
      },
      "source": [
        "import wget\n",
        "from scipy.io import loadmat\n",
        "from sklearn.model_selection import train_test_split\n",
        "\n",
        "# inicializamos un diccionario donde guardaremos el dataset\n",
        "dataset = dict()\n",
        "dataset['url'] = 'https://raw.githubusercontent.com/ignaciorlando/duia-ml-datasets/master/Lympho/lympho.mat'\n",
        "dataset['extension'] = '.mat'\n",
        "dataset['filename'] = path.join(datasets_folder, 'lympho' + dataset['extension']) \n",
        "if not path.exists(dataset['filename']):  # descargar solamente si no existe\n",
        "  wget.download(dataset['url'], dataset['filename'])\n",
        "else:\n",
        "  print('El archivo {} ya existe.'.format(dataset['filename']))\n",
        "# asignamos las etiquetas de las variables objetivo\n",
        "dataset['target_names'] = ['inlier', 'outlier']\n",
        "# asignamos los nombres de las features\n",
        "feature_names = []\n",
        "feature_names.append('lymphatics: normal, arched, deformed, displaced')\n",
        "feature_names.append('block of affere: no, yes')\n",
        "feature_names.append('bl. of lymph. c: no, yes')\n",
        "feature_names.append('bl. of lymph. s: no, yes')\n",
        "feature_names.append('by pass: no, yes')\n",
        "feature_names.append('extravasates: no, yes')\n",
        "feature_names.append('regeneration of: no, yes')\n",
        "feature_names.append('early uptake in: no, yes')\n",
        "feature_names.append('lym.nodes dimin: 0-3')\n",
        "feature_names.append('lym.nodes enlar: 1-4')\n",
        "feature_names.append('changes in lym.: bean, oval, round')\n",
        "feature_names.append('defect in node: no, lacunar, lac. marginal, lac. central')\n",
        "feature_names.append('changes in node: no, lacunar, lac. margin, lac. central')\n",
        "feature_names.append('changes in stru: no, grainy, drop-like, coarse, diluted, reticular, stripped, faint')\n",
        "feature_names.append('special forms: no, chalices, vesicles')\n",
        "feature_names.append('dislocation of: no, yes')\n",
        "feature_names.append('exclusion of no: no, yes')\n",
        "feature_names.append('no. of nodes in: 0-9, 10-19, 20-29, 30-39, 40-49, 50-59, 60-69, >=70')\n",
        "dataset['feature_names'] = feature_names\n",
        "\n",
        "# vamos a leer un archivo .MAT\n",
        "mat_file = loadmat(dataset['filename'])\n",
        "# extraemos la matriz de diseño\n",
        "X = mat_file['X']\n",
        "# y recuperamos las etiquetas\n",
        "y = np.squeeze(mat_file['y'])\n",
        "\n",
        "# imprimimos las estadísticas\n",
        "print('======================')\n",
        "print('ORIGINAL LYMPHO ANOMALY DATASET')\n",
        "print('Num samples: {}'.format(X.shape[0]))\n",
        "print('Num features: {}'.format(X.shape[1]))\n",
        "#print('Feature names: {}'.format(dataset['feature_labels']))\n",
        "print('Classes: {}'.format(np.unique(y)))\n",
        "print('Target names: {}'.format(dataset['target_names']))\n",
        "print('% samples per class')\n",
        "for i in range(len(np.unique(y))):\n",
        "  print('--> {} : {:2.2f}%'.format(i, np.sum(y==i)/y.size*100))\n",
        "print('======================')\n"
      ],
      "execution_count": null,
      "outputs": [
        {
          "output_type": "stream",
          "text": [
            "======================\n",
            "ORIGINAL LYMPHO ANOMALY DATASET\n",
            "Num samples: 148\n",
            "Num features: 18\n",
            "Classes: [0. 1.]\n",
            "Target names: ['inlier', 'outlier']\n",
            "% samples per class\n",
            "--> 0 : 95.95%\n",
            "--> 1 : 4.05%\n",
            "======================\n"
          ],
          "name": "stdout"
        }
      ]
    },
    {
      "cell_type": "markdown",
      "metadata": {
        "id": "5ZDXNvEBVhLQ"
      },
      "source": [
        "Vemos claramente que la clase que tenemos identificada como anómala corresponde a solamente un 4% del total de muestras de las que disponemos.\n",
        "\n",
        "Lo próximo es preparar los datos para trabajar en un problema de detección de anomalías. Esto requiere que separemos un conjunto de datos de entrenamiento formado únicamente por muestras no-anómalas, y que utilicemos las (pocas) muestras anómalas para validar/testear la efectividad de nuestros algoritmos.\n",
        "\n",
        "A continuación les mostramos una forma de hacerlo:"
      ]
    },
    {
      "cell_type": "code",
      "metadata": {
        "id": "MoD9kQUjUtCm",
        "colab": {
          "base_uri": "https://localhost:8080/"
        },
        "outputId": "3d3465fd-fae3-460e-aeb7-218efdc277aa"
      },
      "source": [
        "# primero separamos las muestras no anómalas de las anómalas\n",
        "X_non_anomalous = X[y==0,:]\n",
        "X_anomalous = X[y==1,:]\n",
        "\n",
        "# a partir de las muestras no anómalas, realizamos una partición en la que nos\n",
        "# quedamos con un 20% de ellas para testear y el restante 80% lo repartiremos\n",
        "# luego para training y test\n",
        "X_train_val_non_anomalous, X_test_non_anomalous, y_train_val_non_anomalous, y_test_non_anomalous = train_test_split(X_non_anomalous, y[y==0], test_size=0.2, random_state=10, shuffle=True)\n",
        "\n",
        "# repartimos la mitad de las muestras anómalas para testear y validar \n",
        "# las configuraciones del algoritmo\n",
        "X_val_anomalous, X_test_anomalous, y_val_anomalous, y_test_anomalous = train_test_split(X_anomalous, y[y==1], test_size=0.5, random_state=10, shuffle=True, stratify=y[y==1])\n",
        "\n",
        "# le damos bastante más datos no anómalos a los de entrenamiento\n",
        "X_train, X_val_non_anomalous, y_train, y_val_non_anomalous = train_test_split(X_train_val_non_anomalous, y_train_val_non_anomalous, test_size=0.1, random_state=10, shuffle=True)\n",
        "\n",
        "# armamos las particiones\n",
        "dataset['X_train'] = X_train\n",
        "dataset['y_train'] = y_train\n",
        "dataset['X_val'] = np.concatenate((X_val_non_anomalous, X_val_anomalous), axis=0)\n",
        "dataset['y_val'] = np.concatenate((y_val_non_anomalous, y_val_anomalous), axis=0)\n",
        "dataset['X_test'] = np.concatenate((X_test_non_anomalous, X_test_anomalous), axis=0)\n",
        "dataset['y_test'] = np.concatenate((y_test_non_anomalous, y_test_anomalous), axis=0)\n",
        "\n",
        "# imprimimos las proporciones resultantes\n",
        "print('TRAINING SET')\n",
        "print(dataset['X_train'].shape)\n",
        "print('Label proportion:')\n",
        "for i in range(len(np.unique(dataset['y_train']))):\n",
        "  print('--> {} : {:2.2f}% ({})'.format(i, np.sum(dataset['y_train']==i)/dataset['y_train'].size*100, np.sum(dataset['y_train']==i)))\n",
        "print('----------')\n",
        "\n",
        "print('VALIDATION SET')\n",
        "print(dataset['X_val'].shape)\n",
        "print('Label proportion:')\n",
        "for i in range(len(np.unique(dataset['y_val']))):\n",
        "  print('--> {} : {:2.2f}% ({})'.format(i, np.sum(dataset['y_val']==i)/dataset['y_val'].size*100, np.sum(dataset['y_val']==i)))\n",
        "print('----------')\n",
        "\n",
        "print('TEST SET')\n",
        "print(dataset['X_test'].shape)\n",
        "print('Label proportion:')\n",
        "for i in range(len(np.unique(dataset['y_val']))):\n",
        "  print('--> {} : {:2.2f}% ({})'.format(i, np.sum(dataset['y_test']==i)/dataset['y_test'].size*100, np.sum(dataset['y_test']==i)))\n",
        "print('----------')\n",
        "\n",
        "# calculamos media y desvío\n",
        "dataset['mu'] = np.mean(dataset['X_train'], axis=0)\n",
        "dataset['sigma'] = np.std(dataset['X_train'], axis=0)\n",
        "\n",
        "# estandarizamos los datos\n",
        "dataset['X_train'] = (dataset['X_train'] - dataset['mu']) / dataset['sigma']\n",
        "dataset['X_val'] = (dataset['X_val'] - dataset['mu']) / dataset['sigma']\n",
        "dataset['X_test'] = (dataset['X_test'] - dataset['mu']) / dataset['sigma']\n"
      ],
      "execution_count": null,
      "outputs": [
        {
          "output_type": "stream",
          "text": [
            "TRAINING SET\n",
            "(101, 18)\n",
            "Label proportion:\n",
            "--> 0 : 100.00% (101)\n",
            "----------\n",
            "VALIDATION SET\n",
            "(15, 18)\n",
            "Label proportion:\n",
            "--> 0 : 80.00% (12)\n",
            "--> 1 : 20.00% (3)\n",
            "----------\n",
            "TEST SET\n",
            "(32, 18)\n",
            "Label proportion:\n",
            "--> 0 : 90.62% (29)\n",
            "--> 1 : 9.38% (3)\n",
            "----------\n"
          ],
          "name": "stdout"
        }
      ]
    },
    {
      "cell_type": "markdown",
      "metadata": {
        "id": "U_1Sgq8rbLAK"
      },
      "source": [
        "Fíjense que nuestros datos de entrenamiento incluyen solamente muestras no-anómalas, y que tenemos solamente 6 muestras anómalas en total para repartir entre el conjunto de validación y el de test. Idealmente nos gustaría tener más, pero este es un claro ejemplo de cómo conseguir esas muestras puede ser muy difícil, y cómo debemos aprovecharlas al máximo para estudiar una solución al problema."
      ]
    },
    {
      "cell_type": "markdown",
      "metadata": {
        "id": "4385FSVbzuRj"
      },
      "source": [
        "#### 2.2 Univariate Gaussian Density Estimation\n",
        "\n",
        "Este método es quizá el más simple con el que empezar a trabajar problemas de detección de anomalías. Se trata de una idea estadística más que de un algoritmo en sí. Partiendo de la premisa de contar con un conjunto de entrenamiento no-anómalo representativo de la realidad \"normal\" y cuyas features tengan un comportamiento gaussiano, podríamos estimar los parámetros de su distribución individual (media $\\mu$ y desvío $\\sigma$) para construir las funciones de densidad probabilística (o PDF en inglés, Probability Density Function) inherentes a cada feature. Luego, dada una muestra $\\mathbf{x} = (x_1, x_2, ..., x_d)$, podemos obtener la probabilidad de pertenecer a la distribución de muestras no-anómalas como $p(\\mathbf{x}; \\mu, \\sigma) = \\prod_{i=1}^d p(x_i; \\mu_i, \\sigma_i)$. Cada una de estas probabilidades individuales estará dada por la PDF de cada feature, parametrizada por su media y desvío.\n",
        "\n",
        "Primero escribiremos funciones para estimar los parámetros de la distribución gaussiana de cada feature, y luego para estimar los valores de probabilidad asociados a cada muestra."
      ]
    },
    {
      "cell_type": "code",
      "metadata": {
        "id": "8-mFTQwbzu9a"
      },
      "source": [
        "def estimate_univariate_gaussian_parameters(dataset):\n",
        "  '''\n",
        "  Estimamos los valores de media y desvío para cada una de las features de\n",
        "  nuestro conjunto de datos\n",
        "  '''\n",
        "  # estimamos la media\n",
        "  mu = np.mean(dataset, axis=0)\n",
        "  # estimamos el desvío\n",
        "  sigma = np.std(dataset, axis=0)\n",
        "  \n",
        "  return mu, sigma\n",
        "\n",
        "\n",
        "from scipy.stats import multivariate_normal\n",
        "\n",
        "def univariate_gaussian(dataset, mu, sigma):\n",
        "  '''\n",
        "  Obtenemos los valores de probabilidad asociados a cada muestra, según los\n",
        "  parámetros de una distribución gaussiana dada\n",
        "  '''\n",
        "  # inicializamos la matriz donde guardaremos los valores de probabilidad\n",
        "  probs = np.zeros(dataset.shape)\n",
        "  # iteramos por cada columna del dataset\n",
        "  for i in range(dataset.shape[1]):\n",
        "    # obtenemos la distribución de probabilidades\n",
        "    pdf = multivariate_normal(mean=mu[i], cov=sigma[i])\n",
        "    # la aplicamos sobre los datos\n",
        "    probs[:,i] = pdf.pdf(dataset[:,i])\n",
        "  # ahora tenemos que multiplicar todos los valores entre sí para obtener la\n",
        "  # probabilidad de cada muestra\n",
        "  probs = np.prod(probs, axis=1)\n",
        "  \n",
        "  return probs"
      ],
      "execution_count": null,
      "outputs": []
    },
    {
      "cell_type": "markdown",
      "metadata": {
        "id": "6UygmsuMc-gy"
      },
      "source": [
        "Estas funciones nos permitirán obtener la media y desvío de cada feature según los datos de entrenamiento, y luego utilizarlas para predecir los valores de probabilidad asociados a cada muestra.\n",
        "\n",
        "En tiempo de test, detectaremos muestras anómalas chequeando si la probabilidad de pertenencia $p(\\mathbf{x};\\mu,\\sigma)$ es menor a un cierto $\\epsilon$. Este valor no nos queda otra que estimarlo a partir de las (pocas) muestras anómalas que tenemos en nuestros datos de validación.\n",
        "\n",
        "A continuación les proponemos una forma de buscar ese valor. Primero estimaremos los parámetros de las distribuciones gaussianas univariadas a partir de los datos de entrenamiento. Luego, estudiaremos los valores de probabilidad de esas mismas muestras y encontraremos el valor de probabilidad más bajo (entendiendo que cualquier muestra anómala debería ser menos probable que ese valor puntual). Finalmente, proponemos una serie de valores para $\\epsilon$ más chicos que ese, y hacemos la búsqueda del mejor de ello sobre los datos de entrenamiento, chequeando valores de F1-score, precision y recall."
      ]
    },
    {
      "cell_type": "code",
      "metadata": {
        "id": "oFtWn1VB3Alz",
        "colab": {
          "base_uri": "https://localhost:8080/",
          "height": 1000
        },
        "outputId": "47aaf1a1-c601-48e9-e4ad-28ff79cf6f0d"
      },
      "source": [
        "from sklearn.metrics import f1_score, recall_score, precision_score\n",
        "\n",
        "print('Univariate Density Estimation')\n",
        "print('=============================')\n",
        "\n",
        "# estimamos los parámetros de las distribuciones univariadas de cada feature\n",
        "mus, sigmas = estimate_univariate_gaussian_parameters(dataset['X_train'])\n",
        "# obtenemos las predicciones de valores de probabilidad sobre esos mismos datos\n",
        "probs_train = univariate_gaussian(dataset['X_train'], mus, sigmas)\n",
        "# buscamos los valores mínimos y máximos de probabilidades\n",
        "min_train_prob = np.min(probs_train)\n",
        "max_train_prob = np.max(probs_train)\n",
        "print('')\n",
        "print('Max prob. value in training set: {}'.format(max_train_prob))\n",
        "print('Min prob. value in training set: {}'.format(min_train_prob))\n",
        "print('')\n",
        "\n",
        "# los rangos de búsqueda para los epsilons irán desde un valor muy chico hacia\n",
        "# uno más grande\n",
        "epsilons = min_train_prob * (10.0**np.arange(-10, 10, 1))\n",
        "# inicializamos las listas de valores de F1-score, precision y recall\n",
        "f1_scores = []\n",
        "precisions = []\n",
        "recalls = []\n",
        "\n",
        "# predecimos las probabilidades sobre los datos de validación\n",
        "probs_val = univariate_gaussian(dataset['X_val'], mus, sigmas)\n",
        "\n",
        "# para cada valor de epsilon\n",
        "for eps in epsilons:\n",
        "\n",
        "  # obtenemos las muestars menores al valor epsilon dado\n",
        "  predictions = probs_val < eps\n",
        "  # calculamos las métricas\n",
        "  f1_scores.append(f1_score(dataset['y_val'], predictions))\n",
        "  precisions.append(precision_score(dataset['y_val'], predictions))\n",
        "  recalls.append(recall_score(dataset['y_val'], predictions))\n",
        "  # imprimimos por pantalla los resultados\n",
        "  print('Epsilon: {}'.format(eps))\n",
        "  print('-----------')\n",
        "  print('F1-score: {:.4f}'.format(f1_scores[-1]))\n",
        "  print('Precision: {:.4f}'.format(precisions[-1]))\n",
        "  print('Recall: {:.4f}'.format(recalls[-1]))\n",
        "  print('-----------')\n",
        "\n",
        "# generamos un gráfico mostrando la evolución de todos los valores a la vez\n",
        "plt.semilogx(epsilons, np.array(f1_scores), 'o-')\n",
        "plt.semilogx(epsilons, np.array(precisions), 'o-')\n",
        "plt.semilogx(epsilons, np.array(recalls), 'o-')\n",
        "plt.vlines(min_train_prob, 0, 1)\n",
        "plt.legend(['F1-score', 'Precision', 'Recall', 'Min train prob'])\n",
        "plt.xlabel('$\\epsilon$')\n",
        "plt.ylabel('AD performance')\n",
        "plt.grid(True)\n",
        "plt.title('Univ. Density Estimation - $\\epsilon$ search on val set')\n",
        "plt.show()"
      ],
      "execution_count": null,
      "outputs": [
        {
          "output_type": "stream",
          "text": [
            "Univariate Density Estimation\n",
            "=============================\n",
            "\n",
            "Max prob. value in training set: 2.5207931246824897e-09\n",
            "Min prob. value in training set: 6.848106088879167e-24\n",
            "\n",
            "Epsilon: 6.848106088879167e-34\n",
            "-----------\n",
            "F1-score: 0.8000\n",
            "Precision: 1.0000\n",
            "Recall: 0.6667\n",
            "-----------\n",
            "Epsilon: 6.848106088879167e-33\n",
            "-----------\n",
            "F1-score: 0.8000\n",
            "Precision: 1.0000\n",
            "Recall: 0.6667\n",
            "-----------\n",
            "Epsilon: 6.848106088879167e-32\n",
            "-----------\n",
            "F1-score: 0.8000\n",
            "Precision: 1.0000\n",
            "Recall: 0.6667\n",
            "-----------\n",
            "Epsilon: 6.848106088879166e-31\n",
            "-----------\n",
            "F1-score: 0.8000\n",
            "Precision: 1.0000\n",
            "Recall: 0.6667\n",
            "-----------\n",
            "Epsilon: 6.848106088879167e-30\n",
            "-----------\n",
            "F1-score: 0.8000\n",
            "Precision: 1.0000\n",
            "Recall: 0.6667\n",
            "-----------\n",
            "Epsilon: 6.848106088879168e-29\n",
            "-----------\n",
            "F1-score: 0.8000\n",
            "Precision: 1.0000\n",
            "Recall: 0.6667\n",
            "-----------\n",
            "Epsilon: 6.8481060888791675e-28\n",
            "-----------\n",
            "F1-score: 0.8000\n",
            "Precision: 1.0000\n",
            "Recall: 0.6667\n",
            "-----------\n",
            "Epsilon: 6.848106088879167e-27\n",
            "-----------\n",
            "F1-score: 0.8000\n",
            "Precision: 1.0000\n",
            "Recall: 0.6667\n",
            "-----------\n",
            "Epsilon: 6.848106088879166e-26\n",
            "-----------\n",
            "F1-score: 0.8000\n",
            "Precision: 1.0000\n",
            "Recall: 0.6667\n",
            "-----------\n",
            "Epsilon: 6.848106088879168e-25\n",
            "-----------\n",
            "F1-score: 0.8000\n",
            "Precision: 1.0000\n",
            "Recall: 0.6667\n",
            "-----------\n",
            "Epsilon: 6.848106088879167e-24\n",
            "-----------\n",
            "F1-score: 0.8000\n",
            "Precision: 1.0000\n",
            "Recall: 0.6667\n",
            "-----------\n",
            "Epsilon: 6.848106088879167e-23\n",
            "-----------\n",
            "F1-score: 0.8000\n",
            "Precision: 1.0000\n",
            "Recall: 0.6667\n",
            "-----------\n",
            "Epsilon: 6.848106088879167e-22\n",
            "-----------\n",
            "F1-score: 0.8000\n",
            "Precision: 1.0000\n",
            "Recall: 0.6667\n",
            "-----------\n",
            "Epsilon: 6.848106088879167e-21\n",
            "-----------\n",
            "F1-score: 0.8000\n",
            "Precision: 1.0000\n",
            "Recall: 0.6667\n",
            "-----------\n",
            "Epsilon: 6.848106088879167e-20\n",
            "-----------\n",
            "F1-score: 0.8000\n",
            "Precision: 1.0000\n",
            "Recall: 0.6667\n",
            "-----------\n",
            "Epsilon: 6.848106088879167e-19\n",
            "-----------\n",
            "F1-score: 0.8000\n",
            "Precision: 1.0000\n",
            "Recall: 0.6667\n",
            "-----------\n",
            "Epsilon: 6.848106088879167e-18\n",
            "-----------\n",
            "F1-score: 1.0000\n",
            "Precision: 1.0000\n",
            "Recall: 1.0000\n",
            "-----------\n",
            "Epsilon: 6.848106088879167e-17\n",
            "-----------\n",
            "F1-score: 1.0000\n",
            "Precision: 1.0000\n",
            "Recall: 1.0000\n",
            "-----------\n",
            "Epsilon: 6.848106088879167e-16\n",
            "-----------\n",
            "F1-score: 1.0000\n",
            "Precision: 1.0000\n",
            "Recall: 1.0000\n",
            "-----------\n",
            "Epsilon: 6.8481060888791666e-15\n",
            "-----------\n",
            "F1-score: 1.0000\n",
            "Precision: 1.0000\n",
            "Recall: 1.0000\n",
            "-----------\n"
          ],
          "name": "stdout"
        },
        {
          "output_type": "display_data",
          "data": {
            "image/png": "[encoded data removed]",
            "text/plain": [
              "<Figure size 432x288 with 1 Axes>"
            ]
          },
          "metadata": {
            "tags": [],
            "needs_background": "light"
          }
        }
      ]
    },
    {
      "cell_type": "markdown",
      "metadata": {
        "id": "KUQybjUPgFql"
      },
      "source": [
        "Vemos que en todos los casos los valores de $\\epsilon$ me aseguran un recall modesto (se me está escapando 1 de las 3 muestras anómalas), pero que no cometo ningún falso positivo. Necesito exceder el valor mínimo que tenía en mis datos de entrenamiento para encontrar algunas anomalías que me faltan y lograr subir el F1-score. Sin embargo, esto es un bardo, porque si recibimos muestras parecidas a las de entrenamiento (que sabemos que no son anómalas), las clasificaríamos como anómalas, y eso está mal!"
      ]
    },
    {
      "cell_type": "markdown",
      "metadata": {
        "id": "6OSGHuiZgVwx"
      },
      "source": [
        "#### 2.3. Multivariate Gaussian Density Estimation\n",
        "\n",
        "El modelo univariado que estuvimos usando hasta ahora no tiene en cuenta las correlaciones entre las diferentes features. En consecuencia, analiza las características de manera independiente, ignorando si las relaciones entre unas y otras se vinculan con la \"normalidad\" de los datos.\n",
        "\n",
        "El modelo multivariado incorpora una matriz de covarianza $\\Sigma$ que reemplaza a los desvíos estándar $\\sigma_i$ en la definición de la PDF y que cuantifica la interrelación entre las características. Incorporando un modelo multivariado podemos hacer un mejor uso del espacio de características, y en algunos problemas esto puede ser muy beneficioso.\n",
        "\n",
        "Veamos entonces qué necesitamos cambiar respecto al ejemplo anterior apra poder utilizar este enfoque sobre los datos que tenemos. Primero necesitamos redefinir el proceso de estimación de parámetros (ya que ahora necesitamos estimar la matriz de covarianza en lugar de los desvíos). Luego, el proceso de estimación de las probabilidades también variará, ya que ahora alimentaremos directamente a la PDF con vectores de características, y no con cada una individualmente."
      ]
    },
    {
      "cell_type": "code",
      "metadata": {
        "id": "WZDnhoK4g3Z9"
      },
      "source": [
        "def estimate_multivariate_gaussian_parameters(dataset):\n",
        "  '''\n",
        "  Estimamos los valores de medias y matriz de covarianza de nuestro dataset\n",
        "  '''\n",
        "  # estimamos la media\n",
        "  mu = np.mean(dataset, axis=0)\n",
        "  # estimamos la matriz de covarianza\n",
        "  sigma = np.cov(dataset.T)\n",
        "\n",
        "  print(sigma)\n",
        "  \n",
        "  return mu, sigma\n",
        "\n",
        "\n",
        "def multivariate_gaussian(dataset, mu, cov_matrix):\n",
        "  '''\n",
        "  Obtenemos los valores de probabilidad asociados a cada muestra, en este caso\n",
        "  según los valores de media dados y una matriz de covarianza\n",
        "  '''\n",
        "\n",
        "  # obtenemos la distribución de probabilidades\n",
        "  pdf = multivariate_normal(mean=mu, cov=cov_matrix)\n",
        "  # la aplicamos sobre los datos\n",
        "  probs = pdf.pdf(dataset)\n",
        "  \n",
        "  return probs"
      ],
      "execution_count": null,
      "outputs": []
    },
    {
      "cell_type": "markdown",
      "metadata": {
        "id": "uuGhQLmXH5uM"
      },
      "source": [
        "El proceso de estimación de $\\epsilon$ es equivalente al que veníamos utilizando anteriormente:"
      ]
    },
    {
      "cell_type": "code",
      "metadata": {
        "id": "MM9aCN8zJZEz",
        "colab": {
          "base_uri": "https://localhost:8080/",
          "height": 1000
        },
        "outputId": "6ac35edf-73a1-49c8-ddab-83d070f970a0"
      },
      "source": [
        "from sklearn.metrics import f1_score, recall_score, precision_score\n",
        "\n",
        "print('Multivariate Density Estimation')\n",
        "print('=============================')\n",
        "\n",
        "# estimamos los parámetros de las distribuciones univariadas de cada feature\n",
        "mus, sigmas = estimate_multivariate_gaussian_parameters(dataset['X_train'])\n",
        "print(sigmas.shape)\n",
        "#print(sigmas)\n",
        "# obtenemos las predicciones de valores de probabilidad sobre esos mismos datos\n",
        "probs_train = multivariate_gaussian(dataset['X_train'], mus, sigmas)\n",
        "# buscamos los valores mínimos y máximos de probabilidades\n",
        "min_train_prob = np.min(probs_train)\n",
        "max_train_prob = np.max(probs_train)\n",
        "print('')\n",
        "print('Max prob. value in training set: {}'.format(max_train_prob))\n",
        "print('Min prob. value in training set: {}'.format(min_train_prob))\n",
        "print('')\n",
        "\n",
        "# los rangos de búsqueda para los epsilons irán desde un valor muy chico hacia\n",
        "# uno más grande\n",
        "epsilons = min_train_prob * (10.0**np.arange(-10, 10, 1))\n",
        "# inicializamos las listas de valores de F1-score, precision y recall\n",
        "f1_scores = []\n",
        "precisions = []\n",
        "recalls = []\n",
        "\n",
        "# predecimos las probabilidades sobre los datos de validación\n",
        "probs_val = multivariate_gaussian(dataset['X_val'], mus, sigmas)\n",
        "\n",
        "# para cada valor de epsilon\n",
        "for eps in epsilons:\n",
        "\n",
        "  # obtenemos las muestars menores al valor epsilon dado\n",
        "  predictions = probs_val < eps\n",
        "  # calculamos las métricas\n",
        "  f1_scores.append(f1_score(dataset['y_val'], predictions))\n",
        "  precisions.append(precision_score(dataset['y_val'], predictions))\n",
        "  recalls.append(recall_score(dataset['y_val'], predictions))\n",
        "  # imprimimos por pantalla los resultados\n",
        "  print('Epsilon: {}'.format(eps))\n",
        "  print('-----------')\n",
        "  print('F1-score: {:.4f}'.format(f1_scores[-1]))\n",
        "  print('Precision: {:.4f}'.format(precisions[-1]))\n",
        "  print('Recall: {:.4f}'.format(recalls[-1]))\n",
        "  print('-----------')\n",
        "\n",
        "# generamos un gráfico mostrando la evolución de todos los valores a la vez\n",
        "plt.semilogx(epsilons, np.array(f1_scores), 'o-')\n",
        "plt.semilogx(epsilons, np.array(precisions), 'o-')\n",
        "plt.semilogx(epsilons, np.array(recalls), 'o-')\n",
        "plt.vlines(min_train_prob, 0, 1)\n",
        "plt.legend(['F1-score', 'Precision', 'Recall', 'Min train prob'])\n",
        "plt.xlabel('$\\epsilon$')\n",
        "plt.ylabel('AD performance')\n",
        "plt.grid(True)\n",
        "plt.title('Multivariate Density Estimation - $\\epsilon$ search on val set')\n",
        "plt.show()"
      ],
      "execution_count": null,
      "outputs": [
        {
          "output_type": "stream",
          "text": [
            "Multivariate Density Estimation\n",
            "=============================\n",
            "[[ 1.01       -0.08003739 -0.04143057  0.06337493  0.18851217  0.15920223\n",
            "   0.01367489  0.16811044  0.1339608   0.12444154  0.06903432  0.08688713\n",
            "   0.04407203 -0.25985634  0.07192861  0.24361452 -0.01347476  0.07006299]\n",
            " [-0.08003739  1.01        0.40189033  0.16954376  0.36627909  0.33793078\n",
            "   0.0027884  -0.00700758 -0.17366107 -0.0465972   0.27881229  0.06391474\n",
            "   0.09407806 -0.10559383 -0.01008116 -0.08710646  0.00341922 -0.10831427]\n",
            " [-0.04143057  0.40189033  1.01        0.42608439  0.573598    0.3886538\n",
            "   0.24292956 -0.01761092 -0.06910169  0.04017681 -0.03854769  0.09870507\n",
            "   0.12950705  0.01106701 -0.0253352   0.11108829  0.13257649  0.1611788 ]\n",
            " [ 0.06337493  0.16954376  0.42608439  1.01        0.33954667  0.20714077\n",
            "   0.18957013 -0.00117633 -0.02915163  0.10984146  0.09288868  0.12653733\n",
            "   0.18243784  0.14283749  0.09801095  0.13967412  0.1082339   0.34367019]\n",
            " [ 0.18851217  0.36627909  0.573598    0.33954667  1.01        0.48057129\n",
            "   0.2774312   0.0357681  -0.08671312  0.0767319   0.13486573  0.19868525\n",
            "   0.14926186 -0.10844592  0.09539295  0.22119837  0.1577218   0.21799334]\n",
            " [ 0.15920223  0.33793078  0.3886538   0.20714077  0.48057129  1.01\n",
            "   0.04838453  0.11012495 -0.14214078  0.26511071  0.31809071  0.2297819\n",
            "   0.13736318 -0.15375669  0.18620624  0.20814242  0.23700273  0.2412806 ]\n",
            " [ 0.01367489  0.0027884   0.24292956  0.18957013  0.2774312   0.04838453\n",
            "   1.01        0.02538255 -0.03276183  0.18011667 -0.05098735  0.05853998\n",
            "   0.17292563  0.01436433  0.12615606  0.05788329  0.1216378   0.31913128]\n",
            " [ 0.16811044 -0.00700758 -0.01761092 -0.00117633  0.0357681   0.11012495\n",
            "   0.02538255  1.01       -0.08398122  0.43037518  0.0835103   0.02109619\n",
            "   0.14635237  0.08362116  0.32660491  0.25296615  0.25566867  0.38759062]\n",
            " [ 0.1339608  -0.17366107 -0.06910169 -0.02915163 -0.08671312 -0.14214078\n",
            "  -0.03276183 -0.08398122  1.01       -0.27607303 -0.00410623  0.00171975\n",
            "  -0.17223751  0.18426283 -0.08093883 -0.05651854  0.07575592  0.14556788]\n",
            " [ 0.12444154 -0.0465972   0.04017681  0.10984146  0.0767319   0.26511071\n",
            "   0.18011667  0.43037518 -0.27607303  1.01        0.25224084  0.32075489\n",
            "   0.20378099  0.11988857  0.44156733  0.26580532  0.25064759  0.49257185]\n",
            " [ 0.06903432  0.27881229 -0.03854769  0.09288868  0.13486573  0.31809071\n",
            "  -0.05098735  0.0835103  -0.00410623  0.25224084  1.01        0.26833707\n",
            "   0.16653759 -0.13480357  0.23784041  0.10246971 -0.07807587  0.06752226]\n",
            " [ 0.08688713  0.06391474  0.09870507  0.12653733  0.19868525  0.2297819\n",
            "   0.05853998  0.02109619  0.00171975  0.32075489  0.26833707  1.01\n",
            "   0.16619439  0.07540185  0.30931499  0.19981565  0.22812084  0.2406907 ]\n",
            " [ 0.04407203  0.09407806  0.12950705  0.18243784  0.14926186  0.13736318\n",
            "   0.17292563  0.14635237 -0.17223751  0.20378099  0.16653759  0.16619439\n",
            "   1.01       -0.09327891  0.24536606  0.13665089  0.03207432  0.0529194 ]\n",
            " [-0.25985634 -0.10559383  0.01106701  0.14283749 -0.10844592 -0.15375669\n",
            "   0.01436433  0.08362116  0.18426283  0.11988857 -0.13480357  0.07540185\n",
            "  -0.09327891  1.01        0.09811678 -0.06507478  0.20348111  0.17210698]\n",
            " [ 0.07192861 -0.01008116 -0.0253352   0.09801095  0.09539295  0.18620624\n",
            "   0.12615606  0.32660491 -0.08093883  0.44156733  0.23784041  0.30931499\n",
            "   0.24536606  0.09811678  1.01        0.14897269  0.30050887  0.50025081]\n",
            " [ 0.24361452 -0.08710646  0.11108829  0.13967412  0.22119837  0.20814242\n",
            "   0.05788329  0.25296615 -0.05651854  0.26580532  0.10246971  0.19981565\n",
            "   0.13665089 -0.06507478  0.14897269  1.01        0.36606255  0.25816791]\n",
            " [-0.01347476  0.00341922  0.13257649  0.1082339   0.1577218   0.23700273\n",
            "   0.1216378   0.25566867  0.07575592  0.25064759 -0.07807587  0.22812084\n",
            "   0.03207432  0.20348111  0.30050887  0.36606255  1.01        0.4212488 ]\n",
            " [ 0.07006299 -0.10831427  0.1611788   0.34367019  0.21799334  0.2412806\n",
            "   0.31913128  0.38759062  0.14556788  0.49257185  0.06752226  0.2406907\n",
            "   0.0529194   0.17210698  0.50025081  0.25816791  0.4212488   1.01      ]]\n",
            "(18, 18)\n",
            "\n",
            "Max prob. value in training set: 2.9133073546853838e-08\n",
            "Min prob. value in training set: 3.5110633168821355e-20\n",
            "\n",
            "Epsilon: 3.511063316882136e-30\n",
            "-----------\n",
            "F1-score: 0.8000\n",
            "Precision: 1.0000\n",
            "Recall: 0.6667\n",
            "-----------\n",
            "Epsilon: 3.5110633168821355e-29\n",
            "-----------\n",
            "F1-score: 0.8000\n",
            "Precision: 1.0000\n",
            "Recall: 0.6667\n",
            "-----------\n",
            "Epsilon: 3.5110633168821356e-28\n",
            "-----------\n",
            "F1-score: 0.8000\n",
            "Precision: 1.0000\n",
            "Recall: 0.6667\n",
            "-----------\n",
            "Epsilon: 3.5110633168821355e-27\n",
            "-----------\n",
            "F1-score: 0.8000\n",
            "Precision: 1.0000\n",
            "Recall: 0.6667\n",
            "-----------\n",
            "Epsilon: 3.511063316882135e-26\n",
            "-----------\n",
            "F1-score: 0.8000\n",
            "Precision: 1.0000\n",
            "Recall: 0.6667\n",
            "-----------\n",
            "Epsilon: 3.511063316882136e-25\n",
            "-----------\n",
            "F1-score: 0.8000\n",
            "Precision: 1.0000\n",
            "Recall: 0.6667\n",
            "-----------\n",
            "Epsilon: 3.511063316882136e-24\n",
            "-----------\n",
            "F1-score: 0.8000\n",
            "Precision: 1.0000\n",
            "Recall: 0.6667\n",
            "-----------\n",
            "Epsilon: 3.511063316882136e-23\n",
            "-----------\n",
            "F1-score: 0.8000\n",
            "Precision: 1.0000\n",
            "Recall: 0.6667\n",
            "-----------\n",
            "Epsilon: 3.5110633168821355e-22\n",
            "-----------\n",
            "F1-score: 0.8000\n",
            "Precision: 1.0000\n",
            "Recall: 0.6667\n",
            "-----------\n",
            "Epsilon: 3.5110633168821355e-21\n",
            "-----------\n",
            "F1-score: 0.8000\n",
            "Precision: 1.0000\n",
            "Recall: 0.6667\n",
            "-----------\n",
            "Epsilon: 3.5110633168821355e-20\n",
            "-----------\n",
            "F1-score: 0.8000\n",
            "Precision: 1.0000\n",
            "Recall: 0.6667\n",
            "-----------\n",
            "Epsilon: 3.5110633168821357e-19\n",
            "-----------\n",
            "F1-score: 0.8000\n",
            "Precision: 1.0000\n",
            "Recall: 0.6667\n",
            "-----------\n",
            "Epsilon: 3.5110633168821355e-18\n",
            "-----------\n",
            "F1-score: 0.8000\n",
            "Precision: 1.0000\n",
            "Recall: 0.6667\n",
            "-----------\n",
            "Epsilon: 3.5110633168821355e-17\n",
            "-----------\n",
            "F1-score: 0.8000\n",
            "Precision: 1.0000\n",
            "Recall: 0.6667\n",
            "-----------\n",
            "Epsilon: 3.5110633168821353e-16\n",
            "-----------\n",
            "F1-score: 0.8000\n",
            "Precision: 1.0000\n",
            "Recall: 0.6667\n",
            "-----------\n",
            "Epsilon: 3.5110633168821354e-15\n",
            "-----------\n",
            "F1-score: 0.8000\n",
            "Precision: 1.0000\n",
            "Recall: 0.6667\n",
            "-----------\n",
            "Epsilon: 3.511063316882135e-14\n",
            "-----------\n",
            "F1-score: 1.0000\n",
            "Precision: 1.0000\n",
            "Recall: 1.0000\n",
            "-----------\n",
            "Epsilon: 3.511063316882136e-13\n",
            "-----------\n",
            "F1-score: 1.0000\n",
            "Precision: 1.0000\n",
            "Recall: 1.0000\n",
            "-----------\n",
            "Epsilon: 3.5110633168821356e-12\n",
            "-----------\n",
            "F1-score: 0.7500\n",
            "Precision: 0.6000\n",
            "Recall: 1.0000\n",
            "-----------\n",
            "Epsilon: 3.511063316882136e-11\n",
            "-----------\n",
            "F1-score: 0.5455\n",
            "Precision: 0.3750\n",
            "Recall: 1.0000\n",
            "-----------\n"
          ],
          "name": "stdout"
        },
        {
          "output_type": "display_data",
          "data": {
            "image/png": "[encoded data removed]",
            "text/plain": [
              "<Figure size 432x288 with 1 Axes>"
            ]
          },
          "metadata": {
            "tags": [],
            "needs_background": "light"
          }
        }
      ]
    },
    {
      "cell_type": "markdown",
      "metadata": {
        "id": "ElvU8YApJp8w"
      },
      "source": [
        "Acá vemos que sigue ocurriendo lo mismo que veíamos antes: se nos está escapando una muestra cuando usamos valores de $\\epsilon$ muy bajos, y eso nos está tirando el recall hacia abajo (y por ende, el F1-score). Cuando empezamos a considerar valores más alto que el mínimo de los de entrenamiento, vemos que el algoritmo mantiene una performance similar hasta que para $10^{-13}$ encuentra la muestra que le faltaba. Sin embargo, si aumentamos un poco más el $\\epsilon$ vemos que ahora empieza a tener falsos positivos, y eso genera una caída en la precision y también en el F1-score."
      ]
    },
    {
      "cell_type": "markdown",
      "metadata": {
        "id": "EbMUdLX-pgX9"
      },
      "source": [
        "#### 2.4. Local Outlier Factor\n",
        "\n",
        "El método de [Local Outlier Factor (LOF)](https://en.wikipedia.org/wiki/Local_outlier_factor) se basa en analizar las densidades de muestras en el espacio de características, estudiando para ello las distancias entre los $k$ vecinos más cercanos de cada una. \n",
        "\n",
        "La principal ventaja de este algoritmo es que no necesitamos datos anotados para entrenarlo. Simplemente lo alimentamos con un gran número de muestras, y el algoritmo etiquetará como anómalas aquellas cuyo LOF sea mayor a 1.\n",
        "\n",
        "En Sklearn, LOF viene implementado dentro del paquete ```neighbors```. Su  hiperparámetro más importante es ```n_neighbors``` ($k$, número de vecinos más cercanos que se estudiarán para el cálculo del LOF), aunque también podríamos cambiar la métrica de distancia, de la misma forma que podíamos hacerlo en $k$-NN. También tenemos que indicarle que lo queremos utilizar para detección de anomalías, pasándole ```novelty=True```. Si no lo hiciéramos, en lugar de utilizar ```fit``` sobre datos de entrenamiento primero y luego ```predict``` sobre nuevos datos deberíamos juntar todos los datos en un único conjunto, y utilizar el método ```fit_predict```. Esta última versión se utiliza para descubrir anomalías en bases de datos en las que las anomalías no están definidas per se.\n",
        "\n",
        "Eventualmente podríamos alimentar el algoritmo con (algunas) muestras anómalas durante el entrenamiento. Si lo hacemos, deberíamos decírselo utilizando el parámetro ```contamination```, que corresponde a un float que indica la proporción de muestras anómalas en los datos.\n",
        "\n",
        "La función ```predict``` nos va a dar valores 1 y -1, donde 1 corresponde a inliers y -1 a outliers. Analicemos la performance del algoritmo para diferentes valores de $k$."
      ]
    },
    {
      "cell_type": "code",
      "metadata": {
        "id": "ny14rQlfpiXV",
        "colab": {
          "base_uri": "https://localhost:8080/",
          "height": 944
        },
        "outputId": "5f6df078-0c2f-4ded-e540-9236d7e517cf"
      },
      "source": [
        "from sklearn.neighbors import LocalOutlierFactor\n",
        "\n",
        "print('Local Outlier Factor')\n",
        "print('=============================')\n",
        "\n",
        "# inicializamos las listas para valores de F1-score, precision y recall\n",
        "f1_scores = []\n",
        "precisions = []\n",
        "recalls = []\n",
        "\n",
        "# inicializamos la lista de valores de K que analizaremos\n",
        "k_values = [5, 10, 15, 20, 25, 30]\n",
        "\n",
        "# iteramos por cada valor de k\n",
        "for k in k_values:\n",
        "\n",
        "  # inicializamos el modelo\n",
        "  lof = LocalOutlierFactor(n_neighbors=k, novelty=True)\n",
        "  # lo alimentamos con los datos de entrenamiento\n",
        "  lof.fit(dataset['X_train'])\n",
        "  # y ahora lo probamos sobre las muestras de validación\n",
        "  y_hat_val = lof.predict(dataset['X_val'])\n",
        "  # identificamos las potenciales anomalías\n",
        "  predictions = y_hat_val < 0\n",
        "\n",
        "  # calculamos las métricas\n",
        "  f1_scores.append(f1_score(dataset['y_val'], predictions))\n",
        "  precisions.append(precision_score(dataset['y_val'], predictions))\n",
        "  recalls.append(recall_score(dataset['y_val'], predictions))\n",
        "  # imprimimos por pantalla los resultados\n",
        "  print('K: {}'.format(k))\n",
        "  print('-----------')\n",
        "  print('F1-score: {:.4f}'.format(f1_scores[-1]))\n",
        "  print('Precision: {:.4f}'.format(precisions[-1]))\n",
        "  print('Recall: {:.4f}'.format(recalls[-1]))\n",
        "  print('-----------')\n",
        "\n",
        "# generamos un gráfico mostrando la evolución de todos los valores a la vez\n",
        "plt.plot(k_values, np.array(f1_scores), 'o-')\n",
        "plt.plot(k_values, np.array(precisions), 'o-')\n",
        "plt.plot(k_values, np.array(recalls), 'o-')\n",
        "plt.legend(['F1-score', 'Precision', 'Recall'])\n",
        "plt.xlabel('$k$')\n",
        "plt.ylabel('AD performance')\n",
        "plt.grid(True)\n",
        "plt.title('Local Outlier Factor - $k$ search on val set')\n",
        "plt.show()\n"
      ],
      "execution_count": null,
      "outputs": [
        {
          "output_type": "stream",
          "text": [
            "Local Outlier Factor\n",
            "=============================\n",
            "K: 5\n",
            "-----------\n",
            "F1-score: 0.8000\n",
            "Precision: 1.0000\n",
            "Recall: 0.6667\n",
            "-----------\n",
            "K: 10\n",
            "-----------\n",
            "F1-score: 0.8000\n",
            "Precision: 1.0000\n",
            "Recall: 0.6667\n",
            "-----------\n",
            "K: 15\n",
            "-----------\n",
            "F1-score: 0.8000\n",
            "Precision: 1.0000\n",
            "Recall: 0.6667\n",
            "-----------\n",
            "K: 20\n",
            "-----------\n",
            "F1-score: 0.8000\n",
            "Precision: 1.0000\n",
            "Recall: 0.6667\n",
            "-----------\n",
            "K: 25\n",
            "-----------\n",
            "F1-score: 0.8000\n",
            "Precision: 1.0000\n",
            "Recall: 0.6667\n",
            "-----------\n",
            "K: 30\n",
            "-----------\n",
            "F1-score: 0.8000\n",
            "Precision: 1.0000\n",
            "Recall: 0.6667\n",
            "-----------\n"
          ],
          "name": "stdout"
        },
        {
          "output_type": "display_data",
          "data": {
            "image/png": "[encoded data removed]",
            "text/plain": [
              "<Figure size 432x288 with 1 Axes>"
            ]
          },
          "metadata": {
            "tags": [],
            "needs_background": "light"
          }
        }
      ]
    },
    {
      "cell_type": "markdown",
      "metadata": {
        "id": "TKzSIOIWPpaR"
      },
      "source": [
        "En este caso vemos que los cambios en $k$ no afectan la performance global del algoritmo. En particular, LOF no está pudiendo detectar algunos de los outliers en el conjunto (por lo que el recall se mantiene constante abajo). Esto puede llegar a deberse a que estamos usando clases que fueron asignadas en función a una regla rígida sobre el LOF (las que vimos durante la clase). A veces ocurre que algunas muestras (las ubicadas en los bordes) pueden llegar a ser outliers (o no), y \"la regla rígida\" no las tiene en cuenta.\n",
        "\n",
        "Podemos predecir el LOF de cada muestra, y utilizarlos para generar curvas de precision/recall, estimar el área bajo cada curva y encontrar el mejor valor de $k$ en base a eso. Los podemos obtener utilizando el método ```score_samples```, que nos devuelve los valores de LOF con un signo menos delante."
      ]
    },
    {
      "cell_type": "code",
      "metadata": {
        "id": "2_0mw7biRYus",
        "colab": {
          "base_uri": "https://localhost:8080/"
        },
        "outputId": "997ce039-a41a-41b5-a477-85a4b5efc54c"
      },
      "source": [
        "# obtenemos los scores sobre los datos de validación\n",
        "y_hat_val = lof.score_samples(dataset['X_val'])\n",
        "\n",
        "# los imprimimos y comparamos con las etiquetas\n",
        "print(y_hat_val)\n",
        "print(dataset['y_val'])"
      ],
      "execution_count": null,
      "outputs": [
        {
          "output_type": "stream",
          "text": [
            "[-0.98164013 -1.01464335 -1.06553728 -0.98073686 -0.99740074 -1.0382831\n",
            " -1.00590156 -1.06580685 -1.02005213 -1.03339221 -1.03234969 -1.0308308\n",
            " -1.32154954 -3.06649863 -2.97586268]\n",
            "[0. 0. 0. 0. 0. 0. 0. 0. 0. 0. 0. 0. 1. 1. 1.]\n"
          ],
          "name": "stdout"
        }
      ]
    },
    {
      "cell_type": "markdown",
      "metadata": {
        "id": "axc6WduRUp7S"
      },
      "source": [
        "Si recordamos de la teoría, los LOF mayores a 1 implicaban una mayor chance de estar frente a un outlier. En este caso, al estar invertidos, los scores nos quedarían al revés, y no nos servirían para evaluar correctamente el algoritmo utilizando curvas de precision/recall. Por consiguiente, debemos invertirlos (quitarles el signo), y usarlos para repetir la búsqueda de valores óptimos de K:\n"
      ]
    },
    {
      "cell_type": "code",
      "metadata": {
        "id": "hjNjRi1DUvLS",
        "colab": {
          "base_uri": "https://localhost:8080/",
          "height": 840
        },
        "outputId": "8ab63f22-a2aa-49c0-a0c6-36d629afb1a8"
      },
      "source": [
        "from sklearn.metrics import precision_recall_curve, auc\n",
        "from sklearn.neighbors import LocalOutlierFactor\n",
        "\n",
        "print('Local Outlier Factor')\n",
        "print('=============================')\n",
        "\n",
        "# inicializamos las listas para valores de auc\n",
        "auc_values = []\n",
        "\n",
        "# inicializamos la lista de valores de K que analizaremos\n",
        "k_values = [5, 10, 15, 20, 25, 30]\n",
        "\n",
        "# iteramos por cada valor de k\n",
        "for k in k_values:\n",
        "\n",
        "  # inicializamos el modelo\n",
        "  lof = LocalOutlierFactor(n_neighbors=k, novelty=True)\n",
        "  # lo alimentamos con los datos de entrenamiento\n",
        "  lof.fit(dataset['X_train'])\n",
        "  # y ahora lo probamos sobre las muestras de validación, pero esta vez \n",
        "  # recuperamos los LOF\n",
        "  y_hat = lof.predict(dataset['X_val'])\n",
        "  #print(y_hat)\n",
        "  y_hat_val = -lof.score_samples(dataset['X_val'])\n",
        "  #print(y_hat_val)\n",
        "\n",
        "  # generamos la curva de precision/recall y calculamos el AUC\n",
        "  pr, re, thresh = precision_recall_curve(dataset['y_val'], y_hat_val)\n",
        "  auc_pr_re = auc(re, pr)\n",
        "  #print(thresh)\n",
        "  auc_values.append(auc_pr_re)\n",
        "  \n",
        "  # imprimimos la curva\n",
        "  plt.plot(re, pr)\n",
        "\n",
        "  # imprimimos por pantalla los resultados\n",
        "  print('K: {}'.format(k))\n",
        "  print('-----------')\n",
        "  print('AUC: {:.4f}'.format(auc_pr_re))\n",
        "  print('-----------')\n",
        "  print('')\n",
        "\n",
        "# generamos un gráfico mostrando la evolución de todos los valores a la vez\n",
        "plt.legend(k_values)\n",
        "plt.xlabel('Recall')\n",
        "plt.ylabel('Precision')\n",
        "plt.xlim(0, 1)\n",
        "plt.ylim(0, 1.1)\n",
        "plt.grid(True)\n",
        "plt.title('Local Outlier Factor - $k$ search on val set')\n",
        "plt.show()\n"
      ],
      "execution_count": null,
      "outputs": [
        {
          "output_type": "stream",
          "text": [
            "Local Outlier Factor\n",
            "=============================\n",
            "K: 5\n",
            "-----------\n",
            "AUC: 1.0000\n",
            "-----------\n",
            "\n",
            "K: 10\n",
            "-----------\n",
            "AUC: 1.0000\n",
            "-----------\n",
            "\n",
            "K: 15\n",
            "-----------\n",
            "AUC: 1.0000\n",
            "-----------\n",
            "\n",
            "K: 20\n",
            "-----------\n",
            "AUC: 1.0000\n",
            "-----------\n",
            "\n",
            "K: 25\n",
            "-----------\n",
            "AUC: 1.0000\n",
            "-----------\n",
            "\n",
            "K: 30\n",
            "-----------\n",
            "AUC: 1.0000\n",
            "-----------\n",
            "\n"
          ],
          "name": "stdout"
        },
        {
          "output_type": "display_data",
          "data": {
            "image/png": "[encoded data removed]",
            "text/plain": [
              "<Figure size 432x288 with 1 Axes>"
            ]
          },
          "metadata": {
            "tags": [],
            "needs_background": "light"
          }
        }
      ]
    },
    {
      "cell_type": "markdown",
      "metadata": {
        "id": "k6JyH1Qvq0SH"
      },
      "source": [
        "Utilizando los scores vemos que es posible hallar umbrales que nos aseguran una performance perfecta. Esto indica que eventualmente el criterio rígido que utilizamos originalmente para decidir qué era un inlier y qué era un outlier tal vez quede corto."
      ]
    },
    {
      "cell_type": "markdown",
      "metadata": {
        "id": "ZQ08oKhYrova"
      },
      "source": [
        "#### 2.5. One Class SVM (o Support Vector Data Description)\n",
        "\n",
        "Originalmente, la One Class SVM fue la primera extensión al método de Support Vector Machines para trabajar en problemas de detección de anomalías. En lugar de predecir un hiperplano que separe dos nubes de puntos, el modelo intenta correr las muestras de entrenamiento y colocarlas lejos del origen de coordenadas, en donde ubica un hiperplano según el cual todo lo que ocurra debajo de él será una anomalía.\n",
        "\n",
        "El modelo de Support Vector Data Description (o SVDD) es un poco más rico, porque en lugar de un hiperplano intenta encontrar la mejor esfera que contenga a los datos de entrenamiento (que son todos no anómalos). Luego, dada una muestra nueva, la clasificará como anómala si no cae dentro de la hiperesfera aprendida.\n",
        "\n",
        "Un dato curioso es que SVDD permite incorporar kernels, igual que la SVM clásica. Y para la mayoría de esos kernels, SVDD no es más que otra forma de describir la One Class SVM. Por eso es que en general van a ver que mucha gente se refiere a SVDD como One Class SVM, cuando técnicamente son distintos.\n",
        "\n",
        "Vamos a aplicar nuestra One Class SVM sobre los datos que estamos utilizando, utilizando la clase ```OneClassSVM``` del paquete ```svm``` de Sklearn. \n",
        "\n",
        "Necesitamos elegir varios hiperparámetros.\n",
        "* Del que jamás vamos a zafar es $\\nu$ (```nu```), que toma valores entre (0, 1] y nos permite controlar qué tan tolerante queremos que sea el decision boundary. Si queremos que el modelo acepte más errores, usamos un $\\nu$ más cercano a 1. Si queremos que sea más rígido, lo bajamos más cerca de 0.\n",
        "* Si elegimos un kernel (```kernel```) entonces debemos setearle sus parámetros, igual que como hacíamos con la SVM.\n",
        "\n",
        "En el siguiente ejemplo vamos a buscar la mejor combinación de parámetros $\\nu$ y $\\gamma$ de la RBF, usando los datos de validación.\n"
      ]
    },
    {
      "cell_type": "code",
      "metadata": {
        "id": "T8Kg_-vB6uDc",
        "colab": {
          "base_uri": "https://localhost:8080/",
          "height": 340
        },
        "outputId": "87a2bc64-cff1-4328-93f7-3a77809086c7"
      },
      "source": [
        "from sklearn.svm import OneClassSVM\n",
        "\n",
        "# establecemos los valores de nu y gamma que vamos a probar\n",
        "nu_vals = [0.03125, 0.0625, 0.125, 0.25, 0.5]\n",
        "gamma_vals = list(np.arange(-10, 0))\n",
        "\n",
        "# inicializamos una matriz donde vamos a ir guardando los valores de F1-score\n",
        "f1_scores = np.zeros((len(nu_vals), len(gamma_vals)))\n",
        "\n",
        "# probamos todas las configuraciones\n",
        "i = 0\n",
        "for nu in nu_vals:\n",
        "  j = 0\n",
        "  for gamma in gamma_vals:\n",
        "    # creamos un objeto de la clase OneClassSVM con la configuración elegida\n",
        "    model = OneClassSVM(kernel='rbf', gamma=2.0**gamma, nu=nu)\n",
        "    # lo entrenamos sobre nuestros datos de entrenamiento\n",
        "    model.fit(dataset['X_train'])\n",
        "    # lo evaluamos sobre nuestros datos de validación\n",
        "    y_hat_val = model.predict(dataset['X_val']) < 0\n",
        "    # calculamos el F1-score\n",
        "    f1_scores[i,j] = f1_score(dataset['y_val'], y_hat_val)\n",
        "    j=j+1\n",
        "  i=i+1\n",
        "\n",
        "# imprimimos el mejor valor de F1-score\n",
        "print('One Class SVM')\n",
        "print('Best F1-score: {}'.format(np.max(f1_scores)))\n",
        "\n",
        "# mostramos un gráfico\n",
        "fig, ax = plt.subplots()\n",
        "pos = ax.imshow(f1_scores)\n",
        "ax.set_title('One-class SVM - F1-score on validation set')\n",
        "ax.set_xlabel('$\\gamma$')\n",
        "ax.set_xticks(np.arange(len(gamma_vals)))\n",
        "ax.set_xticklabels(2.0**np.array(gamma_vals),rotation=90)\n",
        "ax.set_yticks(np.arange(len(nu_vals)))\n",
        "ax.set_yticklabels(nu_vals)\n",
        "ax.set_ylabel('v')\n",
        "fig.colorbar(pos, ax=ax)\n",
        "plt.show()"
      ],
      "execution_count": null,
      "outputs": [
        {
          "output_type": "stream",
          "text": [
            "One Class SVM\n",
            "Best F1-score: 1.0\n"
          ],
          "name": "stdout"
        },
        {
          "output_type": "display_data",
          "data": {
            "image/png": "[encoded data removed]",
            "text/plain": [
              "<Figure size 432x288 with 2 Axes>"
            ]
          },
          "metadata": {
            "tags": [],
            "needs_background": "light"
          }
        }
      ]
    },
    {
      "cell_type": "markdown",
      "metadata": {
        "id": "bIxURZ_GLWCo"
      },
      "source": [
        "Vemos que nuestra One Class SVM con kernel RBF obtiene un F1-score perfecto para $\\nu = 0.0625$ y $\\gamma=2^{-6}$. Como siempre, recordemos hacer esta búsqueda cuando apliquemos nuestros algoritmos."
      ]
    },
    {
      "cell_type": "markdown",
      "metadata": {
        "id": "dUBiGhSGMcoj"
      },
      "source": [
        "#### 2.6 Isolation Forests\n",
        "\n",
        "El último de los modelos para detección de anomalías con el que vamos a trabajar es el de Isolation Forests. Este algoritmo se basa en una serie de árboles (Isolation Trees, o iTrees) que se construyen aleatoriamente como los que veníamos viendo en Random Forest. Sin embargo, en lugar de buscar combinaciones óptimas para dividir los datos entre una clase y otra, el proceso de construcción de los árboles se centra en probar aleatoriamente diferentes valores de umbral para features sorteadas aleatoriamente, buscando lograr aislar a cada muestra de entrenamiento. El score que determina qué tan probable es que una muestra sea anómala estará dado por la cantidad de niveles que fueron necesarios para lograr aislarlo. Se supone que si contamos con anomalías (ya sea en nuestros datos de entrenamiento o en los datos que vayan a venir después), esos puntos serán más fáciles de aislar, al estar más separados de la distribución general de muestras no anómalas.\n",
        "\n",
        "Como todos los algoritmos basados en árboles, el Isolation Forest viene implementado bajo ese nombre (```IsolationForest```) en el paquete ```ensemble``` de Sklearn. El hiperparámetro clave aquí es ```n_estimators```, como siempre, que determina el número de árboles que queremos utilizar.\n",
        "\n",
        "Probemos el algoritmo sobre los datos que estamos utilizando:"
      ]
    },
    {
      "cell_type": "code",
      "metadata": {
        "id": "vZjGaSWYacP9",
        "colab": {
          "base_uri": "https://localhost:8080/",
          "height": 329
        },
        "outputId": "362c536a-0a24-44b9-e45a-05128225ac81"
      },
      "source": [
        "from sklearn.ensemble import IsolationForest\n",
        "\n",
        "# establecemos los valores de cantidad de árboles que queremos probar\n",
        "T_values = [5, 10, 15, 20, 25, 30, 35, 40, 100]\n",
        "\n",
        "# inicializamos una matriz donde vamos a ir guardando los valores de F1-score\n",
        "f1_scores = []\n",
        "precisions = []\n",
        "recalls = []\n",
        "\n",
        "# probamos todas las configuraciones\n",
        "for T in T_values:\n",
        "  # creamos un objeto de la clase IsolationForest con la configuración elegida\n",
        "  model = IsolationForest(n_estimators=T)\n",
        "  # lo entrenamos sobre nuestros datos de entrenamiento\n",
        "  model.fit(dataset['X_train'])\n",
        "  # lo evaluamos sobre nuestros datos de validación\n",
        "  y_hat_val = model.predict(dataset['X_val']) < 0\n",
        "  # calculamos el F1-score\n",
        "  f1_scores.append(f1_score(dataset['y_val'], y_hat_val))\n",
        "  precisions.append(precision_score(dataset['y_val'], y_hat_val))\n",
        "  recalls.append(recall_score(dataset['y_val'], y_hat_val))\n",
        "\n",
        "# imprimimos el mejor valor de F1-score\n",
        "print('Isolation Forest')\n",
        "print('Best F1-score: {}'.format(np.max(f1_scores)))\n",
        "\n",
        "# mostramos un gráfico\n",
        "plt.plot(T_values, f1_scores, '-o')\n",
        "plt.plot(T_values, precisions, '-o')\n",
        "plt.plot(T_values, recalls, '-o')\n",
        "plt.title('Isolation Forest - Number of trees vs. performance metrics')\n",
        "plt.xlabel('Number of trees')\n",
        "plt.ylabel('Performance')\n",
        "plt.legend(['F1-score', 'Precision', 'Recall'])\n",
        "plt.grid(True)\n",
        "plt.show()"
      ],
      "execution_count": null,
      "outputs": [
        {
          "output_type": "stream",
          "text": [
            "Isolation Forest\n",
            "Best F1-score: 0.5454545454545454\n"
          ],
          "name": "stdout"
        },
        {
          "output_type": "display_data",
          "data": {
            "image/png": "[encoded data removed]",
            "text/plain": [
              "<Figure size 432x288 with 1 Axes>"
            ]
          },
          "metadata": {
            "tags": [],
            "needs_background": "light"
          }
        }
      ]
    },
    {
      "cell_type": "markdown",
      "metadata": {
        "id": "m23Ynttkd4Vp"
      },
      "source": [
        "Recordemos que el Isolation Forest es un método por ensemble cuyos árboles se generan de forma aleatoria. Esto implica que si ejecutamos varias veces el código anterior, obtendremos diferentes resultados, a menos que seteemos una semilla aleatoria.\n",
        "\n",
        "En general, en las corridas que hicimos vimos que los errores se deben a un número alto de falsos positivos, que tironea hacia abajo el F1-score producto de una caída en la precision. Si nuestra aplicación requiere que no se nos escape ni un solo posible outlier, tal vez esta solución sea correcta.\n",
        "\n",
        "¿Podrá tener que ver con que estamos desaprovechando el score? Veamos qué pasa si evaluamos en términos del AUC bajo la curva de precision/recall:"
      ]
    },
    {
      "cell_type": "code",
      "metadata": {
        "id": "VqzKL9hpgOZX",
        "colab": {
          "base_uri": "https://localhost:8080/",
          "height": 330
        },
        "outputId": "39dd44dd-7b51-4606-aeba-0eca4e2f038a"
      },
      "source": [
        "from sklearn.ensemble import IsolationForest\n",
        "\n",
        "# establecemos los valores de cantidad de árboles que queremos probar\n",
        "T_values = [5, 10, 15, 20, 25, 30, 35, 40, 100]\n",
        "T_values_labels = []\n",
        "\n",
        "# inicializamos una matriz donde vamos a ir guardando los valores de F1-score\n",
        "auc_values = []\n",
        "\n",
        "# probamos todas las configuraciones\n",
        "for T in T_values:\n",
        "  # creamos un objeto de la clase IsolationForest con la configuración elegida\n",
        "  model = IsolationForest(n_estimators=T)\n",
        "  # lo entrenamos sobre nuestros datos de entrenamiento\n",
        "  model.fit(dataset['X_train'])\n",
        "  # lo evaluamos sobre nuestros datos de validación\n",
        "  y_hat_val = - model.score_samples(dataset['X_val'])\n",
        "  #print(y_hat_val)\n",
        "  # calculamos el F1-score\n",
        "  pr, re, _ = precision_recall_curve(dataset['y_val'], y_hat_val)\n",
        "  auc_values.append(auc(re, pr))\n",
        "  plt.plot(re, pr)\n",
        "  T_values_labels.append('T={} = AUC = {:.4f}'.format(T, auc_values[-1]))\n",
        "\n",
        "# imprimimos el mejor valor de F1-score\n",
        "print('Isolation Forest')\n",
        "print('Best AUC value: {}'.format(np.max(auc_values)))\n",
        "\n",
        "# generamos un gráfico mostrando la evolución de todos los valores a la vez\n",
        "plt.legend(T_values_labels)\n",
        "plt.xlabel('Recall')\n",
        "plt.ylabel('Precision')\n",
        "plt.xlim(0, 1)\n",
        "plt.ylim(0, 1.1)\n",
        "plt.grid(True)\n",
        "plt.title('Isolation Forest - $T$ search on val set')\n",
        "plt.show()\n"
      ],
      "execution_count": null,
      "outputs": [
        {
          "output_type": "stream",
          "text": [
            "Isolation Forest\n",
            "Best AUC value: 1.0\n"
          ],
          "name": "stdout"
        },
        {
          "output_type": "display_data",
          "data": {
            "image/png": "[encoded data removed]",
            "text/plain": [
              "<Figure size 432x288 with 1 Axes>"
            ]
          },
          "metadata": {
            "tags": [],
            "needs_background": "light"
          }
        }
      ]
    },
    {
      "cell_type": "markdown",
      "metadata": {
        "id": "SaQn5Cagj6Uc"
      },
      "source": [
        "Al menos en los experimentos que hemos corrido nosotros, hemos visto que en la gran mayoría de los casos podemos obtener un area bajo la curva de precision/recall de 1. Esto implica que utilizando los valores de score generados por el Isolation Forest podríamos resolver el problema que tenemos con los falsos positivos."
      ]
    },
    {
      "cell_type": "markdown",
      "metadata": {
        "id": "CKQ1V0R0xJ5z"
      },
      "source": [
        "### 3. Clustering\n",
        "\n",
        "Los algoritmos de clustering nos permiten hacer análisis no supervisado de los datos a través de una serie de estrategias que asignan a cada muestra a un agrupamiento o cluster. A menudo encontrarán en los libros que se habla de \"análisis de cluster\". Esto se debe a que estos agrupamientos no tienen semántica a priori, pero nos sirven para estudiar qué similitudes existen entre las muestras, para posteriormente sacar conclusiones más ricas que nos ayuden en la toma de decisiones.\n",
        "\n",
        "Clustering está en el centro del famoso Big Data que oímos nombrar en todas partes. Usando estas técnicas podemos hallar relaciones entre los datos que quizá desconocíamos, y utilizar esas nuevas conclusiones como guía para tal o cual aplicación."
      ]
    },
    {
      "cell_type": "markdown",
      "metadata": {
        "id": "Q8AP-8FafK_2"
      },
      "source": [
        "#### 3.1. Preparamos los datos\n",
        "\n",
        "En esta unidad vamos a ver algunas de las estrategias de clustering más populares, utilizando datos de la Organización Mundial de la Salud (WHO) sobre expectativa de vida en numerosos países. La info sobre los datos está disponible en [este sitio](https://www.kaggle.com/kumarajarshi/life-expectancy-who).\n",
        "\n",
        "Lo primero que haremos será descargarlos e imprimir algunas muestras:"
      ]
    },
    {
      "cell_type": "code",
      "metadata": {
        "id": "5K1q-jbffQAV",
        "colab": {
          "base_uri": "https://localhost:8080/"
        },
        "outputId": "6167de76-432a-43e6-cafe-a3c452b8322a"
      },
      "source": [
        "import wget\n",
        "\n",
        "# inicializamos un diccionario donde guardaremos el dataset\n",
        "dataset = dict()\n",
        "dataset['url'] = 'https://raw.githubusercontent.com/ignaciorlando/duia-ml-datasets/master/LifeExpectancyWHO/Life Expectancy Data.csv'\n",
        "dataset['extension'] = '.csv'\n",
        "dataset['filename'] = path.join(datasets_folder, 'life_expectancy' + dataset['extension']) \n",
        "if not path.exists(dataset['filename']):  # descargar solamente si no existe\n",
        "  wget.download(dataset['url'], dataset['filename'])\n",
        "else:\n",
        "  print('El archivo {} ya existe.'.format(dataset['filename']))\n",
        "\n",
        "# accedemos a los datos usando Pandas\n",
        "original_table = pd.read_table(dataset['filename'],sep=',')\n",
        "print(original_table)\n"
      ],
      "execution_count": null,
      "outputs": [
        {
          "output_type": "stream",
          "text": [
            "          Country  Year  ... Income composition of resources  Schooling\n",
            "0     Afghanistan  2015  ...                           0.479       10.1\n",
            "1     Afghanistan  2014  ...                           0.476       10.0\n",
            "2     Afghanistan  2013  ...                           0.470        9.9\n",
            "3     Afghanistan  2012  ...                           0.463        9.8\n",
            "4     Afghanistan  2011  ...                           0.454        9.5\n",
            "...           ...   ...  ...                             ...        ...\n",
            "2933     Zimbabwe  2004  ...                           0.407        9.2\n",
            "2934     Zimbabwe  2003  ...                           0.418        9.5\n",
            "2935     Zimbabwe  2002  ...                           0.427       10.0\n",
            "2936     Zimbabwe  2001  ...                           0.427        9.8\n",
            "2937     Zimbabwe  2000  ...                           0.434        9.8\n",
            "\n",
            "[2938 rows x 22 columns]\n"
          ],
          "name": "stdout"
        }
      ]
    },
    {
      "cell_type": "markdown",
      "metadata": {
        "id": "hrbI38s8OeM4"
      },
      "source": [
        "El archivo contiene una serie de estadísticas sobre muchos países, categorizadas por año de extracción. Veamos de qué se trata:"
      ]
    },
    {
      "cell_type": "code",
      "metadata": {
        "id": "aDPW-4-oOc6z",
        "colab": {
          "base_uri": "https://localhost:8080/"
        },
        "outputId": "d63334d7-28e5-445e-cf9f-1f547c0d8001"
      },
      "source": [
        "\n",
        "# armamos una lista con los nombres de las features\n",
        "feature_names = []\n",
        "for col in original_table.columns: \n",
        "    feature_names.append(col)\n",
        "\n",
        "# identificamos los países que tienen entradas en la tabla\n",
        "countries = np.unique(original_table['Country'].to_numpy())\n",
        "\n",
        "print('Features: {}'.format(feature_names))\n",
        "print('Countries: {}'.format(countries))"
      ],
      "execution_count": null,
      "outputs": [
        {
          "output_type": "stream",
          "text": [
            "Features: ['Country', 'Year', 'Status', 'Life expectancy ', 'Adult Mortality', 'infant deaths', 'Alcohol', 'percentage expenditure', 'Hepatitis B', 'Measles ', ' BMI ', 'under-five deaths ', 'Polio', 'Total expenditure', 'Diphtheria ', ' HIV/AIDS', 'GDP', 'Population', ' thinness  1-19 years', ' thinness 5-9 years', 'Income composition of resources', 'Schooling']\n",
            "Countries: ['Afghanistan' 'Albania' 'Algeria' 'Angola' 'Antigua and Barbuda'\n",
            " 'Argentina' 'Armenia' 'Australia' 'Austria' 'Azerbaijan' 'Bahamas'\n",
            " 'Bahrain' 'Bangladesh' 'Barbados' 'Belarus' 'Belgium' 'Belize' 'Benin'\n",
            " 'Bhutan' 'Bolivia (Plurinational State of)' 'Bosnia and Herzegovina'\n",
            " 'Botswana' 'Brazil' 'Brunei Darussalam' 'Bulgaria' 'Burkina Faso'\n",
            " 'Burundi' 'Cabo Verde' 'Cambodia' 'Cameroon' 'Canada'\n",
            " 'Central African Republic' 'Chad' 'Chile' 'China' 'Colombia' 'Comoros'\n",
            " 'Congo' 'Cook Islands' 'Costa Rica' 'Croatia' 'Cuba' 'Cyprus' 'Czechia'\n",
            " \"Côte d'Ivoire\" \"Democratic People's Republic of Korea\"\n",
            " 'Democratic Republic of the Congo' 'Denmark' 'Djibouti' 'Dominica'\n",
            " 'Dominican Republic' 'Ecuador' 'Egypt' 'El Salvador' 'Equatorial Guinea'\n",
            " 'Eritrea' 'Estonia' 'Ethiopia' 'Fiji' 'Finland' 'France' 'Gabon' 'Gambia'\n",
            " 'Georgia' 'Germany' 'Ghana' 'Greece' 'Grenada' 'Guatemala' 'Guinea'\n",
            " 'Guinea-Bissau' 'Guyana' 'Haiti' 'Honduras' 'Hungary' 'Iceland' 'India'\n",
            " 'Indonesia' 'Iran (Islamic Republic of)' 'Iraq' 'Ireland' 'Israel'\n",
            " 'Italy' 'Jamaica' 'Japan' 'Jordan' 'Kazakhstan' 'Kenya' 'Kiribati'\n",
            " 'Kuwait' 'Kyrgyzstan' \"Lao People's Democratic Republic\" 'Latvia'\n",
            " 'Lebanon' 'Lesotho' 'Liberia' 'Libya' 'Lithuania' 'Luxembourg'\n",
            " 'Madagascar' 'Malawi' 'Malaysia' 'Maldives' 'Mali' 'Malta'\n",
            " 'Marshall Islands' 'Mauritania' 'Mauritius' 'Mexico'\n",
            " 'Micronesia (Federated States of)' 'Monaco' 'Mongolia' 'Montenegro'\n",
            " 'Morocco' 'Mozambique' 'Myanmar' 'Namibia' 'Nauru' 'Nepal' 'Netherlands'\n",
            " 'New Zealand' 'Nicaragua' 'Niger' 'Nigeria' 'Niue' 'Norway' 'Oman'\n",
            " 'Pakistan' 'Palau' 'Panama' 'Papua New Guinea' 'Paraguay' 'Peru'\n",
            " 'Philippines' 'Poland' 'Portugal' 'Qatar' 'Republic of Korea'\n",
            " 'Republic of Moldova' 'Romania' 'Russian Federation' 'Rwanda'\n",
            " 'Saint Kitts and Nevis' 'Saint Lucia' 'Saint Vincent and the Grenadines'\n",
            " 'Samoa' 'San Marino' 'Sao Tome and Principe' 'Saudi Arabia' 'Senegal'\n",
            " 'Serbia' 'Seychelles' 'Sierra Leone' 'Singapore' 'Slovakia' 'Slovenia'\n",
            " 'Solomon Islands' 'Somalia' 'South Africa' 'South Sudan' 'Spain'\n",
            " 'Sri Lanka' 'Sudan' 'Suriname' 'Swaziland' 'Sweden' 'Switzerland'\n",
            " 'Syrian Arab Republic' 'Tajikistan' 'Thailand'\n",
            " 'The former Yugoslav republic of Macedonia' 'Timor-Leste' 'Togo' 'Tonga'\n",
            " 'Trinidad and Tobago' 'Tunisia' 'Turkey' 'Turkmenistan' 'Tuvalu' 'Uganda'\n",
            " 'Ukraine' 'United Arab Emirates'\n",
            " 'United Kingdom of Great Britain and Northern Ireland'\n",
            " 'United Republic of Tanzania' 'United States of America' 'Uruguay'\n",
            " 'Uzbekistan' 'Vanuatu' 'Venezuela (Bolivarian Republic of)' 'Viet Nam'\n",
            " 'Yemen' 'Zambia' 'Zimbabwe']\n"
          ],
          "name": "stdout"
        }
      ]
    },
    {
      "cell_type": "markdown",
      "metadata": {
        "id": "63zsfMb0Owc9"
      },
      "source": [
        "Las features incluyen:\n",
        "* El estado del país (si es desarrollado o no desarrollado).\n",
        "* La expectativa de vida (en años).\n",
        "* La mortalidad adulta.\n",
        "* La cantidad de muertes de niñxs por cada 1000 habitantes.\n",
        "* La cantidad de alcohol consumido por mayores de 15 años per cápita (en litros de alcohol puro).\n",
        "* El porcentaje del PBI per cápita invertido en salud.\n",
        "* El porcentaje de vacunación contra la hepatitis B en niñxs de 1 año.\n",
        "* El número de casos de sarampión reportado por cada 1000 habitantes.\n",
        "* Índice de masa corporal promedio de la población\n",
        "* Número de muertes por debajo de los 5 años cada 1000 habitantes.\n",
        "* El porcentaje de vacunación contra la polio en niñxs de 1 año.\n",
        "* El porcentaje de inversión en salud del Estado en función del presupuesto total del país.\n",
        "* El porcentaje de vacunación contra la difteria en niñxs de 1 año.\n",
        "* La cantidad de muertes por VIH/SIDA cada 1000 habitantes en niñxs de 0 a 4 años.\n",
        "* El producto bruto interno per cápita.\n",
        "* La cantidad de habitantes del país.\n",
        "* Prevalencia de flacura entre niñxs y adolescentes de 10 a 19 años.\n",
        "* Prevalencia de flacura entre niñxs de 5 a 9 años.\n",
        "* Índice de desarrollo humano (en término de la composición del ingreso).\n",
        "* Número de años de escolarización.\n",
        "\n",
        "Como verán, un montón de información técnica sobre los diferentes países.\n",
        "Las estadísticas vienen por año, así que lo que haremos será quedarnos con un año particular (el 2015, que es el último registrado). Además, necesitamos convertir el único dato categórico a números. No usaremos one-hot encoding porque en este bello mundo desigual, un país desarrollado es más que uno en desarrollo. Finalmente, eliminaremos las columnas \"País\" y \"Año\" de las matrices, porque no nos interesan."
      ]
    },
    {
      "cell_type": "code",
      "metadata": {
        "id": "BgVYgSvxOw3r",
        "colab": {
          "base_uri": "https://localhost:8080/"
        },
        "outputId": "7a355da5-8321-4b00-f556-3d6995dc5582"
      },
      "source": [
        "# crearemos una matriz con los datos convertidos a Numpy\n",
        "data_as_numpy = None\n",
        "# iteramos por cada uno de los países\n",
        "for country in countries:\n",
        "  # nos quedamos con todas las filas correspondientes al país\n",
        "  this_country_rows = original_table.loc[original_table['Country']==country]\n",
        "  # y de ahí extraemos solamente la fila correspondiente al año 2015\n",
        "  last_year_row = this_country_rows[this_country_rows['Year']==2015]\n",
        "  # la pasamos a numpy\n",
        "  last_year_row = last_year_row.to_numpy()\n",
        "  # convertimos el atributo categórico \"Developed / Developing\" a un número\n",
        "  if last_year_row[:,2]=='Developed':\n",
        "    last_year_row[:,2] = 1\n",
        "  else:\n",
        "    last_year_row[:,2] = 0\n",
        "  # concatenamos la entrada a la matriz que vamos llevando\n",
        "  if data_as_numpy is None:\n",
        "    data_as_numpy = last_year_row\n",
        "  else:\n",
        "    data_as_numpy = np.concatenate((data_as_numpy, last_year_row), axis=0)\n",
        "\n",
        "# recuperamos los nombres de los países\n",
        "countries = data_as_numpy[:,0]\n",
        "# reacomodamos los nombres de las features (sacando el nombre de país y el año)\n",
        "feature_names = feature_names[2:]\n",
        "# creamos una matriz de diseño inicial\n",
        "X = np.asarray(data_as_numpy[:,2:], dtype=float)\n",
        "print(X.shape)"
      ],
      "execution_count": null,
      "outputs": [
        {
          "output_type": "stream",
          "text": [
            "(183, 20)\n"
          ],
          "name": "stdout"
        }
      ]
    },
    {
      "cell_type": "markdown",
      "metadata": {
        "id": "VH69kR5xRp51"
      },
      "source": [
        "El dataset también reporta algunos datos faltantes (que aparecen como NaNs), así que lo que haremos será remover las features para las que no tengamos datos para todos los países."
      ]
    },
    {
      "cell_type": "code",
      "metadata": {
        "id": "GRE6ML43RqQG",
        "colab": {
          "base_uri": "https://localhost:8080/"
        },
        "outputId": "d0749b2e-096b-4e14-895b-3676bdf89682"
      },
      "source": [
        "# crearemos una nueva matriz de diseño, pero sin las columnas que tengan NaNs\n",
        "new_X = None\n",
        "new_feature_names = []\n",
        "# por cada una de mis columnas\n",
        "for i in range(X.shape[1]):\n",
        "  # obtengo si hay NaNs o no en alguna celda\n",
        "  there_are_nans = np.unique(np.isnan(X[:,i]))\n",
        "  # si no tiene ningún NaN\n",
        "  if not ((len(there_are_nans)==2) or ((len(there_are_nans)==1 and (there_are_nans[0])))):\n",
        "    # agrego la entrada a la nueva matriz\n",
        "    if new_X is None:\n",
        "      new_X = np.expand_dims(X[:,i],axis=1)\n",
        "    else:\n",
        "      new_X = np.concatenate((new_X, np.expand_dims(X[:,i],axis=1)), axis=1)\n",
        "    new_feature_names.append(feature_names[i])\n",
        "\n",
        "print('Num of countries: {}'.format(len(countries)))\n",
        "print('Num of features: {}'.format(len(new_feature_names)))\n",
        "print('Dataset size: {}'.format(new_X.shape))\n",
        "print(new_feature_names)\n",
        "\n",
        "# reemplazo la matriz de diseño anterior\n",
        "X = new_X\n"
      ],
      "execution_count": null,
      "outputs": [
        {
          "output_type": "stream",
          "text": [
            "Num of countries: 183\n",
            "Num of features: 10\n",
            "Dataset size: (183, 10)\n",
            "['Adult Mortality', 'infant deaths', 'Alcohol', 'percentage expenditure', 'Measles ', 'under-five deaths ', 'Total expenditure', 'Diphtheria ', 'GDP', 'Population']\n"
          ],
          "name": "stdout"
        }
      ]
    },
    {
      "cell_type": "markdown",
      "metadata": {
        "id": "JhIuynlzSIR1"
      },
      "source": [
        "Nos queda finalmente normalizar los datos y dejar bien armados los campos del dataset. Recuerden que como estamos trabajando con un problema no supervisado en el que simplemente queremos estudiar los datos, no necesitamos partirlos en training / validation / test."
      ]
    },
    {
      "cell_type": "code",
      "metadata": {
        "id": "kIu8ilZySNQm"
      },
      "source": [
        "# asignamos los nombres de los países y las features\n",
        "dataset['countries'] = countries\n",
        "dataset['feature_names'] = new_feature_names\n",
        "\n",
        "# calculamos mínimos y máximos y normalizamos con eso\n",
        "dataset['min'] = np.min(X, axis=0)\n",
        "dataset['max'] = np.max(X, axis=0)\n",
        "\n",
        "dataset['X'] = (X - dataset['min']) / (dataset['max'] - dataset['min'])"
      ],
      "execution_count": null,
      "outputs": []
    },
    {
      "cell_type": "markdown",
      "metadata": {
        "id": "yz8zT9heT5wb"
      },
      "source": [
        "Ya con estos datos bien listos, planteemos la siguiente pregunta: ¿qué similitudes existen entre los países en términos de sus indicadores sanitarios?"
      ]
    },
    {
      "cell_type": "markdown",
      "metadata": {
        "id": "GfuuRNGJfOCz"
      },
      "source": [
        "#### 3.2. K-Means\n",
        "\n",
        "El algoritmo de K-means es el más comunmente utilizado en problemas de clustering. Se basa en descubrir K centroides en los datos que me representen los diferentes agrupamientos que puedan llegar a existir, de manera iterativa y basándose en la distancia entre las muestras. Inicialmente se eligen al azar K muestras que operarán como centroides, y luego se realiza un proceso iterativo que consiste en dos fases:\n",
        "\n",
        "1. Fase de asignación: cada muestra es asignada al cluster correspondiente al centroide más cercano.\n",
        "2. Fase de actualización: se actualiza el centroide tomando la media de las muestras dentro del cluster.\n",
        "\n",
        "Este proceso se repite hasta estabilizar lo que se conoce como **suma de distancias cuadradas**, que no es más que la suma de las distancias al cuadrado de cada muestra al centroide asociado a su cluster. Se espera que cuando esto deje de variar, estemos ante una posible solución.\n",
        "\n",
        "En Sklearn, el algoritmo de K-means se llama ```KMeans``` y viene dentro del paquete ```cluster```. El hiperparámetro más importante es ```n_clusters```, que no es más que el valor de K. Vamos a generar una primera partición en 4 clusters y ver los resultados que obtenemos."
      ]
    },
    {
      "cell_type": "code",
      "metadata": {
        "id": "bx32Tfoimi9F",
        "colab": {
          "base_uri": "https://localhost:8080/"
        },
        "outputId": "7d4ec1de-e241-4332-c8b0-03ddb2966f0b"
      },
      "source": [
        "from sklearn.cluster import KMeans\n",
        "\n",
        "# inicializamos un objeto de la clase KMeans con el modelo\n",
        "kmeans = KMeans(n_clusters=4, verbose=0, random_state=10)\n",
        "# lo aplicamos sobre nuestros datos para hallar los centroides\n",
        "kmeans.fit(dataset['X'])\n",
        "# y obtenemos los clusters a los que fueron asignadas las muestras\n",
        "clusters_kmeans = kmeans.predict(dataset['X'])\n",
        "\n",
        "# imprimimos por pantalla los nombres de los países asignados a cada cluster\n",
        "for k in np.unique(clusters_kmeans):\n",
        "  print('Cluster {}'.format(k))\n",
        "  print(countries[clusters_kmeans==k])\n",
        "  print('======')"
      ],
      "execution_count": null,
      "outputs": [
        {
          "output_type": "stream",
          "text": [
            "Cluster 0\n",
            "['Albania' 'Algeria' 'Antigua and Barbuda' 'Argentina' 'Armenia'\n",
            " 'Azerbaijan' 'Bahamas' 'Bahrain' 'Bangladesh' 'Barbados' 'Belarus'\n",
            " 'Belize' 'Bhutan' 'Bolivia (Plurinational State of)'\n",
            " 'Bosnia and Herzegovina' 'Brazil' 'Brunei Darussalam' 'Burkina Faso'\n",
            " 'Cabo Verde' 'Cambodia' 'Canada' 'Chile' 'China' 'Colombia' 'Costa Rica'\n",
            " 'Cuba' \"Democratic People's Republic of Korea\" 'Dominican Republic'\n",
            " 'Ecuador' 'Egypt' 'El Salvador' 'Estonia' 'Fiji' 'Finland' 'France'\n",
            " 'Georgia' 'Greece' 'Grenada' 'Honduras' 'Iran (Islamic Republic of)'\n",
            " 'Israel' 'Jamaica' 'Jordan' 'Kazakhstan' 'Kuwait' 'Kyrgyzstan' 'Lebanon'\n",
            " 'Libya' 'Madagascar' 'Malaysia' 'Maldives' 'Mauritania' 'Mauritius'\n",
            " 'Mexico' 'Micronesia (Federated States of)' 'Mongolia' 'Montenegro'\n",
            " 'Morocco' 'Nicaragua' 'Niger' 'Oman' 'Panama' 'Paraguay' 'Qatar'\n",
            " 'Republic of Korea' 'Republic of Moldova' 'Russian Federation'\n",
            " 'Saint Lucia' 'Saint Vincent and the Grenadines' 'Samoa'\n",
            " 'Sao Tome and Principe' 'Saudi Arabia' 'Serbia' 'Seychelles'\n",
            " 'Solomon Islands' 'Sri Lanka' 'Suriname' 'Tajikistan' 'Thailand'\n",
            " 'The former Yugoslav republic of Macedonia' 'Timor-Leste'\n",
            " 'Trinidad and Tobago' 'Tunisia' 'Turkey' 'United Arab Emirates' 'Uruguay'\n",
            " 'Uzbekistan' 'Vanuatu' 'Venezuela (Bolivarian Republic of)' 'Viet Nam']\n",
            "======\n",
            "Cluster 1\n",
            "['Australia' 'Austria' 'Belgium' 'Bulgaria' 'Croatia' 'Cyprus' 'Czechia'\n",
            " 'Denmark' 'Germany' 'Hungary' 'Iceland' 'Ireland' 'Italy' 'Japan'\n",
            " 'Latvia' 'Lithuania' 'Luxembourg' 'Malta' 'Netherlands' 'New Zealand'\n",
            " 'Norway' 'Poland' 'Portugal' 'Romania' 'Singapore' 'Slovakia' 'Slovenia'\n",
            " 'Spain' 'Sweden' 'Switzerland'\n",
            " 'United Kingdom of Great Britain and Northern Ireland'\n",
            " 'United States of America']\n",
            "======\n",
            "Cluster 2\n",
            "['Afghanistan' 'Angola' 'Central African Republic' 'Chad' 'Congo'\n",
            " 'Equatorial Guinea' 'Gabon' 'Guatemala' 'Guinea' 'Haiti' 'Indonesia'\n",
            " 'Iraq' 'Kiribati' 'Lesotho' 'Liberia' 'Mozambique' 'Nepal' 'Nigeria'\n",
            " 'Peru' 'Philippines' 'Somalia' 'South Sudan' 'Swaziland'\n",
            " 'Syrian Arab Republic' 'Tonga' 'Ukraine' 'Zambia']\n",
            "======\n",
            "Cluster 3\n",
            "['Benin' 'Botswana' 'Burundi' 'Cameroon' 'Comoros' \"Côte d'Ivoire\"\n",
            " 'Democratic Republic of the Congo' 'Djibouti' 'Eritrea' 'Ethiopia'\n",
            " 'Gambia' 'Ghana' 'Guinea-Bissau' 'Guyana' 'India' 'Kenya'\n",
            " \"Lao People's Democratic Republic\" 'Malawi' 'Mali' 'Myanmar' 'Namibia'\n",
            " 'Pakistan' 'Papua New Guinea' 'Rwanda' 'Senegal' 'Sierra Leone'\n",
            " 'South Africa' 'Sudan' 'Togo' 'Turkmenistan' 'Uganda'\n",
            " 'United Republic of Tanzania' 'Yemen' 'Zimbabwe']\n",
            "======\n"
          ],
          "name": "stdout"
        }
      ]
    },
    {
      "cell_type": "markdown",
      "metadata": {
        "id": "v-8QeDGLUTyW"
      },
      "source": [
        "Este primer agrupamiento nos permite ver algunas cosas interesantes. Por ejemplo, en el cluster 3 vemos que se agruparon la gran mayoría de los países africanos. En el cluster 2, otros países de África y algunos de Asia, Europa del Este y el norte de Sudamérica y el Caribe. En el cluster 0 (el más grande) vemos países de un montón de regiones del mundo. Finalmente, en el cluster 1 vemos un gran número de países europeos junto a USA, Australia, entre otros.\n",
        "**¿Qué nos estará planteando esta partición?**\n",
        "\n",
        "El principal problema de K-means es cómo elegir el valor de K. La herramienta más utilizada es el llamado \"Elbow plot\" (o \"gráfico del codo\") que nos permite estudiar la evolución de la suma de distancias al cuadrado en función de K. A esas distancias también la van a oir nombrar como \"WCSS\": \"Within Cluster Sum of Squares\". Es de esperar que este número se reduzca a medida que K aumente (en el caso donde K = número de muestras, la distancia al centroide de cada muestra sería 0, porque sería la muestra misma). El punto óptimo de K es \"el codo\" de la curva: es decir, el punto donde la suma de diferencias cuadradas deja de disminuir a un ritmo alto. Veamos qué obtenemos:"
      ]
    },
    {
      "cell_type": "code",
      "metadata": {
        "id": "_M8xVpkxnC6l",
        "colab": {
          "base_uri": "https://localhost:8080/",
          "height": 295
        },
        "outputId": "81d3459f-1314-42e0-cdd6-16fb6a9b9e0c"
      },
      "source": [
        "def elbow_plot(X, n):\n",
        "  '''\n",
        "  Imprimo el Elbox plot para un dataset X dado y K={2, ..., n}\n",
        "  '''\n",
        "  # genero las particiones para diferentes valores de k, desde 1 a n\n",
        "  kMeansVar = [KMeans(n_clusters=k).fit(X) for k in range(2, n+1)]\n",
        "  # extraigo la suma de distancias entre cada muestra y los centroides\n",
        "  sum_of_squared_distances = [km.inertia_ for km in kMeansVar]\n",
        "  return sum_of_squared_distances\n",
        "\n",
        "# recupero la suma de distancias cuadradas para valores de k de 2 a 10\n",
        "N = 10\n",
        "sum_of_squared_distances = elbow_plot(dataset['X'], N)\n",
        "\n",
        "fig, ax = plt.subplots()\n",
        "ax.plot(sum_of_squared_distances)\n",
        "ax.grid(True)\n",
        "ax.set_title('Elbow Plot')\n",
        "ax.set_xlabel('k')\n",
        "ax.set_xticklabels(np.arange(1,N+1))\n",
        "ax.set_ylabel('Sum of squared distances to centroids')\n",
        "plt.show()"
      ],
      "execution_count": null,
      "outputs": [
        {
          "output_type": "display_data",
          "data": {
            "image/png": "[encoded data removed]",
            "text/plain": [
              "<Figure size 432x288 with 1 Axes>"
            ]
          },
          "metadata": {
            "tags": [],
            "needs_background": "light"
          }
        }
      ]
    },
    {
      "cell_type": "markdown",
      "metadata": {
        "id": "r29mHmlLV7ha"
      },
      "source": [
        "En este gráfico vemos que quizá la elección de $K=4$ era la correcta. Eventualmente podríamos explorar algunos otros valores más altos y ver a qué conclusiones podemos arribar."
      ]
    },
    {
      "cell_type": "markdown",
      "metadata": {
        "id": "mp8cIa72XClE"
      },
      "source": [
        "#### 3.3. Clustering Jerárquico\n",
        "\n",
        "El algoritmo de clustering jerárquico construye los clusters iterativamente y de manera jerárquica, lo que nos permite evitar tener que elegir el número de clusters para construirlos. \n",
        "\n",
        "Existen dos formas de hacerlo: aglomerativa o divisiva. En el enforme aglomerativo tomamos diferentes pares de muestras y las unimos según qué tan cerca se encuentren entre sí, hasta unirlas a todas en un único clúster. Más en detalle:\n",
        "\n",
        "1. Al principio, tratamos a cada punto como un cluster. O sea, tenemos K = N clusters.\n",
        "2. Formamos un cluster uniendo a los dos puntos más cercanos. Esto nos reduce el número de cluster a K = N-1.\n",
        "3. Formamos más clusters uniendo los dos clusters más cercanos entre sí. Podemos comparar muestras entre sí, o muestras con clusters o clusters. Cómo hacemos esa comparación depende del criterio de enlace que utilicemos.\n",
        "4. Repetimos los pasos de 2 a 3 hasta que todo nos queda en un único cluster.\n",
        "\n",
        "Iterativamente podemos ir construyendo una representación gráfica conocida como dendrograma, en donde unimos las muestras entre sí según vayamos poniéndolas en un mismo cluster, y donde representamos las uniones con una altura equivalente a la distancia euclidea entre los elementos que se unen.\n",
        "\n",
        "En el siguiente ejemplo vamos a construir un dendograma usando ```scipy```, una librería que hasta ahora no habíamos utilizado. Necesitamos importar las funciones ```linkage``` (que realiza el clustering aglomerativo y nos deja los datos listos para construir el dendrograma) y ```dendrogram``` (que nos permite graficarlo).\n",
        "\n",
        "```linkage``` nos pide un parámetro, ```method```, que corresponde al criterio de enlace, o la estrategia utilizada para calcular la distancia entre nuevos clusters. Siempre unimos clusters con distancia mínima entre sí, pero el valor que utilizamos para comparar puede cambiar. Si usamos ```single```, calculamos todas las distancias entre todos los puntos de los dos clusters que analizamos, nos quedamos con la mínima, y eso es lo que vamos comparando. Si usamos ```complete```, hacemos lo mismo pero con la máxima distancia entre muestras. Si usamos ```average```, el promedio. Si usamos ```weighted```, calculamos la distancia entre los dos subclusters que uní previamente y el nuevo cluster al que estoy considerando unirme, y tomo el promedio de esos dos. Si uso ```centroid```, comparo distancia entre centroides. Y así... Hay montones de variantes.\n",
        "\n",
        "Usemos la más sencilla, comparar por distancia mínima a las muestras. Podríamos probar otras, si quisiéramos, modificando ```method``` en el código."
      ]
    },
    {
      "cell_type": "code",
      "metadata": {
        "id": "Cc29aVzUaSpR",
        "colab": {
          "base_uri": "https://localhost:8080/",
          "height": 477
        },
        "outputId": "0ddccbce-b924-46e3-cee0-070c1b3702a2"
      },
      "source": [
        "from scipy.cluster.hierarchy import dendrogram, linkage\n",
        "\n",
        "# generamos el clustering jerárquico\n",
        "linked = linkage(dataset['X'], method='single')\n",
        "\n",
        "# ploteamos el dendrograma\n",
        "plt.figure(figsize=(30,7))\n",
        "dendrogram(linked,\n",
        "           orientation='top',\n",
        "           labels=dataset['countries'],\n",
        "           distance_sort='descending',\n",
        "           show_leaf_counts=True,\n",
        "           leaf_font_size=10)\n",
        "plt.xlabel('Countries')\n",
        "plt.ylabel('Euclidean Distance')\n",
        "plt.show()"
      ],
      "execution_count": null,
      "outputs": [
        {
          "output_type": "display_data",
          "data": {
            "image/png": "[encoded data removed]",
            "text/plain": [
              "<Figure size 2160x504 with 1 Axes>"
            ]
          },
          "metadata": {
            "tags": [],
            "needs_background": "light"
          }
        }
      ]
    },
    {
      "cell_type": "markdown",
      "metadata": {
        "id": "K0kKKOc2mOVa"
      },
      "source": [
        "Podemos observar que existen algunos grupos claramente distinguibles entre sí (los marcados con diferentes colores). También podemos ver que India y Albania son dos países con bastantes diferencias respecto al resto, y que cuesta mucho unir con el resto.\n",
        "\n",
        "Si quisiéramos elegir una solución en particular, deberíamos trazar una línea horizontal en un valor de distancia euclídea e identificar el número de clusters resultantes. Por ejemplo, si la trazáramos en 0.8, tendríamos 5 clusters: uno para solamente la India, otro para Albania, otro para los países en verde, una para Lesotho y un último donde quedarían todos los países en rojo.\n",
        "\n",
        "Para recuperar efectivamente esos mismos clusters, debemos aplicar el clustering aglomerativo una vez más. Hagámoslo ahora usando Sklearn, que incluye ```AgglomerativeClustering```. Con ```affinity``` determinamos la medida de distancia que queremos usar, mientras que con ```linkage``` determinamos el criterio de unión entre clusters. Usemos ```single``` para coincidir con la partición anterior. \n",
        "\n",
        "Si no queremos hacer dos pasos (```fit``` y ```predict```) podemos usar el método ```fit_predict``` para hacer las dos cosas a la vez."
      ]
    },
    {
      "cell_type": "code",
      "metadata": {
        "id": "8Yd60FQxmByl",
        "colab": {
          "base_uri": "https://localhost:8080/"
        },
        "outputId": "90e867da-ac73-445a-9c3d-51ea386923af"
      },
      "source": [
        "from sklearn.cluster import AgglomerativeClustering\n",
        "\n",
        "# creamos el objeto para el clustering aglomerativo\n",
        "agglomerative = AgglomerativeClustering(n_clusters=5, affinity='euclidean', linkage='single')\n",
        "# usamos fit predict para buscar los clusters y devolverlos\n",
        "clusters_agglomerative = agglomerative.fit_predict(dataset['X'])\n",
        "\n",
        "# imprimimos por pantalla los nombres de los países asignados a cada cluster\n",
        "for k in np.unique(clusters_agglomerative):\n",
        "  print('Cluster {}'.format(k))\n",
        "  print(countries[clusters_agglomerative==k])\n",
        "  print('======')"
      ],
      "execution_count": null,
      "outputs": [
        {
          "output_type": "stream",
          "text": [
            "Cluster 0\n",
            "['Afghanistan' 'Algeria' 'Angola' 'Antigua and Barbuda' 'Argentina'\n",
            " 'Armenia' 'Azerbaijan' 'Bahamas' 'Bahrain' 'Bangladesh' 'Barbados'\n",
            " 'Belarus' 'Belize' 'Benin' 'Bhutan' 'Bolivia (Plurinational State of)'\n",
            " 'Bosnia and Herzegovina' 'Botswana' 'Brazil' 'Brunei Darussalam'\n",
            " 'Burkina Faso' 'Burundi' 'Cabo Verde' 'Cambodia' 'Cameroon' 'Canada'\n",
            " 'Central African Republic' 'Chad' 'Chile' 'China' 'Colombia' 'Comoros'\n",
            " 'Congo' 'Costa Rica' 'Cuba' \"Côte d'Ivoire\"\n",
            " \"Democratic People's Republic of Korea\"\n",
            " 'Democratic Republic of the Congo' 'Djibouti' 'Dominican Republic'\n",
            " 'Ecuador' 'Egypt' 'El Salvador' 'Equatorial Guinea' 'Eritrea' 'Estonia'\n",
            " 'Ethiopia' 'Fiji' 'Finland' 'France' 'Gabon' 'Gambia' 'Georgia' 'Ghana'\n",
            " 'Greece' 'Grenada' 'Guatemala' 'Guinea' 'Guinea-Bissau' 'Guyana' 'Haiti'\n",
            " 'Honduras' 'Indonesia' 'Iran (Islamic Republic of)' 'Iraq' 'Israel'\n",
            " 'Jamaica' 'Jordan' 'Kazakhstan' 'Kenya' 'Kiribati' 'Kuwait' 'Kyrgyzstan'\n",
            " \"Lao People's Democratic Republic\" 'Lebanon' 'Liberia' 'Libya'\n",
            " 'Madagascar' 'Malawi' 'Malaysia' 'Maldives' 'Mali' 'Mauritania'\n",
            " 'Mauritius' 'Mexico' 'Micronesia (Federated States of)' 'Mongolia'\n",
            " 'Montenegro' 'Morocco' 'Mozambique' 'Myanmar' 'Namibia' 'Nepal'\n",
            " 'Nicaragua' 'Niger' 'Nigeria' 'Oman' 'Pakistan' 'Panama'\n",
            " 'Papua New Guinea' 'Paraguay' 'Peru' 'Philippines' 'Qatar'\n",
            " 'Republic of Korea' 'Republic of Moldova' 'Russian Federation' 'Rwanda'\n",
            " 'Saint Lucia' 'Saint Vincent and the Grenadines' 'Samoa'\n",
            " 'Sao Tome and Principe' 'Saudi Arabia' 'Senegal' 'Serbia' 'Seychelles'\n",
            " 'Sierra Leone' 'Solomon Islands' 'Somalia' 'South Africa' 'South Sudan'\n",
            " 'Sri Lanka' 'Sudan' 'Suriname' 'Swaziland' 'Syrian Arab Republic'\n",
            " 'Tajikistan' 'Thailand' 'The former Yugoslav republic of Macedonia'\n",
            " 'Timor-Leste' 'Togo' 'Tonga' 'Trinidad and Tobago' 'Tunisia' 'Turkey'\n",
            " 'Turkmenistan' 'Uganda' 'Ukraine' 'United Arab Emirates'\n",
            " 'United Republic of Tanzania' 'Uruguay' 'Uzbekistan' 'Vanuatu'\n",
            " 'Venezuela (Bolivarian Republic of)' 'Viet Nam' 'Yemen' 'Zambia'\n",
            " 'Zimbabwe']\n",
            "======\n",
            "Cluster 1\n",
            "['Australia' 'Austria' 'Belgium' 'Bulgaria' 'Croatia' 'Cyprus' 'Czechia'\n",
            " 'Denmark' 'Germany' 'Hungary' 'Iceland' 'Ireland' 'Italy' 'Japan'\n",
            " 'Latvia' 'Lithuania' 'Luxembourg' 'Malta' 'Netherlands' 'New Zealand'\n",
            " 'Norway' 'Poland' 'Portugal' 'Romania' 'Singapore' 'Slovakia' 'Slovenia'\n",
            " 'Spain' 'Sweden' 'Switzerland'\n",
            " 'United Kingdom of Great Britain and Northern Ireland'\n",
            " 'United States of America']\n",
            "======\n",
            "Cluster 2\n",
            "['Albania']\n",
            "======\n",
            "Cluster 3\n",
            "['India']\n",
            "======\n",
            "Cluster 4\n",
            "['Lesotho']\n",
            "======\n"
          ],
          "name": "stdout"
        }
      ]
    },
    {
      "cell_type": "markdown",
      "metadata": {
        "id": "zCMztH6snw4V"
      },
      "source": [
        "Podemos ver que efectivamente obtuvimos los clusters que habíamos visto al trazar la línea imaginaria vertical. Eventualmente podríamos buscar otras particiones y ver qué nos representan."
      ]
    },
    {
      "cell_type": "markdown",
      "metadata": {
        "id": "S3qgT7EdpWnd"
      },
      "source": [
        "#### 3.4. \"Evaluación\" de las soluciones\n",
        "\n",
        "Al no contar con etiquetas que me definan específicamente qué es una buena solución, no podemos compararnos con ningún ground truth y por ende no hay forma de determinar si la solución que obtuvimos (la partición en clusters) es la correcta. Sin embargo, existen algunas heurísticas que podemos aplicar para al menos estudiar qué tan bien distribuidos están esos clusters, y eventualmente decidir si me quedo con eso para un estudio más detallado de los resultados o si prefiero seguir trabajando en los parámetros de los algoritmos.\n",
        "\n",
        "Vamos a evaluar los clusterings que construimos en función de las siguientes métricas:\n",
        "\n",
        "* Índice de Davies Bouldin (cuanto más bajo, mejor)\n",
        "* Coeficiente de silueta (cuanto más cerca de 1, mejor; cuando más cerca de -1, peor)\n",
        "\n",
        "No usaremos el índice de Dunn porque no está implementado en Sklearn :(\n"
      ]
    },
    {
      "cell_type": "code",
      "metadata": {
        "id": "fcUeXY8PpVTq",
        "colab": {
          "base_uri": "https://localhost:8080/",
          "height": 509
        },
        "outputId": "8008ce1c-b0d5-41df-c0da-a15dfca866be"
      },
      "source": [
        "from sklearn.metrics import davies_bouldin_score, silhouette_score\n",
        "\n",
        "# inicializamos listas con los resultados de cada algoritmo y los nombres de los\n",
        "# algoritmos\n",
        "clusters_to_compare = [clusters_kmeans, clusters_agglomerative]\n",
        "clustering_methods = ['K-means', 'Hierarchical Clustering']\n",
        "\n",
        "# inicializamos vectores donde iremos guardando los resultados\n",
        "db_scores = np.zeros(len(clusters_to_compare))\n",
        "silhouette_scores = np.zeros(len(clusters_to_compare))\n",
        "\n",
        "# por cada uno de los métodos\n",
        "for i in range(len(clusters_to_compare)):\n",
        "  # calculamos las métricas\n",
        "  db_scores[i] = davies_bouldin_score(dataset['X'], clusters_to_compare[i])\n",
        "  silhouette_scores[i] = silhouette_score(dataset['X'], clusters_to_compare[i])\n",
        "  # las imprimimos\n",
        "  print(clustering_methods[i])\n",
        "  print('DB score: {:.4f}'.format(db_scores[i]))\n",
        "  print('Silhouette score: {:.4f}'.format(silhouette_scores[i]))\n",
        "  print('----------')\n",
        "\n",
        "# inicializamos un gráfico para cada métrica\n",
        "fig, axes = plt.subplots(1, 2)\n",
        "plt.subplots_adjust(wspace=0.5)\n",
        "# graficamos el Davies Bouldin score\n",
        "axes[0].bar(np.arange(db_scores.size), db_scores)\n",
        "axes[0].set_title('Davies Boulding Score')\n",
        "axes[0].set_xlabel('Clustering method')\n",
        "axes[0].set_ylabel('Davies Boulding Score')\n",
        "axes[0].set_xticks(np.arange(db_scores.size))\n",
        "axes[0].set_xticklabels(clustering_methods, rotation=45)\n",
        "axes[0].grid(True)\n",
        "# y el Silhouette Score\n",
        "axes[1].bar(np.arange(silhouette_scores.size), silhouette_scores)\n",
        "axes[1].set_title('Silhouette Score')\n",
        "axes[1].set_xlabel('Clustering method')\n",
        "axes[1].set_ylabel('Silhouette Score')\n",
        "axes[1].set_xticks(np.arange(silhouette_scores.size))\n",
        "axes[1].set_xticklabels(clustering_methods, rotation=45)\n",
        "axes[1].grid(True)\n",
        "\n",
        "plt.show()"
      ],
      "execution_count": null,
      "outputs": [
        {
          "output_type": "stream",
          "text": [
            "K-means\n",
            "DB score: 0.9829\n",
            "Silhouette score: 0.4754\n",
            "----------\n",
            "Hierarchical Clustering\n",
            "DB score: 0.3902\n",
            "Silhouette score: 0.5241\n",
            "----------\n"
          ],
          "name": "stdout"
        },
        {
          "output_type": "display_data",
          "data": {
            "image/png": "[encoded data removed]",
            "text/plain": [
              "<Figure size 432x288 with 2 Axes>"
            ]
          },
          "metadata": {
            "tags": [],
            "needs_background": "light"
          }
        }
      ]
    },
    {
      "cell_type": "markdown",
      "metadata": {
        "id": "FOtE7KRLs0-d"
      },
      "source": [
        "Vemos que en este caso logramos que el método de clustering jerárquico supere significativamente al de K-means en términos del Davies Boulding score. Esto implica que los clusters que encontramos con este método están mejor separados entre sí y son más densos internamente. Tengamos en cuenta que esa \"densidad\" puede deberse en parte a que tenemos algunos clusters con solamente 1 muestra. Esos clusters pueden demandar un análisis por separado: ¿qué pasa con India y Albania que se comportan tan diferente al resto de los países? Para responder esa pregunta deberíamos analizar las features individualmente, compararlas entre países, y hablar con sanitaristas y sociólogos para entender más acerca de esas diferencias.\n",
        "\n"
      ]
    },
    {
      "cell_type": "markdown",
      "metadata": {
        "id": "ojXY3bN3tYna"
      },
      "source": [
        "### 4 Chau!\n",
        "\n",
        "Con esto terminamos el curso 2 de Machine Learning de la DUIA! Espero que este material les haya sido útil, y que hayan podido aprender mucho a lo largo del curso.\n",
        "\n",
        "Si tienen comentarios para hacer respecto a potenciales mejoras, son más que bienvenidos! Me pueden escribir a jiorlando@pladema.exa.unicen.edu.ar.\n",
        "\n",
        "Nos vemos en unos meses en el módulo 6!"
      ]
    }
  ]
}