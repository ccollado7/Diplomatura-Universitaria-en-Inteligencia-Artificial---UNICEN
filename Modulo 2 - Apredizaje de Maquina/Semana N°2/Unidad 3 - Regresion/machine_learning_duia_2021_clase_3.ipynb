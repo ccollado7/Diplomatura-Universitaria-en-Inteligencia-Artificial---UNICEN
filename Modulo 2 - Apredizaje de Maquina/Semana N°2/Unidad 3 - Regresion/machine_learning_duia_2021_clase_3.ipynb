{
  "nbformat": 4,
  "nbformat_minor": 0,
  "metadata": {
    "colab": {
      "name": "machine-learning-duia-2021-clase-3.ipynb",
      "provenance": [],
      "collapsed_sections": []
    },
    "kernelspec": {
      "name": "python3",
      "display_name": "Python 3"
    }
  },
  "cells": [
    {
      "cell_type": "markdown",
      "metadata": {
        "id": "FJdaaxjBlWvQ"
      },
      "source": [
        "# Aprendizaje de Máquinas (Machine Learning)\n",
        "## Clase 3: Regresión\n",
        "\n",
        "### 1. Configuración del ambiente\n",
        "\n",
        "Antes que empezar a trabajar, vamos a preparar el ambiente.\n",
        "Para ello:\n",
        "* Montamos Google Drive para guardar allí los archivos que descarguemos. En la consola nos va a aparecer una solicitud para hacer clic en una URL, loggearnos con nuestra cuenta de Google y colocar un código de autorización en una casilla."
      ]
    },
    {
      "cell_type": "code",
      "metadata": {
        "id": "nCXpJebGkAej",
        "colab": {
          "base_uri": "https://localhost:8080/"
        },
        "outputId": "12fe9c7b-c6ee-4377-9d6a-9ae2f740343b"
      },
      "source": [
        "# montar la unidad de google drive\n",
        "from google.colab import drive\n",
        "drive.mount('/content/gdrive/')\n",
        "\n",
        "# crear las carpetas necesarias\n",
        "from os import makedirs, path\n",
        "datasets_folder = '/content/gdrive/My Drive/Colab Notebooks/DUIA/2021/Machine Learning/'\n",
        "makedirs(datasets_folder, exist_ok=True)\n",
        "\n",
        "# importo numpy\n",
        "import numpy as np\n",
        "np.set_printoptions(precision=3, suppress=True) # y hago un truco para imprimir solamente 3 decimales\n",
        "\n",
        "# importo una librería para utilizar valores aleatorios\n",
        "import random\n",
        "\n",
        "# importo matplotlib\n",
        "import matplotlib.pyplot as plt"
      ],
      "execution_count": null,
      "outputs": [
        {
          "output_type": "stream",
          "text": [
            "Mounted at /content/gdrive/\n"
          ],
          "name": "stdout"
        }
      ]
    },
    {
      "cell_type": "markdown",
      "metadata": {
        "id": "d8UFCFYPlhtM"
      },
      "source": [
        "### 2. Acceso a datos de la clase pasada\n",
        "\n",
        "Vamos a trabajar con la partición en datos de entrenamiento, validación y test del ```housing_dataset``` que usamos en clase 1 y 2. Si el archivo no está disponible en Google Drive, volvé al Colab de la Clase 1 y ejecutá todos los bloques de código."
      ]
    },
    {
      "cell_type": "code",
      "metadata": {
        "id": "Qimpo8P3lkGG",
        "colab": {
          "base_uri": "https://localhost:8080/"
        },
        "outputId": "b457682f-2cbe-4573-99c8-d3c7ab87ff36"
      },
      "source": [
        "# establecemos la ruta al archivo (si la cambiaron la clase pasada, corregir por\n",
        "# la ruta correcta)\n",
        "dataset_filename = path.join(datasets_folder, 'housing_dataset_partitioned.pkl')\n",
        "\n",
        "# cargamos los datos preparados\n",
        "import pickle\n",
        "with open(dataset_filename, 'rb') as f:\n",
        "    dataset = pickle.load(f)\n",
        "# verificamos si los datos están bien cargados\n",
        "print('Variables in dataset object: {}'.format(dataset.keys()))"
      ],
      "execution_count": null,
      "outputs": [
        {
          "output_type": "stream",
          "text": [
            "Variables in dataset object: dict_keys(['X_train', 'X_val', 'X_test', 'y_train', 'y_val', 'y_test', 'feature_labels', 'mu', 'sigma'])\n"
          ],
          "name": "stdout"
        }
      ]
    },
    {
      "cell_type": "markdown",
      "metadata": {
        "id": "EqOidlNYnYPw"
      },
      "source": [
        "### 3. Regresión lineal\n",
        "\n",
        "Los modelos de [regresión lineal (linear regression)](https://en.wikipedia.org/wiki/Simple_linear_regression) permiten resolver problemas de regresión en los cuales los vectores de features $\\mathbf{x}$ tienen una relación lineal con la variable objetivo $y$. También pueden adaptarse para trabajar con variables que tienen alguna otra dependencia (por ejemplo, [polinómica](https://en.wikipedia.org/wiki/Polynomial_regression))\n",
        "\n",
        "El modelo que se aprende tiene una serie de parámetros $\\theta_i$ que, combinados linealmente con cada feature $x_i$, permiten obtener la estimación de la variable objetivo $\\hat{y}$:\n",
        "\n",
        "$\\hat{y} = \\theta_1 · x_1 + \\theta_2 · x_2 + ... + \\theta_d · x_d = \\sum_{i=1}^d \\theta_i · x_i$\n",
        "\n",
        "El modelo tiene una interpretación geométrica. Si solamente tuviéramos una única feature, la ecuación $\\hat{y} = \\theta x$ es la de una recta que pasa por el origen de coordenadas (el punto $(x=0, y=0)$). Si tuviéramos dos variables, la ecuación $\\hat{y} = \\theta_1 x_1 + \\theta_2 x_2$ es la de un plano que pasa por el origen de coordenadas (el punto $(x_1=0, x_2=0, y=0)$). En más dimensiones, la ecuación representa lo que en álgebra lineal se conoce como hiperplano. Rectas (1D), planos (2D) e hiperplanos (3D o más) son combinaciones lineales de variables y pesos. Por eso decimos que el modelo de regresión lineal sirve para ajustar / predecir datos que son lineales respecto a la variable objetivo.\n",
        "\n",
        "Vamos a entrenar a continuación un modelo clásico de regresión lineal que nos resuelve el problema ya clásico de predecir el precio de un inmueble de Boston a partir de sus características. Dado que los datos ya están normalizados (lo hicimos en la clase 1), podemos setear el parámetro ```normalize``` en ```False```. Sobre ```fit_intercept``` hablaremos en un rato."
      ]
    },
    {
      "cell_type": "code",
      "metadata": {
        "id": "_ZPI-P4InbJ5",
        "colab": {
          "base_uri": "https://localhost:8080/"
        },
        "outputId": "dbbfc209-3db6-4f6a-f51b-a1cd54b55471"
      },
      "source": [
        "from sklearn.linear_model import LinearRegression\n",
        "from sklearn.metrics import mean_squared_error\n",
        "\n",
        "# inicializamos un modelo de regresion lineal que no normaliza ni aprende una\n",
        "# ordenada al origen\n",
        "linear_regression_model = LinearRegression(fit_intercept=False, normalize=False)\n",
        "# lo entrenamos\n",
        "linear_regression_model.fit(dataset['X_train'], dataset['y_train'])\n",
        "# y lo evaluamos sobre los datos de training utilizando MSE\n",
        "y_hat_train = linear_regression_model.predict(dataset['X_train'])\n",
        "mse = mean_squared_error(dataset['y_train'], y_hat_train)\n",
        "print('Simple linear regression model:')\n",
        "print('MSE in training data = {:.4f}'.format(mse))"
      ],
      "execution_count": null,
      "outputs": [
        {
          "output_type": "stream",
          "text": [
            "Simple linear regression model:\n",
            "MSE in training data = 533.6963\n"
          ],
          "name": "stdout"
        }
      ]
    },
    {
      "cell_type": "markdown",
      "metadata": {
        "id": "79sXaTnKoTbc"
      },
      "source": [
        "El modelo clásico de regresión lineal no tiene hiperparámetros que afecten sensiblemente el entrenamiento. Sin embargo, hay un factor que es importante considerar. \n",
        "\n",
        "Rara vez ocurre que la variable objetivo $y = 0$ cuando todas las features $x_i = 0$. Si no tuviéramos esto en cuenta, el modelo intentará siempre pasar por el origen, y eso hará que no funcione bien al evaluarse muestras con features cercanas a 0. Para corregir eso, podemos pedirle al modelo que aprenda también la ordenada al origen de la recta / plano / hiperplano (o intercept en inglés). En sklearn, la forma de hacerlo es simplemente pedirle al modelo que lo aprenda. En otras librerías, se resuelve agregando a todas las muestras una feature extra, constante e igual a 1. El algoritmo aprenderá entonces un valor $\\theta$ para esa feature, que multiplicado por 1 equivale a esa famosa ordenada al origen.\n",
        "\n",
        "Probemos qué pasa con el error de training al pedirle al modelo que aprenda la ordenada al origen (```fit_intercept = True```)."
      ]
    },
    {
      "cell_type": "code",
      "metadata": {
        "id": "n3wjxAj74Ijp",
        "colab": {
          "base_uri": "https://localhost:8080/"
        },
        "outputId": "c6094fd2-3b47-4e2d-d4bd-74898e39a62e"
      },
      "source": [
        "# inicializamos un modelo de regresion lineal que no normaliza pero que sí\n",
        "# aprende la ordenada al origen\n",
        "linear_regression_model_with_intercept = LinearRegression(fit_intercept=True, normalize=False)\n",
        "# lo entrenamos\n",
        "linear_regression_model_with_intercept.fit(dataset['X_train'], dataset['y_train'])\n",
        "# y lo evaluamos sobre los datos de training utilizando MSE\n",
        "y_hat_train = linear_regression_model_with_intercept.predict(dataset['X_train'])\n",
        "mse_standard_regression_with_intercept = mean_squared_error(dataset['y_train'], y_hat_train)\n",
        "print('Simple linear regression model:')\n",
        "print('MSE in training data:')\n",
        "print('w/o intercept \\t MSE = {:.4f}'.format(mse))\n",
        "print('with intercept \\t MSE = {:.4f}'.format(mse_standard_regression_with_intercept))"
      ],
      "execution_count": null,
      "outputs": [
        {
          "output_type": "stream",
          "text": [
            "Simple linear regression model:\n",
            "MSE in training data:\n",
            "w/o intercept \t MSE = 533.6963\n",
            "with intercept \t MSE = 29.1853\n"
          ],
          "name": "stdout"
        }
      ]
    },
    {
      "cell_type": "markdown",
      "metadata": {
        "id": "QtfFwHl7nbfS"
      },
      "source": [
        "### 4. Regresión lineal regularizada: Ridge Regression\n",
        "\n",
        "El modelo de regresión lineal tradicional es susceptible a sufrir de overfitting, ya que no tiene nada que lo ayude a controlar que no suceda. En general, el overfitting del modelo simple suele aparecer cuando los datos de entrenamiento tienen una feature muy correlacionada con la variable objetivo. En ese caso, el modelo intentará ignorar al resto (aprendiendo valores de $\\theta_i=0$) y prestar atención únicamente a la feature correlacionada ($\\theta_j=1$).\n",
        "\n",
        "El modelo de [Ridge Regression](https://en.wikipedia.org/wiki/Tikhonov_regularization) introduce un término adicional a la función de error que se optimiza durante el entrenamiento (en la jerga matemática y de machine learning, un **regularizador**) que penaliza que el modelo se centre demasiado en utilizar pocas features. Para controlar el balance entre el regularizador y el error, se utiliza un parámetro $\\lambda \\geq 0$ (en ```sklearn```, $\\alpha$) que indica la \"fuerza\" del regularizador: cuanto más alto es, más atención se le presta al regularizador y menos a la función de error; cuanto más cercano a 0 es, más atención le presta a la función de error y menos al regularizador (más se parece al modelo clásico de regresión).\n",
        "\n",
        "Vamos a entrenar ahora modelos de Ridge Regression utilizando tres valores posibles de $\\alpha$: uno muy alto, uno muy bajo, y otro intermedio. Analizaremos qué pasa con el MSE sobre los datos de entrenamiento, y veremos si alguno de los tres modelos sufre de underfitting. También incluiremos la performance del modelo sin regularización, para poder compararlo con el resto."
      ]
    },
    {
      "cell_type": "code",
      "metadata": {
        "id": "QmnSCUZenezm",
        "colab": {
          "base_uri": "https://localhost:8080/"
        },
        "outputId": "37a94db9-2317-4df5-8c38-15b3a9b9e527"
      },
      "source": [
        "from sklearn.linear_model import Ridge\n",
        "\n",
        "# valores de alpha que vamos a evaluar\n",
        "alpha_values = [0.0001, 1.0, 10.0, 100.0, 10000]\n",
        "ridge_models = []\n",
        "\n",
        "print('Model comparison on the TRAINING SET:')\n",
        "print('Simple linear regression. \\t MSE = {:.4f}'.format(mse_standard_regression_with_intercept))\n",
        "for alpha in alpha_values:\n",
        "  # inicializamos un modelo de Ridge regression\n",
        "  ridge_model = Ridge(alpha=alpha, fit_intercept=True, normalize=False)\n",
        "  # lo entrenamos\n",
        "  ridge_model.fit(dataset['X_train'], dataset['y_train'])\n",
        "  ridge_models.append(ridge_model)\n",
        "  # y lo evaluamos sobre los datos de training utilizando MSE\n",
        "  y_hat_train = ridge_model.predict(dataset['X_train'])\n",
        "  current_mse = mean_squared_error(dataset['y_train'], y_hat_train)\n",
        "  print('Ridge with alpha: {:.4f} \\t MSE = {:.4f}'.format(alpha, current_mse))"
      ],
      "execution_count": null,
      "outputs": [
        {
          "output_type": "stream",
          "text": [
            "Model comparison on the TRAINING SET:\n",
            "Simple linear regression. \t MSE = 29.1853\n",
            "Ridge with alpha: 0.0001 \t MSE = 29.1853\n",
            "Ridge with alpha: 1.0000 \t MSE = 29.1883\n",
            "Ridge with alpha: 10.0000 \t MSE = 29.3642\n",
            "Ridge with alpha: 100.0000 \t MSE = 32.4340\n",
            "Ridge with alpha: 10000.0000 \t MSE = 74.2243\n"
          ],
          "name": "stdout"
        }
      ]
    },
    {
      "cell_type": "markdown",
      "metadata": {
        "id": "XtBvs9b-_dUV"
      },
      "source": [
        "Si evaluamos estos tres modelos sobre los datos de validación, podemos también discutir si alguno sufre de overfitting. Incluiremos también en la comparación al modelo de regresión lineal tradicional (con ordenada al origen), para ver si el regularizador mejoró nuestros resultados."
      ]
    },
    {
      "cell_type": "code",
      "metadata": {
        "id": "jOiXlEiWAHwe",
        "colab": {
          "base_uri": "https://localhost:8080/"
        },
        "outputId": "e904b21c-ddee-4266-f717-21eb26ee6d70"
      },
      "source": [
        "print('Model comparison in terms of MSE on the VALIDATION SET')\n",
        "mse_ridge_regression = np.zeros(len(alpha_values))\n",
        "\n",
        "# evaluamos el modelo de regresión lineal tradicional\n",
        "y_hat_val = linear_regression_model_with_intercept.predict(dataset['X_val'])\n",
        "mse_val_simple_linear_regression = mean_squared_error(dataset['y_val'], y_hat_val)\n",
        "print('Simple linear regression. \\t MSE = {:.4f}'.format(mse_val_simple_linear_regression))\n",
        "# y el resto de los modelos\n",
        "for i in range(len(ridge_models)):\n",
        "  # y lo evaluamos sobre los datos de training utilizando MSE\n",
        "  y_hat_val = ridge_models[i].predict(dataset['X_val'])\n",
        "  current_mse = mean_squared_error(dataset['y_val'], y_hat_val)\n",
        "  mse_ridge_regression[i] = current_mse\n",
        "  print('Ridge with alpha: {:.4f} \\t MSE = {:.4f}'.format(alpha_values[i], current_mse))\n",
        "\n",
        "# identificamos el valor de alpha que nos da mejores resultados\n",
        "best_alpha_ridge_idx = np.argmin(mse_ridge_regression)\n",
        "best_alpha_ridge = alpha_values[best_alpha_ridge_idx]\n",
        "best_mse_ridge = mse_ridge_regression[best_alpha_ridge_idx]\n",
        "best_ridge_model = ridge_models[best_alpha_ridge_idx]\n",
        "print('=============================')\n",
        "print('Best Ridge regression model: alpha={} - MSE = {:.4f}'.format(best_alpha_ridge, best_mse_ridge))"
      ],
      "execution_count": null,
      "outputs": [
        {
          "output_type": "stream",
          "text": [
            "Model comparison in terms of MSE on the VALIDATION SET\n",
            "Simple linear regression. \t MSE = 39.4384\n",
            "Ridge with alpha: 0.0001 \t MSE = 39.4384\n",
            "Ridge with alpha: 1.0000 \t MSE = 39.4191\n",
            "Ridge with alpha: 10.0000 \t MSE = 39.4136\n",
            "Ridge with alpha: 100.0000 \t MSE = 40.4295\n",
            "Ridge with alpha: 10000.0000 \t MSE = 55.6064\n",
            "=============================\n",
            "Best Ridge regression model: alpha=10.0 - MSE = 39.4136\n"
          ],
          "name": "stdout"
        }
      ]
    },
    {
      "cell_type": "markdown",
      "metadata": {
        "id": "IZYrlhPVAHMW"
      },
      "source": [
        "Para concluir, recordemos que $\\alpha$ es un hiperparámetro que deberemos calibrar utilizando datos de validación o haciendo cross-validation sobre los datos de entrenamiento."
      ]
    },
    {
      "cell_type": "markdown",
      "metadata": {
        "id": "WsMPvbUAnfDj"
      },
      "source": [
        "### 5. Regresión lineal regularizada: LASSO\n",
        "\n",
        "El regularizador en el modelo de Ridge Regression intenta que le prestemos atención a todas las features más o menos igual. Sin embargo, ¿qué pasa si entre las features hay algunas que no sirven demasiado? En ese caso, y dependiendo de la fuerza que le pongamos al regularizador, puede ocurrir que la performance termine siendo peor!\n",
        "\n",
        "En la clase anterior vimos que una forma de descartar features es hacer feature selection. La alternativa más cara pero que nos asegura descubrir la combinación óptima de features es usar backtracking. Más barato que backtracking es un algoritmo greedy que aproxime la solución óptima (por ejemplo, el de forward selection que vimos antes). \n",
        "\n",
        "La tercer opción es aprender un vector de pesos $\\theta$ que sea ralo (sparse). Un vector o matriz sparse es aquel o aquella que tiene un montón de sus elementos en 0. En el caso del vector de pesos, esto equivaldría a tener un modelo que ignora features que no le sirven.\n",
        "\n",
        "El modelo de regresión lineal regularizada Lasso justamente fuerza al modelo a aprender un vector de pesos ralo. Como para ello incluye un regularizador, también tiene su peso $\\lambda$ (o $\\alpha$), con un rol similar al del model de Ridge Regression.\n",
        "\n",
        "Vamos a entrenar un único modelo Lasso con $\\alpha=10$, y comparar los parámetros que aprende con su equivalente Ridge Regression."
      ]
    },
    {
      "cell_type": "code",
      "metadata": {
        "id": "uXt73VCqnjKE",
        "colab": {
          "base_uri": "https://localhost:8080/",
          "height": 364
        },
        "outputId": "5eea3f0e-eed4-47dc-aff0-b9b8c9a82b3f"
      },
      "source": [
        "from sklearn.linear_model import Lasso\n",
        "\n",
        "# inicializamos listas de modelos a entrenar y sus nombres\n",
        "models = [Ridge(alpha=1.0, fit_intercept=True, normalize=False), # Ridge Regression\n",
        "          Lasso(alpha=1.0, fit_intercept=True, normalize=False)] # Lasso\n",
        "model_names = ['Ridge', 'Lasso']\n",
        "\n",
        "# inicializamos los gráficos\n",
        "fig, axes = plt.subplots(1, len(models))\n",
        "plt.subplots_adjust(wspace=0.5)\n",
        "# y entrenamos los modelos\n",
        "i=0\n",
        "for model in models:\n",
        "  # entrenamos el modelo\n",
        "  model.fit(dataset['X_train'], dataset['y_train'])\n",
        "  # sacamos los coeficientes\n",
        "  theta=model.coef_\n",
        "  # mostramos graficamente los pesos\n",
        "  axes[i].bar(np.arange(np.squeeze(theta.size)), np.squeeze(theta))\n",
        "  axes[i].set_title(model_names[i])\n",
        "  axes[i].set_xlabel('Feature')\n",
        "  axes[i].set_ylabel('Coefficient value')\n",
        "  axes[i].set_xticks(np.arange(theta.size))\n",
        "  axes[i].set_xticklabels(labels=dataset['feature_labels'],rotation = 90)\n",
        "  axes[i].grid(True)\n",
        "  i = i+1\n",
        "plt.show()\n",
        "print(dataset['feature_labels'])"
      ],
      "execution_count": null,
      "outputs": [
        {
          "output_type": "display_data",
          "data": {
            "image/png": "[encoded data removed]",
            "text/plain": [
              "<Figure size 432x288 with 2 Axes>"
            ]
          },
          "metadata": {
            "tags": [],
            "needs_background": "light"
          }
        },
        {
          "output_type": "stream",
          "text": [
            "{'CRIM': 'tasa de criminalidad per cápita por ciudad', 'ZN': 'proporción de tierra residencial (dividida en zonas para lotes de más de 25.000 pies cuadrados)', 'INDUS': 'proporción de negocios no minoristas (medida en acres por ciudad)', 'CHAS': 'límite con el río Charles (= 1 si limita; 0 si no)', 'NOX': 'concentración de óxido nítrico (partes por 10 millones)', 'RM': 'cantidad promedio de habitaciones por vivienda', 'AGE': 'proporción de unidades ocupadas por sus propietarios construidas antes de 1940', 'DIS': 'distancias ponderadas a cinco centros de empleo de Boston', 'RAD': 'índice de accessibilidad a carreteras radiales', 'TAX': 'tasa de impuesto a la propiedad de valor total por U$D 10.000', 'PTRATIO': 'tasa alumno/profesor por localidad'}\n"
          ],
          "name": "stdout"
        }
      ]
    },
    {
      "cell_type": "markdown",
      "metadata": {
        "id": "3_4DsGUMLERx"
      },
      "source": [
        "Puede verse que en el caso de LASSO, el modelo tiene  más parámetros en 0. De alguna manera, estamos haciendo feature selection al mismo tiempo que entrenamos!\n",
        "\n",
        "¿Nos conviene hacer esto siempre? No. En algunos casos LASSO puede ser demasiado agresivo, enviando a 0 muchos parámetros e ignorando demasiadas features. En otros casos LASSO nos puede ayudar a sortear el hecho de tener muchas features y facilitarnos tener que hacer un proceso de grid search muy grande para seleccionar las features.\n",
        "\n",
        "Probemos como hicimos antes diferentes valores para $\\lambda$ (o $\\alpha$) y comparemos los resultados con el mejor modelo de Ridge regression."
      ]
    },
    {
      "cell_type": "code",
      "metadata": {
        "id": "9x-M3lskLX-q",
        "colab": {
          "base_uri": "https://localhost:8080/"
        },
        "outputId": "a61eed94-1928-4f85-e0d5-fd0243aad4f2"
      },
      "source": [
        "\n",
        "# valores de alpha que vamos a evaluar\n",
        "alpha_values = [0.0001, 0.01, 1.0, 10.0, 100.0, 10000]\n",
        "# valores de MSE obtenidos por cada modelo\n",
        "mse_lasso_regression = np.zeros(len(alpha_values))\n",
        "# lista donde guardar los modelos LASSO\n",
        "lasso_models = []\n",
        "\n",
        "# iteramos por cada valor de alpha y vamos entrenando distintos modelos y\n",
        "# evaluando cada uno sobre los datos de validacion\n",
        "i=0\n",
        "for alpha in alpha_values:\n",
        "  # inicializamos un modelo LASSO\n",
        "  lasso_model = Lasso(alpha=alpha, fit_intercept=True, normalize=False)\n",
        "  lasso_models.append(lasso_model)\n",
        "  # lo entrenamos\n",
        "  lasso_model.fit(dataset['X_train'], dataset['y_train'])\n",
        "  # y lo evaluamos sobre los datos de validation\n",
        "  y_hat_val = lasso_model.predict(dataset['X_val'])\n",
        "  current_mse = mean_squared_error(dataset['y_val'], y_hat_val)\n",
        "  mse_lasso_regression[i] = current_mse\n",
        "  print('LASSO with alpha: {:.4f} \\t MSE = {:.4f}'.format(alpha_values[i], current_mse))\n",
        "  i = i+1\n",
        "\n",
        "# identificamos el valor de alpha que nos da mejores resultados\n",
        "best_alpha_lasso_idx = np.argmin(mse_lasso_regression)\n",
        "best_alpha_lasso = alpha_values[best_alpha_lasso_idx]\n",
        "best_mse_lasso = mse_lasso_regression[best_alpha_lasso_idx]\n",
        "best_lasso_model = lasso_models[best_alpha_lasso_idx]\n",
        "print('=============================')\n",
        "print('Best LASSO regression model in the validation set: alpha={:.4f} \\t MSE={:.4f}'.format(best_alpha_lasso, best_mse_lasso))\n",
        "print('=============================')\n",
        "print('Best Ridge regression model in the validation set: alpha={:.4f} \\t MSE={:.4f}'.format(best_alpha_ridge, best_mse_ridge))\n",
        "  "
      ],
      "execution_count": null,
      "outputs": [
        {
          "output_type": "stream",
          "text": [
            "LASSO with alpha: 0.0001 \t MSE = 39.4383\n",
            "LASSO with alpha: 0.0100 \t MSE = 39.4741\n",
            "LASSO with alpha: 1.0000 \t MSE = 46.0755\n",
            "LASSO with alpha: 10.0000 \t MSE = 60.5650\n",
            "LASSO with alpha: 100.0000 \t MSE = 60.5650\n",
            "LASSO with alpha: 10000.0000 \t MSE = 60.5650\n",
            "=============================\n",
            "Best LASSO regression model in the validation set: alpha=0.0001 \t MSE=39.4383\n",
            "=============================\n",
            "Best Ridge regression model in the validation set: alpha=10.0000 \t MSE=39.4136\n"
          ],
          "name": "stdout"
        }
      ]
    },
    {
      "cell_type": "markdown",
      "metadata": {
        "id": "Sa2BS-xVLYUK"
      },
      "source": [
        "Podemos ver que, de acuerdo a los valores de MSE que obtenemos, el modelo LASSO actúa mejor cuando el valor de alpha es bajo. Esto significa que el modelo si casi se ignora el regularizador, lo que en principio sugiere que sería preferible utilizarlo sin ese término. \n",
        "\n",
        "En conclusión, cuando tengan un problema de regresión y quieran probar un método de regresión lineal, siempre es recomendable probar Ridge y LASSO y comparar uno con otro. Si ven que LASSO es peor que Ridge, pueden hacer algo de feature selection con Ridge regression para mejorar un poco los valores. Y, eventualmente, contrastar ese modelo final con el próximo que veremos a continuación."
      ]
    },
    {
      "cell_type": "markdown",
      "metadata": {
        "id": "_FWIXwZfnpLz"
      },
      "source": [
        "### 6. Random Forest Regression\n",
        "\n",
        "Random Forest es un modelo de machine learning basado en ensambles que nos permite hacer tanto regresión como clasificación. Los modelos basados en ensambles integran las respuestas de varios submodelos para producir una respuesta final. En el caso de RF, se cuenta con varios árboles de decisión entrenados a partir de particiones aleatorias de los datos de entrenamientos y subconjuntos de características.\n",
        "\n",
        "Vamos a hacer una primera prueba del método de RF regression usando diferentes cantidades de árboles, y evaluando cada uno sobre los datos de validación. También vamos a tomar el tiempo que demora cada entrenamiento y cada ejecución de validación, para ver cómo afecta el número de árboles al costo computacional del algoritmo."
      ]
    },
    {
      "cell_type": "code",
      "metadata": {
        "id": "DrSIKoWyno2i",
        "colab": {
          "base_uri": "https://localhost:8080/",
          "height": 465
        },
        "outputId": "e0b979e6-afd0-45de-b397-018f7163c245"
      },
      "source": [
        "from sklearn.ensemble import RandomForestRegressor\n",
        "import time\n",
        "\n",
        "# numero de arboles\n",
        "num_trees = [50, 100, 200, 300, 400, 500, 1000]\n",
        "# tiempos de entrenamiento y prediccion\n",
        "training_time = np.zeros(len(num_trees))\n",
        "prediction_time = np.zeros(len(num_trees))\n",
        "# inicializamos una lista de modelos\n",
        "rf_models = []\n",
        "\n",
        "# arreglo para ir guardando los valores de MSE\n",
        "mse_rf_regression = np.zeros(len(num_trees))\n",
        "\n",
        "# iteramos por cada numero de arboles\n",
        "i = 0\n",
        "print('RF regression')\n",
        "print('================')\n",
        "for N in num_trees:\n",
        "  # definimos el modelo\n",
        "  model = RandomForestRegressor(n_estimators=N, random_state=10)\n",
        "  # lo entrenamos sobre los datos de entrenamiento, midiendo el tiempo que lleva\n",
        "  start_time = time.time()\n",
        "  model.fit(dataset['X_train'], np.squeeze(dataset['y_train']))\n",
        "  training_time[i] = time.time() - start_time\n",
        "  rf_models.append(model)\n",
        "  # predecimos sobre los datos de validación, registrando el tiempo que lleva\n",
        "  start_time = time.time()\n",
        "  y_hat_val = model.predict(dataset['X_val'])\n",
        "  prediction_time[i] = time.time() - start_time\n",
        "  # evaluamos el MSE\n",
        "  mse_rf_regression[i] = mean_squared_error(dataset['y_val'], y_hat_val)\n",
        "  # imprimimos las estadisticas\n",
        "  print('N = {} - MSE = {:.4f} - Train time = {:.4f} s - Pred time = {:.4f} s'.format(N, mse_rf_regression[i], training_time[i], prediction_time[i]))\n",
        "  i = i+1\n",
        "print('================')\n",
        "\n",
        "# inicializamos los gráficos\n",
        "fig, axes = plt.subplots(3, 1)\n",
        "plt.subplots_adjust(hspace=1.5)\n",
        "# mostramos graficamente la evolución del MSE\n",
        "axes[0].plot(np.asarray(num_trees), mse_rf_regression, '-bo')\n",
        "axes[0].set_title('Number of trees vs. MSE')\n",
        "axes[0].set_xlabel('Number of trees')\n",
        "axes[0].set_ylabel('MSE')\n",
        "axes[0].grid(True)\n",
        "# y el tiempo en entrenamiento\n",
        "axes[1].plot(np.asarray(num_trees), training_time, '-bo')\n",
        "axes[1].legend(['Training time'])\n",
        "axes[1].set_title('Number of trees vs. computational time')\n",
        "axes[1].set_xlabel('Number of trees')\n",
        "axes[1].set_ylabel('Time (in sec)')\n",
        "axes[1].grid(True)\n",
        "# y en validacion\n",
        "axes[2].plot(np.asarray(num_trees), prediction_time, '-ro')\n",
        "axes[2].legend(['Prediction time'])\n",
        "axes[2].set_title('Number of trees vs. computational time')\n",
        "axes[2].set_xlabel('Number of trees')\n",
        "axes[2].set_ylabel('Time (in sec)')\n",
        "axes[2].grid(True)\n",
        "plt.show()\n"
      ],
      "execution_count": null,
      "outputs": [
        {
          "output_type": "stream",
          "text": [
            "RF regression\n",
            "================\n",
            "N = 50 - MSE = 22.5433 - Train time = 0.1199 s - Pred time = 0.0038 s\n",
            "N = 100 - MSE = 29.6400 - Train time = 0.2305 s - Pred time = 0.0069 s\n",
            "N = 200 - MSE = 27.9376 - Train time = 0.4683 s - Pred time = 0.0161 s\n",
            "N = 300 - MSE = 28.3151 - Train time = 0.7034 s - Pred time = 0.0198 s\n",
            "N = 400 - MSE = 28.1095 - Train time = 0.9342 s - Pred time = 0.0287 s\n",
            "N = 500 - MSE = 27.6402 - Train time = 1.1592 s - Pred time = 0.0326 s\n",
            "N = 1000 - MSE = 28.9749 - Train time = 2.3245 s - Pred time = 0.0743 s\n",
            "================\n"
          ],
          "name": "stdout"
        },
        {
          "output_type": "display_data",
          "data": {
            "image/png": "[encoded data removed]",
            "text/plain": [
              "<Figure size 432x288 with 3 Axes>"
            ]
          },
          "metadata": {
            "tags": [],
            "needs_background": "light"
          }
        }
      ]
    },
    {
      "cell_type": "markdown",
      "metadata": {
        "id": "jrb2DtCWlx6I"
      },
      "source": [
        "Si ejecutamos muchas veces el código anterior, vamos a ver que el comportamiento va a variar, y que el número óptimo de árboles va a ir cambiando. En cualquier caso, es interesante ver que:\n",
        "- En cada corrida hay un valor óptimo, y que menos o más hacen que la performance caiga.\n",
        "- Que en general el MSE es bastante estable (oscila entre 7 y 8)\n",
        "- Que entre diferentes tiradas el nivel de error también está siempre en 7 y 8.\n",
        "- Que en algún punto, cuando el número de árboles es muy grande, la performance casi se estabiliza.\n",
        "\n",
        "También podemos ver que el tiempo crece casi linealmente en función de la cantidad de árboles que utilicemos. Teniendo esto en cuenta, es recomendable tratar de usar un número de árboles acotado, para evitar que el algoritmo pase demasiado tiempo calculando información redundante sin que eso redunde en una mejora de performance.\n",
        "\n",
        "Tomemos el mejor caso y analicémoslo en comparación con los modelos anteriores."
      ]
    },
    {
      "cell_type": "code",
      "metadata": {
        "id": "0RlRDmOpl9Xh",
        "colab": {
          "base_uri": "https://localhost:8080/"
        },
        "outputId": "e18ab023-4c63-4334-ae20-6ab2671613c1"
      },
      "source": [
        "# identificamos el mejor modelo\n",
        "best_n_rf_idx = np.argmin(mse_rf_regression)\n",
        "best_n_rf = num_trees[best_n_rf_idx]\n",
        "best_mse_rf = mse_rf_regression[best_n_rf_idx]\n",
        "best_rf_model = rf_models[best_n_rf_idx]\n",
        "\n",
        "print('=============================')\n",
        "print('Best RF regression model in the validation set: \\t T={} \\t\\t MSE={:.4f}'.format(best_n_rf, best_mse_rf))\n",
        "print('Best LASSO regression model in the validation set: \\t alpha={} \\t MSE={:.4f}'.format(best_alpha_lasso, best_mse_lasso))\n",
        "print('Best Ridge regression model in the validation set: \\t alpha={} \\t MSE={:.4f}'.format(best_alpha_ridge, best_mse_ridge))"
      ],
      "execution_count": null,
      "outputs": [
        {
          "output_type": "stream",
          "text": [
            "=============================\n",
            "Best RF regression model in the validation set: \t T=50 \t\t MSE=22.5433\n",
            "Best LASSO regression model in the validation set: \t alpha=0.0001 \t MSE=39.4383\n",
            "Best Ridge regression model in the validation set: \t alpha=10.0 \t MSE=39.4136\n"
          ],
          "name": "stdout"
        }
      ]
    },
    {
      "cell_type": "markdown",
      "metadata": {
        "id": "65uATqHPl92T"
      },
      "source": [
        "Podemos ver con claridad que para este problema el modelo de random forest se comporta mejor (al menos en los datos de validación) que los demás algoritmos. Ya veremos qué pasa en los datos de test ;-)\n",
        "\n",
        "Una de las ventajas de RF regression es que nos permite obtener estadísticas acerca de qué features fueron las más relevantes para el modelo. Vamos a graficarlas para analizarlas:"
      ]
    },
    {
      "cell_type": "code",
      "metadata": {
        "id": "1MdgOqKgmL3j",
        "colab": {
          "base_uri": "https://localhost:8080/",
          "height": 327
        },
        "outputId": "c2211bf3-55d3-490b-e5e8-3b7cdff93f56"
      },
      "source": [
        "plt.bar(np.arange(theta.size), best_rf_model.feature_importances_)\n",
        "plt.xticks(ticks=np.arange(theta.size),labels=dataset['feature_labels'],rotation=90)\n",
        "plt.title('Feature importance')\n",
        "plt.xlabel('Features')\n",
        "plt.ylabel('Feature importance')\n",
        "plt.grid(True)\n",
        "plt.show()"
      ],
      "execution_count": null,
      "outputs": [
        {
          "output_type": "display_data",
          "data": {
            "image/png": "[encoded data removed]",
            "text/plain": [
              "<Figure size 432x288 with 1 Axes>"
            ]
          },
          "metadata": {
            "tags": [],
            "needs_background": "light"
          }
        }
      ]
    },
    {
      "cell_type": "markdown",
      "metadata": {
        "id": "KHN7nsSImMp3"
      },
      "source": [
        "Los valores de feature importance suman 1, y pueden interpretarse como el \"porcentaje de importancia\" de cada una de ellas. Puede observarse que más del 50% de la capacidad del regresor está explicada en este caso por RM. Si además comparamos este gráfico con los que generamos antes para los coeficientes de Ridge regression y LASSO, vamos a ver que en ambos casos RM fue el descriptor más pesado. Esto puede indicar que esta característica es quizá la que está más relacionada con la variable objetivo.\n",
        "\n",
        "Estos análisis resultan interesantes en general para sacar conclusiones respecto a los datos con los que estamos trabajando."
      ]
    },
    {
      "cell_type": "markdown",
      "metadata": {
        "id": "rA1y0xiAn-0_"
      },
      "source": [
        "### 7. Evaluación y comparación de modelos\n",
        "\n",
        "Vamos a hacer una evaluación final de los 3 mejores algoritmos de acuerdo a los datos de validación, pero esta vez sobre los datos de test. Lo haremos en función de todas las métricas que vimos, y también graficaremos el error absoluto para ver qué ocurre."
      ]
    },
    {
      "cell_type": "code",
      "metadata": {
        "id": "PD1Zks4BoBbY",
        "colab": {
          "base_uri": "https://localhost:8080/"
        },
        "outputId": "40eef0b4-e3d2-4227-fb90-bcfc89e2d906"
      },
      "source": [
        "from sklearn.metrics import mean_absolute_error\n",
        "\n",
        "# juntamos todos los modelos en una única lista\n",
        "models_for_evaluation = [best_ridge_model, best_lasso_model, best_rf_model]\n",
        "model_tags = ['Ridge', 'LASSO', 'RF']\n",
        "# inicializamos los arreglos donde vamos a ir guardando los valores a comparar\n",
        "mae_test = np.zeros(len(models_for_evaluation))\n",
        "mse_test = np.zeros(len(models_for_evaluation))\n",
        "r2_test = np.zeros(len(models_for_evaluation))\n",
        "differences_in_prediction = []\n",
        "\n",
        "# iteramos por cada modelo\n",
        "for i in range(len(models_for_evaluation)):\n",
        "  # generamos las predicciones con el método\n",
        "  y_hat_test = models_for_evaluation[i].predict(dataset['X_test'])\n",
        "  # evaluamos en términos de MAE\n",
        "  mae_test[i] = mean_absolute_error(dataset['y_test'], y_hat_test)\n",
        "  # evaluamos en términos de MSE\n",
        "  mse_test[i] = mean_squared_error(dataset['y_test'], y_hat_test)\n",
        "  # podemos también calcular el R2 sobre los datos de test\n",
        "  r2_test[i] = models_for_evaluation[i].score(dataset['X_test'], dataset['y_test'])\n",
        "  # y finalmente sacar las diferencias respecto a los valores que correspondian\n",
        "  current_differences = np.absolute(np.squeeze(dataset['y_test']) - np.squeeze(y_hat_test))\n",
        "  differences_in_prediction.append(current_differences)\n",
        "\n",
        "print('Mean Absolute Error')\n",
        "print('==========================')\n",
        "for i in range(len(model_tags)):\n",
        "  print('--> {} \\t MAE = {:.4f}'.format(model_tags[i], mae_test[i]))\n",
        "print('==========================\\n')\n",
        "\n",
        "print('Mean Squared Error')\n",
        "print('==========================')\n",
        "for i in range(len(model_tags)):\n",
        "  print('--> {} \\t MSE = {:.4f}'.format(model_tags[i], mse_test[i]))\n",
        "print('==========================\\n')\n",
        "\n",
        "print('R2')\n",
        "print('==========================')\n",
        "for i in range(len(model_tags)):\n",
        "  print('--> {} \\t R2 = {:.4f}'.format(model_tags[i], r2_test[i]))\n",
        "print('==========================\\n')"
      ],
      "execution_count": null,
      "outputs": [
        {
          "output_type": "stream",
          "text": [
            "Mean Absolute Error\n",
            "==========================\n",
            "--> Ridge \t MAE = 3.5831\n",
            "--> LASSO \t MAE = 3.6034\n",
            "--> RF \t MAE = 2.5169\n",
            "==========================\n",
            "\n",
            "Mean Squared Error\n",
            "==========================\n",
            "--> Ridge \t MSE = 24.2630\n",
            "--> LASSO \t MSE = 24.0658\n",
            "--> RF \t MSE = 12.9839\n",
            "==========================\n",
            "\n",
            "R2\n",
            "==========================\n",
            "--> Ridge \t R2 = 0.7353\n",
            "--> LASSO \t R2 = 0.7374\n",
            "--> RF \t R2 = 0.8583\n",
            "==========================\n",
            "\n"
          ],
          "name": "stdout"
        }
      ]
    },
    {
      "cell_type": "markdown",
      "metadata": {
        "id": "3fFhwt96uMxi"
      },
      "source": [
        "Tanto el MAE como el MSE son mejores cuando son más bajos, mientras que el R2 es mejor cuando es más cercano a 1. En este análisis sobre los datos de validación vemos que el modelo basado en RF es el que mejor trabaja sobre estos datos.\n",
        "\n",
        "Podríamos también graficas estas métricas, para que sea más fácil interpretarlas."
      ]
    },
    {
      "cell_type": "code",
      "metadata": {
        "id": "uI2xoT5kuNVR",
        "colab": {
          "base_uri": "https://localhost:8080/",
          "height": 318
        },
        "outputId": "98950f53-2b7b-43fb-982d-54843921eafc"
      },
      "source": [
        "# generamos graficas comparando los valores de MAE, MSE y R2\n",
        "fig, axes = plt.subplots(1, 3)\n",
        "plt.subplots_adjust(wspace=1.5)\n",
        "# mae\n",
        "axes[0].bar(np.arange(len(models_for_evaluation)), mae_test)\n",
        "axes[0].set_title('MAE on the test set')\n",
        "axes[0].set_xlabel('Regression model')\n",
        "axes[0].set_ylabel('MAE')\n",
        "axes[0].set_xticks(np.arange(len(model_tags)))\n",
        "axes[0].set_xticklabels(labels=model_tags, rotation=90)\n",
        "axes[0].grid(True)\n",
        "# mse\n",
        "axes[1].bar(np.arange(len(models_for_evaluation)), mse_test)\n",
        "axes[1].set_title('MSE on the test set')\n",
        "axes[1].set_xlabel('Regression model')\n",
        "axes[1].set_ylabel('MSE')\n",
        "axes[1].set_xticks(np.arange(len(model_tags)))\n",
        "axes[1].set_xticklabels(labels=model_tags, rotation=90)\n",
        "axes[1].grid(True)\n",
        "# R2\n",
        "axes[2].bar(np.arange(len(models_for_evaluation)), r2_test)\n",
        "axes[2].set_title('R2 on the test set')\n",
        "axes[2].set_xlabel('Regression model')\n",
        "axes[2].set_ylabel('R2')\n",
        "axes[2].set_xticks(np.arange(len(model_tags)))\n",
        "axes[2].set_xticklabels(labels=model_tags, rotation=90)\n",
        "axes[2].grid(True)\n",
        "plt.show()"
      ],
      "execution_count": null,
      "outputs": [
        {
          "output_type": "display_data",
          "data": {
            "image/png": "[encoded data removed]",
            "text/plain": [
              "<Figure size 432x288 with 3 Axes>"
            ]
          },
          "metadata": {
            "tags": [],
            "needs_background": "light"
          }
        }
      ]
    },
    {
      "cell_type": "markdown",
      "metadata": {
        "id": "-ogb9OnJuGCQ"
      },
      "source": [
        "Y podemos graficar en un boxplot el error absoluto, para estudiar las diferencias en predicción más en detalle."
      ]
    },
    {
      "cell_type": "code",
      "metadata": {
        "id": "12bDYsoeuGds",
        "colab": {
          "base_uri": "https://localhost:8080/",
          "height": 281
        },
        "outputId": "5ac16585-92a5-4909-f800-a0cfb3c8218d"
      },
      "source": [
        "# y ahora podemos plotear los errores usando un boxplot\n",
        "plt.boxplot(np.transpose(np.asarray(differences_in_prediction), axes=(1,0)),notch=True)\n",
        "plt.grid(True)\n",
        "plt.ylabel('Absolute error')\n",
        "plt.title('Absolute errors in the test set')\n",
        "plt.xticks(ticks=np.arange(len(model_tags))+1, labels=model_tags)\n",
        "plt.show()"
      ],
      "execution_count": null,
      "outputs": [
        {
          "output_type": "display_data",
          "data": {
            "image/png": "[encoded data removed]",
            "text/plain": [
              "<Figure size 432x288 with 1 Axes>"
            ]
          },
          "metadata": {
            "tags": [],
            "needs_background": "light"
          }
        }
      ]
    },
    {
      "cell_type": "markdown",
      "metadata": {
        "id": "G5Hnw_FiuJRD"
      },
      "source": [
        "Podemos ver que, en linea con los valores de MAE, MSE y R2, Ridge y LASSO tienen una performance muy similar, mientras que el modelo de Random Forest tiene errores que se distribuyen más cerca del 0.\n",
        "\n",
        "Y con eso tenemos todas las herramientas para hacer el práctico de regresión :)"
      ]
    }
  ]
}