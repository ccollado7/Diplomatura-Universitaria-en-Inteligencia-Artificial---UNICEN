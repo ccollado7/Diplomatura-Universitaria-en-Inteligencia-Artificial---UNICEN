{
  "nbformat": 4,
  "nbformat_minor": 0,
  "metadata": {
    "colab": {
      "name": "machine-learning-duia-2021-clase-5.ipynb",
      "provenance": [],
      "collapsed_sections": []
    },
    "kernelspec": {
      "name": "python3",
      "display_name": "Python 3"
    }
  },
  "cells": [
    {
      "cell_type": "markdown",
      "metadata": {
        "id": "FJdaaxjBlWvQ"
      },
      "source": [
        "# Aprendizaje de Máquinas (Machine Learning)\n",
        "## Clase 5: Clasificación (segunda parte)\n"
      ]
    },
    {
      "cell_type": "markdown",
      "metadata": {
        "id": "evqoZfGCKhGo"
      },
      "source": [
        "### 1. Configuración del ambiente\n",
        "\n",
        "Antes que empezar a trabajar, vamos a preparar el ambiente.\n",
        "Para ello:\n",
        "* Montamos Google Drive para guardar allí los archivos que descarguemos. En la consola nos va a aparecer una solicitud para hacer clic en una URL, loggearnos con nuestra cuenta de Google y colocar un código de autorización en una casilla."
      ]
    },
    {
      "cell_type": "code",
      "metadata": {
        "id": "nCXpJebGkAej",
        "colab": {
          "base_uri": "https://localhost:8080/"
        },
        "outputId": "5220049e-44d4-4932-a307-16d7c7c04059"
      },
      "source": [
        "# montar la unidad de google drive\n",
        "from google.colab import drive\n",
        "drive.mount('/content/gdrive/')\n",
        "\n",
        "# crear las carpetas necesarias\n",
        "from os import makedirs, path\n",
        "datasets_folder = '/content/gdrive/My Drive/Colab Notebooks/DUIA/2021/Machine Learning/'\n",
        "makedirs(datasets_folder, exist_ok=True)\n",
        "\n",
        "# importo numpy\n",
        "import numpy as np\n",
        "np.set_printoptions(precision=3, suppress=True) # y hago un truco para imprimir solamente 3 decimales\n",
        "\n",
        "# importamos pandas y seaborn\n",
        "import seaborn as sn\n",
        "import pandas as pd\n",
        "\n",
        "# importo una librería para utilizar valores aleatorios\n",
        "import random\n",
        "\n",
        "# importamos pickle para poder ir guardando los distintos modelos\n",
        "import pickle\n",
        "\n",
        "# importo matplotlib\n",
        "import matplotlib.pyplot as plt"
      ],
      "execution_count": null,
      "outputs": [
        {
          "output_type": "stream",
          "text": [
            "Drive already mounted at /content/gdrive/; to attempt to forcibly remount, call drive.mount(\"/content/gdrive/\", force_remount=True).\n"
          ],
          "name": "stdout"
        }
      ]
    },
    {
      "cell_type": "markdown",
      "metadata": {
        "id": "d8UFCFYPlhtM"
      },
      "source": [
        "### 2. Acceso a datos y modelos entrenados la clase pasada\n",
        "\n",
        "Vamos a cargar los datos que ya preparamos la clase pasada, para evitar tener que hacer todo el procesamiento nuevamente. También vamos a cargar los modelos que entrenamos, así no repetimos todo el proceso de model selection.\n",
        "\n"
      ]
    },
    {
      "cell_type": "code",
      "metadata": {
        "id": "yibb6itgdqop",
        "colab": {
          "base_uri": "https://localhost:8080/"
        },
        "outputId": "03256464-2eaa-4621-b64f-db12ef382a65"
      },
      "source": [
        "from sklearn.linear_model import LogisticRegression\n",
        "from sklearn.svm import LinearSVC\n",
        "from sklearn.ensemble import RandomForestClassifier\n",
        "from sklearn.neighbors import KNeighborsClassifier\n",
        "\n",
        "# cargamos los datos preparados\n",
        "dataset_filename = path.join(datasets_folder, 'breast_cancer_partitioned.pkl')\n",
        "with open(dataset_filename, 'rb') as f:\n",
        "    dataset = pickle.load(f)\n",
        "\n",
        "# cargamos el modelo básico de logistic regression\n",
        "model_filename = path.join(datasets_folder, 'breast_cancer_basic_log_reg.pkl')\n",
        "with open(model_filename, 'rb') as f:\n",
        "    log_reg_model = pickle.load(f)['model']\n",
        "print(log_reg_model)\n",
        "\n",
        "# cargamos el modelo regularizado (comentar el regularizador que no hayan calculado)\n",
        "regularizer = 'l2'\n",
        "#regularizer = 'l1'\n",
        "model_filename = path.join(datasets_folder, 'breast_cancer_{}_reg_log_reg.pkl'.format(regularizer))\n",
        "if path.exists(model_filename):\n",
        "  with open(model_filename, 'rb') as f:\n",
        "      reg_log_reg_model = pickle.load(f)['model']\n",
        "print(reg_log_reg_model)\n",
        "\n",
        "# cargamos la svm\n",
        "model_filename = path.join(datasets_folder, 'breast_cancer_svm.pkl')\n",
        "with open(model_filename, 'rb') as f:\n",
        "    svm = pickle.load(f)['model']\n",
        "print(svm)\n",
        "\n",
        "# cargamos el random forest\n",
        "model_filename = path.join(datasets_folder, 'breast_cancer_rf.pkl')\n",
        "with open(model_filename, 'rb') as f:\n",
        "    random_forest = pickle.load(f)['model']\n",
        "print(random_forest)\n",
        "\n",
        "# cargamos el knn\n",
        "model_filename = path.join(datasets_folder, 'breast_cancer_knn.pkl')\n",
        "with open(model_filename, 'rb') as f:\n",
        "    knn = pickle.load(f)['model']\n",
        "print(knn)\n",
        "\n",
        "\n",
        "# construimos una lista con todos los modelos\n",
        "models_to_evaluate = [log_reg_model, reg_log_reg_model, svm, random_forest, knn]\n",
        "model_names = ['Basic Log Reg', 'Regularized Log Reg', 'SVM', 'Random Forest', 'kNN']"
      ],
      "execution_count": null,
      "outputs": [
        {
          "output_type": "stream",
          "text": [
            "LogisticRegression(C=1.0, class_weight=None, dual=False, fit_intercept=True,\n",
            "                   intercept_scaling=1, l1_ratio=None, max_iter=100,\n",
            "                   multi_class='auto', n_jobs=None, penalty='none',\n",
            "                   random_state=None, solver='lbfgs', tol=0.0001, verbose=0,\n",
            "                   warm_start=False)\n",
            "LogisticRegression(C=1, class_weight=None, dual=False, fit_intercept=True,\n",
            "                   intercept_scaling=1, l1_ratio=None, max_iter=1000,\n",
            "                   multi_class='auto', n_jobs=None, penalty='l2',\n",
            "                   random_state=None, solver='lbfgs', tol=0.0001, verbose=0,\n",
            "                   warm_start=False)\n",
            "LinearSVC(C=0.01, class_weight=None, dual=True, fit_intercept=True,\n",
            "          intercept_scaling=1, loss='hinge', max_iter=5000, multi_class='ovr',\n",
            "          penalty='l2', random_state=None, tol=0.0001, verbose=0)\n",
            "RandomForestClassifier(bootstrap=True, ccp_alpha=0.0, class_weight=None,\n",
            "                       criterion='gini', max_depth=None, max_features='auto',\n",
            "                       max_leaf_nodes=None, max_samples=None,\n",
            "                       min_impurity_decrease=0.0, min_impurity_split=None,\n",
            "                       min_samples_leaf=1, min_samples_split=2,\n",
            "                       min_weight_fraction_leaf=0.0, n_estimators=25,\n",
            "                       n_jobs=None, oob_score=False, random_state=10, verbose=0,\n",
            "                       warm_start=False)\n",
            "KNeighborsClassifier(algorithm='brute', leaf_size=30, metric='minkowski',\n",
            "                     metric_params=None, n_jobs=None, n_neighbors=3, p=2,\n",
            "                     weights='uniform')\n"
          ],
          "name": "stdout"
        }
      ]
    },
    {
      "cell_type": "markdown",
      "metadata": {
        "id": "hy0dJ_-Hdpuh"
      },
      "source": [
        "### 3. Algunas métricas (nuevas) de evaluación\n",
        "\n",
        "Hasta ahora veníamos comparando los algoritmos en función de su accuracy sobre los datos de validación. Sin embargo, existen un montón de otras métricas que nos permiten analizar otras características de los modelos que son igual de interesantes que el número de aciertos.\n",
        "\n",
        "Vamos a evaluar diferentes métricas usando los resultados que obtenemos en los datos de test. Para eso lo primero que necesitamos hacer es obtener predicciones sobre esos datos, y ya que estamos comparemos sus valores de accuracy.\n",
        "\n"
      ]
    },
    {
      "cell_type": "code",
      "metadata": {
        "id": "9K1t-UYToMfV",
        "colab": {
          "base_uri": "https://localhost:8080/"
        },
        "outputId": "4b8718c6-f4a4-484f-97c7-a68faea6f5af"
      },
      "source": [
        "from sklearn.metrics import accuracy_score\n",
        "\n",
        "# inicializamos una lista en la que vamos a ir guardando los resultados\n",
        "results_in_test_set = []\n",
        "# inicializamos un arreglo donde guardamos los valores de accuracy\n",
        "accuracies = np.zeros(len(model_names))\n",
        "\n",
        "# iteramos por cada uno de los modelos\n",
        "i=0\n",
        "for current_model in models_to_evaluate:\n",
        "  print('Running {} in the test set'.format(model_names[i]))\n",
        "  # hacemos predicciones sobre los datos de test\n",
        "  y_hat_test = current_model.predict(dataset['X_test'])\n",
        "  # las agregamos a la lista de resultados\n",
        "  results_in_test_set.append(y_hat_test)\n",
        "  # calculamos el accuracy y lo guardamos en el arreglo\n",
        "  accuracies[i] = accuracy_score(dataset['y_test'], y_hat_test)\n",
        "  print('- Accuracy = {:.4f}'.format(accuracies[i]))\n",
        "  i = i+1\n"
      ],
      "execution_count": null,
      "outputs": [
        {
          "output_type": "stream",
          "text": [
            "Running Basic Log Reg in the test set\n",
            "- Accuracy = 0.9532\n",
            "Running Regularized Log Reg in the test set\n",
            "- Accuracy = 0.9766\n",
            "Running SVM in the test set\n",
            "- Accuracy = 0.9766\n",
            "Running Random Forest in the test set\n",
            "- Accuracy = 0.9415\n",
            "Running kNN in the test set\n",
            "- Accuracy = 0.9591\n"
          ],
          "name": "stdout"
        }
      ]
    },
    {
      "cell_type": "markdown",
      "metadata": {
        "id": "dhclsUHVvmqL"
      },
      "source": [
        "En principio vemos que algo de lo que vimos en los datos de validación se mantiene sobre los datos de test. Los modelos no lineales son los que menos bien funcionan, seguidos por el modelo de regresión logística sin regularización. Los modelos regularizados (ya sea el de regresión logística o la SVM) obtuvieron los mismos valores de accuracy. Ahora bien, ¿funcionan exactamente igual?"
      ]
    },
    {
      "cell_type": "markdown",
      "metadata": {
        "id": "HyqxutgNoNHT"
      },
      "source": [
        "#### 3.1. Sensitividad y especificidad: entendiendo positivos y negativos\n",
        "\n",
        "En general, cuando tenemos problemas de clasificación binaria no nos interesa saber únicamente la proporción de muestras que el algoritmo acertó, si no que también queremos saber qué tan bueno fue para detectar una clase o la otra, por separado. Esta información nos la dan dos métricas: [la sensitividad (sensitivity) y la especificidad (specificity)](https://en.wikipedia.org/wiki/Sensitivity_and_specificity).\n",
        "\n",
        "La sensitividad se define como: $\\text{Se} = \\frac{\\text{TP}}{\\text{TP} + \\text{FN}} = \\frac{\\text{TP}}{P}$, donde TP es el número de true positives (cantidad de muestras positivas correctamente detectadas) y FN es el número de false negatives (cantidad de muestras positivas detectadas erroneamente como negativas). El denominador fíjense que podemos reemplazarlo también por $P$, que es el número total de muestras positivas que tenemos en nuestros datos.\n",
        "\n",
        "La especificidad se define como: $\\text{Sp} = \\frac{\\text{TN}}{\\text{TN} + \\text{FP}} = \\frac{\\text{TN}}{N}$, donde TN es el número de true negatives (cantidad de muestras negativas detectadas) y FP es el número de false positives (cantidad de muestras negativas detectadas erroneamente como positivas). El denominador fíjense que podemos reemplazarlo también por $P$, que es el número total de muestras negativas que tenemos en nuestros datos.\n",
        "\n",
        "La sensitividad nos dice qué tan bien nuestro algoritmo detecta la clase positiva, y la especificidad qué tan bien detecta nuestro algoritmo la clase negativa. La especificidad podría verse incluso como \"la sensitividad para la clase negativa\", si comparan las ecuaciones. Ambas métricas están acotadas entre 0 y 1. Cuando son 0, es porque la cantidad de TP o TN es 0 (para sensitividad o especificidad, respectivamente). Cuando la sensitividad o especificidad dan 1, es porque la cantidad de TP o TN coincide con el número total de muestras positivas o negativas, respectivamente. \n",
        "\n",
        "En general las analizamos a las dos a la vez, porque siempre es posible obtener un método con sensitividad (especificidad) = 100% prediciendo que cualquier entrada es positiva (negativa). Si estudiamos la relación entre ambas podemos de alguna manera \"descomponer\" el valor de accuracy y entender un poco más en detalle qué hace nuestro algoritmo.\n",
        "\n",
        "Evaluemos los valores de sensitividad y especificad de los algoritmos con los que estábamos trabajando, sobre los datos de test:"
      ]
    },
    {
      "cell_type": "code",
      "metadata": {
        "id": "wkyXueQglFTe",
        "colab": {
          "base_uri": "https://localhost:8080/",
          "height": 778
        },
        "outputId": "c1582ee6-e5e8-43c5-fe03-60dcc3287a3b"
      },
      "source": [
        "def sensitivity(y_true, y_pred):\n",
        "  '''\n",
        "  Sensitividad = TP / P\n",
        "  '''\n",
        "  # contamos las muestras positivas\n",
        "  P = np.sum(y_true)\n",
        "  # contamos las muestras positivas que coinciden con las positivas de y_pred\n",
        "  TP = np.sum(np.logical_and(y_true, y_pred))\n",
        "  return TP / P\n",
        "\n",
        "\n",
        "def specificity(y_true, y_pred):\n",
        "  '''\n",
        "  Especificidad = TN / N\n",
        "  '''\n",
        "  return sensitivity(np.logical_not(y_true), np.logical_not(y_pred))\n",
        "\n",
        "\n",
        "# recordemos qué representa cada clase\n",
        "print('Our classifiers take samples and classify them in:')\n",
        "print(dataset['target_names'])\n",
        "print('=====================')\n",
        "\n",
        "# inicializamos arreglos en cero para los valores de sensitividad/especificidad\n",
        "sensitivities = np.zeros(len(model_names))\n",
        "specificities = np.zeros(len(model_names))\n",
        "# iteramos por cada modelo y vamos calculando sus valores de sensitividad/especificidad\n",
        "for i in range(len(model_names)):\n",
        "  print('{}:'.format(model_names[i]))\n",
        "  sensitivities[i] = sensitivity(dataset['y_test'], results_in_test_set[i])\n",
        "  specificities[i] = specificity(dataset['y_test'], results_in_test_set[i])\n",
        "  print('- Sensitivity = {:.4f}'.format(sensitivities[i]))\n",
        "  print('- Specificity = {:.4f}'.format(specificities[i]))\n",
        "  print('=====================')\n",
        "\n",
        "\n",
        "# inicializamos un gráfico para cada métrica\n",
        "fig, axes = plt.subplots(1, 2)\n",
        "plt.subplots_adjust(wspace=0.5)\n",
        "# graficamos las sensitivities\n",
        "axes[0].bar(np.arange(sensitivities.size), sensitivities)\n",
        "axes[0].set_title('Sensitivity')\n",
        "axes[0].set_ylim(0.7, 1.0)\n",
        "axes[0].set_xlabel('Models')\n",
        "axes[0].set_ylabel('Sensitivity')\n",
        "axes[0].set_xticks(np.arange(sensitivities.size))\n",
        "axes[0].set_xticklabels(model_names, rotation=90)\n",
        "axes[0].grid(True)\n",
        "# y las specificities\n",
        "axes[1].bar(np.arange(specificities.size), specificities)\n",
        "axes[1].set_title('Specificity')\n",
        "axes[1].set_xlabel('Models')\n",
        "axes[1].set_ylabel('Specificity')\n",
        "axes[1].set_xticks(np.arange(specificities.size))\n",
        "axes[1].set_xticklabels(model_names, rotation=90)\n",
        "axes[1].grid(True)\n",
        "\n",
        "plt.show()"
      ],
      "execution_count": null,
      "outputs": [
        {
          "output_type": "stream",
          "text": [
            "Our classifiers take samples and classify them in:\n",
            "['malignant', 'benign']\n",
            "=====================\n",
            "Basic Log Reg:\n",
            "- Sensitivity = 0.9533\n",
            "- Specificity = 0.9531\n",
            "=====================\n",
            "Regularized Log Reg:\n",
            "- Sensitivity = 0.9813\n",
            "- Specificity = 0.9688\n",
            "=====================\n",
            "SVM:\n",
            "- Sensitivity = 0.9907\n",
            "- Specificity = 0.9531\n",
            "=====================\n",
            "Random Forest:\n",
            "- Sensitivity = 0.9533\n",
            "- Specificity = 0.9219\n",
            "=====================\n",
            "kNN:\n",
            "- Sensitivity = 0.9907\n",
            "- Specificity = 0.9062\n",
            "=====================\n"
          ],
          "name": "stdout"
        },
        {
          "output_type": "display_data",
          "data": {
            "image/png": "[encoded data removed]",
            "text/plain": [
              "<Figure size 432x288 with 2 Axes>"
            ]
          },
          "metadata": {
            "tags": [],
            "needs_background": "light"
          }
        }
      ]
    },
    {
      "cell_type": "markdown",
      "metadata": {
        "id": "pU19AZUnumqy"
      },
      "source": [
        "Donde antes teníamos métodos con un accuracy equivalente (la SVM y el método regularizado de logistic regresion), ahora vemos que hay diferencias en sus valores de sensitividad y especificidad. Comparémoslos individualmente:"
      ]
    },
    {
      "cell_type": "code",
      "metadata": {
        "id": "A6NpIY0-wVi4",
        "colab": {
          "base_uri": "https://localhost:8080/",
          "height": 297
        },
        "outputId": "ea3c7f0a-a463-47aa-a98b-3086b1a9ab80"
      },
      "source": [
        "labels = ['Sensitivity', 'Specificity']\n",
        "# buscamos la posición de los dos modelos que queremos comparar\n",
        "idx_log_reg = model_names.index('Regularized Log Reg')\n",
        "idx_svm = model_names.index('SVM')\n",
        "# nos quedamos con sus valores de sensitividad y especificidad\n",
        "reg_log_reg_metrics = [sensitivities[idx_log_reg], specificities[idx_log_reg]]\n",
        "svm_metrics = [sensitivities[idx_svm], specificities[idx_svm]]\n",
        "# los ploteamos juntos en un mismo gráfico\n",
        "x = np.arange(len(labels))\n",
        "width = 0.35\n",
        "fig, ax = plt.subplots()\n",
        "rects1 = ax.bar(x-(width/2), reg_log_reg_metrics, width, label='Regularized Log Reg')\n",
        "rects2 = ax.bar(x+(width/2), svm_metrics, width, label='SVM')\n",
        "ax.set_ylim(0.7, 1.0)\n",
        "ax.legend(['Regularized Log Reg', 'SVM'], loc='lower right')\n",
        "ax.set_xticks(x)\n",
        "ax.set_title('Comparison of Sensitivity and Specificity between Reg. Log. Reg. and SVM')\n",
        "ax.set_xticklabels(labels)\n",
        "ax.set_ylabel('Metric value')\n",
        "ax.set_xlabel('Metric')\n",
        "ax.grid(True)\n",
        "fig.tight_layout()\n",
        "plt.show()"
      ],
      "execution_count": null,
      "outputs": [
        {
          "output_type": "display_data",
          "data": {
            "image/png": "[encoded data removed]",
            "text/plain": [
              "<Figure size 432x288 with 1 Axes>"
            ]
          },
          "metadata": {
            "tags": [],
            "needs_background": "light"
          }
        }
      ]
    },
    {
      "cell_type": "markdown",
      "metadata": {
        "id": "A_-GJd5zza_P"
      },
      "source": [
        "Vemos que el algoritmo de regresión logística tiene una menos sensitividad comparado con la SVM, pero que a la vez tiene una mayor especificidad. Dependiendo de la aplicación, deberíamos elegir alguno de los dos para aplicar, ya que ambos tienen la misma accuracy.\n",
        "\n",
        "En este caso, estamos trabajando en un problema médico que consiste en detectar si un determinado quiste de mama es benigno, en función de sus características. Un modelo con mucha sensitividad va a ser capaz de detectar muy bien los benignos. Sin embargo, si no aseguramos una alta especificidad, puede confundir quistes malignos con benignos, y eso puede ser (SUPER) problemático: tumores que deberían tratarse por ser malignos serían ignorados por creer que en realidad no lo eran! ¿Cuál de los modelos disponibles les parece entonces el mejor?"
      ]
    },
    {
      "cell_type": "markdown",
      "metadata": {
        "id": "RSE7MMoF0QYb"
      },
      "source": [
        "#### 3.2. Curvas ROC: eligiendo el umbral\n",
        "\n",
        "Algunos clasificadores pueden proveernos un score que podemos emplear para, por ejemplo, interpretar su salida de manera \"probabilística\". Así, en lugar de obtener una respuesta binaria, obtenemos un número que podemos pensar como una probabilidad de pertenecer a una u otra clase, y que podríamos umbralar en algún valor específico.\n",
        "\n",
        "Vamos a calcular las predicciones probabilísticas de cada modelo, usando el método ```predict_proba()```. Tengan en cuenta que estas predicciones se calculan de distinta forma, dependiendo del algoritmo:\n",
        "* Logistic Regression: es la salida de la función sigmoidea que aplicamos a los scores del clasificador lineal.\n",
        "* Random Forest: es la cantidad de árboles que votaron por la clase dividido el total de árboles.\n",
        "* kNN: es la cantidad de vecinos que votaron por la clase dividido el total de vecinos.\n",
        "\n",
        "En el caso particular de la SVM, notarán que utilizamos otro método, llamado ```decision_function()```. Esto es porque la SVM no nos da per se un valor de probabilidad, si no la distancia del punto respecto al hiperplano aprendido. Este valor puede usarse como un score, aunque [no está calibrado](https://machinelearningmastery.com/calibrated-classification-model-in-scikit-learn/#:~:text=Calibration%20of%20prediction%20probabilities%20is,Platt%20Scaling%20and%20Isotonic%20Regression). La calibración de scores es un mundo en sí mismo que lamentablemente no podemos cubrir en este curso, pero tomemos por ahora esos valores."
      ]
    },
    {
      "cell_type": "code",
      "metadata": {
        "id": "5FR5TBwM0qXA",
        "colab": {
          "base_uri": "https://localhost:8080/"
        },
        "outputId": "c5617bfa-e1a7-40b4-cc85-7653e79a1d23"
      },
      "source": [
        "# inicializamos una lista en la que vamos a ir guardando los resultados\n",
        "score_based_results_in_test_set = []\n",
        "\n",
        "# iteramos por cada uno de los modelos\n",
        "i=0\n",
        "for current_model in models_to_evaluate:\n",
        "  print('Running {} in the test set'.format(model_names[i]))\n",
        "  # hacemos predicciones sobre los datos de test\n",
        "  if model_names[i]!='SVM':\n",
        "    # predecimos las probabilidades\n",
        "    y_hat_test = current_model.predict_proba(dataset['X_test'])\n",
        "    # tenemos que quedarnos con las de la clase positiva\n",
        "    y_hat_test = y_hat_test[:,1]\n",
        "  else:\n",
        "    # predecimos la distancia al hiperplano\n",
        "    y_hat_test = current_model.decision_function(dataset['X_test'])\n",
        "  print(' -- {} ...'.format(y_hat_test[0:10]))\n",
        "  # las agregamos a la lista de resultados\n",
        "  score_based_results_in_test_set.append(y_hat_test)\n",
        "  i = i+1"
      ],
      "execution_count": null,
      "outputs": [
        {
          "output_type": "stream",
          "text": [
            "Running Basic Log Reg in the test set\n",
            " -- [1. 1. 1. 0. 0. 0. 1. 0. 1. 1.] ...\n",
            "Running Regularized Log Reg in the test set\n",
            " -- [0.999 1.    1.    0.003 0.    0.211 0.971 0.013 0.892 0.994] ...\n",
            "Running SVM in the test set\n",
            " -- [ 1.736  2.202  1.88  -1.104 -1.927 -0.016  1.088 -0.664  0.728  1.291] ...\n",
            "Running Random Forest in the test set\n",
            " -- [1.   0.88 1.   0.12 0.   0.32 0.96 0.16 1.   0.96] ...\n",
            "Running kNN in the test set\n",
            " -- [1.    1.    1.    0.    0.    0.667 1.    0.    0.667 1.   ] ...\n"
          ],
          "name": "stdout"
        }
      ]
    },
    {
      "cell_type": "markdown",
      "metadata": {
        "id": "ID_AVzmp4g5p"
      },
      "source": [
        "Existe una herramienta para evaluar qué tan buenos son esos scores: [la curva ROC](https://en.wikipedia.org/wiki/Receiver_operating_characteristic). En estas curvas se representan los diferentes valores de sensitividad y especificidad que se obtienen al umbralar los scores utilizando diferentes valores. En particular, cada umbral tiene asociado un valor de TPR (true positive ratio, equivalente a la sensitivity) y otro de FPR (false positive ratio, equivalente a 1 - specificity), ya que al umbralar podemos contar la cantidad de TP y FP. Luego, uniendo los puntos podemos obtener una curva que nos represente todos esos posibles valores juntos.\n",
        "\n",
        "¿Cómo se interpreta esta curva?\n",
        "* La **curva ROC es óptima cuando tiene un vértice en el punto TPR=1 y FPR=0** (ubicado en el vértice superior izquierdo). Esto significa que para algún cierto umbral es capaz de obtener 100% de true positives sin tener ni un solo falso positivo. \n",
        "* **La peor de las curvas ocurre cuando cada vez que crece el TPR crece también el FPR en igual proporción.** Esa curva suele verse como una recta en diagonal que une el punto (0.0, 0.0) (el vértice inferior izquierdo) con el (1.0, 1.0) (el vértice superior derecho). El modelo se dice entonces que es completamente aleatorio: arriesga cosas cuando predice, y esas cosas tienen igual probabilidad de estar bien o mal.\n",
        "* **La curva ROC que esté por debajo de la curva asociada a modelos aleatorios se dice que corresponde a un modelo inverso.** Esto es: cada vez que predigo, tengo más chances de predecir un falso positivo que un true positive. ¿Cómo podría corregirlo? Simplemente invirtiendo el valor de probabilidad de salida. Así, lo que antes era un falso positivo ahora será un true positive, y viceversa.\n",
        "* El **area debajo de la curva (Area Under the Curve, AUC)** es un indicador numérico que nos resume qué tan buena es la curva. Cuanto más cercano a 1 es, mejor es la curva. Cuanto más cercano a 0.5 es, entonces más aleatorio es el modelo. Si el valor de AUC es menor a 0.5, entonces el modelo está prediciendo las cosas al revés! En esos casos, conviene revisar si no estamos haciendo algo mal en el etiquetado o el preparado de los datos.\n",
        "\n",
        "Vamos a calcular las curvas ROC para nuestros distintos modelos, y calcular sus respectivos valores de AUC."
      ]
    },
    {
      "cell_type": "code",
      "metadata": {
        "id": "rfk3LfvT4ijp",
        "colab": {
          "base_uri": "https://localhost:8080/",
          "height": 380
        },
        "outputId": "294cf140-91d5-4bf0-9d74-2d8a84f55dff"
      },
      "source": [
        "from sklearn.metrics import roc_curve, roc_auc_score\n",
        "\n",
        "# variable para determinar si queremos hacer zoom o no\n",
        "#zoom = False\n",
        "zoom = True\n",
        "\n",
        "# inicializamos una matriz para los valores de AUC\n",
        "auc_values = np.zeros(len(model_names))\n",
        "\n",
        "# recorremos cada uno de los modelos\n",
        "for i in range(len(model_names)):\n",
        "  # generamos la curva roc\n",
        "  fpr, tpr, thresholds = roc_curve(dataset['y_test'], score_based_results_in_test_set[i])\n",
        "  auc_values[i] = roc_auc_score(dataset['y_test'], score_based_results_in_test_set[i])\n",
        "  # la mostramos\n",
        "  plt.plot(fpr, tpr)\n",
        "  print('{} - AUC = {:.4f}'.format(model_names[i], auc_values[i]))\n",
        "\n",
        "# si queremos aplicar un zoom\n",
        "if zoom:\n",
        "  plt.xlim(0.0, 0.5)\n",
        "  plt.ylim(0.5, 1.0)  \n",
        "plt.xlabel('FPR (1 - Specificity)')\n",
        "plt.ylabel('TPR (Sensitivity)')\n",
        "plt.title('ROC curves')\n",
        "plt.grid(True)\n",
        "plt.legend(model_names, loc='lower right')\n",
        "plt.show()\n"
      ],
      "execution_count": null,
      "outputs": [
        {
          "output_type": "stream",
          "text": [
            "Basic Log Reg - AUC = 0.9817\n",
            "Regularized Log Reg - AUC = 0.9915\n",
            "SVM - AUC = 0.9888\n",
            "Random Forest - AUC = 0.9845\n",
            "kNN - AUC = 0.9812\n"
          ],
          "name": "stdout"
        },
        {
          "output_type": "display_data",
          "data": {
            "image/png": "[encoded data removed]",
            "text/plain": [
              "<Figure size 432x288 with 1 Axes>"
            ]
          },
          "metadata": {
            "tags": [],
            "needs_background": "light"
          }
        }
      ]
    },
    {
      "cell_type": "markdown",
      "metadata": {
        "id": "kjbLPYixACfX"
      },
      "source": [
        "Podemos ver que si consideramos scores, el modelo de regresión logística regularizada es el que nos permite obtener una mejor curva ROC, ya que arroja el mejor valor de area bajo la curva."
      ]
    },
    {
      "cell_type": "markdown",
      "metadata": {
        "id": "yNIsbLSQAxmb"
      },
      "source": [
        "### 4. Problemas de clase sesgada\n",
        "\n",
        "Hasta ahora vinimos trabajando con datos que tienen una particularidad: tienen una proporción igual de muestras pertenecientes a cada clase. Esto rara vez ocurre en la vida real. Los datos que solemos recibir siempre tienen un montón de ruido, no solamente en sus características o etiquetas si no también en la forma en la que fueron muestreados. En consecuencia, puede ocurrir que tengamos algunas muestras que sean desproporcionalmente más comunes que otras. En otro casos, el problema en sí mismo es un problema de naturaleza desbalanceada: detectar estrellas en una foto nocturna, por ejemplo, implica un problema en el que muy pocos píxeles pertenecen a la clase de interés (estrella), mientras que todos los demás pertenecen a la otra clase (no estrella).\n",
        "\n",
        "Los problemas de este tipo suelen conocerse como **de clase sesgada**. Los algoritmos que venimos trabajando hasta acá suelen requerir que establezcamos alguna estrategia correctiva para ayudarlos a entender los datos de mejor manera, así como tenemos que cambiar las métricas que utilizamos para evaluarlos.\n",
        "\n",
        "En las próximas secciones vamos a tomar un ejemplo, viendo cómo las métricas que utilizamos hasta ahora se rompen y cómo tenemos que adaptar nuestars soluciones para trabajar mejor."
      ]
    },
    {
      "cell_type": "markdown",
      "metadata": {
        "id": "7FUApMLp_BtM"
      },
      "source": [
        "#### 4.1. Preparamos datos para un nuevo problema\n",
        "\n",
        "Vamos a descargar y preparar los datos de [un dataset de Kaggle creado para detectar fraude en el uso de tarjetas de crédito](https://www.kaggle.com/mlg-ulb/creditcardfraud). El conjunto incluye una serie de features V1, V2, ... V28, cada una de las cuales es el resultado de haber hecho PCA sobre otras features que no podían colocarse en su versión original (por cuestiones de confidencialidad). Además, se incluye el tiempo desde la primera transacción en el dataset y la cantidad de dinero de la transacción como features adicionales. El problema consiste en detectar si la operación fue fraude (1) o no (0).\n",
        "\n",
        "Vamos a descargar ese archivo y prepararlo como veníamos haciendo hasta ahora."
      ]
    },
    {
      "cell_type": "code",
      "metadata": {
        "id": "us0NxeWS-rjK",
        "colab": {
          "base_uri": "https://localhost:8080/"
        },
        "outputId": "6340fa72-35c0-4fa1-f08d-2575b212cbdb"
      },
      "source": [
        "# descargamos los datos usando Pandas\n",
        "df = pd.read_csv('https://query.data.world/s/rr62wuvzi3yg2vizv3ro6wpd253n44')\n",
        "\n",
        "# inicializamos un diccionario para guardar el dataset\n",
        "dataset = dict()\n",
        "# nos quedamos con los tags de las columnas\n",
        "dataset['feature_labels'] = []\n",
        "for col in df.columns: \n",
        "    dataset['feature_labels'].append(col)\n",
        "dataset['feature_labels'] = dataset['feature_labels'][:-1]\n",
        "# asignamos las etiquetas de las variables objetivo\n",
        "dataset['target_names'] = ['not-fraud', 'fraud']\n",
        "# pasamos a numpy y nos quedamos con las features y las etiquetas\n",
        "data = df.to_numpy()\n",
        "X = data[:,:-1]\n",
        "y = data[:,-1]\n",
        "\n",
        "# imprimimos las estadísticas\n",
        "print('======================')\n",
        "print('ORIGINAL CREDIT CARD FRAUD DATASET')\n",
        "print('Num samples: {}'.format(X.shape[0]))\n",
        "print('Num features: {}'.format(X.shape[1]))\n",
        "print('Feature names: {}'.format(dataset['feature_labels']))\n",
        "print('Classes: {}'.format(np.unique(y)))\n",
        "print('Target names: {}'.format(dataset['target_names']))\n",
        "print('% samples per class')\n",
        "for i in range(len(np.unique(y))):\n",
        "  print('--> {} : {:2.2f}%'.format(i, np.sum(y==i)/y.size*100))\n",
        "print('======================')\n"
      ],
      "execution_count": null,
      "outputs": [
        {
          "output_type": "stream",
          "text": [
            "======================\n",
            "ORIGINAL CREDIT CARD FRAUD DATASET\n",
            "Num samples: 284807\n",
            "Num features: 30\n",
            "Feature names: ['Time', 'V1', 'V2', 'V3', 'V4', 'V5', 'V6', 'V7', 'V8', 'V9', 'V10', 'V11', 'V12', 'V13', 'V14', 'V15', 'V16', 'V17', 'V18', 'V19', 'V20', 'V21', 'V22', 'V23', 'V24', 'V25', 'V26', 'V27', 'V28', 'Amount']\n",
            "Classes: [0. 1.]\n",
            "Target names: ['not-fraud', 'fraud']\n",
            "% samples per class\n",
            "--> 0 : 99.83%\n",
            "--> 1 : 0.17%\n",
            "======================\n"
          ],
          "name": "stdout"
        }
      ]
    },
    {
      "cell_type": "markdown",
      "metadata": {
        "id": "RAnXU2L52EL_"
      },
      "source": [
        "Podemos ver que en la enorme mayoría de los casos las muestras corresponden a datos no fraudulentos (un 99.83% vs. 0.17%). Este problema es tremendamente desbalanceado, y nos va a servir de ejemplo para lo que queremos ir viendo.\n",
        "\n",
        "Generemos las particiones de training, validation y test usando muestreo estratificado."
      ]
    },
    {
      "cell_type": "code",
      "metadata": {
        "id": "LjV4fVnx2qaC",
        "colab": {
          "base_uri": "https://localhost:8080/"
        },
        "outputId": "fe66aac8-adda-4b30-d23a-a939c7573fc6"
      },
      "source": [
        "from sklearn.model_selection import train_test_split\n",
        "\n",
        "# generamos las particiones de entrenamiento/val y test\n",
        "X_train_val, dataset['X_test'], y_train_val, dataset['y_test'] = train_test_split(X, y, test_size=0.30, random_state=10, stratify=y)\n",
        "# y hacemos lo mismo para generar los datos de entrenamiento/validación\n",
        "dataset['X_train'], dataset['X_val'], dataset['y_train'], dataset['y_val'] = train_test_split(X_train_val, y_train_val, test_size=0.10, random_state=11, stratify=y_train_val)\n",
        "\n",
        "# obtenemos la media y la std de los datos de entrenamiento\n",
        "dataset['mu'] = np.mean(dataset['X_train'], axis=0)\n",
        "dataset['std'] = np.std(dataset['X_train'], axis=0)\n",
        "# estandarizamos los datos\n",
        "dataset['X_train'] = (dataset['X_train'] - dataset['mu']) / dataset['std']\n",
        "dataset['X_val'] = (dataset['X_val'] - dataset['mu']) / dataset['std']\n",
        "dataset['X_test'] = (dataset['X_test'] - dataset['mu']) / dataset['std']\n",
        "\n",
        "# imprimimos por pantalla los tamaños finales\n",
        "print('PARTITIONED CREDIT CARD FRAUD DATASET')\n",
        "print('X_train: {}'.format(dataset['X_train'].shape))\n",
        "print('y_train: {}'.format(dataset['y_train'].shape))\n",
        "print('% samples per class: 0 : {:2.2f}%    1 : {:2.2f}%'.format(np.sum(dataset['y_train']==0)/dataset['y_train'].size*100, np.sum(dataset['y_train']==1)/dataset['y_train'].size*100))\n",
        "print('----------------------')\n",
        "print('X_val: {}'.format(dataset['X_val'].shape))\n",
        "print('y_val: {}'.format(dataset['y_val'].shape))\n",
        "print('% samples per class: 0 : {:2.2f}%    1 : {:2.2f}%'.format(np.sum(dataset['y_val']==0)/dataset['y_val'].size*100, np.sum(dataset['y_val']==1)/dataset['y_val'].size*100))\n",
        "print('----------------------')\n",
        "print('X_test: {}'.format(dataset['X_test'].shape))\n",
        "print('y_test: {}'.format(dataset['y_test'].shape))\n",
        "print('% samples per class: 0 : {:2.2f}%    1 : {:2.2f}%'.format(np.sum(dataset['y_test']==0)/dataset['y_test'].size*100, np.sum(dataset['y_test']==1)/dataset['y_test'].size*100))\n",
        "print('----------------------')\n",
        "print('Total: {} samples'.format(dataset['X_train'].shape[0] + dataset['X_val'].shape[0] + dataset['X_test'].shape[0]))\n",
        "print('======================')\n",
        "\n",
        "# salvamos los datos para usarlos más adelante\n",
        "import pickle\n",
        "dataset_filename = path.join(datasets_folder, 'credit_card_fraud.pkl')\n",
        "print('\\nSaving {}'.format(dataset_filename))\n",
        "with open(dataset_filename, 'wb') as f:\n",
        "    pickle.dump(dataset, f)\n"
      ],
      "execution_count": null,
      "outputs": [
        {
          "output_type": "stream",
          "text": [
            "PARTITIONED CREDIT CARD FRAUD DATASET\n",
            "X_train: (179427, 30)\n",
            "y_train: (179427,)\n",
            "% samples per class: 0 : 99.83%    1 : 0.17%\n",
            "----------------------\n",
            "X_val: (19937, 30)\n",
            "y_val: (19937,)\n",
            "% samples per class: 0 : 99.83%    1 : 0.17%\n",
            "----------------------\n",
            "X_test: (85443, 30)\n",
            "y_test: (85443,)\n",
            "% samples per class: 0 : 99.83%    1 : 0.17%\n",
            "----------------------\n",
            "Total: 284807 samples\n",
            "======================\n",
            "\n",
            "Saving /content/gdrive/My Drive/Colab Notebooks/DUIA/2021/Machine Learning/credit_card_fraud.pkl\n"
          ],
          "name": "stdout"
        }
      ]
    },
    {
      "cell_type": "markdown",
      "metadata": {
        "id": "6OrDzvqT-sCQ"
      },
      "source": [
        "#### 4.2. Métricas de evaluación\n",
        "\n",
        "Estamos muy cancherxs entrenando algoritmos de clasificación a esta altura, así que podríamos intentar por ejemplo probar un regresor logístico sobre estos datos, y medir el nivel de accuracy que obtenemos."
      ]
    },
    {
      "cell_type": "code",
      "metadata": {
        "id": "hkHB_mAB-sZR",
        "colab": {
          "base_uri": "https://localhost:8080/",
          "height": 537
        },
        "outputId": "b3ffc3f6-9403-404c-ebbd-f5c105b5339f"
      },
      "source": [
        "from sklearn.linear_model import LogisticRegression\n",
        "from sklearn.metrics import accuracy_score\n",
        "\n",
        "# valores de C que vamos a probar\n",
        "C_values = [-5, -4, -3, -2, -1, 0, 1, 2, 3]\n",
        "\n",
        "# elegimos el regularizador (comentar la linea que no queremos)\n",
        "regularizer = 'l2'\n",
        "#regularizer = 'l1'\n",
        "# automaticamente elegimos el solver más conveniente\n",
        "if regularizer == 'l2':\n",
        "  best_solver = 'lbfgs'\n",
        "elif regularizer == 'l1': \n",
        "  best_solver = 'liblinear'\n",
        "else:\n",
        "  raise ValueError('Unrecognized {} regularizer. This example only supports {}'.format(regularizer, ['l1', 'l2']))\n",
        "long_name = '{} regularized logistic regression'.format(regularizer)\n",
        "\n",
        "# inicializamos un vector donde guardaremos los valores de accuracy\n",
        "reg_log_reg_accuracy_val = np.zeros(len(C_values))\n",
        "# inicializamos también una lista para guardar cada modelo que entrenemos\n",
        "reg_log_reg_models = []\n",
        "\n",
        "# probamos cada valor de C\n",
        "for i in range(len(C_values)):\n",
        "  # inicializamos el modelo\n",
        "  model = LogisticRegression(penalty=regularizer, fit_intercept=True, C=10**(C_values[i]), solver=best_solver, max_iter=1000)\n",
        "  reg_log_reg_models.append(model)\n",
        "  # lo entrenamos sobre los datos de entrenamiento\n",
        "  model.fit(dataset['X_train'], dataset['y_train'])\n",
        "  # lo corremos sobre los datos de validación\n",
        "  y_hat_val = model.predict(dataset['X_val'])\n",
        "  # y evaluamos su accuracy comparando estas etiquetas con el ground truth\n",
        "  reg_log_reg_accuracy_val[i] = accuracy_score(dataset['y_val'], y_hat_val)\n",
        "  print('{} Log Reg with C={} --> Accuracy={:.4f} - Positive samples={}'.format(regularizer, 10**(C_values[i]), reg_log_reg_accuracy_val[i], np.sum(y_hat_val)))\n",
        "\n",
        "# identificamos el mejor valor de C a partir del accuracy más alto\n",
        "C_idx = np.argmax(reg_log_reg_accuracy_val)\n",
        "# lo reservamos\n",
        "regularized_logistic_regression_model = reg_log_reg_models[C_idx]\n",
        "\n",
        "# mostramos un gráfico ilustrando la evolución del accuracy para cada C\n",
        "plt.plot(C_values, reg_log_reg_accuracy_val)\n",
        "plt.xlabel('$C=10^i$ value')\n",
        "plt.grid()\n",
        "plt.ylabel('Accuracy on validation set')\n",
        "plt.title('Logistic Regression classifier with {} regularization'.format(regularizer))\n",
        "plt.legend(['{} regularization'.format(regularizer)])\n",
        "plt.show(True)\n",
        "\n",
        "# imprimimos los resultados por pantalla\n",
        "print('Logistic regression classifier with {} regularization'.format(regularizer))\n",
        "print('-----------------------')\n",
        "print('Best C: {}'.format(10**C_values[C_idx]))\n",
        "print('Accuracy on validation set: {:.4f}'.format(reg_log_reg_accuracy_val[C_idx]))\n",
        "print('-----------------------')"
      ],
      "execution_count": null,
      "outputs": [
        {
          "output_type": "stream",
          "text": [
            "l2 Log Reg with C=1e-05 --> Accuracy=0.9983 - Positive samples=0.0\n",
            "l2 Log Reg with C=0.0001 --> Accuracy=0.9985 - Positive samples=8.0\n",
            "l2 Log Reg with C=0.001 --> Accuracy=0.9989 - Positive samples=19.0\n",
            "l2 Log Reg with C=0.01 --> Accuracy=0.9990 - Positive samples=21.0\n",
            "l2 Log Reg with C=0.1 --> Accuracy=0.9990 - Positive samples=21.0\n",
            "l2 Log Reg with C=1 --> Accuracy=0.9990 - Positive samples=21.0\n",
            "l2 Log Reg with C=10 --> Accuracy=0.9991 - Positive samples=22.0\n",
            "l2 Log Reg with C=100 --> Accuracy=0.9991 - Positive samples=22.0\n",
            "l2 Log Reg with C=1000 --> Accuracy=0.9991 - Positive samples=22.0\n"
          ],
          "name": "stdout"
        },
        {
          "output_type": "display_data",
          "data": {
            "image/png": "[encoded data removed]",
            "text/plain": [
              "<Figure size 432x288 with 1 Axes>"
            ]
          },
          "metadata": {
            "tags": [],
            "needs_background": "light"
          }
        },
        {
          "output_type": "stream",
          "text": [
            "Logistic regression classifier with l2 regularization\n",
            "-----------------------\n",
            "Best C: 10\n",
            "Accuracy on validation set: 0.9991\n",
            "-----------------------\n"
          ],
          "name": "stdout"
        }
      ]
    },
    {
      "cell_type": "markdown",
      "metadata": {
        "id": "XSJP64Y3T-ya"
      },
      "source": [
        "Viendo estos resultados podríamos tentarnos a pensar que el modelo que acabamos de entrenar es casi perfecto. Pista: no.\n",
        "\n",
        "Para ver dónde le erra, vamos a usar [matrices de confusión](https://en.wikipedia.org/wiki/Confusion_matrix). En el siguiente ejemplo vamos a imprimir la matriz de confusión para este modelo particular que recién entrenamos, y veremos cómo clasificamos las muestras de validación."
      ]
    },
    {
      "cell_type": "code",
      "metadata": {
        "id": "6RfIOrw4UOXK",
        "colab": {
          "base_uri": "https://localhost:8080/",
          "height": 295
        },
        "outputId": "711895ec-0e6b-4d43-ba48-fbf15da50ca0"
      },
      "source": [
        "# lo corremos sobre los datos de validación\n",
        "y_hat_val = regularized_logistic_regression_model.predict(dataset['X_val'])\n",
        "\n",
        "# obtenemos la matriz usando pandas y seaborn\n",
        "df = pd.DataFrame({'GT': dataset['y_val'], 'Predicted': y_hat_val}, columns=['GT','Predicted'])\n",
        "conf_mat = pd.crosstab(df['GT'], df['Predicted'], rownames=['GT'], colnames=['Predicted'], margins = False)\n",
        "ax = plt.axes()\n",
        "sn.heatmap(conf_mat, ax=ax, annot=True)\n",
        "ax.set_title('{} - Confusion matrix'.format(long_name))\n",
        "plt.show()"
      ],
      "execution_count": null,
      "outputs": [
        {
          "output_type": "display_data",
          "data": {
            "image/png": "[encoded data removed]",
            "text/plain": [
              "<Figure size 432x288 with 2 Axes>"
            ]
          },
          "metadata": {
            "tags": [],
            "needs_background": "light"
          }
        }
      ]
    },
    {
      "cell_type": "markdown",
      "metadata": {
        "id": "_Ll4BlWaUwCE"
      },
      "source": [
        "Vemos que el clasificador practicamente predice todo como perteneciente a la clase 0, y que se confunde bastante cuando debe clasificar las muestras pertenecientes a la clase 1. ¿Cómo puede ser entonces que la métrica que estuvimos viendo diera tan bien?\n",
        "Bueno, esto es porque el Accuracy pesa de igual manera ambas clases. Necesitamos entonces métricas que sean capaces de estudiar mejor estas proporciones.\n",
        "\n",
        "¿Qué pasa si medimos la sensitivity y la specificity?"
      ]
    },
    {
      "cell_type": "code",
      "metadata": {
        "id": "lg1WGcQyVm9G",
        "colab": {
          "base_uri": "https://localhost:8080/"
        },
        "outputId": "17b91eb3-f26b-4892-e28f-6928f1d3f4cb"
      },
      "source": [
        "# calculamos la sensitividad y especificidad del modelo\n",
        "se = sensitivity(dataset['y_val'], y_hat_val)\n",
        "sp = specificity(dataset['y_val'], y_hat_val)\n",
        "\n",
        "print('Sensitivity = {:.4f}'.format(se))\n",
        "print('Specificity = {:.4f}'.format(sp))"
      ],
      "execution_count": null,
      "outputs": [
        {
          "output_type": "stream",
          "text": [
            "Sensitivity = 0.5588\n",
            "Specificity = 0.9998\n"
          ],
          "name": "stdout"
        }
      ]
    },
    {
      "cell_type": "markdown",
      "metadata": {
        "id": "o2zb8TKGV_LV"
      },
      "source": [
        "Vemos claramente que nuestro modelo tiene muy buena performance para detectar la clase 0 pero que es terrible para detectar la clase 1: solamente detecta el 55% de los casos!\n",
        "\n",
        "Recordemos: sensitivity está expresada como $\\text{Se} = \\frac{\\text{TP}}{\\text{TP}+\\text{FN}}$. A la sensitivity suele conocérsela también como \"Recall\", y nos expresa la capacidad que tiene el algoritmo de detectar las muestras positivas y no comerse algunas. Alternativamente, existe otra métrica conocida como precision, que nos permite conocer esta misma fracción en función de los falsos positivos: $Pr = \\frac{\\text{TP}}{\\text{TP}+\\text{FP}}$. Un modelo con alto recall pero baja precision será muy bueno para detectar la clase positiva pero tendrá muchos falsos positivos. Un modelo con bajo recall pero precision alto será poco hábil para encontrar nuestra clase positiva, y por ende tiene menos falsos positivos.\n",
        "\n",
        "¿Existe alguna métrica única que nos permita estudiar todo a la vez? Sí, se llama [F1-score](https://en.wikipedia.org/wiki/F1_score), y se calcula como la media armónica entre Pr y Re: $\\text{F1} = 2 \\cdot \\frac{\\text{Pr} * \\text{Re}}{\\text{Pr} + \\text{Re}}$. Nos permite conocer qué balance hay entre Pr y Re, y no está afectada por el desbalance de clases ya que no tiene en cuenta a la clase negativa (no mira nunca los TN!).\n",
        "\n",
        "Otra métrica alternativa es el [Matthews Correlation Coefficient](https://en.wikipedia.org/wiki/Matthews_correlation_coefficient). Su fórmula es más complicada, pero básicamente nos alcanza con saber que toma valores en el intervalo [-1, 1]. Cuando da +1, el algoritmo es perfecto. Cuando da 0, es un modelo random. Cuando da -1, las respuestas son totalmente inversas a las esperadas.\n",
        "\n",
        "Calculemos estas métricas sobre nuestro clasificador y veamos qué obtenemos."
      ]
    },
    {
      "cell_type": "code",
      "metadata": {
        "id": "ppCqMSZpW-Ft",
        "colab": {
          "base_uri": "https://localhost:8080/"
        },
        "outputId": "101309a4-ff18-43a2-c485-4fd02b5869b6"
      },
      "source": [
        "from sklearn.metrics import precision_score, recall_score, f1_score, matthews_corrcoef\n",
        "\n",
        "def compute_metrics_for_imbalanced_datasets(y, y_hat):\n",
        "  '''\n",
        "  Una función para que nos calcule todas las métricas de una\n",
        "  '''\n",
        "  # calculamos precision, recall, F1-score y MCC\n",
        "  pr_value = precision_score(y, y_hat)\n",
        "  re_value = recall_score(y, y_hat)\n",
        "  f1_value = f1_score(y, y_hat)\n",
        "  mcc_value = matthews_corrcoef(y, y_hat)\n",
        "\n",
        "  return pr_value, re_value, f1_value, mcc_value\n",
        "\n",
        "\n",
        "# calculamos todas las métricas\n",
        "pr_standard, re_standard, f1_standard, matthews_standard = compute_metrics_for_imbalanced_datasets(dataset['y_val'], y_hat_val)\n",
        "\n",
        "print('Precision = {:.4f}'.format(pr_standard))\n",
        "print('Recall = {:.4f}'.format(re_standard))\n",
        "print('------------')\n",
        "print('F1-score = {:.4f}'.format(f1_standard))\n",
        "print('MCC = {:.4f}'.format(matthews_standard))"
      ],
      "execution_count": null,
      "outputs": [
        {
          "output_type": "stream",
          "text": [
            "Precision = 0.8636\n",
            "Recall = 0.5588\n",
            "------------\n",
            "F1-score = 0.6786\n",
            "MCC = 0.6943\n"
          ],
          "name": "stdout"
        }
      ]
    },
    {
      "cell_type": "markdown",
      "metadata": {
        "id": "aVOfcLOyX9b-"
      },
      "source": [
        "Seguimos confirmando que nuestro clasificador es terrible: tiene poca capacidad de detectar la clase positiva (sensitivity/recall de 55%), comete varios falsos positivos (precision de 86%) y tiene un balance horrible entre Pr y Re (F1-score de 67%).\n",
        "\n",
        "Finalmente, así como pudimos estudiar los scores/probabilidades generados por el clasificador en términos de sensitivity/specificity usando curvas ROC, podemos hacer lo propio usando [curvas de precision/recall](https://machinelearningmastery.com/roc-curves-and-precision-recall-curves-for-classification-in-python/). También podemos calcular el área debajo de esta curva como un indicador de qué tan bueno es el modelo."
      ]
    },
    {
      "cell_type": "code",
      "metadata": {
        "id": "o4TDdmUeYXgy",
        "colab": {
          "base_uri": "https://localhost:8080/",
          "height": 295
        },
        "outputId": "c704f16c-c9ab-4c91-9e0c-1b3de7f56947"
      },
      "source": [
        "from sklearn.metrics import precision_recall_curve, auc\n",
        "\n",
        "# nos quedamos con las probabilidades de pertenecer a la clase 1 para cada muestra\n",
        "# de validación\n",
        "y_hat_val = regularized_logistic_regression_model.predict_proba(dataset['X_val'])[:,1]\n",
        "\n",
        "# calculamos los valores para la curva de precision/recall\n",
        "pr_vals_no_correction, re_vals_no_correction, _ = precision_recall_curve(dataset['y_val'], y_hat_val)\n",
        "# calculamos el area bajo la curva\n",
        "AUC_no_correction = auc(re_vals_no_correction, pr_vals_no_correction)\n",
        "\n",
        "plt.plot(re_vals_no_correction, pr_vals_no_correction)\n",
        "plt.grid(True)\n",
        "plt.xlabel('Recall')\n",
        "plt.ylabel('Precision')\n",
        "plt.title('Precision/Recall curve - Logistic Regression classifier')\n",
        "plt.legend(['AUC = {:.4f}'.format(AUC_no_correction)])\n",
        "plt.show()"
      ],
      "execution_count": null,
      "outputs": [
        {
          "output_type": "display_data",
          "data": {
            "image/png": "[encoded data removed]",
            "text/plain": [
              "<Figure size 432x288 with 1 Axes>"
            ]
          },
          "metadata": {
            "tags": [],
            "needs_background": "light"
          }
        }
      ]
    },
    {
      "cell_type": "markdown",
      "metadata": {
        "id": "zlWXvWU1Z_JN"
      },
      "source": [
        "En estas curvas, el mejor resultado es aquel que tiene el vértice en el margen superior derecho (ya no en el izquierdo). A diferencia de la curva ROC, la curva de precision/recall asociada a un modelo aleatorio es más difícil de estimar, dado que solamente tenemos una sola clase involucrada. En cualquier caso, sabemos cómo queremos que de, y queremos además que el área debajo de ella sea lo más cercana a 1 posible.\n",
        "\n",
        "En conclusión: aunque veamos un accuracy de casi 1, no tenemos garantías de que el modelo sea el correcto si las clases están desbalanceadas. El testeo de calidad debemos hacerlo usando métrias que sean robustas a este tipo de problemas, y esto también cuenta para el model selection!"
      ]
    },
    {
      "cell_type": "markdown",
      "metadata": {
        "id": "G76Oyw_W-s0D"
      },
      "source": [
        "#### 4.3. Estrategias de corrección\n",
        "\n",
        "Existen varias formas para poder ayudar a los clasificadores a lidear con datos desbalanceados. Vamos a analizar algunas de ellas\n",
        "\n"
      ]
    },
    {
      "cell_type": "markdown",
      "metadata": {
        "id": "lqJz16bul5Kd"
      },
      "source": [
        "##### 4.3.1. Pesos en la loss function\n",
        "\n",
        "Los algoritmos que se basan en la minimización de una función de pérdida en general incluyen un parámetro ```class_weight``` que te permiten \"pesar\" errores al cometer errores para una u otra muestra. \n",
        "\n",
        "En general, lo que buscamos siempre es balancear los problemas, dándole más peso a los errores de la clase menos abundante, y siendo más permisivos con los errores de la clase más abundante. De esa forma, y por una cuestión de frecuencias, lograríamos que los errores con la clase menos abundate queden más o menos balanceados respecto a los errores de la(s) otra(s) clase(s).\n",
        "\n",
        "Una heurística que suele utilizarse es tomar la inversa de la frecuencia de cada clase, estimada a partir de los datos de entrenamiento. Así, cometer errores para la clase 1 sería muchísimo más caro que cometer errores con la clase 0, y obligaríamos al algoritmo a no tentarse a clasificar todo como clase 0. A veces esto puede generar errores de convergencia o hacer que el algoritmo prediga todo como clase 1. En otros casos, puede no tratarse de una solución óptima.\n",
        "\n",
        "Con la siguiente instrucción podemos calcular automáticamente esos valores."
      ]
    },
    {
      "cell_type": "code",
      "metadata": {
        "id": "qlEnobPGVY6L",
        "colab": {
          "base_uri": "https://localhost:8080/"
        },
        "outputId": "210f8281-cbba-4d31-e56d-3ab249382d28"
      },
      "source": [
        "from sklearn.utils.class_weight import compute_class_weight\n",
        "\n",
        "# calculamos los pesos para cada clase\n",
        "weighting = compute_class_weight('balanced', np.unique(dataset['y_train']), dataset['y_train'])\n",
        "print(weighting)"
      ],
      "execution_count": null,
      "outputs": [
        {
          "output_type": "stream",
          "text": [
            "[  0.501 289.398]\n"
          ],
          "name": "stdout"
        }
      ]
    },
    {
      "cell_type": "markdown",
      "metadata": {
        "id": "yeOmrrAwW82M"
      },
      "source": [
        "Podemos ver que entonces cada error para la clase 0 pagaría un costo de aproximadamente 0.5, mientras que los errores para la clase 1 tendrían un costo asociado de 289.\n",
        "\n",
        "Otra alternativa es construir estos pesos manualmente. En tal caso, lo que hacemos es pasarle al método de clasificación un parámetro ```class_weight``` con un diccionario de la forma ```{ clase : peso de esa clase }```. Esto claramente nos agrega un nuevo hiperparámetro (cuánto pesar errores de cada clase), que tendríamos que elegir a partir de nuestros datos de validation.\n",
        "\n",
        "Probemos esto en el modelo de logistic regression. Fíjense que este bloque cambia respecto al que corrimos antes: ahora no hacemos model selection mirando accuracy, lo hacemos optimizando F1-score. Les dejamos dos potenciales balances para que analicen."
      ]
    },
    {
      "cell_type": "code",
      "metadata": {
        "id": "-LzWUmoj-tNu",
        "colab": {
          "base_uri": "https://localhost:8080/",
          "height": 724
        },
        "outputId": "10bc4c02-3ad2-4cbc-8e3b-fc68a4f375c2"
      },
      "source": [
        "#class_weight = {0: weighting[0], 1: weighting[1]}\n",
        "class_weight = {0:1, 1:5}\n",
        "#class_weight = None\n",
        "\n",
        "# inicializamos un vector donde guardaremos los valores de F1-score\n",
        "reg_log_reg_f1_val = np.zeros(len(C_values))\n",
        "# inicializamos también una lista para guardar cada modelo que entrenemos\n",
        "reg_log_reg_f1_models = []\n",
        "\n",
        "# probamos cada valor de C\n",
        "print('Weighted logistic regression classifier with {} regularization'.format(regularizer))\n",
        "print('')\n",
        "for i in range(len(C_values)):\n",
        "  # inicializamos el modelo\n",
        "  model = LogisticRegression(penalty=regularizer, fit_intercept=True, C=10**(C_values[i]), solver=best_solver, max_iter=1000, class_weight=class_weight)\n",
        "  reg_log_reg_f1_models.append(model)\n",
        "  # lo entrenamos sobre los datos de entrenamiento\n",
        "  model.fit(dataset['X_train'], dataset['y_train'])\n",
        "  # lo corremos sobre los datos de validación\n",
        "  y_hat_val = model.predict(dataset['X_val'])\n",
        "  # y evaluamos su F1-score comparando estas etiquetas con el ground truth\n",
        "  reg_log_reg_f1_val[i] = f1_score(dataset['y_val'], y_hat_val)\n",
        "  print('{} Log Reg with C={} --> F1-score={:.4f} - Positive samples={}'.format(regularizer, 10**(C_values[i]), reg_log_reg_f1_val[i], np.sum(y_hat_val)))\n",
        "print('')\n",
        "\n",
        "# mostramos un gráfico ilustrando la evolución del F1-score para cada C\n",
        "plt.plot(C_values, reg_log_reg_f1_val)\n",
        "plt.xlabel('$C=10^i$ value')\n",
        "plt.grid()\n",
        "plt.ylabel('F1-score on validation set')\n",
        "plt.title('Logistic Regression classifier with {} regularization'.format(regularizer))\n",
        "plt.legend(['{} regularization'.format(regularizer)])\n",
        "plt.show(True)\n",
        "\n",
        "# identificamos el mejor valor de C a partir del F1-score más alto\n",
        "C_idx = np.argmax(reg_log_reg_f1_val)\n",
        "# lo reservamos\n",
        "class_balanced_regularized_logistic_regression_model = reg_log_reg_f1_models[C_idx]\n",
        "# lo corremos sobre los datos de validación\n",
        "y_hat_val = class_balanced_regularized_logistic_regression_model.predict(dataset['X_val'])\n",
        "y_hat_val_proba = class_balanced_regularized_logistic_regression_model.predict_proba(dataset['X_val'])[:,1]\n",
        "\n",
        "# calculamos las métricas\n",
        "pr_weighted, re_weighted, f1_weighted, matthews_weighted = compute_metrics_for_imbalanced_datasets(dataset['y_val'], y_hat_val)\n",
        "\n",
        "# imprimimos los resultados por pantalla\n",
        "print('')\n",
        "print('-----------------------')\n",
        "print('Best C: {}'.format(10**C_values[C_idx]))\n",
        "print('MCC: {:.4f}'.format(matthews_weighted))\n",
        "print('F1-score: {:.4f}'.format(f1_weighted))\n",
        "print('Precision: {:.4f}'.format(pr_weighted))\n",
        "print('Recall: {:.4f}'.format(re_weighted))\n",
        "print('-----------------------')\n",
        "print('Unweighted model performance')\n",
        "print('MCC: {:.4f}'.format(matthews_standard))\n",
        "print('F1-score: {:.4f}'.format(f1_standard))\n",
        "print('Precision: {:.4f}'.format(pr_standard))\n",
        "print('Recall: {:.4f}'.format(re_standard))\n"
      ],
      "execution_count": null,
      "outputs": [
        {
          "output_type": "stream",
          "text": [
            "Weighted logistic regression classifier with l2 regularization\n",
            "\n",
            "l2 Log Reg with C=1e-05 --> F1-score=0.2439 - Positive samples=7.0\n",
            "l2 Log Reg with C=0.0001 --> F1-score=0.6038 - Positive samples=19.0\n",
            "l2 Log Reg with C=0.001 --> F1-score=0.7812 - Positive samples=30.0\n",
            "l2 Log Reg with C=0.01 --> F1-score=0.8182 - Positive samples=32.0\n",
            "l2 Log Reg with C=0.1 --> F1-score=0.8000 - Positive samples=31.0\n",
            "l2 Log Reg with C=1 --> F1-score=0.8000 - Positive samples=31.0\n",
            "l2 Log Reg with C=10 --> F1-score=0.8000 - Positive samples=31.0\n",
            "l2 Log Reg with C=100 --> F1-score=0.8000 - Positive samples=31.0\n",
            "l2 Log Reg with C=1000 --> F1-score=0.8000 - Positive samples=31.0\n",
            "\n"
          ],
          "name": "stdout"
        },
        {
          "output_type": "display_data",
          "data": {
            "image/png": "[encoded data removed]",
            "text/plain": [
              "<Figure size 432x288 with 1 Axes>"
            ]
          },
          "metadata": {
            "tags": [],
            "needs_background": "light"
          }
        },
        {
          "output_type": "stream",
          "text": [
            "\n",
            "-----------------------\n",
            "Best C: 0.01\n",
            "MCC: 0.8183\n",
            "F1-score: 0.8182\n",
            "Precision: 0.8438\n",
            "Recall: 0.7941\n",
            "-----------------------\n",
            "Unweighted model performance\n",
            "MCC: 0.6943\n",
            "F1-score: 0.6786\n",
            "Precision: 0.8636\n",
            "Recall: 0.5588\n"
          ],
          "name": "stdout"
        }
      ]
    },
    {
      "cell_type": "markdown",
      "metadata": {
        "id": "BV9qNhD_emtk"
      },
      "source": [
        "Cuando se utilizan valores tan extremos para penalizar los errores, puede ocurrir que el método overfittee con facilidad (por ejemplo, se vea tentado a clasificar muchas más muestras de las que debería como pertenecientes a la clase 1). En general, en estos casos conviene ampliar los rangos de búsqueda de valores de $C$ y recurrir a valores más bajos.\n",
        "\n",
        "Por otro lado, vemos que el peso alternativo que proponemos logra incrementar significativamente los valores de F1-score sin afectar notoriamente el overfitting. Estos pesos son arbitrarios, deberíamos hacer todo un proceso de model selection para encontrar la mejor forma de pesar cada muestra. \n",
        "\n",
        "Imprimamos las curvas de Precision/Recall, para estudiar cómo cambiaron los resultados."
      ]
    },
    {
      "cell_type": "code",
      "metadata": {
        "id": "dQrjWmKXewl4",
        "colab": {
          "base_uri": "https://localhost:8080/",
          "height": 295
        },
        "outputId": "899ca9b2-dbf5-459d-d6a2-48d61cb7c911"
      },
      "source": [
        "# calculamos los valores para la curva de precision/recall\n",
        "pr_vals_weighted, re_vals_weighted, _ = precision_recall_curve(dataset['y_val'], y_hat_val_proba)\n",
        "# calculamos el area bajo la curva\n",
        "AUC_weighted = auc(re_vals_weighted, pr_vals_weighted)\n",
        "\n",
        "plt.plot(re_vals_no_correction, pr_vals_no_correction)\n",
        "plt.plot(re_vals_weighted, pr_vals_weighted)\n",
        "plt.grid(True)\n",
        "plt.xlabel('Recall')\n",
        "plt.ylabel('Precision')\n",
        "plt.title('Precision/Recall curve - Logistic Regression classifier')\n",
        "plt.legend(['Unweighted Log Reg: AUC = {:.4f}'.format(AUC_no_correction),\n",
        "            'Weighted Log Reg: AUC = {:.4f}'.format(AUC_weighted)], loc='lower left')\n",
        "plt.show()"
      ],
      "execution_count": null,
      "outputs": [
        {
          "output_type": "display_data",
          "data": {
            "image/png": "[encoded data removed]",
            "text/plain": [
              "<Figure size 432x288 with 1 Axes>"
            ]
          },
          "metadata": {
            "tags": [],
            "needs_background": "light"
          }
        }
      ]
    },
    {
      "cell_type": "markdown",
      "metadata": {
        "id": "Ri2wEfHApaVV"
      },
      "source": [
        "##### 5.3.2 Reducir el número de muestras de la clase mayoritaria\n",
        "\n",
        "Otra alternativa para corregir el problema es reducir el número de muestras de la clase mayoritaria. Aleatoriamente, podemos elegir muestras de la clase 0 y eliminarlas de nuestros datos de entrenamiento. De esta forma, el algoritmo verá cantidades más o menos similares de datos de una y otra clase, y en consecuencia hacer una mejor interpretación de las distribuciones en el espacio.\n",
        "\n",
        "Vamos a usar para eso la librería ```imblearn```, que incluye banda de rutinas para preprocesar datos en problemas de clase desbalanceada. Vamos usar la clase [```RandomUnderSampler```](https://imbalanced-learn.readthedocs.io/en/stable/generated/imblearn.under_sampling.RandomUnderSampler.html), que nos permite eliminar muestras aleatoriamente. Tenemos que ajustar el parámetro ```sampling_strategy```. Si le indicamos ```majority```, reducirá el número de muestras de la clase mayoritaria para que coincida con el de la clase minoritaria. Si indicamos un valor numérico, corresponderá al ratio de muestras minoritarias sobre mayoritarias (por ejemplo, 0.4 indicaría que queremos que un 40% sean de la clase minoritaria y el restante 60% de la mayoritaria).\n",
        "\n",
        "Veamos cómo estos cambios afectan la performance del algoritmo."
      ]
    },
    {
      "cell_type": "code",
      "metadata": {
        "id": "SoZsxZwnwhUy",
        "colab": {
          "base_uri": "https://localhost:8080/",
          "height": 1000
        },
        "outputId": "f870cfa1-3e58-40cd-8170-1be53f3693f1"
      },
      "source": [
        "from imblearn.under_sampling import RandomUnderSampler\n",
        "\n",
        "# elegimos la estrategia de sampling\n",
        "sampling_strategy = 'majority'\n",
        "#sampling_strategy = 0.1\n",
        "\n",
        "# inicializamos el objeto que nos hará el undersampling\n",
        "undersample = RandomUnderSampler(sampling_strategy=sampling_strategy, random_state=10)\n",
        "# # generamos los nuevos datos\n",
        "undersampled_dataset = dataset.copy()\n",
        "undersampled_dataset['X_train'], undersampled_dataset['y_train'] = undersample.fit_resample(dataset['X_train'], dataset['y_train'])\n",
        "print('Original training set size: {}'.format(dataset['X_train'].shape))\n",
        "print('New training set size: {}'.format(undersampled_dataset['X_train'].shape))\n",
        "print('')\n",
        "\n",
        "# inicializamos un vector donde guardaremos los valores de accuracy\n",
        "undersampled_reg_log_reg_accuracy_val = np.zeros(len(C_values))\n",
        "# inicializamos también una lista para guardar cada modelo que entrenemos\n",
        "undersampled_reg_log_reg_models = []\n",
        "\n",
        "# probamos cada valor de C\n",
        "print('Logistic regression classifier with {} regularization in undersampled dataset'.format(regularizer))\n",
        "for i in range(len(C_values)):\n",
        "  # inicializamos el modelo\n",
        "  model = LogisticRegression(penalty=regularizer, fit_intercept=True, C=10**(C_values[i]), solver=best_solver, max_iter=1000)\n",
        "  undersampled_reg_log_reg_models.append(model)\n",
        "  # lo entrenamos sobre los datos de entrenamiento\n",
        "  model.fit(undersampled_dataset['X_train'], undersampled_dataset['y_train'])\n",
        "  # lo corremos sobre los datos de validación\n",
        "  y_hat_val = model.predict(dataset['X_val'])\n",
        "  # y evaluamos su F1-score comparando estas etiquetas con el ground truth\n",
        "  undersampled_reg_log_reg_accuracy_val[i] = f1_score(dataset['y_val'], y_hat_val)\n",
        "  print('{} Log Reg with C={} --> F1-score={:.4f} - Positive samples={}'.format(regularizer, 10**(C_values[i]), undersampled_reg_log_reg_accuracy_val[i], np.sum(y_hat_val)))\n",
        "print('')\n",
        "\n",
        "# mostramos un gráfico ilustrando la evolución del F1-score para cada C\n",
        "plt.plot(C_values, undersampled_reg_log_reg_accuracy_val)\n",
        "plt.xlabel('$C=10^i$ value')\n",
        "plt.grid()\n",
        "plt.ylabel('F1-score on validation set')\n",
        "plt.title('Logistic Regression classifier with {} regularization - Undersampled data'.format(regularizer))\n",
        "plt.legend(['{} regularization'.format(regularizer)])\n",
        "plt.show(True)\n",
        "\n",
        "# identificamos el mejor valor de C a partir del F1-score más alto\n",
        "C_idx = np.argmax(undersampled_reg_log_reg_accuracy_val)\n",
        "# lo reservamos\n",
        "undersampled_regularized_logistic_regression_model = undersampled_reg_log_reg_models[C_idx]\n",
        "# lo corremos sobre los datos de validación\n",
        "y_hat_val = undersampled_regularized_logistic_regression_model.predict(dataset['X_val'])\n",
        "y_hat_val_proba = undersampled_regularized_logistic_regression_model.predict_proba(dataset['X_val'])[:,1]\n",
        "\n",
        "# calculamos las métricas\n",
        "pr_undersampled, re_undersampled, f1_undersampled, matthews_undersampled = compute_metrics_for_imbalanced_datasets(dataset['y_val'], y_hat_val)\n",
        "\n",
        "# imprimimos los resultados por pantalla\n",
        "print('')\n",
        "print('-----------------------')\n",
        "print('Best C: {}'.format(10**C_values[C_idx]))\n",
        "print('MCC: {:.4f}'.format(matthews_undersampled))\n",
        "print('F1-score: {:.4f}'.format(f1_undersampled))\n",
        "print('Precision: {:.4f}'.format(pr_undersampled))\n",
        "print('Recall: {:.4f}'.format(re_undersampled))\n",
        "print('-----------------------')\n",
        "print('Weighted model performance')\n",
        "print('MCC: {:.4f}'.format(matthews_weighted))\n",
        "print('F1-score: {:.4f}'.format(f1_weighted))\n",
        "print('Precision: {:.4f}'.format(pr_weighted))\n",
        "print('Recall: {:.4f}'.format(re_weighted))\n",
        "print('-----------------------')\n",
        "print('Unweighted model performance')\n",
        "print('MCC: {:.4f}'.format(matthews_standard))\n",
        "print('F1-score: {:.4f}'.format(f1_standard))\n",
        "print('Precision: {:.4f}'.format(pr_standard))\n",
        "print('Recall: {:.4f}'.format(re_standard))\n",
        "print('')\n",
        "\n",
        "# calculamos los valores para la curva de precision/recall\n",
        "pr_vals_under, re_vals_under, _ = precision_recall_curve(dataset['y_val'], y_hat_val_proba)\n",
        "# calculamos el area bajo la curva\n",
        "AUC_under = auc(re_vals_under, pr_vals_under)\n",
        "\n",
        "plt.plot(re_vals_no_correction, pr_vals_no_correction)\n",
        "plt.plot(re_vals_weighted, pr_vals_weighted)\n",
        "plt.plot(re_vals_under, pr_vals_under)\n",
        "plt.grid(True)\n",
        "plt.xlabel('Recall')\n",
        "plt.ylabel('Precision')\n",
        "plt.title('Precision/Recall curve - Logistic Regression classifier')\n",
        "plt.legend(['Unweighted Log Reg: AUC = {:.4f}'.format(AUC_no_correction),\n",
        "            'Weighted Log Reg: AUC = {:.4f}'.format(AUC_weighted),\n",
        "            'Log Reg - Undersampling: AUC = {:.4f}'.format(AUC_under)], loc='lower left')\n",
        "plt.show()"
      ],
      "execution_count": null,
      "outputs": [
        {
          "output_type": "stream",
          "text": [
            "/usr/local/lib/python3.7/dist-packages/sklearn/externals/six.py:31: FutureWarning: The module is deprecated in version 0.21 and will be removed in version 0.23 since we've dropped support for Python 2.7. Please rely on the official version of six (https://pypi.org/project/six/).\n",
            "  \"(https://pypi.org/project/six/).\", FutureWarning)\n",
            "/usr/local/lib/python3.7/dist-packages/sklearn/utils/deprecation.py:144: FutureWarning: The sklearn.neighbors.base module is  deprecated in version 0.22 and will be removed in version 0.24. The corresponding classes / functions should instead be imported from sklearn.neighbors. Anything that cannot be imported from sklearn.neighbors is now part of the private API.\n",
            "  warnings.warn(message, FutureWarning)\n",
            "/usr/local/lib/python3.7/dist-packages/sklearn/utils/deprecation.py:87: FutureWarning: Function safe_indexing is deprecated; safe_indexing is deprecated in version 0.22 and will be removed in version 0.24.\n",
            "  warnings.warn(msg, category=FutureWarning)\n"
          ],
          "name": "stderr"
        },
        {
          "output_type": "stream",
          "text": [
            "Original training set size: (179427, 30)\n",
            "New training set size: (620, 30)\n",
            "\n",
            "Logistic regression classifier with l2 regularization in undersampled dataset\n",
            "l2 Log Reg with C=1e-05 --> F1-score=0.8254 - Positive samples=29.0\n",
            "l2 Log Reg with C=0.0001 --> F1-score=0.8308 - Positive samples=31.0\n",
            "l2 Log Reg with C=0.001 --> F1-score=0.8000 - Positive samples=36.0\n",
            "l2 Log Reg with C=0.01 --> F1-score=0.2007 - Positive samples=255.0\n",
            "l2 Log Reg with C=0.1 --> F1-score=0.0960 - Positive samples=612.0\n",
            "l2 Log Reg with C=1 --> F1-score=0.0673 - Positive samples=887.0\n",
            "l2 Log Reg with C=10 --> F1-score=0.0644 - Positive samples=928.0\n",
            "l2 Log Reg with C=100 --> F1-score=0.0646 - Positive samples=926.0\n",
            "l2 Log Reg with C=1000 --> F1-score=0.0650 - Positive samples=920.0\n",
            "\n"
          ],
          "name": "stdout"
        },
        {
          "output_type": "display_data",
          "data": {
            "image/png": "[encoded data removed]",
            "text/plain": [
              "<Figure size 432x288 with 1 Axes>"
            ]
          },
          "metadata": {
            "tags": [],
            "needs_background": "light"
          }
        },
        {
          "output_type": "stream",
          "text": [
            "\n",
            "-----------------------\n",
            "Best C: 0.0001\n",
            "MCC: 0.8314\n",
            "F1-score: 0.8308\n",
            "Precision: 0.8710\n",
            "Recall: 0.7941\n",
            "-----------------------\n",
            "Weighted model performance\n",
            "MCC: 0.8183\n",
            "F1-score: 0.8182\n",
            "Precision: 0.8438\n",
            "Recall: 0.7941\n",
            "-----------------------\n",
            "Unweighted model performance\n",
            "MCC: 0.6943\n",
            "F1-score: 0.6786\n",
            "Precision: 0.8636\n",
            "Recall: 0.5588\n",
            "\n"
          ],
          "name": "stdout"
        },
        {
          "output_type": "display_data",
          "data": {
            "image/png": "[encoded data removed]",
            "text/plain": [
              "<Figure size 432x288 with 1 Axes>"
            ]
          },
          "metadata": {
            "tags": [],
            "needs_background": "light"
          }
        }
      ]
    },
    {
      "cell_type": "markdown",
      "metadata": {
        "id": "5qmqd_6a2bW-"
      },
      "source": [
        "Vemos que en este caso la performance mejora significativamente, además de la velocidad del entrenamiento. Para valores de $C$ grandes, la cantidad de muestras positivas predichas por el método crecen notoriamente, lo que en principio indica que reducir demasiado el número de muestras de entrenamiento de la clase 0 puede aumentar bastante el riesgo de overfittear hacia la clase minoritaria.\n",
        "\n",
        "Si probamos otras proporciones, veremos que este comportamiento puede variar. Así mismo, y dado que las muestras se están descartando aleatoriamente, puede que los modelos/resultados que se obtengan varíen para ejecuciones idénticas de un mismo código."
      ]
    },
    {
      "cell_type": "markdown",
      "metadata": {
        "id": "P4MlFuaplxD1"
      },
      "source": [
        "##### 5.3.3. Replicar muestras de la clase minoritaria\n",
        "\n",
        "Otra alternativa de corrección es ir por la contraria: incrementar la cantidad de ratos correspondientes a la clase minoritaria. Como obviamente no podemos generar datos nuevos (sería ideal, pero bueno, los datos ya están acá y algo tenemos que hacer con esto), lo que podemos hacer es repetir varias veces las pocas muestras que tenemos para la clase minoritaria. Esto puede entenderse como una forma de *data augmentation*, que verán más adelante en el curso de redes neuronales.\n",
        "\n",
        "Vamos a usar también una clase de la librería ```imblearn```, en este caso el ```RandomOverSampler```. Su funcionamiento es idéntico al de la clase ```RandomUnderSampler```, solo que en lugar de eliminar muestras repetiremos algunas."
      ]
    },
    {
      "cell_type": "code",
      "metadata": {
        "id": "X1yTgy8kfGt5",
        "colab": {
          "base_uri": "https://localhost:8080/",
          "height": 1000
        },
        "outputId": "7e92f695-6099-48c2-865b-01962bf6b55e"
      },
      "source": [
        "from imblearn.over_sampling import RandomOverSampler\n",
        "\n",
        "# elegimos la estrategia de sampling\n",
        "#sampling_strategy = 'minority'\n",
        "sampling_strategy = 0.05\n",
        "\n",
        "# inicializamos el objeto que nos hará el undersampling\n",
        "oversample = RandomOverSampler(sampling_strategy=sampling_strategy, random_state=10)\n",
        "# # generamos los nuevos datos\n",
        "oversampled_dataset = dataset.copy()\n",
        "oversampled_dataset['X_train'], oversampled_dataset['y_train'] = oversample.fit_resample(dataset['X_train'], dataset['y_train'])\n",
        "print('Original training set size: {}'.format(dataset['X_train'].shape))\n",
        "print('New training set size: {}'.format(oversampled_dataset['X_train'].shape))\n",
        "print('')\n",
        "\n",
        "# inicializamos un vector donde guardaremos los valores de accuracy\n",
        "oversampled_reg_log_reg_accuracy_val = np.zeros(len(C_values))\n",
        "# inicializamos también una lista para guardar cada modelo que entrenemos\n",
        "oversampled_reg_log_reg_models = []\n",
        "\n",
        "# probamos cada valor de C\n",
        "print('Logistic regression classifier with {} regularization in oversampled dataset'.format(regularizer))\n",
        "for i in range(len(C_values)):\n",
        "  # inicializamos el modelo\n",
        "  model = LogisticRegression(penalty=regularizer, fit_intercept=True, C=10**(C_values[i]), solver=best_solver, max_iter=1000)\n",
        "  oversampled_reg_log_reg_models.append(model)\n",
        "  # lo entrenamos sobre los datos de entrenamiento\n",
        "  model.fit(oversampled_dataset['X_train'], oversampled_dataset['y_train'])\n",
        "  # lo corremos sobre los datos de validación\n",
        "  y_hat_val = model.predict(dataset['X_val'])\n",
        "  # y evaluamos su F1-score comparando estas etiquetas con el ground truth\n",
        "  oversampled_reg_log_reg_accuracy_val[i] = f1_score(dataset['y_val'], y_hat_val)\n",
        "  print('{} Log Reg with C={} --> F1-score={:.4f} - Positive samples={}'.format(regularizer, 10**(C_values[i]), oversampled_reg_log_reg_accuracy_val[i], np.sum(y_hat_val)))\n",
        "print('')\n",
        "\n",
        "# mostramos un gráfico ilustrando la evolución del F1-score para cada C\n",
        "plt.plot(C_values, oversampled_reg_log_reg_accuracy_val)\n",
        "plt.xlabel('$C=10^i$ value')\n",
        "plt.grid()\n",
        "plt.ylabel('F1-score on validation set')\n",
        "plt.title('Logistic Regression classifier with {} regularization - Oversampled data'.format(regularizer))\n",
        "plt.legend(['{} regularization'.format(regularizer)])\n",
        "plt.show(True)\n",
        "\n",
        "# identificamos el mejor valor de C a partir del F1-score más alto\n",
        "C_idx = np.argmax(oversampled_reg_log_reg_accuracy_val)\n",
        "# lo reservamos\n",
        "oversampled_regularized_logistic_regression_model = oversampled_reg_log_reg_models[C_idx]\n",
        "# lo corremos sobre los datos de validación\n",
        "y_hat_val = oversampled_regularized_logistic_regression_model.predict(dataset['X_val'])\n",
        "y_hat_val_proba = oversampled_regularized_logistic_regression_model.predict_proba(dataset['X_val'])[:,1]\n",
        "\n",
        "# calculamos las métricas\n",
        "pr_oversampled, re_oversampled, f1_oversampled, matthews_oversampled = compute_metrics_for_imbalanced_datasets(dataset['y_val'], y_hat_val)\n",
        "\n",
        "# imprimimos los resultados por pantalla\n",
        "print('')\n",
        "print('-----------------------')\n",
        "print('Best C: {}'.format(10**C_values[C_idx]))\n",
        "print('MCC: {:.4f}'.format(matthews_oversampled))\n",
        "print('F1-score: {:.4f}'.format(f1_oversampled))\n",
        "print('Precision: {:.4f}'.format(pr_oversampled))\n",
        "print('Recall: {:.4f}'.format(re_oversampled))\n",
        "print('-----------------------')\n",
        "print('Model performance undersampling majority class')\n",
        "print('MCC: {:.4f}'.format(matthews_undersampled))\n",
        "print('F1-score: {:.4f}'.format(f1_undersampled))\n",
        "print('Precision: {:.4f}'.format(pr_undersampled))\n",
        "print('Recall: {:.4f}'.format(re_undersampled))\n",
        "print('-----------------------')\n",
        "print('Weighted model performance')\n",
        "print('MCC: {:.4f}'.format(matthews_weighted))\n",
        "print('F1-score: {:.4f}'.format(f1_weighted))\n",
        "print('Precision: {:.4f}'.format(pr_weighted))\n",
        "print('Recall: {:.4f}'.format(re_weighted))\n",
        "print('-----------------------')\n",
        "print('Unweighted model performance')\n",
        "print('MCC: {:.4f}'.format(matthews_standard))\n",
        "print('F1-score: {:.4f}'.format(f1_standard))\n",
        "print('Precision: {:.4f}'.format(pr_standard))\n",
        "print('Recall: {:.4f}'.format(re_standard))\n",
        "print('')\n",
        "\n",
        "# calculamos los valores para la curva de precision/recall\n",
        "pr_vals_over, re_vals_over, _ = precision_recall_curve(dataset['y_val'], y_hat_val_proba)\n",
        "# calculamos el area bajo la curva\n",
        "AUC_over = auc(re_vals_over, pr_vals_over)\n",
        "\n",
        "plt.plot(re_vals_no_correction, pr_vals_no_correction)\n",
        "plt.plot(re_vals_weighted, pr_vals_weighted)\n",
        "plt.plot(re_vals_under, pr_vals_under)\n",
        "plt.plot(re_vals_over, pr_vals_over)\n",
        "plt.grid(True)\n",
        "plt.xlabel('Recall')\n",
        "plt.ylabel('Precision')\n",
        "plt.title('Precision/Recall curve - Logistic Regression classifier')\n",
        "plt.legend(['Unweighted Log Reg: AUC = {:.4f}'.format(AUC_no_correction),\n",
        "            'Weighted Log Reg: AUC = {:.4f}'.format(AUC_weighted),\n",
        "            'Log Reg - Undersampling: AUC = {:.4f}'.format(AUC_under),\n",
        "            'Log Reg - Oversampling: AUC = {:.4f}'.format(AUC_over)], loc='lower left')\n",
        "plt.show()"
      ],
      "execution_count": null,
      "outputs": [
        {
          "output_type": "stream",
          "text": [
            "/usr/local/lib/python3.7/dist-packages/sklearn/utils/deprecation.py:87: FutureWarning: Function safe_indexing is deprecated; safe_indexing is deprecated in version 0.22 and will be removed in version 0.24.\n",
            "  warnings.warn(msg, category=FutureWarning)\n"
          ],
          "name": "stderr"
        },
        {
          "output_type": "stream",
          "text": [
            "Original training set size: (179427, 30)\n",
            "New training set size: (188072, 30)\n",
            "\n",
            "Logistic regression classifier with l2 regularization in oversampled dataset\n",
            "l2 Log Reg with C=1e-05 --> F1-score=0.6038 - Positive samples=19.0\n",
            "l2 Log Reg with C=0.0001 --> F1-score=0.8182 - Positive samples=32.0\n",
            "l2 Log Reg with C=0.001 --> F1-score=0.8116 - Positive samples=35.0\n",
            "l2 Log Reg with C=0.01 --> F1-score=0.8169 - Positive samples=37.0\n",
            "l2 Log Reg with C=0.1 --> F1-score=0.8169 - Positive samples=37.0\n",
            "l2 Log Reg with C=1 --> F1-score=0.8169 - Positive samples=37.0\n",
            "l2 Log Reg with C=10 --> F1-score=0.8169 - Positive samples=37.0\n",
            "l2 Log Reg with C=100 --> F1-score=0.8169 - Positive samples=37.0\n",
            "l2 Log Reg with C=1000 --> F1-score=0.8169 - Positive samples=37.0\n",
            "\n"
          ],
          "name": "stdout"
        },
        {
          "output_type": "display_data",
          "data": {
            "image/png": "[encoded data removed]",
            "text/plain": [
              "<Figure size 432x288 with 1 Axes>"
            ]
          },
          "metadata": {
            "tags": [],
            "needs_background": "light"
          }
        },
        {
          "output_type": "stream",
          "text": [
            "\n",
            "-----------------------\n",
            "Best C: 0.0001\n",
            "MCC: 0.8183\n",
            "F1-score: 0.8182\n",
            "Precision: 0.8438\n",
            "Recall: 0.7941\n",
            "-----------------------\n",
            "Model performance undersampling majority class\n",
            "MCC: 0.8314\n",
            "F1-score: 0.8308\n",
            "Precision: 0.8710\n",
            "Recall: 0.7941\n",
            "-----------------------\n",
            "Weighted model performance\n",
            "MCC: 0.8183\n",
            "F1-score: 0.8182\n",
            "Precision: 0.8438\n",
            "Recall: 0.7941\n",
            "-----------------------\n",
            "Unweighted model performance\n",
            "MCC: 0.6943\n",
            "F1-score: 0.6786\n",
            "Precision: 0.8636\n",
            "Recall: 0.5588\n",
            "\n"
          ],
          "name": "stdout"
        },
        {
          "output_type": "display_data",
          "data": {
            "image/png": "[encoded data removed]",
            "text/plain": [
              "<Figure size 432x288 with 1 Axes>"
            ]
          },
          "metadata": {
            "tags": [],
            "needs_background": "light"
          }
        }
      ]
    },
    {
      "cell_type": "markdown",
      "metadata": {
        "id": "aXZ7PaFIo_Mv"
      },
      "source": [
        "Vemos que cuando usamos ```minority``` lo que generamos es un modelo desastrozo, que tiene overfitting por todos lados. Es normal: si repetimos innumerables veces las muestras que tenemos para la clase positiva con el solo propósito de matchear el número de clases negativas, el algoritmo se va a tentar a memorizar esas muestras repetidas para dejar de cometer errores, o va a estimar un decision boundary muy poco realista.\n",
        "\n",
        "Si usamos una proporción más controlada, los resultados van a mejorar un poco. No obstante, tengamos en cuenta siempre que estamos repitiendo datos, y que eso tiene consecuencias."
      ]
    },
    {
      "cell_type": "markdown",
      "metadata": {
        "id": "2zG-kk4kenkw"
      },
      "source": [
        "##### 5.3.4. SMOTE: Synthetic Minority Oversampling TEchnique\n",
        "\n",
        "La última alternativa que vamos a ver se la propuso en un paper en el año 2002, y se la conoce como [SMOTE: Synthetic Minority Oversampling TEchnique](https://arxiv.org/abs/1106.1813). Hoy por hoy es una de las que más se utiliza. Hay montones más, pero no llegamos :(\n",
        "\n",
        "SMOTE propone generar muestras artificiales de la clase minoritaria, que podamos después emplear para agrandar el número de muestras. Es equivalente al oversampling que vimos en la sección 5.3.3, pero en lugar de repetir muestras generamos muestras nuevas, parecidas a las que teníamos.\n",
        "\n",
        "El algoritmo es algo complejo pero fácil de entender. Se toman las muestras minoritarias y se elige una al azar. A esa muestra se le toman sus $k$ vecinos más cercanos, se toma uno de ellos al azar y se genera una nueva muestra equivalente al promedio de ambas. Este proceso se repite cuantas veces sea necesario hasta generar todas las muestras deseadas.\n",
        "\n",
        "Por suerte no lo tenemos que programar nosotros, tampoco. Vamos a usar la clase ```SMOTE``` del paquete ```imblearn```. Funciona igual que las que veíamos antes."
      ]
    },
    {
      "cell_type": "code",
      "metadata": {
        "id": "EQeS9nfQ-8_4",
        "colab": {
          "base_uri": "https://localhost:8080/",
          "height": 1000
        },
        "outputId": "5f8b76f1-cfce-445c-f146-1a374a8976d4"
      },
      "source": [
        "from imblearn.over_sampling import SMOTE\n",
        "\n",
        "# inicializamos el objeto que nos hará el undersampling\n",
        "oversample = SMOTE(sampling_strategy=sampling_strategy, random_state=10, k_neighbors=5)\n",
        "# # generamos los nuevos datos\n",
        "smote_dataset = dataset.copy()\n",
        "smote_dataset['X_train'], smote_dataset['y_train'] = oversample.fit_resample(dataset['X_train'], dataset['y_train'])\n",
        "print('Original training set size: {}'.format(dataset['X_train'].shape))\n",
        "print('New training set size: {}'.format(smote_dataset['X_train'].shape))\n",
        "print('')\n",
        "\n",
        "# inicializamos un vector donde guardaremos los valores de accuracy\n",
        "smote_reg_log_reg_accuracy_val = np.zeros(len(C_values))\n",
        "# inicializamos también una lista para guardar cada modelo que entrenemos\n",
        "smote_reg_log_reg_models = []\n",
        "\n",
        "# probamos cada valor de C\n",
        "print('Logistic regression classifier with {} regularization and SMOTE in dataset'.format(regularizer))\n",
        "for i in range(len(C_values)):\n",
        "  # inicializamos el modelo\n",
        "  model = LogisticRegression(penalty=regularizer, fit_intercept=True, C=10**(C_values[i]), solver=best_solver, max_iter=1000)\n",
        "  smote_reg_log_reg_models.append(model)\n",
        "  # lo entrenamos sobre los datos de entrenamiento\n",
        "  model.fit(smote_dataset['X_train'], smote_dataset['y_train'])\n",
        "  # lo corremos sobre los datos de validación\n",
        "  y_hat_val = model.predict(dataset['X_val'])\n",
        "  # y evaluamos su F1-score comparando estas etiquetas con el ground truth\n",
        "  smote_reg_log_reg_accuracy_val[i] = f1_score(dataset['y_val'], y_hat_val)\n",
        "  print('{} Log Reg with C={} --> F1-score={:.4f} - Positive samples={}'.format(regularizer, 10**(C_values[i]), smote_reg_log_reg_accuracy_val[i], np.sum(y_hat_val)))\n",
        "print('')\n",
        "\n",
        "# mostramos un gráfico ilustrando la evolución del F1-score para cada C\n",
        "plt.plot(C_values, smote_reg_log_reg_accuracy_val)\n",
        "plt.xlabel('$C=10^i$ value')\n",
        "plt.grid()\n",
        "plt.ylabel('F1-score on validation set')\n",
        "plt.title('Logistic Regression classifier with {} regularization - SMOTE data'.format(regularizer))\n",
        "plt.legend(['{} regularization'.format(regularizer)])\n",
        "plt.show(True)\n",
        "\n",
        "# identificamos el mejor valor de C a partir del F1-score más alto\n",
        "C_idx = np.argmax(smote_reg_log_reg_accuracy_val)\n",
        "# lo reservamos\n",
        "smote_regularized_logistic_regression_model = smote_reg_log_reg_models[C_idx]\n",
        "# lo corremos sobre los datos de validación\n",
        "y_hat_val = smote_regularized_logistic_regression_model.predict(dataset['X_val'])\n",
        "y_hat_val_proba = smote_regularized_logistic_regression_model.predict_proba(dataset['X_val'])[:,1]\n",
        "\n",
        "# calculamos las métricas\n",
        "pr_smote, re_smote, f1_smote, matthews_smote = compute_metrics_for_imbalanced_datasets(dataset['y_val'], y_hat_val)\n",
        "\n",
        "# imprimimos los resultados por pantalla\n",
        "print('')\n",
        "print('-----------------------')\n",
        "print('Best C: {}'.format(10**C_values[C_idx]))\n",
        "print('MCC: {:.4f}'.format(matthews_smote))\n",
        "print('F1-score: {:.4f}'.format(f1_smote))\n",
        "print('Precision: {:.4f}'.format(pr_smote))\n",
        "print('Recall: {:.4f}'.format(re_smote))\n",
        "print('-----------------------')\n",
        "print('Model performance oversampling minority class')\n",
        "print('MCC: {:.4f}'.format(matthews_oversampled))\n",
        "print('F1-score: {:.4f}'.format(f1_oversampled))\n",
        "print('Precision: {:.4f}'.format(pr_oversampled))\n",
        "print('Recall: {:.4f}'.format(re_oversampled))\n",
        "print('-----------------------')\n",
        "print('Model performance undersampling majority class')\n",
        "print('MCC: {:.4f}'.format(matthews_undersampled))\n",
        "print('F1-score: {:.4f}'.format(f1_undersampled))\n",
        "print('Precision: {:.4f}'.format(pr_undersampled))\n",
        "print('Recall: {:.4f}'.format(re_undersampled))\n",
        "print('-----------------------')\n",
        "print('Weighted model performance')\n",
        "print('MCC: {:.4f}'.format(matthews_weighted))\n",
        "print('F1-score: {:.4f}'.format(f1_weighted))\n",
        "print('Precision: {:.4f}'.format(pr_weighted))\n",
        "print('Recall: {:.4f}'.format(re_weighted))\n",
        "print('-----------------------')\n",
        "print('Unweighted model performance')\n",
        "print('MCC: {:.4f}'.format(matthews_standard))\n",
        "print('F1-score: {:.4f}'.format(f1_standard))\n",
        "print('Precision: {:.4f}'.format(pr_standard))\n",
        "print('Recall: {:.4f}'.format(re_standard))\n",
        "print('')\n",
        "\n",
        "# calculamos los valores para la curva de precision/recall\n",
        "pr_vals_smote, re_vals_smote, _ = precision_recall_curve(dataset['y_val'], y_hat_val_proba)\n",
        "# calculamos el area bajo la curva\n",
        "AUC_smote = auc(re_vals_smote, pr_vals_smote)\n",
        "\n",
        "plt.plot(re_vals_no_correction, pr_vals_no_correction)\n",
        "plt.plot(re_vals_weighted, pr_vals_weighted)\n",
        "plt.plot(re_vals_under, pr_vals_under)\n",
        "plt.plot(re_vals_over, pr_vals_over)\n",
        "plt.plot(re_vals_smote, pr_vals_smote)\n",
        "plt.grid(True)\n",
        "plt.xlabel('Recall')\n",
        "plt.ylabel('Precision')\n",
        "plt.title('Precision/Recall curve - Logistic Regression classifier')\n",
        "plt.legend(['Unweighted Log Reg: AUC = {:.4f}'.format(AUC_no_correction),\n",
        "            'Weighted Log Reg: AUC = {:.4f}'.format(AUC_weighted),\n",
        "            'Log Reg - Undersampling: AUC = {:.4f}'.format(AUC_under),\n",
        "            'Log Reg - Oversampling: AUC = {:.4f}'.format(AUC_over),\n",
        "            'Log Reg - SMOTE: AUC = {:.4f}'.format(AUC_smote)], loc='lower left')\n",
        "plt.show()"
      ],
      "execution_count": null,
      "outputs": [
        {
          "output_type": "stream",
          "text": [
            "/usr/local/lib/python3.7/dist-packages/sklearn/utils/deprecation.py:87: FutureWarning: Function safe_indexing is deprecated; safe_indexing is deprecated in version 0.22 and will be removed in version 0.24.\n",
            "  warnings.warn(msg, category=FutureWarning)\n"
          ],
          "name": "stderr"
        },
        {
          "output_type": "stream",
          "text": [
            "Original training set size: (179427, 30)\n",
            "New training set size: (188072, 30)\n",
            "\n",
            "Logistic regression classifier with l2 regularization and SMOTE in dataset\n",
            "l2 Log Reg with C=1e-05 --> F1-score=0.6038 - Positive samples=19.0\n",
            "l2 Log Reg with C=0.0001 --> F1-score=0.8182 - Positive samples=32.0\n",
            "l2 Log Reg with C=0.001 --> F1-score=0.8286 - Positive samples=36.0\n",
            "l2 Log Reg with C=0.01 --> F1-score=0.8169 - Positive samples=37.0\n",
            "l2 Log Reg with C=0.1 --> F1-score=0.7945 - Positive samples=39.0\n",
            "l2 Log Reg with C=1 --> F1-score=0.7945 - Positive samples=39.0\n",
            "l2 Log Reg with C=10 --> F1-score=0.7945 - Positive samples=39.0\n",
            "l2 Log Reg with C=100 --> F1-score=0.7945 - Positive samples=39.0\n",
            "l2 Log Reg with C=1000 --> F1-score=0.7945 - Positive samples=39.0\n",
            "\n"
          ],
          "name": "stdout"
        },
        {
          "output_type": "display_data",
          "data": {
            "image/png": "[encoded data removed]",
            "text/plain": [
              "<Figure size 432x288 with 1 Axes>"
            ]
          },
          "metadata": {
            "tags": [],
            "needs_background": "light"
          }
        },
        {
          "output_type": "stream",
          "text": [
            "\n",
            "-----------------------\n",
            "Best C: 0.001\n",
            "MCC: 0.8286\n",
            "F1-score: 0.8286\n",
            "Precision: 0.8056\n",
            "Recall: 0.8529\n",
            "-----------------------\n",
            "Model performance oversampling minority class\n",
            "MCC: 0.8183\n",
            "F1-score: 0.8182\n",
            "Precision: 0.8438\n",
            "Recall: 0.7941\n",
            "-----------------------\n",
            "Model performance undersampling majority class\n",
            "MCC: 0.8314\n",
            "F1-score: 0.8308\n",
            "Precision: 0.8710\n",
            "Recall: 0.7941\n",
            "-----------------------\n",
            "Weighted model performance\n",
            "MCC: 0.8183\n",
            "F1-score: 0.8182\n",
            "Precision: 0.8438\n",
            "Recall: 0.7941\n",
            "-----------------------\n",
            "Unweighted model performance\n",
            "MCC: 0.6943\n",
            "F1-score: 0.6786\n",
            "Precision: 0.8636\n",
            "Recall: 0.5588\n",
            "\n"
          ],
          "name": "stdout"
        },
        {
          "output_type": "display_data",
          "data": {
            "image/png": "[encoded data removed]",
            "text/plain": [
              "<Figure size 432x288 with 1 Axes>"
            ]
          },
          "metadata": {
            "tags": [],
            "needs_background": "light"
          }
        }
      ]
    },
    {
      "cell_type": "markdown",
      "metadata": {
        "id": "uuu4P3gRAoHn"
      },
      "source": [
        "### 5. Problemas multiclase\n",
        "\n",
        "En los problemas multiclase buscamos modelos capaces de predecir no una variable dicotómica (0 o 1), si no una categórica (0, 1, ..., K). Los algoritmos con los que estamos trabajando, originalmente concebidos para problemas binarios, tienen extensiones que nos permiten atacar problemas multiclase.\n",
        "\n",
        "![](https://utkuufuk.com/2018/06/03/one-vs-all-classification/one-vs-all.png)\n",
        "\n",
        "Vamos a analizar esos algoritmos en el contexto de un nuevo problema, utilizando el [Iris Dataset](https://scikit-learn.org/stable/auto_examples/datasets/plot_iris_dataset.html). Utilizado comunmente en la literatura de Pattern Recognition, este conjunto de datos nos provee 150 muestras correspondientes a diferentes medidas de distintas flores de Iris, clasificadas en 3 clases (50 muestras por clase): Iris Setosa, Iris Versicolour e Iris Virginica. Los datos están disponibles en Sklearn, así que podemos accederlos directamente.\n",
        "\n",
        "\n",
        "\n"
      ]
    },
    {
      "cell_type": "code",
      "metadata": {
        "id": "Dp7R3G84AxEX",
        "colab": {
          "base_uri": "https://localhost:8080/"
        },
        "outputId": "c3f1faeb-324b-47c2-9490-49725e239cd1"
      },
      "source": [
        "from sklearn.datasets import load_iris\n",
        "\n",
        "# cargamos el conjunto de datos\n",
        "data = load_iris()\n",
        "\n",
        "# imprimimos el tamaño del data set para chequear que hayamos cargado todo bien\n",
        "X = data['data']\n",
        "y = data['target']\n",
        "print('======================')\n",
        "print('ORIGINAL IRIS DATASET')\n",
        "print('Num samples: {}'.format(X.shape[0]))\n",
        "print('Num features: {}'.format(X.shape[1]))\n",
        "print('Feature names: {}'.format(data.feature_names))\n",
        "print('Classes: {}'.format(np.unique(y)))\n",
        "print('Target names: {}'.format(data.target_names))\n",
        "print('% samples per class')\n",
        "for i in range(len(np.unique(y))):\n",
        "  print('--> {} : {:2.2f}%'.format(i, np.sum(y==i)/y.size*100))\n",
        "print('======================')\n"
      ],
      "execution_count": null,
      "outputs": [
        {
          "output_type": "stream",
          "text": [
            "======================\n",
            "ORIGINAL IRIS DATASET\n",
            "Num samples: 150\n",
            "Num features: 4\n",
            "Feature names: ['sepal length (cm)', 'sepal width (cm)', 'petal length (cm)', 'petal width (cm)']\n",
            "Classes: [0 1 2]\n",
            "Target names: ['setosa' 'versicolor' 'virginica']\n",
            "% samples per class\n",
            "--> 0 : 33.33%\n",
            "--> 1 : 33.33%\n",
            "--> 2 : 33.33%\n",
            "======================\n"
          ],
          "name": "stdout"
        }
      ]
    },
    {
      "cell_type": "markdown",
      "metadata": {
        "id": "b6_hipg08K-t"
      },
      "source": [
        "Vemos que efectivamente tenemos 4 features para cada muestra, y que además tenemos 3 etiquetas posibles en este caso. Los datos además están distribuidos en igual cantidad por clase. \n",
        "\n",
        "150 muestras es quizá un número demasiado chico para entrenar y evaluar un clasificador usando las típicas particiones de train/val/test: muy probablemente las estimaciones de performance que obtendríamos para algunas configuraciones no serían tan confiables, y un clasificador entrenado en menos del 70% de estos datos tampoco sería muy fiable en producción.\n",
        "\n",
        "Para sortear esta dificultad, entonces, vamos a estudiar nuestros algoritmos de clasificación multiclase usando k-fold cross-validation. En particular vamos a usar siempre la misma partición, con $k=5$, ya que 150 es múltiplo de 5. Así, nos quedarían conjuntos de entrenamiento de 120 muestras y de test de 30. Además, vamos a estratificar el sampleo, para asegurarnos idéntica proporción de clases entre los folds de test y los de entrenamiento.\n",
        "\n",
        "Una vez que hayamos encontrado el mejor modelo para nuestros datos usando cross-validation, deberíamos entrenarlo una última vez usando absolutamente todos los datos que tenemos, y deployaríamos ese modelo final en producción.\n",
        "\n",
        "Preparemos los datos para eso, entonces. Recuerden que en estos casos es totalmente legal estandarizar todos los datos con media y desvío estimados a partir de todos."
      ]
    },
    {
      "cell_type": "code",
      "metadata": {
        "id": "7_4pMmQYpwJX",
        "colab": {
          "base_uri": "https://localhost:8080/"
        },
        "outputId": "a17d4204-504b-453b-a1d3-bb73adb31433"
      },
      "source": [
        "from sklearn.model_selection import StratifiedKFold, cross_val_score\n",
        "\n",
        "# inicializamos la estructura donde vamos a guardar nuestro dataset reformateado\n",
        "dataset = dict()\n",
        "\n",
        "# asignamos los campos que ya podemos asignar\n",
        "dataset['feature_labels'] = data.feature_names\n",
        "dataset['target_names'] = list(data.target_names)\n",
        "# calculamos media y desvío\n",
        "dataset['mu'] = np.mean(X, axis=0)\n",
        "dataset['sigma'] = np.std(X, axis=0)\n",
        "# guardamos los datos estandarizados y sus etiquetas\n",
        "dataset['X'] = (X - dataset['mu']) / dataset['sigma']\n",
        "dataset['y'] = y\n",
        "# generamos una partición de cross validation estratificado\n",
        "dataset['cross-val-partition'] = StratifiedKFold(n_splits=5, shuffle=True, random_state=10)\n",
        "print(dataset['cross-val-partition'])"
      ],
      "execution_count": null,
      "outputs": [
        {
          "output_type": "stream",
          "text": [
            "StratifiedKFold(n_splits=5, random_state=10, shuffle=True)\n"
          ],
          "name": "stdout"
        }
      ]
    },
    {
      "cell_type": "markdown",
      "metadata": {
        "id": "blEW5s5M5GLo"
      },
      "source": [
        "El problema multiclase definido en este nuevo dataset nos viene genial para ver cómo se adaptan los algoritmos que veníamos viendo a este tipo de problemas. Vamos a ir uno por uno."
      ]
    },
    {
      "cell_type": "markdown",
      "metadata": {
        "id": "j5w__BC33tVi"
      },
      "source": [
        "#### 5.1. Random Forest\n",
        "\n",
        "El modelo de Random Forest está concebido desde sus inicios para trabajar en problemas multiclase. Las predicciones de cada árbol de decisión del bosque pertenecerán a alguna de las clases objetivo (0, 1 o 2, en el ejemplo del dataset Iris), y tomaremos la que más se repita como respuesta del algoritmo. \n",
        "\n",
        "Vamos a entrenar y evaluar nuestro modelo de Random Forest en este nuevo conjunto de datos, usando cross-validation. Para ellos analizaremos distintas cantidades de árboles, y estudiaremos como cambian el Accuracy promedio por cada fold, además de su desvío estándar. Lo ideal es quedarnos siempre con el número de árboles que reporta un accuracy promedio más alto, y un desvío estándar más bajo (es decir, el mejor modelo y a la vez el más estable)."
      ]
    },
    {
      "cell_type": "code",
      "metadata": {
        "id": "EuoH9rc2MNRI",
        "colab": {
          "base_uri": "https://localhost:8080/",
          "height": 465
        },
        "outputId": "ecfe9cb6-3471-478e-e742-5fc829790ad1"
      },
      "source": [
        "from sklearn.ensemble import RandomForestClassifier\n",
        "\n",
        "# numero de arboles\n",
        "num_trees = [5, 10, 25, 50]\n",
        "\n",
        "# arreglo para ir guardando los valores de accuracy\n",
        "rf_mean_accuracy = np.zeros(len(num_trees))\n",
        "rf_std_accuracy = np.zeros(len(num_trees))\n",
        "\n",
        "# iteramos por cada numero de arboles\n",
        "i = 0\n",
        "print('Random Forest Classifier')\n",
        "print('-----------------------')\n",
        "for N in num_trees:\n",
        "  # definimos el modelo\n",
        "  model = RandomForestClassifier(n_estimators=N, random_state=18)\n",
        "  # usamos cross validation para evaluar la performance en cada fold\n",
        "  accuracy_per_fold = cross_val_score(model, \n",
        "                                      dataset['X'], dataset['y'], \n",
        "                                      cv=dataset['cross-val-partition'], \n",
        "                                      scoring='accuracy')\n",
        "  # tomamos los valores promedio de accuracy, y tmb el desvío\n",
        "  rf_mean_accuracy[i] = np.mean(accuracy_per_fold)\n",
        "  rf_std_accuracy[i] = np.std(accuracy_per_fold)\n",
        "  # imprimimos\n",
        "  print('RF with T={} --> Acc={:.4f}+-{:.4f}'.format(N, rf_mean_accuracy[i], rf_std_accuracy[i]))\n",
        "  i=i+1\n",
        "\n",
        "# identificamos el mejor valor de T a partir del accuracy más alto\n",
        "T_idx = np.argmax(rf_mean_accuracy)\n",
        "best_rf_performance = dict()\n",
        "best_rf_performance['mean']=rf_mean_accuracy[T_idx]\n",
        "best_rf_performance['std']=rf_std_accuracy[T_idx]\n",
        "# imprimimos los resultados por pantalla\n",
        "print('-----------------------')\n",
        "print('Best T: {}'.format(num_trees[T_idx]))\n",
        "print('Average accuracy: {:.4f}+-{:.4f}'.format(best_rf_performance['mean'], best_rf_performance['std']))\n",
        "print('-----------------------')\n",
        "\n",
        "# mostramos un gráfico ilustrando la evolución del accuracy para cada T\n",
        "fig, ax = plt.subplots()\n",
        "ax.plot(num_trees, rf_mean_accuracy,'-bo')\n",
        "ax.fill_between(num_trees, (rf_mean_accuracy-rf_std_accuracy), (rf_mean_accuracy+rf_std_accuracy), color='b', alpha=.1)\n",
        "ax.set_ylim(0.0, 1)\n",
        "ax.set_xlabel('Num. trees')\n",
        "ax.set_ylabel('Accuracy per fold')\n",
        "ax.set_title('Num. trees vs. Average accuracy per fold')\n",
        "ax.grid(True)"
      ],
      "execution_count": null,
      "outputs": [
        {
          "output_type": "stream",
          "text": [
            "Random Forest Classifier\n",
            "-----------------------\n",
            "RF with T=5 --> Acc=0.9533+-0.0400\n",
            "RF with T=10 --> Acc=0.9467+-0.0499\n",
            "RF with T=25 --> Acc=0.9533+-0.0499\n",
            "RF with T=50 --> Acc=0.9533+-0.0499\n",
            "-----------------------\n",
            "Best T: 25\n",
            "Average accuracy: 0.9533+-0.0499\n",
            "-----------------------\n"
          ],
          "name": "stdout"
        },
        {
          "output_type": "display_data",
          "data": {
            "image/png": "[encoded data removed]",
            "text/plain": [
              "<Figure size 432x288 with 1 Axes>"
            ]
          },
          "metadata": {
            "tags": [],
            "needs_background": "light"
          }
        }
      ]
    },
    {
      "cell_type": "markdown",
      "metadata": {
        "id": "f6jDzBJNPq98"
      },
      "source": [
        "Noten que la performance del algoritmo es bastante estable, con un mínimo pico para $T=25$. Si quisiéramos, podríamos también mirar los resultados que obtenemos en cada uno de los folds. Hagámoslo para el modelo que vimos que es óptimo.\n",
        "\n"
      ]
    },
    {
      "cell_type": "code",
      "metadata": {
        "id": "9jI1ePhj5_sF",
        "colab": {
          "base_uri": "https://localhost:8080/"
        },
        "outputId": "9e8cb39a-cef4-4ab9-d184-f6da1acc3617"
      },
      "source": [
        "from sklearn.model_selection import cross_val_predict\n",
        "\n",
        "# inicializamos el modelo\n",
        "model = RandomForestClassifier(n_estimators=num_trees[T_idx], random_state=18)\n",
        "# usamos cross validation para obtener las predicciones en cada fold\n",
        "predictions_per_fold = cross_val_predict(model, \n",
        "                                         dataset['X'], dataset['y'], \n",
        "                                         cv=dataset['cross-val-partition'])\n",
        "# y podríamos compararlo con las etiquetas que tenemos\n",
        "print('Predictions: {}'.format(predictions_per_fold))\n",
        "print('Ground truth labels: {}'.format(dataset['y']))\n",
        "print('Agreement: {}'.format(predictions_per_fold == dataset['y']))"
      ],
      "execution_count": null,
      "outputs": [
        {
          "output_type": "stream",
          "text": [
            "Predictions: [0 0 0 0 0 0 0 0 0 0 0 0 0 0 0 0 0 0 0 0 0 0 0 0 0 0 0 0 0 0 0 0 0 0 0 0 0\n",
            " 0 0 0 0 0 0 0 0 0 0 0 0 0 1 1 1 1 1 1 1 1 1 1 1 1 1 1 1 1 1 1 1 1 2 1 2 1\n",
            " 1 1 1 2 1 1 1 1 1 2 1 1 1 1 1 1 1 1 1 1 1 1 1 1 1 1 2 2 2 2 2 2 1 2 2 2 2\n",
            " 2 2 2 2 2 2 2 2 1 2 2 2 2 2 2 2 2 2 2 2 2 2 1 2 2 2 2 2 2 2 2 2 2 2 2 2 2\n",
            " 2 2]\n",
            "Ground truth labels: [0 0 0 0 0 0 0 0 0 0 0 0 0 0 0 0 0 0 0 0 0 0 0 0 0 0 0 0 0 0 0 0 0 0 0 0 0\n",
            " 0 0 0 0 0 0 0 0 0 0 0 0 0 1 1 1 1 1 1 1 1 1 1 1 1 1 1 1 1 1 1 1 1 1 1 1 1\n",
            " 1 1 1 1 1 1 1 1 1 1 1 1 1 1 1 1 1 1 1 1 1 1 1 1 1 1 2 2 2 2 2 2 2 2 2 2 2\n",
            " 2 2 2 2 2 2 2 2 2 2 2 2 2 2 2 2 2 2 2 2 2 2 2 2 2 2 2 2 2 2 2 2 2 2 2 2 2\n",
            " 2 2]\n",
            "Agreement: [ True  True  True  True  True  True  True  True  True  True  True  True\n",
            "  True  True  True  True  True  True  True  True  True  True  True  True\n",
            "  True  True  True  True  True  True  True  True  True  True  True  True\n",
            "  True  True  True  True  True  True  True  True  True  True  True  True\n",
            "  True  True  True  True  True  True  True  True  True  True  True  True\n",
            "  True  True  True  True  True  True  True  True  True  True False  True\n",
            " False  True  True  True  True False  True  True  True  True  True False\n",
            "  True  True  True  True  True  True  True  True  True  True  True  True\n",
            "  True  True  True  True  True  True  True  True  True  True False  True\n",
            "  True  True  True  True  True  True  True  True  True  True  True False\n",
            "  True  True  True  True  True  True  True  True  True  True  True  True\n",
            "  True False  True  True  True  True  True  True  True  True  True  True\n",
            "  True  True  True  True  True  True]\n"
          ],
          "name": "stdout"
        }
      ]
    },
    {
      "cell_type": "markdown",
      "metadata": {
        "id": "5n6e6D5J59DN"
      },
      "source": [
        "El accuracy nos mide las coincidencias entre las etiquetas esperadas y las predichas. Si quisiéramos estudiar qué clases nuestro modelo confunde con cuáles, deberíamos ir mirando una por una las respuestas y compararlas. Una locura. Hay una forma cuantitativa de hacer esto, utilizando las famosas [matrices de confusión](https://en.wikipedia.org/wiki/Confusion_matrix). En el siguiente ejemplo mostramos cómo obtener matrices de confusión utilizando Sklearn (la forma más fácil) y usando Pandas y Seaborn (la forma más bonita)."
      ]
    },
    {
      "cell_type": "code",
      "metadata": {
        "id": "XtpHYnqNQVGn",
        "colab": {
          "base_uri": "https://localhost:8080/",
          "height": 397
        },
        "outputId": "ed594b4e-d409-44ce-acd1-e9c7307b8397"
      },
      "source": [
        "from sklearn.metrics import confusion_matrix\n",
        "\n",
        "# obtenemos la matriz de confusión usando sklearn\n",
        "conf_mat = confusion_matrix(dataset['y'], predictions_per_fold, [0, 1, 2])\n",
        "\n",
        "print('Confusion matrix using Numpy:')\n",
        "print(conf_mat)\n",
        "print('')\n",
        "\n",
        "\n",
        "import pandas as pd\n",
        "import seaborn as sn\n",
        "\n",
        "# obtenemos la matriz usando pandas y seaborn\n",
        "print('Confusion matrix using Pandas and Seaborn:')\n",
        "df = pd.DataFrame({'GT': dataset['y'], 'Predicted': predictions_per_fold}, columns=['GT','Predicted'])\n",
        "conf_mat = pd.crosstab(df['GT'], df['Predicted'], rownames=['GT'], colnames=['Predicted'], margins = False)\n",
        "ax = plt.axes()\n",
        "sn.heatmap(conf_mat, ax=ax, annot=True)\n",
        "ax.set_title('Confusion matrix')\n",
        "plt.show()"
      ],
      "execution_count": null,
      "outputs": [
        {
          "output_type": "stream",
          "text": [
            "Confusion matrix using Numpy:\n",
            "[[50  0  0]\n",
            " [ 0 46  4]\n",
            " [ 0  3 47]]\n",
            "\n",
            "Confusion matrix using Pandas and Seaborn:\n"
          ],
          "name": "stdout"
        },
        {
          "output_type": "display_data",
          "data": {
            "image/png": "[encoded data removed]",
            "text/plain": [
              "<Figure size 432x288 with 2 Axes>"
            ]
          },
          "metadata": {
            "tags": [],
            "needs_background": "light"
          }
        }
      ]
    },
    {
      "cell_type": "markdown",
      "metadata": {
        "id": "312BagnfebcN"
      },
      "source": [
        "Podemos ver que los resultados son en principio muy buenos. En la diagonal (donde se grafican las coincidencias) vemos que en la mayoría de los casos nuestro algoritmo predice lo que esperábamos. Solamente comete 3 errores para muestras de la clase 2 (a las que predice como parte de la clase 3) y 4 errores para muestras de la clase 1 (a la que predice como clase 2). Podríamos decir, entonces, que nuestro clasificador multiclase es perfecto (en nuestros datos, al menos) para discernir la clase 0 del resto, pero que comete algunos errores y confunde la clase 2 con la 1 (y viceversa)."
      ]
    },
    {
      "cell_type": "markdown",
      "metadata": {
        "id": "uc1PmuV1fXRq"
      },
      "source": [
        "#### 5.2. kNN\n",
        "\n",
        "El modelo de k-Nearest Neighbors también puede aplicarse en problemas multiclase sin requerir ninguna modificación extraña. El único cambio que se manifiesta es que ahora, al momento de elegir qué clase asignar, tendremos vecinos que pueden pertenecer a más de solamente 2 categorías.\n",
        "\n",
        "Vamos a probarlo en estos nuevos datos que estamos utilizando, siempre usando cross-validation y probando diferentes valores de K."
      ]
    },
    {
      "cell_type": "code",
      "metadata": {
        "id": "LOfJ4EYSfXot",
        "colab": {
          "base_uri": "https://localhost:8080/",
          "height": 516
        },
        "outputId": "9e353da7-3c31-4be5-fdb5-1cd575991277"
      },
      "source": [
        "from sklearn.neighbors import KNeighborsClassifier\n",
        "\n",
        "# número de vecinos para analizar\n",
        "K_values = [3, 5, 7, 9, 11, 13, 15]\n",
        "\n",
        "# arreglo para ir guardando los valores de accuracy\n",
        "knn_mean_accuracy = np.zeros(len(K_values))\n",
        "knn_std_accuracy = np.zeros(len(K_values))\n",
        "\n",
        "# iteramos por cada valor de K\n",
        "i = 0\n",
        "print('k Nearest Neighbors')\n",
        "print('-----------------------')\n",
        "for k in K_values:\n",
        "  # definimos el modelo\n",
        "  model = KNeighborsClassifier(n_neighbors=k, algorithm='brute')\n",
        "  # usamos cross validation para evaluar la performance en cada fold\n",
        "  accuracy_per_fold = cross_val_score(model, \n",
        "                                      dataset['X'], dataset['y'], \n",
        "                                      cv=dataset['cross-val-partition'], \n",
        "                                      scoring='accuracy')\n",
        "  # tomamos los valores promedio de accuracy, y tmb el desvío\n",
        "  knn_mean_accuracy[i] = np.mean(accuracy_per_fold)\n",
        "  knn_std_accuracy[i] = np.std(accuracy_per_fold)\n",
        "  # imprimimos\n",
        "  print('kNN with K={} --> Acc={:.4f}+-{:.4f}'.format(k, knn_mean_accuracy[i], knn_std_accuracy[i]))\n",
        "  i=i+1\n",
        "\n",
        "# identificamos el mejor valor de K a partir del accuracy más alto\n",
        "K_idx = np.argmax(knn_mean_accuracy)\n",
        "best_knn_performance = dict()\n",
        "best_knn_performance['mean']=knn_mean_accuracy[K_idx]\n",
        "best_knn_performance['std']=knn_std_accuracy[K_idx]\n",
        "# imprimimos los resultados por pantalla\n",
        "print('-----------------------')\n",
        "print('Best K: {}'.format(K_values[K_idx]))\n",
        "print('Average accuracy: {:.4f}+-{:.4f}'.format(knn_mean_accuracy[K_idx], knn_std_accuracy[K_idx]))\n",
        "print('-----------------------')\n",
        "\n",
        "# mostramos un gráfico ilustrando la evolución del accuracy para cada K\n",
        "fig, ax = plt.subplots()\n",
        "ax.plot(K_values, knn_mean_accuracy,'-ro')\n",
        "ax.fill_between(K_values, (knn_mean_accuracy-knn_std_accuracy), (knn_mean_accuracy+knn_std_accuracy), color='r', alpha=.1)\n",
        "ax.set_ylim(0.0, 1)\n",
        "ax.set_xlabel('Num. neighbors (K)')\n",
        "ax.set_ylabel('Accuracy per fold')\n",
        "ax.set_xticks(K_values)\n",
        "ax.set_title('Num. neighbors (K) vs. Average accuracy per fold')\n",
        "ax.grid(True)"
      ],
      "execution_count": null,
      "outputs": [
        {
          "output_type": "stream",
          "text": [
            "k Nearest Neighbors\n",
            "-----------------------\n",
            "kNN with K=3 --> Acc=0.9333+-0.0558\n",
            "kNN with K=5 --> Acc=0.9533+-0.0499\n",
            "kNN with K=7 --> Acc=0.9467+-0.0542\n",
            "kNN with K=9 --> Acc=0.9600+-0.0389\n",
            "kNN with K=11 --> Acc=0.9600+-0.0327\n",
            "kNN with K=13 --> Acc=0.9667+-0.0422\n",
            "kNN with K=15 --> Acc=0.9600+-0.0389\n",
            "-----------------------\n",
            "Best K: 13\n",
            "Average accuracy: 0.9667+-0.0422\n",
            "-----------------------\n"
          ],
          "name": "stdout"
        },
        {
          "output_type": "display_data",
          "data": {
            "image/png": "[encoded data removed]",
            "text/plain": [
              "<Figure size 432x288 with 1 Axes>"
            ]
          },
          "metadata": {
            "tags": [],
            "needs_background": "light"
          }
        }
      ]
    },
    {
      "cell_type": "markdown",
      "metadata": {
        "id": "XrcV3VBC-NMk"
      },
      "source": [
        "Por los resultados que obtuvimos, vemos que usando K=13 vecinos obtenemos la mejor performance, incluso superando al Random Forest en su desempeño promedio.\n",
        "\n",
        "Podríamos generar también la matriz de confusión, para ver para qué clases éste algoritmo anda mejor que el Random Forest:"
      ]
    },
    {
      "cell_type": "code",
      "metadata": {
        "id": "VoH9mOcp-hD2",
        "colab": {
          "base_uri": "https://localhost:8080/",
          "height": 295
        },
        "outputId": "0e34d3ae-5dfa-42f0-aa1f-65fa481378dc"
      },
      "source": [
        "# inicializamos el modelo\n",
        "model = KNeighborsClassifier(n_neighbors=K_values[K_idx], algorithm='brute')\n",
        "# usamos cross validation para obtener las predicciones en cada fold\n",
        "predictions_per_fold = cross_val_predict(model, \n",
        "                                         dataset['X'], dataset['y'], \n",
        "                                         cv=dataset['cross-val-partition'])\n",
        "\n",
        "# obtenemos la matriz usando pandas y seaborn\n",
        "df = pd.DataFrame({'GT': dataset['y'], 'Predicted': predictions_per_fold}, columns=['GT','Predicted'])\n",
        "conf_mat = pd.crosstab(df['GT'], df['Predicted'], rownames=['GT'], colnames=['Predicted'], margins = False)\n",
        "ax = plt.axes()\n",
        "sn.heatmap(conf_mat, ax=ax, annot=True)\n",
        "ax.set_title('kNN - Confusion matrix')\n",
        "plt.show()"
      ],
      "execution_count": null,
      "outputs": [
        {
          "output_type": "display_data",
          "data": {
            "image/png": "[encoded data removed]",
            "text/plain": [
              "<Figure size 432x288 with 2 Axes>"
            ]
          },
          "metadata": {
            "tags": [],
            "needs_background": "light"
          }
        }
      ]
    },
    {
      "cell_type": "markdown",
      "metadata": {
        "id": "zDmhIN_jEHFG"
      },
      "source": [
        "Ahora vemos que el kNN es capaz de cometer 2 errores menos cuando las muestras de entrada son de clase 1 (el RF clasificaba erroneamente a 4 muestras de esa clase como clase 2, y éste lo hace solamente con 2)."
      ]
    },
    {
      "cell_type": "markdown",
      "metadata": {
        "id": "2jf1unHMMNy3"
      },
      "source": [
        "#### 5.3. Adaptando modelos lineales: OVR (One Vs. the Rest)\n",
        "\n",
        "Los modelos lineales con los que estuvimos trabajando (es decir, Regresión Logística y la SVM) pueden adaptarse para resolver un problema multiclase con K clases (1, 2, ..., K). La solución más simple de todas es la de entrenar K clasificadores binarios que resuelvan problemas binarios del tipo clase i vs. todas las demás. Este enfoque se conoce como OVR (One Vs. the Rest), y aunque funciona muy bien en algunos casos, tiene la particularidad de requerir K entrenamientos de modelos en lugar de uno solo. En la siguiente figura vemos que tendremos, para este ejemplo, 3 modelos, uno por cada una de las clases:\n",
        "\n",
        "![](https://www.oreilly.com/library/view/apache-spark-2x/9781783551606/assets/5e71c32f-8503-49e6-a842-4e8b0b2e7050.png)\n",
        "\n",
        "Vamos a entrenar un modelo de regresión logística bajo la metodología OVR. La forma de hacerlo en Sklearn es muy simple, basta con indicar el parámetro ```multi_class = 'ovr'```. Tengan en cuenta que, en este caso, necesitamos usar el ```solver = 'liblinear'```, ya que los demás optimizadores no saben cómo resolver un problema OVR. Internamente, la función ```fit``` entrenará 3 modelos OVR, y al predecir la función ```predict``` nos retornará la clase que haya sido observada por el modelo correspondiente. También vamos a generar la matriz de confusión, para estudiar las propeidades del modelo resultante."
      ]
    },
    {
      "cell_type": "code",
      "metadata": {
        "id": "Y7Re9aL9MSE5",
        "colab": {
          "base_uri": "https://localhost:8080/",
          "height": 833
        },
        "outputId": "130a7eb0-f65b-44cc-f647-4e9734852217"
      },
      "source": [
        "from sklearn.linear_model import LogisticRegression\n",
        "from sklearn.svm import LinearSVC\n",
        "\n",
        "# elegimos el clasificador\n",
        "classifier = 'logreg'\n",
        "#classifier = 'svm'\n",
        "\n",
        "# le ponemos un nombre largo\n",
        "if classifier == 'logreg':\n",
        "  long_name = 'L2 regularized Logistic Regression'\n",
        "elif classifier == 'svm':\n",
        "  long_name = 'Support Vector Machine classifier'\n",
        "\n",
        "# valores de C que vamos a probar\n",
        "C_values = [-3, -2, -1, 0, 1, 2, 3, 4, 5]\n",
        "\n",
        "# arreglo para ir guardando los valores de accuracy\n",
        "linear_classifier_mean_accuracy = np.zeros(len(C_values))\n",
        "linear_classifier_std_accuracy = np.zeros(len(C_values))\n",
        "linear_classifier_models = []\n",
        "\n",
        "# iteramos por cada valor de C\n",
        "i = 0\n",
        "print('OVR {}'.format(long_name))\n",
        "print('-----------------------')\n",
        "for c_idx in C_values:\n",
        "  # definimos el modelo\n",
        "  if classifier == 'logreg':\n",
        "    model = LogisticRegression(penalty='l2', fit_intercept=True, C=10**c_idx, solver='liblinear', multi_class='ovr')\n",
        "  elif classifier == 'svm':\n",
        "    model = LinearSVC(C=10**c_idx, penalty='l2', loss='hinge', multi_class='ovr', fit_intercept=True, max_iter=150000)\n",
        "  linear_classifier_models.append(model)\n",
        "  # usamos cross validation para evaluar la performance en cada fold\n",
        "  accuracy_per_fold = cross_val_score(model, \n",
        "                                      dataset['X'], dataset['y'], \n",
        "                                      cv=dataset['cross-val-partition'], \n",
        "                                      scoring='accuracy')\n",
        "  # tomamos los valores promedio de accuracy, y tmb el desvío\n",
        "  linear_classifier_mean_accuracy[i] = np.mean(accuracy_per_fold)\n",
        "  linear_classifier_std_accuracy[i] = np.std(accuracy_per_fold)\n",
        "  # imprimimos\n",
        "  print('{} with C={} --> Acc={:.4f}+-{:.4f}'.format(classifier, 10**c_idx, linear_classifier_mean_accuracy[i], linear_classifier_std_accuracy[i]))\n",
        "  i=i+1\n",
        "\n",
        "# identificamos el mejor valor de C a partir del accuracy más alto\n",
        "C_idx = np.argmax(linear_classifier_mean_accuracy)\n",
        "best_linear_classifier_performance = dict()\n",
        "best_linear_classifier_performance['classifier']=classifier\n",
        "best_linear_classifier_performance['C']=10**C_values[C_idx]\n",
        "best_linear_classifier_performance['mean']=linear_classifier_mean_accuracy[K_idx]\n",
        "best_linear_classifier_performance['std']=linear_classifier_std_accuracy[K_idx]\n",
        "# imprimimos los resultados por pantalla\n",
        "print('-----------------------')\n",
        "print('Best C: {}'.format(10**C_values[C_idx]))\n",
        "print('Average accuracy: {:.4f}+-{:.4f}'.format(linear_classifier_mean_accuracy[C_idx], linear_classifier_std_accuracy[C_idx]))\n",
        "print('-----------------------')\n",
        "\n",
        "# mostramos un gráfico ilustrando la evolución del accuracy para cada C\n",
        "fig, ax = plt.subplots()\n",
        "ax.plot(C_values, linear_classifier_mean_accuracy,'-go')\n",
        "ax.fill_between(C_values, (linear_classifier_mean_accuracy-linear_classifier_std_accuracy), (linear_classifier_mean_accuracy+linear_classifier_std_accuracy), color='g', alpha=.1)\n",
        "ax.set_ylim(0.0, 1)\n",
        "ax.set_xlabel('C value ($10^{i}$)')\n",
        "ax.set_ylabel('Accuracy per fold')\n",
        "ax.set_xticks(C_values)\n",
        "ax.set_title('C value vs. Average accuracy per fold')\n",
        "ax.grid(True)\n",
        "plt.show()\n",
        "\n",
        "# usamos cross validation para obtener las predicciones en cada fold\n",
        "predictions_per_fold = cross_val_predict(linear_classifier_models[C_idx], \n",
        "                                         dataset['X'], dataset['y'], \n",
        "                                         cv=dataset['cross-val-partition'])\n",
        "\n",
        "# obtenemos la matriz usando pandas y seaborn\n",
        "df = pd.DataFrame({'GT': dataset['y'], 'Predicted': predictions_per_fold}, columns=['GT','Predicted'])\n",
        "conf_mat = pd.crosstab(df['GT'], df['Predicted'], rownames=['GT'], colnames=['Predicted'], margins = False)\n",
        "ax = plt.axes()\n",
        "sn.heatmap(conf_mat, ax=ax, annot=True)\n",
        "ax.set_title('{} - Confusion matrix'.format(long_name))\n",
        "plt.show()"
      ],
      "execution_count": null,
      "outputs": [
        {
          "output_type": "stream",
          "text": [
            "OVR L2 regularized Logistic Regression\n",
            "-----------------------\n",
            "logreg with C=0.001 --> Acc=0.8133+-0.0581\n",
            "logreg with C=0.01 --> Acc=0.8267+-0.0712\n",
            "logreg with C=0.1 --> Acc=0.8333+-0.0760\n",
            "logreg with C=1 --> Acc=0.9067+-0.0646\n",
            "logreg with C=10 --> Acc=0.9467+-0.0452\n",
            "logreg with C=100 --> Acc=0.9533+-0.0499\n",
            "logreg with C=1000 --> Acc=0.9600+-0.0389\n",
            "logreg with C=10000 --> Acc=0.9600+-0.0389\n",
            "logreg with C=100000 --> Acc=0.9533+-0.0499\n",
            "-----------------------\n",
            "Best C: 1000\n",
            "Average accuracy: 0.9600+-0.0389\n",
            "-----------------------\n"
          ],
          "name": "stdout"
        },
        {
          "output_type": "display_data",
          "data": {
            "image/png": "[encoded data removed]",
            "text/plain": [
              "<Figure size 432x288 with 1 Axes>"
            ]
          },
          "metadata": {
            "tags": [],
            "needs_background": "light"
          }
        },
        {
          "output_type": "display_data",
          "data": {
            "image/png": "[encoded data removed]",
            "text/plain": [
              "<Figure size 432x288 with 2 Axes>"
            ]
          },
          "metadata": {
            "tags": [],
            "needs_background": "light"
          }
        }
      ]
    },
    {
      "cell_type": "markdown",
      "metadata": {
        "id": "L0RPipEt4OGy"
      },
      "source": [
        "Cualquier clasificador lineal suele ofrecernos la posibilidad de ser entrenado bajo este esquema. Por ejemplo, el ```LinearSVC``` de ```sklearn.svm``` tiene también el parámetro ```multiclass```, que podemos setear en ```multiclass='ovr'``` para reproducir este comportamiento. Si cambian el nombre del clasificador arriba, el código lo va a probar por sí solo.\n",
        "\n",
        "Internamente, lo que ocurre al utilizar el método ```fit``` es que se entrenan múltiples versiones del mismo clasificador, una para cada problema OVR, usando exactamente la misma configuración de hiperparámetros que seleccionemos. De esta forma, internamente el clasificador estará en realidad formado por una serie de clasificadores binarios, que se aplicarán conjuntamente y de manera transparente al usuario al momento de llamar a ```predict```.\n",
        "\n",
        "Aunque esta idea puede resultar bastante intuitiva, lamentablemente es bastante subóptima: en lugar de estudiar las relaciones entre las features y las diferentes clases, lo hacemos solamente analizando pares, impidiéndonos hacer un mejor aprovechamiento de la información intrínseca en los datos."
      ]
    },
    {
      "cell_type": "markdown",
      "metadata": {
        "id": "WHtq-YRXMSZs"
      },
      "source": [
        "#### 5.4. Softmax Regression\n",
        "\n",
        "Cuando hacemos clasificación multiclase usando un regresor logístico, la posta es recurrir a lo que se conoce como \"Softmax Regression\". Bajo este enfoque, en lugar de aprender los modelos lineales por separado, los aprendemos todos al mismo tiempo. \n",
        "\n",
        "En lugar de tener un vector de pesos $\\theta$ que multiplique a nuestras features, ahora tenemos una serie de vectores $\\theta^{(k)}$, uno por cada clase $k$. Apilándolos uno debajo del otro, obtendríamos una matriz $\\Theta$ de tamaño $k \\times d$ ($k$ filas, una por cada clase, y $d$ columnas, una por cada feature), que multiplicada por nuestro vector de características $\\mathbf{x}$ nos daría un vector $\\mathbf{y}$ de tamaño $k \\times 1$, donde tendríamos los scores para cada una de las $k$ clases. Aplicando alguna función sobre ese vector de scores, podríamos convertirlos en probabilidades $p(y=i | \\mathbf{x})$ (es decir, la probabilidad de que nuestra muestar $\\mathbf{x}$ pertenezca a la clase $i$).\n",
        "\n",
        "Claramente la función $g(z)$ (la sigmoid) que usábamos antes ya no nos rinde para lograr esas probabilidades que buscamos, porque ahora lo que necesitamos no es que un único valor nos quede entre [0, 1] si no que todos los $k$ valores estén en ese intervalo. Además, necesitamos que sumen 1, ya que cada valor debe representar la probabilidad de pertenecer a la clase $k$. Para eso empleamos una nueva *función de activación*, conocida como softmax, cuya forma es:\n",
        "$p(i|\\mathbf{x}) = \\frac{e^{{\\theta^{i}}^T}\\mathbf{x}}{\\sum_j e^{{\\theta^{j}}^T}\\mathbf{x}}$. Utilizando entonces la función de pérdida original que teníamos, podemos entrenar todos los modelos a la vez, y obtener la clase en tiempo de test simplemente resolviendo $\\hat{y} = \\text{argmax}_i p(i|\\mathbf{x})$ (es decir, asignamos la clase para la que nuestro clasificador nos da la mayor probabilidad).\n",
        "\n",
        "Vamos a entrenar ese clasificador y ver qué pasa:"
      ]
    },
    {
      "cell_type": "code",
      "metadata": {
        "id": "WGXize16MXGS",
        "colab": {
          "base_uri": "https://localhost:8080/",
          "height": 1000
        },
        "outputId": "7ef84279-8ca9-40f0-c028-74f2643467e9"
      },
      "source": [
        "# elegimos el clasificador\n",
        "#classifier = 'logreg'\n",
        "classifier = 'svm'\n",
        "\n",
        "# le ponemos un nombre largo\n",
        "if classifier == 'logreg':\n",
        "  long_name = 'Softmax L2 regularized Logistic Regression'\n",
        "elif classifier == 'svm':\n",
        "  long_name = 'Crammer-Singer Support Vector Machine classifier'\n",
        "\n",
        "# valores de C que vamos a probar\n",
        "C_values = [-3, -2, -1, 0, 1, 2, 3, 4, 5]\n",
        "\n",
        "# arreglo para ir guardando los valores de accuracy\n",
        "linear_classifier_mean_accuracy = np.zeros(len(C_values))\n",
        "linear_classifier_std_accuracy = np.zeros(len(C_values))\n",
        "linear_classifier_models = []\n",
        "\n",
        "# iteramos por cada valor de C\n",
        "i = 0\n",
        "print(long_name)\n",
        "print('-----------------------')\n",
        "for c_idx in C_values:\n",
        "  # definimos el modelo\n",
        "  if classifier == 'logreg':\n",
        "    model = LogisticRegression(penalty='l2', fit_intercept=True, C=10**c_idx, solver='newton-cg', multi_class='multinomial')\n",
        "  elif classifier == 'svm':\n",
        "    model = LinearSVC(C=10**c_idx, penalty='l2', loss='hinge', multi_class='crammer_singer', fit_intercept=True, max_iter=15000)\n",
        "  linear_classifier_models.append(model)\n",
        "  # usamos cross validation para evaluar la performance en cada fold\n",
        "  accuracy_per_fold = cross_val_score(model, \n",
        "                                      dataset['X'], dataset['y'], \n",
        "                                      cv=dataset['cross-val-partition'], \n",
        "                                      scoring='accuracy')\n",
        "  # tomamos los valores promedio de accuracy, y tmb el desvío\n",
        "  linear_classifier_mean_accuracy[i] = np.mean(accuracy_per_fold)\n",
        "  linear_classifier_std_accuracy[i] = np.std(accuracy_per_fold)\n",
        "  # imprimimos\n",
        "  print('{} with C={} --> Acc={:.4f}+-{:.4f}'.format(classifier, 10**c_idx, linear_classifier_mean_accuracy[i], linear_classifier_std_accuracy[i]))\n",
        "  i=i+1\n",
        "\n",
        "# identificamos el mejor valor de C a partir del accuracy más alto\n",
        "C_idx = np.argmax(linear_classifier_mean_accuracy)\n",
        "best_linear_classifier_performance = dict()\n",
        "best_linear_classifier_performance['classifier']=classifier\n",
        "best_linear_classifier_performance['C']=10**C_values[C_idx]\n",
        "best_linear_classifier_performance['mean']=linear_classifier_mean_accuracy[K_idx]\n",
        "best_linear_classifier_performance['std']=linear_classifier_std_accuracy[K_idx]\n",
        "# imprimimos los resultados por pantalla\n",
        "print('-----------------------')\n",
        "print('Best C: {}'.format(10**C_values[C_idx]))\n",
        "print('Average accuracy: {:.4f}+-{:.4f}'.format(linear_classifier_mean_accuracy[C_idx], linear_classifier_std_accuracy[C_idx]))\n",
        "print('-----------------------')\n",
        "\n",
        "# mostramos un gráfico ilustrando la evolución del accuracy para cada C\n",
        "fig, ax = plt.subplots()\n",
        "ax.plot(C_values, linear_classifier_mean_accuracy,'-go')\n",
        "ax.fill_between(C_values, (linear_classifier_mean_accuracy-linear_classifier_std_accuracy), (linear_classifier_mean_accuracy+linear_classifier_std_accuracy), color='g', alpha=.1)\n",
        "ax.set_ylim(0.0, 1)\n",
        "ax.set_xlabel('C value ($10^{i}$)')\n",
        "ax.set_ylabel('Accuracy per fold')\n",
        "ax.set_xticks(C_values)\n",
        "ax.set_title('C value vs. Average accuracy per fold')\n",
        "ax.grid(True)\n",
        "plt.show()\n",
        "\n",
        "# usamos cross validation para obtener las predicciones en cada fold\n",
        "predictions_per_fold = cross_val_predict(linear_classifier_models[C_idx], \n",
        "                                         dataset['X'], dataset['y'], \n",
        "                                         cv=dataset['cross-val-partition'])\n",
        "\n",
        "# obtenemos la matriz usando pandas y seaborn\n",
        "df = pd.DataFrame({'GT': dataset['y'], 'Predicted': predictions_per_fold}, columns=['GT','Predicted'])\n",
        "conf_mat = pd.crosstab(df['GT'], df['Predicted'], rownames=['GT'], colnames=['Predicted'], margins = False)\n",
        "ax = plt.axes()\n",
        "sn.heatmap(conf_mat, ax=ax, annot=True)\n",
        "ax.set_title('{} - Confusion matrix'.format(long_name))\n",
        "plt.show()"
      ],
      "execution_count": null,
      "outputs": [
        {
          "output_type": "stream",
          "text": [
            "Crammer-Singer Support Vector Machine classifier\n",
            "-----------------------\n",
            "svm with C=0.001 --> Acc=0.7067+-0.0389\n",
            "svm with C=0.01 --> Acc=0.7267+-0.0573\n",
            "svm with C=0.1 --> Acc=0.9533+-0.0452\n",
            "svm with C=1 --> Acc=0.9600+-0.0389\n",
            "svm with C=10 --> Acc=0.9533+-0.0400\n",
            "svm with C=100 --> Acc=0.9667+-0.0298\n",
            "svm with C=1000 --> Acc=0.9467+-0.0542\n"
          ],
          "name": "stdout"
        },
        {
          "output_type": "stream",
          "text": [
            "/usr/local/lib/python3.7/dist-packages/sklearn/svm/_base.py:947: ConvergenceWarning: Liblinear failed to converge, increase the number of iterations.\n",
            "  \"the number of iterations.\", ConvergenceWarning)\n",
            "/usr/local/lib/python3.7/dist-packages/sklearn/svm/_base.py:947: ConvergenceWarning: Liblinear failed to converge, increase the number of iterations.\n",
            "  \"the number of iterations.\", ConvergenceWarning)\n",
            "/usr/local/lib/python3.7/dist-packages/sklearn/svm/_base.py:947: ConvergenceWarning: Liblinear failed to converge, increase the number of iterations.\n",
            "  \"the number of iterations.\", ConvergenceWarning)\n",
            "/usr/local/lib/python3.7/dist-packages/sklearn/svm/_base.py:947: ConvergenceWarning: Liblinear failed to converge, increase the number of iterations.\n",
            "  \"the number of iterations.\", ConvergenceWarning)\n",
            "/usr/local/lib/python3.7/dist-packages/sklearn/svm/_base.py:947: ConvergenceWarning: Liblinear failed to converge, increase the number of iterations.\n",
            "  \"the number of iterations.\", ConvergenceWarning)\n",
            "/usr/local/lib/python3.7/dist-packages/sklearn/svm/_base.py:947: ConvergenceWarning: Liblinear failed to converge, increase the number of iterations.\n",
            "  \"the number of iterations.\", ConvergenceWarning)\n",
            "/usr/local/lib/python3.7/dist-packages/sklearn/svm/_base.py:947: ConvergenceWarning: Liblinear failed to converge, increase the number of iterations.\n",
            "  \"the number of iterations.\", ConvergenceWarning)\n",
            "/usr/local/lib/python3.7/dist-packages/sklearn/svm/_base.py:947: ConvergenceWarning: Liblinear failed to converge, increase the number of iterations.\n",
            "  \"the number of iterations.\", ConvergenceWarning)\n",
            "/usr/local/lib/python3.7/dist-packages/sklearn/svm/_base.py:947: ConvergenceWarning: Liblinear failed to converge, increase the number of iterations.\n",
            "  \"the number of iterations.\", ConvergenceWarning)\n",
            "/usr/local/lib/python3.7/dist-packages/sklearn/svm/_base.py:947: ConvergenceWarning: Liblinear failed to converge, increase the number of iterations.\n",
            "  \"the number of iterations.\", ConvergenceWarning)\n",
            "/usr/local/lib/python3.7/dist-packages/sklearn/svm/_base.py:947: ConvergenceWarning: Liblinear failed to converge, increase the number of iterations.\n",
            "  \"the number of iterations.\", ConvergenceWarning)\n",
            "/usr/local/lib/python3.7/dist-packages/sklearn/svm/_base.py:947: ConvergenceWarning: Liblinear failed to converge, increase the number of iterations.\n",
            "  \"the number of iterations.\", ConvergenceWarning)\n",
            "/usr/local/lib/python3.7/dist-packages/sklearn/svm/_base.py:947: ConvergenceWarning: Liblinear failed to converge, increase the number of iterations.\n",
            "  \"the number of iterations.\", ConvergenceWarning)\n",
            "/usr/local/lib/python3.7/dist-packages/sklearn/svm/_base.py:947: ConvergenceWarning: Liblinear failed to converge, increase the number of iterations.\n",
            "  \"the number of iterations.\", ConvergenceWarning)\n",
            "/usr/local/lib/python3.7/dist-packages/sklearn/svm/_base.py:947: ConvergenceWarning: Liblinear failed to converge, increase the number of iterations.\n",
            "  \"the number of iterations.\", ConvergenceWarning)\n",
            "/usr/local/lib/python3.7/dist-packages/sklearn/svm/_base.py:947: ConvergenceWarning: Liblinear failed to converge, increase the number of iterations.\n",
            "  \"the number of iterations.\", ConvergenceWarning)\n",
            "/usr/local/lib/python3.7/dist-packages/sklearn/svm/_base.py:947: ConvergenceWarning: Liblinear failed to converge, increase the number of iterations.\n",
            "  \"the number of iterations.\", ConvergenceWarning)\n",
            "/usr/local/lib/python3.7/dist-packages/sklearn/svm/_base.py:947: ConvergenceWarning: Liblinear failed to converge, increase the number of iterations.\n",
            "  \"the number of iterations.\", ConvergenceWarning)\n",
            "/usr/local/lib/python3.7/dist-packages/sklearn/svm/_base.py:947: ConvergenceWarning: Liblinear failed to converge, increase the number of iterations.\n",
            "  \"the number of iterations.\", ConvergenceWarning)\n",
            "/usr/local/lib/python3.7/dist-packages/sklearn/svm/_base.py:947: ConvergenceWarning: Liblinear failed to converge, increase the number of iterations.\n",
            "  \"the number of iterations.\", ConvergenceWarning)\n",
            "/usr/local/lib/python3.7/dist-packages/sklearn/svm/_base.py:947: ConvergenceWarning: Liblinear failed to converge, increase the number of iterations.\n",
            "  \"the number of iterations.\", ConvergenceWarning)\n",
            "/usr/local/lib/python3.7/dist-packages/sklearn/svm/_base.py:947: ConvergenceWarning: Liblinear failed to converge, increase the number of iterations.\n",
            "  \"the number of iterations.\", ConvergenceWarning)\n",
            "/usr/local/lib/python3.7/dist-packages/sklearn/svm/_base.py:947: ConvergenceWarning: Liblinear failed to converge, increase the number of iterations.\n",
            "  \"the number of iterations.\", ConvergenceWarning)\n",
            "/usr/local/lib/python3.7/dist-packages/sklearn/svm/_base.py:947: ConvergenceWarning: Liblinear failed to converge, increase the number of iterations.\n",
            "  \"the number of iterations.\", ConvergenceWarning)\n",
            "/usr/local/lib/python3.7/dist-packages/sklearn/svm/_base.py:947: ConvergenceWarning: Liblinear failed to converge, increase the number of iterations.\n",
            "  \"the number of iterations.\", ConvergenceWarning)\n",
            "/usr/local/lib/python3.7/dist-packages/sklearn/svm/_base.py:947: ConvergenceWarning: Liblinear failed to converge, increase the number of iterations.\n",
            "  \"the number of iterations.\", ConvergenceWarning)\n",
            "/usr/local/lib/python3.7/dist-packages/sklearn/svm/_base.py:947: ConvergenceWarning: Liblinear failed to converge, increase the number of iterations.\n",
            "  \"the number of iterations.\", ConvergenceWarning)\n",
            "/usr/local/lib/python3.7/dist-packages/sklearn/svm/_base.py:947: ConvergenceWarning: Liblinear failed to converge, increase the number of iterations.\n",
            "  \"the number of iterations.\", ConvergenceWarning)\n",
            "/usr/local/lib/python3.7/dist-packages/sklearn/svm/_base.py:947: ConvergenceWarning: Liblinear failed to converge, increase the number of iterations.\n",
            "  \"the number of iterations.\", ConvergenceWarning)\n",
            "/usr/local/lib/python3.7/dist-packages/sklearn/svm/_base.py:947: ConvergenceWarning: Liblinear failed to converge, increase the number of iterations.\n",
            "  \"the number of iterations.\", ConvergenceWarning)\n",
            "/usr/local/lib/python3.7/dist-packages/sklearn/svm/_base.py:947: ConvergenceWarning: Liblinear failed to converge, increase the number of iterations.\n",
            "  \"the number of iterations.\", ConvergenceWarning)\n",
            "/usr/local/lib/python3.7/dist-packages/sklearn/svm/_base.py:947: ConvergenceWarning: Liblinear failed to converge, increase the number of iterations.\n",
            "  \"the number of iterations.\", ConvergenceWarning)\n",
            "/usr/local/lib/python3.7/dist-packages/sklearn/svm/_base.py:947: ConvergenceWarning: Liblinear failed to converge, increase the number of iterations.\n",
            "  \"the number of iterations.\", ConvergenceWarning)\n",
            "/usr/local/lib/python3.7/dist-packages/sklearn/svm/_base.py:947: ConvergenceWarning: Liblinear failed to converge, increase the number of iterations.\n",
            "  \"the number of iterations.\", ConvergenceWarning)\n",
            "/usr/local/lib/python3.7/dist-packages/sklearn/svm/_base.py:947: ConvergenceWarning: Liblinear failed to converge, increase the number of iterations.\n",
            "  \"the number of iterations.\", ConvergenceWarning)\n",
            "/usr/local/lib/python3.7/dist-packages/sklearn/svm/_base.py:947: ConvergenceWarning: Liblinear failed to converge, increase the number of iterations.\n",
            "  \"the number of iterations.\", ConvergenceWarning)\n",
            "/usr/local/lib/python3.7/dist-packages/sklearn/svm/_base.py:947: ConvergenceWarning: Liblinear failed to converge, increase the number of iterations.\n",
            "  \"the number of iterations.\", ConvergenceWarning)\n",
            "/usr/local/lib/python3.7/dist-packages/sklearn/svm/_base.py:947: ConvergenceWarning: Liblinear failed to converge, increase the number of iterations.\n",
            "  \"the number of iterations.\", ConvergenceWarning)\n",
            "/usr/local/lib/python3.7/dist-packages/sklearn/svm/_base.py:947: ConvergenceWarning: Liblinear failed to converge, increase the number of iterations.\n",
            "  \"the number of iterations.\", ConvergenceWarning)\n",
            "/usr/local/lib/python3.7/dist-packages/sklearn/svm/_base.py:947: ConvergenceWarning: Liblinear failed to converge, increase the number of iterations.\n",
            "  \"the number of iterations.\", ConvergenceWarning)\n"
          ],
          "name": "stderr"
        },
        {
          "output_type": "stream",
          "text": [
            "svm with C=10000 --> Acc=0.9467+-0.0542\n"
          ],
          "name": "stdout"
        },
        {
          "output_type": "stream",
          "text": [
            "/usr/local/lib/python3.7/dist-packages/sklearn/svm/_base.py:947: ConvergenceWarning: Liblinear failed to converge, increase the number of iterations.\n",
            "  \"the number of iterations.\", ConvergenceWarning)\n",
            "/usr/local/lib/python3.7/dist-packages/sklearn/svm/_base.py:947: ConvergenceWarning: Liblinear failed to converge, increase the number of iterations.\n",
            "  \"the number of iterations.\", ConvergenceWarning)\n",
            "/usr/local/lib/python3.7/dist-packages/sklearn/svm/_base.py:947: ConvergenceWarning: Liblinear failed to converge, increase the number of iterations.\n",
            "  \"the number of iterations.\", ConvergenceWarning)\n",
            "/usr/local/lib/python3.7/dist-packages/sklearn/svm/_base.py:947: ConvergenceWarning: Liblinear failed to converge, increase the number of iterations.\n",
            "  \"the number of iterations.\", ConvergenceWarning)\n"
          ],
          "name": "stderr"
        },
        {
          "output_type": "stream",
          "text": [
            "svm with C=100000 --> Acc=0.9267+-0.0490\n",
            "-----------------------\n",
            "Best C: 100\n",
            "Average accuracy: 0.9667+-0.0298\n",
            "-----------------------\n"
          ],
          "name": "stdout"
        },
        {
          "output_type": "stream",
          "text": [
            "/usr/local/lib/python3.7/dist-packages/sklearn/svm/_base.py:947: ConvergenceWarning: Liblinear failed to converge, increase the number of iterations.\n",
            "  \"the number of iterations.\", ConvergenceWarning)\n"
          ],
          "name": "stderr"
        },
        {
          "output_type": "display_data",
          "data": {
            "image/png": "[encoded data removed]",
            "text/plain": [
              "<Figure size 432x288 with 1 Axes>"
            ]
          },
          "metadata": {
            "tags": [],
            "needs_background": "light"
          }
        },
        {
          "output_type": "stream",
          "text": [
            "/usr/local/lib/python3.7/dist-packages/sklearn/svm/_base.py:947: ConvergenceWarning: Liblinear failed to converge, increase the number of iterations.\n",
            "  \"the number of iterations.\", ConvergenceWarning)\n",
            "/usr/local/lib/python3.7/dist-packages/sklearn/svm/_base.py:947: ConvergenceWarning: Liblinear failed to converge, increase the number of iterations.\n",
            "  \"the number of iterations.\", ConvergenceWarning)\n",
            "/usr/local/lib/python3.7/dist-packages/sklearn/svm/_base.py:947: ConvergenceWarning: Liblinear failed to converge, increase the number of iterations.\n",
            "  \"the number of iterations.\", ConvergenceWarning)\n",
            "/usr/local/lib/python3.7/dist-packages/sklearn/svm/_base.py:947: ConvergenceWarning: Liblinear failed to converge, increase the number of iterations.\n",
            "  \"the number of iterations.\", ConvergenceWarning)\n",
            "/usr/local/lib/python3.7/dist-packages/sklearn/svm/_base.py:947: ConvergenceWarning: Liblinear failed to converge, increase the number of iterations.\n",
            "  \"the number of iterations.\", ConvergenceWarning)\n"
          ],
          "name": "stderr"
        },
        {
          "output_type": "display_data",
          "data": {
            "image/png": "[encoded data removed]",
            "text/plain": [
              "<Figure size 432x288 with 2 Axes>"
            ]
          },
          "metadata": {
            "tags": [],
            "needs_background": "light"
          }
        }
      ]
    },
    {
      "cell_type": "markdown",
      "metadata": {
        "id": "RmVKjNxVl1Mx"
      },
      "source": [
        "De igual manera, la SVM puede adaptarse utilizando una extensión de la función de pérdida original, la Hinge Loss, propuesta por Crammer y Singer en un paper allá por el 2001. En general, la performance de la SVM no suele mejorar demasiado al migrar hacia esa loss, además de que eleva un poco el costo computacional del algoritmo. Si quieren probarlo, comenten la linea ```classifier=logreg``` y descomenten ```classifier=svm```."
      ]
    },
    {
      "cell_type": "markdown",
      "metadata": {
        "id": "QxLgckNiwdOv"
      },
      "source": [
        "### 6. Problemas no lineales: kernel trick\n",
        "\n",
        "En algunos casos puede ocurrir que los datos que tengamos que clasificar no sean linealmente separables. En este tipo de problemas, los clasificadores lineales suelen obtener una performance bastante modesta, que podría mejorarse si el espacio de características fuera linealmente separable.\n",
        "\n",
        "![](https://leonardoaraujosantos.gitbooks.io/artificial-inteligence/content/more_images/linear_vs_nonlinear_problems.png)\n",
        "\n",
        "Vamos a tomar un subejemplo basado en el mismo conjunto que venimos utilizando para los problemas multiclase. En lugar de usar todas las features, vamos a tomar solamente 2, así podemos graficar el espacio y ver qué ocurre."
      ]
    },
    {
      "cell_type": "code",
      "metadata": {
        "id": "fdptyRg4mJOb",
        "colab": {
          "base_uri": "https://localhost:8080/",
          "height": 295
        },
        "outputId": "b0e6eb13-a1a3-4fe7-975d-40bf6ac867e0"
      },
      "source": [
        "# nos quedamos con las primeras dos columnas del dataset\n",
        "only_two_features = dataset['X'][:,0:2]\n",
        "\n",
        "# los graficamos\n",
        "X0, X1 = only_two_features[:, 0], only_two_features[:, 1]\n",
        "plt.scatter(X0, X1, c=y, cmap=plt.cm.coolwarm, s=20, edgecolors='k')\n",
        "plt.title('Distribution of samples in feature space')\n",
        "plt.xlabel('Sepal length')\n",
        "plt.ylabel('Sepal width')\n",
        "plt.show()"
      ],
      "execution_count": null,
      "outputs": [
        {
          "output_type": "display_data",
          "data": {
            "image/png": "[encoded data removed]",
            "text/plain": [
              "<Figure size 432x288 with 1 Axes>"
            ]
          },
          "metadata": {
            "tags": [],
            "needs_background": "light"
          }
        }
      ]
    },
    {
      "cell_type": "markdown",
      "metadata": {
        "id": "BVyheXgppEMN"
      },
      "source": [
        "Vemos que la clase 0 es linealmente separable respecto a las clases 1 y 2, pero que estas dos no pueden diferenciarse tan fácilmente.\n",
        "\n",
        "Chequeemos qué ocurre si aplicamos una SVM linear sobre estos datos. En lugar de usar LinearSVC como veníamos usando hasta ahora, vamos a usar SVC de Sklearn, pasándole ```kernel='linear'```. Esto equivale a pedirle a la SVM que no utilice ningún kernel, si no que trabaje como el modelo original."
      ]
    },
    {
      "cell_type": "code",
      "metadata": {
        "id": "gpiX6grQoF33"
      },
      "source": [
        "def make_meshgrid(x, y, h=.02):\n",
        "    \"\"\"Create a mesh of points to plot in\n",
        "\n",
        "    Parameters\n",
        "    ----------\n",
        "    x: data to base x-axis meshgrid on\n",
        "    y: data to base y-axis meshgrid on\n",
        "    h: stepsize for meshgrid, optional\n",
        "\n",
        "    Returns\n",
        "    -------\n",
        "    xx, yy : ndarray\n",
        "    \"\"\"\n",
        "    x_min, x_max = x.min() - 1, x.max() + 1\n",
        "    y_min, y_max = y.min() - 1, y.max() + 1\n",
        "    xx, yy = np.meshgrid(np.arange(x_min, x_max, h),\n",
        "                         np.arange(y_min, y_max, h))\n",
        "    return xx, yy\n",
        "\n",
        "\n",
        "def plot_contours(ax, clf, xx, yy, **params):\n",
        "    \"\"\"Plot the decision boundaries for a classifier.\n",
        "\n",
        "    Parameters\n",
        "    ----------\n",
        "    ax: matplotlib axes object\n",
        "    clf: a classifier\n",
        "    xx: meshgrid ndarray\n",
        "    yy: meshgrid ndarray\n",
        "    params: dictionary of params to pass to contourf, optional\n",
        "    \"\"\"\n",
        "    Z = clf.predict(np.c_[xx.ravel(), yy.ravel()])\n",
        "    Z = Z.reshape(xx.shape)\n",
        "    out = ax.contourf(xx, yy, Z, **params)\n",
        "    return out\n",
        "\n",
        "xx, yy = make_meshgrid(X0, X1)"
      ],
      "execution_count": null,
      "outputs": []
    },
    {
      "cell_type": "code",
      "metadata": {
        "id": "X18YYAO1kMzn",
        "colab": {
          "base_uri": "https://localhost:8080/",
          "height": 516
        },
        "outputId": "08f59bb3-d036-4474-aaf5-40ee4327744c"
      },
      "source": [
        "from sklearn.svm import SVC\n",
        "\n",
        "# le ponemos un nombre largo\n",
        "long_name = 'OVR Linear SVM'\n",
        "\n",
        "# valores de C que vamos a probar\n",
        "C_values = [-3, -2, -1, 0, 1, 2, 3]\n",
        "\n",
        "# arreglo para ir guardando los valores de accuracy\n",
        "linear_svm_mean_accuracy = np.zeros(len(C_values))\n",
        "linear_svm_std_accuracy = np.zeros(len(C_values))\n",
        "linear_svm_models = []\n",
        "\n",
        "# iteramos por cada valor de C\n",
        "i = 0\n",
        "print(long_name)\n",
        "print('-----------------------')\n",
        "for c_idx in C_values:\n",
        "  # definimos el modelo\n",
        "  model = SVC(C=10**c_idx, kernel='linear')\n",
        "  linear_svm_models.append(model)\n",
        "  # usamos cross validation para evaluar la performance en cada fold\n",
        "  accuracy_per_fold = cross_val_score(model, \n",
        "                                      only_two_features, dataset['y'], \n",
        "                                      cv=dataset['cross-val-partition'], \n",
        "                                      scoring='accuracy')\n",
        "  # tomamos los valores promedio de accuracy, y tmb el desvío\n",
        "  linear_svm_mean_accuracy[i] = np.mean(accuracy_per_fold)\n",
        "  linear_svm_std_accuracy[i] = np.std(accuracy_per_fold)\n",
        "  # imprimimos\n",
        "  print('{} with C={} --> Acc={:.4f}+-{:.4f}'.format(classifier, 10**c_idx, linear_svm_mean_accuracy[i], linear_svm_std_accuracy[i]))\n",
        "  i=i+1\n",
        "\n",
        "# identificamos el mejor valor de C a partir del accuracy más alto\n",
        "C_idx = np.argmax(linear_svm_mean_accuracy)\n",
        "# imprimimos los resultados por pantalla\n",
        "print('-----------------------')\n",
        "print('Best C: {}'.format(10**C_values[C_idx]))\n",
        "print('Average accuracy: {:.4f}+-{:.4f}'.format(linear_svm_mean_accuracy[C_idx], linear_svm_std_accuracy[C_idx]))\n",
        "print('-----------------------')\n",
        "\n",
        "# la entrenamos sobre todos los datos\n",
        "linear_svm_model = SVC(C=10**C_values[C_idx], kernel='linear')\n",
        "linear_svm_model.fit(only_two_features, dataset['y'])\n",
        "\n",
        "# graficamos los modelos sobre nuestros datos\n",
        "fig, ax = plt.subplots()\n",
        "plot_contours(ax, linear_svm_model, xx, yy, cmap=plt.cm.coolwarm, alpha=0.8)\n",
        "ax.scatter(X0, X1, c=y, cmap=plt.cm.coolwarm, s=20, edgecolors='k')\n",
        "ax.set_xlim(xx.min(), xx.max())\n",
        "ax.set_ylim(yy.min(), yy.max())\n",
        "ax.set_xlabel('Sepal length')\n",
        "ax.set_ylabel('Sepal width')\n",
        "ax.set_xticks(())\n",
        "ax.set_yticks(())\n",
        "ax.set_title(long_name)"
      ],
      "execution_count": null,
      "outputs": [
        {
          "output_type": "stream",
          "text": [
            "OVR Linear SVM\n",
            "-----------------------\n",
            "svm with C=0.001 --> Acc=0.7333+-0.0816\n",
            "svm with C=0.01 --> Acc=0.7600+-0.0573\n",
            "svm with C=0.1 --> Acc=0.7867+-0.0957\n",
            "svm with C=1 --> Acc=0.7867+-0.0748\n",
            "svm with C=10 --> Acc=0.7933+-0.0742\n",
            "svm with C=100 --> Acc=0.7867+-0.0748\n",
            "svm with C=1000 --> Acc=0.7933+-0.0742\n",
            "-----------------------\n",
            "Best C: 10\n",
            "Average accuracy: 0.7933+-0.0742\n",
            "-----------------------\n"
          ],
          "name": "stdout"
        },
        {
          "output_type": "execute_result",
          "data": {
            "text/plain": [
              "Text(0.5, 1.0, 'OVR Linear SVM')"
            ]
          },
          "metadata": {
            "tags": []
          },
          "execution_count": 38
        },
        {
          "output_type": "display_data",
          "data": {
            "image/png": "[encoded data removed]",
            "text/plain": [
              "<Figure size 432x288 with 1 Axes>"
            ]
          },
          "metadata": {
            "tags": []
          }
        }
      ]
    },
    {
      "cell_type": "markdown",
      "metadata": {
        "id": "bnCwoZmjreCs"
      },
      "source": [
        "Podemos ver que el modelo lineal hizo lo que pudo para las clases 1 y 2 (que en principio no parece estar nada mal).\n",
        "\n",
        "Veamos qué ocurre ahora si aplicamos una SVM con un kernel RBF. Recuerden que acá tenemos un hiperparámetro extra: $\\gamma$, que es el multiplicador de la función. Esto implica que la búsqueda que hacíamos antes del valor óptimo de $C$ tenemos que hacerla en conjunto con $\\gamma$. Hagamos esa búsqueda así de paso vemos cómo graficar la evolución conjunta de dos hiperparámetros a la vez."
      ]
    },
    {
      "cell_type": "code",
      "metadata": {
        "id": "Fx4HHzBgX1S2",
        "colab": {
          "base_uri": "https://localhost:8080/",
          "height": 388
        },
        "outputId": "d2ce9ad3-bb72-419d-c74c-49a0280154cb"
      },
      "source": [
        "from sklearn.svm import SVC\n",
        "\n",
        "verbose = False\n",
        "\n",
        "# elegimos el kernel\n",
        "kernel = 'rbf'\n",
        "\n",
        "# inicializamos la lista de valores de C\n",
        "C_values = [-3, -2, -1, 0, 1, 2, 3]\n",
        "# creamos una lista de valores de gamma para la RBF (incluyendo 'auto' y 'scale')\n",
        "gamma_values = list(2.0**np.arange(-5, 5)) + ['auto', 'scale']\n",
        "\n",
        "# inicializamos una matriz en la que iremos guardando los valores de accuracy promedio\n",
        "kernel_classifier_mean_accuracy = np.zeros((len(C_values), len(gamma_values)))\n",
        "\n",
        "# iteramos por cada valor de C y cada valor de gamma\n",
        "print('SVM with RBF kernel')\n",
        "current_accuracy = -1.0\n",
        "best_model = None\n",
        "for c_i in range(len(C_values)):\n",
        "  for gamma_i in range(len(gamma_values)):\n",
        "    # definimos el modelo\n",
        "    model = SVC(C=10**C_values[c_i], kernel=kernel, gamma=gamma_values[gamma_i])\n",
        "    # usamos cross validation para evaluar la performance en cada fold\n",
        "    accuracy_per_fold = cross_val_score(model, \n",
        "                                        only_two_features, dataset['y'], \n",
        "                                        cv=dataset['cross-val-partition'], \n",
        "                                        scoring='accuracy')\n",
        "    if np.mean(accuracy_per_fold) > current_accuracy:\n",
        "      best_model = model\n",
        "      current_accuracy = np.mean(accuracy_per_fold)\n",
        "    # tomamos los valores promedio de accuracy\n",
        "    kernel_classifier_mean_accuracy[c_i, gamma_i] = np.mean(accuracy_per_fold)\n",
        "    # imprimimos (si queremos)\n",
        "    if verbose:\n",
        "      print('Kernel SVM with C={} gamma={} --> Acc={:.4f}'.format(10**C_values[c_i], gamma_values[c_i], kernel_classifier_mean_accuracy[c_i, gamma_i]))\n",
        "\n",
        "# buscamos el elemento con mejor accuracy\n",
        "indices = np.unravel_index(np.argmax(kernel_classifier_mean_accuracy), kernel_classifier_mean_accuracy.shape)\n",
        "print('-----------------------')\n",
        "print('Best C = {}'.format(10.0**C_values[indices[0]]))\n",
        "print('Best gamma = {}'.format(gamma_values[indices[1]]))\n",
        "print('Accuracy on validation set = {:.4f}'.format(kernel_classifier_mean_accuracy[indices[0], indices[1]]))\n",
        "print('-----------------------')\n",
        "\n",
        "# imprimimos la matriz de calidades como una imagen\n",
        "fig, ax = plt.subplots()\n",
        "pos = ax.imshow(kernel_classifier_mean_accuracy)\n",
        "ax.set_xticks(np.arange(0,len(gamma_values)))\n",
        "ax.set_xticklabels(np.asarray(gamma_values,dtype=str), rotation=90)\n",
        "\n",
        "ax.set_yticks(np.arange(0,len(C_values)))\n",
        "ax.set_yticklabels(10.0**np.array(C_values))\n",
        "ax.scatter(indices[1], indices[0])\n",
        "ax.set_xlabel('$\\gamma$')\n",
        "ax.set_ylabel('$C$')\n",
        "fig.colorbar(pos, ax=ax)\n",
        "plt.show()\n"
      ],
      "execution_count": null,
      "outputs": [
        {
          "output_type": "stream",
          "text": [
            "SVM with RBF kernel\n",
            "-----------------------\n",
            "Best C = 0.001\n",
            "Best gamma = 0.125\n",
            "Accuracy on validation set = 0.8000\n",
            "-----------------------\n"
          ],
          "name": "stdout"
        },
        {
          "output_type": "display_data",
          "data": {
            "image/png": "[encoded data removed]",
            "text/plain": [
              "<Figure size 432x288 with 2 Axes>"
            ]
          },
          "metadata": {
            "tags": [],
            "needs_background": "light"
          }
        }
      ]
    },
    {
      "cell_type": "markdown",
      "metadata": {
        "id": "u6h_c0Isu6FY"
      },
      "source": [
        "Una estrategia para poder ver la evolución de ambas variables a la vez es utilizar un heatmap. En este tipo de gráficos mostramos un mapa de calor donde las zonas frías corresponden a valores bajos de performance, y las calientes a valores altos. También agregamos un punto en el lugar donde tenemos la mejor combinación de parámetros.\n",
        "\n",
        "Ahora que conocemos esa configuración óptima, entrenemos el modelo sobre todos los datos y veamos qué obtenemos."
      ]
    },
    {
      "cell_type": "code",
      "metadata": {
        "id": "f_NsKcNhuRw5",
        "colab": {
          "base_uri": "https://localhost:8080/",
          "height": 295
        },
        "outputId": "89e6f0c1-0151-4882-dfda-83599b6585f5"
      },
      "source": [
        "# la entrenamos sobre todos los datos\n",
        "rbf_svm_model = SVC(C=10**C_values[indices[0]], kernel='rbf', gamma=gamma_values[indices[1]])\n",
        "rbf_svm_model.fit(only_two_features, dataset['y'])\n",
        "\n",
        "# graficamos los modelos sobre nuestros datos\n",
        "fig, ax = plt.subplots()\n",
        "plot_contours(ax, rbf_svm_model, xx, yy, cmap=plt.cm.coolwarm, alpha=0.8)\n",
        "ax.scatter(X0, X1, c=y, cmap=plt.cm.coolwarm, s=20, edgecolors='k')\n",
        "ax.set_xlim(xx.min(), xx.max())\n",
        "ax.set_ylim(yy.min(), yy.max())\n",
        "ax.set_xlabel('Sepal length')\n",
        "ax.set_ylabel('Sepal width')\n",
        "ax.set_xticks(())\n",
        "ax.set_yticks(())\n",
        "ax.set_title(long_name)"
      ],
      "execution_count": null,
      "outputs": [
        {
          "output_type": "execute_result",
          "data": {
            "text/plain": [
              "Text(0.5, 1.0, 'OVR Linear SVM')"
            ]
          },
          "metadata": {
            "tags": []
          },
          "execution_count": 40
        },
        {
          "output_type": "display_data",
          "data": {
            "image/png": "[encoded data removed]",
            "text/plain": [
              "<Figure size 432x288 with 1 Axes>"
            ]
          },
          "metadata": {
            "tags": []
          }
        }
      ]
    },
    {
      "cell_type": "markdown",
      "metadata": {
        "id": "ZeQi-FoAxgTC"
      },
      "source": [
        "En este caso se ve con claridad que el algoritmo no mejora significativamente al intentar buscar un borde no-lineal. Esto puede ocurrir muchas veces! Es importante que lo tengan en cuenta siempre, ya que muchas librerías incluyen el RBF por defecto como kernel para la SVM, y puede que terminen usando un modelo subóptimo. Siempre hay que probar todo: lineal y no-lineal, y quedarse con el mejor.\n",
        "\n",
        "Con esto terminamos la unidad 4!"
      ]
    }
  ]
}